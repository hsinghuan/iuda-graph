{
 "cells": [
  {
   "cell_type": "code",
   "execution_count": 1,
   "id": "de8cb502",
   "metadata": {},
   "outputs": [],
   "source": [
    "import numpy as np\n",
    "from copy import deepcopy\n",
    "from tqdm import tqdm\n",
    "import random\n",
    "from typing import Any, Tuple, Optional, Sequence"
   ]
  },
  {
   "cell_type": "code",
   "execution_count": 2,
   "id": "e860f12d",
   "metadata": {},
   "outputs": [
    {
     "name": "stderr",
     "output_type": "stream",
     "text": [
      "/home/hhchung/dyngraph-uda/.venv/lib/python3.8/site-packages/tqdm/auto.py:22: TqdmWarning: IProgress not found. Please update jupyter and ipywidgets. See https://ipywidgets.readthedocs.io/en/stable/user_install.html\n",
      "  from .autonotebook import tqdm as notebook_tqdm\n"
     ]
    }
   ],
   "source": [
    "import torch\n",
    "import torch.nn as nn\n",
    "import torch.nn.functional as F\n",
    "from torch.utils.tensorboard import SummaryWriter\n",
    "from torch_geometric.nn import SAGEConv\n",
    "from torch_geometric.loader import DataLoader\n",
    "from torch.autograd import Function"
   ]
  },
  {
   "cell_type": "code",
   "execution_count": 3,
   "id": "e72e5903",
   "metadata": {},
   "outputs": [],
   "source": [
    "from sklearn.metrics import f1_score"
   ]
  },
  {
   "cell_type": "code",
   "execution_count": 4,
   "id": "e88b8f08",
   "metadata": {},
   "outputs": [],
   "source": [
    "import sys\n",
    "sys.path.append(\"..\")\n",
    "from dataset import load_nc_dataset"
   ]
  },
  {
   "cell_type": "code",
   "execution_count": 5,
   "id": "61fe5e3d",
   "metadata": {},
   "outputs": [],
   "source": [
    "import matplotlib.pyplot as plt"
   ]
  },
  {
   "cell_type": "code",
   "execution_count": 6,
   "id": "1cd60e2f",
   "metadata": {},
   "outputs": [],
   "source": [
    "random_seed = 42\n",
    "torch.manual_seed(random_seed)\n",
    "torch.cuda.manual_seed(random_seed)\n",
    "torch.backends.cudnn.deterministic = True\n",
    "torch.backends.cudnn.benchmark = False\n",
    "np.random.seed(random_seed)\n",
    "random.seed(random_seed)"
   ]
  },
  {
   "cell_type": "markdown",
   "id": "2585e964",
   "metadata": {},
   "source": [
    "## Model Structure ##"
   ]
  },
  {
   "cell_type": "code",
   "execution_count": 7,
   "id": "aa5669cd",
   "metadata": {},
   "outputs": [],
   "source": [
    "class TwoLayerGraphSAGE(nn.Module):\n",
    "    def __init__(self, in_dim, hidden_dim, out_dim, dropout=0.2):\n",
    "        super().__init__()\n",
    "        self.dropout = dropout\n",
    "        self.conv1 = SAGEConv(in_dim, hidden_dim)\n",
    "        self.conv2 = SAGEConv(hidden_dim, out_dim)\n",
    "        \n",
    "    def forward(self, x, edge_index):\n",
    "        x = self.conv1(x, edge_index)\n",
    "        x = F.elu(x)\n",
    "        x = F.dropout(x, p=self.dropout)\n",
    "        \n",
    "        x = self.conv2(x, edge_index)\n",
    "        x = F.elu(x)\n",
    "        return x\n",
    "    \n",
    "class MLPHead(nn.Module):\n",
    "    def __init__(self, in_dim, hidden_dim, out_dim, dropout=0.2):\n",
    "        super().__init__()\n",
    "        self.dropout = dropout\n",
    "        self.linear1 = nn.Linear(in_dim, hidden_dim)\n",
    "        self.linear2 = nn.Linear(hidden_dim, out_dim)\n",
    "    \n",
    "    def forward(self, x):\n",
    "        x1 = self.linear1(x)\n",
    "        x1 = F.elu(x1)\n",
    "        x1 = F.dropout(x1, p=self.dropout)\n",
    "        output = self.linear2(x1)\n",
    "        # x = F.softmax(x, dim=1)\n",
    "        features = x1\n",
    "        return output, features\n"
   ]
  },
  {
   "cell_type": "markdown",
   "id": "8f8a4884",
   "metadata": {},
   "source": [
    "## Data Preparation ##"
   ]
  },
  {
   "cell_type": "markdown",
   "id": "c3195bdf",
   "metadata": {},
   "source": [
    "* Train: 0-6\n",
    "* Val: 7, 8\n",
    "* Test and adapt: 9-13, 14-18, 19-23, 24-28, 29-33, 34-38, 39-43, 44-48"
   ]
  },
  {
   "cell_type": "code",
   "execution_count": 8,
   "id": "6d3f3d06",
   "metadata": {},
   "outputs": [],
   "source": [
    "def get_data(data_dir, dataset, sub_dataset=None):\n",
    "    if dataset == 'elliptic':\n",
    "        data = load_nc_dataset(data_dir, 'elliptic', sub_dataset)\n",
    "    else:\n",
    "        raise ValueError('Invalid dataname')\n",
    "    # if len(data.y.shape) == 1:\n",
    "    #     data.y = data.y.unsqueeze(1)\n",
    "    return data"
   ]
  },
  {
   "cell_type": "code",
   "execution_count": 9,
   "id": "1e2e981c",
   "metadata": {},
   "outputs": [],
   "source": [
    "data_dir = '/home/hhchung/data/graph-data/elliptic_bitcoin_dataset'"
   ]
  },
  {
   "cell_type": "markdown",
   "id": "75ca0a5c",
   "metadata": {},
   "source": [
    "## Train / Test / Adapt Loop ##"
   ]
  },
  {
   "cell_type": "code",
   "execution_count": 10,
   "id": "b1a89c6f",
   "metadata": {},
   "outputs": [],
   "source": [
    "def train(encoder, mlp, optimizer, loader, loss_fn, device='cpu'):\n",
    "    encoder.train()\n",
    "    mlp.train()\n",
    "    optimizer.zero_grad()\n",
    "    \n",
    "    total_train_loss = 0\n",
    "    for data in loader:\n",
    "        data = data.to(device)\n",
    "        out, _ = mlp(encoder(data.x, data.edge_index))\n",
    "        loss = loss_fn(out[data.mask], data.y[data.mask])\n",
    "        loss.backward()\n",
    "        optimizer.step()\n",
    "        total_train_loss += loss.item()\n",
    "    \n",
    "    total_train_loss /= len(loader)\n",
    "    return total_train_loss\n",
    "\n",
    "@torch.no_grad()\n",
    "def test(encoder, mlp, loader, loss_fn, device='cpu'):\n",
    "    encoder.eval()\n",
    "    mlp.eval()\n",
    "    total_val_loss = 0\n",
    "    total_f1 = 0\n",
    "    for data in loader:\n",
    "        data = data.to(device)\n",
    "        out, _ = mlp(encoder(data.x, data.edge_index))\n",
    "        loss = loss_fn(out[data.mask], data.y[data.mask])\n",
    "        y_pred = torch.argmax(out, dim=1)\n",
    "        f1 = f1_score(y_pred[data.mask].detach().cpu().numpy(), data.y[data.mask].detach().cpu().numpy())\n",
    "        total_val_loss += loss.item()\n",
    "        total_f1 += f1\n",
    "    total_val_loss /= len(loader)\n",
    "    total_f1 /= len(loader)\n",
    "    return total_val_loss, total_f1\n",
    "\n"
   ]
  },
  {
   "cell_type": "code",
   "execution_count": 11,
   "id": "38fce16d",
   "metadata": {},
   "outputs": [],
   "source": [
    "def pseudo_label(encoder, classifier, tgt_data, confidence=0.8):\n",
    "    pseudo_y, _ = classifier(encoder(tgt_data.x, tgt_data.edge_index))\n",
    "    pseudo_y = F.softmax(pseudo_y, dim=1)\n",
    "    pseudo_y_confidence, pseudo_y_hard_label = torch.max(pseudo_y, dim=1)\n",
    "    pseudo_mask = pseudo_y_confidence > confidence\n",
    "    return pseudo_y_hard_label, pseudo_mask\n",
    "\n",
    "def adapt_train(encoder, classifier, device, src_loader, tgt_loader, optimizer, lambda_coeff=1):\n",
    "    encoder.train()\n",
    "    classifier.train()\n",
    "    \n",
    "    \n",
    "    total_src_loss = 0\n",
    "    total_src_node = 0\n",
    "    for src_data in tqdm(src_loader):\n",
    "        src_data = src_data.to(device)\n",
    "        src_y, _ = classifier(encoder(src_data.x, src_data.edge_index))\n",
    "        total_src_loss += F.nll_loss(F.log_softmax(src_y[src_data.mask], dim=1), src_data.y[src_data.mask], reduction='sum')\n",
    "        total_src_node += src_data.mask.sum().item()\n",
    "    total_src_loss /= total_src_node\n",
    "    \n",
    "    \n",
    "    total_tgt_loss = 0\n",
    "    total_tgt_node = 0\n",
    "    for tgt_data in tqdm(tgt_loader):\n",
    "        tgt_data = tgt_data.to(device)\n",
    "        pseudo_tgt_label, pseudo_tgt_mask = pseudo_label(encoder, classifier, tgt_data)\n",
    "        tgt_y, _ = classifier(encoder(tgt_data.x, tgt_data.edge_index))\n",
    "        total_tgt_loss += F.nll_loss(F.log_softmax(tgt_y, dim=1)[pseudo_tgt_mask], pseudo_tgt_label[pseudo_tgt_mask], reduction='sum')\n",
    "        # total_tgt_node += tgt_data.x.shape[0]\n",
    "        total_tgt_node += pseudo_tgt_mask.sum().item()\n",
    "    total_tgt_loss /= total_tgt_node\n",
    "    loss = total_src_loss + total_tgt_loss * lambda_coeff\n",
    "    optimizer.zero_grad()\n",
    "    loss.backward()\n",
    "    optimizer.step()\n",
    "    \n",
    "    return loss.item(), total_src_loss.item(), total_tgt_loss.item()\n",
    "    \n",
    "@torch.no_grad()\n",
    "def adapt_test(encoder, classifier, device, src_loader, tgt_loader, lambda_coeff=1):\n",
    "    encoder.eval()\n",
    "    classifier.eval()\n",
    "    \n",
    "    total_src_loss = 0\n",
    "    total_src_node = 0\n",
    "    \n",
    "    for src_data in tqdm(src_loader):\n",
    "        src_data = src_data.to(device)\n",
    "        src_y, _ = classifier(encoder(src_data.x, src_data.edge_index))\n",
    "        total_src_loss += F.nll_loss(F.log_softmax(src_y[src_data.mask], dim=1), src_data.y[src_data.mask], reduction='sum')\n",
    "        total_src_node += src_data.mask.sum().item()\n",
    "    total_src_loss /= total_src_node\n",
    "    \n",
    "    \n",
    "    total_tgt_loss = 0\n",
    "    total_tgt_node = 0\n",
    "    for tgt_data in tqdm(tgt_loader):\n",
    "        tgt_data = tgt_data.to(device)\n",
    "        pseudo_tgt_label, pseudo_tgt_mask = pseudo_label(encoder, classifier, tgt_data)\n",
    "        tgt_y, _ = classifier(encoder(tgt_data.x, tgt_data.edge_index))\n",
    "        total_tgt_loss += F.nll_loss(F.log_softmax(tgt_y, dim=1)[pseudo_tgt_mask], pseudo_tgt_label[pseudo_tgt_mask], reduction='sum')\n",
    "        # total_tgt_node += tgt_data.x.shape[0]\n",
    "        total_tgt_node += pseudo_tgt_mask.sum().item()\n",
    "    total_tgt_loss /= total_tgt_node\n",
    "    loss = total_src_loss + total_tgt_loss * lambda_coeff\n",
    "    \n",
    "    return loss.item(), total_src_loss.item(), total_tgt_loss.item()\n",
    "\n"
   ]
  },
  {
   "cell_type": "markdown",
   "id": "0598cced",
   "metadata": {},
   "source": [
    "## Initial Source Stage ##"
   ]
  },
  {
   "cell_type": "code",
   "execution_count": 12,
   "id": "d96f484e",
   "metadata": {},
   "outputs": [
    {
     "name": "stderr",
     "output_type": "stream",
     "text": [
      "../dataset.py:75: UserWarning: Creating a tensor from a list of numpy.ndarrays is extremely slow. Please consider converting the list to a single numpy.ndarray with numpy.array() before converting to a tensor. (Triggered internally at  ../torch/csrc/utils/tensor_new.cpp:201.)\n",
      "  edge_index = torch.tensor(A.nonzero(), dtype=torch.long)\n"
     ]
    }
   ],
   "source": [
    "elliptic_0 = get_data(data_dir, 'elliptic', 0)\n",
    "feat_dim = elliptic_0.x.shape[1]\n",
    "hidden_dim = 128\n",
    "emb_dim = 128\n",
    "encoder = TwoLayerGraphSAGE(feat_dim, hidden_dim, emb_dim)\n",
    "mlp = MLPHead(emb_dim, emb_dim // 4, 2)\n",
    "\n",
    "loss_fn = nn.CrossEntropyLoss()\n",
    "optimizer = torch.optim.Adam(list(encoder.parameters()) + list(mlp.parameters()), lr=1e-3)\n",
    "epochs = 500\n",
    "device = torch.device('cuda' if torch.cuda.is_available() else 'cpu')\n",
    "encoder = encoder.to(device)\n",
    "mlp = mlp.to(device)"
   ]
  },
  {
   "cell_type": "code",
   "execution_count": 13,
   "id": "6c2f7706",
   "metadata": {
    "scrolled": true
   },
   "outputs": [],
   "source": [
    "split = [0,7,9]\n",
    "train_data = [get_data(data_dir, 'elliptic', i) for i in range(split[0],split[1])]\n",
    "val_data = [get_data(data_dir, 'elliptic', i) for i in range(split[1],split[2])]\n",
    "train_loader = DataLoader(dataset=train_data, batch_size=1, shuffle=True)\n",
    "val_loader = DataLoader(dataset=val_data, batch_size=1, shuffle=False)"
   ]
  },
  {
   "cell_type": "code",
   "execution_count": 14,
   "id": "f7671fb6",
   "metadata": {},
   "outputs": [
    {
     "name": "stdout",
     "output_type": "stream",
     "text": [
      "Epoch:1/500 Train Loss:0.3965 Val Loss:0.4848 Val F1:0.0039\n",
      "Epoch:2/500 Train Loss:0.1371 Val Loss:0.6459 Val F1:0.004\n",
      "Epoch:3/500 Train Loss:0.0979 Val Loss:0.8028 Val F1:0.0079\n",
      "Epoch:4/500 Train Loss:0.1012 Val Loss:0.5666 Val F1:0.1328\n",
      "Epoch:5/500 Train Loss:0.0833 Val Loss:0.3005 Val F1:0.5841\n",
      "Epoch:6/500 Train Loss:0.0839 Val Loss:0.2747 Val F1:0.5738\n",
      "Epoch:7/500 Train Loss:0.0655 Val Loss:0.4344 Val F1:0.1344\n",
      "Epoch:8/500 Train Loss:0.0721 Val Loss:0.5049 Val F1:0.0841\n",
      "Epoch:9/500 Train Loss:0.0682 Val Loss:0.3919 Val F1:0.1701\n",
      "Epoch:10/500 Train Loss:0.0585 Val Loss:0.2602 Val F1:0.5697\n",
      "Epoch:11/500 Train Loss:0.06 Val Loss:0.2372 Val F1:0.6526\n",
      "Epoch:12/500 Train Loss:0.0514 Val Loss:0.2533 Val F1:0.589\n",
      "Epoch:13/500 Train Loss:0.0478 Val Loss:0.2584 Val F1:0.5856\n",
      "Epoch:14/500 Train Loss:0.0441 Val Loss:0.2189 Val F1:0.6512\n",
      "Epoch:15/500 Train Loss:0.0428 Val Loss:0.2107 Val F1:0.6396\n",
      "Epoch:16/500 Train Loss:0.0386 Val Loss:0.2036 Val F1:0.6899\n",
      "Epoch:17/500 Train Loss:0.0388 Val Loss:0.2035 Val F1:0.6948\n",
      "Epoch:18/500 Train Loss:0.0366 Val Loss:0.2046 Val F1:0.6931\n",
      "Epoch:19/500 Train Loss:0.0361 Val Loss:0.1899 Val F1:0.7406\n",
      "Epoch:20/500 Train Loss:0.0343 Val Loss:0.1802 Val F1:0.755\n",
      "Epoch:21/500 Train Loss:0.0332 Val Loss:0.1937 Val F1:0.7297\n",
      "Epoch:22/500 Train Loss:0.0327 Val Loss:0.1972 Val F1:0.6844\n",
      "Epoch:23/500 Train Loss:0.0306 Val Loss:0.1824 Val F1:0.7498\n",
      "Epoch:24/500 Train Loss:0.0289 Val Loss:0.1776 Val F1:0.7691\n",
      "Epoch:25/500 Train Loss:0.0278 Val Loss:0.1888 Val F1:0.7144\n",
      "Epoch:26/500 Train Loss:0.0269 Val Loss:0.1989 Val F1:0.7328\n",
      "Epoch:27/500 Train Loss:0.0252 Val Loss:0.1844 Val F1:0.7505\n",
      "Epoch:28/500 Train Loss:0.0273 Val Loss:0.2125 Val F1:0.6903\n",
      "Epoch:29/500 Train Loss:0.0248 Val Loss:0.1965 Val F1:0.7231\n",
      "Epoch:30/500 Train Loss:0.024 Val Loss:0.1972 Val F1:0.7359\n",
      "Epoch:31/500 Train Loss:0.0243 Val Loss:0.2204 Val F1:0.695\n",
      "Epoch:32/500 Train Loss:0.0237 Val Loss:0.1968 Val F1:0.7621\n",
      "Epoch:33/500 Train Loss:0.025 Val Loss:0.1888 Val F1:0.7576\n",
      "Epoch:34/500 Train Loss:0.0229 Val Loss:0.195 Val F1:0.7233\n",
      "Epoch:35/500 Train Loss:0.0237 Val Loss:0.218 Val F1:0.7139\n",
      "Epoch:36/500 Train Loss:0.0211 Val Loss:0.2226 Val F1:0.7265\n",
      "Epoch:37/500 Train Loss:0.0228 Val Loss:0.2192 Val F1:0.7062\n",
      "Epoch:38/500 Train Loss:0.0276 Val Loss:0.2085 Val F1:0.7356\n",
      "Epoch:39/500 Train Loss:0.028 Val Loss:0.1871 Val F1:0.7707\n",
      "Epoch:40/500 Train Loss:0.0189 Val Loss:0.3405 Val F1:0.5984\n",
      "Epoch:41/500 Train Loss:0.0411 Val Loss:0.2425 Val F1:0.7074\n",
      "Epoch:42/500 Train Loss:0.0574 Val Loss:0.3525 Val F1:0.6002\n",
      "Epoch:43/500 Train Loss:0.0967 Val Loss:0.8221 Val F1:0.2175\n",
      "Epoch:44/500 Train Loss:0.0806 Val Loss:0.4588 Val F1:0.2649\n",
      "Epoch:45/500 Train Loss:0.0721 Val Loss:0.2864 Val F1:0.4609\n",
      "Epoch:46/500 Train Loss:0.0609 Val Loss:0.3894 Val F1:0.389\n",
      "Epoch:47/500 Train Loss:0.0486 Val Loss:0.3812 Val F1:0.5189\n",
      "Epoch:48/500 Train Loss:0.0447 Val Loss:0.2474 Val F1:0.7259\n",
      "Epoch:49/500 Train Loss:0.0591 Val Loss:0.1963 Val F1:0.7391\n",
      "Epoch:50/500 Train Loss:0.0287 Val Loss:0.295 Val F1:0.5588\n",
      "Epoch:51/500 Train Loss:0.0384 Val Loss:0.2638 Val F1:0.5976\n",
      "Epoch:52/500 Train Loss:0.0277 Val Loss:0.185 Val F1:0.6881\n",
      "Epoch:53/500 Train Loss:0.0245 Val Loss:0.1703 Val F1:0.7399\n",
      "Epoch:54/500 Train Loss:0.0237 Val Loss:0.1779 Val F1:0.7289\n",
      "Epoch:55/500 Train Loss:0.0214 Val Loss:0.208 Val F1:0.7039\n",
      "Epoch:56/500 Train Loss:0.0201 Val Loss:0.1955 Val F1:0.7183\n",
      "Epoch:57/500 Train Loss:0.0178 Val Loss:0.1954 Val F1:0.7305\n",
      "Epoch:58/500 Train Loss:0.0187 Val Loss:0.1823 Val F1:0.7379\n",
      "Epoch:59/500 Train Loss:0.0176 Val Loss:0.1853 Val F1:0.753\n",
      "Epoch:60/500 Train Loss:0.0157 Val Loss:0.1856 Val F1:0.7531\n",
      "Epoch:61/500 Train Loss:0.0148 Val Loss:0.1979 Val F1:0.7434\n",
      "Epoch:62/500 Train Loss:0.0147 Val Loss:0.2002 Val F1:0.7085\n",
      "Epoch:63/500 Train Loss:0.0152 Val Loss:0.1989 Val F1:0.7728\n",
      "Epoch:64/500 Train Loss:0.0136 Val Loss:0.1922 Val F1:0.7494\n",
      "Epoch:65/500 Train Loss:0.0126 Val Loss:0.2056 Val F1:0.7122\n",
      "Epoch:66/500 Train Loss:0.0128 Val Loss:0.1989 Val F1:0.7445\n",
      "Epoch:67/500 Train Loss:0.0132 Val Loss:0.2034 Val F1:0.7566\n",
      "Epoch:68/500 Train Loss:0.0123 Val Loss:0.2111 Val F1:0.7473\n",
      "Epoch:69/500 Train Loss:0.0119 Val Loss:0.2279 Val F1:0.7145\n",
      "Epoch:70/500 Train Loss:0.0125 Val Loss:0.2078 Val F1:0.7172\n",
      "Epoch:71/500 Train Loss:0.0102 Val Loss:0.2256 Val F1:0.7196\n",
      "Epoch:72/500 Train Loss:0.0109 Val Loss:0.2212 Val F1:0.7545\n",
      "Epoch:73/500 Train Loss:0.0094 Val Loss:0.2062 Val F1:0.7777\n",
      "Epoch:74/500 Train Loss:0.0103 Val Loss:0.226 Val F1:0.7375\n",
      "Epoch:75/500 Train Loss:0.0102 Val Loss:0.2305 Val F1:0.7093\n",
      "Epoch:76/500 Train Loss:0.0105 Val Loss:0.2206 Val F1:0.7594\n",
      "Epoch:77/500 Train Loss:0.0124 Val Loss:0.2258 Val F1:0.7685\n",
      "Epoch:78/500 Train Loss:0.0103 Val Loss:0.2526 Val F1:0.7306\n",
      "Epoch:79/500 Train Loss:0.0108 Val Loss:0.2257 Val F1:0.7395\n",
      "Epoch:80/500 Train Loss:0.0082 Val Loss:0.2173 Val F1:0.7807\n",
      "Epoch:81/500 Train Loss:0.008 Val Loss:0.2387 Val F1:0.7386\n",
      "Epoch:82/500 Train Loss:0.0101 Val Loss:0.2448 Val F1:0.7239\n",
      "Epoch:83/500 Train Loss:0.0129 Val Loss:0.2773 Val F1:0.6939\n",
      "Epoch:84/500 Train Loss:0.0104 Val Loss:0.2479 Val F1:0.7565\n",
      "Epoch:85/500 Train Loss:0.0095 Val Loss:0.24 Val F1:0.743\n",
      "Epoch:86/500 Train Loss:0.0085 Val Loss:0.2565 Val F1:0.7463\n",
      "Epoch:87/500 Train Loss:0.0083 Val Loss:0.2548 Val F1:0.7345\n",
      "Epoch:88/500 Train Loss:0.0079 Val Loss:0.2174 Val F1:0.7594\n",
      "Epoch:89/500 Train Loss:0.0113 Val Loss:0.245 Val F1:0.7423\n",
      "Epoch:90/500 Train Loss:0.0088 Val Loss:0.2844 Val F1:0.7157\n",
      "Epoch:91/500 Train Loss:0.0095 Val Loss:0.269 Val F1:0.7221\n",
      "Epoch:92/500 Train Loss:0.0088 Val Loss:0.2699 Val F1:0.7512\n",
      "Epoch:93/500 Train Loss:0.0123 Val Loss:0.2553 Val F1:0.7505\n",
      "Epoch:94/500 Train Loss:0.0144 Val Loss:0.2835 Val F1:0.7136\n",
      "Epoch:95/500 Train Loss:0.0092 Val Loss:0.2387 Val F1:0.7877\n",
      "Epoch:96/500 Train Loss:0.0088 Val Loss:0.221 Val F1:0.7964\n",
      "Epoch:97/500 Train Loss:0.0078 Val Loss:0.2824 Val F1:0.687\n",
      "Epoch:98/500 Train Loss:0.0105 Val Loss:0.2307 Val F1:0.7656\n",
      "Epoch:99/500 Train Loss:0.0125 Val Loss:0.2751 Val F1:0.7598\n",
      "Epoch:100/500 Train Loss:0.0079 Val Loss:0.241 Val F1:0.7347\n",
      "Epoch:101/500 Train Loss:0.0132 Val Loss:0.3182 Val F1:0.6855\n",
      "Epoch:102/500 Train Loss:0.0095 Val Loss:0.2588 Val F1:0.7202\n",
      "Epoch:103/500 Train Loss:0.0109 Val Loss:0.2377 Val F1:0.7687\n",
      "Epoch:104/500 Train Loss:0.0112 Val Loss:0.2499 Val F1:0.7762\n",
      "Epoch:105/500 Train Loss:0.0116 Val Loss:0.3364 Val F1:0.6962\n",
      "Epoch:106/500 Train Loss:0.0105 Val Loss:0.275 Val F1:0.7622\n",
      "Epoch:107/500 Train Loss:0.0076 Val Loss:0.2428 Val F1:0.7491\n",
      "Epoch:108/500 Train Loss:0.0082 Val Loss:0.2434 Val F1:0.7618\n",
      "Epoch:109/500 Train Loss:0.0067 Val Loss:0.2862 Val F1:0.7131\n",
      "Epoch:110/500 Train Loss:0.0087 Val Loss:0.2889 Val F1:0.7082\n",
      "Epoch:111/500 Train Loss:0.0067 Val Loss:0.2667 Val F1:0.7346\n",
      "Epoch:112/500 Train Loss:0.0078 Val Loss:0.264 Val F1:0.7826\n",
      "Epoch:113/500 Train Loss:0.0063 Val Loss:0.2929 Val F1:0.7095\n",
      "Epoch:114/500 Train Loss:0.0073 Val Loss:0.2735 Val F1:0.7471\n",
      "Epoch:115/500 Train Loss:0.0056 Val Loss:0.2492 Val F1:0.7805\n",
      "Epoch:116/500 Train Loss:0.0068 Val Loss:0.2676 Val F1:0.7765\n",
      "Epoch:117/500 Train Loss:0.0052 Val Loss:0.2841 Val F1:0.7261\n",
      "Epoch:118/500 Train Loss:0.0063 Val Loss:0.3064 Val F1:0.6918\n",
      "Epoch:119/500 Train Loss:0.0061 Val Loss:0.2755 Val F1:0.7186\n",
      "Epoch:120/500 Train Loss:0.0048 Val Loss:0.2686 Val F1:0.7587\n",
      "Epoch:121/500 Train Loss:0.0062 Val Loss:0.2818 Val F1:0.7774\n",
      "Epoch:122/500 Train Loss:0.0061 Val Loss:0.3323 Val F1:0.7286\n",
      "Epoch:123/500 Train Loss:0.0081 Val Loss:0.2969 Val F1:0.7571\n",
      "Epoch:124/500 Train Loss:0.0069 Val Loss:0.284 Val F1:0.7618\n",
      "Epoch:125/500 Train Loss:0.0076 Val Loss:0.28 Val F1:0.7514\n",
      "Epoch:126/500 Train Loss:0.0077 Val Loss:0.3802 Val F1:0.6776\n",
      "Epoch:127/500 Train Loss:0.0082 Val Loss:0.2661 Val F1:0.7616\n",
      "Epoch:128/500 Train Loss:0.0119 Val Loss:0.2678 Val F1:0.7693\n",
      "Epoch:129/500 Train Loss:0.0071 Val Loss:0.324 Val F1:0.6987\n",
      "Epoch:130/500 Train Loss:0.0155 Val Loss:0.3845 Val F1:0.6715\n",
      "Epoch:131/500 Train Loss:0.0074 Val Loss:0.2392 Val F1:0.7661\n",
      "Epoch:132/500 Train Loss:0.0102 Val Loss:0.2794 Val F1:0.7857\n",
      "Epoch:133/500 Train Loss:0.0068 Val Loss:0.2701 Val F1:0.7576\n",
      "Epoch:134/500 Train Loss:0.0081 Val Loss:0.3489 Val F1:0.6805\n",
      "Epoch:135/500 Train Loss:0.0074 Val Loss:0.3216 Val F1:0.6742\n",
      "Epoch:136/500 Train Loss:0.0052 Val Loss:0.2665 Val F1:0.7346\n",
      "Epoch:137/500 Train Loss:0.0054 Val Loss:0.2616 Val F1:0.7699\n"
     ]
    },
    {
     "name": "stdout",
     "output_type": "stream",
     "text": [
      "Epoch:138/500 Train Loss:0.0038 Val Loss:0.239 Val F1:0.7775\n",
      "Epoch:139/500 Train Loss:0.0041 Val Loss:0.249 Val F1:0.7442\n",
      "Epoch:140/500 Train Loss:0.0038 Val Loss:0.2512 Val F1:0.7715\n",
      "Epoch:141/500 Train Loss:0.003 Val Loss:0.271 Val F1:0.7449\n",
      "Epoch:142/500 Train Loss:0.0035 Val Loss:0.2871 Val F1:0.722\n",
      "Epoch:143/500 Train Loss:0.0029 Val Loss:0.2909 Val F1:0.7256\n",
      "Epoch:144/500 Train Loss:0.003 Val Loss:0.3036 Val F1:0.7267\n",
      "Epoch:145/500 Train Loss:0.0038 Val Loss:0.2901 Val F1:0.7193\n",
      "Epoch:146/500 Train Loss:0.0028 Val Loss:0.2764 Val F1:0.7448\n",
      "Epoch:147/500 Train Loss:0.0034 Val Loss:0.2884 Val F1:0.7801\n",
      "Epoch:148/500 Train Loss:0.0033 Val Loss:0.3036 Val F1:0.7505\n",
      "Epoch:149/500 Train Loss:0.0025 Val Loss:0.2989 Val F1:0.7433\n",
      "Epoch:150/500 Train Loss:0.003 Val Loss:0.286 Val F1:0.7362\n",
      "Epoch:151/500 Train Loss:0.0022 Val Loss:0.3057 Val F1:0.7445\n",
      "Epoch:152/500 Train Loss:0.0026 Val Loss:0.2751 Val F1:0.7484\n",
      "Epoch:153/500 Train Loss:0.0021 Val Loss:0.3205 Val F1:0.7296\n",
      "Epoch:154/500 Train Loss:0.003 Val Loss:0.304 Val F1:0.7562\n",
      "Epoch:155/500 Train Loss:0.0036 Val Loss:0.2882 Val F1:0.7811\n",
      "Epoch:156/500 Train Loss:0.0029 Val Loss:0.28 Val F1:0.7672\n",
      "Epoch:157/500 Train Loss:0.0029 Val Loss:0.3046 Val F1:0.7628\n",
      "Epoch:158/500 Train Loss:0.0024 Val Loss:0.303 Val F1:0.7736\n",
      "Epoch:159/500 Train Loss:0.0029 Val Loss:0.3188 Val F1:0.742\n",
      "Epoch:160/500 Train Loss:0.0024 Val Loss:0.3626 Val F1:0.7325\n",
      "Epoch:161/500 Train Loss:0.0026 Val Loss:0.3533 Val F1:0.7432\n",
      "Epoch:162/500 Train Loss:0.0027 Val Loss:0.2989 Val F1:0.7688\n",
      "Epoch:163/500 Train Loss:0.0036 Val Loss:0.3212 Val F1:0.7683\n",
      "Epoch:164/500 Train Loss:0.0027 Val Loss:0.3607 Val F1:0.7589\n",
      "Epoch:165/500 Train Loss:0.0048 Val Loss:0.3904 Val F1:0.7368\n",
      "Epoch:166/500 Train Loss:0.0035 Val Loss:0.3925 Val F1:0.7278\n",
      "Epoch:167/500 Train Loss:0.0047 Val Loss:0.3359 Val F1:0.7336\n",
      "Epoch:168/500 Train Loss:0.0041 Val Loss:0.407 Val F1:0.6914\n",
      "Epoch:169/500 Train Loss:0.0032 Val Loss:0.36 Val F1:0.7116\n",
      "Epoch:170/500 Train Loss:0.0026 Val Loss:0.3589 Val F1:0.7212\n",
      "Epoch:171/500 Train Loss:0.0041 Val Loss:0.3354 Val F1:0.7401\n",
      "Epoch:172/500 Train Loss:0.0026 Val Loss:0.3596 Val F1:0.7464\n",
      "Epoch:173/500 Train Loss:0.0027 Val Loss:0.3634 Val F1:0.7284\n",
      "Epoch:174/500 Train Loss:0.0025 Val Loss:0.3479 Val F1:0.7448\n",
      "Epoch:175/500 Train Loss:0.0026 Val Loss:0.3542 Val F1:0.7497\n",
      "Epoch:176/500 Train Loss:0.0023 Val Loss:0.3794 Val F1:0.7336\n",
      "Epoch:177/500 Train Loss:0.0023 Val Loss:0.3893 Val F1:0.7226\n",
      "Epoch:178/500 Train Loss:0.0028 Val Loss:0.4053 Val F1:0.702\n",
      "Epoch:179/500 Train Loss:0.0029 Val Loss:0.3864 Val F1:0.7168\n",
      "Epoch:180/500 Train Loss:0.0024 Val Loss:0.4098 Val F1:0.7104\n",
      "Epoch:181/500 Train Loss:0.0017 Val Loss:0.3361 Val F1:0.7544\n",
      "Epoch:182/500 Train Loss:0.0017 Val Loss:0.3492 Val F1:0.7483\n",
      "Epoch:183/500 Train Loss:0.0016 Val Loss:0.344 Val F1:0.7712\n",
      "Epoch:184/500 Train Loss:0.0017 Val Loss:0.3683 Val F1:0.7641\n",
      "Epoch:185/500 Train Loss:0.0016 Val Loss:0.3535 Val F1:0.7372\n",
      "Epoch:186/500 Train Loss:0.0014 Val Loss:0.3958 Val F1:0.7252\n",
      "Epoch:187/500 Train Loss:0.0026 Val Loss:0.3759 Val F1:0.7392\n",
      "Epoch:188/500 Train Loss:0.0021 Val Loss:0.3838 Val F1:0.7427\n",
      "Epoch:189/500 Train Loss:0.0019 Val Loss:0.4428 Val F1:0.7318\n",
      "Epoch:190/500 Train Loss:0.003 Val Loss:0.4095 Val F1:0.7462\n",
      "Epoch:191/500 Train Loss:0.0024 Val Loss:0.3656 Val F1:0.7403\n",
      "Epoch:192/500 Train Loss:0.0026 Val Loss:0.3636 Val F1:0.7652\n",
      "Epoch:193/500 Train Loss:0.0024 Val Loss:0.421 Val F1:0.7228\n",
      "Epoch:194/500 Train Loss:0.0019 Val Loss:0.452 Val F1:0.7065\n",
      "Epoch:195/500 Train Loss:0.0016 Val Loss:0.4499 Val F1:0.7047\n",
      "Epoch:196/500 Train Loss:0.0014 Val Loss:0.4152 Val F1:0.7316\n",
      "Epoch:197/500 Train Loss:0.0016 Val Loss:0.3943 Val F1:0.7127\n",
      "Epoch:198/500 Train Loss:0.0013 Val Loss:0.4172 Val F1:0.7459\n",
      "Epoch:199/500 Train Loss:0.0012 Val Loss:0.3842 Val F1:0.7332\n",
      "Epoch:200/500 Train Loss:0.0011 Val Loss:0.4106 Val F1:0.7575\n",
      "Epoch:201/500 Train Loss:0.0018 Val Loss:0.3959 Val F1:0.7619\n",
      "Epoch:202/500 Train Loss:0.0021 Val Loss:0.3981 Val F1:0.7172\n",
      "Epoch:203/500 Train Loss:0.0021 Val Loss:0.4193 Val F1:0.7401\n",
      "Epoch:204/500 Train Loss:0.001 Val Loss:0.3989 Val F1:0.7515\n",
      "Epoch:205/500 Train Loss:0.0024 Val Loss:0.39 Val F1:0.7521\n",
      "Epoch:206/500 Train Loss:0.0011 Val Loss:0.4259 Val F1:0.7634\n",
      "Epoch:207/500 Train Loss:0.0009 Val Loss:0.4048 Val F1:0.7407\n",
      "Epoch:208/500 Train Loss:0.0017 Val Loss:0.4398 Val F1:0.7467\n",
      "Epoch:209/500 Train Loss:0.0018 Val Loss:0.4199 Val F1:0.7378\n",
      "Epoch:210/500 Train Loss:0.001 Val Loss:0.4359 Val F1:0.7411\n",
      "Epoch:211/500 Train Loss:0.0011 Val Loss:0.4688 Val F1:0.735\n",
      "Epoch:212/500 Train Loss:0.0008 Val Loss:0.4603 Val F1:0.7325\n",
      "Epoch:213/500 Train Loss:0.003 Val Loss:0.4613 Val F1:0.7255\n",
      "Epoch:214/500 Train Loss:0.0019 Val Loss:0.4496 Val F1:0.706\n",
      "Epoch:215/500 Train Loss:0.0025 Val Loss:0.4288 Val F1:0.7338\n",
      "Epoch:216/500 Train Loss:0.002 Val Loss:0.3868 Val F1:0.7678\n",
      "Epoch:217/500 Train Loss:0.0017 Val Loss:0.3863 Val F1:0.781\n",
      "Epoch:218/500 Train Loss:0.0021 Val Loss:0.3907 Val F1:0.7939\n",
      "Epoch:219/500 Train Loss:0.0013 Val Loss:0.4131 Val F1:0.7431\n",
      "Epoch:220/500 Train Loss:0.0017 Val Loss:0.4265 Val F1:0.7529\n",
      "Epoch:221/500 Train Loss:0.0017 Val Loss:0.4247 Val F1:0.7465\n",
      "Epoch:222/500 Train Loss:0.0016 Val Loss:0.4062 Val F1:0.7563\n",
      "Epoch:223/500 Train Loss:0.0021 Val Loss:0.4414 Val F1:0.7594\n",
      "Epoch:224/500 Train Loss:0.0029 Val Loss:0.4586 Val F1:0.7286\n",
      "Epoch:225/500 Train Loss:0.0025 Val Loss:0.4204 Val F1:0.753\n",
      "Epoch:226/500 Train Loss:0.0057 Val Loss:0.3942 Val F1:0.7789\n",
      "Epoch:227/500 Train Loss:0.0054 Val Loss:0.5322 Val F1:0.6721\n",
      "Epoch:228/500 Train Loss:0.0088 Val Loss:0.5146 Val F1:0.7503\n",
      "Epoch:229/500 Train Loss:0.0692 Val Loss:0.5887 Val F1:0.6168\n",
      "Epoch:230/500 Train Loss:0.0918 Val Loss:0.5733 Val F1:0.5013\n",
      "Epoch:231/500 Train Loss:0.0286 Val Loss:0.2273 Val F1:0.711\n",
      "Epoch:232/500 Train Loss:0.0341 Val Loss:0.2025 Val F1:0.7153\n",
      "Epoch:233/500 Train Loss:0.0227 Val Loss:0.2923 Val F1:0.6081\n",
      "Epoch:234/500 Train Loss:0.026 Val Loss:0.2607 Val F1:0.6886\n",
      "Epoch:235/500 Train Loss:0.0169 Val Loss:0.1871 Val F1:0.7443\n",
      "Epoch:236/500 Train Loss:0.0135 Val Loss:0.187 Val F1:0.7919\n",
      "Epoch:237/500 Train Loss:0.0112 Val Loss:0.1966 Val F1:0.76\n",
      "Epoch:238/500 Train Loss:0.0078 Val Loss:0.2144 Val F1:0.7724\n",
      "Epoch:239/500 Train Loss:0.0065 Val Loss:0.2406 Val F1:0.7431\n",
      "Epoch:240/500 Train Loss:0.0053 Val Loss:0.2674 Val F1:0.7402\n",
      "Epoch:241/500 Train Loss:0.0048 Val Loss:0.283 Val F1:0.7503\n",
      "Epoch:242/500 Train Loss:0.0041 Val Loss:0.2719 Val F1:0.738\n",
      "Epoch:243/500 Train Loss:0.0041 Val Loss:0.3159 Val F1:0.7067\n",
      "Epoch:244/500 Train Loss:0.0035 Val Loss:0.3043 Val F1:0.6966\n",
      "Epoch:245/500 Train Loss:0.0028 Val Loss:0.3271 Val F1:0.7113\n",
      "Epoch:246/500 Train Loss:0.0025 Val Loss:0.3272 Val F1:0.7063\n",
      "Epoch:247/500 Train Loss:0.0026 Val Loss:0.3159 Val F1:0.7346\n",
      "Epoch:248/500 Train Loss:0.0023 Val Loss:0.3229 Val F1:0.7418\n",
      "Epoch:249/500 Train Loss:0.0019 Val Loss:0.3249 Val F1:0.7405\n",
      "Epoch:250/500 Train Loss:0.0024 Val Loss:0.3068 Val F1:0.7604\n",
      "Epoch:251/500 Train Loss:0.0019 Val Loss:0.3374 Val F1:0.7342\n",
      "Epoch:252/500 Train Loss:0.0016 Val Loss:0.3346 Val F1:0.741\n",
      "Epoch:253/500 Train Loss:0.0021 Val Loss:0.3347 Val F1:0.7368\n",
      "Epoch:254/500 Train Loss:0.0031 Val Loss:0.324 Val F1:0.7702\n",
      "Epoch:255/500 Train Loss:0.0024 Val Loss:0.3391 Val F1:0.7495\n",
      "Epoch:256/500 Train Loss:0.0023 Val Loss:0.3244 Val F1:0.7507\n",
      "Epoch:257/500 Train Loss:0.0026 Val Loss:0.3391 Val F1:0.7628\n",
      "Epoch:258/500 Train Loss:0.0017 Val Loss:0.3395 Val F1:0.7417\n",
      "Epoch:259/500 Train Loss:0.0025 Val Loss:0.323 Val F1:0.7419\n",
      "Epoch:260/500 Train Loss:0.0022 Val Loss:0.3231 Val F1:0.7302\n",
      "Epoch:261/500 Train Loss:0.0016 Val Loss:0.3339 Val F1:0.7552\n",
      "Epoch:262/500 Train Loss:0.0017 Val Loss:0.3365 Val F1:0.7701\n",
      "Epoch:263/500 Train Loss:0.0011 Val Loss:0.3456 Val F1:0.7272\n",
      "Epoch:264/500 Train Loss:0.0014 Val Loss:0.3744 Val F1:0.7498\n",
      "Epoch:265/500 Train Loss:0.0017 Val Loss:0.3635 Val F1:0.7233\n",
      "Epoch:266/500 Train Loss:0.0015 Val Loss:0.3517 Val F1:0.7295\n",
      "Epoch:267/500 Train Loss:0.0014 Val Loss:0.3758 Val F1:0.7334\n",
      "Epoch:268/500 Train Loss:0.0012 Val Loss:0.3757 Val F1:0.7215\n",
      "Epoch:269/500 Train Loss:0.0012 Val Loss:0.3933 Val F1:0.738\n",
      "Epoch:270/500 Train Loss:0.0022 Val Loss:0.3644 Val F1:0.7759\n",
      "Epoch:271/500 Train Loss:0.0011 Val Loss:0.3891 Val F1:0.7557\n",
      "Epoch:272/500 Train Loss:0.0017 Val Loss:0.3711 Val F1:0.7797\n"
     ]
    },
    {
     "name": "stdout",
     "output_type": "stream",
     "text": [
      "Epoch:273/500 Train Loss:0.0021 Val Loss:0.3579 Val F1:0.7599\n",
      "Epoch:274/500 Train Loss:0.0015 Val Loss:0.3756 Val F1:0.7258\n",
      "Epoch:275/500 Train Loss:0.0013 Val Loss:0.3763 Val F1:0.7545\n",
      "Epoch:276/500 Train Loss:0.0014 Val Loss:0.3841 Val F1:0.741\n",
      "Epoch:277/500 Train Loss:0.001 Val Loss:0.3823 Val F1:0.761\n",
      "Epoch:278/500 Train Loss:0.0016 Val Loss:0.3814 Val F1:0.7354\n",
      "Epoch:279/500 Train Loss:0.001 Val Loss:0.408 Val F1:0.738\n",
      "Epoch:280/500 Train Loss:0.0011 Val Loss:0.4167 Val F1:0.7094\n",
      "Epoch:281/500 Train Loss:0.0013 Val Loss:0.3942 Val F1:0.7342\n",
      "Epoch:282/500 Train Loss:0.001 Val Loss:0.3799 Val F1:0.7438\n",
      "Epoch:283/500 Train Loss:0.0013 Val Loss:0.4124 Val F1:0.7383\n",
      "Epoch:284/500 Train Loss:0.0006 Val Loss:0.4175 Val F1:0.7486\n",
      "Epoch:285/500 Train Loss:0.0008 Val Loss:0.4321 Val F1:0.7104\n",
      "Epoch:286/500 Train Loss:0.0009 Val Loss:0.4261 Val F1:0.7374\n",
      "Epoch:287/500 Train Loss:0.0006 Val Loss:0.3755 Val F1:0.7538\n",
      "Epoch:288/500 Train Loss:0.0011 Val Loss:0.3928 Val F1:0.7582\n",
      "Epoch:289/500 Train Loss:0.0003 Val Loss:0.3964 Val F1:0.756\n",
      "Epoch:290/500 Train Loss:0.0004 Val Loss:0.389 Val F1:0.7499\n",
      "Epoch:291/500 Train Loss:0.0008 Val Loss:0.4358 Val F1:0.7599\n",
      "Epoch:292/500 Train Loss:0.0012 Val Loss:0.4101 Val F1:0.7503\n",
      "Epoch:293/500 Train Loss:0.0006 Val Loss:0.418 Val F1:0.7275\n",
      "Epoch:294/500 Train Loss:0.0005 Val Loss:0.4188 Val F1:0.7464\n",
      "Epoch:295/500 Train Loss:0.0016 Val Loss:0.428 Val F1:0.7399\n",
      "Epoch:296/500 Train Loss:0.0003 Val Loss:0.4106 Val F1:0.7586\n",
      "Epoch:297/500 Train Loss:0.0015 Val Loss:0.4091 Val F1:0.7603\n",
      "Epoch:298/500 Train Loss:0.0013 Val Loss:0.3796 Val F1:0.7697\n",
      "Epoch:299/500 Train Loss:0.0008 Val Loss:0.3864 Val F1:0.7565\n",
      "Epoch:300/500 Train Loss:0.0007 Val Loss:0.4188 Val F1:0.7424\n",
      "Epoch:301/500 Train Loss:0.001 Val Loss:0.4161 Val F1:0.7361\n",
      "Epoch:302/500 Train Loss:0.001 Val Loss:0.3918 Val F1:0.7503\n",
      "Epoch:303/500 Train Loss:0.0006 Val Loss:0.3999 Val F1:0.7459\n",
      "Epoch:304/500 Train Loss:0.0008 Val Loss:0.42 Val F1:0.7419\n",
      "Epoch:305/500 Train Loss:0.0008 Val Loss:0.4173 Val F1:0.7314\n",
      "Epoch:306/500 Train Loss:0.0004 Val Loss:0.4192 Val F1:0.7507\n",
      "Epoch:307/500 Train Loss:0.0003 Val Loss:0.4375 Val F1:0.735\n",
      "Epoch:308/500 Train Loss:0.0004 Val Loss:0.4463 Val F1:0.7471\n",
      "Epoch:309/500 Train Loss:0.0004 Val Loss:0.4267 Val F1:0.7385\n",
      "Epoch:310/500 Train Loss:0.0004 Val Loss:0.4434 Val F1:0.7519\n",
      "Epoch:311/500 Train Loss:0.0004 Val Loss:0.4326 Val F1:0.7396\n",
      "Epoch:312/500 Train Loss:0.0007 Val Loss:0.4105 Val F1:0.7412\n",
      "Epoch:313/500 Train Loss:0.0003 Val Loss:0.4356 Val F1:0.7373\n",
      "Epoch:314/500 Train Loss:0.0003 Val Loss:0.4795 Val F1:0.7345\n",
      "Epoch:315/500 Train Loss:0.0007 Val Loss:0.4596 Val F1:0.7167\n",
      "Epoch:316/500 Train Loss:0.0004 Val Loss:0.4696 Val F1:0.7214\n",
      "Epoch:317/500 Train Loss:0.0003 Val Loss:0.4892 Val F1:0.7119\n",
      "Epoch:318/500 Train Loss:0.0008 Val Loss:0.4934 Val F1:0.7471\n",
      "Epoch:319/500 Train Loss:0.0003 Val Loss:0.4666 Val F1:0.7328\n",
      "Epoch:320/500 Train Loss:0.0004 Val Loss:0.4626 Val F1:0.7386\n",
      "Epoch:321/500 Train Loss:0.0007 Val Loss:0.4592 Val F1:0.7196\n",
      "Epoch:322/500 Train Loss:0.0004 Val Loss:0.4637 Val F1:0.7497\n",
      "Epoch:323/500 Train Loss:0.0013 Val Loss:0.4594 Val F1:0.7041\n",
      "Epoch:324/500 Train Loss:0.0005 Val Loss:0.489 Val F1:0.7259\n",
      "Epoch:325/500 Train Loss:0.0023 Val Loss:0.4534 Val F1:0.7393\n",
      "Epoch:326/500 Train Loss:0.0005 Val Loss:0.4654 Val F1:0.7683\n",
      "Epoch:327/500 Train Loss:0.0011 Val Loss:0.4781 Val F1:0.7527\n",
      "Epoch:328/500 Train Loss:0.0008 Val Loss:0.4492 Val F1:0.7241\n",
      "Epoch:329/500 Train Loss:0.0011 Val Loss:0.4588 Val F1:0.7263\n",
      "Epoch:330/500 Train Loss:0.0008 Val Loss:0.4799 Val F1:0.743\n",
      "Epoch:331/500 Train Loss:0.0003 Val Loss:0.4513 Val F1:0.7369\n",
      "Epoch:332/500 Train Loss:0.0005 Val Loss:0.4703 Val F1:0.7174\n",
      "Epoch:333/500 Train Loss:0.0009 Val Loss:0.5059 Val F1:0.7456\n",
      "Epoch:334/500 Train Loss:0.0013 Val Loss:0.4235 Val F1:0.7678\n",
      "Epoch:335/500 Train Loss:0.0005 Val Loss:0.4729 Val F1:0.7447\n",
      "Epoch:336/500 Train Loss:0.0005 Val Loss:0.4923 Val F1:0.7457\n",
      "Epoch:337/500 Train Loss:0.0011 Val Loss:0.4875 Val F1:0.7359\n",
      "Epoch:338/500 Train Loss:0.0004 Val Loss:0.5142 Val F1:0.731\n",
      "Epoch:339/500 Train Loss:0.0016 Val Loss:0.4801 Val F1:0.7415\n",
      "Epoch:340/500 Train Loss:0.0005 Val Loss:0.4663 Val F1:0.7486\n",
      "Epoch:341/500 Train Loss:0.0018 Val Loss:0.4766 Val F1:0.7334\n",
      "Epoch:342/500 Train Loss:0.0006 Val Loss:0.4412 Val F1:0.7641\n",
      "Epoch:343/500 Train Loss:0.0007 Val Loss:0.4856 Val F1:0.7515\n",
      "Epoch:344/500 Train Loss:0.0004 Val Loss:0.4268 Val F1:0.7269\n",
      "Epoch:345/500 Train Loss:0.0005 Val Loss:0.481 Val F1:0.7495\n",
      "Epoch:346/500 Train Loss:0.0012 Val Loss:0.4726 Val F1:0.7618\n",
      "Epoch:347/500 Train Loss:0.0002 Val Loss:0.5023 Val F1:0.7365\n",
      "Epoch:348/500 Train Loss:0.0003 Val Loss:0.5022 Val F1:0.739\n",
      "Epoch:349/500 Train Loss:0.0004 Val Loss:0.502 Val F1:0.7398\n",
      "Epoch:350/500 Train Loss:0.0006 Val Loss:0.5002 Val F1:0.7344\n",
      "Epoch:351/500 Train Loss:0.0026 Val Loss:0.4505 Val F1:0.7595\n",
      "Epoch:352/500 Train Loss:0.0014 Val Loss:0.53 Val F1:0.7462\n",
      "Epoch:353/500 Train Loss:0.0019 Val Loss:0.5263 Val F1:0.7264\n",
      "Epoch:354/500 Train Loss:0.0019 Val Loss:0.5155 Val F1:0.742\n",
      "Epoch:355/500 Train Loss:0.0031 Val Loss:0.4357 Val F1:0.7634\n",
      "Epoch:356/500 Train Loss:0.0009 Val Loss:0.4229 Val F1:0.7752\n",
      "Epoch:357/500 Train Loss:0.0015 Val Loss:0.4421 Val F1:0.7594\n",
      "Epoch:358/500 Train Loss:0.0009 Val Loss:0.4137 Val F1:0.7675\n",
      "Epoch:359/500 Train Loss:0.0004 Val Loss:0.3946 Val F1:0.7642\n",
      "Epoch:360/500 Train Loss:0.001 Val Loss:0.442 Val F1:0.7603\n",
      "Epoch:361/500 Train Loss:0.0005 Val Loss:0.4386 Val F1:0.7645\n",
      "Epoch:362/500 Train Loss:0.0012 Val Loss:0.473 Val F1:0.7746\n",
      "Epoch:363/500 Train Loss:0.0016 Val Loss:0.4511 Val F1:0.76\n",
      "Epoch:364/500 Train Loss:0.0016 Val Loss:0.5264 Val F1:0.7171\n",
      "Epoch:365/500 Train Loss:0.0017 Val Loss:0.5084 Val F1:0.6937\n",
      "Epoch:366/500 Train Loss:0.0012 Val Loss:0.469 Val F1:0.7408\n",
      "Epoch:367/500 Train Loss:0.0011 Val Loss:0.452 Val F1:0.7757\n",
      "Epoch:368/500 Train Loss:0.0019 Val Loss:0.4425 Val F1:0.7795\n",
      "Epoch:369/500 Train Loss:0.0009 Val Loss:0.4201 Val F1:0.7769\n",
      "Epoch:370/500 Train Loss:0.0006 Val Loss:0.4279 Val F1:0.749\n",
      "Epoch:371/500 Train Loss:0.0003 Val Loss:0.4451 Val F1:0.7373\n",
      "Epoch:372/500 Train Loss:0.0005 Val Loss:0.4176 Val F1:0.7877\n",
      "Epoch:373/500 Train Loss:0.0008 Val Loss:0.4269 Val F1:0.7456\n",
      "Epoch:374/500 Train Loss:0.0004 Val Loss:0.442 Val F1:0.7657\n",
      "Epoch:375/500 Train Loss:0.001 Val Loss:0.4512 Val F1:0.7704\n",
      "Epoch:376/500 Train Loss:0.0004 Val Loss:0.426 Val F1:0.7821\n",
      "Epoch:377/500 Train Loss:0.0006 Val Loss:0.4638 Val F1:0.7593\n",
      "Epoch:378/500 Train Loss:0.0016 Val Loss:0.4585 Val F1:0.7517\n",
      "Epoch:379/500 Train Loss:0.0008 Val Loss:0.4412 Val F1:0.7609\n",
      "Epoch:380/500 Train Loss:0.0012 Val Loss:0.4264 Val F1:0.7555\n",
      "Epoch:381/500 Train Loss:0.0009 Val Loss:0.4576 Val F1:0.7469\n",
      "Epoch:382/500 Train Loss:0.0017 Val Loss:0.432 Val F1:0.7757\n",
      "Epoch:383/500 Train Loss:0.0015 Val Loss:0.4167 Val F1:0.7677\n",
      "Epoch:384/500 Train Loss:0.0007 Val Loss:0.4347 Val F1:0.7714\n",
      "Epoch:385/500 Train Loss:0.0011 Val Loss:0.476 Val F1:0.7592\n",
      "Epoch:386/500 Train Loss:0.001 Val Loss:0.5 Val F1:0.757\n",
      "Epoch:387/500 Train Loss:0.0007 Val Loss:0.5024 Val F1:0.7545\n",
      "Epoch:388/500 Train Loss:0.0004 Val Loss:0.4932 Val F1:0.7668\n",
      "Epoch:389/500 Train Loss:0.0013 Val Loss:0.4769 Val F1:0.77\n",
      "Epoch:390/500 Train Loss:0.0004 Val Loss:0.4707 Val F1:0.7609\n",
      "Epoch:391/500 Train Loss:0.0005 Val Loss:0.465 Val F1:0.7768\n",
      "Epoch:392/500 Train Loss:0.0003 Val Loss:0.4659 Val F1:0.7649\n",
      "Epoch:393/500 Train Loss:0.0002 Val Loss:0.471 Val F1:0.7553\n",
      "Epoch:394/500 Train Loss:0.0007 Val Loss:0.4872 Val F1:0.7448\n",
      "Epoch:395/500 Train Loss:0.0003 Val Loss:0.4644 Val F1:0.7733\n",
      "Epoch:396/500 Train Loss:0.0009 Val Loss:0.4789 Val F1:0.7415\n",
      "Epoch:397/500 Train Loss:0.0002 Val Loss:0.4673 Val F1:0.7689\n",
      "Epoch:398/500 Train Loss:0.0004 Val Loss:0.4533 Val F1:0.7599\n",
      "Epoch:399/500 Train Loss:0.0001 Val Loss:0.4815 Val F1:0.769\n",
      "Epoch:400/500 Train Loss:0.0005 Val Loss:0.4933 Val F1:0.7733\n",
      "Epoch:401/500 Train Loss:0.0002 Val Loss:0.4803 Val F1:0.7337\n",
      "Epoch:402/500 Train Loss:0.0004 Val Loss:0.5223 Val F1:0.7647\n",
      "Epoch:403/500 Train Loss:0.0001 Val Loss:0.5229 Val F1:0.7295\n",
      "Epoch:404/500 Train Loss:0.0002 Val Loss:0.5084 Val F1:0.7555\n",
      "Epoch:405/500 Train Loss:0.0002 Val Loss:0.5321 Val F1:0.7195\n",
      "Epoch:406/500 Train Loss:0.0003 Val Loss:0.5303 Val F1:0.7386\n",
      "Epoch:407/500 Train Loss:0.0001 Val Loss:0.5146 Val F1:0.741\n"
     ]
    },
    {
     "name": "stdout",
     "output_type": "stream",
     "text": [
      "Epoch:408/500 Train Loss:0.0006 Val Loss:0.5181 Val F1:0.7514\n",
      "Epoch:409/500 Train Loss:0.0012 Val Loss:0.4961 Val F1:0.7589\n",
      "Epoch:410/500 Train Loss:0.0004 Val Loss:0.5068 Val F1:0.7591\n",
      "Epoch:411/500 Train Loss:0.0008 Val Loss:0.5409 Val F1:0.7313\n",
      "Epoch:412/500 Train Loss:0.0005 Val Loss:0.5453 Val F1:0.7247\n",
      "Epoch:413/500 Train Loss:0.0006 Val Loss:0.568 Val F1:0.7514\n",
      "Epoch:414/500 Train Loss:0.0016 Val Loss:0.5294 Val F1:0.7273\n",
      "Epoch:415/500 Train Loss:0.0004 Val Loss:0.5211 Val F1:0.7268\n",
      "Epoch:416/500 Train Loss:0.0002 Val Loss:0.5411 Val F1:0.7518\n",
      "Epoch:417/500 Train Loss:0.0001 Val Loss:0.5191 Val F1:0.7584\n",
      "Epoch:418/500 Train Loss:0.0004 Val Loss:0.5193 Val F1:0.7612\n",
      "Epoch:419/500 Train Loss:0.0002 Val Loss:0.5352 Val F1:0.7671\n",
      "Epoch:420/500 Train Loss:0.0001 Val Loss:0.5664 Val F1:0.7392\n",
      "Epoch:421/500 Train Loss:0.0003 Val Loss:0.5169 Val F1:0.7306\n",
      "Epoch:422/500 Train Loss:0.0003 Val Loss:0.5677 Val F1:0.7635\n",
      "Epoch:423/500 Train Loss:0.0005 Val Loss:0.523 Val F1:0.7515\n",
      "Epoch:424/500 Train Loss:0.0003 Val Loss:0.5383 Val F1:0.7507\n",
      "Epoch:425/500 Train Loss:0.0007 Val Loss:0.5389 Val F1:0.7757\n",
      "Epoch:426/500 Train Loss:0.0005 Val Loss:0.517 Val F1:0.775\n",
      "Epoch:427/500 Train Loss:0.0003 Val Loss:0.5821 Val F1:0.7538\n",
      "Epoch:428/500 Train Loss:0.0006 Val Loss:0.5294 Val F1:0.7695\n",
      "Epoch:429/500 Train Loss:0.0008 Val Loss:0.5429 Val F1:0.7611\n",
      "Epoch:430/500 Train Loss:0.0004 Val Loss:0.5583 Val F1:0.7437\n",
      "Epoch:431/500 Train Loss:0.0002 Val Loss:0.5655 Val F1:0.7217\n",
      "Epoch:432/500 Train Loss:0.0005 Val Loss:0.5564 Val F1:0.7553\n",
      "Epoch:433/500 Train Loss:0.0003 Val Loss:0.5824 Val F1:0.7152\n",
      "Epoch:434/500 Train Loss:0.0002 Val Loss:0.5825 Val F1:0.7272\n",
      "Epoch:435/500 Train Loss:0.0009 Val Loss:0.5774 Val F1:0.7134\n",
      "Epoch:436/500 Train Loss:0.0004 Val Loss:0.5596 Val F1:0.7449\n",
      "Epoch:437/500 Train Loss:0.0002 Val Loss:0.5909 Val F1:0.7386\n",
      "Epoch:438/500 Train Loss:0.0005 Val Loss:0.54 Val F1:0.7537\n",
      "Epoch:439/500 Train Loss:0.0007 Val Loss:0.5756 Val F1:0.7546\n",
      "Epoch:440/500 Train Loss:0.0028 Val Loss:0.5854 Val F1:0.721\n",
      "Epoch:441/500 Train Loss:0.0004 Val Loss:0.5718 Val F1:0.7449\n",
      "Epoch:442/500 Train Loss:0.0009 Val Loss:0.6377 Val F1:0.7283\n",
      "Epoch:443/500 Train Loss:0.001 Val Loss:0.5927 Val F1:0.7213\n",
      "Epoch:444/500 Train Loss:0.0004 Val Loss:0.5942 Val F1:0.7435\n",
      "Epoch:445/500 Train Loss:0.0004 Val Loss:0.5664 Val F1:0.7269\n",
      "Epoch:446/500 Train Loss:0.0008 Val Loss:0.5517 Val F1:0.7507\n",
      "Epoch:447/500 Train Loss:0.0005 Val Loss:0.5386 Val F1:0.7337\n",
      "Epoch:448/500 Train Loss:0.0008 Val Loss:0.5516 Val F1:0.7294\n",
      "Epoch:449/500 Train Loss:0.0006 Val Loss:0.566 Val F1:0.7561\n",
      "Epoch:450/500 Train Loss:0.0006 Val Loss:0.5798 Val F1:0.7344\n",
      "Epoch:451/500 Train Loss:0.0004 Val Loss:0.5654 Val F1:0.7316\n",
      "Epoch:452/500 Train Loss:0.0006 Val Loss:0.6161 Val F1:0.6958\n",
      "Epoch:453/500 Train Loss:0.0004 Val Loss:0.5965 Val F1:0.7322\n",
      "Epoch:454/500 Train Loss:0.0003 Val Loss:0.5589 Val F1:0.7074\n",
      "Epoch:455/500 Train Loss:0.0004 Val Loss:0.5785 Val F1:0.7079\n",
      "Epoch:456/500 Train Loss:0.0003 Val Loss:0.6 Val F1:0.7325\n",
      "Epoch:457/500 Train Loss:0.0007 Val Loss:0.6135 Val F1:0.7196\n",
      "Epoch:458/500 Train Loss:0.0004 Val Loss:0.5739 Val F1:0.7349\n",
      "Epoch:459/500 Train Loss:0.0012 Val Loss:0.5408 Val F1:0.731\n",
      "Epoch:460/500 Train Loss:0.0009 Val Loss:0.571 Val F1:0.7217\n",
      "Epoch:461/500 Train Loss:0.001 Val Loss:0.5579 Val F1:0.7418\n",
      "Epoch:462/500 Train Loss:0.0011 Val Loss:0.5483 Val F1:0.7424\n",
      "Epoch:463/500 Train Loss:0.0014 Val Loss:0.5582 Val F1:0.7575\n",
      "Epoch:464/500 Train Loss:0.0005 Val Loss:0.5256 Val F1:0.7502\n",
      "Epoch:465/500 Train Loss:0.002 Val Loss:0.5264 Val F1:0.7491\n",
      "Epoch:466/500 Train Loss:0.0004 Val Loss:0.5938 Val F1:0.7079\n",
      "Epoch:467/500 Train Loss:0.0008 Val Loss:0.6107 Val F1:0.7095\n",
      "Epoch:468/500 Train Loss:0.0005 Val Loss:0.6227 Val F1:0.722\n",
      "Epoch:469/500 Train Loss:0.0003 Val Loss:0.5655 Val F1:0.7105\n",
      "Epoch:470/500 Train Loss:0.0006 Val Loss:0.562 Val F1:0.7398\n",
      "Epoch:471/500 Train Loss:0.0006 Val Loss:0.5549 Val F1:0.7298\n",
      "Epoch:472/500 Train Loss:0.0003 Val Loss:0.5754 Val F1:0.7146\n",
      "Epoch:473/500 Train Loss:0.0006 Val Loss:0.5611 Val F1:0.7277\n",
      "Epoch:474/500 Train Loss:0.0002 Val Loss:0.6292 Val F1:0.7038\n",
      "Epoch:475/500 Train Loss:0.0002 Val Loss:0.5975 Val F1:0.6867\n",
      "Epoch:476/500 Train Loss:0.0002 Val Loss:0.5641 Val F1:0.7363\n",
      "Epoch:477/500 Train Loss:0.0001 Val Loss:0.57 Val F1:0.7298\n",
      "Epoch:478/500 Train Loss:0.0002 Val Loss:0.6058 Val F1:0.7368\n",
      "Epoch:479/500 Train Loss:0.0003 Val Loss:0.6183 Val F1:0.7072\n",
      "Epoch:480/500 Train Loss:0.0004 Val Loss:0.6243 Val F1:0.7214\n",
      "Epoch:481/500 Train Loss:0.0 Val Loss:0.5881 Val F1:0.6955\n",
      "Epoch:482/500 Train Loss:0.0001 Val Loss:0.6199 Val F1:0.7145\n",
      "Epoch:483/500 Train Loss:0.0001 Val Loss:0.6017 Val F1:0.7055\n",
      "Epoch:484/500 Train Loss:0.0001 Val Loss:0.6113 Val F1:0.7436\n",
      "Epoch:485/500 Train Loss:0.0002 Val Loss:0.5987 Val F1:0.7476\n",
      "Epoch:486/500 Train Loss:0.0004 Val Loss:0.5614 Val F1:0.7413\n",
      "Epoch:487/500 Train Loss:0.0007 Val Loss:0.58 Val F1:0.7539\n",
      "Epoch:488/500 Train Loss:0.0007 Val Loss:0.5729 Val F1:0.7463\n",
      "Epoch:489/500 Train Loss:0.0002 Val Loss:0.6133 Val F1:0.743\n",
      "Epoch:490/500 Train Loss:0.0001 Val Loss:0.5764 Val F1:0.7279\n",
      "Epoch:491/500 Train Loss:0.0002 Val Loss:0.6283 Val F1:0.7518\n",
      "Epoch:492/500 Train Loss:0.0003 Val Loss:0.6215 Val F1:0.7243\n",
      "Epoch:493/500 Train Loss:0.0003 Val Loss:0.6035 Val F1:0.7506\n",
      "Epoch:494/500 Train Loss:0.0003 Val Loss:0.5768 Val F1:0.7307\n",
      "Epoch:495/500 Train Loss:0.0002 Val Loss:0.5858 Val F1:0.7324\n",
      "Epoch:496/500 Train Loss:0.0001 Val Loss:0.5786 Val F1:0.7482\n",
      "Epoch:497/500 Train Loss:0.0005 Val Loss:0.6037 Val F1:0.7429\n",
      "Epoch:498/500 Train Loss:0.0001 Val Loss:0.5799 Val F1:0.7392\n",
      "Epoch:499/500 Train Loss:0.0003 Val Loss:0.5743 Val F1:0.7479\n",
      "Epoch:500/500 Train Loss:0.0001 Val Loss:0.6139 Val F1:0.7563\n"
     ]
    }
   ],
   "source": [
    "best_f1 = 0\n",
    "best_encoder = None\n",
    "best_mlp = None\n",
    "for e in range(1, epochs + 1):\n",
    "    train_loss = train(encoder, mlp, optimizer, train_loader, loss_fn, device)\n",
    "    val_loss, val_f1 = test(encoder, mlp, val_loader, loss_fn, device)\n",
    "    print(f\"Epoch:{e}/{epochs} Train Loss:{round(train_loss,4)} Val Loss:{round(val_loss,4)} Val F1:{round(val_f1, 4)}\")\n",
    "    if val_f1 > best_f1:\n",
    "        best_f1 = val_f1\n",
    "        best_encoder = deepcopy(encoder)\n",
    "        best_mlp = deepcopy(mlp)\n",
    "\n",
    "encoder = deepcopy(best_encoder)\n",
    "mlp = deepcopy(best_mlp)"
   ]
  },
  {
   "cell_type": "code",
   "execution_count": 15,
   "id": "8d8b5ba8",
   "metadata": {
    "scrolled": true
   },
   "outputs": [
    {
     "name": "stdout",
     "output_type": "stream",
     "text": [
      "0.796399217221135\n"
     ]
    }
   ],
   "source": [
    "print(best_f1)"
   ]
  },
  {
   "cell_type": "code",
   "execution_count": null,
   "id": "cc978347",
   "metadata": {},
   "outputs": [],
   "source": []
  },
  {
   "cell_type": "markdown",
   "id": "c8ea56b5",
   "metadata": {},
   "source": [
    "## Prequential Evaluation on Subsequent Time Steps ##"
   ]
  },
  {
   "cell_type": "code",
   "execution_count": 16,
   "id": "77538ff4",
   "metadata": {},
   "outputs": [],
   "source": [
    "def continual_adapt(split, src_train_loader, src_val_loader, encoder, mlp, device, lambda_coeff=1, lr=1e-3):\n",
    "    tgt_train_loader = DataLoader(dataset=[get_data(data_dir, \"elliptic\", i) for i in range(split[0],split[1])], batch_size=1, shuffle=True)\n",
    "    tgt_val_loader = DataLoader(dataset=[get_data(data_dir, \"elliptic\", i) for i in range(split[1],split[2])], batch_size=1, shuffle=False)\n",
    "    \n",
    "    tgt_encoder, tgt_mlp = deepcopy(encoder), deepcopy(mlp)\n",
    "    tgt_optimizer = torch.optim.Adam(list(tgt_encoder.parameters()) + list(tgt_mlp.parameters()), lr=lr)\n",
    "    \n",
    "    epochs = 500\n",
    "    best_val_loss = np.inf\n",
    "    best_val_src_loss, best_val_tgt_loss = None, None\n",
    "    best_tgt_encoder, best_tgt_mlp = None, None\n",
    "    patience = 10\n",
    "    staleness = 0\n",
    "\n",
    "    for e in range(1, epochs + 1):\n",
    "        train_loss, train_src_loss, train_tgt_loss = adapt_train(tgt_encoder, tgt_mlp, device, src_train_loader, tgt_train_loader, tgt_optimizer, lambda_coeff=lambda_coeff)\n",
    "        val_loss, val_src_loss, val_tgt_loss = adapt_test(tgt_encoder, tgt_mlp, device, src_val_loader, tgt_val_loader, lambda_coeff=lambda_coeff)\n",
    "        if val_loss < best_val_loss:\n",
    "            best_val_loss = val_loss\n",
    "            best_val_src_loss = val_src_loss\n",
    "            best_val_tgt_loss = val_tgt_loss\n",
    "            best_tgt_encoder = deepcopy(tgt_encoder)\n",
    "            best_tgt_mlp = deepcopy(tgt_mlp)\n",
    "            staleness = 0\n",
    "        else:\n",
    "            staleness += 1\n",
    "        print(f'Epoch {e}/{epochs} Train Total Loss: {round(train_loss,5)} Train Src Loss: {round(train_src_loss,5)} Train Tgt Loss: {round(train_tgt_loss,5)} \\n \\\n",
    "                Val Total Loss: {round(val_loss,5)} Val Src Loss: {round(val_src_loss,5)} Val Tgt Loss: {round(val_tgt_loss,5)}')\n",
    "\n",
    "        if staleness > patience:\n",
    "            break\n",
    "\n",
    "    tgt_encoder = deepcopy(best_tgt_encoder)\n",
    "    tgt_mlp = deepcopy(best_tgt_mlp)\n",
    "    \n",
    "    return tgt_encoder, tgt_mlp, best_val_loss, best_val_src_loss, best_val_tgt_loss"
   ]
  },
  {
   "cell_type": "code",
   "execution_count": 17,
   "id": "093bc509",
   "metadata": {},
   "outputs": [],
   "source": [
    "lambda_coeff = 1\n",
    "lr = 1e-4"
   ]
  },
  {
   "cell_type": "code",
   "execution_count": null,
   "id": "8a967c40",
   "metadata": {},
   "outputs": [],
   "source": []
  },
  {
   "cell_type": "code",
   "execution_count": null,
   "id": "e6720d28",
   "metadata": {},
   "outputs": [],
   "source": []
  },
  {
   "cell_type": "markdown",
   "id": "eff1603f",
   "metadata": {},
   "source": [
    "## Finer Adapt ##\n",
    "* Test: 9,10 Adapt Train: 7,8,9 Adapt Val: 10\n",
    "* Test: 11,12 Adapt Train: 10,11 Adapt Val: 12\n",
    "* ...\n",
    "* Test: 45,46 Adapt Train: 44,45 Adapt Val: 46\n",
    "* Test: 47,48"
   ]
  },
  {
   "cell_type": "code",
   "execution_count": 18,
   "id": "b61f3188",
   "metadata": {},
   "outputs": [
    {
     "name": "stdout",
     "output_type": "stream",
     "text": [
      "Test: 9 10\n",
      "Adapt train: 7 9\n",
      "Adapt val: 10\n"
     ]
    },
    {
     "name": "stderr",
     "output_type": "stream",
     "text": [
      "100%|██████████████████████████████████████████████████████████████████████████████████████████████████████████████████| 7/7 [00:00<00:00, 225.77it/s]\n",
      "100%|██████████████████████████████████████████████████████████████████████████████████████████████████████████████████| 3/3 [00:00<00:00, 124.27it/s]\n",
      "100%|██████████████████████████████████████████████████████████████████████████████████████████████████████████████████| 2/2 [00:00<00:00, 190.84it/s]\n",
      "100%|██████████████████████████████████████████████████████████████████████████████████████████████████████████████████| 1/1 [00:00<00:00, 191.55it/s]\n"
     ]
    },
    {
     "name": "stdout",
     "output_type": "stream",
     "text": [
      "Epoch 1/500 Train Total Loss: 0.08102 Train Src Loss: 0.00871 Train Tgt Loss: 0.07231 \n",
      "                 Val Total Loss: 0.32434 Val Src Loss: 0.21445 Val Tgt Loss: 0.10989\n"
     ]
    },
    {
     "name": "stderr",
     "output_type": "stream",
     "text": [
      "100%|██████████████████████████████████████████████████████████████████████████████████████████████████████████████████| 7/7 [00:00<00:00, 330.69it/s]\n",
      "100%|██████████████████████████████████████████████████████████████████████████████████████████████████████████████████| 3/3 [00:00<00:00, 371.64it/s]\n",
      "100%|██████████████████████████████████████████████████████████████████████████████████████████████████████████████████| 2/2 [00:00<00:00, 350.07it/s]\n",
      "100%|██████████████████████████████████████████████████████████████████████████████████████████████████████████████████| 1/1 [00:00<00:00, 336.78it/s]\n"
     ]
    },
    {
     "name": "stdout",
     "output_type": "stream",
     "text": [
      "Epoch 2/500 Train Total Loss: 0.07752 Train Src Loss: 0.00813 Train Tgt Loss: 0.0694 \n",
      "                 Val Total Loss: 0.29702 Val Src Loss: 0.20191 Val Tgt Loss: 0.09511\n"
     ]
    },
    {
     "name": "stderr",
     "output_type": "stream",
     "text": [
      "100%|██████████████████████████████████████████████████████████████████████████████████████████████████████████████████| 7/7 [00:00<00:00, 553.41it/s]\n",
      "100%|██████████████████████████████████████████████████████████████████████████████████████████████████████████████████| 3/3 [00:00<00:00, 401.16it/s]\n",
      "100%|██████████████████████████████████████████████████████████████████████████████████████████████████████████████████| 2/2 [00:00<00:00, 403.63it/s]\n",
      "100%|██████████████████████████████████████████████████████████████████████████████████████████████████████████████████| 1/1 [00:00<00:00, 359.90it/s]\n"
     ]
    },
    {
     "name": "stdout",
     "output_type": "stream",
     "text": [
      "Epoch 3/500 Train Total Loss: 0.0771 Train Src Loss: 0.0075 Train Tgt Loss: 0.06961 \n",
      "                 Val Total Loss: 0.31769 Val Src Loss: 0.21092 Val Tgt Loss: 0.10677\n"
     ]
    },
    {
     "name": "stderr",
     "output_type": "stream",
     "text": [
      "100%|██████████████████████████████████████████████████████████████████████████████████████████████████████████████████| 7/7 [00:00<00:00, 555.36it/s]\n",
      "100%|██████████████████████████████████████████████████████████████████████████████████████████████████████████████████| 3/3 [00:00<00:00, 395.65it/s]\n",
      "100%|██████████████████████████████████████████████████████████████████████████████████████████████████████████████████| 2/2 [00:00<00:00, 229.35it/s]\n",
      "100%|██████████████████████████████████████████████████████████████████████████████████████████████████████████████████| 1/1 [00:00<00:00, 151.40it/s]\n"
     ]
    },
    {
     "name": "stdout",
     "output_type": "stream",
     "text": [
      "Epoch 4/500 Train Total Loss: 0.07218 Train Src Loss: 0.00727 Train Tgt Loss: 0.06491 \n",
      "                 Val Total Loss: 0.29992 Val Src Loss: 0.19672 Val Tgt Loss: 0.1032\n"
     ]
    },
    {
     "name": "stderr",
     "output_type": "stream",
     "text": [
      "100%|███████████████████████████████████████████████████████████████████████████████████████████████████████████████████| 7/7 [00:00<00:00, 73.93it/s]\n",
      "100%|██████████████████████████████████████████████████████████████████████████████████████████████████████████████████| 3/3 [00:00<00:00, 179.31it/s]\n",
      "100%|██████████████████████████████████████████████████████████████████████████████████████████████████████████████████| 2/2 [00:00<00:00, 302.25it/s]\n",
      "100%|██████████████████████████████████████████████████████████████████████████████████████████████████████████████████| 1/1 [00:00<00:00, 146.57it/s]\n"
     ]
    },
    {
     "name": "stdout",
     "output_type": "stream",
     "text": [
      "Epoch 5/500 Train Total Loss: 0.07457 Train Src Loss: 0.0076 Train Tgt Loss: 0.06697 \n",
      "                 Val Total Loss: 0.30701 Val Src Loss: 0.22279 Val Tgt Loss: 0.08422\n"
     ]
    },
    {
     "name": "stderr",
     "output_type": "stream",
     "text": [
      "100%|██████████████████████████████████████████████████████████████████████████████████████████████████████████████████| 7/7 [00:00<00:00, 166.47it/s]\n",
      "100%|██████████████████████████████████████████████████████████████████████████████████████████████████████████████████| 3/3 [00:00<00:00, 101.39it/s]\n",
      "100%|██████████████████████████████████████████████████████████████████████████████████████████████████████████████████| 2/2 [00:00<00:00, 138.29it/s]\n",
      "100%|██████████████████████████████████████████████████████████████████████████████████████████████████████████████████| 1/1 [00:00<00:00, 175.96it/s]\n"
     ]
    },
    {
     "name": "stdout",
     "output_type": "stream",
     "text": [
      "Epoch 6/500 Train Total Loss: 0.07661 Train Src Loss: 0.00734 Train Tgt Loss: 0.06927 \n",
      "                 Val Total Loss: 0.293 Val Src Loss: 0.21195 Val Tgt Loss: 0.08105\n"
     ]
    },
    {
     "name": "stderr",
     "output_type": "stream",
     "text": [
      "100%|██████████████████████████████████████████████████████████████████████████████████████████████████████████████████| 7/7 [00:00<00:00, 256.70it/s]\n",
      "100%|██████████████████████████████████████████████████████████████████████████████████████████████████████████████████| 3/3 [00:00<00:00, 126.04it/s]\n",
      "100%|██████████████████████████████████████████████████████████████████████████████████████████████████████████████████| 2/2 [00:00<00:00, 190.38it/s]\n",
      "100%|██████████████████████████████████████████████████████████████████████████████████████████████████████████████████| 1/1 [00:00<00:00, 228.93it/s]\n"
     ]
    },
    {
     "name": "stdout",
     "output_type": "stream",
     "text": [
      "Epoch 7/500 Train Total Loss: 0.06775 Train Src Loss: 0.00763 Train Tgt Loss: 0.06012 \n",
      "                 Val Total Loss: 0.28283 Val Src Loss: 0.19305 Val Tgt Loss: 0.08978\n"
     ]
    },
    {
     "name": "stderr",
     "output_type": "stream",
     "text": [
      "100%|██████████████████████████████████████████████████████████████████████████████████████████████████████████████████| 7/7 [00:00<00:00, 271.06it/s]\n",
      "100%|██████████████████████████████████████████████████████████████████████████████████████████████████████████████████| 3/3 [00:00<00:00, 123.36it/s]\n",
      "100%|██████████████████████████████████████████████████████████████████████████████████████████████████████████████████| 2/2 [00:00<00:00, 177.72it/s]\n",
      "100%|██████████████████████████████████████████████████████████████████████████████████████████████████████████████████| 1/1 [00:00<00:00, 216.19it/s]\n"
     ]
    },
    {
     "name": "stdout",
     "output_type": "stream",
     "text": [
      "Epoch 8/500 Train Total Loss: 0.06556 Train Src Loss: 0.00807 Train Tgt Loss: 0.05749 \n",
      "                 Val Total Loss: 0.2935 Val Src Loss: 0.21701 Val Tgt Loss: 0.0765\n"
     ]
    },
    {
     "name": "stderr",
     "output_type": "stream",
     "text": [
      "100%|██████████████████████████████████████████████████████████████████████████████████████████████████████████████████| 7/7 [00:00<00:00, 282.19it/s]\n",
      "100%|██████████████████████████████████████████████████████████████████████████████████████████████████████████████████| 3/3 [00:00<00:00, 405.39it/s]\n",
      "100%|██████████████████████████████████████████████████████████████████████████████████████████████████████████████████| 2/2 [00:00<00:00, 436.88it/s]\n",
      "100%|██████████████████████████████████████████████████████████████████████████████████████████████████████████████████| 1/1 [00:00<00:00, 313.57it/s]\n"
     ]
    },
    {
     "name": "stdout",
     "output_type": "stream",
     "text": [
      "Epoch 9/500 Train Total Loss: 0.06498 Train Src Loss: 0.00715 Train Tgt Loss: 0.05784 \n",
      "                 Val Total Loss: 0.28047 Val Src Loss: 0.20769 Val Tgt Loss: 0.07278\n"
     ]
    },
    {
     "name": "stderr",
     "output_type": "stream",
     "text": [
      "100%|██████████████████████████████████████████████████████████████████████████████████████████████████████████████████| 7/7 [00:00<00:00, 559.04it/s]\n",
      "100%|██████████████████████████████████████████████████████████████████████████████████████████████████████████████████| 3/3 [00:00<00:00, 410.87it/s]\n",
      "100%|██████████████████████████████████████████████████████████████████████████████████████████████████████████████████| 2/2 [00:00<00:00, 421.39it/s]\n",
      "100%|██████████████████████████████████████████████████████████████████████████████████████████████████████████████████| 1/1 [00:00<00:00, 308.81it/s]\n"
     ]
    },
    {
     "name": "stdout",
     "output_type": "stream",
     "text": [
      "Epoch 10/500 Train Total Loss: 0.06185 Train Src Loss: 0.00665 Train Tgt Loss: 0.0552 \n",
      "                 Val Total Loss: 0.30549 Val Src Loss: 0.22479 Val Tgt Loss: 0.08069\n"
     ]
    },
    {
     "name": "stderr",
     "output_type": "stream",
     "text": [
      "100%|██████████████████████████████████████████████████████████████████████████████████████████████████████████████████| 7/7 [00:00<00:00, 559.62it/s]\n",
      "100%|██████████████████████████████████████████████████████████████████████████████████████████████████████████████████| 3/3 [00:00<00:00, 409.13it/s]\n",
      "100%|██████████████████████████████████████████████████████████████████████████████████████████████████████████████████| 2/2 [00:00<00:00, 393.78it/s]\n",
      "100%|██████████████████████████████████████████████████████████████████████████████████████████████████████████████████| 1/1 [00:00<00:00, 228.14it/s]\n"
     ]
    },
    {
     "name": "stdout",
     "output_type": "stream",
     "text": [
      "Epoch 11/500 Train Total Loss: 0.06527 Train Src Loss: 0.00817 Train Tgt Loss: 0.05709 \n",
      "                 Val Total Loss: 0.30157 Val Src Loss: 0.222 Val Tgt Loss: 0.07957\n"
     ]
    },
    {
     "name": "stderr",
     "output_type": "stream",
     "text": [
      "100%|██████████████████████████████████████████████████████████████████████████████████████████████████████████████████| 7/7 [00:00<00:00, 159.93it/s]\n",
      "100%|███████████████████████████████████████████████████████████████████████████████████████████████████████████████████| 3/3 [00:00<00:00, 48.52it/s]\n",
      "100%|██████████████████████████████████████████████████████████████████████████████████████████████████████████████████| 2/2 [00:00<00:00, 294.50it/s]\n",
      "100%|██████████████████████████████████████████████████████████████████████████████████████████████████████████████████| 1/1 [00:00<00:00, 134.55it/s]\n"
     ]
    },
    {
     "name": "stdout",
     "output_type": "stream",
     "text": [
      "Epoch 12/500 Train Total Loss: 0.06277 Train Src Loss: 0.00641 Train Tgt Loss: 0.05636 \n",
      "                 Val Total Loss: 0.27663 Val Src Loss: 0.21129 Val Tgt Loss: 0.06535\n"
     ]
    },
    {
     "name": "stderr",
     "output_type": "stream",
     "text": [
      "100%|██████████████████████████████████████████████████████████████████████████████████████████████████████████████████| 7/7 [00:00<00:00, 173.58it/s]\n",
      "100%|██████████████████████████████████████████████████████████████████████████████████████████████████████████████████| 3/3 [00:00<00:00, 143.66it/s]\n",
      "100%|██████████████████████████████████████████████████████████████████████████████████████████████████████████████████| 2/2 [00:00<00:00, 129.00it/s]\n",
      "100%|██████████████████████████████████████████████████████████████████████████████████████████████████████████████████| 1/1 [00:00<00:00, 122.13it/s]\n"
     ]
    },
    {
     "name": "stdout",
     "output_type": "stream",
     "text": [
      "Epoch 13/500 Train Total Loss: 0.05641 Train Src Loss: 0.00705 Train Tgt Loss: 0.04936 \n",
      "                 Val Total Loss: 0.2813 Val Src Loss: 0.20779 Val Tgt Loss: 0.0735\n"
     ]
    },
    {
     "name": "stderr",
     "output_type": "stream",
     "text": [
      "100%|██████████████████████████████████████████████████████████████████████████████████████████████████████████████████| 7/7 [00:00<00:00, 163.87it/s]\n",
      "100%|██████████████████████████████████████████████████████████████████████████████████████████████████████████████████| 3/3 [00:00<00:00, 154.12it/s]\n",
      "100%|██████████████████████████████████████████████████████████████████████████████████████████████████████████████████| 2/2 [00:00<00:00, 164.81it/s]\n",
      "100%|██████████████████████████████████████████████████████████████████████████████████████████████████████████████████| 1/1 [00:00<00:00, 137.29it/s]\n"
     ]
    },
    {
     "name": "stdout",
     "output_type": "stream",
     "text": [
      "Epoch 14/500 Train Total Loss: 0.06314 Train Src Loss: 0.00634 Train Tgt Loss: 0.05681 \n",
      "                 Val Total Loss: 0.29414 Val Src Loss: 0.21705 Val Tgt Loss: 0.07708\n"
     ]
    },
    {
     "name": "stderr",
     "output_type": "stream",
     "text": [
      "100%|██████████████████████████████████████████████████████████████████████████████████████████████████████████████████| 7/7 [00:00<00:00, 229.95it/s]\n",
      "100%|██████████████████████████████████████████████████████████████████████████████████████████████████████████████████| 3/3 [00:00<00:00, 221.09it/s]\n",
      "100%|██████████████████████████████████████████████████████████████████████████████████████████████████████████████████| 2/2 [00:00<00:00, 130.43it/s]\n",
      "100%|██████████████████████████████████████████████████████████████████████████████████████████████████████████████████| 1/1 [00:00<00:00, 138.73it/s]\n"
     ]
    },
    {
     "name": "stdout",
     "output_type": "stream",
     "text": [
      "Epoch 15/500 Train Total Loss: 0.06039 Train Src Loss: 0.00748 Train Tgt Loss: 0.05291 \n",
      "                 Val Total Loss: 0.27818 Val Src Loss: 0.21557 Val Tgt Loss: 0.0626\n"
     ]
    },
    {
     "name": "stderr",
     "output_type": "stream",
     "text": [
      "100%|██████████████████████████████████████████████████████████████████████████████████████████████████████████████████| 7/7 [00:00<00:00, 212.58it/s]\n",
      "100%|██████████████████████████████████████████████████████████████████████████████████████████████████████████████████| 3/3 [00:00<00:00, 221.97it/s]\n",
      "100%|██████████████████████████████████████████████████████████████████████████████████████████████████████████████████| 2/2 [00:00<00:00, 393.52it/s]\n",
      "100%|██████████████████████████████████████████████████████████████████████████████████████████████████████████████████| 1/1 [00:00<00:00, 268.64it/s]\n"
     ]
    },
    {
     "name": "stdout",
     "output_type": "stream",
     "text": [
      "Epoch 16/500 Train Total Loss: 0.05299 Train Src Loss: 0.0072 Train Tgt Loss: 0.04579 \n",
      "                 Val Total Loss: 0.28849 Val Src Loss: 0.22112 Val Tgt Loss: 0.06737\n"
     ]
    },
    {
     "name": "stderr",
     "output_type": "stream",
     "text": [
      "100%|██████████████████████████████████████████████████████████████████████████████████████████████████████████████████| 7/7 [00:00<00:00, 524.19it/s]\n",
      "100%|██████████████████████████████████████████████████████████████████████████████████████████████████████████████████| 3/3 [00:00<00:00, 377.34it/s]\n",
      "100%|██████████████████████████████████████████████████████████████████████████████████████████████████████████████████| 2/2 [00:00<00:00, 532.54it/s]\n",
      "100%|██████████████████████████████████████████████████████████████████████████████████████████████████████████████████| 1/1 [00:00<00:00, 280.72it/s]\n"
     ]
    },
    {
     "name": "stdout",
     "output_type": "stream",
     "text": [
      "Epoch 17/500 Train Total Loss: 0.05706 Train Src Loss: 0.00745 Train Tgt Loss: 0.04961 \n",
      "                 Val Total Loss: 0.30176 Val Src Loss: 0.23528 Val Tgt Loss: 0.06648\n"
     ]
    },
    {
     "name": "stderr",
     "output_type": "stream",
     "text": [
      "100%|██████████████████████████████████████████████████████████████████████████████████████████████████████████████████| 7/7 [00:00<00:00, 515.58it/s]\n",
      "100%|██████████████████████████████████████████████████████████████████████████████████████████████████████████████████| 3/3 [00:00<00:00, 380.41it/s]\n",
      "100%|██████████████████████████████████████████████████████████████████████████████████████████████████████████████████| 2/2 [00:00<00:00, 566.91it/s]\n",
      "100%|██████████████████████████████████████████████████████████████████████████████████████████████████████████████████| 1/1 [00:00<00:00, 254.02it/s]\n"
     ]
    },
    {
     "name": "stdout",
     "output_type": "stream",
     "text": [
      "Epoch 18/500 Train Total Loss: 0.05449 Train Src Loss: 0.00784 Train Tgt Loss: 0.04665 \n",
      "                 Val Total Loss: 0.27961 Val Src Loss: 0.22088 Val Tgt Loss: 0.05873\n"
     ]
    },
    {
     "name": "stderr",
     "output_type": "stream",
     "text": [
      "100%|██████████████████████████████████████████████████████████████████████████████████████████████████████████████████| 7/7 [00:00<00:00, 170.06it/s]\n",
      "100%|███████████████████████████████████████████████████████████████████████████████████████████████████████████████████| 3/3 [00:00<00:00, 46.75it/s]\n",
      "100%|██████████████████████████████████████████████████████████████████████████████████████████████████████████████████| 2/2 [00:00<00:00, 372.58it/s]\n",
      "100%|██████████████████████████████████████████████████████████████████████████████████████████████████████████████████| 1/1 [00:00<00:00, 419.72it/s]\n"
     ]
    },
    {
     "name": "stdout",
     "output_type": "stream",
     "text": [
      "Epoch 19/500 Train Total Loss: 0.05288 Train Src Loss: 0.00762 Train Tgt Loss: 0.04525 \n",
      "                 Val Total Loss: 0.29134 Val Src Loss: 0.2265 Val Tgt Loss: 0.06484\n"
     ]
    },
    {
     "name": "stderr",
     "output_type": "stream",
     "text": [
      "100%|██████████████████████████████████████████████████████████████████████████████████████████████████████████████████| 7/7 [00:00<00:00, 216.37it/s]\n",
      "100%|██████████████████████████████████████████████████████████████████████████████████████████████████████████████████| 3/3 [00:00<00:00, 133.76it/s]\n",
      "100%|██████████████████████████████████████████████████████████████████████████████████████████████████████████████████| 2/2 [00:00<00:00, 183.44it/s]\n",
      "100%|██████████████████████████████████████████████████████████████████████████████████████████████████████████████████| 1/1 [00:00<00:00, 146.56it/s]\n"
     ]
    },
    {
     "name": "stdout",
     "output_type": "stream",
     "text": [
      "Epoch 20/500 Train Total Loss: 0.05132 Train Src Loss: 0.008 Train Tgt Loss: 0.04332 \n",
      "                 Val Total Loss: 0.30768 Val Src Loss: 0.23682 Val Tgt Loss: 0.07086\n"
     ]
    },
    {
     "name": "stderr",
     "output_type": "stream",
     "text": [
      "100%|██████████████████████████████████████████████████████████████████████████████████████████████████████████████████| 7/7 [00:00<00:00, 133.49it/s]\n",
      "100%|██████████████████████████████████████████████████████████████████████████████████████████████████████████████████| 3/3 [00:00<00:00, 162.33it/s]\n",
      "100%|██████████████████████████████████████████████████████████████████████████████████████████████████████████████████| 2/2 [00:00<00:00, 167.92it/s]\n",
      "100%|██████████████████████████████████████████████████████████████████████████████████████████████████████████████████| 1/1 [00:00<00:00, 138.45it/s]\n"
     ]
    },
    {
     "name": "stdout",
     "output_type": "stream",
     "text": [
      "Epoch 21/500 Train Total Loss: 0.04905 Train Src Loss: 0.00736 Train Tgt Loss: 0.04169 \n",
      "                 Val Total Loss: 0.31244 Val Src Loss: 0.24714 Val Tgt Loss: 0.0653\n"
     ]
    },
    {
     "name": "stderr",
     "output_type": "stream",
     "text": [
      "100%|██████████████████████████████████████████████████████████████████████████████████████████████████████████████████| 7/7 [00:00<00:00, 169.38it/s]\n",
      "100%|██████████████████████████████████████████████████████████████████████████████████████████████████████████████████| 3/3 [00:00<00:00, 199.00it/s]\n",
      "100%|██████████████████████████████████████████████████████████████████████████████████████████████████████████████████| 2/2 [00:00<00:00, 247.32it/s]\n",
      "100%|██████████████████████████████████████████████████████████████████████████████████████████████████████████████████| 1/1 [00:00<00:00, 117.43it/s]\n"
     ]
    },
    {
     "name": "stdout",
     "output_type": "stream",
     "text": [
      "Epoch 22/500 Train Total Loss: 0.05303 Train Src Loss: 0.0102 Train Tgt Loss: 0.04283 \n",
      "                 Val Total Loss: 0.28873 Val Src Loss: 0.23426 Val Tgt Loss: 0.05447\n"
     ]
    },
    {
     "name": "stderr",
     "output_type": "stream",
     "text": [
      "100%|██████████████████████████████████████████████████████████████████████████████████████████████████████████████████| 7/7 [00:00<00:00, 162.69it/s]\n",
      "100%|██████████████████████████████████████████████████████████████████████████████████████████████████████████████████| 3/3 [00:00<00:00, 219.83it/s]\n",
      "100%|██████████████████████████████████████████████████████████████████████████████████████████████████████████████████| 2/2 [00:00<00:00, 296.17it/s]\n",
      "100%|██████████████████████████████████████████████████████████████████████████████████████████████████████████████████| 1/1 [00:00<00:00, 272.71it/s]\n"
     ]
    },
    {
     "name": "stdout",
     "output_type": "stream",
     "text": [
      "Epoch 23/500 Train Total Loss: 0.04894 Train Src Loss: 0.00752 Train Tgt Loss: 0.04141 \n",
      "                 Val Total Loss: 0.3298 Val Src Loss: 0.27171 Val Tgt Loss: 0.05809\n",
      "Test: 11 12\n",
      "Adapt train: 10 11\n",
      "Adapt val: 12\n"
     ]
    },
    {
     "name": "stderr",
     "output_type": "stream",
     "text": [
      "100%|██████████████████████████████████████████████████████████████████████████████████████████████████████████████████| 7/7 [00:00<00:00, 566.75it/s]\n",
      "100%|██████████████████████████████████████████████████████████████████████████████████████████████████████████████████| 2/2 [00:00<00:00, 445.28it/s]\n",
      "100%|██████████████████████████████████████████████████████████████████████████████████████████████████████████████████| 2/2 [00:00<00:00, 413.90it/s]\n",
      "100%|██████████████████████████████████████████████████████████████████████████████████████████████████████████████████| 1/1 [00:00<00:00, 411.53it/s]\n"
     ]
    },
    {
     "name": "stdout",
     "output_type": "stream",
     "text": [
      "Epoch 1/500 Train Total Loss: 0.08776 Train Src Loss: 0.00735 Train Tgt Loss: 0.08041 \n",
      "                 Val Total Loss: 0.32558 Val Src Loss: 0.2224 Val Tgt Loss: 0.10319\n"
     ]
    },
    {
     "name": "stderr",
     "output_type": "stream",
     "text": [
      "100%|██████████████████████████████████████████████████████████████████████████████████████████████████████████████████| 7/7 [00:00<00:00, 553.57it/s]\n",
      "100%|██████████████████████████████████████████████████████████████████████████████████████████████████████████████████| 2/2 [00:00<00:00, 446.13it/s]\n",
      "100%|██████████████████████████████████████████████████████████████████████████████████████████████████████████████████| 2/2 [00:00<00:00, 437.93it/s]\n",
      "100%|██████████████████████████████████████████████████████████████████████████████████████████████████████████████████| 1/1 [00:00<00:00, 303.28it/s]\n"
     ]
    },
    {
     "name": "stdout",
     "output_type": "stream",
     "text": [
      "Epoch 2/500 Train Total Loss: 0.07165 Train Src Loss: 0.00747 Train Tgt Loss: 0.06418 \n",
      "                 Val Total Loss: 0.31883 Val Src Loss: 0.22262 Val Tgt Loss: 0.09621\n"
     ]
    },
    {
     "name": "stderr",
     "output_type": "stream",
     "text": [
      "100%|██████████████████████████████████████████████████████████████████████████████████████████████████████████████████| 7/7 [00:00<00:00, 564.75it/s]\n",
      "100%|██████████████████████████████████████████████████████████████████████████████████████████████████████████████████| 2/2 [00:00<00:00, 441.46it/s]\n",
      "100%|██████████████████████████████████████████████████████████████████████████████████████████████████████████████████| 2/2 [00:00<00:00, 590.79it/s]\n",
      "100%|██████████████████████████████████████████████████████████████████████████████████████████████████████████████████| 1/1 [00:00<00:00, 429.74it/s]\n"
     ]
    },
    {
     "name": "stdout",
     "output_type": "stream",
     "text": [
      "Epoch 3/500 Train Total Loss: 0.07104 Train Src Loss: 0.00838 Train Tgt Loss: 0.06266 \n",
      "                 Val Total Loss: 0.30839 Val Src Loss: 0.2194 Val Tgt Loss: 0.08899\n"
     ]
    },
    {
     "name": "stderr",
     "output_type": "stream",
     "text": [
      "100%|██████████████████████████████████████████████████████████████████████████████████████████████████████████████████| 7/7 [00:00<00:00, 509.76it/s]\n",
      "100%|██████████████████████████████████████████████████████████████████████████████████████████████████████████████████| 2/2 [00:00<00:00, 250.62it/s]\n",
      "100%|███████████████████████████████████████████████████████████████████████████████████████████████████████████████████| 2/2 [00:00<00:00, 92.87it/s]\n",
      "100%|███████████████████████████████████████████████████████████████████████████████████████████████████████████████████| 1/1 [00:00<00:00, 38.91it/s]\n"
     ]
    },
    {
     "name": "stdout",
     "output_type": "stream",
     "text": [
      "Epoch 4/500 Train Total Loss: 0.06602 Train Src Loss: 0.00624 Train Tgt Loss: 0.05979 \n",
      "                 Val Total Loss: 0.31277 Val Src Loss: 0.2127 Val Tgt Loss: 0.10007\n"
     ]
    },
    {
     "name": "stderr",
     "output_type": "stream",
     "text": [
      "100%|██████████████████████████████████████████████████████████████████████████████████████████████████████████████████| 7/7 [00:00<00:00, 307.90it/s]\n",
      "100%|██████████████████████████████████████████████████████████████████████████████████████████████████████████████████| 2/2 [00:00<00:00, 161.39it/s]\n",
      "100%|██████████████████████████████████████████████████████████████████████████████████████████████████████████████████| 2/2 [00:00<00:00, 205.20it/s]\n",
      "100%|██████████████████████████████████████████████████████████████████████████████████████████████████████████████████| 1/1 [00:00<00:00, 120.35it/s]\n"
     ]
    },
    {
     "name": "stdout",
     "output_type": "stream",
     "text": [
      "Epoch 5/500 Train Total Loss: 0.06465 Train Src Loss: 0.00756 Train Tgt Loss: 0.05709 \n",
      "                 Val Total Loss: 0.32444 Val Src Loss: 0.23095 Val Tgt Loss: 0.09349\n"
     ]
    },
    {
     "name": "stderr",
     "output_type": "stream",
     "text": [
      "100%|██████████████████████████████████████████████████████████████████████████████████████████████████████████████████| 7/7 [00:00<00:00, 140.92it/s]\n",
      "100%|██████████████████████████████████████████████████████████████████████████████████████████████████████████████████| 2/2 [00:00<00:00, 245.41it/s]\n",
      "100%|██████████████████████████████████████████████████████████████████████████████████████████████████████████████████| 2/2 [00:00<00:00, 187.57it/s]\n",
      "100%|██████████████████████████████████████████████████████████████████████████████████████████████████████████████████| 1/1 [00:00<00:00, 164.01it/s]\n"
     ]
    },
    {
     "name": "stdout",
     "output_type": "stream",
     "text": [
      "Epoch 6/500 Train Total Loss: 0.07071 Train Src Loss: 0.00824 Train Tgt Loss: 0.06247 \n",
      "                 Val Total Loss: 0.31714 Val Src Loss: 0.22903 Val Tgt Loss: 0.08811\n"
     ]
    },
    {
     "name": "stderr",
     "output_type": "stream",
     "text": [
      "100%|██████████████████████████████████████████████████████████████████████████████████████████████████████████████████| 7/7 [00:00<00:00, 221.84it/s]\n",
      "100%|██████████████████████████████████████████████████████████████████████████████████████████████████████████████████| 2/2 [00:00<00:00, 155.54it/s]\n",
      "100%|██████████████████████████████████████████████████████████████████████████████████████████████████████████████████| 2/2 [00:00<00:00, 302.17it/s]\n",
      "100%|██████████████████████████████████████████████████████████████████████████████████████████████████████████████████| 1/1 [00:00<00:00, 422.90it/s]\n"
     ]
    },
    {
     "name": "stdout",
     "output_type": "stream",
     "text": [
      "Epoch 7/500 Train Total Loss: 0.06974 Train Src Loss: 0.00707 Train Tgt Loss: 0.06267 \n",
      "                 Val Total Loss: 0.31891 Val Src Loss: 0.22859 Val Tgt Loss: 0.09033\n"
     ]
    },
    {
     "name": "stderr",
     "output_type": "stream",
     "text": [
      "100%|██████████████████████████████████████████████████████████████████████████████████████████████████████████████████| 7/7 [00:00<00:00, 581.18it/s]\n",
      "100%|██████████████████████████████████████████████████████████████████████████████████████████████████████████████████| 2/2 [00:00<00:00, 445.54it/s]\n",
      "100%|██████████████████████████████████████████████████████████████████████████████████████████████████████████████████| 2/2 [00:00<00:00, 446.73it/s]\n",
      "100%|██████████████████████████████████████████████████████████████████████████████████████████████████████████████████| 1/1 [00:00<00:00, 311.84it/s]\n"
     ]
    },
    {
     "name": "stdout",
     "output_type": "stream",
     "text": [
      "Epoch 8/500 Train Total Loss: 0.06467 Train Src Loss: 0.00761 Train Tgt Loss: 0.05706 \n",
      "                 Val Total Loss: 0.32955 Val Src Loss: 0.24438 Val Tgt Loss: 0.08516\n"
     ]
    },
    {
     "name": "stderr",
     "output_type": "stream",
     "text": [
      "100%|██████████████████████████████████████████████████████████████████████████████████████████████████████████████████| 7/7 [00:00<00:00, 561.43it/s]\n",
      "100%|██████████████████████████████████████████████████████████████████████████████████████████████████████████████████| 2/2 [00:00<00:00, 446.58it/s]\n",
      "100%|██████████████████████████████████████████████████████████████████████████████████████████████████████████████████| 2/2 [00:00<00:00, 423.67it/s]\n",
      "100%|██████████████████████████████████████████████████████████████████████████████████████████████████████████████████| 1/1 [00:00<00:00, 305.97it/s]\n"
     ]
    },
    {
     "name": "stdout",
     "output_type": "stream",
     "text": [
      "Epoch 9/500 Train Total Loss: 0.06382 Train Src Loss: 0.00861 Train Tgt Loss: 0.05521 \n",
      "                 Val Total Loss: 0.34057 Val Src Loss: 0.25458 Val Tgt Loss: 0.086\n"
     ]
    },
    {
     "name": "stderr",
     "output_type": "stream",
     "text": [
      "100%|██████████████████████████████████████████████████████████████████████████████████████████████████████████████████| 7/7 [00:00<00:00, 566.61it/s]\n",
      "100%|██████████████████████████████████████████████████████████████████████████████████████████████████████████████████| 2/2 [00:00<00:00, 447.30it/s]\n",
      "100%|██████████████████████████████████████████████████████████████████████████████████████████████████████████████████| 2/2 [00:00<00:00, 588.18it/s]\n",
      "100%|██████████████████████████████████████████████████████████████████████████████████████████████████████████████████| 1/1 [00:00<00:00, 308.16it/s]\n"
     ]
    },
    {
     "name": "stdout",
     "output_type": "stream",
     "text": [
      "Epoch 10/500 Train Total Loss: 0.07046 Train Src Loss: 0.00856 Train Tgt Loss: 0.06191 \n",
      "                 Val Total Loss: 0.32837 Val Src Loss: 0.2573 Val Tgt Loss: 0.07107\n"
     ]
    },
    {
     "name": "stderr",
     "output_type": "stream",
     "text": [
      "100%|██████████████████████████████████████████████████████████████████████████████████████████████████████████████████| 7/7 [00:00<00:00, 180.29it/s]\n",
      "100%|███████████████████████████████████████████████████████████████████████████████████████████████████████████████████| 2/2 [00:00<00:00, 57.72it/s]\n",
      "100%|██████████████████████████████████████████████████████████████████████████████████████████████████████████████████| 2/2 [00:00<00:00, 143.44it/s]\n",
      "100%|██████████████████████████████████████████████████████████████████████████████████████████████████████████████████| 1/1 [00:00<00:00, 211.93it/s]\n"
     ]
    },
    {
     "name": "stdout",
     "output_type": "stream",
     "text": [
      "Epoch 11/500 Train Total Loss: 0.06038 Train Src Loss: 0.00913 Train Tgt Loss: 0.05125 \n",
      "                 Val Total Loss: 0.34462 Val Src Loss: 0.25889 Val Tgt Loss: 0.08573\n"
     ]
    },
    {
     "name": "stderr",
     "output_type": "stream",
     "text": [
      "100%|██████████████████████████████████████████████████████████████████████████████████████████████████████████████████| 7/7 [00:00<00:00, 153.89it/s]\n",
      "100%|██████████████████████████████████████████████████████████████████████████████████████████████████████████████████| 2/2 [00:00<00:00, 125.86it/s]\n",
      "100%|██████████████████████████████████████████████████████████████████████████████████████████████████████████████████| 2/2 [00:00<00:00, 317.80it/s]\n",
      "100%|██████████████████████████████████████████████████████████████████████████████████████████████████████████████████| 1/1 [00:00<00:00, 163.81it/s]\n"
     ]
    },
    {
     "name": "stdout",
     "output_type": "stream",
     "text": [
      "Epoch 12/500 Train Total Loss: 0.05996 Train Src Loss: 0.00853 Train Tgt Loss: 0.05143 \n",
      "                 Val Total Loss: 0.32535 Val Src Loss: 0.24901 Val Tgt Loss: 0.07634\n"
     ]
    },
    {
     "name": "stderr",
     "output_type": "stream",
     "text": [
      "100%|██████████████████████████████████████████████████████████████████████████████████████████████████████████████████| 7/7 [00:00<00:00, 229.15it/s]\n",
      "100%|██████████████████████████████████████████████████████████████████████████████████████████████████████████████████| 2/2 [00:00<00:00, 180.35it/s]\n",
      "100%|██████████████████████████████████████████████████████████████████████████████████████████████████████████████████| 2/2 [00:00<00:00, 208.06it/s]\n",
      "100%|██████████████████████████████████████████████████████████████████████████████████████████████████████████████████| 1/1 [00:00<00:00, 200.70it/s]\n"
     ]
    },
    {
     "name": "stdout",
     "output_type": "stream",
     "text": [
      "Epoch 13/500 Train Total Loss: 0.06241 Train Src Loss: 0.00948 Train Tgt Loss: 0.05293 \n",
      "                 Val Total Loss: 0.33819 Val Src Loss: 0.26075 Val Tgt Loss: 0.07744\n"
     ]
    },
    {
     "name": "stderr",
     "output_type": "stream",
     "text": [
      "100%|██████████████████████████████████████████████████████████████████████████████████████████████████████████████████| 7/7 [00:00<00:00, 482.23it/s]\n",
      "100%|██████████████████████████████████████████████████████████████████████████████████████████████████████████████████| 2/2 [00:00<00:00, 449.91it/s]\n",
      "100%|██████████████████████████████████████████████████████████████████████████████████████████████████████████████████| 2/2 [00:00<00:00, 586.90it/s]\n",
      "100%|██████████████████████████████████████████████████████████████████████████████████████████████████████████████████| 1/1 [00:00<00:00, 271.70it/s]\n"
     ]
    },
    {
     "name": "stdout",
     "output_type": "stream",
     "text": [
      "Epoch 14/500 Train Total Loss: 0.06422 Train Src Loss: 0.0102 Train Tgt Loss: 0.05402 \n",
      "                 Val Total Loss: 0.33309 Val Src Loss: 0.2676 Val Tgt Loss: 0.06548\n",
      "Test: 13 14\n",
      "Adapt train: 12 13\n",
      "Adapt val: 14\n"
     ]
    },
    {
     "name": "stderr",
     "output_type": "stream",
     "text": [
      "100%|██████████████████████████████████████████████████████████████████████████████████████████████████████████████████| 7/7 [00:00<00:00, 560.74it/s]\n",
      "100%|██████████████████████████████████████████████████████████████████████████████████████████████████████████████████| 2/2 [00:00<00:00, 448.28it/s]\n",
      "100%|██████████████████████████████████████████████████████████████████████████████████████████████████████████████████| 2/2 [00:00<00:00, 537.15it/s]\n",
      "100%|██████████████████████████████████████████████████████████████████████████████████████████████████████████████████| 1/1 [00:00<00:00, 298.89it/s]\n"
     ]
    },
    {
     "name": "stdout",
     "output_type": "stream",
     "text": [
      "Epoch 1/500 Train Total Loss: 0.10167 Train Src Loss: 0.00821 Train Tgt Loss: 0.09346 \n",
      "                 Val Total Loss: 0.32209 Val Src Loss: 0.22628 Val Tgt Loss: 0.09582\n"
     ]
    },
    {
     "name": "stderr",
     "output_type": "stream",
     "text": [
      "100%|██████████████████████████████████████████████████████████████████████████████████████████████████████████████████| 7/7 [00:00<00:00, 562.75it/s]\n",
      "100%|██████████████████████████████████████████████████████████████████████████████████████████████████████████████████| 2/2 [00:00<00:00, 450.11it/s]\n",
      "100%|██████████████████████████████████████████████████████████████████████████████████████████████████████████████████| 2/2 [00:00<00:00, 487.60it/s]\n",
      "100%|██████████████████████████████████████████████████████████████████████████████████████████████████████████████████| 1/1 [00:00<00:00, 211.87it/s]\n"
     ]
    },
    {
     "name": "stdout",
     "output_type": "stream",
     "text": [
      "Epoch 2/500 Train Total Loss: 0.09621 Train Src Loss: 0.00695 Train Tgt Loss: 0.08926 \n",
      "                 Val Total Loss: 0.31583 Val Src Loss: 0.22613 Val Tgt Loss: 0.08971\n"
     ]
    },
    {
     "name": "stderr",
     "output_type": "stream",
     "text": [
      "100%|██████████████████████████████████████████████████████████████████████████████████████████████████████████████████| 7/7 [00:00<00:00, 118.89it/s]\n",
      "100%|██████████████████████████████████████████████████████████████████████████████████████████████████████████████████| 2/2 [00:00<00:00, 150.88it/s]\n",
      "100%|██████████████████████████████████████████████████████████████████████████████████████████████████████████████████| 2/2 [00:00<00:00, 211.18it/s]\n",
      "100%|██████████████████████████████████████████████████████████████████████████████████████████████████████████████████| 1/1 [00:00<00:00, 162.96it/s]\n"
     ]
    },
    {
     "name": "stdout",
     "output_type": "stream",
     "text": [
      "Epoch 3/500 Train Total Loss: 0.09571 Train Src Loss: 0.00784 Train Tgt Loss: 0.08787 \n",
      "                 Val Total Loss: 0.32707 Val Src Loss: 0.23001 Val Tgt Loss: 0.09706\n"
     ]
    },
    {
     "name": "stderr",
     "output_type": "stream",
     "text": [
      "100%|██████████████████████████████████████████████████████████████████████████████████████████████████████████████████| 7/7 [00:00<00:00, 163.27it/s]\n",
      "100%|██████████████████████████████████████████████████████████████████████████████████████████████████████████████████| 2/2 [00:00<00:00, 104.03it/s]\n",
      "100%|██████████████████████████████████████████████████████████████████████████████████████████████████████████████████| 2/2 [00:00<00:00, 323.73it/s]\n",
      "100%|██████████████████████████████████████████████████████████████████████████████████████████████████████████████████| 1/1 [00:00<00:00, 239.87it/s]\n"
     ]
    },
    {
     "name": "stdout",
     "output_type": "stream",
     "text": [
      "Epoch 4/500 Train Total Loss: 0.09114 Train Src Loss: 0.00867 Train Tgt Loss: 0.08247 \n",
      "                 Val Total Loss: 0.32776 Val Src Loss: 0.2238 Val Tgt Loss: 0.10396\n"
     ]
    },
    {
     "name": "stderr",
     "output_type": "stream",
     "text": [
      "100%|██████████████████████████████████████████████████████████████████████████████████████████████████████████████████| 7/7 [00:00<00:00, 199.33it/s]\n",
      "100%|██████████████████████████████████████████████████████████████████████████████████████████████████████████████████| 2/2 [00:00<00:00, 209.33it/s]\n",
      "100%|██████████████████████████████████████████████████████████████████████████████████████████████████████████████████| 2/2 [00:00<00:00, 217.18it/s]\n",
      "100%|██████████████████████████████████████████████████████████████████████████████████████████████████████████████████| 1/1 [00:00<00:00, 186.70it/s]\n"
     ]
    },
    {
     "name": "stdout",
     "output_type": "stream",
     "text": [
      "Epoch 5/500 Train Total Loss: 0.09254 Train Src Loss: 0.00795 Train Tgt Loss: 0.08459 \n",
      "                 Val Total Loss: 0.33202 Val Src Loss: 0.23829 Val Tgt Loss: 0.09373\n"
     ]
    },
    {
     "name": "stderr",
     "output_type": "stream",
     "text": [
      "100%|██████████████████████████████████████████████████████████████████████████████████████████████████████████████████| 7/7 [00:00<00:00, 443.21it/s]\n",
      "100%|██████████████████████████████████████████████████████████████████████████████████████████████████████████████████| 2/2 [00:00<00:00, 427.99it/s]\n",
      "100%|██████████████████████████████████████████████████████████████████████████████████████████████████████████████████| 2/2 [00:00<00:00, 472.12it/s]\n",
      "100%|██████████████████████████████████████████████████████████████████████████████████████████████████████████████████| 1/1 [00:00<00:00, 293.57it/s]\n"
     ]
    },
    {
     "name": "stdout",
     "output_type": "stream",
     "text": [
      "Epoch 6/500 Train Total Loss: 0.09062 Train Src Loss: 0.0075 Train Tgt Loss: 0.08312 \n",
      "                 Val Total Loss: 0.31469 Val Src Loss: 0.23762 Val Tgt Loss: 0.07706\n"
     ]
    },
    {
     "name": "stderr",
     "output_type": "stream",
     "text": [
      "100%|██████████████████████████████████████████████████████████████████████████████████████████████████████████████████| 7/7 [00:00<00:00, 383.20it/s]\n",
      "100%|██████████████████████████████████████████████████████████████████████████████████████████████████████████████████| 2/2 [00:00<00:00, 393.15it/s]\n",
      "100%|██████████████████████████████████████████████████████████████████████████████████████████████████████████████████| 2/2 [00:00<00:00, 385.36it/s]\n",
      "100%|██████████████████████████████████████████████████████████████████████████████████████████████████████████████████| 1/1 [00:00<00:00, 392.32it/s]\n"
     ]
    },
    {
     "name": "stdout",
     "output_type": "stream",
     "text": [
      "Epoch 7/500 Train Total Loss: 0.0849 Train Src Loss: 0.0069 Train Tgt Loss: 0.078 \n",
      "                 Val Total Loss: 0.32451 Val Src Loss: 0.2494 Val Tgt Loss: 0.0751\n"
     ]
    },
    {
     "name": "stderr",
     "output_type": "stream",
     "text": [
      "100%|██████████████████████████████████████████████████████████████████████████████████████████████████████████████████| 7/7 [00:00<00:00, 550.93it/s]\n",
      "100%|██████████████████████████████████████████████████████████████████████████████████████████████████████████████████| 2/2 [00:00<00:00, 394.59it/s]\n",
      "100%|██████████████████████████████████████████████████████████████████████████████████████████████████████████████████| 2/2 [00:00<00:00, 192.42it/s]\n",
      "100%|██████████████████████████████████████████████████████████████████████████████████████████████████████████████████| 1/1 [00:00<00:00, 130.65it/s]\n"
     ]
    },
    {
     "name": "stdout",
     "output_type": "stream",
     "text": [
      "Epoch 8/500 Train Total Loss: 0.08213 Train Src Loss: 0.00945 Train Tgt Loss: 0.07268 \n",
      "                 Val Total Loss: 0.31232 Val Src Loss: 0.22997 Val Tgt Loss: 0.08236\n"
     ]
    },
    {
     "name": "stderr",
     "output_type": "stream",
     "text": [
      "100%|██████████████████████████████████████████████████████████████████████████████████████████████████████████████████| 7/7 [00:00<00:00, 125.05it/s]\n",
      "100%|██████████████████████████████████████████████████████████████████████████████████████████████████████████████████| 2/2 [00:00<00:00, 392.14it/s]\n",
      "100%|██████████████████████████████████████████████████████████████████████████████████████████████████████████████████| 2/2 [00:00<00:00, 158.21it/s]\n",
      "100%|██████████████████████████████████████████████████████████████████████████████████████████████████████████████████| 1/1 [00:00<00:00, 174.61it/s]\n"
     ]
    },
    {
     "name": "stdout",
     "output_type": "stream",
     "text": [
      "Epoch 9/500 Train Total Loss: 0.08538 Train Src Loss: 0.00897 Train Tgt Loss: 0.07641 \n",
      "                 Val Total Loss: 0.34351 Val Src Loss: 0.26136 Val Tgt Loss: 0.08216\n"
     ]
    },
    {
     "name": "stderr",
     "output_type": "stream",
     "text": [
      "100%|██████████████████████████████████████████████████████████████████████████████████████████████████████████████████| 7/7 [00:00<00:00, 149.45it/s]\n",
      "100%|██████████████████████████████████████████████████████████████████████████████████████████████████████████████████| 2/2 [00:00<00:00, 123.54it/s]\n",
      "100%|██████████████████████████████████████████████████████████████████████████████████████████████████████████████████| 2/2 [00:00<00:00, 274.27it/s]\n",
      "100%|██████████████████████████████████████████████████████████████████████████████████████████████████████████████████| 1/1 [00:00<00:00, 169.13it/s]\n"
     ]
    },
    {
     "name": "stdout",
     "output_type": "stream",
     "text": [
      "Epoch 10/500 Train Total Loss: 0.0799 Train Src Loss: 0.00881 Train Tgt Loss: 0.07109 \n",
      "                 Val Total Loss: 0.32809 Val Src Loss: 0.24934 Val Tgt Loss: 0.07875\n"
     ]
    },
    {
     "name": "stderr",
     "output_type": "stream",
     "text": [
      "100%|██████████████████████████████████████████████████████████████████████████████████████████████████████████████████| 7/7 [00:00<00:00, 224.67it/s]\n",
      "100%|██████████████████████████████████████████████████████████████████████████████████████████████████████████████████| 2/2 [00:00<00:00, 142.93it/s]\n",
      "100%|██████████████████████████████████████████████████████████████████████████████████████████████████████████████████| 2/2 [00:00<00:00, 200.12it/s]\n",
      "100%|██████████████████████████████████████████████████████████████████████████████████████████████████████████████████| 1/1 [00:00<00:00, 246.84it/s]\n"
     ]
    },
    {
     "name": "stdout",
     "output_type": "stream",
     "text": [
      "Epoch 11/500 Train Total Loss: 0.08209 Train Src Loss: 0.00947 Train Tgt Loss: 0.07263 \n",
      "                 Val Total Loss: 0.32839 Val Src Loss: 0.24156 Val Tgt Loss: 0.08683\n"
     ]
    },
    {
     "name": "stderr",
     "output_type": "stream",
     "text": [
      "100%|██████████████████████████████████████████████████████████████████████████████████████████████████████████████████| 7/7 [00:00<00:00, 549.43it/s]\n",
      "100%|██████████████████████████████████████████████████████████████████████████████████████████████████████████████████| 2/2 [00:00<00:00, 403.05it/s]\n",
      "100%|██████████████████████████████████████████████████████████████████████████████████████████████████████████████████| 2/2 [00:00<00:00, 372.51it/s]\n",
      "100%|██████████████████████████████████████████████████████████████████████████████████████████████████████████████████| 1/1 [00:00<00:00, 280.35it/s]\n"
     ]
    },
    {
     "name": "stdout",
     "output_type": "stream",
     "text": [
      "Epoch 12/500 Train Total Loss: 0.08128 Train Src Loss: 0.00916 Train Tgt Loss: 0.07212 \n",
      "                 Val Total Loss: 0.3188 Val Src Loss: 0.25394 Val Tgt Loss: 0.06485\n"
     ]
    },
    {
     "name": "stderr",
     "output_type": "stream",
     "text": [
      "100%|██████████████████████████████████████████████████████████████████████████████████████████████████████████████████| 7/7 [00:00<00:00, 542.63it/s]\n",
      "100%|██████████████████████████████████████████████████████████████████████████████████████████████████████████████████| 2/2 [00:00<00:00, 391.73it/s]\n",
      "100%|██████████████████████████████████████████████████████████████████████████████████████████████████████████████████| 2/2 [00:00<00:00, 513.50it/s]\n",
      "100%|██████████████████████████████████████████████████████████████████████████████████████████████████████████████████| 1/1 [00:00<00:00, 252.43it/s]\n"
     ]
    },
    {
     "name": "stdout",
     "output_type": "stream",
     "text": [
      "Epoch 13/500 Train Total Loss: 0.08444 Train Src Loss: 0.00958 Train Tgt Loss: 0.07487 \n",
      "                 Val Total Loss: 0.32953 Val Src Loss: 0.26639 Val Tgt Loss: 0.06315\n"
     ]
    },
    {
     "name": "stderr",
     "output_type": "stream",
     "text": [
      "100%|██████████████████████████████████████████████████████████████████████████████████████████████████████████████████| 7/7 [00:00<00:00, 399.52it/s]\n",
      "100%|██████████████████████████████████████████████████████████████████████████████████████████████████████████████████| 2/2 [00:00<00:00, 416.12it/s]\n",
      "100%|██████████████████████████████████████████████████████████████████████████████████████████████████████████████████| 2/2 [00:00<00:00, 199.17it/s]\n",
      "100%|██████████████████████████████████████████████████████████████████████████████████████████████████████████████████| 1/1 [00:00<00:00, 111.19it/s]\n"
     ]
    },
    {
     "name": "stdout",
     "output_type": "stream",
     "text": [
      "Epoch 14/500 Train Total Loss: 0.07823 Train Src Loss: 0.00993 Train Tgt Loss: 0.06831 \n",
      "                 Val Total Loss: 0.32008 Val Src Loss: 0.25501 Val Tgt Loss: 0.06507\n"
     ]
    },
    {
     "name": "stderr",
     "output_type": "stream",
     "text": [
      "100%|██████████████████████████████████████████████████████████████████████████████████████████████████████████████████| 7/7 [00:00<00:00, 121.51it/s]\n",
      "100%|██████████████████████████████████████████████████████████████████████████████████████████████████████████████████| 2/2 [00:00<00:00, 160.29it/s]\n",
      "100%|██████████████████████████████████████████████████████████████████████████████████████████████████████████████████| 2/2 [00:00<00:00, 180.70it/s]\n",
      "100%|██████████████████████████████████████████████████████████████████████████████████████████████████████████████████| 1/1 [00:00<00:00, 109.80it/s]\n"
     ]
    },
    {
     "name": "stdout",
     "output_type": "stream",
     "text": [
      "Epoch 15/500 Train Total Loss: 0.07668 Train Src Loss: 0.00975 Train Tgt Loss: 0.06693 \n",
      "                 Val Total Loss: 0.32697 Val Src Loss: 0.26666 Val Tgt Loss: 0.06031\n"
     ]
    },
    {
     "name": "stderr",
     "output_type": "stream",
     "text": [
      "100%|██████████████████████████████████████████████████████████████████████████████████████████████████████████████████| 7/7 [00:00<00:00, 144.21it/s]\n",
      "100%|██████████████████████████████████████████████████████████████████████████████████████████████████████████████████| 2/2 [00:00<00:00, 229.89it/s]\n",
      "100%|██████████████████████████████████████████████████████████████████████████████████████████████████████████████████| 2/2 [00:00<00:00, 160.59it/s]\n",
      "100%|██████████████████████████████████████████████████████████████████████████████████████████████████████████████████| 1/1 [00:00<00:00, 142.47it/s]\n"
     ]
    },
    {
     "name": "stdout",
     "output_type": "stream",
     "text": [
      "Epoch 16/500 Train Total Loss: 0.075 Train Src Loss: 0.0099 Train Tgt Loss: 0.06509 \n",
      "                 Val Total Loss: 0.33857 Val Src Loss: 0.27704 Val Tgt Loss: 0.06153\n"
     ]
    },
    {
     "name": "stderr",
     "output_type": "stream",
     "text": [
      "100%|██████████████████████████████████████████████████████████████████████████████████████████████████████████████████| 7/7 [00:00<00:00, 227.54it/s]\n",
      "100%|██████████████████████████████████████████████████████████████████████████████████████████████████████████████████| 2/2 [00:00<00:00, 176.34it/s]\n",
      "100%|██████████████████████████████████████████████████████████████████████████████████████████████████████████████████| 2/2 [00:00<00:00, 281.88it/s]\n",
      "100%|██████████████████████████████████████████████████████████████████████████████████████████████████████████████████| 1/1 [00:00<00:00, 351.28it/s]\n"
     ]
    },
    {
     "name": "stdout",
     "output_type": "stream",
     "text": [
      "Epoch 17/500 Train Total Loss: 0.07138 Train Src Loss: 0.01007 Train Tgt Loss: 0.0613 \n",
      "                 Val Total Loss: 0.34357 Val Src Loss: 0.28433 Val Tgt Loss: 0.05924\n"
     ]
    },
    {
     "name": "stderr",
     "output_type": "stream",
     "text": [
      "100%|██████████████████████████████████████████████████████████████████████████████████████████████████████████████████| 7/7 [00:00<00:00, 496.59it/s]\n",
      "100%|██████████████████████████████████████████████████████████████████████████████████████████████████████████████████| 2/2 [00:00<00:00, 378.50it/s]\n",
      "100%|██████████████████████████████████████████████████████████████████████████████████████████████████████████████████| 2/2 [00:00<00:00, 512.00it/s]\n",
      "100%|██████████████████████████████████████████████████████████████████████████████████████████████████████████████████| 1/1 [00:00<00:00, 262.95it/s]\n"
     ]
    },
    {
     "name": "stdout",
     "output_type": "stream",
     "text": [
      "Epoch 18/500 Train Total Loss: 0.07392 Train Src Loss: 0.01107 Train Tgt Loss: 0.06285 \n",
      "                 Val Total Loss: 0.32708 Val Src Loss: 0.26764 Val Tgt Loss: 0.05944\n"
     ]
    },
    {
     "name": "stderr",
     "output_type": "stream",
     "text": [
      "100%|██████████████████████████████████████████████████████████████████████████████████████████████████████████████████| 7/7 [00:00<00:00, 512.89it/s]\n",
      "100%|██████████████████████████████████████████████████████████████████████████████████████████████████████████████████| 2/2 [00:00<00:00, 404.52it/s]\n",
      "100%|██████████████████████████████████████████████████████████████████████████████████████████████████████████████████| 2/2 [00:00<00:00, 552.54it/s]\n",
      "100%|██████████████████████████████████████████████████████████████████████████████████████████████████████████████████| 1/1 [00:00<00:00, 259.32it/s]\n"
     ]
    },
    {
     "name": "stdout",
     "output_type": "stream",
     "text": [
      "Epoch 19/500 Train Total Loss: 0.06654 Train Src Loss: 0.01057 Train Tgt Loss: 0.05597 \n",
      "                 Val Total Loss: 0.33893 Val Src Loss: 0.28793 Val Tgt Loss: 0.051\n",
      "Test: 15 16\n",
      "Adapt train: 14 15\n",
      "Adapt val: 16\n"
     ]
    },
    {
     "name": "stderr",
     "output_type": "stream",
     "text": [
      "100%|██████████████████████████████████████████████████████████████████████████████████████████████████████████████████| 7/7 [00:00<00:00, 324.11it/s]\n",
      "100%|██████████████████████████████████████████████████████████████████████████████████████████████████████████████████| 2/2 [00:00<00:00, 113.48it/s]\n",
      "100%|███████████████████████████████████████████████████████████████████████████████████████████████████████████████████| 2/2 [00:00<00:00, 80.98it/s]\n",
      "100%|██████████████████████████████████████████████████████████████████████████████████████████████████████████████████| 1/1 [00:00<00:00, 171.46it/s]\n"
     ]
    },
    {
     "name": "stdout",
     "output_type": "stream",
     "text": [
      "Epoch 1/500 Train Total Loss: 0.09297 Train Src Loss: 0.00941 Train Tgt Loss: 0.08356 \n",
      "                 Val Total Loss: 0.33288 Val Src Loss: 0.24754 Val Tgt Loss: 0.08533\n"
     ]
    },
    {
     "name": "stderr",
     "output_type": "stream",
     "text": [
      "100%|██████████████████████████████████████████████████████████████████████████████████████████████████████████████████| 7/7 [00:00<00:00, 177.88it/s]\n",
      "100%|██████████████████████████████████████████████████████████████████████████████████████████████████████████████████| 2/2 [00:00<00:00, 103.20it/s]\n",
      "100%|██████████████████████████████████████████████████████████████████████████████████████████████████████████████████| 2/2 [00:00<00:00, 200.86it/s]\n",
      "100%|██████████████████████████████████████████████████████████████████████████████████████████████████████████████████| 1/1 [00:00<00:00, 114.24it/s]\n"
     ]
    },
    {
     "name": "stdout",
     "output_type": "stream",
     "text": [
      "Epoch 2/500 Train Total Loss: 0.09205 Train Src Loss: 0.0092 Train Tgt Loss: 0.08285 \n",
      "                 Val Total Loss: 0.31981 Val Src Loss: 0.24367 Val Tgt Loss: 0.07614\n"
     ]
    },
    {
     "name": "stderr",
     "output_type": "stream",
     "text": [
      "100%|██████████████████████████████████████████████████████████████████████████████████████████████████████████████████| 7/7 [00:00<00:00, 216.84it/s]\n",
      "100%|██████████████████████████████████████████████████████████████████████████████████████████████████████████████████| 2/2 [00:00<00:00, 187.33it/s]\n",
      "100%|██████████████████████████████████████████████████████████████████████████████████████████████████████████████████| 2/2 [00:00<00:00, 262.36it/s]\n",
      "100%|██████████████████████████████████████████████████████████████████████████████████████████████████████████████████| 1/1 [00:00<00:00, 143.06it/s]\n"
     ]
    },
    {
     "name": "stdout",
     "output_type": "stream",
     "text": [
      "Epoch 3/500 Train Total Loss: 0.09731 Train Src Loss: 0.01044 Train Tgt Loss: 0.08687 \n",
      "                 Val Total Loss: 0.33205 Val Src Loss: 0.24627 Val Tgt Loss: 0.08578\n"
     ]
    },
    {
     "name": "stderr",
     "output_type": "stream",
     "text": [
      "100%|██████████████████████████████████████████████████████████████████████████████████████████████████████████████████| 7/7 [00:00<00:00, 253.30it/s]\n",
      "100%|██████████████████████████████████████████████████████████████████████████████████████████████████████████████████| 2/2 [00:00<00:00, 430.25it/s]\n",
      "100%|██████████████████████████████████████████████████████████████████████████████████████████████████████████████████| 2/2 [00:00<00:00, 597.78it/s]\n",
      "100%|██████████████████████████████████████████████████████████████████████████████████████████████████████████████████| 1/1 [00:00<00:00, 421.03it/s]\n"
     ]
    },
    {
     "name": "stdout",
     "output_type": "stream",
     "text": [
      "Epoch 4/500 Train Total Loss: 0.08412 Train Src Loss: 0.00944 Train Tgt Loss: 0.07468 \n",
      "                 Val Total Loss: 0.31769 Val Src Loss: 0.25119 Val Tgt Loss: 0.06649\n"
     ]
    },
    {
     "name": "stderr",
     "output_type": "stream",
     "text": [
      "100%|██████████████████████████████████████████████████████████████████████████████████████████████████████████████████| 7/7 [00:00<00:00, 549.11it/s]\n",
      "100%|██████████████████████████████████████████████████████████████████████████████████████████████████████████████████| 2/2 [00:00<00:00, 436.18it/s]\n",
      "100%|██████████████████████████████████████████████████████████████████████████████████████████████████████████████████| 2/2 [00:00<00:00, 586.08it/s]\n",
      "100%|██████████████████████████████████████████████████████████████████████████████████████████████████████████████████| 1/1 [00:00<00:00, 440.35it/s]\n"
     ]
    },
    {
     "name": "stdout",
     "output_type": "stream",
     "text": [
      "Epoch 5/500 Train Total Loss: 0.08219 Train Src Loss: 0.00868 Train Tgt Loss: 0.07351 \n",
      "                 Val Total Loss: 0.3374 Val Src Loss: 0.27571 Val Tgt Loss: 0.06169\n"
     ]
    },
    {
     "name": "stderr",
     "output_type": "stream",
     "text": [
      "100%|██████████████████████████████████████████████████████████████████████████████████████████████████████████████████| 7/7 [00:00<00:00, 551.49it/s]\n",
      "100%|██████████████████████████████████████████████████████████████████████████████████████████████████████████████████| 2/2 [00:00<00:00, 439.82it/s]\n",
      "100%|██████████████████████████████████████████████████████████████████████████████████████████████████████████████████| 2/2 [00:00<00:00, 582.42it/s]\n",
      "100%|██████████████████████████████████████████████████████████████████████████████████████████████████████████████████| 1/1 [00:00<00:00, 433.12it/s]\n"
     ]
    },
    {
     "name": "stdout",
     "output_type": "stream",
     "text": [
      "Epoch 6/500 Train Total Loss: 0.07856 Train Src Loss: 0.01012 Train Tgt Loss: 0.06844 \n",
      "                 Val Total Loss: 0.32803 Val Src Loss: 0.26094 Val Tgt Loss: 0.06709\n"
     ]
    },
    {
     "name": "stderr",
     "output_type": "stream",
     "text": [
      "100%|██████████████████████████████████████████████████████████████████████████████████████████████████████████████████| 7/7 [00:00<00:00, 559.41it/s]\n",
      "100%|██████████████████████████████████████████████████████████████████████████████████████████████████████████████████| 2/2 [00:00<00:00, 431.78it/s]\n",
      "100%|██████████████████████████████████████████████████████████████████████████████████████████████████████████████████| 2/2 [00:00<00:00, 304.03it/s]\n",
      "100%|██████████████████████████████████████████████████████████████████████████████████████████████████████████████████| 1/1 [00:00<00:00, 164.21it/s]\n"
     ]
    },
    {
     "name": "stdout",
     "output_type": "stream",
     "text": [
      "Epoch 7/500 Train Total Loss: 0.06957 Train Src Loss: 0.00998 Train Tgt Loss: 0.05958 \n",
      "                 Val Total Loss: 0.33476 Val Src Loss: 0.26377 Val Tgt Loss: 0.07099\n"
     ]
    },
    {
     "name": "stderr",
     "output_type": "stream",
     "text": [
      "100%|██████████████████████████████████████████████████████████████████████████████████████████████████████████████████| 7/7 [00:00<00:00, 117.46it/s]\n",
      "100%|██████████████████████████████████████████████████████████████████████████████████████████████████████████████████| 2/2 [00:00<00:00, 109.76it/s]\n",
      "100%|██████████████████████████████████████████████████████████████████████████████████████████████████████████████████| 2/2 [00:00<00:00, 198.24it/s]\n",
      "100%|██████████████████████████████████████████████████████████████████████████████████████████████████████████████████| 1/1 [00:00<00:00, 130.49it/s]\n"
     ]
    },
    {
     "name": "stdout",
     "output_type": "stream",
     "text": [
      "Epoch 8/500 Train Total Loss: 0.07465 Train Src Loss: 0.01052 Train Tgt Loss: 0.06413 \n",
      "                 Val Total Loss: 0.35679 Val Src Loss: 0.27557 Val Tgt Loss: 0.08122\n"
     ]
    },
    {
     "name": "stderr",
     "output_type": "stream",
     "text": [
      "100%|██████████████████████████████████████████████████████████████████████████████████████████████████████████████████| 7/7 [00:00<00:00, 139.14it/s]\n",
      "100%|██████████████████████████████████████████████████████████████████████████████████████████████████████████████████| 2/2 [00:00<00:00, 201.47it/s]\n",
      "100%|██████████████████████████████████████████████████████████████████████████████████████████████████████████████████| 2/2 [00:00<00:00, 187.37it/s]\n",
      "100%|██████████████████████████████████████████████████████████████████████████████████████████████████████████████████| 1/1 [00:00<00:00, 191.62it/s]\n"
     ]
    },
    {
     "name": "stdout",
     "output_type": "stream",
     "text": [
      "Epoch 9/500 Train Total Loss: 0.07033 Train Src Loss: 0.01024 Train Tgt Loss: 0.06009 \n",
      "                 Val Total Loss: 0.36372 Val Src Loss: 0.28926 Val Tgt Loss: 0.07446\n"
     ]
    },
    {
     "name": "stderr",
     "output_type": "stream",
     "text": [
      "100%|██████████████████████████████████████████████████████████████████████████████████████████████████████████████████| 7/7 [00:00<00:00, 225.64it/s]\n",
      "100%|██████████████████████████████████████████████████████████████████████████████████████████████████████████████████| 2/2 [00:00<00:00, 197.44it/s]\n",
      "100%|██████████████████████████████████████████████████████████████████████████████████████████████████████████████████| 2/2 [00:00<00:00, 349.86it/s]\n",
      "100%|██████████████████████████████████████████████████████████████████████████████████████████████████████████████████| 1/1 [00:00<00:00, 399.15it/s]\n"
     ]
    },
    {
     "name": "stdout",
     "output_type": "stream",
     "text": [
      "Epoch 10/500 Train Total Loss: 0.06311 Train Src Loss: 0.01155 Train Tgt Loss: 0.05156 \n",
      "                 Val Total Loss: 0.33835 Val Src Loss: 0.26762 Val Tgt Loss: 0.07073\n"
     ]
    },
    {
     "name": "stderr",
     "output_type": "stream",
     "text": [
      "100%|██████████████████████████████████████████████████████████████████████████████████████████████████████████████████| 7/7 [00:00<00:00, 558.87it/s]\n",
      "100%|██████████████████████████████████████████████████████████████████████████████████████████████████████████████████| 2/2 [00:00<00:00, 441.78it/s]\n",
      "100%|██████████████████████████████████████████████████████████████████████████████████████████████████████████████████| 2/2 [00:00<00:00, 592.29it/s]\n",
      "100%|██████████████████████████████████████████████████████████████████████████████████████████████████████████████████| 1/1 [00:00<00:00, 413.23it/s]\n"
     ]
    },
    {
     "name": "stdout",
     "output_type": "stream",
     "text": [
      "Epoch 11/500 Train Total Loss: 0.07359 Train Src Loss: 0.01068 Train Tgt Loss: 0.06291 \n",
      "                 Val Total Loss: 0.33965 Val Src Loss: 0.27212 Val Tgt Loss: 0.06754\n"
     ]
    },
    {
     "name": "stderr",
     "output_type": "stream",
     "text": [
      "100%|██████████████████████████████████████████████████████████████████████████████████████████████████████████████████| 7/7 [00:00<00:00, 547.11it/s]\n",
      "100%|██████████████████████████████████████████████████████████████████████████████████████████████████████████████████| 2/2 [00:00<00:00, 436.79it/s]\n",
      "100%|██████████████████████████████████████████████████████████████████████████████████████████████████████████████████| 2/2 [00:00<00:00, 590.46it/s]\n",
      "100%|██████████████████████████████████████████████████████████████████████████████████████████████████████████████████| 1/1 [00:00<00:00, 453.73it/s]\n"
     ]
    },
    {
     "name": "stdout",
     "output_type": "stream",
     "text": [
      "Epoch 12/500 Train Total Loss: 0.06745 Train Src Loss: 0.01072 Train Tgt Loss: 0.05673 \n",
      "                 Val Total Loss: 0.35414 Val Src Loss: 0.27307 Val Tgt Loss: 0.08107\n"
     ]
    },
    {
     "name": "stderr",
     "output_type": "stream",
     "text": [
      "100%|██████████████████████████████████████████████████████████████████████████████████████████████████████████████████| 7/7 [00:00<00:00, 563.08it/s]\n",
      "100%|██████████████████████████████████████████████████████████████████████████████████████████████████████████████████| 2/2 [00:00<00:00, 433.70it/s]\n",
      "100%|██████████████████████████████████████████████████████████████████████████████████████████████████████████████████| 2/2 [00:00<00:00, 593.04it/s]\n",
      "100%|██████████████████████████████████████████████████████████████████████████████████████████████████████████████████| 1/1 [00:00<00:00, 419.47it/s]\n"
     ]
    },
    {
     "name": "stdout",
     "output_type": "stream",
     "text": [
      "Epoch 13/500 Train Total Loss: 0.06684 Train Src Loss: 0.01268 Train Tgt Loss: 0.05416 \n",
      "                 Val Total Loss: 0.35286 Val Src Loss: 0.296 Val Tgt Loss: 0.05685\n"
     ]
    },
    {
     "name": "stderr",
     "output_type": "stream",
     "text": [
      "100%|██████████████████████████████████████████████████████████████████████████████████████████████████████████████████| 7/7 [00:00<00:00, 159.97it/s]\n",
      "100%|███████████████████████████████████████████████████████████████████████████████████████████████████████████████████| 2/2 [00:00<00:00, 69.75it/s]\n",
      "100%|██████████████████████████████████████████████████████████████████████████████████████████████████████████████████| 2/2 [00:00<00:00, 155.08it/s]\n",
      "100%|██████████████████████████████████████████████████████████████████████████████████████████████████████████████████| 1/1 [00:00<00:00, 187.92it/s]\n"
     ]
    },
    {
     "name": "stdout",
     "output_type": "stream",
     "text": [
      "Epoch 14/500 Train Total Loss: 0.06948 Train Src Loss: 0.01281 Train Tgt Loss: 0.05667 \n",
      "                 Val Total Loss: 0.3575 Val Src Loss: 0.2897 Val Tgt Loss: 0.0678\n"
     ]
    },
    {
     "name": "stderr",
     "output_type": "stream",
     "text": [
      "100%|██████████████████████████████████████████████████████████████████████████████████████████████████████████████████| 7/7 [00:00<00:00, 140.35it/s]\n",
      "100%|██████████████████████████████████████████████████████████████████████████████████████████████████████████████████| 2/2 [00:00<00:00, 118.59it/s]\n",
      "100%|██████████████████████████████████████████████████████████████████████████████████████████████████████████████████| 2/2 [00:00<00:00, 253.65it/s]\n",
      "100%|██████████████████████████████████████████████████████████████████████████████████████████████████████████████████| 1/1 [00:00<00:00, 119.29it/s]\n"
     ]
    },
    {
     "name": "stdout",
     "output_type": "stream",
     "text": [
      "Epoch 15/500 Train Total Loss: 0.06077 Train Src Loss: 0.01049 Train Tgt Loss: 0.05029 \n",
      "                 Val Total Loss: 0.35615 Val Src Loss: 0.30361 Val Tgt Loss: 0.05254\n",
      "Test: 17 18\n",
      "Adapt train: 16 17\n",
      "Adapt val: 18\n"
     ]
    },
    {
     "name": "stderr",
     "output_type": "stream",
     "text": [
      "100%|██████████████████████████████████████████████████████████████████████████████████████████████████████████████████| 7/7 [00:00<00:00, 203.72it/s]\n",
      "100%|██████████████████████████████████████████████████████████████████████████████████████████████████████████████████| 2/2 [00:00<00:00, 222.45it/s]\n",
      "100%|██████████████████████████████████████████████████████████████████████████████████████████████████████████████████| 2/2 [00:00<00:00, 416.04it/s]\n",
      "100%|██████████████████████████████████████████████████████████████████████████████████████████████████████████████████| 1/1 [00:00<00:00, 395.95it/s]\n"
     ]
    },
    {
     "name": "stdout",
     "output_type": "stream",
     "text": [
      "Epoch 1/500 Train Total Loss: 0.08145 Train Src Loss: 0.01016 Train Tgt Loss: 0.07129 \n",
      "                 Val Total Loss: 0.37069 Val Src Loss: 0.27224 Val Tgt Loss: 0.09845\n"
     ]
    },
    {
     "name": "stderr",
     "output_type": "stream",
     "text": [
      "100%|██████████████████████████████████████████████████████████████████████████████████████████████████████████████████| 7/7 [00:00<00:00, 551.56it/s]\n",
      "100%|██████████████████████████████████████████████████████████████████████████████████████████████████████████████████| 2/2 [00:00<00:00, 412.78it/s]\n",
      "100%|██████████████████████████████████████████████████████████████████████████████████████████████████████████████████| 2/2 [00:00<00:00, 425.32it/s]\n",
      "100%|██████████████████████████████████████████████████████████████████████████████████████████████████████████████████| 1/1 [00:00<00:00, 294.46it/s]\n"
     ]
    },
    {
     "name": "stdout",
     "output_type": "stream",
     "text": [
      "Epoch 2/500 Train Total Loss: 0.08723 Train Src Loss: 0.01125 Train Tgt Loss: 0.07599 \n",
      "                 Val Total Loss: 0.34908 Val Src Loss: 0.26205 Val Tgt Loss: 0.08703\n"
     ]
    },
    {
     "name": "stderr",
     "output_type": "stream",
     "text": [
      "100%|██████████████████████████████████████████████████████████████████████████████████████████████████████████████████| 7/7 [00:00<00:00, 506.34it/s]\n",
      "100%|██████████████████████████████████████████████████████████████████████████████████████████████████████████████████| 2/2 [00:00<00:00, 400.54it/s]\n",
      "100%|██████████████████████████████████████████████████████████████████████████████████████████████████████████████████| 2/2 [00:00<00:00, 555.28it/s]\n",
      "100%|██████████████████████████████████████████████████████████████████████████████████████████████████████████████████| 1/1 [00:00<00:00, 259.24it/s]\n"
     ]
    },
    {
     "name": "stdout",
     "output_type": "stream",
     "text": [
      "Epoch 3/500 Train Total Loss: 0.07291 Train Src Loss: 0.0096 Train Tgt Loss: 0.06331 \n",
      "                 Val Total Loss: 0.34347 Val Src Loss: 0.2529 Val Tgt Loss: 0.09057\n"
     ]
    },
    {
     "name": "stderr",
     "output_type": "stream",
     "text": [
      "100%|██████████████████████████████████████████████████████████████████████████████████████████████████████████████████| 7/7 [00:00<00:00, 545.99it/s]\n",
      "100%|██████████████████████████████████████████████████████████████████████████████████████████████████████████████████| 2/2 [00:00<00:00, 188.35it/s]\n",
      "100%|███████████████████████████████████████████████████████████████████████████████████████████████████████████████████| 2/2 [00:00<00:00, 90.89it/s]\n",
      "100%|███████████████████████████████████████████████████████████████████████████████████████████████████████████████████| 1/1 [00:00<00:00, 36.58it/s]\n"
     ]
    },
    {
     "name": "stdout",
     "output_type": "stream",
     "text": [
      "Epoch 4/500 Train Total Loss: 0.08367 Train Src Loss: 0.01078 Train Tgt Loss: 0.07289 \n",
      "                 Val Total Loss: 0.36738 Val Src Loss: 0.27513 Val Tgt Loss: 0.09225\n"
     ]
    },
    {
     "name": "stderr",
     "output_type": "stream",
     "text": [
      "100%|██████████████████████████████████████████████████████████████████████████████████████████████████████████████████| 7/7 [00:00<00:00, 159.73it/s]\n",
      "100%|███████████████████████████████████████████████████████████████████████████████████████████████████████████████████| 2/2 [00:00<00:00, 95.57it/s]\n",
      "100%|██████████████████████████████████████████████████████████████████████████████████████████████████████████████████| 2/2 [00:00<00:00, 142.41it/s]\n",
      "100%|███████████████████████████████████████████████████████████████████████████████████████████████████████████████████| 1/1 [00:00<00:00, 98.78it/s]\n"
     ]
    },
    {
     "name": "stdout",
     "output_type": "stream",
     "text": [
      "Epoch 5/500 Train Total Loss: 0.08166 Train Src Loss: 0.01124 Train Tgt Loss: 0.07042 \n",
      "                 Val Total Loss: 0.35601 Val Src Loss: 0.26789 Val Tgt Loss: 0.08812\n"
     ]
    },
    {
     "name": "stderr",
     "output_type": "stream",
     "text": [
      "100%|██████████████████████████████████████████████████████████████████████████████████████████████████████████████████| 7/7 [00:00<00:00, 204.67it/s]\n",
      "100%|██████████████████████████████████████████████████████████████████████████████████████████████████████████████████| 2/2 [00:00<00:00, 198.62it/s]\n",
      "100%|██████████████████████████████████████████████████████████████████████████████████████████████████████████████████| 2/2 [00:00<00:00, 193.94it/s]\n",
      "100%|██████████████████████████████████████████████████████████████████████████████████████████████████████████████████| 1/1 [00:00<00:00, 128.29it/s]\n"
     ]
    },
    {
     "name": "stdout",
     "output_type": "stream",
     "text": [
      "Epoch 6/500 Train Total Loss: 0.07517 Train Src Loss: 0.01137 Train Tgt Loss: 0.0638 \n",
      "                 Val Total Loss: 0.36557 Val Src Loss: 0.27687 Val Tgt Loss: 0.0887\n"
     ]
    },
    {
     "name": "stderr",
     "output_type": "stream",
     "text": [
      "100%|██████████████████████████████████████████████████████████████████████████████████████████████████████████████████| 7/7 [00:00<00:00, 301.37it/s]\n",
      "100%|██████████████████████████████████████████████████████████████████████████████████████████████████████████████████| 2/2 [00:00<00:00, 422.56it/s]\n",
      "100%|██████████████████████████████████████████████████████████████████████████████████████████████████████████████████| 2/2 [00:00<00:00, 477.36it/s]\n",
      "100%|██████████████████████████████████████████████████████████████████████████████████████████████████████████████████| 1/1 [00:00<00:00, 271.13it/s]\n"
     ]
    },
    {
     "name": "stdout",
     "output_type": "stream",
     "text": [
      "Epoch 7/500 Train Total Loss: 0.07715 Train Src Loss: 0.0096 Train Tgt Loss: 0.06755 \n",
      "                 Val Total Loss: 0.36444 Val Src Loss: 0.28037 Val Tgt Loss: 0.08407\n"
     ]
    },
    {
     "name": "stderr",
     "output_type": "stream",
     "text": [
      "100%|██████████████████████████████████████████████████████████████████████████████████████████████████████████████████| 7/7 [00:00<00:00, 520.06it/s]\n",
      "100%|██████████████████████████████████████████████████████████████████████████████████████████████████████████████████| 2/2 [00:00<00:00, 410.32it/s]\n",
      "100%|██████████████████████████████████████████████████████████████████████████████████████████████████████████████████| 2/2 [00:00<00:00, 550.65it/s]\n",
      "100%|██████████████████████████████████████████████████████████████████████████████████████████████████████████████████| 1/1 [00:00<00:00, 267.36it/s]\n"
     ]
    },
    {
     "name": "stdout",
     "output_type": "stream",
     "text": [
      "Epoch 8/500 Train Total Loss: 0.0818 Train Src Loss: 0.01111 Train Tgt Loss: 0.07069 \n",
      "                 Val Total Loss: 0.36932 Val Src Loss: 0.26799 Val Tgt Loss: 0.10134\n"
     ]
    },
    {
     "name": "stderr",
     "output_type": "stream",
     "text": [
      "100%|██████████████████████████████████████████████████████████████████████████████████████████████████████████████████| 7/7 [00:00<00:00, 510.09it/s]\n",
      "100%|██████████████████████████████████████████████████████████████████████████████████████████████████████████████████| 2/2 [00:00<00:00, 412.74it/s]\n",
      "100%|██████████████████████████████████████████████████████████████████████████████████████████████████████████████████| 2/2 [00:00<00:00, 557.16it/s]\n",
      "100%|██████████████████████████████████████████████████████████████████████████████████████████████████████████████████| 1/1 [00:00<00:00, 267.85it/s]\n"
     ]
    },
    {
     "name": "stdout",
     "output_type": "stream",
     "text": [
      "Epoch 9/500 Train Total Loss: 0.06698 Train Src Loss: 0.01019 Train Tgt Loss: 0.05679 \n",
      "                 Val Total Loss: 0.3473 Val Src Loss: 0.2681 Val Tgt Loss: 0.0792\n"
     ]
    },
    {
     "name": "stderr",
     "output_type": "stream",
     "text": [
      "100%|██████████████████████████████████████████████████████████████████████████████████████████████████████████████████| 7/7 [00:00<00:00, 343.49it/s]\n",
      "100%|██████████████████████████████████████████████████████████████████████████████████████████████████████████████████| 2/2 [00:00<00:00, 127.99it/s]\n",
      "100%|███████████████████████████████████████████████████████████████████████████████████████████████████████████████████| 2/2 [00:00<00:00, 81.80it/s]\n",
      "100%|██████████████████████████████████████████████████████████████████████████████████████████████████████████████████| 1/1 [00:00<00:00, 134.40it/s]\n"
     ]
    },
    {
     "name": "stdout",
     "output_type": "stream",
     "text": [
      "Epoch 10/500 Train Total Loss: 0.07279 Train Src Loss: 0.01174 Train Tgt Loss: 0.06105 \n",
      "                 Val Total Loss: 0.33756 Val Src Loss: 0.26096 Val Tgt Loss: 0.0766\n"
     ]
    },
    {
     "name": "stderr",
     "output_type": "stream",
     "text": [
      "100%|██████████████████████████████████████████████████████████████████████████████████████████████████████████████████| 7/7 [00:00<00:00, 163.10it/s]\n",
      "100%|██████████████████████████████████████████████████████████████████████████████████████████████████████████████████| 2/2 [00:00<00:00, 103.37it/s]\n",
      "100%|██████████████████████████████████████████████████████████████████████████████████████████████████████████████████| 2/2 [00:00<00:00, 153.48it/s]\n",
      "100%|██████████████████████████████████████████████████████████████████████████████████████████████████████████████████| 1/1 [00:00<00:00, 212.66it/s]\n"
     ]
    },
    {
     "name": "stdout",
     "output_type": "stream",
     "text": [
      "Epoch 11/500 Train Total Loss: 0.07343 Train Src Loss: 0.01118 Train Tgt Loss: 0.06224 \n",
      "                 Val Total Loss: 0.34031 Val Src Loss: 0.25966 Val Tgt Loss: 0.08065\n"
     ]
    },
    {
     "name": "stderr",
     "output_type": "stream",
     "text": [
      "100%|██████████████████████████████████████████████████████████████████████████████████████████████████████████████████| 7/7 [00:00<00:00, 220.90it/s]\n",
      "100%|██████████████████████████████████████████████████████████████████████████████████████████████████████████████████| 2/2 [00:00<00:00, 189.74it/s]\n",
      "100%|██████████████████████████████████████████████████████████████████████████████████████████████████████████████████| 2/2 [00:00<00:00, 243.39it/s]\n",
      "100%|██████████████████████████████████████████████████████████████████████████████████████████████████████████████████| 1/1 [00:00<00:00, 100.85it/s]\n"
     ]
    },
    {
     "name": "stdout",
     "output_type": "stream",
     "text": [
      "Epoch 12/500 Train Total Loss: 0.08245 Train Src Loss: 0.01253 Train Tgt Loss: 0.06991 \n",
      "                 Val Total Loss: 0.35051 Val Src Loss: 0.26555 Val Tgt Loss: 0.08496\n"
     ]
    },
    {
     "name": "stderr",
     "output_type": "stream",
     "text": [
      "100%|██████████████████████████████████████████████████████████████████████████████████████████████████████████████████| 7/7 [00:00<00:00, 294.66it/s]\n",
      "100%|██████████████████████████████████████████████████████████████████████████████████████████████████████████████████| 2/2 [00:00<00:00, 450.37it/s]\n",
      "100%|██████████████████████████████████████████████████████████████████████████████████████████████████████████████████| 2/2 [00:00<00:00, 579.64it/s]\n",
      "100%|██████████████████████████████████████████████████████████████████████████████████████████████████████████████████| 1/1 [00:00<00:00, 307.16it/s]\n"
     ]
    },
    {
     "name": "stdout",
     "output_type": "stream",
     "text": [
      "Epoch 13/500 Train Total Loss: 0.06583 Train Src Loss: 0.00996 Train Tgt Loss: 0.05587 \n",
      "                 Val Total Loss: 0.34669 Val Src Loss: 0.26099 Val Tgt Loss: 0.0857\n"
     ]
    },
    {
     "name": "stderr",
     "output_type": "stream",
     "text": [
      "100%|██████████████████████████████████████████████████████████████████████████████████████████████████████████████████| 7/7 [00:00<00:00, 513.74it/s]\n",
      "100%|██████████████████████████████████████████████████████████████████████████████████████████████████████████████████| 2/2 [00:00<00:00, 454.03it/s]\n",
      "100%|██████████████████████████████████████████████████████████████████████████████████████████████████████████████████| 2/2 [00:00<00:00, 443.54it/s]\n",
      "100%|██████████████████████████████████████████████████████████████████████████████████████████████████████████████████| 1/1 [00:00<00:00, 308.27it/s]\n"
     ]
    },
    {
     "name": "stdout",
     "output_type": "stream",
     "text": [
      "Epoch 14/500 Train Total Loss: 0.07093 Train Src Loss: 0.01388 Train Tgt Loss: 0.05705 \n",
      "                 Val Total Loss: 0.35307 Val Src Loss: 0.27186 Val Tgt Loss: 0.08121\n"
     ]
    },
    {
     "name": "stderr",
     "output_type": "stream",
     "text": [
      "100%|██████████████████████████████████████████████████████████████████████████████████████████████████████████████████| 7/7 [00:00<00:00, 563.54it/s]\n",
      "100%|██████████████████████████████████████████████████████████████████████████████████████████████████████████████████| 2/2 [00:00<00:00, 453.17it/s]\n",
      "100%|██████████████████████████████████████████████████████████████████████████████████████████████████████████████████| 2/2 [00:00<00:00, 590.17it/s]\n",
      "100%|██████████████████████████████████████████████████████████████████████████████████████████████████████████████████| 1/1 [00:00<00:00, 307.14it/s]\n"
     ]
    },
    {
     "name": "stdout",
     "output_type": "stream",
     "text": [
      "Epoch 15/500 Train Total Loss: 0.0732 Train Src Loss: 0.0114 Train Tgt Loss: 0.06181 \n",
      "                 Val Total Loss: 0.34993 Val Src Loss: 0.27172 Val Tgt Loss: 0.07821\n"
     ]
    },
    {
     "name": "stderr",
     "output_type": "stream",
     "text": [
      "100%|██████████████████████████████████████████████████████████████████████████████████████████████████████████████████| 7/7 [00:00<00:00, 505.95it/s]\n",
      "100%|██████████████████████████████████████████████████████████████████████████████████████████████████████████████████| 2/2 [00:00<00:00, 223.45it/s]\n",
      "100%|███████████████████████████████████████████████████████████████████████████████████████████████████████████████████| 2/2 [00:00<00:00, 82.31it/s]\n",
      "100%|███████████████████████████████████████████████████████████████████████████████████████████████████████████████████| 1/1 [00:00<00:00, 36.83it/s]\n"
     ]
    },
    {
     "name": "stdout",
     "output_type": "stream",
     "text": [
      "Epoch 16/500 Train Total Loss: 0.07122 Train Src Loss: 0.01322 Train Tgt Loss: 0.058 \n",
      "                 Val Total Loss: 0.34467 Val Src Loss: 0.27321 Val Tgt Loss: 0.07146\n"
     ]
    },
    {
     "name": "stderr",
     "output_type": "stream",
     "text": [
      "100%|██████████████████████████████████████████████████████████████████████████████████████████████████████████████████| 7/7 [00:00<00:00, 167.89it/s]\n",
      "100%|██████████████████████████████████████████████████████████████████████████████████████████████████████████████████| 2/2 [00:00<00:00, 127.90it/s]\n",
      "100%|██████████████████████████████████████████████████████████████████████████████████████████████████████████████████| 2/2 [00:00<00:00, 138.74it/s]\n",
      "100%|██████████████████████████████████████████████████████████████████████████████████████████████████████████████████| 1/1 [00:00<00:00, 130.12it/s]\n"
     ]
    },
    {
     "name": "stdout",
     "output_type": "stream",
     "text": [
      "Epoch 17/500 Train Total Loss: 0.07689 Train Src Loss: 0.01252 Train Tgt Loss: 0.06436 \n",
      "                 Val Total Loss: 0.35101 Val Src Loss: 0.27446 Val Tgt Loss: 0.07655\n"
     ]
    },
    {
     "name": "stderr",
     "output_type": "stream",
     "text": [
      "100%|██████████████████████████████████████████████████████████████████████████████████████████████████████████████████| 7/7 [00:00<00:00, 220.76it/s]\n",
      "100%|██████████████████████████████████████████████████████████████████████████████████████████████████████████████████| 2/2 [00:00<00:00, 157.58it/s]\n",
      "100%|██████████████████████████████████████████████████████████████████████████████████████████████████████████████████| 2/2 [00:00<00:00, 345.51it/s]\n",
      "100%|██████████████████████████████████████████████████████████████████████████████████████████████████████████████████| 1/1 [00:00<00:00, 185.41it/s]\n"
     ]
    },
    {
     "name": "stdout",
     "output_type": "stream",
     "text": [
      "Epoch 18/500 Train Total Loss: 0.06878 Train Src Loss: 0.01139 Train Tgt Loss: 0.05739 \n",
      "                 Val Total Loss: 0.36018 Val Src Loss: 0.28061 Val Tgt Loss: 0.07956\n"
     ]
    },
    {
     "name": "stderr",
     "output_type": "stream",
     "text": [
      "100%|██████████████████████████████████████████████████████████████████████████████████████████████████████████████████| 7/7 [00:00<00:00, 231.25it/s]\n",
      "100%|██████████████████████████████████████████████████████████████████████████████████████████████████████████████████| 2/2 [00:00<00:00, 356.43it/s]\n",
      "100%|██████████████████████████████████████████████████████████████████████████████████████████████████████████████████| 2/2 [00:00<00:00, 590.66it/s]\n",
      "100%|██████████████████████████████████████████████████████████████████████████████████████████████████████████████████| 1/1 [00:00<00:00, 305.08it/s]\n"
     ]
    },
    {
     "name": "stdout",
     "output_type": "stream",
     "text": [
      "Epoch 19/500 Train Total Loss: 0.06652 Train Src Loss: 0.01235 Train Tgt Loss: 0.05417 \n",
      "                 Val Total Loss: 0.34283 Val Src Loss: 0.27892 Val Tgt Loss: 0.06391\n"
     ]
    },
    {
     "name": "stderr",
     "output_type": "stream",
     "text": [
      "100%|██████████████████████████████████████████████████████████████████████████████████████████████████████████████████| 7/7 [00:00<00:00, 491.49it/s]\n",
      "100%|██████████████████████████████████████████████████████████████████████████████████████████████████████████████████| 2/2 [00:00<00:00, 377.56it/s]\n",
      "100%|██████████████████████████████████████████████████████████████████████████████████████████████████████████████████| 2/2 [00:00<00:00, 422.03it/s]\n",
      "100%|██████████████████████████████████████████████████████████████████████████████████████████████████████████████████| 1/1 [00:00<00:00, 315.84it/s]\n"
     ]
    },
    {
     "name": "stdout",
     "output_type": "stream",
     "text": [
      "Epoch 20/500 Train Total Loss: 0.06299 Train Src Loss: 0.01139 Train Tgt Loss: 0.0516 \n",
      "                 Val Total Loss: 0.34726 Val Src Loss: 0.27443 Val Tgt Loss: 0.07283\n"
     ]
    },
    {
     "name": "stderr",
     "output_type": "stream",
     "text": [
      "100%|██████████████████████████████████████████████████████████████████████████████████████████████████████████████████| 7/7 [00:00<00:00, 546.96it/s]\n",
      "100%|██████████████████████████████████████████████████████████████████████████████████████████████████████████████████| 2/2 [00:00<00:00, 407.77it/s]\n",
      "100%|██████████████████████████████████████████████████████████████████████████████████████████████████████████████████| 2/2 [00:00<00:00, 556.16it/s]\n",
      "100%|██████████████████████████████████████████████████████████████████████████████████████████████████████████████████| 1/1 [00:00<00:00, 397.30it/s]\n"
     ]
    },
    {
     "name": "stdout",
     "output_type": "stream",
     "text": [
      "Epoch 21/500 Train Total Loss: 0.0688 Train Src Loss: 0.01318 Train Tgt Loss: 0.05562 \n",
      "                 Val Total Loss: 0.32889 Val Src Loss: 0.27017 Val Tgt Loss: 0.05872\n"
     ]
    },
    {
     "name": "stderr",
     "output_type": "stream",
     "text": [
      "100%|██████████████████████████████████████████████████████████████████████████████████████████████████████████████████| 7/7 [00:00<00:00, 532.64it/s]\n",
      "100%|██████████████████████████████████████████████████████████████████████████████████████████████████████████████████| 2/2 [00:00<00:00, 417.91it/s]\n",
      "100%|██████████████████████████████████████████████████████████████████████████████████████████████████████████████████| 2/2 [00:00<00:00, 202.28it/s]\n",
      "100%|██████████████████████████████████████████████████████████████████████████████████████████████████████████████████| 1/1 [00:00<00:00, 137.74it/s]\n"
     ]
    },
    {
     "name": "stdout",
     "output_type": "stream",
     "text": [
      "Epoch 22/500 Train Total Loss: 0.06754 Train Src Loss: 0.01281 Train Tgt Loss: 0.05473 \n",
      "                 Val Total Loss: 0.35422 Val Src Loss: 0.27921 Val Tgt Loss: 0.07501\n"
     ]
    },
    {
     "name": "stderr",
     "output_type": "stream",
     "text": [
      "100%|██████████████████████████████████████████████████████████████████████████████████████████████████████████████████| 7/7 [00:00<00:00, 125.17it/s]\n",
      "100%|██████████████████████████████████████████████████████████████████████████████████████████████████████████████████| 2/2 [00:00<00:00, 419.70it/s]\n",
      "100%|██████████████████████████████████████████████████████████████████████████████████████████████████████████████████| 2/2 [00:00<00:00, 191.64it/s]\n",
      "100%|██████████████████████████████████████████████████████████████████████████████████████████████████████████████████| 1/1 [00:00<00:00, 181.23it/s]\n"
     ]
    },
    {
     "name": "stdout",
     "output_type": "stream",
     "text": [
      "Epoch 23/500 Train Total Loss: 0.07388 Train Src Loss: 0.01114 Train Tgt Loss: 0.06274 \n",
      "                 Val Total Loss: 0.36257 Val Src Loss: 0.2819 Val Tgt Loss: 0.08067\n"
     ]
    },
    {
     "name": "stderr",
     "output_type": "stream",
     "text": [
      "100%|██████████████████████████████████████████████████████████████████████████████████████████████████████████████████| 7/7 [00:00<00:00, 161.71it/s]\n",
      "100%|██████████████████████████████████████████████████████████████████████████████████████████████████████████████████| 2/2 [00:00<00:00, 107.75it/s]\n",
      "100%|██████████████████████████████████████████████████████████████████████████████████████████████████████████████████| 2/2 [00:00<00:00, 319.24it/s]\n",
      "100%|██████████████████████████████████████████████████████████████████████████████████████████████████████████████████| 1/1 [00:00<00:00, 216.51it/s]\n"
     ]
    },
    {
     "name": "stdout",
     "output_type": "stream",
     "text": [
      "Epoch 24/500 Train Total Loss: 0.06017 Train Src Loss: 0.01173 Train Tgt Loss: 0.04843 \n",
      "                 Val Total Loss: 0.34977 Val Src Loss: 0.27241 Val Tgt Loss: 0.07736\n"
     ]
    },
    {
     "name": "stderr",
     "output_type": "stream",
     "text": [
      "100%|██████████████████████████████████████████████████████████████████████████████████████████████████████████████████| 7/7 [00:00<00:00, 206.64it/s]\n",
      "100%|██████████████████████████████████████████████████████████████████████████████████████████████████████████████████| 2/2 [00:00<00:00, 162.87it/s]\n",
      "100%|██████████████████████████████████████████████████████████████████████████████████████████████████████████████████| 2/2 [00:00<00:00, 206.52it/s]\n",
      "100%|██████████████████████████████████████████████████████████████████████████████████████████████████████████████████| 1/1 [00:00<00:00, 204.59it/s]\n"
     ]
    },
    {
     "name": "stdout",
     "output_type": "stream",
     "text": [
      "Epoch 25/500 Train Total Loss: 0.0592 Train Src Loss: 0.01168 Train Tgt Loss: 0.04752 \n",
      "                 Val Total Loss: 0.35263 Val Src Loss: 0.27871 Val Tgt Loss: 0.07393\n"
     ]
    },
    {
     "name": "stderr",
     "output_type": "stream",
     "text": [
      "100%|██████████████████████████████████████████████████████████████████████████████████████████████████████████████████| 7/7 [00:00<00:00, 434.14it/s]\n",
      "100%|██████████████████████████████████████████████████████████████████████████████████████████████████████████████████| 2/2 [00:00<00:00, 452.90it/s]\n",
      "100%|██████████████████████████████████████████████████████████████████████████████████████████████████████████████████| 2/2 [00:00<00:00, 436.34it/s]\n",
      "100%|██████████████████████████████████████████████████████████████████████████████████████████████████████████████████| 1/1 [00:00<00:00, 290.02it/s]\n"
     ]
    },
    {
     "name": "stdout",
     "output_type": "stream",
     "text": [
      "Epoch 26/500 Train Total Loss: 0.05935 Train Src Loss: 0.01244 Train Tgt Loss: 0.0469 \n",
      "                 Val Total Loss: 0.3512 Val Src Loss: 0.27799 Val Tgt Loss: 0.0732\n"
     ]
    },
    {
     "name": "stderr",
     "output_type": "stream",
     "text": [
      "100%|██████████████████████████████████████████████████████████████████████████████████████████████████████████████████| 7/7 [00:00<00:00, 567.89it/s]\n",
      "100%|██████████████████████████████████████████████████████████████████████████████████████████████████████████████████| 2/2 [00:00<00:00, 454.94it/s]\n",
      "100%|██████████████████████████████████████████████████████████████████████████████████████████████████████████████████| 2/2 [00:00<00:00, 519.90it/s]\n",
      "100%|██████████████████████████████████████████████████████████████████████████████████████████████████████████████████| 1/1 [00:00<00:00, 315.88it/s]\n"
     ]
    },
    {
     "name": "stdout",
     "output_type": "stream",
     "text": [
      "Epoch 27/500 Train Total Loss: 0.05997 Train Src Loss: 0.01234 Train Tgt Loss: 0.04763 \n",
      "                 Val Total Loss: 0.35607 Val Src Loss: 0.29042 Val Tgt Loss: 0.06565\n"
     ]
    },
    {
     "name": "stderr",
     "output_type": "stream",
     "text": [
      "100%|██████████████████████████████████████████████████████████████████████████████████████████████████████████████████| 7/7 [00:00<00:00, 551.19it/s]\n",
      "100%|██████████████████████████████████████████████████████████████████████████████████████████████████████████████████| 2/2 [00:00<00:00, 433.21it/s]\n",
      "100%|██████████████████████████████████████████████████████████████████████████████████████████████████████████████████| 2/2 [00:00<00:00, 395.50it/s]\n",
      "100%|██████████████████████████████████████████████████████████████████████████████████████████████████████████████████| 1/1 [00:00<00:00, 326.66it/s]\n"
     ]
    },
    {
     "name": "stdout",
     "output_type": "stream",
     "text": [
      "Epoch 28/500 Train Total Loss: 0.06368 Train Src Loss: 0.01117 Train Tgt Loss: 0.05251 \n",
      "                 Val Total Loss: 0.34266 Val Src Loss: 0.27803 Val Tgt Loss: 0.06463\n"
     ]
    },
    {
     "name": "stderr",
     "output_type": "stream",
     "text": [
      "100%|██████████████████████████████████████████████████████████████████████████████████████████████████████████████████| 7/7 [00:00<00:00, 422.42it/s]\n",
      "100%|██████████████████████████████████████████████████████████████████████████████████████████████████████████████████| 2/2 [00:00<00:00, 172.88it/s]\n",
      "100%|██████████████████████████████████████████████████████████████████████████████████████████████████████████████████| 2/2 [00:00<00:00, 144.12it/s]\n",
      "100%|███████████████████████████████████████████████████████████████████████████████████████████████████████████████████| 1/1 [00:00<00:00, 51.85it/s]\n"
     ]
    },
    {
     "name": "stdout",
     "output_type": "stream",
     "text": [
      "Epoch 29/500 Train Total Loss: 0.06305 Train Src Loss: 0.01155 Train Tgt Loss: 0.0515 \n",
      "                 Val Total Loss: 0.37368 Val Src Loss: 0.29528 Val Tgt Loss: 0.0784\n"
     ]
    },
    {
     "name": "stderr",
     "output_type": "stream",
     "text": [
      "100%|██████████████████████████████████████████████████████████████████████████████████████████████████████████████████| 7/7 [00:00<00:00, 490.25it/s]\n",
      "100%|██████████████████████████████████████████████████████████████████████████████████████████████████████████████████| 2/2 [00:00<00:00, 208.73it/s]\n",
      "100%|██████████████████████████████████████████████████████████████████████████████████████████████████████████████████| 2/2 [00:00<00:00, 215.26it/s]\n",
      "100%|███████████████████████████████████████████████████████████████████████████████████████████████████████████████████| 1/1 [00:00<00:00, 98.25it/s]\n"
     ]
    },
    {
     "name": "stdout",
     "output_type": "stream",
     "text": [
      "Epoch 30/500 Train Total Loss: 0.0669 Train Src Loss: 0.01359 Train Tgt Loss: 0.05332 \n",
      "                 Val Total Loss: 0.33601 Val Src Loss: 0.27315 Val Tgt Loss: 0.06286\n"
     ]
    },
    {
     "name": "stderr",
     "output_type": "stream",
     "text": [
      "100%|██████████████████████████████████████████████████████████████████████████████████████████████████████████████████| 7/7 [00:00<00:00, 136.33it/s]\n",
      "100%|██████████████████████████████████████████████████████████████████████████████████████████████████████████████████| 2/2 [00:00<00:00, 220.09it/s]\n",
      "100%|██████████████████████████████████████████████████████████████████████████████████████████████████████████████████| 2/2 [00:00<00:00, 153.78it/s]\n",
      "100%|██████████████████████████████████████████████████████████████████████████████████████████████████████████████████| 1/1 [00:00<00:00, 147.23it/s]\n"
     ]
    },
    {
     "name": "stdout",
     "output_type": "stream",
     "text": [
      "Epoch 31/500 Train Total Loss: 0.06574 Train Src Loss: 0.01258 Train Tgt Loss: 0.05316 \n",
      "                 Val Total Loss: 0.34672 Val Src Loss: 0.27911 Val Tgt Loss: 0.06761\n"
     ]
    },
    {
     "name": "stderr",
     "output_type": "stream",
     "text": [
      "100%|██████████████████████████████████████████████████████████████████████████████████████████████████████████████████| 7/7 [00:00<00:00, 215.80it/s]\n",
      "100%|██████████████████████████████████████████████████████████████████████████████████████████████████████████████████| 2/2 [00:00<00:00, 179.57it/s]\n",
      "100%|██████████████████████████████████████████████████████████████████████████████████████████████████████████████████| 2/2 [00:00<00:00, 281.65it/s]\n",
      "100%|██████████████████████████████████████████████████████████████████████████████████████████████████████████████████| 1/1 [00:00<00:00, 272.53it/s]\n"
     ]
    },
    {
     "name": "stdout",
     "output_type": "stream",
     "text": [
      "Epoch 32/500 Train Total Loss: 0.06182 Train Src Loss: 0.0114 Train Tgt Loss: 0.05041 \n",
      "                 Val Total Loss: 0.35317 Val Src Loss: 0.28046 Val Tgt Loss: 0.07271\n",
      "Test: 19 20\n",
      "Adapt train: 18 19\n",
      "Adapt val: 20\n"
     ]
    },
    {
     "name": "stderr",
     "output_type": "stream",
     "text": [
      "100%|██████████████████████████████████████████████████████████████████████████████████████████████████████████████████| 7/7 [00:00<00:00, 511.53it/s]\n",
      "100%|██████████████████████████████████████████████████████████████████████████████████████████████████████████████████| 2/2 [00:00<00:00, 365.76it/s]\n",
      "100%|██████████████████████████████████████████████████████████████████████████████████████████████████████████████████| 2/2 [00:00<00:00, 351.58it/s]\n",
      "100%|██████████████████████████████████████████████████████████████████████████████████████████████████████████████████| 1/1 [00:00<00:00, 371.08it/s]\n"
     ]
    },
    {
     "name": "stdout",
     "output_type": "stream",
     "text": [
      "Epoch 1/500 Train Total Loss: 0.10558 Train Src Loss: 0.01201 Train Tgt Loss: 0.09357 \n",
      "                 Val Total Loss: 0.40472 Val Src Loss: 0.28119 Val Tgt Loss: 0.12353\n"
     ]
    },
    {
     "name": "stderr",
     "output_type": "stream",
     "text": [
      "100%|██████████████████████████████████████████████████████████████████████████████████████████████████████████████████| 7/7 [00:00<00:00, 512.14it/s]\n",
      "100%|██████████████████████████████████████████████████████████████████████████████████████████████████████████████████| 2/2 [00:00<00:00, 391.33it/s]\n",
      "100%|██████████████████████████████████████████████████████████████████████████████████████████████████████████████████| 2/2 [00:00<00:00, 333.72it/s]\n",
      "100%|██████████████████████████████████████████████████████████████████████████████████████████████████████████████████| 1/1 [00:00<00:00, 195.37it/s]\n"
     ]
    },
    {
     "name": "stdout",
     "output_type": "stream",
     "text": [
      "Epoch 2/500 Train Total Loss: 0.1005 Train Src Loss: 0.012 Train Tgt Loss: 0.0885 \n",
      "                 Val Total Loss: 0.38448 Val Src Loss: 0.28065 Val Tgt Loss: 0.10384\n"
     ]
    },
    {
     "name": "stderr",
     "output_type": "stream",
     "text": [
      "100%|██████████████████████████████████████████████████████████████████████████████████████████████████████████████████| 7/7 [00:00<00:00, 111.12it/s]\n",
      "100%|██████████████████████████████████████████████████████████████████████████████████████████████████████████████████| 2/2 [00:00<00:00, 173.57it/s]\n",
      "100%|██████████████████████████████████████████████████████████████████████████████████████████████████████████████████| 2/2 [00:00<00:00, 226.28it/s]\n",
      "100%|██████████████████████████████████████████████████████████████████████████████████████████████████████████████████| 1/1 [00:00<00:00, 149.24it/s]\n"
     ]
    },
    {
     "name": "stdout",
     "output_type": "stream",
     "text": [
      "Epoch 3/500 Train Total Loss: 0.10213 Train Src Loss: 0.01269 Train Tgt Loss: 0.08944 \n",
      "                 Val Total Loss: 0.40996 Val Src Loss: 0.2917 Val Tgt Loss: 0.11826\n"
     ]
    },
    {
     "name": "stderr",
     "output_type": "stream",
     "text": [
      "100%|██████████████████████████████████████████████████████████████████████████████████████████████████████████████████| 7/7 [00:00<00:00, 144.61it/s]\n",
      "100%|██████████████████████████████████████████████████████████████████████████████████████████████████████████████████| 2/2 [00:00<00:00, 119.63it/s]\n",
      "100%|██████████████████████████████████████████████████████████████████████████████████████████████████████████████████| 2/2 [00:00<00:00, 176.20it/s]\n",
      "100%|██████████████████████████████████████████████████████████████████████████████████████████████████████████████████| 1/1 [00:00<00:00, 124.80it/s]\n"
     ]
    },
    {
     "name": "stdout",
     "output_type": "stream",
     "text": [
      "Epoch 4/500 Train Total Loss: 0.10259 Train Src Loss: 0.01361 Train Tgt Loss: 0.08898 \n",
      "                 Val Total Loss: 0.37657 Val Src Loss: 0.27386 Val Tgt Loss: 0.10271\n"
     ]
    },
    {
     "name": "stderr",
     "output_type": "stream",
     "text": [
      "100%|██████████████████████████████████████████████████████████████████████████████████████████████████████████████████| 7/7 [00:00<00:00, 288.78it/s]\n",
      "100%|██████████████████████████████████████████████████████████████████████████████████████████████████████████████████| 2/2 [00:00<00:00, 126.04it/s]\n",
      "100%|██████████████████████████████████████████████████████████████████████████████████████████████████████████████████| 2/2 [00:00<00:00, 231.58it/s]\n",
      "100%|██████████████████████████████████████████████████████████████████████████████████████████████████████████████████| 1/1 [00:00<00:00, 364.94it/s]\n"
     ]
    },
    {
     "name": "stdout",
     "output_type": "stream",
     "text": [
      "Epoch 5/500 Train Total Loss: 0.09569 Train Src Loss: 0.01152 Train Tgt Loss: 0.08417 \n",
      "                 Val Total Loss: 0.38533 Val Src Loss: 0.28064 Val Tgt Loss: 0.10469\n"
     ]
    },
    {
     "name": "stderr",
     "output_type": "stream",
     "text": [
      "100%|██████████████████████████████████████████████████████████████████████████████████████████████████████████████████| 7/7 [00:00<00:00, 500.21it/s]\n",
      "100%|██████████████████████████████████████████████████████████████████████████████████████████████████████████████████| 2/2 [00:00<00:00, 368.42it/s]\n",
      "100%|██████████████████████████████████████████████████████████████████████████████████████████████████████████████████| 2/2 [00:00<00:00, 366.38it/s]\n",
      "100%|██████████████████████████████████████████████████████████████████████████████████████████████████████████████████| 1/1 [00:00<00:00, 256.39it/s]\n"
     ]
    },
    {
     "name": "stdout",
     "output_type": "stream",
     "text": [
      "Epoch 6/500 Train Total Loss: 0.08862 Train Src Loss: 0.01271 Train Tgt Loss: 0.07591 \n",
      "                 Val Total Loss: 0.38141 Val Src Loss: 0.25405 Val Tgt Loss: 0.12736\n"
     ]
    },
    {
     "name": "stderr",
     "output_type": "stream",
     "text": [
      "100%|██████████████████████████████████████████████████████████████████████████████████████████████████████████████████| 7/7 [00:00<00:00, 364.56it/s]\n",
      "100%|██████████████████████████████████████████████████████████████████████████████████████████████████████████████████| 2/2 [00:00<00:00, 288.67it/s]\n",
      "100%|██████████████████████████████████████████████████████████████████████████████████████████████████████████████████| 2/2 [00:00<00:00, 485.85it/s]\n",
      "100%|██████████████████████████████████████████████████████████████████████████████████████████████████████████████████| 1/1 [00:00<00:00, 245.28it/s]\n"
     ]
    },
    {
     "name": "stdout",
     "output_type": "stream",
     "text": [
      "Epoch 7/500 Train Total Loss: 0.09589 Train Src Loss: 0.01194 Train Tgt Loss: 0.08395 \n",
      "                 Val Total Loss: 0.39092 Val Src Loss: 0.28717 Val Tgt Loss: 0.10374\n"
     ]
    },
    {
     "name": "stderr",
     "output_type": "stream",
     "text": [
      "100%|██████████████████████████████████████████████████████████████████████████████████████████████████████████████████| 7/7 [00:00<00:00, 443.79it/s]\n",
      "100%|██████████████████████████████████████████████████████████████████████████████████████████████████████████████████| 2/2 [00:00<00:00, 408.18it/s]\n",
      "100%|██████████████████████████████████████████████████████████████████████████████████████████████████████████████████| 2/2 [00:00<00:00, 168.51it/s]\n",
      "100%|██████████████████████████████████████████████████████████████████████████████████████████████████████████████████| 1/1 [00:00<00:00, 160.97it/s]\n"
     ]
    },
    {
     "name": "stdout",
     "output_type": "stream",
     "text": [
      "Epoch 8/500 Train Total Loss: 0.09293 Train Src Loss: 0.01079 Train Tgt Loss: 0.08213 \n",
      "                 Val Total Loss: 0.37514 Val Src Loss: 0.26079 Val Tgt Loss: 0.11436\n"
     ]
    },
    {
     "name": "stderr",
     "output_type": "stream",
     "text": [
      "100%|██████████████████████████████████████████████████████████████████████████████████████████████████████████████████| 7/7 [00:00<00:00, 135.56it/s]\n",
      "100%|██████████████████████████████████████████████████████████████████████████████████████████████████████████████████| 2/2 [00:00<00:00, 375.01it/s]\n",
      "100%|██████████████████████████████████████████████████████████████████████████████████████████████████████████████████| 2/2 [00:00<00:00, 227.45it/s]\n",
      "100%|██████████████████████████████████████████████████████████████████████████████████████████████████████████████████| 1/1 [00:00<00:00, 152.14it/s]\n"
     ]
    },
    {
     "name": "stdout",
     "output_type": "stream",
     "text": [
      "Epoch 9/500 Train Total Loss: 0.09295 Train Src Loss: 0.01068 Train Tgt Loss: 0.08226 \n",
      "                 Val Total Loss: 0.37284 Val Src Loss: 0.26298 Val Tgt Loss: 0.10986\n"
     ]
    },
    {
     "name": "stderr",
     "output_type": "stream",
     "text": [
      "100%|██████████████████████████████████████████████████████████████████████████████████████████████████████████████████| 7/7 [00:00<00:00, 182.68it/s]\n",
      "100%|██████████████████████████████████████████████████████████████████████████████████████████████████████████████████| 2/2 [00:00<00:00, 102.36it/s]\n",
      "100%|██████████████████████████████████████████████████████████████████████████████████████████████████████████████████| 2/2 [00:00<00:00, 172.46it/s]\n",
      "100%|██████████████████████████████████████████████████████████████████████████████████████████████████████████████████| 1/1 [00:00<00:00, 241.86it/s]\n"
     ]
    },
    {
     "name": "stdout",
     "output_type": "stream",
     "text": [
      "Epoch 10/500 Train Total Loss: 0.0914 Train Src Loss: 0.0115 Train Tgt Loss: 0.07991 \n",
      "                 Val Total Loss: 0.36927 Val Src Loss: 0.26594 Val Tgt Loss: 0.10333\n"
     ]
    },
    {
     "name": "stderr",
     "output_type": "stream",
     "text": [
      "100%|██████████████████████████████████████████████████████████████████████████████████████████████████████████████████| 7/7 [00:00<00:00, 209.54it/s]\n",
      "100%|██████████████████████████████████████████████████████████████████████████████████████████████████████████████████| 2/2 [00:00<00:00, 202.42it/s]\n",
      "100%|██████████████████████████████████████████████████████████████████████████████████████████████████████████████████| 2/2 [00:00<00:00, 190.10it/s]\n",
      "100%|██████████████████████████████████████████████████████████████████████████████████████████████████████████████████| 1/1 [00:00<00:00, 198.16it/s]\n"
     ]
    },
    {
     "name": "stdout",
     "output_type": "stream",
     "text": [
      "Epoch 11/500 Train Total Loss: 0.09752 Train Src Loss: 0.01339 Train Tgt Loss: 0.08414 \n",
      "                 Val Total Loss: 0.37721 Val Src Loss: 0.27228 Val Tgt Loss: 0.10493\n"
     ]
    },
    {
     "name": "stderr",
     "output_type": "stream",
     "text": [
      "100%|██████████████████████████████████████████████████████████████████████████████████████████████████████████████████| 7/7 [00:00<00:00, 385.90it/s]\n",
      "100%|██████████████████████████████████████████████████████████████████████████████████████████████████████████████████| 2/2 [00:00<00:00, 413.25it/s]\n",
      "100%|██████████████████████████████████████████████████████████████████████████████████████████████████████████████████| 2/2 [00:00<00:00, 574.96it/s]\n",
      "100%|██████████████████████████████████████████████████████████████████████████████████████████████████████████████████| 1/1 [00:00<00:00, 413.19it/s]\n"
     ]
    },
    {
     "name": "stdout",
     "output_type": "stream",
     "text": [
      "Epoch 12/500 Train Total Loss: 0.09438 Train Src Loss: 0.01213 Train Tgt Loss: 0.08225 \n",
      "                 Val Total Loss: 0.37989 Val Src Loss: 0.2759 Val Tgt Loss: 0.10399\n"
     ]
    },
    {
     "name": "stderr",
     "output_type": "stream",
     "text": [
      "100%|██████████████████████████████████████████████████████████████████████████████████████████████████████████████████| 7/7 [00:00<00:00, 554.77it/s]\n",
      "100%|██████████████████████████████████████████████████████████████████████████████████████████████████████████████████| 2/2 [00:00<00:00, 429.35it/s]\n",
      "100%|██████████████████████████████████████████████████████████████████████████████████████████████████████████████████| 2/2 [00:00<00:00, 570.89it/s]\n",
      "100%|██████████████████████████████████████████████████████████████████████████████████████████████████████████████████| 1/1 [00:00<00:00, 448.16it/s]\n"
     ]
    },
    {
     "name": "stdout",
     "output_type": "stream",
     "text": [
      "Epoch 13/500 Train Total Loss: 0.09243 Train Src Loss: 0.01133 Train Tgt Loss: 0.0811 \n",
      "                 Val Total Loss: 0.38568 Val Src Loss: 0.27347 Val Tgt Loss: 0.11221\n"
     ]
    },
    {
     "name": "stderr",
     "output_type": "stream",
     "text": [
      "100%|██████████████████████████████████████████████████████████████████████████████████████████████████████████████████| 7/7 [00:00<00:00, 558.59it/s]\n",
      "100%|██████████████████████████████████████████████████████████████████████████████████████████████████████████████████| 2/2 [00:00<00:00, 419.35it/s]\n",
      "100%|██████████████████████████████████████████████████████████████████████████████████████████████████████████████████| 2/2 [00:00<00:00, 591.29it/s]\n",
      "100%|██████████████████████████████████████████████████████████████████████████████████████████████████████████████████| 1/1 [00:00<00:00, 433.30it/s]\n"
     ]
    },
    {
     "name": "stdout",
     "output_type": "stream",
     "text": [
      "Epoch 14/500 Train Total Loss: 0.08922 Train Src Loss: 0.0136 Train Tgt Loss: 0.07562 \n",
      "                 Val Total Loss: 0.39293 Val Src Loss: 0.28224 Val Tgt Loss: 0.11069\n"
     ]
    },
    {
     "name": "stderr",
     "output_type": "stream",
     "text": [
      "100%|██████████████████████████████████████████████████████████████████████████████████████████████████████████████████| 7/7 [00:00<00:00, 560.68it/s]\n",
      "100%|██████████████████████████████████████████████████████████████████████████████████████████████████████████████████| 2/2 [00:00<00:00, 392.65it/s]\n",
      "100%|██████████████████████████████████████████████████████████████████████████████████████████████████████████████████| 2/2 [00:00<00:00, 219.57it/s]\n",
      "100%|██████████████████████████████████████████████████████████████████████████████████████████████████████████████████| 1/1 [00:00<00:00, 216.11it/s]\n"
     ]
    },
    {
     "name": "stdout",
     "output_type": "stream",
     "text": [
      "Epoch 15/500 Train Total Loss: 0.09223 Train Src Loss: 0.01249 Train Tgt Loss: 0.07974 \n",
      "                 Val Total Loss: 0.37281 Val Src Loss: 0.27449 Val Tgt Loss: 0.09832\n"
     ]
    },
    {
     "name": "stderr",
     "output_type": "stream",
     "text": [
      "100%|██████████████████████████████████████████████████████████████████████████████████████████████████████████████████| 7/7 [00:00<00:00, 118.72it/s]\n",
      "100%|██████████████████████████████████████████████████████████████████████████████████████████████████████████████████| 2/2 [00:00<00:00, 130.91it/s]\n",
      "100%|██████████████████████████████████████████████████████████████████████████████████████████████████████████████████| 2/2 [00:00<00:00, 199.28it/s]\n",
      "100%|██████████████████████████████████████████████████████████████████████████████████████████████████████████████████| 1/1 [00:00<00:00, 124.75it/s]\n"
     ]
    },
    {
     "name": "stdout",
     "output_type": "stream",
     "text": [
      "Epoch 16/500 Train Total Loss: 0.09154 Train Src Loss: 0.01227 Train Tgt Loss: 0.07926 \n",
      "                 Val Total Loss: 0.38028 Val Src Loss: 0.27161 Val Tgt Loss: 0.10866\n"
     ]
    },
    {
     "name": "stderr",
     "output_type": "stream",
     "text": [
      "100%|██████████████████████████████████████████████████████████████████████████████████████████████████████████████████| 7/7 [00:00<00:00, 140.34it/s]\n",
      "100%|██████████████████████████████████████████████████████████████████████████████████████████████████████████████████| 2/2 [00:00<00:00, 249.56it/s]\n",
      "100%|██████████████████████████████████████████████████████████████████████████████████████████████████████████████████| 2/2 [00:00<00:00, 162.50it/s]\n",
      "100%|██████████████████████████████████████████████████████████████████████████████████████████████████████████████████| 1/1 [00:00<00:00, 180.16it/s]\n"
     ]
    },
    {
     "name": "stdout",
     "output_type": "stream",
     "text": [
      "Epoch 17/500 Train Total Loss: 0.09676 Train Src Loss: 0.01434 Train Tgt Loss: 0.08242 \n",
      "                 Val Total Loss: 0.38145 Val Src Loss: 0.27502 Val Tgt Loss: 0.10642\n"
     ]
    },
    {
     "name": "stderr",
     "output_type": "stream",
     "text": [
      "100%|██████████████████████████████████████████████████████████████████████████████████████████████████████████████████| 7/7 [00:00<00:00, 231.89it/s]\n",
      "100%|██████████████████████████████████████████████████████████████████████████████████████████████████████████████████| 2/2 [00:00<00:00, 176.77it/s]\n",
      "100%|██████████████████████████████████████████████████████████████████████████████████████████████████████████████████| 2/2 [00:00<00:00, 348.49it/s]\n",
      "100%|██████████████████████████████████████████████████████████████████████████████████████████████████████████████████| 1/1 [00:00<00:00, 266.56it/s]\n"
     ]
    },
    {
     "name": "stdout",
     "output_type": "stream",
     "text": [
      "Epoch 18/500 Train Total Loss: 0.08551 Train Src Loss: 0.01206 Train Tgt Loss: 0.07346 \n",
      "                 Val Total Loss: 0.38882 Val Src Loss: 0.28362 Val Tgt Loss: 0.1052\n"
     ]
    },
    {
     "name": "stderr",
     "output_type": "stream",
     "text": [
      "100%|██████████████████████████████████████████████████████████████████████████████████████████████████████████████████| 7/7 [00:00<00:00, 572.80it/s]\n",
      "100%|██████████████████████████████████████████████████████████████████████████████████████████████████████████████████| 2/2 [00:00<00:00, 431.22it/s]\n",
      "100%|██████████████████████████████████████████████████████████████████████████████████████████████████████████████████| 2/2 [00:00<00:00, 582.06it/s]\n",
      "100%|██████████████████████████████████████████████████████████████████████████████████████████████████████████████████| 1/1 [00:00<00:00, 422.81it/s]\n"
     ]
    },
    {
     "name": "stdout",
     "output_type": "stream",
     "text": [
      "Epoch 19/500 Train Total Loss: 0.08006 Train Src Loss: 0.01123 Train Tgt Loss: 0.06883 \n",
      "                 Val Total Loss: 0.39086 Val Src Loss: 0.28943 Val Tgt Loss: 0.10143\n"
     ]
    },
    {
     "name": "stderr",
     "output_type": "stream",
     "text": [
      "100%|██████████████████████████████████████████████████████████████████████████████████████████████████████████████████| 7/7 [00:00<00:00, 555.01it/s]\n",
      "100%|██████████████████████████████████████████████████████████████████████████████████████████████████████████████████| 2/2 [00:00<00:00, 427.44it/s]\n",
      "100%|██████████████████████████████████████████████████████████████████████████████████████████████████████████████████| 2/2 [00:00<00:00, 591.00it/s]\n",
      "100%|██████████████████████████████████████████████████████████████████████████████████████████████████████████████████| 1/1 [00:00<00:00, 424.52it/s]\n"
     ]
    },
    {
     "name": "stdout",
     "output_type": "stream",
     "text": [
      "Epoch 20/500 Train Total Loss: 0.08278 Train Src Loss: 0.01284 Train Tgt Loss: 0.06994 \n",
      "                 Val Total Loss: 0.3791 Val Src Loss: 0.27326 Val Tgt Loss: 0.10584\n"
     ]
    },
    {
     "name": "stderr",
     "output_type": "stream",
     "text": [
      "100%|██████████████████████████████████████████████████████████████████████████████████████████████████████████████████| 7/7 [00:00<00:00, 558.40it/s]\n",
      "100%|██████████████████████████████████████████████████████████████████████████████████████████████████████████████████| 2/2 [00:00<00:00, 431.16it/s]\n",
      "100%|██████████████████████████████████████████████████████████████████████████████████████████████████████████████████| 2/2 [00:00<00:00, 583.27it/s]\n",
      "100%|██████████████████████████████████████████████████████████████████████████████████████████████████████████████████| 1/1 [00:00<00:00, 418.80it/s]\n"
     ]
    },
    {
     "name": "stdout",
     "output_type": "stream",
     "text": [
      "Epoch 21/500 Train Total Loss: 0.08414 Train Src Loss: 0.01398 Train Tgt Loss: 0.07016 \n",
      "                 Val Total Loss: 0.39594 Val Src Loss: 0.28489 Val Tgt Loss: 0.11106\n",
      "Test: 21 22\n",
      "Adapt train: 20 21\n",
      "Adapt val: 22\n"
     ]
    },
    {
     "name": "stderr",
     "output_type": "stream",
     "text": [
      "100%|██████████████████████████████████████████████████████████████████████████████████████████████████████████████████| 7/7 [00:00<00:00, 110.78it/s]\n",
      "100%|██████████████████████████████████████████████████████████████████████████████████████████████████████████████████| 2/2 [00:00<00:00, 383.97it/s]\n",
      "100%|██████████████████████████████████████████████████████████████████████████████████████████████████████████████████| 2/2 [00:00<00:00, 196.90it/s]\n",
      "100%|██████████████████████████████████████████████████████████████████████████████████████████████████████████████████| 1/1 [00:00<00:00, 207.45it/s]\n"
     ]
    },
    {
     "name": "stdout",
     "output_type": "stream",
     "text": [
      "Epoch 1/500 Train Total Loss: 0.11812 Train Src Loss: 0.01266 Train Tgt Loss: 0.10545 \n",
      "                 Val Total Loss: 0.35159 Val Src Loss: 0.27203 Val Tgt Loss: 0.07956\n"
     ]
    },
    {
     "name": "stderr",
     "output_type": "stream",
     "text": [
      "100%|██████████████████████████████████████████████████████████████████████████████████████████████████████████████████| 7/7 [00:00<00:00, 149.05it/s]\n",
      "100%|██████████████████████████████████████████████████████████████████████████████████████████████████████████████████| 2/2 [00:00<00:00, 123.07it/s]\n",
      "100%|██████████████████████████████████████████████████████████████████████████████████████████████████████████████████| 2/2 [00:00<00:00, 326.93it/s]\n",
      "100%|██████████████████████████████████████████████████████████████████████████████████████████████████████████████████| 1/1 [00:00<00:00, 250.96it/s]\n"
     ]
    },
    {
     "name": "stdout",
     "output_type": "stream",
     "text": [
      "Epoch 2/500 Train Total Loss: 0.10951 Train Src Loss: 0.01132 Train Tgt Loss: 0.09818 \n",
      "                 Val Total Loss: 0.37283 Val Src Loss: 0.28517 Val Tgt Loss: 0.08766\n"
     ]
    },
    {
     "name": "stderr",
     "output_type": "stream",
     "text": [
      "100%|██████████████████████████████████████████████████████████████████████████████████████████████████████████████████| 7/7 [00:00<00:00, 208.31it/s]\n",
      "100%|██████████████████████████████████████████████████████████████████████████████████████████████████████████████████| 2/2 [00:00<00:00, 199.52it/s]\n",
      "100%|██████████████████████████████████████████████████████████████████████████████████████████████████████████████████| 2/2 [00:00<00:00, 219.26it/s]\n",
      "100%|██████████████████████████████████████████████████████████████████████████████████████████████████████████████████| 1/1 [00:00<00:00, 202.21it/s]\n"
     ]
    },
    {
     "name": "stdout",
     "output_type": "stream",
     "text": [
      "Epoch 3/500 Train Total Loss: 0.11045 Train Src Loss: 0.01123 Train Tgt Loss: 0.09922 \n",
      "                 Val Total Loss: 0.35612 Val Src Loss: 0.26824 Val Tgt Loss: 0.08788\n"
     ]
    },
    {
     "name": "stderr",
     "output_type": "stream",
     "text": [
      "100%|██████████████████████████████████████████████████████████████████████████████████████████████████████████████████| 7/7 [00:00<00:00, 395.63it/s]\n",
      "100%|██████████████████████████████████████████████████████████████████████████████████████████████████████████████████| 2/2 [00:00<00:00, 363.77it/s]\n",
      "100%|██████████████████████████████████████████████████████████████████████████████████████████████████████████████████| 2/2 [00:00<00:00, 525.60it/s]\n",
      "100%|██████████████████████████████████████████████████████████████████████████████████████████████████████████████████| 1/1 [00:00<00:00, 300.82it/s]\n"
     ]
    },
    {
     "name": "stdout",
     "output_type": "stream",
     "text": [
      "Epoch 4/500 Train Total Loss: 0.11425 Train Src Loss: 0.01309 Train Tgt Loss: 0.10116 \n",
      "                 Val Total Loss: 0.37785 Val Src Loss: 0.28948 Val Tgt Loss: 0.08837\n"
     ]
    },
    {
     "name": "stderr",
     "output_type": "stream",
     "text": [
      "100%|██████████████████████████████████████████████████████████████████████████████████████████████████████████████████| 7/7 [00:00<00:00, 511.11it/s]\n",
      "100%|██████████████████████████████████████████████████████████████████████████████████████████████████████████████████| 2/2 [00:00<00:00, 404.48it/s]\n",
      "100%|██████████████████████████████████████████████████████████████████████████████████████████████████████████████████| 2/2 [00:00<00:00, 414.68it/s]\n",
      "100%|██████████████████████████████████████████████████████████████████████████████████████████████████████████████████| 1/1 [00:00<00:00, 358.30it/s]\n"
     ]
    },
    {
     "name": "stdout",
     "output_type": "stream",
     "text": [
      "Epoch 5/500 Train Total Loss: 0.11888 Train Src Loss: 0.01292 Train Tgt Loss: 0.10597 \n",
      "                 Val Total Loss: 0.36696 Val Src Loss: 0.27996 Val Tgt Loss: 0.08701\n"
     ]
    },
    {
     "name": "stderr",
     "output_type": "stream",
     "text": [
      "100%|██████████████████████████████████████████████████████████████████████████████████████████████████████████████████| 7/7 [00:00<00:00, 553.08it/s]\n",
      "100%|██████████████████████████████████████████████████████████████████████████████████████████████████████████████████| 2/2 [00:00<00:00, 401.71it/s]\n",
      "100%|██████████████████████████████████████████████████████████████████████████████████████████████████████████████████| 2/2 [00:00<00:00, 372.55it/s]\n",
      "100%|██████████████████████████████████████████████████████████████████████████████████████████████████████████████████| 1/1 [00:00<00:00, 151.96it/s]\n"
     ]
    },
    {
     "name": "stdout",
     "output_type": "stream",
     "text": [
      "Epoch 6/500 Train Total Loss: 0.1093 Train Src Loss: 0.01158 Train Tgt Loss: 0.09771 \n",
      "                 Val Total Loss: 0.34463 Val Src Loss: 0.26887 Val Tgt Loss: 0.07576\n"
     ]
    },
    {
     "name": "stderr",
     "output_type": "stream",
     "text": [
      "100%|██████████████████████████████████████████████████████████████████████████████████████████████████████████████████| 7/7 [00:00<00:00, 107.99it/s]\n",
      "100%|██████████████████████████████████████████████████████████████████████████████████████████████████████████████████| 2/2 [00:00<00:00, 146.90it/s]\n",
      "100%|██████████████████████████████████████████████████████████████████████████████████████████████████████████████████| 2/2 [00:00<00:00, 218.85it/s]\n",
      "100%|██████████████████████████████████████████████████████████████████████████████████████████████████████████████████| 1/1 [00:00<00:00, 186.25it/s]\n"
     ]
    },
    {
     "name": "stdout",
     "output_type": "stream",
     "text": [
      "Epoch 7/500 Train Total Loss: 0.10264 Train Src Loss: 0.01204 Train Tgt Loss: 0.0906 \n",
      "                 Val Total Loss: 0.3683 Val Src Loss: 0.28777 Val Tgt Loss: 0.08053\n"
     ]
    },
    {
     "name": "stderr",
     "output_type": "stream",
     "text": [
      "100%|██████████████████████████████████████████████████████████████████████████████████████████████████████████████████| 7/7 [00:00<00:00, 145.37it/s]\n",
      "100%|██████████████████████████████████████████████████████████████████████████████████████████████████████████████████| 2/2 [00:00<00:00, 121.57it/s]\n",
      "100%|██████████████████████████████████████████████████████████████████████████████████████████████████████████████████| 2/2 [00:00<00:00, 305.87it/s]\n",
      "100%|██████████████████████████████████████████████████████████████████████████████████████████████████████████████████| 1/1 [00:00<00:00, 137.03it/s]\n"
     ]
    },
    {
     "name": "stdout",
     "output_type": "stream",
     "text": [
      "Epoch 8/500 Train Total Loss: 0.10282 Train Src Loss: 0.01298 Train Tgt Loss: 0.08984 \n",
      "                 Val Total Loss: 0.35181 Val Src Loss: 0.27562 Val Tgt Loss: 0.07619\n"
     ]
    },
    {
     "name": "stderr",
     "output_type": "stream",
     "text": [
      "100%|██████████████████████████████████████████████████████████████████████████████████████████████████████████████████| 7/7 [00:00<00:00, 235.61it/s]\n",
      "100%|██████████████████████████████████████████████████████████████████████████████████████████████████████████████████| 2/2 [00:00<00:00, 121.59it/s]\n",
      "100%|██████████████████████████████████████████████████████████████████████████████████████████████████████████████████| 2/2 [00:00<00:00, 261.24it/s]\n",
      "100%|██████████████████████████████████████████████████████████████████████████████████████████████████████████████████| 1/1 [00:00<00:00, 253.26it/s]\n"
     ]
    },
    {
     "name": "stdout",
     "output_type": "stream",
     "text": [
      "Epoch 9/500 Train Total Loss: 0.10971 Train Src Loss: 0.01249 Train Tgt Loss: 0.09722 \n",
      "                 Val Total Loss: 0.36009 Val Src Loss: 0.2779 Val Tgt Loss: 0.08218\n"
     ]
    },
    {
     "name": "stderr",
     "output_type": "stream",
     "text": [
      "100%|██████████████████████████████████████████████████████████████████████████████████████████████████████████████████| 7/7 [00:00<00:00, 528.25it/s]\n",
      "100%|██████████████████████████████████████████████████████████████████████████████████████████████████████████████████| 2/2 [00:00<00:00, 414.09it/s]\n",
      "100%|██████████████████████████████████████████████████████████████████████████████████████████████████████████████████| 2/2 [00:00<00:00, 540.26it/s]\n",
      "100%|██████████████████████████████████████████████████████████████████████████████████████████████████████████████████| 1/1 [00:00<00:00, 453.98it/s]\n"
     ]
    },
    {
     "name": "stdout",
     "output_type": "stream",
     "text": [
      "Epoch 10/500 Train Total Loss: 0.10176 Train Src Loss: 0.01311 Train Tgt Loss: 0.08865 \n",
      "                 Val Total Loss: 0.33507 Val Src Loss: 0.2637 Val Tgt Loss: 0.07137\n"
     ]
    },
    {
     "name": "stderr",
     "output_type": "stream",
     "text": [
      "100%|██████████████████████████████████████████████████████████████████████████████████████████████████████████████████| 7/7 [00:00<00:00, 544.84it/s]\n",
      "100%|██████████████████████████████████████████████████████████████████████████████████████████████████████████████████| 2/2 [00:00<00:00, 417.47it/s]\n",
      "100%|██████████████████████████████████████████████████████████████████████████████████████████████████████████████████| 2/2 [00:00<00:00, 528.62it/s]\n",
      "100%|██████████████████████████████████████████████████████████████████████████████████████████████████████████████████| 1/1 [00:00<00:00, 401.87it/s]\n"
     ]
    },
    {
     "name": "stdout",
     "output_type": "stream",
     "text": [
      "Epoch 11/500 Train Total Loss: 0.10629 Train Src Loss: 0.01187 Train Tgt Loss: 0.09442 \n",
      "                 Val Total Loss: 0.35479 Val Src Loss: 0.28864 Val Tgt Loss: 0.06616\n"
     ]
    },
    {
     "name": "stderr",
     "output_type": "stream",
     "text": [
      "100%|██████████████████████████████████████████████████████████████████████████████████████████████████████████████████| 7/7 [00:00<00:00, 490.41it/s]\n",
      "100%|██████████████████████████████████████████████████████████████████████████████████████████████████████████████████| 2/2 [00:00<00:00, 287.04it/s]\n",
      "100%|██████████████████████████████████████████████████████████████████████████████████████████████████████████████████| 2/2 [00:00<00:00, 231.73it/s]\n",
      "100%|██████████████████████████████████████████████████████████████████████████████████████████████████████████████████| 1/1 [00:00<00:00, 206.06it/s]\n"
     ]
    },
    {
     "name": "stdout",
     "output_type": "stream",
     "text": [
      "Epoch 12/500 Train Total Loss: 0.09984 Train Src Loss: 0.01258 Train Tgt Loss: 0.08726 \n",
      "                 Val Total Loss: 0.34994 Val Src Loss: 0.28195 Val Tgt Loss: 0.06799\n"
     ]
    },
    {
     "name": "stderr",
     "output_type": "stream",
     "text": [
      "100%|██████████████████████████████████████████████████████████████████████████████████████████████████████████████████| 7/7 [00:00<00:00, 108.39it/s]\n",
      "100%|██████████████████████████████████████████████████████████████████████████████████████████████████████████████████| 2/2 [00:00<00:00, 146.15it/s]\n",
      "100%|██████████████████████████████████████████████████████████████████████████████████████████████████████████████████| 2/2 [00:00<00:00, 195.60it/s]\n",
      "100%|██████████████████████████████████████████████████████████████████████████████████████████████████████████████████| 1/1 [00:00<00:00, 119.54it/s]\n"
     ]
    },
    {
     "name": "stdout",
     "output_type": "stream",
     "text": [
      "Epoch 13/500 Train Total Loss: 0.10159 Train Src Loss: 0.01222 Train Tgt Loss: 0.08937 \n",
      "                 Val Total Loss: 0.36073 Val Src Loss: 0.28066 Val Tgt Loss: 0.08007\n"
     ]
    },
    {
     "name": "stderr",
     "output_type": "stream",
     "text": [
      "100%|██████████████████████████████████████████████████████████████████████████████████████████████████████████████████| 7/7 [00:00<00:00, 139.52it/s]\n",
      "100%|██████████████████████████████████████████████████████████████████████████████████████████████████████████████████| 2/2 [00:00<00:00, 207.57it/s]\n",
      "100%|██████████████████████████████████████████████████████████████████████████████████████████████████████████████████| 2/2 [00:00<00:00, 179.66it/s]\n",
      "100%|██████████████████████████████████████████████████████████████████████████████████████████████████████████████████| 1/1 [00:00<00:00, 162.48it/s]\n"
     ]
    },
    {
     "name": "stdout",
     "output_type": "stream",
     "text": [
      "Epoch 14/500 Train Total Loss: 0.10012 Train Src Loss: 0.01252 Train Tgt Loss: 0.0876 \n",
      "                 Val Total Loss: 0.3517 Val Src Loss: 0.28434 Val Tgt Loss: 0.06737\n"
     ]
    },
    {
     "name": "stderr",
     "output_type": "stream",
     "text": [
      "100%|██████████████████████████████████████████████████████████████████████████████████████████████████████████████████| 7/7 [00:00<00:00, 216.13it/s]\n",
      "100%|██████████████████████████████████████████████████████████████████████████████████████████████████████████████████| 2/2 [00:00<00:00, 199.70it/s]\n",
      "100%|██████████████████████████████████████████████████████████████████████████████████████████████████████████████████| 2/2 [00:00<00:00, 372.69it/s]\n",
      "100%|██████████████████████████████████████████████████████████████████████████████████████████████████████████████████| 1/1 [00:00<00:00, 417.63it/s]\n"
     ]
    },
    {
     "name": "stdout",
     "output_type": "stream",
     "text": [
      "Epoch 15/500 Train Total Loss: 0.09814 Train Src Loss: 0.01138 Train Tgt Loss: 0.08676 \n",
      "                 Val Total Loss: 0.35932 Val Src Loss: 0.28193 Val Tgt Loss: 0.07739\n"
     ]
    },
    {
     "name": "stderr",
     "output_type": "stream",
     "text": [
      "100%|██████████████████████████████████████████████████████████████████████████████████████████████████████████████████| 7/7 [00:00<00:00, 563.18it/s]\n",
      "100%|██████████████████████████████████████████████████████████████████████████████████████████████████████████████████| 2/2 [00:00<00:00, 406.78it/s]\n",
      "100%|██████████████████████████████████████████████████████████████████████████████████████████████████████████████████| 2/2 [00:00<00:00, 414.58it/s]\n",
      "100%|██████████████████████████████████████████████████████████████████████████████████████████████████████████████████| 1/1 [00:00<00:00, 389.05it/s]\n"
     ]
    },
    {
     "name": "stdout",
     "output_type": "stream",
     "text": [
      "Epoch 16/500 Train Total Loss: 0.10521 Train Src Loss: 0.01333 Train Tgt Loss: 0.09188 \n",
      "                 Val Total Loss: 0.34319 Val Src Loss: 0.27398 Val Tgt Loss: 0.06921\n"
     ]
    },
    {
     "name": "stderr",
     "output_type": "stream",
     "text": [
      "100%|██████████████████████████████████████████████████████████████████████████████████████████████████████████████████| 7/7 [00:00<00:00, 562.58it/s]\n",
      "100%|██████████████████████████████████████████████████████████████████████████████████████████████████████████████████| 2/2 [00:00<00:00, 409.88it/s]\n",
      "100%|██████████████████████████████████████████████████████████████████████████████████████████████████████████████████| 2/2 [00:00<00:00, 584.21it/s]\n",
      "100%|██████████████████████████████████████████████████████████████████████████████████████████████████████████████████| 1/1 [00:00<00:00, 304.69it/s]\n"
     ]
    },
    {
     "name": "stdout",
     "output_type": "stream",
     "text": [
      "Epoch 17/500 Train Total Loss: 0.0961 Train Src Loss: 0.01235 Train Tgt Loss: 0.08374 \n",
      "                 Val Total Loss: 0.32776 Val Src Loss: 0.26597 Val Tgt Loss: 0.0618\n"
     ]
    },
    {
     "name": "stderr",
     "output_type": "stream",
     "text": [
      "100%|██████████████████████████████████████████████████████████████████████████████████████████████████████████████████| 7/7 [00:00<00:00, 539.74it/s]\n",
      "100%|██████████████████████████████████████████████████████████████████████████████████████████████████████████████████| 2/2 [00:00<00:00, 403.78it/s]\n",
      "100%|██████████████████████████████████████████████████████████████████████████████████████████████████████████████████| 2/2 [00:00<00:00, 354.44it/s]\n",
      "100%|██████████████████████████████████████████████████████████████████████████████████████████████████████████████████| 1/1 [00:00<00:00, 207.44it/s]\n"
     ]
    },
    {
     "name": "stdout",
     "output_type": "stream",
     "text": [
      "Epoch 18/500 Train Total Loss: 0.09744 Train Src Loss: 0.01297 Train Tgt Loss: 0.08446 \n",
      "                 Val Total Loss: 0.35361 Val Src Loss: 0.278 Val Tgt Loss: 0.07561\n"
     ]
    },
    {
     "name": "stderr",
     "output_type": "stream",
     "text": [
      "100%|██████████████████████████████████████████████████████████████████████████████████████████████████████████████████| 7/7 [00:00<00:00, 109.11it/s]\n",
      "100%|██████████████████████████████████████████████████████████████████████████████████████████████████████████████████| 2/2 [00:00<00:00, 272.93it/s]\n",
      "100%|██████████████████████████████████████████████████████████████████████████████████████████████████████████████████| 2/2 [00:00<00:00, 135.63it/s]\n",
      "100%|██████████████████████████████████████████████████████████████████████████████████████████████████████████████████| 1/1 [00:00<00:00, 205.52it/s]\n"
     ]
    },
    {
     "name": "stdout",
     "output_type": "stream",
     "text": [
      "Epoch 19/500 Train Total Loss: 0.10218 Train Src Loss: 0.0125 Train Tgt Loss: 0.08968 \n",
      "                 Val Total Loss: 0.35253 Val Src Loss: 0.28244 Val Tgt Loss: 0.07009\n"
     ]
    },
    {
     "name": "stderr",
     "output_type": "stream",
     "text": [
      "100%|██████████████████████████████████████████████████████████████████████████████████████████████████████████████████| 7/7 [00:00<00:00, 161.70it/s]\n",
      "100%|██████████████████████████████████████████████████████████████████████████████████████████████████████████████████| 2/2 [00:00<00:00, 120.73it/s]\n",
      "100%|██████████████████████████████████████████████████████████████████████████████████████████████████████████████████| 2/2 [00:00<00:00, 313.02it/s]\n",
      "100%|██████████████████████████████████████████████████████████████████████████████████████████████████████████████████| 1/1 [00:00<00:00, 218.72it/s]\n"
     ]
    },
    {
     "name": "stdout",
     "output_type": "stream",
     "text": [
      "Epoch 20/500 Train Total Loss: 0.09753 Train Src Loss: 0.01363 Train Tgt Loss: 0.0839 \n",
      "                 Val Total Loss: 0.33297 Val Src Loss: 0.26717 Val Tgt Loss: 0.0658\n"
     ]
    },
    {
     "name": "stderr",
     "output_type": "stream",
     "text": [
      "100%|██████████████████████████████████████████████████████████████████████████████████████████████████████████████████| 7/7 [00:00<00:00, 215.72it/s]\n",
      "100%|██████████████████████████████████████████████████████████████████████████████████████████████████████████████████| 2/2 [00:00<00:00, 208.77it/s]\n",
      "100%|██████████████████████████████████████████████████████████████████████████████████████████████████████████████████| 2/2 [00:00<00:00, 224.71it/s]\n",
      "100%|██████████████████████████████████████████████████████████████████████████████████████████████████████████████████| 1/1 [00:00<00:00, 183.41it/s]\n"
     ]
    },
    {
     "name": "stdout",
     "output_type": "stream",
     "text": [
      "Epoch 21/500 Train Total Loss: 0.09814 Train Src Loss: 0.01367 Train Tgt Loss: 0.08447 \n",
      "                 Val Total Loss: 0.33989 Val Src Loss: 0.27378 Val Tgt Loss: 0.06612\n"
     ]
    },
    {
     "name": "stderr",
     "output_type": "stream",
     "text": [
      "100%|██████████████████████████████████████████████████████████████████████████████████████████████████████████████████| 7/7 [00:00<00:00, 430.93it/s]\n",
      "100%|██████████████████████████████████████████████████████████████████████████████████████████████████████████████████| 2/2 [00:00<00:00, 410.44it/s]\n",
      "100%|██████████████████████████████████████████████████████████████████████████████████████████████████████████████████| 2/2 [00:00<00:00, 404.08it/s]\n",
      "100%|██████████████████████████████████████████████████████████████████████████████████████████████████████████████████| 1/1 [00:00<00:00, 281.57it/s]\n"
     ]
    },
    {
     "name": "stdout",
     "output_type": "stream",
     "text": [
      "Epoch 22/500 Train Total Loss: 0.09776 Train Src Loss: 0.01294 Train Tgt Loss: 0.08481 \n",
      "                 Val Total Loss: 0.33463 Val Src Loss: 0.26973 Val Tgt Loss: 0.0649\n"
     ]
    },
    {
     "name": "stderr",
     "output_type": "stream",
     "text": [
      "100%|██████████████████████████████████████████████████████████████████████████████████████████████████████████████████| 7/7 [00:00<00:00, 557.76it/s]\n",
      "100%|██████████████████████████████████████████████████████████████████████████████████████████████████████████████████| 2/2 [00:00<00:00, 400.47it/s]\n",
      "100%|██████████████████████████████████████████████████████████████████████████████████████████████████████████████████| 2/2 [00:00<00:00, 559.80it/s]\n",
      "100%|██████████████████████████████████████████████████████████████████████████████████████████████████████████████████| 1/1 [00:00<00:00, 276.63it/s]\n"
     ]
    },
    {
     "name": "stdout",
     "output_type": "stream",
     "text": [
      "Epoch 23/500 Train Total Loss: 0.09234 Train Src Loss: 0.01293 Train Tgt Loss: 0.07941 \n",
      "                 Val Total Loss: 0.3406 Val Src Loss: 0.26987 Val Tgt Loss: 0.07073\n"
     ]
    },
    {
     "name": "stderr",
     "output_type": "stream",
     "text": [
      "100%|██████████████████████████████████████████████████████████████████████████████████████████████████████████████████| 7/7 [00:00<00:00, 506.51it/s]\n",
      "100%|██████████████████████████████████████████████████████████████████████████████████████████████████████████████████| 2/2 [00:00<00:00, 403.10it/s]\n",
      "100%|██████████████████████████████████████████████████████████████████████████████████████████████████████████████████| 2/2 [00:00<00:00, 387.93it/s]\n",
      "100%|██████████████████████████████████████████████████████████████████████████████████████████████████████████████████| 1/1 [00:00<00:00, 297.09it/s]\n"
     ]
    },
    {
     "name": "stdout",
     "output_type": "stream",
     "text": [
      "Epoch 24/500 Train Total Loss: 0.09661 Train Src Loss: 0.01384 Train Tgt Loss: 0.08276 \n",
      "                 Val Total Loss: 0.33684 Val Src Loss: 0.27175 Val Tgt Loss: 0.0651\n"
     ]
    },
    {
     "name": "stderr",
     "output_type": "stream",
     "text": [
      "100%|██████████████████████████████████████████████████████████████████████████████████████████████████████████████████| 7/7 [00:00<00:00, 241.90it/s]\n",
      "100%|███████████████████████████████████████████████████████████████████████████████████████████████████████████████████| 2/2 [00:00<00:00, 64.43it/s]\n",
      "100%|██████████████████████████████████████████████████████████████████████████████████████████████████████████████████| 2/2 [00:00<00:00, 249.69it/s]\n",
      "100%|██████████████████████████████████████████████████████████████████████████████████████████████████████████████████| 1/1 [00:00<00:00, 112.77it/s]\n"
     ]
    },
    {
     "name": "stdout",
     "output_type": "stream",
     "text": [
      "Epoch 25/500 Train Total Loss: 0.09026 Train Src Loss: 0.01131 Train Tgt Loss: 0.07895 \n",
      "                 Val Total Loss: 0.35975 Val Src Loss: 0.29282 Val Tgt Loss: 0.06693\n"
     ]
    },
    {
     "name": "stderr",
     "output_type": "stream",
     "text": [
      "100%|██████████████████████████████████████████████████████████████████████████████████████████████████████████████████| 7/7 [00:00<00:00, 173.99it/s]\n",
      "100%|███████████████████████████████████████████████████████████████████████████████████████████████████████████████████| 2/2 [00:00<00:00, 96.38it/s]\n",
      "100%|██████████████████████████████████████████████████████████████████████████████████████████████████████████████████| 2/2 [00:00<00:00, 189.08it/s]\n",
      "100%|██████████████████████████████████████████████████████████████████████████████████████████████████████████████████| 1/1 [00:00<00:00, 217.28it/s]\n"
     ]
    },
    {
     "name": "stdout",
     "output_type": "stream",
     "text": [
      "Epoch 26/500 Train Total Loss: 0.09141 Train Src Loss: 0.01272 Train Tgt Loss: 0.07869 \n",
      "                 Val Total Loss: 0.3534 Val Src Loss: 0.28362 Val Tgt Loss: 0.06978\n"
     ]
    },
    {
     "name": "stderr",
     "output_type": "stream",
     "text": [
      "100%|██████████████████████████████████████████████████████████████████████████████████████████████████████████████████| 7/7 [00:00<00:00, 197.92it/s]\n",
      "100%|██████████████████████████████████████████████████████████████████████████████████████████████████████████████████| 2/2 [00:00<00:00, 158.77it/s]\n",
      "100%|██████████████████████████████████████████████████████████████████████████████████████████████████████████████████| 2/2 [00:00<00:00, 199.18it/s]\n",
      "100%|██████████████████████████████████████████████████████████████████████████████████████████████████████████████████| 1/1 [00:00<00:00, 202.88it/s]\n"
     ]
    },
    {
     "name": "stdout",
     "output_type": "stream",
     "text": [
      "Epoch 27/500 Train Total Loss: 0.0885 Train Src Loss: 0.01312 Train Tgt Loss: 0.07538 \n",
      "                 Val Total Loss: 0.3377 Val Src Loss: 0.27559 Val Tgt Loss: 0.06211\n"
     ]
    },
    {
     "name": "stderr",
     "output_type": "stream",
     "text": [
      "100%|██████████████████████████████████████████████████████████████████████████████████████████████████████████████████| 7/7 [00:00<00:00, 498.67it/s]\n",
      "100%|██████████████████████████████████████████████████████████████████████████████████████████████████████████████████| 2/2 [00:00<00:00, 413.82it/s]\n",
      "100%|██████████████████████████████████████████████████████████████████████████████████████████████████████████████████| 2/2 [00:00<00:00, 405.64it/s]\n",
      "100%|██████████████████████████████████████████████████████████████████████████████████████████████████████████████████| 1/1 [00:00<00:00, 348.16it/s]\n"
     ]
    },
    {
     "name": "stdout",
     "output_type": "stream",
     "text": [
      "Epoch 28/500 Train Total Loss: 0.08651 Train Src Loss: 0.0125 Train Tgt Loss: 0.07401 \n",
      "                 Val Total Loss: 0.35468 Val Src Loss: 0.28545 Val Tgt Loss: 0.06922\n",
      "Test: 23 24\n",
      "Adapt train: 22 23\n",
      "Adapt val: 24\n"
     ]
    },
    {
     "name": "stderr",
     "output_type": "stream",
     "text": [
      "100%|██████████████████████████████████████████████████████████████████████████████████████████████████████████████████| 7/7 [00:00<00:00, 554.93it/s]\n",
      "100%|██████████████████████████████████████████████████████████████████████████████████████████████████████████████████| 2/2 [00:00<00:00, 420.95it/s]\n",
      "100%|██████████████████████████████████████████████████████████████████████████████████████████████████████████████████| 2/2 [00:00<00:00, 437.84it/s]\n",
      "100%|██████████████████████████████████████████████████████████████████████████████████████████████████████████████████| 1/1 [00:00<00:00, 301.31it/s]\n"
     ]
    },
    {
     "name": "stdout",
     "output_type": "stream",
     "text": [
      "Epoch 1/500 Train Total Loss: 0.08551 Train Src Loss: 0.01235 Train Tgt Loss: 0.07316 \n",
      "                 Val Total Loss: 0.33172 Val Src Loss: 0.25767 Val Tgt Loss: 0.07405\n"
     ]
    },
    {
     "name": "stderr",
     "output_type": "stream",
     "text": [
      "100%|██████████████████████████████████████████████████████████████████████████████████████████████████████████████████| 7/7 [00:00<00:00, 556.38it/s]\n",
      "100%|██████████████████████████████████████████████████████████████████████████████████████████████████████████████████| 2/2 [00:00<00:00, 428.47it/s]\n",
      "100%|██████████████████████████████████████████████████████████████████████████████████████████████████████████████████| 2/2 [00:00<00:00, 191.83it/s]\n",
      "100%|██████████████████████████████████████████████████████████████████████████████████████████████████████████████████| 1/1 [00:00<00:00, 115.95it/s]\n"
     ]
    },
    {
     "name": "stdout",
     "output_type": "stream",
     "text": [
      "Epoch 2/500 Train Total Loss: 0.08768 Train Src Loss: 0.01403 Train Tgt Loss: 0.07365 \n",
      "                 Val Total Loss: 0.36276 Val Src Loss: 0.2786 Val Tgt Loss: 0.08416\n"
     ]
    },
    {
     "name": "stderr",
     "output_type": "stream",
     "text": [
      "100%|██████████████████████████████████████████████████████████████████████████████████████████████████████████████████| 7/7 [00:00<00:00, 119.26it/s]\n",
      "100%|██████████████████████████████████████████████████████████████████████████████████████████████████████████████████| 2/2 [00:00<00:00, 211.76it/s]\n",
      "100%|██████████████████████████████████████████████████████████████████████████████████████████████████████████████████| 2/2 [00:00<00:00, 214.08it/s]\n",
      "100%|██████████████████████████████████████████████████████████████████████████████████████████████████████████████████| 1/1 [00:00<00:00, 182.38it/s]\n"
     ]
    },
    {
     "name": "stdout",
     "output_type": "stream",
     "text": [
      "Epoch 3/500 Train Total Loss: 0.08291 Train Src Loss: 0.01329 Train Tgt Loss: 0.06963 \n",
      "                 Val Total Loss: 0.35848 Val Src Loss: 0.27373 Val Tgt Loss: 0.08474\n"
     ]
    },
    {
     "name": "stderr",
     "output_type": "stream",
     "text": [
      "100%|██████████████████████████████████████████████████████████████████████████████████████████████████████████████████| 7/7 [00:00<00:00, 146.26it/s]\n",
      "100%|██████████████████████████████████████████████████████████████████████████████████████████████████████████████████| 2/2 [00:00<00:00, 124.46it/s]\n",
      "100%|██████████████████████████████████████████████████████████████████████████████████████████████████████████████████| 2/2 [00:00<00:00, 303.06it/s]\n",
      "100%|██████████████████████████████████████████████████████████████████████████████████████████████████████████████████| 1/1 [00:00<00:00, 126.41it/s]\n"
     ]
    },
    {
     "name": "stdout",
     "output_type": "stream",
     "text": [
      "Epoch 4/500 Train Total Loss: 0.07928 Train Src Loss: 0.01277 Train Tgt Loss: 0.0665 \n",
      "                 Val Total Loss: 0.33974 Val Src Loss: 0.26216 Val Tgt Loss: 0.07758\n"
     ]
    },
    {
     "name": "stderr",
     "output_type": "stream",
     "text": [
      "100%|██████████████████████████████████████████████████████████████████████████████████████████████████████████████████| 7/7 [00:00<00:00, 235.63it/s]\n",
      "100%|██████████████████████████████████████████████████████████████████████████████████████████████████████████████████| 2/2 [00:00<00:00, 116.96it/s]\n",
      "100%|██████████████████████████████████████████████████████████████████████████████████████████████████████████████████| 2/2 [00:00<00:00, 243.08it/s]\n",
      "100%|██████████████████████████████████████████████████████████████████████████████████████████████████████████████████| 1/1 [00:00<00:00, 269.11it/s]\n"
     ]
    },
    {
     "name": "stdout",
     "output_type": "stream",
     "text": [
      "Epoch 5/500 Train Total Loss: 0.08136 Train Src Loss: 0.01226 Train Tgt Loss: 0.06909 \n",
      "                 Val Total Loss: 0.34082 Val Src Loss: 0.27132 Val Tgt Loss: 0.06949\n"
     ]
    },
    {
     "name": "stderr",
     "output_type": "stream",
     "text": [
      "100%|██████████████████████████████████████████████████████████████████████████████████████████████████████████████████| 7/7 [00:00<00:00, 518.62it/s]\n",
      "100%|██████████████████████████████████████████████████████████████████████████████████████████████████████████████████| 2/2 [00:00<00:00, 402.12it/s]\n",
      "100%|██████████████████████████████████████████████████████████████████████████████████████████████████████████████████| 2/2 [00:00<00:00, 529.15it/s]\n",
      "100%|██████████████████████████████████████████████████████████████████████████████████████████████████████████████████| 1/1 [00:00<00:00, 410.60it/s]\n"
     ]
    },
    {
     "name": "stdout",
     "output_type": "stream",
     "text": [
      "Epoch 6/500 Train Total Loss: 0.0801 Train Src Loss: 0.01285 Train Tgt Loss: 0.06725 \n",
      "                 Val Total Loss: 0.36508 Val Src Loss: 0.28542 Val Tgt Loss: 0.07966\n"
     ]
    },
    {
     "name": "stderr",
     "output_type": "stream",
     "text": [
      "100%|██████████████████████████████████████████████████████████████████████████████████████████████████████████████████| 7/7 [00:00<00:00, 533.96it/s]\n",
      "100%|██████████████████████████████████████████████████████████████████████████████████████████████████████████████████| 2/2 [00:00<00:00, 389.32it/s]\n",
      "100%|██████████████████████████████████████████████████████████████████████████████████████████████████████████████████| 2/2 [00:00<00:00, 529.95it/s]\n",
      "100%|██████████████████████████████████████████████████████████████████████████████████████████████████████████████████| 1/1 [00:00<00:00, 430.27it/s]\n"
     ]
    },
    {
     "name": "stdout",
     "output_type": "stream",
     "text": [
      "Epoch 7/500 Train Total Loss: 0.08277 Train Src Loss: 0.01278 Train Tgt Loss: 0.06999 \n",
      "                 Val Total Loss: 0.34707 Val Src Loss: 0.28207 Val Tgt Loss: 0.065\n"
     ]
    },
    {
     "name": "stderr",
     "output_type": "stream",
     "text": [
      "100%|██████████████████████████████████████████████████████████████████████████████████████████████████████████████████| 7/7 [00:00<00:00, 542.27it/s]\n",
      "100%|██████████████████████████████████████████████████████████████████████████████████████████████████████████████████| 2/2 [00:00<00:00, 402.06it/s]\n",
      "100%|██████████████████████████████████████████████████████████████████████████████████████████████████████████████████| 2/2 [00:00<00:00, 465.54it/s]\n",
      "100%|██████████████████████████████████████████████████████████████████████████████████████████████████████████████████| 1/1 [00:00<00:00, 241.93it/s]\n"
     ]
    },
    {
     "name": "stdout",
     "output_type": "stream",
     "text": [
      "Epoch 8/500 Train Total Loss: 0.07773 Train Src Loss: 0.01424 Train Tgt Loss: 0.06349 \n",
      "                 Val Total Loss: 0.38053 Val Src Loss: 0.29141 Val Tgt Loss: 0.08912\n"
     ]
    },
    {
     "name": "stderr",
     "output_type": "stream",
     "text": [
      "100%|██████████████████████████████████████████████████████████████████████████████████████████████████████████████████| 7/7 [00:00<00:00, 110.33it/s]\n",
      "100%|██████████████████████████████████████████████████████████████████████████████████████████████████████████████████| 2/2 [00:00<00:00, 174.79it/s]\n",
      "100%|██████████████████████████████████████████████████████████████████████████████████████████████████████████████████| 2/2 [00:00<00:00, 232.47it/s]\n",
      "100%|██████████████████████████████████████████████████████████████████████████████████████████████████████████████████| 1/1 [00:00<00:00, 201.96it/s]\n"
     ]
    },
    {
     "name": "stdout",
     "output_type": "stream",
     "text": [
      "Epoch 9/500 Train Total Loss: 0.08332 Train Src Loss: 0.01305 Train Tgt Loss: 0.07027 \n",
      "                 Val Total Loss: 0.34639 Val Src Loss: 0.27827 Val Tgt Loss: 0.06812\n"
     ]
    },
    {
     "name": "stderr",
     "output_type": "stream",
     "text": [
      "100%|██████████████████████████████████████████████████████████████████████████████████████████████████████████████████| 7/7 [00:00<00:00, 159.08it/s]\n",
      "100%|██████████████████████████████████████████████████████████████████████████████████████████████████████████████████| 2/2 [00:00<00:00, 127.64it/s]\n",
      "100%|██████████████████████████████████████████████████████████████████████████████████████████████████████████████████| 2/2 [00:00<00:00, 325.43it/s]\n",
      "100%|██████████████████████████████████████████████████████████████████████████████████████████████████████████████████| 1/1 [00:00<00:00, 174.55it/s]\n"
     ]
    },
    {
     "name": "stdout",
     "output_type": "stream",
     "text": [
      "Epoch 10/500 Train Total Loss: 0.08414 Train Src Loss: 0.01397 Train Tgt Loss: 0.07016 \n",
      "                 Val Total Loss: 0.37316 Val Src Loss: 0.29812 Val Tgt Loss: 0.07504\n"
     ]
    },
    {
     "name": "stderr",
     "output_type": "stream",
     "text": [
      "100%|██████████████████████████████████████████████████████████████████████████████████████████████████████████████████| 7/7 [00:00<00:00, 231.25it/s]\n",
      "100%|██████████████████████████████████████████████████████████████████████████████████████████████████████████████████| 2/2 [00:00<00:00, 137.56it/s]\n",
      "100%|██████████████████████████████████████████████████████████████████████████████████████████████████████████████████| 2/2 [00:00<00:00, 267.80it/s]\n",
      "100%|██████████████████████████████████████████████████████████████████████████████████████████████████████████████████| 1/1 [00:00<00:00, 197.50it/s]\n"
     ]
    },
    {
     "name": "stdout",
     "output_type": "stream",
     "text": [
      "Epoch 11/500 Train Total Loss: 0.07716 Train Src Loss: 0.01392 Train Tgt Loss: 0.06324 \n",
      "                 Val Total Loss: 0.35344 Val Src Loss: 0.28374 Val Tgt Loss: 0.0697\n"
     ]
    },
    {
     "name": "stderr",
     "output_type": "stream",
     "text": [
      "100%|██████████████████████████████████████████████████████████████████████████████████████████████████████████████████| 7/7 [00:00<00:00, 558.73it/s]\n",
      "100%|██████████████████████████████████████████████████████████████████████████████████████████████████████████████████| 2/2 [00:00<00:00, 416.49it/s]\n",
      "100%|██████████████████████████████████████████████████████████████████████████████████████████████████████████████████| 2/2 [00:00<00:00, 592.42it/s]\n",
      "100%|██████████████████████████████████████████████████████████████████████████████████████████████████████████████████| 1/1 [00:00<00:00, 440.90it/s]\n"
     ]
    },
    {
     "name": "stdout",
     "output_type": "stream",
     "text": [
      "Epoch 12/500 Train Total Loss: 0.07457 Train Src Loss: 0.01384 Train Tgt Loss: 0.06073 \n",
      "                 Val Total Loss: 0.35732 Val Src Loss: 0.27251 Val Tgt Loss: 0.08482\n",
      "Test: 25 26\n",
      "Adapt train: 24 25\n",
      "Adapt val: 26\n"
     ]
    },
    {
     "name": "stderr",
     "output_type": "stream",
     "text": [
      "100%|██████████████████████████████████████████████████████████████████████████████████████████████████████████████████| 7/7 [00:00<00:00, 525.27it/s]\n",
      "100%|██████████████████████████████████████████████████████████████████████████████████████████████████████████████████| 2/2 [00:00<00:00, 432.47it/s]\n",
      "100%|██████████████████████████████████████████████████████████████████████████████████████████████████████████████████| 2/2 [00:00<00:00, 559.76it/s]\n",
      "100%|██████████████████████████████████████████████████████████████████████████████████████████████████████████████████| 1/1 [00:00<00:00, 466.50it/s]\n"
     ]
    },
    {
     "name": "stdout",
     "output_type": "stream",
     "text": [
      "Epoch 1/500 Train Total Loss: 0.11004 Train Src Loss: 0.01016 Train Tgt Loss: 0.09988 \n",
      "                 Val Total Loss: 0.36498 Val Src Loss: 0.26613 Val Tgt Loss: 0.09886\n"
     ]
    },
    {
     "name": "stderr",
     "output_type": "stream",
     "text": [
      "100%|██████████████████████████████████████████████████████████████████████████████████████████████████████████████████| 7/7 [00:00<00:00, 550.67it/s]\n",
      "100%|██████████████████████████████████████████████████████████████████████████████████████████████████████████████████| 2/2 [00:00<00:00, 399.29it/s]\n",
      "100%|██████████████████████████████████████████████████████████████████████████████████████████████████████████████████| 2/2 [00:00<00:00, 165.20it/s]\n",
      "100%|███████████████████████████████████████████████████████████████████████████████████████████████████████████████████| 1/1 [00:00<00:00, 60.98it/s]\n"
     ]
    },
    {
     "name": "stdout",
     "output_type": "stream",
     "text": [
      "Epoch 2/500 Train Total Loss: 0.10053 Train Src Loss: 0.0127 Train Tgt Loss: 0.08783 \n",
      "                 Val Total Loss: 0.35396 Val Src Loss: 0.26303 Val Tgt Loss: 0.09092\n"
     ]
    },
    {
     "name": "stderr",
     "output_type": "stream",
     "text": [
      "100%|██████████████████████████████████████████████████████████████████████████████████████████████████████████████████| 7/7 [00:00<00:00, 182.00it/s]\n",
      "100%|██████████████████████████████████████████████████████████████████████████████████████████████████████████████████| 2/2 [00:00<00:00, 398.96it/s]\n",
      "100%|██████████████████████████████████████████████████████████████████████████████████████████████████████████████████| 2/2 [00:00<00:00, 130.88it/s]\n",
      "100%|██████████████████████████████████████████████████████████████████████████████████████████████████████████████████| 1/1 [00:00<00:00, 184.45it/s]\n"
     ]
    },
    {
     "name": "stdout",
     "output_type": "stream",
     "text": [
      "Epoch 3/500 Train Total Loss: 0.09992 Train Src Loss: 0.01209 Train Tgt Loss: 0.08783 \n",
      "                 Val Total Loss: 0.35571 Val Src Loss: 0.26659 Val Tgt Loss: 0.08912\n"
     ]
    },
    {
     "name": "stderr",
     "output_type": "stream",
     "text": [
      "100%|██████████████████████████████████████████████████████████████████████████████████████████████████████████████████| 7/7 [00:00<00:00, 166.07it/s]\n",
      "100%|██████████████████████████████████████████████████████████████████████████████████████████████████████████████████| 2/2 [00:00<00:00, 106.59it/s]\n",
      "100%|██████████████████████████████████████████████████████████████████████████████████████████████████████████████████| 2/2 [00:00<00:00, 319.90it/s]\n",
      "100%|██████████████████████████████████████████████████████████████████████████████████████████████████████████████████| 1/1 [00:00<00:00, 223.96it/s]\n"
     ]
    },
    {
     "name": "stdout",
     "output_type": "stream",
     "text": [
      "Epoch 4/500 Train Total Loss: 0.10912 Train Src Loss: 0.01261 Train Tgt Loss: 0.09651 \n",
      "                 Val Total Loss: 0.38025 Val Src Loss: 0.28305 Val Tgt Loss: 0.0972\n"
     ]
    },
    {
     "name": "stderr",
     "output_type": "stream",
     "text": [
      "100%|██████████████████████████████████████████████████████████████████████████████████████████████████████████████████| 7/7 [00:00<00:00, 208.63it/s]\n",
      "100%|██████████████████████████████████████████████████████████████████████████████████████████████████████████████████| 2/2 [00:00<00:00, 204.44it/s]\n",
      "100%|██████████████████████████████████████████████████████████████████████████████████████████████████████████████████| 2/2 [00:00<00:00, 222.40it/s]\n",
      "100%|██████████████████████████████████████████████████████████████████████████████████████████████████████████████████| 1/1 [00:00<00:00, 228.78it/s]\n"
     ]
    },
    {
     "name": "stdout",
     "output_type": "stream",
     "text": [
      "Epoch 5/500 Train Total Loss: 0.10064 Train Src Loss: 0.01267 Train Tgt Loss: 0.08797 \n",
      "                 Val Total Loss: 0.34692 Val Src Loss: 0.26197 Val Tgt Loss: 0.08495\n"
     ]
    },
    {
     "name": "stderr",
     "output_type": "stream",
     "text": [
      "100%|██████████████████████████████████████████████████████████████████████████████████████████████████████████████████| 7/7 [00:00<00:00, 466.09it/s]\n",
      "100%|██████████████████████████████████████████████████████████████████████████████████████████████████████████████████| 2/2 [00:00<00:00, 447.34it/s]\n",
      "100%|██████████████████████████████████████████████████████████████████████████████████████████████████████████████████| 2/2 [00:00<00:00, 401.75it/s]\n",
      "100%|██████████████████████████████████████████████████████████████████████████████████████████████████████████████████| 1/1 [00:00<00:00, 273.64it/s]\n"
     ]
    },
    {
     "name": "stdout",
     "output_type": "stream",
     "text": [
      "Epoch 6/500 Train Total Loss: 0.1031 Train Src Loss: 0.01213 Train Tgt Loss: 0.09097 \n",
      "                 Val Total Loss: 0.35209 Val Src Loss: 0.26781 Val Tgt Loss: 0.08428\n"
     ]
    },
    {
     "name": "stderr",
     "output_type": "stream",
     "text": [
      "100%|██████████████████████████████████████████████████████████████████████████████████████████████████████████████████| 7/7 [00:00<00:00, 497.76it/s]\n",
      "100%|██████████████████████████████████████████████████████████████████████████████████████████████████████████████████| 2/2 [00:00<00:00, 416.58it/s]\n",
      "100%|██████████████████████████████████████████████████████████████████████████████████████████████████████████████████| 2/2 [00:00<00:00, 492.90it/s]\n",
      "100%|██████████████████████████████████████████████████████████████████████████████████████████████████████████████████| 1/1 [00:00<00:00, 311.01it/s]\n"
     ]
    },
    {
     "name": "stdout",
     "output_type": "stream",
     "text": [
      "Epoch 7/500 Train Total Loss: 0.1071 Train Src Loss: 0.01203 Train Tgt Loss: 0.09508 \n",
      "                 Val Total Loss: 0.31986 Val Src Loss: 0.26192 Val Tgt Loss: 0.05794\n"
     ]
    },
    {
     "name": "stderr",
     "output_type": "stream",
     "text": [
      "100%|██████████████████████████████████████████████████████████████████████████████████████████████████████████████████| 7/7 [00:00<00:00, 505.02it/s]\n",
      "100%|██████████████████████████████████████████████████████████████████████████████████████████████████████████████████| 2/2 [00:00<00:00, 423.95it/s]\n",
      "100%|██████████████████████████████████████████████████████████████████████████████████████████████████████████████████| 2/2 [00:00<00:00, 490.28it/s]\n",
      "100%|██████████████████████████████████████████████████████████████████████████████████████████████████████████████████| 1/1 [00:00<00:00, 182.49it/s]\n"
     ]
    },
    {
     "name": "stdout",
     "output_type": "stream",
     "text": [
      "Epoch 8/500 Train Total Loss: 0.09753 Train Src Loss: 0.01272 Train Tgt Loss: 0.0848 \n",
      "                 Val Total Loss: 0.35657 Val Src Loss: 0.27865 Val Tgt Loss: 0.07792\n"
     ]
    },
    {
     "name": "stderr",
     "output_type": "stream",
     "text": [
      "100%|██████████████████████████████████████████████████████████████████████████████████████████████████████████████████| 7/7 [00:00<00:00, 139.35it/s]\n",
      "100%|███████████████████████████████████████████████████████████████████████████████████████████████████████████████████| 2/2 [00:00<00:00, 92.19it/s]\n",
      "100%|██████████████████████████████████████████████████████████████████████████████████████████████████████████████████| 2/2 [00:00<00:00, 214.81it/s]\n",
      "100%|██████████████████████████████████████████████████████████████████████████████████████████████████████████████████| 1/1 [00:00<00:00, 199.41it/s]\n"
     ]
    },
    {
     "name": "stdout",
     "output_type": "stream",
     "text": [
      "Epoch 9/500 Train Total Loss: 0.0986 Train Src Loss: 0.01107 Train Tgt Loss: 0.08753 \n",
      "                 Val Total Loss: 0.36618 Val Src Loss: 0.26397 Val Tgt Loss: 0.10222\n"
     ]
    },
    {
     "name": "stderr",
     "output_type": "stream",
     "text": [
      "100%|██████████████████████████████████████████████████████████████████████████████████████████████████████████████████| 7/7 [00:00<00:00, 139.88it/s]\n",
      "100%|██████████████████████████████████████████████████████████████████████████████████████████████████████████████████| 2/2 [00:00<00:00, 122.44it/s]\n",
      "100%|██████████████████████████████████████████████████████████████████████████████████████████████████████████████████| 2/2 [00:00<00:00, 167.69it/s]\n",
      "100%|██████████████████████████████████████████████████████████████████████████████████████████████████████████████████| 1/1 [00:00<00:00, 129.27it/s]\n"
     ]
    },
    {
     "name": "stdout",
     "output_type": "stream",
     "text": [
      "Epoch 10/500 Train Total Loss: 0.09276 Train Src Loss: 0.01184 Train Tgt Loss: 0.08092 \n",
      "                 Val Total Loss: 0.34205 Val Src Loss: 0.25673 Val Tgt Loss: 0.08531\n"
     ]
    },
    {
     "name": "stderr",
     "output_type": "stream",
     "text": [
      "100%|██████████████████████████████████████████████████████████████████████████████████████████████████████████████████| 7/7 [00:00<00:00, 268.28it/s]\n",
      "100%|██████████████████████████████████████████████████████████████████████████████████████████████████████████████████| 2/2 [00:00<00:00, 121.14it/s]\n",
      "100%|██████████████████████████████████████████████████████████████████████████████████████████████████████████████████| 2/2 [00:00<00:00, 242.59it/s]\n",
      "100%|██████████████████████████████████████████████████████████████████████████████████████████████████████████████████| 1/1 [00:00<00:00, 265.04it/s]\n"
     ]
    },
    {
     "name": "stdout",
     "output_type": "stream",
     "text": [
      "Epoch 11/500 Train Total Loss: 0.09668 Train Src Loss: 0.01178 Train Tgt Loss: 0.0849 \n",
      "                 Val Total Loss: 0.34843 Val Src Loss: 0.25785 Val Tgt Loss: 0.09058\n"
     ]
    },
    {
     "name": "stderr",
     "output_type": "stream",
     "text": [
      "100%|██████████████████████████████████████████████████████████████████████████████████████████████████████████████████| 7/7 [00:00<00:00, 559.04it/s]\n",
      "100%|██████████████████████████████████████████████████████████████████████████████████████████████████████████████████| 2/2 [00:00<00:00, 437.61it/s]\n",
      "100%|██████████████████████████████████████████████████████████████████████████████████████████████████████████████████| 2/2 [00:00<00:00, 405.60it/s]\n",
      "100%|██████████████████████████████████████████████████████████████████████████████████████████████████████████████████| 1/1 [00:00<00:00, 445.54it/s]\n"
     ]
    },
    {
     "name": "stdout",
     "output_type": "stream",
     "text": [
      "Epoch 12/500 Train Total Loss: 0.08781 Train Src Loss: 0.01207 Train Tgt Loss: 0.07574 \n",
      "                 Val Total Loss: 0.35547 Val Src Loss: 0.26675 Val Tgt Loss: 0.08872\n"
     ]
    },
    {
     "name": "stderr",
     "output_type": "stream",
     "text": [
      "100%|██████████████████████████████████████████████████████████████████████████████████████████████████████████████████| 7/7 [00:00<00:00, 551.09it/s]\n",
      "100%|██████████████████████████████████████████████████████████████████████████████████████████████████████████████████| 2/2 [00:00<00:00, 435.18it/s]\n",
      "100%|██████████████████████████████████████████████████████████████████████████████████████████████████████████████████| 2/2 [00:00<00:00, 418.22it/s]\n",
      "100%|██████████████████████████████████████████████████████████████████████████████████████████████████████████████████| 1/1 [00:00<00:00, 449.79it/s]\n"
     ]
    },
    {
     "name": "stdout",
     "output_type": "stream",
     "text": [
      "Epoch 13/500 Train Total Loss: 0.09024 Train Src Loss: 0.01341 Train Tgt Loss: 0.07683 \n",
      "                 Val Total Loss: 0.34764 Val Src Loss: 0.26818 Val Tgt Loss: 0.07946\n"
     ]
    },
    {
     "name": "stderr",
     "output_type": "stream",
     "text": [
      "100%|██████████████████████████████████████████████████████████████████████████████████████████████████████████████████| 7/7 [00:00<00:00, 547.12it/s]\n",
      "100%|██████████████████████████████████████████████████████████████████████████████████████████████████████████████████| 2/2 [00:00<00:00, 451.32it/s]\n",
      "100%|██████████████████████████████████████████████████████████████████████████████████████████████████████████████████| 2/2 [00:00<00:00, 416.08it/s]\n",
      "100%|██████████████████████████████████████████████████████████████████████████████████████████████████████████████████| 1/1 [00:00<00:00, 261.38it/s]\n"
     ]
    },
    {
     "name": "stdout",
     "output_type": "stream",
     "text": [
      "Epoch 14/500 Train Total Loss: 0.08889 Train Src Loss: 0.01164 Train Tgt Loss: 0.07725 \n",
      "                 Val Total Loss: 0.32774 Val Src Loss: 0.26358 Val Tgt Loss: 0.06416\n"
     ]
    },
    {
     "name": "stderr",
     "output_type": "stream",
     "text": [
      "100%|██████████████████████████████████████████████████████████████████████████████████████████████████████████████████| 7/7 [00:00<00:00, 144.12it/s]\n",
      "100%|███████████████████████████████████████████████████████████████████████████████████████████████████████████████████| 2/2 [00:00<00:00, 85.70it/s]\n",
      "100%|██████████████████████████████████████████████████████████████████████████████████████████████████████████████████| 2/2 [00:00<00:00, 210.38it/s]\n",
      "100%|██████████████████████████████████████████████████████████████████████████████████████████████████████████████████| 1/1 [00:00<00:00, 199.22it/s]\n"
     ]
    },
    {
     "name": "stdout",
     "output_type": "stream",
     "text": [
      "Epoch 15/500 Train Total Loss: 0.09362 Train Src Loss: 0.01427 Train Tgt Loss: 0.07934 \n",
      "                 Val Total Loss: 0.34162 Val Src Loss: 0.27046 Val Tgt Loss: 0.07116\n"
     ]
    },
    {
     "name": "stderr",
     "output_type": "stream",
     "text": [
      "100%|██████████████████████████████████████████████████████████████████████████████████████████████████████████████████| 7/7 [00:00<00:00, 139.64it/s]\n",
      "100%|██████████████████████████████████████████████████████████████████████████████████████████████████████████████████| 2/2 [00:00<00:00, 121.51it/s]\n",
      "100%|██████████████████████████████████████████████████████████████████████████████████████████████████████████████████| 2/2 [00:00<00:00, 281.70it/s]\n",
      "100%|██████████████████████████████████████████████████████████████████████████████████████████████████████████████████| 1/1 [00:00<00:00, 117.45it/s]\n"
     ]
    },
    {
     "name": "stdout",
     "output_type": "stream",
     "text": [
      "Epoch 16/500 Train Total Loss: 0.09168 Train Src Loss: 0.01286 Train Tgt Loss: 0.07882 \n",
      "                 Val Total Loss: 0.33648 Val Src Loss: 0.25123 Val Tgt Loss: 0.08525\n"
     ]
    },
    {
     "name": "stderr",
     "output_type": "stream",
     "text": [
      "100%|██████████████████████████████████████████████████████████████████████████████████████████████████████████████████| 7/7 [00:00<00:00, 250.69it/s]\n",
      "100%|██████████████████████████████████████████████████████████████████████████████████████████████████████████████████| 2/2 [00:00<00:00, 121.77it/s]\n",
      "100%|██████████████████████████████████████████████████████████████████████████████████████████████████████████████████| 2/2 [00:00<00:00, 236.90it/s]\n",
      "100%|██████████████████████████████████████████████████████████████████████████████████████████████████████████████████| 1/1 [00:00<00:00, 246.29it/s]\n"
     ]
    },
    {
     "name": "stdout",
     "output_type": "stream",
     "text": [
      "Epoch 17/500 Train Total Loss: 0.09732 Train Src Loss: 0.01334 Train Tgt Loss: 0.08398 \n",
      "                 Val Total Loss: 0.34347 Val Src Loss: 0.26343 Val Tgt Loss: 0.08004\n"
     ]
    },
    {
     "name": "stderr",
     "output_type": "stream",
     "text": [
      "100%|██████████████████████████████████████████████████████████████████████████████████████████████████████████████████| 7/7 [00:00<00:00, 517.88it/s]\n",
      "100%|██████████████████████████████████████████████████████████████████████████████████████████████████████████████████| 2/2 [00:00<00:00, 421.45it/s]\n",
      "100%|██████████████████████████████████████████████████████████████████████████████████████████████████████████████████| 2/2 [00:00<00:00, 542.11it/s]\n",
      "100%|██████████████████████████████████████████████████████████████████████████████████████████████████████████████████| 1/1 [00:00<00:00, 294.92it/s]\n"
     ]
    },
    {
     "name": "stdout",
     "output_type": "stream",
     "text": [
      "Epoch 18/500 Train Total Loss: 0.0889 Train Src Loss: 0.01218 Train Tgt Loss: 0.07672 \n",
      "                 Val Total Loss: 0.34096 Val Src Loss: 0.271 Val Tgt Loss: 0.06997\n",
      "Test: 27 28\n",
      "Adapt train: 26 27\n",
      "Adapt val: 28\n"
     ]
    },
    {
     "name": "stderr",
     "output_type": "stream",
     "text": [
      "100%|██████████████████████████████████████████████████████████████████████████████████████████████████████████████████| 7/7 [00:00<00:00, 517.44it/s]\n",
      "100%|██████████████████████████████████████████████████████████████████████████████████████████████████████████████████| 2/2 [00:00<00:00, 400.37it/s]\n",
      "100%|██████████████████████████████████████████████████████████████████████████████████████████████████████████████████| 2/2 [00:00<00:00, 537.97it/s]\n",
      "100%|██████████████████████████████████████████████████████████████████████████████████████████████████████████████████| 1/1 [00:00<00:00, 268.13it/s]\n"
     ]
    },
    {
     "name": "stdout",
     "output_type": "stream",
     "text": [
      "Epoch 1/500 Train Total Loss: 0.09819 Train Src Loss: 0.01294 Train Tgt Loss: 0.08525 \n",
      "                 Val Total Loss: 0.34104 Val Src Loss: 0.25473 Val Tgt Loss: 0.08631\n"
     ]
    },
    {
     "name": "stderr",
     "output_type": "stream",
     "text": [
      "100%|██████████████████████████████████████████████████████████████████████████████████████████████████████████████████| 7/7 [00:00<00:00, 519.93it/s]\n",
      "100%|██████████████████████████████████████████████████████████████████████████████████████████████████████████████████| 2/2 [00:00<00:00, 221.47it/s]\n",
      "100%|███████████████████████████████████████████████████████████████████████████████████████████████████████████████████| 2/2 [00:00<00:00, 96.80it/s]\n",
      "100%|███████████████████████████████████████████████████████████████████████████████████████████████████████████████████| 1/1 [00:00<00:00, 43.36it/s]\n"
     ]
    },
    {
     "name": "stdout",
     "output_type": "stream",
     "text": [
      "Epoch 2/500 Train Total Loss: 0.10468 Train Src Loss: 0.01296 Train Tgt Loss: 0.09172 \n",
      "                 Val Total Loss: 0.35928 Val Src Loss: 0.27611 Val Tgt Loss: 0.08318\n"
     ]
    },
    {
     "name": "stderr",
     "output_type": "stream",
     "text": [
      "100%|██████████████████████████████████████████████████████████████████████████████████████████████████████████████████| 7/7 [00:00<00:00, 211.78it/s]\n",
      "100%|██████████████████████████████████████████████████████████████████████████████████████████████████████████████████| 2/2 [00:00<00:00, 128.20it/s]\n",
      "100%|██████████████████████████████████████████████████████████████████████████████████████████████████████████████████| 2/2 [00:00<00:00, 139.81it/s]\n",
      "100%|███████████████████████████████████████████████████████████████████████████████████████████████████████████████████| 1/1 [00:00<00:00, 89.50it/s]\n"
     ]
    },
    {
     "name": "stdout",
     "output_type": "stream",
     "text": [
      "Epoch 3/500 Train Total Loss: 0.08783 Train Src Loss: 0.01264 Train Tgt Loss: 0.07519 \n",
      "                 Val Total Loss: 0.34445 Val Src Loss: 0.25926 Val Tgt Loss: 0.08519\n"
     ]
    },
    {
     "name": "stderr",
     "output_type": "stream",
     "text": [
      "100%|██████████████████████████████████████████████████████████████████████████████████████████████████████████████████| 7/7 [00:00<00:00, 234.37it/s]\n",
      "100%|██████████████████████████████████████████████████████████████████████████████████████████████████████████████████| 2/2 [00:00<00:00, 124.34it/s]\n",
      "100%|██████████████████████████████████████████████████████████████████████████████████████████████████████████████████| 2/2 [00:00<00:00, 320.48it/s]\n",
      "100%|██████████████████████████████████████████████████████████████████████████████████████████████████████████████████| 1/1 [00:00<00:00, 247.09it/s]\n"
     ]
    },
    {
     "name": "stdout",
     "output_type": "stream",
     "text": [
      "Epoch 4/500 Train Total Loss: 0.0932 Train Src Loss: 0.01285 Train Tgt Loss: 0.08036 \n",
      "                 Val Total Loss: 0.34205 Val Src Loss: 0.26865 Val Tgt Loss: 0.0734\n"
     ]
    },
    {
     "name": "stderr",
     "output_type": "stream",
     "text": [
      "100%|██████████████████████████████████████████████████████████████████████████████████████████████████████████████████| 7/7 [00:00<00:00, 208.10it/s]\n",
      "100%|██████████████████████████████████████████████████████████████████████████████████████████████████████████████████| 2/2 [00:00<00:00, 258.38it/s]\n",
      "100%|██████████████████████████████████████████████████████████████████████████████████████████████████████████████████| 2/2 [00:00<00:00, 590.79it/s]\n",
      "100%|██████████████████████████████████████████████████████████████████████████████████████████████████████████████████| 1/1 [00:00<00:00, 433.97it/s]\n"
     ]
    },
    {
     "name": "stdout",
     "output_type": "stream",
     "text": [
      "Epoch 5/500 Train Total Loss: 0.08786 Train Src Loss: 0.01319 Train Tgt Loss: 0.07466 \n",
      "                 Val Total Loss: 0.32506 Val Src Loss: 0.25623 Val Tgt Loss: 0.06883\n"
     ]
    },
    {
     "name": "stderr",
     "output_type": "stream",
     "text": [
      "100%|██████████████████████████████████████████████████████████████████████████████████████████████████████████████████| 7/7 [00:00<00:00, 548.20it/s]\n",
      "100%|██████████████████████████████████████████████████████████████████████████████████████████████████████████████████| 2/2 [00:00<00:00, 468.01it/s]\n",
      "100%|██████████████████████████████████████████████████████████████████████████████████████████████████████████████████| 2/2 [00:00<00:00, 591.12it/s]\n",
      "100%|██████████████████████████████████████████████████████████████████████████████████████████████████████████████████| 1/1 [00:00<00:00, 410.08it/s]\n"
     ]
    },
    {
     "name": "stdout",
     "output_type": "stream",
     "text": [
      "Epoch 6/500 Train Total Loss: 0.092 Train Src Loss: 0.01426 Train Tgt Loss: 0.07773 \n",
      "                 Val Total Loss: 0.34861 Val Src Loss: 0.28401 Val Tgt Loss: 0.0646\n"
     ]
    },
    {
     "name": "stderr",
     "output_type": "stream",
     "text": [
      "100%|██████████████████████████████████████████████████████████████████████████████████████████████████████████████████| 7/7 [00:00<00:00, 560.18it/s]\n",
      "100%|██████████████████████████████████████████████████████████████████████████████████████████████████████████████████| 2/2 [00:00<00:00, 461.88it/s]\n",
      "100%|██████████████████████████████████████████████████████████████████████████████████████████████████████████████████| 2/2 [00:00<00:00, 577.73it/s]\n",
      "100%|██████████████████████████████████████████████████████████████████████████████████████████████████████████████████| 1/1 [00:00<00:00, 422.47it/s]\n"
     ]
    },
    {
     "name": "stdout",
     "output_type": "stream",
     "text": [
      "Epoch 7/500 Train Total Loss: 0.0919 Train Src Loss: 0.01217 Train Tgt Loss: 0.07973 \n",
      "                 Val Total Loss: 0.34104 Val Src Loss: 0.25685 Val Tgt Loss: 0.0842\n"
     ]
    },
    {
     "name": "stderr",
     "output_type": "stream",
     "text": [
      "100%|██████████████████████████████████████████████████████████████████████████████████████████████████████████████████| 7/7 [00:00<00:00, 561.27it/s]\n",
      "100%|██████████████████████████████████████████████████████████████████████████████████████████████████████████████████| 2/2 [00:00<00:00, 472.78it/s]\n",
      "100%|██████████████████████████████████████████████████████████████████████████████████████████████████████████████████| 2/2 [00:00<00:00, 235.46it/s]\n",
      "100%|██████████████████████████████████████████████████████████████████████████████████████████████████████████████████| 1/1 [00:00<00:00, 214.20it/s]\n"
     ]
    },
    {
     "name": "stdout",
     "output_type": "stream",
     "text": [
      "Epoch 8/500 Train Total Loss: 0.09513 Train Src Loss: 0.01366 Train Tgt Loss: 0.08147 \n",
      "                 Val Total Loss: 0.34079 Val Src Loss: 0.26516 Val Tgt Loss: 0.07564\n"
     ]
    },
    {
     "name": "stderr",
     "output_type": "stream",
     "text": [
      "100%|██████████████████████████████████████████████████████████████████████████████████████████████████████████████████| 7/7 [00:00<00:00, 112.30it/s]\n",
      "100%|██████████████████████████████████████████████████████████████████████████████████████████████████████████████████| 2/2 [00:00<00:00, 193.58it/s]\n",
      "100%|██████████████████████████████████████████████████████████████████████████████████████████████████████████████████| 2/2 [00:00<00:00, 230.58it/s]\n",
      "100%|██████████████████████████████████████████████████████████████████████████████████████████████████████████████████| 1/1 [00:00<00:00, 188.92it/s]\n"
     ]
    },
    {
     "name": "stdout",
     "output_type": "stream",
     "text": [
      "Epoch 9/500 Train Total Loss: 0.08661 Train Src Loss: 0.01316 Train Tgt Loss: 0.07345 \n",
      "                 Val Total Loss: 0.33893 Val Src Loss: 0.27834 Val Tgt Loss: 0.06058\n"
     ]
    },
    {
     "name": "stderr",
     "output_type": "stream",
     "text": [
      "100%|██████████████████████████████████████████████████████████████████████████████████████████████████████████████████| 7/7 [00:00<00:00, 140.41it/s]\n",
      "100%|██████████████████████████████████████████████████████████████████████████████████████████████████████████████████| 2/2 [00:00<00:00, 121.57it/s]\n",
      "100%|██████████████████████████████████████████████████████████████████████████████████████████████████████████████████| 2/2 [00:00<00:00, 327.48it/s]\n",
      "100%|██████████████████████████████████████████████████████████████████████████████████████████████████████████████████| 1/1 [00:00<00:00, 146.08it/s]\n"
     ]
    },
    {
     "name": "stdout",
     "output_type": "stream",
     "text": [
      "Epoch 10/500 Train Total Loss: 0.08719 Train Src Loss: 0.01359 Train Tgt Loss: 0.0736 \n",
      "                 Val Total Loss: 0.34707 Val Src Loss: 0.26877 Val Tgt Loss: 0.0783\n"
     ]
    },
    {
     "name": "stderr",
     "output_type": "stream",
     "text": [
      "100%|██████████████████████████████████████████████████████████████████████████████████████████████████████████████████| 7/7 [00:00<00:00, 235.66it/s]\n",
      "100%|██████████████████████████████████████████████████████████████████████████████████████████████████████████████████| 2/2 [00:00<00:00, 124.23it/s]\n",
      "100%|██████████████████████████████████████████████████████████████████████████████████████████████████████████████████| 2/2 [00:00<00:00, 258.48it/s]\n",
      "100%|██████████████████████████████████████████████████████████████████████████████████████████████████████████████████| 1/1 [00:00<00:00, 269.96it/s]\n"
     ]
    },
    {
     "name": "stdout",
     "output_type": "stream",
     "text": [
      "Epoch 11/500 Train Total Loss: 0.07414 Train Src Loss: 0.01419 Train Tgt Loss: 0.05995 \n",
      "                 Val Total Loss: 0.35887 Val Src Loss: 0.28976 Val Tgt Loss: 0.06912\n"
     ]
    },
    {
     "name": "stderr",
     "output_type": "stream",
     "text": [
      "100%|██████████████████████████████████████████████████████████████████████████████████████████████████████████████████| 7/7 [00:00<00:00, 560.06it/s]\n",
      "100%|██████████████████████████████████████████████████████████████████████████████████████████████████████████████████| 2/2 [00:00<00:00, 476.11it/s]\n",
      "100%|██████████████████████████████████████████████████████████████████████████████████████████████████████████████████| 2/2 [00:00<00:00, 586.08it/s]\n",
      "100%|██████████████████████████████████████████████████████████████████████████████████████████████████████████████████| 1/1 [00:00<00:00, 402.83it/s]\n"
     ]
    },
    {
     "name": "stdout",
     "output_type": "stream",
     "text": [
      "Epoch 12/500 Train Total Loss: 0.08402 Train Src Loss: 0.01349 Train Tgt Loss: 0.07053 \n",
      "                 Val Total Loss: 0.35839 Val Src Loss: 0.27906 Val Tgt Loss: 0.07933\n"
     ]
    },
    {
     "name": "stderr",
     "output_type": "stream",
     "text": [
      "100%|██████████████████████████████████████████████████████████████████████████████████████████████████████████████████| 7/7 [00:00<00:00, 561.18it/s]\n",
      "100%|██████████████████████████████████████████████████████████████████████████████████████████████████████████████████| 2/2 [00:00<00:00, 454.69it/s]\n",
      "100%|██████████████████████████████████████████████████████████████████████████████████████████████████████████████████| 2/2 [00:00<00:00, 577.05it/s]\n",
      "100%|██████████████████████████████████████████████████████████████████████████████████████████████████████████████████| 1/1 [00:00<00:00, 440.49it/s]\n"
     ]
    },
    {
     "name": "stdout",
     "output_type": "stream",
     "text": [
      "Epoch 13/500 Train Total Loss: 0.07923 Train Src Loss: 0.01359 Train Tgt Loss: 0.06565 \n",
      "                 Val Total Loss: 0.3457 Val Src Loss: 0.2764 Val Tgt Loss: 0.0693\n"
     ]
    },
    {
     "name": "stderr",
     "output_type": "stream",
     "text": [
      "100%|██████████████████████████████████████████████████████████████████████████████████████████████████████████████████| 7/7 [00:00<00:00, 560.60it/s]\n",
      "100%|██████████████████████████████████████████████████████████████████████████████████████████████████████████████████| 2/2 [00:00<00:00, 475.44it/s]\n",
      "100%|██████████████████████████████████████████████████████████████████████████████████████████████████████████████████| 2/2 [00:00<00:00, 587.07it/s]\n",
      "100%|██████████████████████████████████████████████████████████████████████████████████████████████████████████████████| 1/1 [00:00<00:00, 438.78it/s]\n"
     ]
    },
    {
     "name": "stdout",
     "output_type": "stream",
     "text": [
      "Epoch 14/500 Train Total Loss: 0.08419 Train Src Loss: 0.01493 Train Tgt Loss: 0.06926 \n",
      "                 Val Total Loss: 0.35353 Val Src Loss: 0.28004 Val Tgt Loss: 0.07349\n"
     ]
    },
    {
     "name": "stderr",
     "output_type": "stream",
     "text": [
      "100%|██████████████████████████████████████████████████████████████████████████████████████████████████████████████████| 7/7 [00:00<00:00, 157.70it/s]\n",
      "100%|███████████████████████████████████████████████████████████████████████████████████████████████████████████████████| 2/2 [00:00<00:00, 66.34it/s]\n",
      "100%|██████████████████████████████████████████████████████████████████████████████████████████████████████████████████| 2/2 [00:00<00:00, 200.70it/s]\n",
      "100%|██████████████████████████████████████████████████████████████████████████████████████████████████████████████████| 1/1 [00:00<00:00, 207.26it/s]\n"
     ]
    },
    {
     "name": "stdout",
     "output_type": "stream",
     "text": [
      "Epoch 15/500 Train Total Loss: 0.07793 Train Src Loss: 0.01407 Train Tgt Loss: 0.06386 \n",
      "                 Val Total Loss: 0.33195 Val Src Loss: 0.26236 Val Tgt Loss: 0.06959\n"
     ]
    },
    {
     "name": "stderr",
     "output_type": "stream",
     "text": [
      "100%|██████████████████████████████████████████████████████████████████████████████████████████████████████████████████| 7/7 [00:00<00:00, 162.48it/s]\n",
      "100%|██████████████████████████████████████████████████████████████████████████████████████████████████████████████████| 2/2 [00:00<00:00, 106.56it/s]\n",
      "100%|██████████████████████████████████████████████████████████████████████████████████████████████████████████████████| 2/2 [00:00<00:00, 304.30it/s]\n",
      "100%|██████████████████████████████████████████████████████████████████████████████████████████████████████████████████| 1/1 [00:00<00:00, 177.68it/s]\n"
     ]
    },
    {
     "name": "stdout",
     "output_type": "stream",
     "text": [
      "Epoch 16/500 Train Total Loss: 0.07314 Train Src Loss: 0.0149 Train Tgt Loss: 0.05823 \n",
      "                 Val Total Loss: 0.35289 Val Src Loss: 0.27647 Val Tgt Loss: 0.07642\n",
      "Test: 29 30\n",
      "Adapt train: 28 29\n",
      "Adapt val: 30\n"
     ]
    },
    {
     "name": "stderr",
     "output_type": "stream",
     "text": [
      "100%|██████████████████████████████████████████████████████████████████████████████████████████████████████████████████| 7/7 [00:00<00:00, 203.69it/s]\n",
      "100%|██████████████████████████████████████████████████████████████████████████████████████████████████████████████████| 2/2 [00:00<00:00, 233.57it/s]\n",
      "100%|██████████████████████████████████████████████████████████████████████████████████████████████████████████████████| 2/2 [00:00<00:00, 594.35it/s]\n",
      "100%|██████████████████████████████████████████████████████████████████████████████████████████████████████████████████| 1/1 [00:00<00:00, 426.34it/s]\n"
     ]
    },
    {
     "name": "stdout",
     "output_type": "stream",
     "text": [
      "Epoch 1/500 Train Total Loss: 0.08815 Train Src Loss: 0.01178 Train Tgt Loss: 0.07637 \n",
      "                 Val Total Loss: 0.36739 Val Src Loss: 0.26121 Val Tgt Loss: 0.10618\n"
     ]
    },
    {
     "name": "stderr",
     "output_type": "stream",
     "text": [
      "100%|██████████████████████████████████████████████████████████████████████████████████████████████████████████████████| 7/7 [00:00<00:00, 549.24it/s]\n",
      "100%|██████████████████████████████████████████████████████████████████████████████████████████████████████████████████| 2/2 [00:00<00:00, 440.25it/s]\n",
      "100%|██████████████████████████████████████████████████████████████████████████████████████████████████████████████████| 2/2 [00:00<00:00, 588.80it/s]\n",
      "100%|██████████████████████████████████████████████████████████████████████████████████████████████████████████████████| 1/1 [00:00<00:00, 441.74it/s]\n"
     ]
    },
    {
     "name": "stdout",
     "output_type": "stream",
     "text": [
      "Epoch 2/500 Train Total Loss: 0.0836 Train Src Loss: 0.01313 Train Tgt Loss: 0.07047 \n",
      "                 Val Total Loss: 0.36118 Val Src Loss: 0.25817 Val Tgt Loss: 0.10301\n"
     ]
    },
    {
     "name": "stderr",
     "output_type": "stream",
     "text": [
      "100%|██████████████████████████████████████████████████████████████████████████████████████████████████████████████████| 7/7 [00:00<00:00, 559.94it/s]\n",
      "100%|██████████████████████████████████████████████████████████████████████████████████████████████████████████████████| 2/2 [00:00<00:00, 436.59it/s]\n",
      "100%|██████████████████████████████████████████████████████████████████████████████████████████████████████████████████| 2/2 [00:00<00:00, 586.29it/s]\n",
      "100%|██████████████████████████████████████████████████████████████████████████████████████████████████████████████████| 1/1 [00:00<00:00, 476.73it/s]\n"
     ]
    },
    {
     "name": "stdout",
     "output_type": "stream",
     "text": [
      "Epoch 3/500 Train Total Loss: 0.08821 Train Src Loss: 0.01302 Train Tgt Loss: 0.0752 \n",
      "                 Val Total Loss: 0.35076 Val Src Loss: 0.26197 Val Tgt Loss: 0.08879\n"
     ]
    },
    {
     "name": "stderr",
     "output_type": "stream",
     "text": [
      "100%|██████████████████████████████████████████████████████████████████████████████████████████████████████████████████| 7/7 [00:00<00:00, 514.53it/s]\n",
      "100%|██████████████████████████████████████████████████████████████████████████████████████████████████████████████████| 2/2 [00:00<00:00, 430.14it/s]\n",
      "100%|██████████████████████████████████████████████████████████████████████████████████████████████████████████████████| 2/2 [00:00<00:00, 194.28it/s]\n",
      "100%|██████████████████████████████████████████████████████████████████████████████████████████████████████████████████| 1/1 [00:00<00:00, 124.66it/s]\n"
     ]
    },
    {
     "name": "stdout",
     "output_type": "stream",
     "text": [
      "Epoch 4/500 Train Total Loss: 0.08966 Train Src Loss: 0.0146 Train Tgt Loss: 0.07506 \n",
      "                 Val Total Loss: 0.36964 Val Src Loss: 0.28076 Val Tgt Loss: 0.08888\n"
     ]
    },
    {
     "name": "stderr",
     "output_type": "stream",
     "text": [
      "100%|██████████████████████████████████████████████████████████████████████████████████████████████████████████████████| 7/7 [00:00<00:00, 115.30it/s]\n",
      "100%|██████████████████████████████████████████████████████████████████████████████████████████████████████████████████| 2/2 [00:00<00:00, 235.01it/s]\n",
      "100%|██████████████████████████████████████████████████████████████████████████████████████████████████████████████████| 2/2 [00:00<00:00, 184.19it/s]\n",
      "100%|██████████████████████████████████████████████████████████████████████████████████████████████████████████████████| 1/1 [00:00<00:00, 111.52it/s]\n"
     ]
    },
    {
     "name": "stdout",
     "output_type": "stream",
     "text": [
      "Epoch 5/500 Train Total Loss: 0.08235 Train Src Loss: 0.01264 Train Tgt Loss: 0.06972 \n",
      "                 Val Total Loss: 0.36016 Val Src Loss: 0.2604 Val Tgt Loss: 0.09977\n"
     ]
    },
    {
     "name": "stderr",
     "output_type": "stream",
     "text": [
      "100%|██████████████████████████████████████████████████████████████████████████████████████████████████████████████████| 7/7 [00:00<00:00, 137.05it/s]\n",
      "100%|██████████████████████████████████████████████████████████████████████████████████████████████████████████████████| 2/2 [00:00<00:00, 234.93it/s]\n",
      "100%|██████████████████████████████████████████████████████████████████████████████████████████████████████████████████| 2/2 [00:00<00:00, 163.61it/s]\n",
      "100%|██████████████████████████████████████████████████████████████████████████████████████████████████████████████████| 1/1 [00:00<00:00, 177.54it/s]\n"
     ]
    },
    {
     "name": "stdout",
     "output_type": "stream",
     "text": [
      "Epoch 6/500 Train Total Loss: 0.09396 Train Src Loss: 0.01288 Train Tgt Loss: 0.08108 \n",
      "                 Val Total Loss: 0.37149 Val Src Loss: 0.2719 Val Tgt Loss: 0.09959\n"
     ]
    },
    {
     "name": "stderr",
     "output_type": "stream",
     "text": [
      "100%|██████████████████████████████████████████████████████████████████████████████████████████████████████████████████| 7/7 [00:00<00:00, 276.18it/s]\n",
      "100%|██████████████████████████████████████████████████████████████████████████████████████████████████████████████████| 2/2 [00:00<00:00, 137.69it/s]\n",
      "100%|██████████████████████████████████████████████████████████████████████████████████████████████████████████████████| 2/2 [00:00<00:00, 233.60it/s]\n",
      "100%|██████████████████████████████████████████████████████████████████████████████████████████████████████████████████| 1/1 [00:00<00:00, 286.55it/s]\n"
     ]
    },
    {
     "name": "stdout",
     "output_type": "stream",
     "text": [
      "Epoch 7/500 Train Total Loss: 0.08301 Train Src Loss: 0.01412 Train Tgt Loss: 0.06889 \n",
      "                 Val Total Loss: 0.35732 Val Src Loss: 0.26777 Val Tgt Loss: 0.08955\n"
     ]
    },
    {
     "name": "stderr",
     "output_type": "stream",
     "text": [
      "100%|██████████████████████████████████████████████████████████████████████████████████████████████████████████████████| 7/7 [00:00<00:00, 429.75it/s]\n",
      "100%|██████████████████████████████████████████████████████████████████████████████████████████████████████████████████| 2/2 [00:00<00:00, 434.44it/s]\n",
      "100%|██████████████████████████████████████████████████████████████████████████████████████████████████████████████████| 2/2 [00:00<00:00, 418.07it/s]\n",
      "100%|██████████████████████████████████████████████████████████████████████████████████████████████████████████████████| 1/1 [00:00<00:00, 331.59it/s]\n"
     ]
    },
    {
     "name": "stdout",
     "output_type": "stream",
     "text": [
      "Epoch 8/500 Train Total Loss: 0.08197 Train Src Loss: 0.01336 Train Tgt Loss: 0.0686 \n",
      "                 Val Total Loss: 0.37563 Val Src Loss: 0.28364 Val Tgt Loss: 0.09199\n"
     ]
    },
    {
     "name": "stderr",
     "output_type": "stream",
     "text": [
      "100%|██████████████████████████████████████████████████████████████████████████████████████████████████████████████████| 7/7 [00:00<00:00, 568.73it/s]\n",
      "100%|██████████████████████████████████████████████████████████████████████████████████████████████████████████████████| 2/2 [00:00<00:00, 448.06it/s]\n",
      "100%|██████████████████████████████████████████████████████████████████████████████████████████████████████████████████| 2/2 [00:00<00:00, 513.28it/s]\n",
      "100%|██████████████████████████████████████████████████████████████████████████████████████████████████████████████████| 1/1 [00:00<00:00, 308.00it/s]\n"
     ]
    },
    {
     "name": "stdout",
     "output_type": "stream",
     "text": [
      "Epoch 9/500 Train Total Loss: 0.08825 Train Src Loss: 0.01215 Train Tgt Loss: 0.07609 \n",
      "                 Val Total Loss: 0.36517 Val Src Loss: 0.27823 Val Tgt Loss: 0.08694\n"
     ]
    },
    {
     "name": "stderr",
     "output_type": "stream",
     "text": [
      "100%|██████████████████████████████████████████████████████████████████████████████████████████████████████████████████| 7/7 [00:00<00:00, 568.64it/s]\n",
      "100%|██████████████████████████████████████████████████████████████████████████████████████████████████████████████████| 2/2 [00:00<00:00, 441.83it/s]\n",
      "100%|██████████████████████████████████████████████████████████████████████████████████████████████████████████████████| 2/2 [00:00<00:00, 185.30it/s]\n",
      "100%|██████████████████████████████████████████████████████████████████████████████████████████████████████████████████| 1/1 [00:00<00:00, 187.36it/s]\n"
     ]
    },
    {
     "name": "stdout",
     "output_type": "stream",
     "text": [
      "Epoch 10/500 Train Total Loss: 0.08591 Train Src Loss: 0.01351 Train Tgt Loss: 0.0724 \n",
      "                 Val Total Loss: 0.35355 Val Src Loss: 0.26274 Val Tgt Loss: 0.09081\n"
     ]
    },
    {
     "name": "stderr",
     "output_type": "stream",
     "text": [
      "100%|██████████████████████████████████████████████████████████████████████████████████████████████████████████████████| 7/7 [00:00<00:00, 130.29it/s]\n",
      "100%|██████████████████████████████████████████████████████████████████████████████████████████████████████████████████| 2/2 [00:00<00:00, 215.78it/s]\n",
      "100%|██████████████████████████████████████████████████████████████████████████████████████████████████████████████████| 2/2 [00:00<00:00, 226.18it/s]\n",
      "100%|██████████████████████████████████████████████████████████████████████████████████████████████████████████████████| 1/1 [00:00<00:00, 182.89it/s]\n"
     ]
    },
    {
     "name": "stdout",
     "output_type": "stream",
     "text": [
      "Epoch 11/500 Train Total Loss: 0.07959 Train Src Loss: 0.01299 Train Tgt Loss: 0.0666 \n",
      "                 Val Total Loss: 0.35881 Val Src Loss: 0.26472 Val Tgt Loss: 0.09409\n"
     ]
    },
    {
     "name": "stderr",
     "output_type": "stream",
     "text": [
      "100%|██████████████████████████████████████████████████████████████████████████████████████████████████████████████████| 7/7 [00:00<00:00, 139.55it/s]\n",
      "100%|██████████████████████████████████████████████████████████████████████████████████████████████████████████████████| 2/2 [00:00<00:00, 123.34it/s]\n",
      "100%|██████████████████████████████████████████████████████████████████████████████████████████████████████████████████| 2/2 [00:00<00:00, 257.37it/s]\n",
      "100%|██████████████████████████████████████████████████████████████████████████████████████████████████████████████████| 1/1 [00:00<00:00, 113.15it/s]\n"
     ]
    },
    {
     "name": "stdout",
     "output_type": "stream",
     "text": [
      "Epoch 12/500 Train Total Loss: 0.08976 Train Src Loss: 0.01366 Train Tgt Loss: 0.0761 \n",
      "                 Val Total Loss: 0.36424 Val Src Loss: 0.26464 Val Tgt Loss: 0.0996\n"
     ]
    },
    {
     "name": "stderr",
     "output_type": "stream",
     "text": [
      "100%|██████████████████████████████████████████████████████████████████████████████████████████████████████████████████| 7/7 [00:00<00:00, 249.16it/s]\n",
      "100%|██████████████████████████████████████████████████████████████████████████████████████████████████████████████████| 2/2 [00:00<00:00, 149.52it/s]\n",
      "100%|██████████████████████████████████████████████████████████████████████████████████████████████████████████████████| 2/2 [00:00<00:00, 224.05it/s]\n",
      "100%|██████████████████████████████████████████████████████████████████████████████████████████████████████████████████| 1/1 [00:00<00:00, 250.63it/s]\n"
     ]
    },
    {
     "name": "stdout",
     "output_type": "stream",
     "text": [
      "Epoch 13/500 Train Total Loss: 0.08034 Train Src Loss: 0.01295 Train Tgt Loss: 0.06739 \n",
      "                 Val Total Loss: 0.37625 Val Src Loss: 0.27154 Val Tgt Loss: 0.10471\n"
     ]
    },
    {
     "name": "stderr",
     "output_type": "stream",
     "text": [
      "100%|██████████████████████████████████████████████████████████████████████████████████████████████████████████████████| 7/7 [00:00<00:00, 550.58it/s]\n",
      "100%|██████████████████████████████████████████████████████████████████████████████████████████████████████████████████| 2/2 [00:00<00:00, 431.93it/s]\n",
      "100%|██████████████████████████████████████████████████████████████████████████████████████████████████████████████████| 2/2 [00:00<00:00, 391.84it/s]\n",
      "100%|██████████████████████████████████████████████████████████████████████████████████████████████████████████████████| 1/1 [00:00<00:00, 301.31it/s]\n"
     ]
    },
    {
     "name": "stdout",
     "output_type": "stream",
     "text": [
      "Epoch 14/500 Train Total Loss: 0.08902 Train Src Loss: 0.01329 Train Tgt Loss: 0.07573 \n",
      "                 Val Total Loss: 0.37766 Val Src Loss: 0.28137 Val Tgt Loss: 0.09629\n",
      "Test: 31 32\n",
      "Adapt train: 30 31\n",
      "Adapt val: 32\n"
     ]
    },
    {
     "name": "stderr",
     "output_type": "stream",
     "text": [
      "100%|██████████████████████████████████████████████████████████████████████████████████████████████████████████████████| 7/7 [00:00<00:00, 553.18it/s]\n",
      "100%|██████████████████████████████████████████████████████████████████████████████████████████████████████████████████| 2/2 [00:00<00:00, 398.51it/s]\n",
      "100%|██████████████████████████████████████████████████████████████████████████████████████████████████████████████████| 2/2 [00:00<00:00, 535.43it/s]\n",
      "100%|██████████████████████████████████████████████████████████████████████████████████████████████████████████████████| 1/1 [00:00<00:00, 386.64it/s]\n"
     ]
    },
    {
     "name": "stdout",
     "output_type": "stream",
     "text": [
      "Epoch 1/500 Train Total Loss: 0.10254 Train Src Loss: 0.01343 Train Tgt Loss: 0.08911 \n",
      "                 Val Total Loss: 0.40921 Val Src Loss: 0.266 Val Tgt Loss: 0.14321\n"
     ]
    },
    {
     "name": "stderr",
     "output_type": "stream",
     "text": [
      "100%|██████████████████████████████████████████████████████████████████████████████████████████████████████████████████| 7/7 [00:00<00:00, 507.19it/s]\n",
      "100%|██████████████████████████████████████████████████████████████████████████████████████████████████████████████████| 2/2 [00:00<00:00, 247.15it/s]\n",
      "100%|██████████████████████████████████████████████████████████████████████████████████████████████████████████████████| 2/2 [00:00<00:00, 161.22it/s]\n",
      "100%|███████████████████████████████████████████████████████████████████████████████████████████████████████████████████| 1/1 [00:00<00:00, 50.03it/s]\n"
     ]
    },
    {
     "name": "stdout",
     "output_type": "stream",
     "text": [
      "Epoch 2/500 Train Total Loss: 0.10512 Train Src Loss: 0.01258 Train Tgt Loss: 0.09254 \n",
      "                 Val Total Loss: 0.41568 Val Src Loss: 0.27526 Val Tgt Loss: 0.14042\n"
     ]
    },
    {
     "name": "stderr",
     "output_type": "stream",
     "text": [
      "100%|██████████████████████████████████████████████████████████████████████████████████████████████████████████████████| 7/7 [00:00<00:00, 187.40it/s]\n",
      "100%|██████████████████████████████████████████████████████████████████████████████████████████████████████████████████| 2/2 [00:00<00:00, 201.88it/s]\n",
      "100%|██████████████████████████████████████████████████████████████████████████████████████████████████████████████████| 2/2 [00:00<00:00, 227.33it/s]\n",
      "100%|██████████████████████████████████████████████████████████████████████████████████████████████████████████████████| 1/1 [00:00<00:00, 135.48it/s]\n"
     ]
    },
    {
     "name": "stdout",
     "output_type": "stream",
     "text": [
      "Epoch 3/500 Train Total Loss: 0.10991 Train Src Loss: 0.01323 Train Tgt Loss: 0.09667 \n",
      "                 Val Total Loss: 0.42874 Val Src Loss: 0.26846 Val Tgt Loss: 0.16028\n"
     ]
    },
    {
     "name": "stderr",
     "output_type": "stream",
     "text": [
      "100%|██████████████████████████████████████████████████████████████████████████████████████████████████████████████████| 7/7 [00:00<00:00, 146.41it/s]\n",
      "100%|██████████████████████████████████████████████████████████████████████████████████████████████████████████████████| 2/2 [00:00<00:00, 120.99it/s]\n",
      "100%|██████████████████████████████████████████████████████████████████████████████████████████████████████████████████| 2/2 [00:00<00:00, 215.75it/s]\n",
      "100%|██████████████████████████████████████████████████████████████████████████████████████████████████████████████████| 1/1 [00:00<00:00, 141.71it/s]\n"
     ]
    },
    {
     "name": "stdout",
     "output_type": "stream",
     "text": [
      "Epoch 4/500 Train Total Loss: 0.11104 Train Src Loss: 0.01526 Train Tgt Loss: 0.09577 \n",
      "                 Val Total Loss: 0.41375 Val Src Loss: 0.27065 Val Tgt Loss: 0.1431\n"
     ]
    },
    {
     "name": "stderr",
     "output_type": "stream",
     "text": [
      "100%|██████████████████████████████████████████████████████████████████████████████████████████████████████████████████| 7/7 [00:00<00:00, 248.16it/s]\n",
      "100%|██████████████████████████████████████████████████████████████████████████████████████████████████████████████████| 2/2 [00:00<00:00, 122.33it/s]\n",
      "100%|██████████████████████████████████████████████████████████████████████████████████████████████████████████████████| 2/2 [00:00<00:00, 258.83it/s]\n",
      "100%|██████████████████████████████████████████████████████████████████████████████████████████████████████████████████| 1/1 [00:00<00:00, 269.54it/s]\n"
     ]
    },
    {
     "name": "stdout",
     "output_type": "stream",
     "text": [
      "Epoch 5/500 Train Total Loss: 0.10314 Train Src Loss: 0.01392 Train Tgt Loss: 0.08922 \n",
      "                 Val Total Loss: 0.40223 Val Src Loss: 0.25626 Val Tgt Loss: 0.14598\n"
     ]
    },
    {
     "name": "stderr",
     "output_type": "stream",
     "text": [
      "100%|██████████████████████████████████████████████████████████████████████████████████████████████████████████████████| 7/7 [00:00<00:00, 511.38it/s]\n",
      "100%|██████████████████████████████████████████████████████████████████████████████████████████████████████████████████| 2/2 [00:00<00:00, 388.61it/s]\n",
      "100%|██████████████████████████████████████████████████████████████████████████████████████████████████████████████████| 2/2 [00:00<00:00, 466.71it/s]\n",
      "100%|██████████████████████████████████████████████████████████████████████████████████████████████████████████████████| 1/1 [00:00<00:00, 266.15it/s]\n"
     ]
    },
    {
     "name": "stdout",
     "output_type": "stream",
     "text": [
      "Epoch 6/500 Train Total Loss: 0.10744 Train Src Loss: 0.01359 Train Tgt Loss: 0.09385 \n",
      "                 Val Total Loss: 0.39579 Val Src Loss: 0.25564 Val Tgt Loss: 0.14015\n"
     ]
    },
    {
     "name": "stderr",
     "output_type": "stream",
     "text": [
      "100%|██████████████████████████████████████████████████████████████████████████████████████████████████████████████████| 7/7 [00:00<00:00, 508.29it/s]\n",
      "100%|██████████████████████████████████████████████████████████████████████████████████████████████████████████████████| 2/2 [00:00<00:00, 370.65it/s]\n",
      "100%|██████████████████████████████████████████████████████████████████████████████████████████████████████████████████| 2/2 [00:00<00:00, 534.61it/s]\n",
      "100%|██████████████████████████████████████████████████████████████████████████████████████████████████████████████████| 1/1 [00:00<00:00, 268.13it/s]\n"
     ]
    },
    {
     "name": "stdout",
     "output_type": "stream",
     "text": [
      "Epoch 7/500 Train Total Loss: 0.10614 Train Src Loss: 0.01417 Train Tgt Loss: 0.09197 \n",
      "                 Val Total Loss: 0.39793 Val Src Loss: 0.25127 Val Tgt Loss: 0.14665\n"
     ]
    },
    {
     "name": "stderr",
     "output_type": "stream",
     "text": [
      "100%|██████████████████████████████████████████████████████████████████████████████████████████████████████████████████| 7/7 [00:00<00:00, 490.14it/s]\n",
      "100%|██████████████████████████████████████████████████████████████████████████████████████████████████████████████████| 2/2 [00:00<00:00, 361.50it/s]\n",
      "100%|██████████████████████████████████████████████████████████████████████████████████████████████████████████████████| 2/2 [00:00<00:00, 169.69it/s]\n",
      "100%|███████████████████████████████████████████████████████████████████████████████████████████████████████████████████| 1/1 [00:00<00:00, 60.71it/s]\n"
     ]
    },
    {
     "name": "stdout",
     "output_type": "stream",
     "text": [
      "Epoch 8/500 Train Total Loss: 0.10185 Train Src Loss: 0.01164 Train Tgt Loss: 0.0902 \n",
      "                 Val Total Loss: 0.40504 Val Src Loss: 0.26446 Val Tgt Loss: 0.14058\n"
     ]
    },
    {
     "name": "stderr",
     "output_type": "stream",
     "text": [
      "100%|██████████████████████████████████████████████████████████████████████████████████████████████████████████████████| 7/7 [00:00<00:00, 163.59it/s]\n",
      "100%|██████████████████████████████████████████████████████████████████████████████████████████████████████████████████| 2/2 [00:00<00:00, 138.94it/s]\n",
      "100%|██████████████████████████████████████████████████████████████████████████████████████████████████████████████████| 2/2 [00:00<00:00, 130.74it/s]\n",
      "100%|██████████████████████████████████████████████████████████████████████████████████████████████████████████████████| 1/1 [00:00<00:00, 106.01it/s]\n"
     ]
    },
    {
     "name": "stdout",
     "output_type": "stream",
     "text": [
      "Epoch 9/500 Train Total Loss: 0.10441 Train Src Loss: 0.01222 Train Tgt Loss: 0.09219 \n",
      "                 Val Total Loss: 0.37148 Val Src Loss: 0.2657 Val Tgt Loss: 0.10578\n"
     ]
    },
    {
     "name": "stderr",
     "output_type": "stream",
     "text": [
      "100%|██████████████████████████████████████████████████████████████████████████████████████████████████████████████████| 7/7 [00:00<00:00, 170.13it/s]\n",
      "100%|██████████████████████████████████████████████████████████████████████████████████████████████████████████████████| 2/2 [00:00<00:00, 165.47it/s]\n",
      "100%|██████████████████████████████████████████████████████████████████████████████████████████████████████████████████| 2/2 [00:00<00:00, 202.52it/s]\n",
      "100%|██████████████████████████████████████████████████████████████████████████████████████████████████████████████████| 1/1 [00:00<00:00, 186.76it/s]\n"
     ]
    },
    {
     "name": "stdout",
     "output_type": "stream",
     "text": [
      "Epoch 10/500 Train Total Loss: 0.11011 Train Src Loss: 0.01355 Train Tgt Loss: 0.09656 \n",
      "                 Val Total Loss: 0.4053 Val Src Loss: 0.26906 Val Tgt Loss: 0.13624\n"
     ]
    },
    {
     "name": "stderr",
     "output_type": "stream",
     "text": [
      "100%|██████████████████████████████████████████████████████████████████████████████████████████████████████████████████| 7/7 [00:00<00:00, 197.84it/s]\n",
      "100%|██████████████████████████████████████████████████████████████████████████████████████████████████████████████████| 2/2 [00:00<00:00, 253.51it/s]\n",
      "100%|██████████████████████████████████████████████████████████████████████████████████████████████████████████████████| 2/2 [00:00<00:00, 453.51it/s]\n",
      "100%|██████████████████████████████████████████████████████████████████████████████████████████████████████████████████| 1/1 [00:00<00:00, 260.39it/s]\n"
     ]
    },
    {
     "name": "stdout",
     "output_type": "stream",
     "text": [
      "Epoch 11/500 Train Total Loss: 0.09597 Train Src Loss: 0.01245 Train Tgt Loss: 0.08352 \n",
      "                 Val Total Loss: 0.39278 Val Src Loss: 0.25559 Val Tgt Loss: 0.13719\n"
     ]
    },
    {
     "name": "stderr",
     "output_type": "stream",
     "text": [
      "100%|██████████████████████████████████████████████████████████████████████████████████████████████████████████████████| 7/7 [00:00<00:00, 542.69it/s]\n",
      "100%|██████████████████████████████████████████████████████████████████████████████████████████████████████████████████| 2/2 [00:00<00:00, 385.20it/s]\n",
      "100%|██████████████████████████████████████████████████████████████████████████████████████████████████████████████████| 2/2 [00:00<00:00, 369.18it/s]\n",
      "100%|██████████████████████████████████████████████████████████████████████████████████████████████████████████████████| 1/1 [00:00<00:00, 374.63it/s]\n"
     ]
    },
    {
     "name": "stdout",
     "output_type": "stream",
     "text": [
      "Epoch 12/500 Train Total Loss: 0.11052 Train Src Loss: 0.01287 Train Tgt Loss: 0.09764 \n",
      "                 Val Total Loss: 0.37734 Val Src Loss: 0.25192 Val Tgt Loss: 0.12542\n"
     ]
    },
    {
     "name": "stderr",
     "output_type": "stream",
     "text": [
      "100%|██████████████████████████████████████████████████████████████████████████████████████████████████████████████████| 7/7 [00:00<00:00, 539.68it/s]\n",
      "100%|██████████████████████████████████████████████████████████████████████████████████████████████████████████████████| 2/2 [00:00<00:00, 389.12it/s]\n",
      "100%|██████████████████████████████████████████████████████████████████████████████████████████████████████████████████| 2/2 [00:00<00:00, 373.26it/s]\n",
      "100%|██████████████████████████████████████████████████████████████████████████████████████████████████████████████████| 1/1 [00:00<00:00, 377.66it/s]\n"
     ]
    },
    {
     "name": "stdout",
     "output_type": "stream",
     "text": [
      "Epoch 13/500 Train Total Loss: 0.10977 Train Src Loss: 0.01409 Train Tgt Loss: 0.09568 \n",
      "                 Val Total Loss: 0.38943 Val Src Loss: 0.26648 Val Tgt Loss: 0.12294\n"
     ]
    },
    {
     "name": "stderr",
     "output_type": "stream",
     "text": [
      "100%|██████████████████████████████████████████████████████████████████████████████████████████████████████████████████| 7/7 [00:00<00:00, 279.99it/s]\n",
      "100%|███████████████████████████████████████████████████████████████████████████████████████████████████████████████████| 2/2 [00:00<00:00, 59.43it/s]\n",
      "100%|██████████████████████████████████████████████████████████████████████████████████████████████████████████████████| 2/2 [00:00<00:00, 238.51it/s]\n",
      "100%|███████████████████████████████████████████████████████████████████████████████████████████████████████████████████| 1/1 [00:00<00:00, 80.68it/s]\n"
     ]
    },
    {
     "name": "stdout",
     "output_type": "stream",
     "text": [
      "Epoch 14/500 Train Total Loss: 0.0975 Train Src Loss: 0.01243 Train Tgt Loss: 0.08507 \n",
      "                 Val Total Loss: 0.3849 Val Src Loss: 0.25847 Val Tgt Loss: 0.12643\n"
     ]
    },
    {
     "name": "stderr",
     "output_type": "stream",
     "text": [
      "100%|██████████████████████████████████████████████████████████████████████████████████████████████████████████████████| 7/7 [00:00<00:00, 178.92it/s]\n",
      "100%|███████████████████████████████████████████████████████████████████████████████████████████████████████████████████| 2/2 [00:00<00:00, 98.24it/s]\n",
      "100%|██████████████████████████████████████████████████████████████████████████████████████████████████████████████████| 2/2 [00:00<00:00, 196.68it/s]\n",
      "100%|██████████████████████████████████████████████████████████████████████████████████████████████████████████████████| 1/1 [00:00<00:00, 213.61it/s]\n"
     ]
    },
    {
     "name": "stdout",
     "output_type": "stream",
     "text": [
      "Epoch 15/500 Train Total Loss: 0.10711 Train Src Loss: 0.01448 Train Tgt Loss: 0.09264 \n",
      "                 Val Total Loss: 0.38434 Val Src Loss: 0.26524 Val Tgt Loss: 0.1191\n"
     ]
    },
    {
     "name": "stderr",
     "output_type": "stream",
     "text": [
      "100%|██████████████████████████████████████████████████████████████████████████████████████████████████████████████████| 7/7 [00:00<00:00, 195.04it/s]\n",
      "100%|██████████████████████████████████████████████████████████████████████████████████████████████████████████████████| 2/2 [00:00<00:00, 164.59it/s]\n",
      "100%|██████████████████████████████████████████████████████████████████████████████████████████████████████████████████| 2/2 [00:00<00:00, 225.49it/s]\n",
      "100%|██████████████████████████████████████████████████████████████████████████████████████████████████████████████████| 1/1 [00:00<00:00, 217.41it/s]\n"
     ]
    },
    {
     "name": "stdout",
     "output_type": "stream",
     "text": [
      "Epoch 16/500 Train Total Loss: 0.1006 Train Src Loss: 0.01259 Train Tgt Loss: 0.08802 \n",
      "                 Val Total Loss: 0.36958 Val Src Loss: 0.25946 Val Tgt Loss: 0.11012\n"
     ]
    },
    {
     "name": "stderr",
     "output_type": "stream",
     "text": [
      "100%|██████████████████████████████████████████████████████████████████████████████████████████████████████████████████| 7/7 [00:00<00:00, 430.99it/s]\n",
      "100%|██████████████████████████████████████████████████████████████████████████████████████████████████████████████████| 2/2 [00:00<00:00, 391.64it/s]\n",
      "100%|██████████████████████████████████████████████████████████████████████████████████████████████████████████████████| 2/2 [00:00<00:00, 477.60it/s]\n",
      "100%|██████████████████████████████████████████████████████████████████████████████████████████████████████████████████| 1/1 [00:00<00:00, 266.20it/s]\n"
     ]
    },
    {
     "name": "stdout",
     "output_type": "stream",
     "text": [
      "Epoch 17/500 Train Total Loss: 0.10012 Train Src Loss: 0.01289 Train Tgt Loss: 0.08724 \n",
      "                 Val Total Loss: 0.38186 Val Src Loss: 0.25392 Val Tgt Loss: 0.12794\n"
     ]
    },
    {
     "name": "stderr",
     "output_type": "stream",
     "text": [
      "100%|██████████████████████████████████████████████████████████████████████████████████████████████████████████████████| 7/7 [00:00<00:00, 528.56it/s]\n",
      "100%|██████████████████████████████████████████████████████████████████████████████████████████████████████████████████| 2/2 [00:00<00:00, 391.41it/s]\n",
      "100%|██████████████████████████████████████████████████████████████████████████████████████████████████████████████████| 2/2 [00:00<00:00, 538.21it/s]\n",
      "100%|██████████████████████████████████████████████████████████████████████████████████████████████████████████████████| 1/1 [00:00<00:00, 270.18it/s]\n"
     ]
    },
    {
     "name": "stdout",
     "output_type": "stream",
     "text": [
      "Epoch 18/500 Train Total Loss: 0.09656 Train Src Loss: 0.0151 Train Tgt Loss: 0.08146 \n",
      "                 Val Total Loss: 0.37397 Val Src Loss: 0.26045 Val Tgt Loss: 0.11352\n"
     ]
    },
    {
     "name": "stderr",
     "output_type": "stream",
     "text": [
      "100%|██████████████████████████████████████████████████████████████████████████████████████████████████████████████████| 7/7 [00:00<00:00, 515.80it/s]\n",
      "100%|██████████████████████████████████████████████████████████████████████████████████████████████████████████████████| 2/2 [00:00<00:00, 395.45it/s]\n",
      "100%|██████████████████████████████████████████████████████████████████████████████████████████████████████████████████| 2/2 [00:00<00:00, 537.21it/s]\n",
      "100%|██████████████████████████████████████████████████████████████████████████████████████████████████████████████████| 1/1 [00:00<00:00, 272.38it/s]\n"
     ]
    },
    {
     "name": "stdout",
     "output_type": "stream",
     "text": [
      "Epoch 19/500 Train Total Loss: 0.10165 Train Src Loss: 0.01378 Train Tgt Loss: 0.08788 \n",
      "                 Val Total Loss: 0.38431 Val Src Loss: 0.27322 Val Tgt Loss: 0.11109\n"
     ]
    },
    {
     "name": "stderr",
     "output_type": "stream",
     "text": [
      "100%|██████████████████████████████████████████████████████████████████████████████████████████████████████████████████| 7/7 [00:00<00:00, 146.71it/s]\n",
      "100%|███████████████████████████████████████████████████████████████████████████████████████████████████████████████████| 2/2 [00:00<00:00, 66.51it/s]\n",
      "100%|██████████████████████████████████████████████████████████████████████████████████████████████████████████████████| 2/2 [00:00<00:00, 248.81it/s]\n",
      "100%|███████████████████████████████████████████████████████████████████████████████████████████████████████████████████| 1/1 [00:00<00:00, 93.94it/s]\n"
     ]
    },
    {
     "name": "stdout",
     "output_type": "stream",
     "text": [
      "Epoch 20/500 Train Total Loss: 0.10131 Train Src Loss: 0.01429 Train Tgt Loss: 0.08702 \n",
      "                 Val Total Loss: 0.37464 Val Src Loss: 0.25752 Val Tgt Loss: 0.11712\n"
     ]
    },
    {
     "name": "stderr",
     "output_type": "stream",
     "text": [
      "100%|██████████████████████████████████████████████████████████████████████████████████████████████████████████████████| 7/7 [00:00<00:00, 165.94it/s]\n",
      "100%|██████████████████████████████████████████████████████████████████████████████████████████████████████████████████| 2/2 [00:00<00:00, 113.37it/s]\n",
      "100%|██████████████████████████████████████████████████████████████████████████████████████████████████████████████████| 2/2 [00:00<00:00, 197.43it/s]\n",
      "100%|██████████████████████████████████████████████████████████████████████████████████████████████████████████████████| 1/1 [00:00<00:00, 219.64it/s]\n"
     ]
    },
    {
     "name": "stdout",
     "output_type": "stream",
     "text": [
      "Epoch 21/500 Train Total Loss: 0.09199 Train Src Loss: 0.01399 Train Tgt Loss: 0.078 \n",
      "                 Val Total Loss: 0.37307 Val Src Loss: 0.25327 Val Tgt Loss: 0.1198\n"
     ]
    },
    {
     "name": "stderr",
     "output_type": "stream",
     "text": [
      "100%|██████████████████████████████████████████████████████████████████████████████████████████████████████████████████| 7/7 [00:00<00:00, 206.54it/s]\n",
      "100%|██████████████████████████████████████████████████████████████████████████████████████████████████████████████████| 2/2 [00:00<00:00, 243.48it/s]\n",
      "100%|██████████████████████████████████████████████████████████████████████████████████████████████████████████████████| 2/2 [00:00<00:00, 188.53it/s]\n",
      "100%|██████████████████████████████████████████████████████████████████████████████████████████████████████████████████| 1/1 [00:00<00:00, 204.95it/s]\n"
     ]
    },
    {
     "name": "stdout",
     "output_type": "stream",
     "text": [
      "Epoch 22/500 Train Total Loss: 0.09803 Train Src Loss: 0.01417 Train Tgt Loss: 0.08386 \n",
      "                 Val Total Loss: 0.37506 Val Src Loss: 0.25981 Val Tgt Loss: 0.11526\n"
     ]
    },
    {
     "name": "stderr",
     "output_type": "stream",
     "text": [
      "100%|██████████████████████████████████████████████████████████████████████████████████████████████████████████████████| 7/7 [00:00<00:00, 359.54it/s]\n",
      "100%|██████████████████████████████████████████████████████████████████████████████████████████████████████████████████| 2/2 [00:00<00:00, 423.00it/s]\n",
      "100%|██████████████████████████████████████████████████████████████████████████████████████████████████████████████████| 2/2 [00:00<00:00, 500.63it/s]\n",
      "100%|██████████████████████████████████████████████████████████████████████████████████████████████████████████████████| 1/1 [00:00<00:00, 391.84it/s]\n"
     ]
    },
    {
     "name": "stdout",
     "output_type": "stream",
     "text": [
      "Epoch 23/500 Train Total Loss: 0.09456 Train Src Loss: 0.01353 Train Tgt Loss: 0.08103 \n",
      "                 Val Total Loss: 0.36516 Val Src Loss: 0.26146 Val Tgt Loss: 0.1037\n"
     ]
    },
    {
     "name": "stderr",
     "output_type": "stream",
     "text": [
      "100%|██████████████████████████████████████████████████████████████████████████████████████████████████████████████████| 7/7 [00:00<00:00, 520.94it/s]\n",
      "100%|██████████████████████████████████████████████████████████████████████████████████████████████████████████████████| 2/2 [00:00<00:00, 392.17it/s]\n",
      "100%|██████████████████████████████████████████████████████████████████████████████████████████████████████████████████| 2/2 [00:00<00:00, 540.85it/s]\n",
      "100%|██████████████████████████████████████████████████████████████████████████████████████████████████████████████████| 1/1 [00:00<00:00, 346.52it/s]\n"
     ]
    },
    {
     "name": "stdout",
     "output_type": "stream",
     "text": [
      "Epoch 24/500 Train Total Loss: 0.09941 Train Src Loss: 0.01357 Train Tgt Loss: 0.08585 \n",
      "                 Val Total Loss: 0.3709 Val Src Loss: 0.26 Val Tgt Loss: 0.1109\n"
     ]
    },
    {
     "name": "stderr",
     "output_type": "stream",
     "text": [
      "100%|██████████████████████████████████████████████████████████████████████████████████████████████████████████████████| 7/7 [00:00<00:00, 523.27it/s]\n",
      "100%|██████████████████████████████████████████████████████████████████████████████████████████████████████████████████| 2/2 [00:00<00:00, 337.57it/s]\n",
      "100%|██████████████████████████████████████████████████████████████████████████████████████████████████████████████████| 2/2 [00:00<00:00, 546.17it/s]\n",
      "100%|██████████████████████████████████████████████████████████████████████████████████████████████████████████████████| 1/1 [00:00<00:00, 291.37it/s]\n"
     ]
    },
    {
     "name": "stdout",
     "output_type": "stream",
     "text": [
      "Epoch 25/500 Train Total Loss: 0.09056 Train Src Loss: 0.01171 Train Tgt Loss: 0.07885 \n",
      "                 Val Total Loss: 0.38426 Val Src Loss: 0.26833 Val Tgt Loss: 0.11593\n"
     ]
    },
    {
     "name": "stderr",
     "output_type": "stream",
     "text": [
      "100%|██████████████████████████████████████████████████████████████████████████████████████████████████████████████████| 7/7 [00:00<00:00, 241.29it/s]\n",
      "100%|███████████████████████████████████████████████████████████████████████████████████████████████████████████████████| 2/2 [00:00<00:00, 85.08it/s]\n",
      "100%|██████████████████████████████████████████████████████████████████████████████████████████████████████████████████| 2/2 [00:00<00:00, 348.08it/s]\n",
      "100%|██████████████████████████████████████████████████████████████████████████████████████████████████████████████████| 1/1 [00:00<00:00, 182.47it/s]\n"
     ]
    },
    {
     "name": "stdout",
     "output_type": "stream",
     "text": [
      "Epoch 26/500 Train Total Loss: 0.09181 Train Src Loss: 0.01315 Train Tgt Loss: 0.07866 \n",
      "                 Val Total Loss: 0.36837 Val Src Loss: 0.26187 Val Tgt Loss: 0.1065\n"
     ]
    },
    {
     "name": "stderr",
     "output_type": "stream",
     "text": [
      "100%|██████████████████████████████████████████████████████████████████████████████████████████████████████████████████| 7/7 [00:00<00:00, 176.61it/s]\n",
      "100%|██████████████████████████████████████████████████████████████████████████████████████████████████████████████████| 2/2 [00:00<00:00, 127.44it/s]\n",
      "100%|██████████████████████████████████████████████████████████████████████████████████████████████████████████████████| 2/2 [00:00<00:00, 138.27it/s]\n",
      "100%|███████████████████████████████████████████████████████████████████████████████████████████████████████████████████| 1/1 [00:00<00:00, 97.37it/s]\n"
     ]
    },
    {
     "name": "stdout",
     "output_type": "stream",
     "text": [
      "Epoch 27/500 Train Total Loss: 0.08872 Train Src Loss: 0.01263 Train Tgt Loss: 0.07608 \n",
      "                 Val Total Loss: 0.35931 Val Src Loss: 0.25206 Val Tgt Loss: 0.10725\n"
     ]
    },
    {
     "name": "stderr",
     "output_type": "stream",
     "text": [
      "100%|██████████████████████████████████████████████████████████████████████████████████████████████████████████████████| 7/7 [00:00<00:00, 215.03it/s]\n",
      "100%|██████████████████████████████████████████████████████████████████████████████████████████████████████████████████| 2/2 [00:00<00:00, 206.66it/s]\n",
      "100%|██████████████████████████████████████████████████████████████████████████████████████████████████████████████████| 2/2 [00:00<00:00, 190.30it/s]\n",
      "100%|██████████████████████████████████████████████████████████████████████████████████████████████████████████████████| 1/1 [00:00<00:00, 246.42it/s]\n"
     ]
    },
    {
     "name": "stdout",
     "output_type": "stream",
     "text": [
      "Epoch 28/500 Train Total Loss: 0.09663 Train Src Loss: 0.01336 Train Tgt Loss: 0.08327 \n",
      "                 Val Total Loss: 0.39136 Val Src Loss: 0.27414 Val Tgt Loss: 0.11722\n"
     ]
    },
    {
     "name": "stderr",
     "output_type": "stream",
     "text": [
      "100%|██████████████████████████████████████████████████████████████████████████████████████████████████████████████████| 7/7 [00:00<00:00, 280.31it/s]\n",
      "100%|██████████████████████████████████████████████████████████████████████████████████████████████████████████████████| 2/2 [00:00<00:00, 422.66it/s]\n",
      "100%|██████████████████████████████████████████████████████████████████████████████████████████████████████████████████| 2/2 [00:00<00:00, 501.68it/s]\n",
      "100%|██████████████████████████████████████████████████████████████████████████████████████████████████████████████████| 1/1 [00:00<00:00, 315.96it/s]\n"
     ]
    },
    {
     "name": "stdout",
     "output_type": "stream",
     "text": [
      "Epoch 29/500 Train Total Loss: 0.09416 Train Src Loss: 0.01196 Train Tgt Loss: 0.0822 \n",
      "                 Val Total Loss: 0.39094 Val Src Loss: 0.27114 Val Tgt Loss: 0.1198\n"
     ]
    },
    {
     "name": "stderr",
     "output_type": "stream",
     "text": [
      "100%|██████████████████████████████████████████████████████████████████████████████████████████████████████████████████| 7/7 [00:00<00:00, 556.73it/s]\n",
      "100%|██████████████████████████████████████████████████████████████████████████████████████████████████████████████████| 2/2 [00:00<00:00, 430.78it/s]\n",
      "100%|██████████████████████████████████████████████████████████████████████████████████████████████████████████████████| 2/2 [00:00<00:00, 586.25it/s]\n",
      "100%|██████████████████████████████████████████████████████████████████████████████████████████████████████████████████| 1/1 [00:00<00:00, 330.96it/s]\n"
     ]
    },
    {
     "name": "stdout",
     "output_type": "stream",
     "text": [
      "Epoch 30/500 Train Total Loss: 0.08551 Train Src Loss: 0.01258 Train Tgt Loss: 0.07293 \n",
      "                 Val Total Loss: 0.35299 Val Src Loss: 0.25289 Val Tgt Loss: 0.1001\n"
     ]
    },
    {
     "name": "stderr",
     "output_type": "stream",
     "text": [
      "100%|██████████████████████████████████████████████████████████████████████████████████████████████████████████████████| 7/7 [00:00<00:00, 553.98it/s]\n",
      "100%|██████████████████████████████████████████████████████████████████████████████████████████████████████████████████| 2/2 [00:00<00:00, 412.70it/s]\n",
      "100%|██████████████████████████████████████████████████████████████████████████████████████████████████████████████████| 2/2 [00:00<00:00, 522.43it/s]\n",
      "100%|██████████████████████████████████████████████████████████████████████████████████████████████████████████████████| 1/1 [00:00<00:00, 321.21it/s]\n"
     ]
    },
    {
     "name": "stdout",
     "output_type": "stream",
     "text": [
      "Epoch 31/500 Train Total Loss: 0.08694 Train Src Loss: 0.01403 Train Tgt Loss: 0.07291 \n",
      "                 Val Total Loss: 0.36901 Val Src Loss: 0.25466 Val Tgt Loss: 0.11435\n"
     ]
    },
    {
     "name": "stderr",
     "output_type": "stream",
     "text": [
      "100%|██████████████████████████████████████████████████████████████████████████████████████████████████████████████████| 7/7 [00:00<00:00, 530.57it/s]\n",
      "100%|██████████████████████████████████████████████████████████████████████████████████████████████████████████████████| 2/2 [00:00<00:00, 231.86it/s]\n",
      "100%|██████████████████████████████████████████████████████████████████████████████████████████████████████████████████| 2/2 [00:00<00:00, 128.78it/s]\n",
      "100%|███████████████████████████████████████████████████████████████████████████████████████████████████████████████████| 1/1 [00:00<00:00, 95.98it/s]\n"
     ]
    },
    {
     "name": "stdout",
     "output_type": "stream",
     "text": [
      "Epoch 32/500 Train Total Loss: 0.08779 Train Src Loss: 0.01353 Train Tgt Loss: 0.07426 \n",
      "                 Val Total Loss: 0.36988 Val Src Loss: 0.27209 Val Tgt Loss: 0.0978\n"
     ]
    },
    {
     "name": "stderr",
     "output_type": "stream",
     "text": [
      "100%|██████████████████████████████████████████████████████████████████████████████████████████████████████████████████| 7/7 [00:00<00:00, 201.56it/s]\n",
      "100%|██████████████████████████████████████████████████████████████████████████████████████████████████████████████████| 2/2 [00:00<00:00, 394.52it/s]\n",
      "100%|██████████████████████████████████████████████████████████████████████████████████████████████████████████████████| 2/2 [00:00<00:00, 320.37it/s]\n",
      "100%|██████████████████████████████████████████████████████████████████████████████████████████████████████████████████| 1/1 [00:00<00:00, 308.88it/s]\n"
     ]
    },
    {
     "name": "stdout",
     "output_type": "stream",
     "text": [
      "Epoch 33/500 Train Total Loss: 0.09337 Train Src Loss: 0.01381 Train Tgt Loss: 0.07956 \n",
      "                 Val Total Loss: 0.36554 Val Src Loss: 0.25528 Val Tgt Loss: 0.11026\n"
     ]
    },
    {
     "name": "stderr",
     "output_type": "stream",
     "text": [
      "100%|██████████████████████████████████████████████████████████████████████████████████████████████████████████████████| 7/7 [00:00<00:00, 197.83it/s]\n",
      "100%|██████████████████████████████████████████████████████████████████████████████████████████████████████████████████| 2/2 [00:00<00:00, 102.93it/s]\n",
      "100%|██████████████████████████████████████████████████████████████████████████████████████████████████████████████████| 2/2 [00:00<00:00, 145.96it/s]\n",
      "100%|██████████████████████████████████████████████████████████████████████████████████████████████████████████████████| 1/1 [00:00<00:00, 228.20it/s]\n"
     ]
    },
    {
     "name": "stdout",
     "output_type": "stream",
     "text": [
      "Epoch 34/500 Train Total Loss: 0.09096 Train Src Loss: 0.01318 Train Tgt Loss: 0.07778 \n",
      "                 Val Total Loss: 0.36041 Val Src Loss: 0.26837 Val Tgt Loss: 0.09204\n"
     ]
    },
    {
     "name": "stderr",
     "output_type": "stream",
     "text": [
      "100%|██████████████████████████████████████████████████████████████████████████████████████████████████████████████████| 7/7 [00:00<00:00, 199.17it/s]\n",
      "100%|██████████████████████████████████████████████████████████████████████████████████████████████████████████████████| 2/2 [00:00<00:00, 225.60it/s]\n",
      "100%|██████████████████████████████████████████████████████████████████████████████████████████████████████████████████| 2/2 [00:00<00:00, 174.26it/s]\n",
      "100%|██████████████████████████████████████████████████████████████████████████████████████████████████████████████████| 1/1 [00:00<00:00, 187.61it/s]\n"
     ]
    },
    {
     "name": "stdout",
     "output_type": "stream",
     "text": [
      "Epoch 35/500 Train Total Loss: 0.08621 Train Src Loss: 0.01339 Train Tgt Loss: 0.07283 \n",
      "                 Val Total Loss: 0.35116 Val Src Loss: 0.26429 Val Tgt Loss: 0.08688\n"
     ]
    },
    {
     "name": "stderr",
     "output_type": "stream",
     "text": [
      "100%|██████████████████████████████████████████████████████████████████████████████████████████████████████████████████| 7/7 [00:00<00:00, 382.13it/s]\n",
      "100%|██████████████████████████████████████████████████████████████████████████████████████████████████████████████████| 2/2 [00:00<00:00, 394.09it/s]\n",
      "100%|██████████████████████████████████████████████████████████████████████████████████████████████████████████████████| 2/2 [00:00<00:00, 399.42it/s]\n",
      "100%|██████████████████████████████████████████████████████████████████████████████████████████████████████████████████| 1/1 [00:00<00:00, 291.25it/s]\n"
     ]
    },
    {
     "name": "stdout",
     "output_type": "stream",
     "text": [
      "Epoch 36/500 Train Total Loss: 0.08292 Train Src Loss: 0.01323 Train Tgt Loss: 0.06968 \n",
      "                 Val Total Loss: 0.37744 Val Src Loss: 0.26959 Val Tgt Loss: 0.10786\n"
     ]
    },
    {
     "name": "stderr",
     "output_type": "stream",
     "text": [
      "100%|██████████████████████████████████████████████████████████████████████████████████████████████████████████████████| 7/7 [00:00<00:00, 557.78it/s]\n",
      "100%|██████████████████████████████████████████████████████████████████████████████████████████████████████████████████| 2/2 [00:00<00:00, 414.31it/s]\n",
      "100%|██████████████████████████████████████████████████████████████████████████████████████████████████████████████████| 2/2 [00:00<00:00, 559.20it/s]\n",
      "100%|██████████████████████████████████████████████████████████████████████████████████████████████████████████████████| 1/1 [00:00<00:00, 300.99it/s]\n"
     ]
    },
    {
     "name": "stdout",
     "output_type": "stream",
     "text": [
      "Epoch 37/500 Train Total Loss: 0.0829 Train Src Loss: 0.01245 Train Tgt Loss: 0.07044 \n",
      "                 Val Total Loss: 0.3937 Val Src Loss: 0.2808 Val Tgt Loss: 0.1129\n"
     ]
    },
    {
     "name": "stderr",
     "output_type": "stream",
     "text": [
      "100%|██████████████████████████████████████████████████████████████████████████████████████████████████████████████████| 7/7 [00:00<00:00, 483.66it/s]\n",
      "100%|██████████████████████████████████████████████████████████████████████████████████████████████████████████████████| 2/2 [00:00<00:00, 252.70it/s]\n",
      "100%|██████████████████████████████████████████████████████████████████████████████████████████████████████████████████| 2/2 [00:00<00:00, 523.83it/s]\n",
      "100%|██████████████████████████████████████████████████████████████████████████████████████████████████████████████████| 1/1 [00:00<00:00, 151.91it/s]\n"
     ]
    },
    {
     "name": "stdout",
     "output_type": "stream",
     "text": [
      "Epoch 38/500 Train Total Loss: 0.08609 Train Src Loss: 0.01252 Train Tgt Loss: 0.07357 \n",
      "                 Val Total Loss: 0.3728 Val Src Loss: 0.27101 Val Tgt Loss: 0.10179\n"
     ]
    },
    {
     "name": "stderr",
     "output_type": "stream",
     "text": [
      "100%|██████████████████████████████████████████████████████████████████████████████████████████████████████████████████| 7/7 [00:00<00:00, 105.44it/s]\n",
      "100%|██████████████████████████████████████████████████████████████████████████████████████████████████████████████████| 2/2 [00:00<00:00, 149.48it/s]\n",
      "100%|██████████████████████████████████████████████████████████████████████████████████████████████████████████████████| 2/2 [00:00<00:00, 191.06it/s]\n",
      "100%|██████████████████████████████████████████████████████████████████████████████████████████████████████████████████| 1/1 [00:00<00:00, 103.83it/s]\n"
     ]
    },
    {
     "name": "stdout",
     "output_type": "stream",
     "text": [
      "Epoch 39/500 Train Total Loss: 0.0914 Train Src Loss: 0.01325 Train Tgt Loss: 0.07815 \n",
      "                 Val Total Loss: 0.38211 Val Src Loss: 0.27888 Val Tgt Loss: 0.10324\n"
     ]
    },
    {
     "name": "stderr",
     "output_type": "stream",
     "text": [
      "100%|██████████████████████████████████████████████████████████████████████████████████████████████████████████████████| 7/7 [00:00<00:00, 142.57it/s]\n",
      "100%|██████████████████████████████████████████████████████████████████████████████████████████████████████████████████| 2/2 [00:00<00:00, 227.30it/s]\n",
      "100%|██████████████████████████████████████████████████████████████████████████████████████████████████████████████████| 2/2 [00:00<00:00, 207.84it/s]\n",
      "100%|██████████████████████████████████████████████████████████████████████████████████████████████████████████████████| 1/1 [00:00<00:00, 180.46it/s]\n"
     ]
    },
    {
     "name": "stdout",
     "output_type": "stream",
     "text": [
      "Epoch 40/500 Train Total Loss: 0.08798 Train Src Loss: 0.01334 Train Tgt Loss: 0.07465 \n",
      "                 Val Total Loss: 0.37322 Val Src Loss: 0.2687 Val Tgt Loss: 0.10453\n"
     ]
    },
    {
     "name": "stderr",
     "output_type": "stream",
     "text": [
      "100%|██████████████████████████████████████████████████████████████████████████████████████████████████████████████████| 7/7 [00:00<00:00, 267.39it/s]\n",
      "100%|██████████████████████████████████████████████████████████████████████████████████████████████████████████████████| 2/2 [00:00<00:00, 125.87it/s]\n",
      "100%|██████████████████████████████████████████████████████████████████████████████████████████████████████████████████| 2/2 [00:00<00:00, 206.85it/s]\n",
      "100%|██████████████████████████████████████████████████████████████████████████████████████████████████████████████████| 1/1 [00:00<00:00, 261.91it/s]\n"
     ]
    },
    {
     "name": "stdout",
     "output_type": "stream",
     "text": [
      "Epoch 41/500 Train Total Loss: 0.08088 Train Src Loss: 0.01309 Train Tgt Loss: 0.06779 \n",
      "                 Val Total Loss: 0.37242 Val Src Loss: 0.27771 Val Tgt Loss: 0.0947\n"
     ]
    },
    {
     "name": "stderr",
     "output_type": "stream",
     "text": [
      "100%|██████████████████████████████████████████████████████████████████████████████████████████████████████████████████| 7/7 [00:00<00:00, 565.28it/s]\n",
      "100%|██████████████████████████████████████████████████████████████████████████████████████████████████████████████████| 2/2 [00:00<00:00, 415.69it/s]\n",
      "100%|██████████████████████████████████████████████████████████████████████████████████████████████████████████████████| 2/2 [00:00<00:00, 405.15it/s]\n",
      "100%|██████████████████████████████████████████████████████████████████████████████████████████████████████████████████| 1/1 [00:00<00:00, 298.12it/s]\n"
     ]
    },
    {
     "name": "stdout",
     "output_type": "stream",
     "text": [
      "Epoch 42/500 Train Total Loss: 0.08849 Train Src Loss: 0.01207 Train Tgt Loss: 0.07642 \n",
      "                 Val Total Loss: 0.36792 Val Src Loss: 0.27277 Val Tgt Loss: 0.09515\n"
     ]
    },
    {
     "name": "stderr",
     "output_type": "stream",
     "text": [
      "100%|██████████████████████████████████████████████████████████████████████████████████████████████████████████████████| 7/7 [00:00<00:00, 565.13it/s]\n",
      "100%|██████████████████████████████████████████████████████████████████████████████████████████████████████████████████| 2/2 [00:00<00:00, 433.99it/s]\n",
      "100%|██████████████████████████████████████████████████████████████████████████████████████████████████████████████████| 2/2 [00:00<00:00, 567.76it/s]\n",
      "100%|██████████████████████████████████████████████████████████████████████████████████████████████████████████████████| 1/1 [00:00<00:00, 321.03it/s]\n"
     ]
    },
    {
     "name": "stdout",
     "output_type": "stream",
     "text": [
      "Epoch 43/500 Train Total Loss: 0.07748 Train Src Loss: 0.01285 Train Tgt Loss: 0.06463 \n",
      "                 Val Total Loss: 0.36301 Val Src Loss: 0.26683 Val Tgt Loss: 0.09618\n"
     ]
    },
    {
     "name": "stderr",
     "output_type": "stream",
     "text": [
      "100%|██████████████████████████████████████████████████████████████████████████████████████████████████████████████████| 7/7 [00:00<00:00, 505.39it/s]\n",
      "100%|██████████████████████████████████████████████████████████████████████████████████████████████████████████████████| 2/2 [00:00<00:00, 421.50it/s]\n",
      "100%|██████████████████████████████████████████████████████████████████████████████████████████████████████████████████| 2/2 [00:00<00:00, 245.91it/s]\n",
      "100%|██████████████████████████████████████████████████████████████████████████████████████████████████████████████████| 1/1 [00:00<00:00, 108.88it/s]\n"
     ]
    },
    {
     "name": "stdout",
     "output_type": "stream",
     "text": [
      "Epoch 44/500 Train Total Loss: 0.08535 Train Src Loss: 0.0128 Train Tgt Loss: 0.07256 \n",
      "                 Val Total Loss: 0.34766 Val Src Loss: 0.26804 Val Tgt Loss: 0.07961\n"
     ]
    },
    {
     "name": "stderr",
     "output_type": "stream",
     "text": [
      "100%|██████████████████████████████████████████████████████████████████████████████████████████████████████████████████| 7/7 [00:00<00:00, 120.72it/s]\n",
      "100%|██████████████████████████████████████████████████████████████████████████████████████████████████████████████████| 2/2 [00:00<00:00, 246.98it/s]\n",
      "100%|██████████████████████████████████████████████████████████████████████████████████████████████████████████████████| 2/2 [00:00<00:00, 294.07it/s]\n",
      "100%|██████████████████████████████████████████████████████████████████████████████████████████████████████████████████| 1/1 [00:00<00:00, 150.34it/s]\n"
     ]
    },
    {
     "name": "stdout",
     "output_type": "stream",
     "text": [
      "Epoch 45/500 Train Total Loss: 0.07998 Train Src Loss: 0.01427 Train Tgt Loss: 0.06571 \n",
      "                 Val Total Loss: 0.35862 Val Src Loss: 0.25841 Val Tgt Loss: 0.10021\n"
     ]
    },
    {
     "name": "stderr",
     "output_type": "stream",
     "text": [
      "100%|██████████████████████████████████████████████████████████████████████████████████████████████████████████████████| 7/7 [00:00<00:00, 151.45it/s]\n",
      "100%|██████████████████████████████████████████████████████████████████████████████████████████████████████████████████| 2/2 [00:00<00:00, 121.72it/s]\n",
      "100%|██████████████████████████████████████████████████████████████████████████████████████████████████████████████████| 2/2 [00:00<00:00, 297.54it/s]\n",
      "100%|██████████████████████████████████████████████████████████████████████████████████████████████████████████████████| 1/1 [00:00<00:00, 129.77it/s]\n"
     ]
    },
    {
     "name": "stdout",
     "output_type": "stream",
     "text": [
      "Epoch 46/500 Train Total Loss: 0.08389 Train Src Loss: 0.01296 Train Tgt Loss: 0.07093 \n",
      "                 Val Total Loss: 0.36323 Val Src Loss: 0.26631 Val Tgt Loss: 0.09693\n"
     ]
    },
    {
     "name": "stderr",
     "output_type": "stream",
     "text": [
      "100%|██████████████████████████████████████████████████████████████████████████████████████████████████████████████████| 7/7 [00:00<00:00, 238.85it/s]\n",
      "100%|██████████████████████████████████████████████████████████████████████████████████████████████████████████████████| 2/2 [00:00<00:00, 145.06it/s]\n",
      "100%|██████████████████████████████████████████████████████████████████████████████████████████████████████████████████| 2/2 [00:00<00:00, 242.51it/s]\n",
      "100%|██████████████████████████████████████████████████████████████████████████████████████████████████████████████████| 1/1 [00:00<00:00, 219.63it/s]\n"
     ]
    },
    {
     "name": "stdout",
     "output_type": "stream",
     "text": [
      "Epoch 47/500 Train Total Loss: 0.07753 Train Src Loss: 0.01358 Train Tgt Loss: 0.06395 \n",
      "                 Val Total Loss: 0.36031 Val Src Loss: 0.2634 Val Tgt Loss: 0.09691\n"
     ]
    },
    {
     "name": "stderr",
     "output_type": "stream",
     "text": [
      "100%|██████████████████████████████████████████████████████████████████████████████████████████████████████████████████| 7/7 [00:00<00:00, 560.95it/s]\n",
      "100%|██████████████████████████████████████████████████████████████████████████████████████████████████████████████████| 2/2 [00:00<00:00, 440.74it/s]\n",
      "100%|██████████████████████████████████████████████████████████████████████████████████████████████████████████████████| 2/2 [00:00<00:00, 518.33it/s]\n",
      "100%|██████████████████████████████████████████████████████████████████████████████████████████████████████████████████| 1/1 [00:00<00:00, 271.23it/s]\n"
     ]
    },
    {
     "name": "stdout",
     "output_type": "stream",
     "text": [
      "Epoch 48/500 Train Total Loss: 0.08323 Train Src Loss: 0.01456 Train Tgt Loss: 0.06868 \n",
      "                 Val Total Loss: 0.35569 Val Src Loss: 0.26706 Val Tgt Loss: 0.08863\n"
     ]
    },
    {
     "name": "stderr",
     "output_type": "stream",
     "text": [
      "100%|██████████████████████████████████████████████████████████████████████████████████████████████████████████████████| 7/7 [00:00<00:00, 501.19it/s]\n",
      "100%|██████████████████████████████████████████████████████████████████████████████████████████████████████████████████| 2/2 [00:00<00:00, 393.68it/s]\n",
      "100%|██████████████████████████████████████████████████████████████████████████████████████████████████████████████████| 2/2 [00:00<00:00, 468.74it/s]\n",
      "100%|██████████████████████████████████████████████████████████████████████████████████████████████████████████████████| 1/1 [00:00<00:00, 273.90it/s]\n"
     ]
    },
    {
     "name": "stdout",
     "output_type": "stream",
     "text": [
      "Epoch 49/500 Train Total Loss: 0.08462 Train Src Loss: 0.01236 Train Tgt Loss: 0.07225 \n",
      "                 Val Total Loss: 0.37408 Val Src Loss: 0.27165 Val Tgt Loss: 0.10244\n"
     ]
    },
    {
     "name": "stderr",
     "output_type": "stream",
     "text": [
      "100%|██████████████████████████████████████████████████████████████████████████████████████████████████████████████████| 7/7 [00:00<00:00, 524.00it/s]\n",
      "100%|██████████████████████████████████████████████████████████████████████████████████████████████████████████████████| 2/2 [00:00<00:00, 397.96it/s]\n",
      "100%|██████████████████████████████████████████████████████████████████████████████████████████████████████████████████| 2/2 [00:00<00:00, 339.24it/s]\n",
      "100%|██████████████████████████████████████████████████████████████████████████████████████████████████████████████████| 1/1 [00:00<00:00, 189.61it/s]\n"
     ]
    },
    {
     "name": "stdout",
     "output_type": "stream",
     "text": [
      "Epoch 50/500 Train Total Loss: 0.08708 Train Src Loss: 0.01372 Train Tgt Loss: 0.07336 \n",
      "                 Val Total Loss: 0.35993 Val Src Loss: 0.26478 Val Tgt Loss: 0.09515\n"
     ]
    },
    {
     "name": "stderr",
     "output_type": "stream",
     "text": [
      "100%|██████████████████████████████████████████████████████████████████████████████████████████████████████████████████| 7/7 [00:00<00:00, 107.86it/s]\n",
      "100%|██████████████████████████████████████████████████████████████████████████████████████████████████████████████████| 2/2 [00:00<00:00, 195.80it/s]\n",
      "100%|██████████████████████████████████████████████████████████████████████████████████████████████████████████████████| 2/2 [00:00<00:00, 279.28it/s]\n",
      "100%|██████████████████████████████████████████████████████████████████████████████████████████████████████████████████| 1/1 [00:00<00:00, 142.25it/s]\n"
     ]
    },
    {
     "name": "stdout",
     "output_type": "stream",
     "text": [
      "Epoch 51/500 Train Total Loss: 0.08396 Train Src Loss: 0.01366 Train Tgt Loss: 0.0703 \n",
      "                 Val Total Loss: 0.38431 Val Src Loss: 0.28332 Val Tgt Loss: 0.10099\n"
     ]
    },
    {
     "name": "stderr",
     "output_type": "stream",
     "text": [
      "100%|██████████████████████████████████████████████████████████████████████████████████████████████████████████████████| 7/7 [00:00<00:00, 139.00it/s]\n",
      "100%|██████████████████████████████████████████████████████████████████████████████████████████████████████████████████| 2/2 [00:00<00:00, 155.51it/s]\n",
      "100%|██████████████████████████████████████████████████████████████████████████████████████████████████████████████████| 2/2 [00:00<00:00, 188.36it/s]\n",
      "100%|██████████████████████████████████████████████████████████████████████████████████████████████████████████████████| 1/1 [00:00<00:00, 128.81it/s]\n"
     ]
    },
    {
     "name": "stdout",
     "output_type": "stream",
     "text": [
      "Epoch 52/500 Train Total Loss: 0.08253 Train Src Loss: 0.01279 Train Tgt Loss: 0.06974 \n",
      "                 Val Total Loss: 0.36537 Val Src Loss: 0.26794 Val Tgt Loss: 0.09743\n"
     ]
    },
    {
     "name": "stderr",
     "output_type": "stream",
     "text": [
      "100%|██████████████████████████████████████████████████████████████████████████████████████████████████████████████████| 7/7 [00:00<00:00, 212.06it/s]\n",
      "100%|██████████████████████████████████████████████████████████████████████████████████████████████████████████████████| 2/2 [00:00<00:00, 174.85it/s]\n",
      "100%|██████████████████████████████████████████████████████████████████████████████████████████████████████████████████| 2/2 [00:00<00:00, 280.50it/s]\n",
      "100%|██████████████████████████████████████████████████████████████████████████████████████████████████████████████████| 1/1 [00:00<00:00, 285.48it/s]\n"
     ]
    },
    {
     "name": "stdout",
     "output_type": "stream",
     "text": [
      "Epoch 53/500 Train Total Loss: 0.08239 Train Src Loss: 0.01324 Train Tgt Loss: 0.06915 \n",
      "                 Val Total Loss: 0.38209 Val Src Loss: 0.27896 Val Tgt Loss: 0.10314\n"
     ]
    },
    {
     "name": "stderr",
     "output_type": "stream",
     "text": [
      "100%|██████████████████████████████████████████████████████████████████████████████████████████████████████████████████| 7/7 [00:00<00:00, 521.33it/s]\n",
      "100%|██████████████████████████████████████████████████████████████████████████████████████████████████████████████████| 2/2 [00:00<00:00, 389.66it/s]\n",
      "100%|██████████████████████████████████████████████████████████████████████████████████████████████████████████████████| 2/2 [00:00<00:00, 350.68it/s]\n",
      "100%|██████████████████████████████████████████████████████████████████████████████████████████████████████████████████| 1/1 [00:00<00:00, 395.88it/s]\n"
     ]
    },
    {
     "name": "stdout",
     "output_type": "stream",
     "text": [
      "Epoch 54/500 Train Total Loss: 0.07921 Train Src Loss: 0.01323 Train Tgt Loss: 0.06598 \n",
      "                 Val Total Loss: 0.37441 Val Src Loss: 0.26882 Val Tgt Loss: 0.10559\n"
     ]
    },
    {
     "name": "stderr",
     "output_type": "stream",
     "text": [
      "100%|██████████████████████████████████████████████████████████████████████████████████████████████████████████████████| 7/7 [00:00<00:00, 511.12it/s]\n",
      "100%|██████████████████████████████████████████████████████████████████████████████████████████████████████████████████| 2/2 [00:00<00:00, 383.74it/s]\n",
      "100%|██████████████████████████████████████████████████████████████████████████████████████████████████████████████████| 2/2 [00:00<00:00, 451.97it/s]\n",
      "100%|██████████████████████████████████████████████████████████████████████████████████████████████████████████████████| 1/1 [00:00<00:00, 281.44it/s]\n"
     ]
    },
    {
     "name": "stdout",
     "output_type": "stream",
     "text": [
      "Epoch 55/500 Train Total Loss: 0.08315 Train Src Loss: 0.01221 Train Tgt Loss: 0.07094 \n",
      "                 Val Total Loss: 0.35892 Val Src Loss: 0.26881 Val Tgt Loss: 0.09011\n",
      "Test: 33 34\n",
      "Adapt train: 32 33\n",
      "Adapt val: 34\n"
     ]
    },
    {
     "name": "stderr",
     "output_type": "stream",
     "text": [
      "100%|██████████████████████████████████████████████████████████████████████████████████████████████████████████████████| 7/7 [00:00<00:00, 132.36it/s]\n",
      "100%|███████████████████████████████████████████████████████████████████████████████████████████████████████████████████| 2/2 [00:00<00:00, 89.81it/s]\n",
      "100%|██████████████████████████████████████████████████████████████████████████████████████████████████████████████████| 2/2 [00:00<00:00, 209.40it/s]\n",
      "100%|██████████████████████████████████████████████████████████████████████████████████████████████████████████████████| 1/1 [00:00<00:00, 249.05it/s]\n"
     ]
    },
    {
     "name": "stdout",
     "output_type": "stream",
     "text": [
      "Epoch 1/500 Train Total Loss: 0.10986 Train Src Loss: 0.01357 Train Tgt Loss: 0.09629 \n",
      "                 Val Total Loss: 0.34632 Val Src Loss: 0.26668 Val Tgt Loss: 0.07964\n"
     ]
    },
    {
     "name": "stderr",
     "output_type": "stream",
     "text": [
      "100%|██████████████████████████████████████████████████████████████████████████████████████████████████████████████████| 7/7 [00:00<00:00, 154.89it/s]\n",
      "100%|██████████████████████████████████████████████████████████████████████████████████████████████████████████████████| 2/2 [00:00<00:00, 125.93it/s]\n",
      "100%|██████████████████████████████████████████████████████████████████████████████████████████████████████████████████| 2/2 [00:00<00:00, 310.99it/s]\n",
      "100%|██████████████████████████████████████████████████████████████████████████████████████████████████████████████████| 1/1 [00:00<00:00, 130.38it/s]\n"
     ]
    },
    {
     "name": "stdout",
     "output_type": "stream",
     "text": [
      "Epoch 2/500 Train Total Loss: 0.10749 Train Src Loss: 0.01319 Train Tgt Loss: 0.0943 \n",
      "                 Val Total Loss: 0.34615 Val Src Loss: 0.26665 Val Tgt Loss: 0.07949\n"
     ]
    },
    {
     "name": "stderr",
     "output_type": "stream",
     "text": [
      "100%|██████████████████████████████████████████████████████████████████████████████████████████████████████████████████| 7/7 [00:00<00:00, 240.28it/s]\n",
      "100%|██████████████████████████████████████████████████████████████████████████████████████████████████████████████████| 2/2 [00:00<00:00, 123.44it/s]\n",
      "100%|██████████████████████████████████████████████████████████████████████████████████████████████████████████████████| 2/2 [00:00<00:00, 301.78it/s]\n",
      "100%|██████████████████████████████████████████████████████████████████████████████████████████████████████████████████| 1/1 [00:00<00:00, 248.57it/s]\n"
     ]
    },
    {
     "name": "stdout",
     "output_type": "stream",
     "text": [
      "Epoch 3/500 Train Total Loss: 0.10345 Train Src Loss: 0.01102 Train Tgt Loss: 0.09243 \n",
      "                 Val Total Loss: 0.33769 Val Src Loss: 0.26291 Val Tgt Loss: 0.07477\n"
     ]
    },
    {
     "name": "stderr",
     "output_type": "stream",
     "text": [
      "100%|██████████████████████████████████████████████████████████████████████████████████████████████████████████████████| 7/7 [00:00<00:00, 560.28it/s]\n",
      "100%|██████████████████████████████████████████████████████████████████████████████████████████████████████████████████| 2/2 [00:00<00:00, 443.54it/s]\n",
      "100%|██████████████████████████████████████████████████████████████████████████████████████████████████████████████████| 2/2 [00:00<00:00, 579.88it/s]\n",
      "100%|██████████████████████████████████████████████████████████████████████████████████████████████████████████████████| 1/1 [00:00<00:00, 416.85it/s]\n"
     ]
    },
    {
     "name": "stdout",
     "output_type": "stream",
     "text": [
      "Epoch 4/500 Train Total Loss: 0.10597 Train Src Loss: 0.01398 Train Tgt Loss: 0.09199 \n",
      "                 Val Total Loss: 0.3509 Val Src Loss: 0.26925 Val Tgt Loss: 0.08165\n"
     ]
    },
    {
     "name": "stderr",
     "output_type": "stream",
     "text": [
      "100%|██████████████████████████████████████████████████████████████████████████████████████████████████████████████████| 7/7 [00:00<00:00, 555.48it/s]\n",
      "100%|██████████████████████████████████████████████████████████████████████████████████████████████████████████████████| 2/2 [00:00<00:00, 445.73it/s]\n",
      "100%|██████████████████████████████████████████████████████████████████████████████████████████████████████████████████| 2/2 [00:00<00:00, 566.64it/s]\n",
      "100%|██████████████████████████████████████████████████████████████████████████████████████████████████████████████████| 1/1 [00:00<00:00, 372.00it/s]\n"
     ]
    },
    {
     "name": "stdout",
     "output_type": "stream",
     "text": [
      "Epoch 5/500 Train Total Loss: 0.09872 Train Src Loss: 0.01429 Train Tgt Loss: 0.08443 \n",
      "                 Val Total Loss: 0.33299 Val Src Loss: 0.25878 Val Tgt Loss: 0.07422\n"
     ]
    },
    {
     "name": "stderr",
     "output_type": "stream",
     "text": [
      "100%|██████████████████████████████████████████████████████████████████████████████████████████████████████████████████| 7/7 [00:00<00:00, 551.25it/s]\n",
      "100%|██████████████████████████████████████████████████████████████████████████████████████████████████████████████████| 2/2 [00:00<00:00, 413.03it/s]\n",
      "100%|██████████████████████████████████████████████████████████████████████████████████████████████████████████████████| 2/2 [00:00<00:00, 547.38it/s]\n",
      "100%|██████████████████████████████████████████████████████████████████████████████████████████████████████████████████| 1/1 [00:00<00:00, 373.06it/s]\n"
     ]
    },
    {
     "name": "stdout",
     "output_type": "stream",
     "text": [
      "Epoch 6/500 Train Total Loss: 0.10509 Train Src Loss: 0.01515 Train Tgt Loss: 0.08994 \n",
      "                 Val Total Loss: 0.33891 Val Src Loss: 0.25931 Val Tgt Loss: 0.0796\n"
     ]
    },
    {
     "name": "stderr",
     "output_type": "stream",
     "text": [
      "100%|██████████████████████████████████████████████████████████████████████████████████████████████████████████████████| 7/7 [00:00<00:00, 256.82it/s]\n",
      "100%|███████████████████████████████████████████████████████████████████████████████████████████████████████████████████| 2/2 [00:00<00:00, 75.65it/s]\n",
      "100%|██████████████████████████████████████████████████████████████████████████████████████████████████████████████████| 2/2 [00:00<00:00, 166.59it/s]\n",
      "100%|██████████████████████████████████████████████████████████████████████████████████████████████████████████████████| 1/1 [00:00<00:00, 160.14it/s]\n"
     ]
    },
    {
     "name": "stdout",
     "output_type": "stream",
     "text": [
      "Epoch 7/500 Train Total Loss: 0.09727 Train Src Loss: 0.01357 Train Tgt Loss: 0.0837 \n",
      "                 Val Total Loss: 0.3414 Val Src Loss: 0.26381 Val Tgt Loss: 0.07758\n"
     ]
    },
    {
     "name": "stderr",
     "output_type": "stream",
     "text": [
      "100%|██████████████████████████████████████████████████████████████████████████████████████████████████████████████████| 7/7 [00:00<00:00, 192.09it/s]\n",
      "100%|██████████████████████████████████████████████████████████████████████████████████████████████████████████████████| 2/2 [00:00<00:00, 102.68it/s]\n",
      "100%|██████████████████████████████████████████████████████████████████████████████████████████████████████████████████| 2/2 [00:00<00:00, 135.85it/s]\n",
      "100%|██████████████████████████████████████████████████████████████████████████████████████████████████████████████████| 1/1 [00:00<00:00, 234.58it/s]\n"
     ]
    },
    {
     "name": "stdout",
     "output_type": "stream",
     "text": [
      "Epoch 8/500 Train Total Loss: 0.09386 Train Src Loss: 0.01343 Train Tgt Loss: 0.08042 \n",
      "                 Val Total Loss: 0.33667 Val Src Loss: 0.26784 Val Tgt Loss: 0.06883\n"
     ]
    },
    {
     "name": "stderr",
     "output_type": "stream",
     "text": [
      "100%|██████████████████████████████████████████████████████████████████████████████████████████████████████████████████| 7/7 [00:00<00:00, 199.10it/s]\n",
      "100%|██████████████████████████████████████████████████████████████████████████████████████████████████████████████████| 2/2 [00:00<00:00, 212.43it/s]\n",
      "100%|██████████████████████████████████████████████████████████████████████████████████████████████████████████████████| 2/2 [00:00<00:00, 178.22it/s]\n",
      "100%|██████████████████████████████████████████████████████████████████████████████████████████████████████████████████| 1/1 [00:00<00:00, 179.37it/s]\n"
     ]
    },
    {
     "name": "stdout",
     "output_type": "stream",
     "text": [
      "Epoch 9/500 Train Total Loss: 0.09783 Train Src Loss: 0.0144 Train Tgt Loss: 0.08344 \n",
      "                 Val Total Loss: 0.34442 Val Src Loss: 0.26197 Val Tgt Loss: 0.08245\n"
     ]
    },
    {
     "name": "stderr",
     "output_type": "stream",
     "text": [
      "100%|██████████████████████████████████████████████████████████████████████████████████████████████████████████████████| 7/7 [00:00<00:00, 323.15it/s]\n",
      "100%|██████████████████████████████████████████████████████████████████████████████████████████████████████████████████| 2/2 [00:00<00:00, 422.66it/s]\n",
      "100%|██████████████████████████████████████████████████████████████████████████████████████████████████████████████████| 2/2 [00:00<00:00, 366.70it/s]\n",
      "100%|██████████████████████████████████████████████████████████████████████████████████████████████████████████████████| 1/1 [00:00<00:00, 233.11it/s]\n"
     ]
    },
    {
     "name": "stdout",
     "output_type": "stream",
     "text": [
      "Epoch 10/500 Train Total Loss: 0.08811 Train Src Loss: 0.01268 Train Tgt Loss: 0.07543 \n",
      "                 Val Total Loss: 0.34337 Val Src Loss: 0.26637 Val Tgt Loss: 0.077\n"
     ]
    },
    {
     "name": "stderr",
     "output_type": "stream",
     "text": [
      "100%|██████████████████████████████████████████████████████████████████████████████████████████████████████████████████| 7/7 [00:00<00:00, 500.04it/s]\n",
      "100%|██████████████████████████████████████████████████████████████████████████████████████████████████████████████████| 2/2 [00:00<00:00, 420.73it/s]\n",
      "100%|██████████████████████████████████████████████████████████████████████████████████████████████████████████████████| 2/2 [00:00<00:00, 391.10it/s]\n",
      "100%|██████████████████████████████████████████████████████████████████████████████████████████████████████████████████| 1/1 [00:00<00:00, 259.44it/s]\n"
     ]
    },
    {
     "name": "stdout",
     "output_type": "stream",
     "text": [
      "Epoch 11/500 Train Total Loss: 0.09792 Train Src Loss: 0.01291 Train Tgt Loss: 0.08501 \n",
      "                 Val Total Loss: 0.33274 Val Src Loss: 0.26217 Val Tgt Loss: 0.07056\n"
     ]
    },
    {
     "name": "stderr",
     "output_type": "stream",
     "text": [
      "100%|██████████████████████████████████████████████████████████████████████████████████████████████████████████████████| 7/7 [00:00<00:00, 558.09it/s]\n",
      "100%|██████████████████████████████████████████████████████████████████████████████████████████████████████████████████| 2/2 [00:00<00:00, 446.18it/s]\n",
      "100%|██████████████████████████████████████████████████████████████████████████████████████████████████████████████████| 2/2 [00:00<00:00, 465.72it/s]\n",
      "100%|██████████████████████████████████████████████████████████████████████████████████████████████████████████████████| 1/1 [00:00<00:00, 284.65it/s]\n"
     ]
    },
    {
     "name": "stdout",
     "output_type": "stream",
     "text": [
      "Epoch 12/500 Train Total Loss: 0.09753 Train Src Loss: 0.01305 Train Tgt Loss: 0.08447 \n",
      "                 Val Total Loss: 0.34713 Val Src Loss: 0.2681 Val Tgt Loss: 0.07903\n"
     ]
    },
    {
     "name": "stderr",
     "output_type": "stream",
     "text": [
      "100%|██████████████████████████████████████████████████████████████████████████████████████████████████████████████████| 7/7 [00:00<00:00, 260.20it/s]\n",
      "100%|███████████████████████████████████████████████████████████████████████████████████████████████████████████████████| 2/2 [00:00<00:00, 98.91it/s]\n",
      "100%|██████████████████████████████████████████████████████████████████████████████████████████████████████████████████| 2/2 [00:00<00:00, 298.95it/s]\n",
      "100%|██████████████████████████████████████████████████████████████████████████████████████████████████████████████████| 1/1 [00:00<00:00, 296.61it/s]\n"
     ]
    },
    {
     "name": "stdout",
     "output_type": "stream",
     "text": [
      "Epoch 13/500 Train Total Loss: 0.09647 Train Src Loss: 0.01286 Train Tgt Loss: 0.0836 \n",
      "                 Val Total Loss: 0.3522 Val Src Loss: 0.27006 Val Tgt Loss: 0.08214\n"
     ]
    },
    {
     "name": "stderr",
     "output_type": "stream",
     "text": [
      "100%|██████████████████████████████████████████████████████████████████████████████████████████████████████████████████| 7/7 [00:00<00:00, 382.25it/s]\n",
      "100%|██████████████████████████████████████████████████████████████████████████████████████████████████████████████████| 2/2 [00:00<00:00, 149.42it/s]\n",
      "100%|██████████████████████████████████████████████████████████████████████████████████████████████████████████████████| 2/2 [00:00<00:00, 202.50it/s]\n",
      "100%|██████████████████████████████████████████████████████████████████████████████████████████████████████████████████| 1/1 [00:00<00:00, 121.35it/s]\n"
     ]
    },
    {
     "name": "stdout",
     "output_type": "stream",
     "text": [
      "Epoch 14/500 Train Total Loss: 0.08508 Train Src Loss: 0.01283 Train Tgt Loss: 0.07225 \n",
      "                 Val Total Loss: 0.34051 Val Src Loss: 0.26544 Val Tgt Loss: 0.07508\n"
     ]
    },
    {
     "name": "stderr",
     "output_type": "stream",
     "text": [
      "100%|██████████████████████████████████████████████████████████████████████████████████████████████████████████████████| 7/7 [00:00<00:00, 138.55it/s]\n",
      "100%|██████████████████████████████████████████████████████████████████████████████████████████████████████████████████| 2/2 [00:00<00:00, 221.96it/s]\n",
      "100%|██████████████████████████████████████████████████████████████████████████████████████████████████████████████████| 2/2 [00:00<00:00, 152.28it/s]\n",
      "100%|██████████████████████████████████████████████████████████████████████████████████████████████████████████████████| 1/1 [00:00<00:00, 243.97it/s]\n"
     ]
    },
    {
     "name": "stdout",
     "output_type": "stream",
     "text": [
      "Epoch 15/500 Train Total Loss: 0.09176 Train Src Loss: 0.01317 Train Tgt Loss: 0.0786 \n",
      "                 Val Total Loss: 0.31916 Val Src Loss: 0.24601 Val Tgt Loss: 0.07315\n"
     ]
    },
    {
     "name": "stderr",
     "output_type": "stream",
     "text": [
      "100%|██████████████████████████████████████████████████████████████████████████████████████████████████████████████████| 7/7 [00:00<00:00, 207.81it/s]\n",
      "100%|██████████████████████████████████████████████████████████████████████████████████████████████████████████████████| 2/2 [00:00<00:00, 199.29it/s]\n",
      "100%|██████████████████████████████████████████████████████████████████████████████████████████████████████████████████| 2/2 [00:00<00:00, 340.06it/s]\n",
      "100%|██████████████████████████████████████████████████████████████████████████████████████████████████████████████████| 1/1 [00:00<00:00, 351.64it/s]\n"
     ]
    },
    {
     "name": "stdout",
     "output_type": "stream",
     "text": [
      "Epoch 16/500 Train Total Loss: 0.08815 Train Src Loss: 0.01261 Train Tgt Loss: 0.07554 \n",
      "                 Val Total Loss: 0.32641 Val Src Loss: 0.255 Val Tgt Loss: 0.07141\n"
     ]
    },
    {
     "name": "stderr",
     "output_type": "stream",
     "text": [
      "100%|██████████████████████████████████████████████████████████████████████████████████████████████████████████████████| 7/7 [00:00<00:00, 513.39it/s]\n",
      "100%|██████████████████████████████████████████████████████████████████████████████████████████████████████████████████| 2/2 [00:00<00:00, 424.40it/s]\n",
      "100%|██████████████████████████████████████████████████████████████████████████████████████████████████████████████████| 2/2 [00:00<00:00, 533.49it/s]\n",
      "100%|██████████████████████████████████████████████████████████████████████████████████████████████████████████████████| 1/1 [00:00<00:00, 383.18it/s]\n"
     ]
    },
    {
     "name": "stdout",
     "output_type": "stream",
     "text": [
      "Epoch 17/500 Train Total Loss: 0.08669 Train Src Loss: 0.01193 Train Tgt Loss: 0.07476 \n",
      "                 Val Total Loss: 0.33394 Val Src Loss: 0.2623 Val Tgt Loss: 0.07164\n"
     ]
    },
    {
     "name": "stderr",
     "output_type": "stream",
     "text": [
      "100%|██████████████████████████████████████████████████████████████████████████████████████████████████████████████████| 7/7 [00:00<00:00, 492.24it/s]\n",
      "100%|██████████████████████████████████████████████████████████████████████████████████████████████████████████████████| 2/2 [00:00<00:00, 432.58it/s]\n",
      "100%|██████████████████████████████████████████████████████████████████████████████████████████████████████████████████| 2/2 [00:00<00:00, 556.98it/s]\n",
      "100%|██████████████████████████████████████████████████████████████████████████████████████████████████████████████████| 1/1 [00:00<00:00, 384.83it/s]\n"
     ]
    },
    {
     "name": "stdout",
     "output_type": "stream",
     "text": [
      "Epoch 18/500 Train Total Loss: 0.09121 Train Src Loss: 0.01257 Train Tgt Loss: 0.07864 \n",
      "                 Val Total Loss: 0.33448 Val Src Loss: 0.25923 Val Tgt Loss: 0.07524\n"
     ]
    },
    {
     "name": "stderr",
     "output_type": "stream",
     "text": [
      "100%|██████████████████████████████████████████████████████████████████████████████████████████████████████████████████| 7/7 [00:00<00:00, 470.75it/s]\n",
      "100%|██████████████████████████████████████████████████████████████████████████████████████████████████████████████████| 2/2 [00:00<00:00, 398.62it/s]\n",
      "100%|██████████████████████████████████████████████████████████████████████████████████████████████████████████████████| 2/2 [00:00<00:00, 301.19it/s]\n",
      "100%|██████████████████████████████████████████████████████████████████████████████████████████████████████████████████| 1/1 [00:00<00:00, 178.00it/s]\n"
     ]
    },
    {
     "name": "stdout",
     "output_type": "stream",
     "text": [
      "Epoch 19/500 Train Total Loss: 0.09392 Train Src Loss: 0.01401 Train Tgt Loss: 0.0799 \n",
      "                 Val Total Loss: 0.33167 Val Src Loss: 0.26268 Val Tgt Loss: 0.06899\n"
     ]
    },
    {
     "name": "stderr",
     "output_type": "stream",
     "text": [
      "100%|██████████████████████████████████████████████████████████████████████████████████████████████████████████████████| 7/7 [00:00<00:00, 108.80it/s]\n",
      "100%|██████████████████████████████████████████████████████████████████████████████████████████████████████████████████| 2/2 [00:00<00:00, 238.71it/s]\n",
      "100%|██████████████████████████████████████████████████████████████████████████████████████████████████████████████████| 2/2 [00:00<00:00, 179.26it/s]\n",
      "100%|██████████████████████████████████████████████████████████████████████████████████████████████████████████████████| 1/1 [00:00<00:00, 180.99it/s]\n"
     ]
    },
    {
     "name": "stdout",
     "output_type": "stream",
     "text": [
      "Epoch 20/500 Train Total Loss: 0.07868 Train Src Loss: 0.01285 Train Tgt Loss: 0.06583 \n",
      "                 Val Total Loss: 0.33681 Val Src Loss: 0.26133 Val Tgt Loss: 0.07548\n"
     ]
    },
    {
     "name": "stderr",
     "output_type": "stream",
     "text": [
      "100%|██████████████████████████████████████████████████████████████████████████████████████████████████████████████████| 7/7 [00:00<00:00, 149.65it/s]\n",
      "100%|██████████████████████████████████████████████████████████████████████████████████████████████████████████████████| 2/2 [00:00<00:00, 121.96it/s]\n",
      "100%|██████████████████████████████████████████████████████████████████████████████████████████████████████████████████| 2/2 [00:00<00:00, 326.33it/s]\n",
      "100%|██████████████████████████████████████████████████████████████████████████████████████████████████████████████████| 1/1 [00:00<00:00, 172.05it/s]\n"
     ]
    },
    {
     "name": "stdout",
     "output_type": "stream",
     "text": [
      "Epoch 21/500 Train Total Loss: 0.08853 Train Src Loss: 0.0139 Train Tgt Loss: 0.07463 \n",
      "                 Val Total Loss: 0.33784 Val Src Loss: 0.2676 Val Tgt Loss: 0.07025\n"
     ]
    },
    {
     "name": "stderr",
     "output_type": "stream",
     "text": [
      "100%|██████████████████████████████████████████████████████████████████████████████████████████████████████████████████| 7/7 [00:00<00:00, 227.79it/s]\n",
      "100%|██████████████████████████████████████████████████████████████████████████████████████████████████████████████████| 2/2 [00:00<00:00, 175.46it/s]\n",
      "100%|██████████████████████████████████████████████████████████████████████████████████████████████████████████████████| 2/2 [00:00<00:00, 273.14it/s]\n",
      "100%|██████████████████████████████████████████████████████████████████████████████████████████████████████████████████| 1/1 [00:00<00:00, 225.29it/s]\n"
     ]
    },
    {
     "name": "stdout",
     "output_type": "stream",
     "text": [
      "Epoch 22/500 Train Total Loss: 0.08547 Train Src Loss: 0.01302 Train Tgt Loss: 0.07244 \n",
      "                 Val Total Loss: 0.3342 Val Src Loss: 0.26284 Val Tgt Loss: 0.07137\n"
     ]
    },
    {
     "name": "stderr",
     "output_type": "stream",
     "text": [
      "100%|██████████████████████████████████████████████████████████████████████████████████████████████████████████████████| 7/7 [00:00<00:00, 457.34it/s]\n",
      "100%|██████████████████████████████████████████████████████████████████████████████████████████████████████████████████| 2/2 [00:00<00:00, 452.22it/s]\n",
      "100%|██████████████████████████████████████████████████████████████████████████████████████████████████████████████████| 2/2 [00:00<00:00, 600.64it/s]\n",
      "100%|██████████████████████████████████████████████████████████████████████████████████████████████████████████████████| 1/1 [00:00<00:00, 397.79it/s]\n"
     ]
    },
    {
     "name": "stdout",
     "output_type": "stream",
     "text": [
      "Epoch 23/500 Train Total Loss: 0.08085 Train Src Loss: 0.01418 Train Tgt Loss: 0.06667 \n",
      "                 Val Total Loss: 0.33254 Val Src Loss: 0.26097 Val Tgt Loss: 0.07157\n"
     ]
    },
    {
     "name": "stderr",
     "output_type": "stream",
     "text": [
      "100%|██████████████████████████████████████████████████████████████████████████████████████████████████████████████████| 7/7 [00:00<00:00, 562.99it/s]\n",
      "100%|██████████████████████████████████████████████████████████████████████████████████████████████████████████████████| 2/2 [00:00<00:00, 452.39it/s]\n",
      "100%|██████████████████████████████████████████████████████████████████████████████████████████████████████████████████| 2/2 [00:00<00:00, 488.85it/s]\n",
      "100%|██████████████████████████████████████████████████████████████████████████████████████████████████████████████████| 1/1 [00:00<00:00, 275.20it/s]\n"
     ]
    },
    {
     "name": "stdout",
     "output_type": "stream",
     "text": [
      "Epoch 24/500 Train Total Loss: 0.07728 Train Src Loss: 0.0117 Train Tgt Loss: 0.06558 \n",
      "                 Val Total Loss: 0.33824 Val Src Loss: 0.26435 Val Tgt Loss: 0.07388\n"
     ]
    },
    {
     "name": "stderr",
     "output_type": "stream",
     "text": [
      "100%|██████████████████████████████████████████████████████████████████████████████████████████████████████████████████| 7/7 [00:00<00:00, 549.15it/s]\n",
      "100%|██████████████████████████████████████████████████████████████████████████████████████████████████████████████████| 2/2 [00:00<00:00, 443.87it/s]\n",
      "100%|██████████████████████████████████████████████████████████████████████████████████████████████████████████████████| 2/2 [00:00<00:00, 576.77it/s]\n",
      "100%|██████████████████████████████████████████████████████████████████████████████████████████████████████████████████| 1/1 [00:00<00:00, 272.80it/s]\n"
     ]
    },
    {
     "name": "stdout",
     "output_type": "stream",
     "text": [
      "Epoch 25/500 Train Total Loss: 0.08401 Train Src Loss: 0.0122 Train Tgt Loss: 0.07181 \n",
      "                 Val Total Loss: 0.33138 Val Src Loss: 0.26905 Val Tgt Loss: 0.06234\n"
     ]
    },
    {
     "name": "stderr",
     "output_type": "stream",
     "text": [
      "100%|██████████████████████████████████████████████████████████████████████████████████████████████████████████████████| 7/7 [00:00<00:00, 485.76it/s]\n",
      "100%|██████████████████████████████████████████████████████████████████████████████████████████████████████████████████| 2/2 [00:00<00:00, 209.21it/s]\n",
      "100%|███████████████████████████████████████████████████████████████████████████████████████████████████████████████████| 2/2 [00:00<00:00, 58.91it/s]\n",
      "100%|██████████████████████████████████████████████████████████████████████████████████████████████████████████████████| 1/1 [00:00<00:00, 132.03it/s]\n"
     ]
    },
    {
     "name": "stdout",
     "output_type": "stream",
     "text": [
      "Epoch 26/500 Train Total Loss: 0.08484 Train Src Loss: 0.01246 Train Tgt Loss: 0.07238 \n",
      "                 Val Total Loss: 0.34515 Val Src Loss: 0.27287 Val Tgt Loss: 0.07228\n",
      "Test: 35 36\n",
      "Adapt train: 34 35\n",
      "Adapt val: 36\n"
     ]
    },
    {
     "name": "stderr",
     "output_type": "stream",
     "text": [
      "100%|██████████████████████████████████████████████████████████████████████████████████████████████████████████████████| 7/7 [00:00<00:00, 135.45it/s]\n",
      "100%|██████████████████████████████████████████████████████████████████████████████████████████████████████████████████| 2/2 [00:00<00:00, 150.12it/s]\n",
      "100%|██████████████████████████████████████████████████████████████████████████████████████████████████████████████████| 2/2 [00:00<00:00, 160.36it/s]\n",
      "100%|██████████████████████████████████████████████████████████████████████████████████████████████████████████████████| 1/1 [00:00<00:00, 145.34it/s]\n"
     ]
    },
    {
     "name": "stdout",
     "output_type": "stream",
     "text": [
      "Epoch 1/500 Train Total Loss: 0.09159 Train Src Loss: 0.01221 Train Tgt Loss: 0.07938 \n",
      "                 Val Total Loss: 0.33022 Val Src Loss: 0.26339 Val Tgt Loss: 0.06682\n"
     ]
    },
    {
     "name": "stderr",
     "output_type": "stream",
     "text": [
      "100%|██████████████████████████████████████████████████████████████████████████████████████████████████████████████████| 7/7 [00:00<00:00, 227.25it/s]\n",
      "100%|██████████████████████████████████████████████████████████████████████████████████████████████████████████████████| 2/2 [00:00<00:00, 181.55it/s]\n",
      "100%|██████████████████████████████████████████████████████████████████████████████████████████████████████████████████| 2/2 [00:00<00:00, 312.18it/s]\n",
      "100%|██████████████████████████████████████████████████████████████████████████████████████████████████████████████████| 1/1 [00:00<00:00, 278.78it/s]\n"
     ]
    },
    {
     "name": "stdout",
     "output_type": "stream",
     "text": [
      "Epoch 2/500 Train Total Loss: 0.08473 Train Src Loss: 0.01169 Train Tgt Loss: 0.07304 \n",
      "                 Val Total Loss: 0.33434 Val Src Loss: 0.27369 Val Tgt Loss: 0.06065\n"
     ]
    },
    {
     "name": "stderr",
     "output_type": "stream",
     "text": [
      "100%|██████████████████████████████████████████████████████████████████████████████████████████████████████████████████| 7/7 [00:00<00:00, 546.36it/s]\n",
      "100%|██████████████████████████████████████████████████████████████████████████████████████████████████████████████████| 2/2 [00:00<00:00, 381.21it/s]\n",
      "100%|██████████████████████████████████████████████████████████████████████████████████████████████████████████████████| 2/2 [00:00<00:00, 371.54it/s]\n",
      "100%|██████████████████████████████████████████████████████████████████████████████████████████████████████████████████| 1/1 [00:00<00:00, 420.52it/s]\n"
     ]
    },
    {
     "name": "stdout",
     "output_type": "stream",
     "text": [
      "Epoch 3/500 Train Total Loss: 0.09426 Train Src Loss: 0.01296 Train Tgt Loss: 0.08131 \n",
      "                 Val Total Loss: 0.34231 Val Src Loss: 0.28227 Val Tgt Loss: 0.06004\n"
     ]
    },
    {
     "name": "stderr",
     "output_type": "stream",
     "text": [
      "100%|██████████████████████████████████████████████████████████████████████████████████████████████████████████████████| 7/7 [00:00<00:00, 445.89it/s]\n",
      "100%|██████████████████████████████████████████████████████████████████████████████████████████████████████████████████| 2/2 [00:00<00:00, 370.95it/s]\n",
      "100%|██████████████████████████████████████████████████████████████████████████████████████████████████████████████████| 2/2 [00:00<00:00, 535.40it/s]\n",
      "100%|██████████████████████████████████████████████████████████████████████████████████████████████████████████████████| 1/1 [00:00<00:00, 282.83it/s]\n"
     ]
    },
    {
     "name": "stdout",
     "output_type": "stream",
     "text": [
      "Epoch 4/500 Train Total Loss: 0.09484 Train Src Loss: 0.0129 Train Tgt Loss: 0.08194 \n",
      "                 Val Total Loss: 0.32231 Val Src Loss: 0.2631 Val Tgt Loss: 0.05921\n"
     ]
    },
    {
     "name": "stderr",
     "output_type": "stream",
     "text": [
      "100%|██████████████████████████████████████████████████████████████████████████████████████████████████████████████████| 7/7 [00:00<00:00, 558.47it/s]\n",
      "100%|██████████████████████████████████████████████████████████████████████████████████████████████████████████████████| 2/2 [00:00<00:00, 376.80it/s]\n",
      "100%|██████████████████████████████████████████████████████████████████████████████████████████████████████████████████| 2/2 [00:00<00:00, 348.96it/s]\n",
      "100%|██████████████████████████████████████████████████████████████████████████████████████████████████████████████████| 1/1 [00:00<00:00, 158.54it/s]\n"
     ]
    },
    {
     "name": "stdout",
     "output_type": "stream",
     "text": [
      "Epoch 5/500 Train Total Loss: 0.08507 Train Src Loss: 0.01218 Train Tgt Loss: 0.07288 \n",
      "                 Val Total Loss: 0.33489 Val Src Loss: 0.2723 Val Tgt Loss: 0.06259\n"
     ]
    },
    {
     "name": "stderr",
     "output_type": "stream",
     "text": [
      "100%|██████████████████████████████████████████████████████████████████████████████████████████████████████████████████| 7/7 [00:00<00:00, 109.88it/s]\n",
      "100%|██████████████████████████████████████████████████████████████████████████████████████████████████████████████████| 2/2 [00:00<00:00, 120.22it/s]\n",
      "100%|██████████████████████████████████████████████████████████████████████████████████████████████████████████████████| 2/2 [00:00<00:00, 305.40it/s]\n",
      "100%|██████████████████████████████████████████████████████████████████████████████████████████████████████████████████| 1/1 [00:00<00:00, 184.00it/s]\n"
     ]
    },
    {
     "name": "stdout",
     "output_type": "stream",
     "text": [
      "Epoch 6/500 Train Total Loss: 0.09169 Train Src Loss: 0.01082 Train Tgt Loss: 0.08087 \n",
      "                 Val Total Loss: 0.32367 Val Src Loss: 0.26481 Val Tgt Loss: 0.05886\n"
     ]
    },
    {
     "name": "stderr",
     "output_type": "stream",
     "text": [
      "100%|██████████████████████████████████████████████████████████████████████████████████████████████████████████████████| 7/7 [00:00<00:00, 144.67it/s]\n",
      "100%|██████████████████████████████████████████████████████████████████████████████████████████████████████████████████| 2/2 [00:00<00:00, 121.76it/s]\n",
      "100%|██████████████████████████████████████████████████████████████████████████████████████████████████████████████████| 2/2 [00:00<00:00, 310.40it/s]\n",
      "100%|██████████████████████████████████████████████████████████████████████████████████████████████████████████████████| 1/1 [00:00<00:00, 135.84it/s]\n"
     ]
    },
    {
     "name": "stdout",
     "output_type": "stream",
     "text": [
      "Epoch 7/500 Train Total Loss: 0.07995 Train Src Loss: 0.01116 Train Tgt Loss: 0.06879 \n",
      "                 Val Total Loss: 0.32411 Val Src Loss: 0.26872 Val Tgt Loss: 0.05539\n"
     ]
    },
    {
     "name": "stderr",
     "output_type": "stream",
     "text": [
      "100%|██████████████████████████████████████████████████████████████████████████████████████████████████████████████████| 7/7 [00:00<00:00, 239.22it/s]\n",
      "100%|██████████████████████████████████████████████████████████████████████████████████████████████████████████████████| 2/2 [00:00<00:00, 148.48it/s]\n",
      "100%|██████████████████████████████████████████████████████████████████████████████████████████████████████████████████| 2/2 [00:00<00:00, 261.82it/s]\n",
      "100%|██████████████████████████████████████████████████████████████████████████████████████████████████████████████████| 1/1 [00:00<00:00, 237.95it/s]\n"
     ]
    },
    {
     "name": "stdout",
     "output_type": "stream",
     "text": [
      "Epoch 8/500 Train Total Loss: 0.09062 Train Src Loss: 0.01282 Train Tgt Loss: 0.0778 \n",
      "                 Val Total Loss: 0.32773 Val Src Loss: 0.26631 Val Tgt Loss: 0.06143\n"
     ]
    },
    {
     "name": "stderr",
     "output_type": "stream",
     "text": [
      "100%|██████████████████████████████████████████████████████████████████████████████████████████████████████████████████| 7/7 [00:00<00:00, 543.67it/s]\n",
      "100%|██████████████████████████████████████████████████████████████████████████████████████████████████████████████████| 2/2 [00:00<00:00, 372.51it/s]\n",
      "100%|██████████████████████████████████████████████████████████████████████████████████████████████████████████████████| 2/2 [00:00<00:00, 568.26it/s]\n",
      "100%|██████████████████████████████████████████████████████████████████████████████████████████████████████████████████| 1/1 [00:00<00:00, 429.52it/s]\n"
     ]
    },
    {
     "name": "stdout",
     "output_type": "stream",
     "text": [
      "Epoch 9/500 Train Total Loss: 0.08184 Train Src Loss: 0.01269 Train Tgt Loss: 0.06915 \n",
      "                 Val Total Loss: 0.31162 Val Src Loss: 0.25671 Val Tgt Loss: 0.05491\n"
     ]
    },
    {
     "name": "stderr",
     "output_type": "stream",
     "text": [
      "100%|██████████████████████████████████████████████████████████████████████████████████████████████████████████████████| 7/7 [00:00<00:00, 552.82it/s]\n",
      "100%|██████████████████████████████████████████████████████████████████████████████████████████████████████████████████| 2/2 [00:00<00:00, 363.33it/s]\n",
      "100%|██████████████████████████████████████████████████████████████████████████████████████████████████████████████████| 2/2 [00:00<00:00, 567.45it/s]\n",
      "100%|██████████████████████████████████████████████████████████████████████████████████████████████████████████████████| 1/1 [00:00<00:00, 410.60it/s]\n"
     ]
    },
    {
     "name": "stdout",
     "output_type": "stream",
     "text": [
      "Epoch 10/500 Train Total Loss: 0.08519 Train Src Loss: 0.01157 Train Tgt Loss: 0.07361 \n",
      "                 Val Total Loss: 0.33582 Val Src Loss: 0.26784 Val Tgt Loss: 0.06798\n"
     ]
    },
    {
     "name": "stderr",
     "output_type": "stream",
     "text": [
      "100%|██████████████████████████████████████████████████████████████████████████████████████████████████████████████████| 7/7 [00:00<00:00, 549.93it/s]\n",
      "100%|██████████████████████████████████████████████████████████████████████████████████████████████████████████████████| 2/2 [00:00<00:00, 382.66it/s]\n",
      "100%|██████████████████████████████████████████████████████████████████████████████████████████████████████████████████| 2/2 [00:00<00:00, 437.16it/s]\n",
      "100%|██████████████████████████████████████████████████████████████████████████████████████████████████████████████████| 1/1 [00:00<00:00, 134.08it/s]\n"
     ]
    },
    {
     "name": "stdout",
     "output_type": "stream",
     "text": [
      "Epoch 11/500 Train Total Loss: 0.09166 Train Src Loss: 0.01277 Train Tgt Loss: 0.07889 \n",
      "                 Val Total Loss: 0.31128 Val Src Loss: 0.25736 Val Tgt Loss: 0.05392\n"
     ]
    },
    {
     "name": "stderr",
     "output_type": "stream",
     "text": [
      "100%|███████████████████████████████████████████████████████████████████████████████████████████████████████████████████| 7/7 [00:00<00:00, 96.87it/s]\n",
      "100%|██████████████████████████████████████████████████████████████████████████████████████████████████████████████████| 2/2 [00:00<00:00, 112.31it/s]\n",
      "100%|██████████████████████████████████████████████████████████████████████████████████████████████████████████████████| 2/2 [00:00<00:00, 178.06it/s]\n",
      "100%|██████████████████████████████████████████████████████████████████████████████████████████████████████████████████| 1/1 [00:00<00:00, 149.18it/s]\n"
     ]
    },
    {
     "name": "stdout",
     "output_type": "stream",
     "text": [
      "Epoch 12/500 Train Total Loss: 0.08334 Train Src Loss: 0.01148 Train Tgt Loss: 0.07187 \n",
      "                 Val Total Loss: 0.32678 Val Src Loss: 0.25769 Val Tgt Loss: 0.06909\n"
     ]
    },
    {
     "name": "stderr",
     "output_type": "stream",
     "text": [
      "100%|██████████████████████████████████████████████████████████████████████████████████████████████████████████████████| 7/7 [00:00<00:00, 149.63it/s]\n",
      "100%|██████████████████████████████████████████████████████████████████████████████████████████████████████████████████| 2/2 [00:00<00:00, 228.96it/s]\n",
      "100%|██████████████████████████████████████████████████████████████████████████████████████████████████████████████████| 2/2 [00:00<00:00, 166.13it/s]\n",
      "100%|██████████████████████████████████████████████████████████████████████████████████████████████████████████████████| 1/1 [00:00<00:00, 201.04it/s]\n"
     ]
    },
    {
     "name": "stdout",
     "output_type": "stream",
     "text": [
      "Epoch 13/500 Train Total Loss: 0.07702 Train Src Loss: 0.0117 Train Tgt Loss: 0.06532 \n",
      "                 Val Total Loss: 0.32164 Val Src Loss: 0.26569 Val Tgt Loss: 0.05594\n"
     ]
    },
    {
     "name": "stderr",
     "output_type": "stream",
     "text": [
      "100%|██████████████████████████████████████████████████████████████████████████████████████████████████████████████████| 7/7 [00:00<00:00, 242.34it/s]\n",
      "100%|██████████████████████████████████████████████████████████████████████████████████████████████████████████████████| 2/2 [00:00<00:00, 195.01it/s]\n",
      "100%|██████████████████████████████████████████████████████████████████████████████████████████████████████████████████| 2/2 [00:00<00:00, 323.57it/s]\n",
      "100%|██████████████████████████████████████████████████████████████████████████████████████████████████████████████████| 1/1 [00:00<00:00, 271.02it/s]\n"
     ]
    },
    {
     "name": "stdout",
     "output_type": "stream",
     "text": [
      "Epoch 14/500 Train Total Loss: 0.08718 Train Src Loss: 0.01275 Train Tgt Loss: 0.07443 \n",
      "                 Val Total Loss: 0.31884 Val Src Loss: 0.25452 Val Tgt Loss: 0.06432\n"
     ]
    },
    {
     "name": "stderr",
     "output_type": "stream",
     "text": [
      "100%|██████████████████████████████████████████████████████████████████████████████████████████████████████████████████| 7/7 [00:00<00:00, 544.44it/s]\n",
      "100%|██████████████████████████████████████████████████████████████████████████████████████████████████████████████████| 2/2 [00:00<00:00, 390.62it/s]\n",
      "100%|██████████████████████████████████████████████████████████████████████████████████████████████████████████████████| 2/2 [00:00<00:00, 582.02it/s]\n",
      "100%|██████████████████████████████████████████████████████████████████████████████████████████████████████████████████| 1/1 [00:00<00:00, 423.54it/s]\n"
     ]
    },
    {
     "name": "stdout",
     "output_type": "stream",
     "text": [
      "Epoch 15/500 Train Total Loss: 0.07937 Train Src Loss: 0.01275 Train Tgt Loss: 0.06663 \n",
      "                 Val Total Loss: 0.32572 Val Src Loss: 0.26823 Val Tgt Loss: 0.05748\n"
     ]
    },
    {
     "name": "stderr",
     "output_type": "stream",
     "text": [
      "100%|██████████████████████████████████████████████████████████████████████████████████████████████████████████████████| 7/7 [00:00<00:00, 569.36it/s]\n",
      "100%|██████████████████████████████████████████████████████████████████████████████████████████████████████████████████| 2/2 [00:00<00:00, 388.49it/s]\n",
      "100%|██████████████████████████████████████████████████████████████████████████████████████████████████████████████████| 2/2 [00:00<00:00, 586.70it/s]\n",
      "100%|██████████████████████████████████████████████████████████████████████████████████████████████████████████████████| 1/1 [00:00<00:00, 426.42it/s]\n"
     ]
    },
    {
     "name": "stdout",
     "output_type": "stream",
     "text": [
      "Epoch 16/500 Train Total Loss: 0.08136 Train Src Loss: 0.01134 Train Tgt Loss: 0.07002 \n",
      "                 Val Total Loss: 0.32551 Val Src Loss: 0.26494 Val Tgt Loss: 0.06058\n"
     ]
    },
    {
     "name": "stderr",
     "output_type": "stream",
     "text": [
      "100%|██████████████████████████████████████████████████████████████████████████████████████████████████████████████████| 7/7 [00:00<00:00, 560.48it/s]\n",
      "100%|██████████████████████████████████████████████████████████████████████████████████████████████████████████████████| 2/2 [00:00<00:00, 388.22it/s]\n",
      "100%|██████████████████████████████████████████████████████████████████████████████████████████████████████████████████| 2/2 [00:00<00:00, 561.64it/s]\n",
      "100%|██████████████████████████████████████████████████████████████████████████████████████████████████████████████████| 1/1 [00:00<00:00, 425.73it/s]\n"
     ]
    },
    {
     "name": "stdout",
     "output_type": "stream",
     "text": [
      "Epoch 17/500 Train Total Loss: 0.07558 Train Src Loss: 0.01209 Train Tgt Loss: 0.06349 \n",
      "                 Val Total Loss: 0.3216 Val Src Loss: 0.26118 Val Tgt Loss: 0.06042\n"
     ]
    },
    {
     "name": "stderr",
     "output_type": "stream",
     "text": [
      "100%|██████████████████████████████████████████████████████████████████████████████████████████████████████████████████| 7/7 [00:00<00:00, 409.07it/s]\n",
      "100%|██████████████████████████████████████████████████████████████████████████████████████████████████████████████████| 2/2 [00:00<00:00, 143.86it/s]\n",
      "100%|██████████████████████████████████████████████████████████████████████████████████████████████████████████████████| 2/2 [00:00<00:00, 136.35it/s]\n",
      "100%|███████████████████████████████████████████████████████████████████████████████████████████████████████████████████| 1/1 [00:00<00:00, 59.59it/s]\n"
     ]
    },
    {
     "name": "stdout",
     "output_type": "stream",
     "text": [
      "Epoch 18/500 Train Total Loss: 0.07148 Train Src Loss: 0.01044 Train Tgt Loss: 0.06103 \n",
      "                 Val Total Loss: 0.32156 Val Src Loss: 0.26618 Val Tgt Loss: 0.05538\n"
     ]
    },
    {
     "name": "stderr",
     "output_type": "stream",
     "text": [
      "100%|██████████████████████████████████████████████████████████████████████████████████████████████████████████████████| 7/7 [00:00<00:00, 178.10it/s]\n",
      "100%|██████████████████████████████████████████████████████████████████████████████████████████████████████████████████| 2/2 [00:00<00:00, 143.30it/s]\n",
      "100%|██████████████████████████████████████████████████████████████████████████████████████████████████████████████████| 2/2 [00:00<00:00, 121.87it/s]\n",
      "100%|██████████████████████████████████████████████████████████████████████████████████████████████████████████████████| 1/1 [00:00<00:00, 135.45it/s]\n"
     ]
    },
    {
     "name": "stdout",
     "output_type": "stream",
     "text": [
      "Epoch 19/500 Train Total Loss: 0.06838 Train Src Loss: 0.01097 Train Tgt Loss: 0.05741 \n",
      "                 Val Total Loss: 0.32585 Val Src Loss: 0.2646 Val Tgt Loss: 0.06125\n"
     ]
    },
    {
     "name": "stderr",
     "output_type": "stream",
     "text": [
      "100%|██████████████████████████████████████████████████████████████████████████████████████████████████████████████████| 7/7 [00:00<00:00, 233.43it/s]\n",
      "100%|██████████████████████████████████████████████████████████████████████████████████████████████████████████████████| 2/2 [00:00<00:00, 170.00it/s]\n",
      "100%|██████████████████████████████████████████████████████████████████████████████████████████████████████████████████| 2/2 [00:00<00:00, 233.80it/s]\n",
      "100%|██████████████████████████████████████████████████████████████████████████████████████████████████████████████████| 1/1 [00:00<00:00, 248.11it/s]\n"
     ]
    },
    {
     "name": "stdout",
     "output_type": "stream",
     "text": [
      "Epoch 20/500 Train Total Loss: 0.07232 Train Src Loss: 0.01093 Train Tgt Loss: 0.06139 \n",
      "                 Val Total Loss: 0.29405 Val Src Loss: 0.24587 Val Tgt Loss: 0.04818\n"
     ]
    },
    {
     "name": "stderr",
     "output_type": "stream",
     "text": [
      "100%|██████████████████████████████████████████████████████████████████████████████████████████████████████████████████| 7/7 [00:00<00:00, 208.95it/s]\n",
      "100%|██████████████████████████████████████████████████████████████████████████████████████████████████████████████████| 2/2 [00:00<00:00, 304.39it/s]\n",
      "100%|██████████████████████████████████████████████████████████████████████████████████████████████████████████████████| 2/2 [00:00<00:00, 591.91it/s]\n",
      "100%|██████████████████████████████████████████████████████████████████████████████████████████████████████████████████| 1/1 [00:00<00:00, 295.48it/s]\n"
     ]
    },
    {
     "name": "stdout",
     "output_type": "stream",
     "text": [
      "Epoch 21/500 Train Total Loss: 0.07751 Train Src Loss: 0.01113 Train Tgt Loss: 0.06638 \n",
      "                 Val Total Loss: 0.29668 Val Src Loss: 0.2437 Val Tgt Loss: 0.05298\n"
     ]
    },
    {
     "name": "stderr",
     "output_type": "stream",
     "text": [
      "100%|██████████████████████████████████████████████████████████████████████████████████████████████████████████████████| 7/7 [00:00<00:00, 454.01it/s]\n",
      "100%|██████████████████████████████████████████████████████████████████████████████████████████████████████████████████| 2/2 [00:00<00:00, 370.36it/s]\n",
      "100%|██████████████████████████████████████████████████████████████████████████████████████████████████████████████████| 2/2 [00:00<00:00, 616.08it/s]\n",
      "100%|██████████████████████████████████████████████████████████████████████████████████████████████████████████████████| 1/1 [00:00<00:00, 291.15it/s]\n"
     ]
    },
    {
     "name": "stdout",
     "output_type": "stream",
     "text": [
      "Epoch 22/500 Train Total Loss: 0.07516 Train Src Loss: 0.01051 Train Tgt Loss: 0.06465 \n",
      "                 Val Total Loss: 0.31305 Val Src Loss: 0.25859 Val Tgt Loss: 0.05446\n"
     ]
    },
    {
     "name": "stderr",
     "output_type": "stream",
     "text": [
      "100%|██████████████████████████████████████████████████████████████████████████████████████████████████████████████████| 7/7 [00:00<00:00, 508.58it/s]\n",
      "100%|██████████████████████████████████████████████████████████████████████████████████████████████████████████████████| 2/2 [00:00<00:00, 391.06it/s]\n",
      "100%|██████████████████████████████████████████████████████████████████████████████████████████████████████████████████| 2/2 [00:00<00:00, 403.43it/s]\n",
      "100%|██████████████████████████████████████████████████████████████████████████████████████████████████████████████████| 1/1 [00:00<00:00, 428.56it/s]\n"
     ]
    },
    {
     "name": "stdout",
     "output_type": "stream",
     "text": [
      "Epoch 23/500 Train Total Loss: 0.07237 Train Src Loss: 0.01163 Train Tgt Loss: 0.06074 \n",
      "                 Val Total Loss: 0.32504 Val Src Loss: 0.2617 Val Tgt Loss: 0.06333\n"
     ]
    },
    {
     "name": "stderr",
     "output_type": "stream",
     "text": [
      "100%|██████████████████████████████████████████████████████████████████████████████████████████████████████████████████| 7/7 [00:00<00:00, 555.24it/s]\n",
      "100%|██████████████████████████████████████████████████████████████████████████████████████████████████████████████████| 2/2 [00:00<00:00, 314.88it/s]\n",
      "100%|██████████████████████████████████████████████████████████████████████████████████████████████████████████████████| 2/2 [00:00<00:00, 196.79it/s]\n",
      "100%|██████████████████████████████████████████████████████████████████████████████████████████████████████████████████| 1/1 [00:00<00:00, 100.92it/s]\n"
     ]
    },
    {
     "name": "stdout",
     "output_type": "stream",
     "text": [
      "Epoch 24/500 Train Total Loss: 0.06973 Train Src Loss: 0.01061 Train Tgt Loss: 0.05911 \n",
      "                 Val Total Loss: 0.31655 Val Src Loss: 0.25742 Val Tgt Loss: 0.05913\n"
     ]
    },
    {
     "name": "stderr",
     "output_type": "stream",
     "text": [
      "100%|██████████████████████████████████████████████████████████████████████████████████████████████████████████████████| 7/7 [00:00<00:00, 149.44it/s]\n",
      "100%|██████████████████████████████████████████████████████████████████████████████████████████████████████████████████| 2/2 [00:00<00:00, 124.08it/s]\n",
      "100%|██████████████████████████████████████████████████████████████████████████████████████████████████████████████████| 2/2 [00:00<00:00, 186.22it/s]\n",
      "100%|██████████████████████████████████████████████████████████████████████████████████████████████████████████████████| 1/1 [00:00<00:00, 106.88it/s]\n"
     ]
    },
    {
     "name": "stdout",
     "output_type": "stream",
     "text": [
      "Epoch 25/500 Train Total Loss: 0.0712 Train Src Loss: 0.01058 Train Tgt Loss: 0.06063 \n",
      "                 Val Total Loss: 0.3126 Val Src Loss: 0.26334 Val Tgt Loss: 0.04926\n"
     ]
    },
    {
     "name": "stderr",
     "output_type": "stream",
     "text": [
      "100%|██████████████████████████████████████████████████████████████████████████████████████████████████████████████████| 7/7 [00:00<00:00, 136.64it/s]\n",
      "100%|██████████████████████████████████████████████████████████████████████████████████████████████████████████████████| 2/2 [00:00<00:00, 227.17it/s]\n",
      "100%|██████████████████████████████████████████████████████████████████████████████████████████████████████████████████| 2/2 [00:00<00:00, 179.57it/s]\n",
      "100%|██████████████████████████████████████████████████████████████████████████████████████████████████████████████████| 1/1 [00:00<00:00, 163.76it/s]\n"
     ]
    },
    {
     "name": "stdout",
     "output_type": "stream",
     "text": [
      "Epoch 26/500 Train Total Loss: 0.0666 Train Src Loss: 0.0117 Train Tgt Loss: 0.0549 \n",
      "                 Val Total Loss: 0.31698 Val Src Loss: 0.26771 Val Tgt Loss: 0.04926\n"
     ]
    },
    {
     "name": "stderr",
     "output_type": "stream",
     "text": [
      "100%|██████████████████████████████████████████████████████████████████████████████████████████████████████████████████| 7/7 [00:00<00:00, 218.14it/s]\n",
      "100%|██████████████████████████████████████████████████████████████████████████████████████████████████████████████████| 2/2 [00:00<00:00, 151.93it/s]\n",
      "100%|██████████████████████████████████████████████████████████████████████████████████████████████████████████████████| 2/2 [00:00<00:00, 289.43it/s]\n",
      "100%|██████████████████████████████████████████████████████████████████████████████████████████████████████████████████| 1/1 [00:00<00:00, 382.69it/s]\n"
     ]
    },
    {
     "name": "stdout",
     "output_type": "stream",
     "text": [
      "Epoch 27/500 Train Total Loss: 0.07061 Train Src Loss: 0.01135 Train Tgt Loss: 0.05926 \n",
      "                 Val Total Loss: 0.30898 Val Src Loss: 0.25913 Val Tgt Loss: 0.04985\n"
     ]
    },
    {
     "name": "stderr",
     "output_type": "stream",
     "text": [
      "100%|██████████████████████████████████████████████████████████████████████████████████████████████████████████████████| 7/7 [00:00<00:00, 352.61it/s]\n",
      "100%|██████████████████████████████████████████████████████████████████████████████████████████████████████████████████| 2/2 [00:00<00:00, 249.34it/s]\n",
      "100%|██████████████████████████████████████████████████████████████████████████████████████████████████████████████████| 2/2 [00:00<00:00, 368.02it/s]\n",
      "100%|██████████████████████████████████████████████████████████████████████████████████████████████████████████████████| 1/1 [00:00<00:00, 265.09it/s]\n"
     ]
    },
    {
     "name": "stdout",
     "output_type": "stream",
     "text": [
      "Epoch 28/500 Train Total Loss: 0.07143 Train Src Loss: 0.01158 Train Tgt Loss: 0.05985 \n",
      "                 Val Total Loss: 0.31187 Val Src Loss: 0.26594 Val Tgt Loss: 0.04594\n"
     ]
    },
    {
     "name": "stderr",
     "output_type": "stream",
     "text": [
      "100%|██████████████████████████████████████████████████████████████████████████████████████████████████████████████████| 7/7 [00:00<00:00, 372.31it/s]\n",
      "100%|██████████████████████████████████████████████████████████████████████████████████████████████████████████████████| 2/2 [00:00<00:00, 257.17it/s]\n",
      "100%|██████████████████████████████████████████████████████████████████████████████████████████████████████████████████| 2/2 [00:00<00:00, 372.78it/s]\n",
      "100%|██████████████████████████████████████████████████████████████████████████████████████████████████████████████████| 1/1 [00:00<00:00, 274.89it/s]\n"
     ]
    },
    {
     "name": "stdout",
     "output_type": "stream",
     "text": [
      "Epoch 29/500 Train Total Loss: 0.0735 Train Src Loss: 0.01062 Train Tgt Loss: 0.06288 \n",
      "                 Val Total Loss: 0.31393 Val Src Loss: 0.26593 Val Tgt Loss: 0.048\n"
     ]
    },
    {
     "name": "stderr",
     "output_type": "stream",
     "text": [
      "100%|██████████████████████████████████████████████████████████████████████████████████████████████████████████████████| 7/7 [00:00<00:00, 368.35it/s]\n",
      "100%|██████████████████████████████████████████████████████████████████████████████████████████████████████████████████| 2/2 [00:00<00:00, 254.73it/s]\n",
      "100%|██████████████████████████████████████████████████████████████████████████████████████████████████████████████████| 2/2 [00:00<00:00, 412.30it/s]\n",
      "100%|██████████████████████████████████████████████████████████████████████████████████████████████████████████████████| 1/1 [00:00<00:00, 232.63it/s]\n"
     ]
    },
    {
     "name": "stdout",
     "output_type": "stream",
     "text": [
      "Epoch 30/500 Train Total Loss: 0.06208 Train Src Loss: 0.00965 Train Tgt Loss: 0.05244 \n",
      "                 Val Total Loss: 0.29938 Val Src Loss: 0.25481 Val Tgt Loss: 0.04457\n"
     ]
    },
    {
     "name": "stderr",
     "output_type": "stream",
     "text": [
      "100%|██████████████████████████████████████████████████████████████████████████████████████████████████████████████████| 7/7 [00:00<00:00, 131.81it/s]\n",
      "100%|███████████████████████████████████████████████████████████████████████████████████████████████████████████████████| 2/2 [00:00<00:00, 72.63it/s]\n",
      "100%|██████████████████████████████████████████████████████████████████████████████████████████████████████████████████| 2/2 [00:00<00:00, 202.83it/s]\n",
      "100%|██████████████████████████████████████████████████████████████████████████████████████████████████████████████████| 1/1 [00:00<00:00, 144.16it/s]\n"
     ]
    },
    {
     "name": "stdout",
     "output_type": "stream",
     "text": [
      "Epoch 31/500 Train Total Loss: 0.0648 Train Src Loss: 0.01106 Train Tgt Loss: 0.05374 \n",
      "                 Val Total Loss: 0.3023 Val Src Loss: 0.25771 Val Tgt Loss: 0.04459\n",
      "Test: 37 38\n",
      "Adapt train: 36 37\n",
      "Adapt val: 38\n"
     ]
    },
    {
     "name": "stderr",
     "output_type": "stream",
     "text": [
      "100%|██████████████████████████████████████████████████████████████████████████████████████████████████████████████████| 7/7 [00:00<00:00, 163.38it/s]\n",
      "100%|██████████████████████████████████████████████████████████████████████████████████████████████████████████████████| 2/2 [00:00<00:00, 225.79it/s]\n",
      "100%|██████████████████████████████████████████████████████████████████████████████████████████████████████████████████| 2/2 [00:00<00:00, 176.68it/s]\n",
      "100%|██████████████████████████████████████████████████████████████████████████████████████████████████████████████████| 1/1 [00:00<00:00, 212.70it/s]\n"
     ]
    },
    {
     "name": "stdout",
     "output_type": "stream",
     "text": [
      "Epoch 1/500 Train Total Loss: 0.07348 Train Src Loss: 0.01121 Train Tgt Loss: 0.06226 \n",
      "                 Val Total Loss: 0.2757 Val Src Loss: 0.24981 Val Tgt Loss: 0.02589\n"
     ]
    },
    {
     "name": "stderr",
     "output_type": "stream",
     "text": [
      "100%|██████████████████████████████████████████████████████████████████████████████████████████████████████████████████| 7/7 [00:00<00:00, 209.34it/s]\n",
      "100%|██████████████████████████████████████████████████████████████████████████████████████████████████████████████████| 2/2 [00:00<00:00, 192.72it/s]\n",
      "100%|██████████████████████████████████████████████████████████████████████████████████████████████████████████████████| 2/2 [00:00<00:00, 487.57it/s]\n",
      "100%|██████████████████████████████████████████████████████████████████████████████████████████████████████████████████| 1/1 [00:00<00:00, 391.52it/s]\n"
     ]
    },
    {
     "name": "stdout",
     "output_type": "stream",
     "text": [
      "Epoch 2/500 Train Total Loss: 0.07995 Train Src Loss: 0.01247 Train Tgt Loss: 0.06748 \n",
      "                 Val Total Loss: 0.30967 Val Src Loss: 0.2668 Val Tgt Loss: 0.04287\n"
     ]
    },
    {
     "name": "stderr",
     "output_type": "stream",
     "text": [
      "100%|██████████████████████████████████████████████████████████████████████████████████████████████████████████████████| 7/7 [00:00<00:00, 500.99it/s]\n",
      "100%|██████████████████████████████████████████████████████████████████████████████████████████████████████████████████| 2/2 [00:00<00:00, 408.30it/s]\n",
      "100%|██████████████████████████████████████████████████████████████████████████████████████████████████████████████████| 2/2 [00:00<00:00, 539.95it/s]\n",
      "100%|██████████████████████████████████████████████████████████████████████████████████████████████████████████████████| 1/1 [00:00<00:00, 275.42it/s]\n"
     ]
    },
    {
     "name": "stdout",
     "output_type": "stream",
     "text": [
      "Epoch 3/500 Train Total Loss: 0.06615 Train Src Loss: 0.01047 Train Tgt Loss: 0.05568 \n",
      "                 Val Total Loss: 0.30195 Val Src Loss: 0.26385 Val Tgt Loss: 0.0381\n"
     ]
    },
    {
     "name": "stderr",
     "output_type": "stream",
     "text": [
      "100%|██████████████████████████████████████████████████████████████████████████████████████████████████████████████████| 7/7 [00:00<00:00, 485.40it/s]\n",
      "100%|██████████████████████████████████████████████████████████████████████████████████████████████████████████████████| 2/2 [00:00<00:00, 398.87it/s]\n",
      "100%|██████████████████████████████████████████████████████████████████████████████████████████████████████████████████| 2/2 [00:00<00:00, 361.87it/s]\n",
      "100%|██████████████████████████████████████████████████████████████████████████████████████████████████████████████████| 1/1 [00:00<00:00, 263.38it/s]\n"
     ]
    },
    {
     "name": "stdout",
     "output_type": "stream",
     "text": [
      "Epoch 4/500 Train Total Loss: 0.07937 Train Src Loss: 0.01216 Train Tgt Loss: 0.06721 \n",
      "                 Val Total Loss: 0.29192 Val Src Loss: 0.25178 Val Tgt Loss: 0.04014\n"
     ]
    },
    {
     "name": "stderr",
     "output_type": "stream",
     "text": [
      "100%|██████████████████████████████████████████████████████████████████████████████████████████████████████████████████| 7/7 [00:00<00:00, 511.41it/s]\n",
      "100%|██████████████████████████████████████████████████████████████████████████████████████████████████████████████████| 2/2 [00:00<00:00, 173.54it/s]\n",
      "100%|███████████████████████████████████████████████████████████████████████████████████████████████████████████████████| 2/2 [00:00<00:00, 88.26it/s]\n",
      "100%|███████████████████████████████████████████████████████████████████████████████████████████████████████████████████| 1/1 [00:00<00:00, 57.06it/s]\n"
     ]
    },
    {
     "name": "stdout",
     "output_type": "stream",
     "text": [
      "Epoch 5/500 Train Total Loss: 0.07619 Train Src Loss: 0.01116 Train Tgt Loss: 0.06503 \n",
      "                 Val Total Loss: 0.30367 Val Src Loss: 0.26599 Val Tgt Loss: 0.03768\n"
     ]
    },
    {
     "name": "stderr",
     "output_type": "stream",
     "text": [
      "100%|██████████████████████████████████████████████████████████████████████████████████████████████████████████████████| 7/7 [00:00<00:00, 145.44it/s]\n",
      "100%|██████████████████████████████████████████████████████████████████████████████████████████████████████████████████| 2/2 [00:00<00:00, 124.99it/s]\n",
      "100%|██████████████████████████████████████████████████████████████████████████████████████████████████████████████████| 2/2 [00:00<00:00, 119.90it/s]\n",
      "100%|██████████████████████████████████████████████████████████████████████████████████████████████████████████████████| 1/1 [00:00<00:00, 107.45it/s]\n"
     ]
    },
    {
     "name": "stdout",
     "output_type": "stream",
     "text": [
      "Epoch 6/500 Train Total Loss: 0.07311 Train Src Loss: 0.01124 Train Tgt Loss: 0.06187 \n",
      "                 Val Total Loss: 0.30179 Val Src Loss: 0.26917 Val Tgt Loss: 0.03261\n"
     ]
    },
    {
     "name": "stderr",
     "output_type": "stream",
     "text": [
      "100%|██████████████████████████████████████████████████████████████████████████████████████████████████████████████████| 7/7 [00:00<00:00, 224.62it/s]\n",
      "100%|██████████████████████████████████████████████████████████████████████████████████████████████████████████████████| 2/2 [00:00<00:00, 199.20it/s]\n",
      "100%|██████████████████████████████████████████████████████████████████████████████████████████████████████████████████| 2/2 [00:00<00:00, 265.99it/s]\n",
      "100%|██████████████████████████████████████████████████████████████████████████████████████████████████████████████████| 1/1 [00:00<00:00, 112.22it/s]\n"
     ]
    },
    {
     "name": "stdout",
     "output_type": "stream",
     "text": [
      "Epoch 7/500 Train Total Loss: 0.06919 Train Src Loss: 0.01035 Train Tgt Loss: 0.05884 \n",
      "                 Val Total Loss: 0.28558 Val Src Loss: 0.25252 Val Tgt Loss: 0.03306\n"
     ]
    },
    {
     "name": "stderr",
     "output_type": "stream",
     "text": [
      "100%|██████████████████████████████████████████████████████████████████████████████████████████████████████████████████| 7/7 [00:00<00:00, 254.94it/s]\n",
      "100%|██████████████████████████████████████████████████████████████████████████████████████████████████████████████████| 2/2 [00:00<00:00, 418.68it/s]\n",
      "100%|██████████████████████████████████████████████████████████████████████████████████████████████████████████████████| 2/2 [00:00<00:00, 523.54it/s]\n",
      "100%|██████████████████████████████████████████████████████████████████████████████████████████████████████████████████| 1/1 [00:00<00:00, 292.14it/s]\n"
     ]
    },
    {
     "name": "stdout",
     "output_type": "stream",
     "text": [
      "Epoch 8/500 Train Total Loss: 0.07016 Train Src Loss: 0.01068 Train Tgt Loss: 0.05948 \n",
      "                 Val Total Loss: 0.2843 Val Src Loss: 0.25645 Val Tgt Loss: 0.02785\n"
     ]
    },
    {
     "name": "stderr",
     "output_type": "stream",
     "text": [
      "100%|██████████████████████████████████████████████████████████████████████████████████████████████████████████████████| 7/7 [00:00<00:00, 432.83it/s]\n",
      "100%|██████████████████████████████████████████████████████████████████████████████████████████████████████████████████| 2/2 [00:00<00:00, 255.63it/s]\n",
      "100%|██████████████████████████████████████████████████████████████████████████████████████████████████████████████████| 2/2 [00:00<00:00, 562.28it/s]\n",
      "100%|██████████████████████████████████████████████████████████████████████████████████████████████████████████████████| 1/1 [00:00<00:00, 429.04it/s]\n"
     ]
    },
    {
     "name": "stdout",
     "output_type": "stream",
     "text": [
      "Epoch 9/500 Train Total Loss: 0.06147 Train Src Loss: 0.00944 Train Tgt Loss: 0.05204 \n",
      "                 Val Total Loss: 0.30103 Val Src Loss: 0.25954 Val Tgt Loss: 0.0415\n"
     ]
    },
    {
     "name": "stderr",
     "output_type": "stream",
     "text": [
      "100%|██████████████████████████████████████████████████████████████████████████████████████████████████████████████████| 7/7 [00:00<00:00, 542.76it/s]\n",
      "100%|██████████████████████████████████████████████████████████████████████████████████████████████████████████████████| 2/2 [00:00<00:00, 427.95it/s]\n",
      "100%|██████████████████████████████████████████████████████████████████████████████████████████████████████████████████| 2/2 [00:00<00:00, 399.91it/s]\n",
      "100%|██████████████████████████████████████████████████████████████████████████████████████████████████████████████████| 1/1 [00:00<00:00, 276.67it/s]\n"
     ]
    },
    {
     "name": "stdout",
     "output_type": "stream",
     "text": [
      "Epoch 10/500 Train Total Loss: 0.06132 Train Src Loss: 0.01025 Train Tgt Loss: 0.05107 \n",
      "                 Val Total Loss: 0.30319 Val Src Loss: 0.26161 Val Tgt Loss: 0.04157\n"
     ]
    },
    {
     "name": "stderr",
     "output_type": "stream",
     "text": [
      "100%|██████████████████████████████████████████████████████████████████████████████████████████████████████████████████| 7/7 [00:00<00:00, 370.01it/s]\n",
      "100%|██████████████████████████████████████████████████████████████████████████████████████████████████████████████████| 2/2 [00:00<00:00, 151.40it/s]\n",
      "100%|██████████████████████████████████████████████████████████████████████████████████████████████████████████████████| 2/2 [00:00<00:00, 123.38it/s]\n",
      "100%|███████████████████████████████████████████████████████████████████████████████████████████████████████████████████| 1/1 [00:00<00:00, 54.74it/s]\n"
     ]
    },
    {
     "name": "stdout",
     "output_type": "stream",
     "text": [
      "Epoch 11/500 Train Total Loss: 0.06898 Train Src Loss: 0.00903 Train Tgt Loss: 0.05995 \n",
      "                 Val Total Loss: 0.29566 Val Src Loss: 0.25799 Val Tgt Loss: 0.03767\n"
     ]
    },
    {
     "name": "stderr",
     "output_type": "stream",
     "text": [
      "100%|██████████████████████████████████████████████████████████████████████████████████████████████████████████████████| 7/7 [00:00<00:00, 172.66it/s]\n",
      "100%|██████████████████████████████████████████████████████████████████████████████████████████████████████████████████| 2/2 [00:00<00:00, 125.88it/s]\n",
      "100%|██████████████████████████████████████████████████████████████████████████████████████████████████████████████████| 2/2 [00:00<00:00, 141.86it/s]\n",
      "100%|██████████████████████████████████████████████████████████████████████████████████████████████████████████████████| 1/1 [00:00<00:00, 127.60it/s]\n"
     ]
    },
    {
     "name": "stdout",
     "output_type": "stream",
     "text": [
      "Epoch 12/500 Train Total Loss: 0.06113 Train Src Loss: 0.00975 Train Tgt Loss: 0.05138 \n",
      "                 Val Total Loss: 0.2878 Val Src Loss: 0.25508 Val Tgt Loss: 0.03272\n",
      "Test: 39 40\n",
      "Adapt train: 38 39\n",
      "Adapt val: 40\n"
     ]
    },
    {
     "name": "stderr",
     "output_type": "stream",
     "text": [
      "100%|██████████████████████████████████████████████████████████████████████████████████████████████████████████████████| 7/7 [00:00<00:00, 209.11it/s]\n",
      "100%|██████████████████████████████████████████████████████████████████████████████████████████████████████████████████| 2/2 [00:00<00:00, 193.27it/s]\n",
      "100%|██████████████████████████████████████████████████████████████████████████████████████████████████████████████████| 2/2 [00:00<00:00, 504.09it/s]\n",
      "100%|██████████████████████████████████████████████████████████████████████████████████████████████████████████████████| 1/1 [00:00<00:00, 344.98it/s]\n"
     ]
    },
    {
     "name": "stdout",
     "output_type": "stream",
     "text": [
      "Epoch 1/500 Train Total Loss: 0.0619 Train Src Loss: 0.0114 Train Tgt Loss: 0.0505 \n",
      "                 Val Total Loss: 0.30924 Val Src Loss: 0.2581 Val Tgt Loss: 0.05114\n"
     ]
    },
    {
     "name": "stderr",
     "output_type": "stream",
     "text": [
      "100%|██████████████████████████████████████████████████████████████████████████████████████████████████████████████████| 7/7 [00:00<00:00, 552.08it/s]\n",
      "100%|██████████████████████████████████████████████████████████████████████████████████████████████████████████████████| 2/2 [00:00<00:00, 429.24it/s]\n",
      "100%|██████████████████████████████████████████████████████████████████████████████████████████████████████████████████| 2/2 [00:00<00:00, 412.16it/s]\n",
      "100%|██████████████████████████████████████████████████████████████████████████████████████████████████████████████████| 1/1 [00:00<00:00, 270.88it/s]\n"
     ]
    },
    {
     "name": "stdout",
     "output_type": "stream",
     "text": [
      "Epoch 2/500 Train Total Loss: 0.06768 Train Src Loss: 0.01218 Train Tgt Loss: 0.0555 \n",
      "                 Val Total Loss: 0.32396 Val Src Loss: 0.27763 Val Tgt Loss: 0.04633\n"
     ]
    },
    {
     "name": "stderr",
     "output_type": "stream",
     "text": [
      "100%|██████████████████████████████████████████████████████████████████████████████████████████████████████████████████| 7/7 [00:00<00:00, 558.81it/s]\n",
      "100%|██████████████████████████████████████████████████████████████████████████████████████████████████████████████████| 2/2 [00:00<00:00, 411.37it/s]\n",
      "100%|██████████████████████████████████████████████████████████████████████████████████████████████████████████████████| 2/2 [00:00<00:00, 409.92it/s]\n",
      "100%|██████████████████████████████████████████████████████████████████████████████████████████████████████████████████| 1/1 [00:00<00:00, 347.18it/s]\n"
     ]
    },
    {
     "name": "stdout",
     "output_type": "stream",
     "text": [
      "Epoch 3/500 Train Total Loss: 0.06295 Train Src Loss: 0.0104 Train Tgt Loss: 0.05254 \n",
      "                 Val Total Loss: 0.29853 Val Src Loss: 0.2549 Val Tgt Loss: 0.04363\n"
     ]
    },
    {
     "name": "stderr",
     "output_type": "stream",
     "text": [
      "100%|██████████████████████████████████████████████████████████████████████████████████████████████████████████████████| 7/7 [00:00<00:00, 551.03it/s]\n",
      "100%|██████████████████████████████████████████████████████████████████████████████████████████████████████████████████| 2/2 [00:00<00:00, 427.03it/s]\n",
      "100%|██████████████████████████████████████████████████████████████████████████████████████████████████████████████████| 2/2 [00:00<00:00, 179.67it/s]\n",
      "100%|███████████████████████████████████████████████████████████████████████████████████████████████████████████████████| 1/1 [00:00<00:00, 98.28it/s]\n"
     ]
    },
    {
     "name": "stdout",
     "output_type": "stream",
     "text": [
      "Epoch 4/500 Train Total Loss: 0.06121 Train Src Loss: 0.01124 Train Tgt Loss: 0.04997 \n",
      "                 Val Total Loss: 0.31127 Val Src Loss: 0.26462 Val Tgt Loss: 0.04664\n"
     ]
    },
    {
     "name": "stderr",
     "output_type": "stream",
     "text": [
      "100%|██████████████████████████████████████████████████████████████████████████████████████████████████████████████████| 7/7 [00:00<00:00, 145.50it/s]\n",
      "100%|██████████████████████████████████████████████████████████████████████████████████████████████████████████████████| 2/2 [00:00<00:00, 199.72it/s]\n",
      "100%|██████████████████████████████████████████████████████████████████████████████████████████████████████████████████| 2/2 [00:00<00:00, 247.35it/s]\n",
      "100%|██████████████████████████████████████████████████████████████████████████████████████████████████████████████████| 1/1 [00:00<00:00, 149.98it/s]\n"
     ]
    },
    {
     "name": "stdout",
     "output_type": "stream",
     "text": [
      "Epoch 5/500 Train Total Loss: 0.06518 Train Src Loss: 0.0096 Train Tgt Loss: 0.05558 \n",
      "                 Val Total Loss: 0.31177 Val Src Loss: 0.26419 Val Tgt Loss: 0.04758\n"
     ]
    },
    {
     "name": "stderr",
     "output_type": "stream",
     "text": [
      "100%|██████████████████████████████████████████████████████████████████████████████████████████████████████████████████| 7/7 [00:00<00:00, 146.10it/s]\n",
      "100%|██████████████████████████████████████████████████████████████████████████████████████████████████████████████████| 2/2 [00:00<00:00, 122.05it/s]\n",
      "100%|██████████████████████████████████████████████████████████████████████████████████████████████████████████████████| 2/2 [00:00<00:00, 314.66it/s]\n",
      "100%|██████████████████████████████████████████████████████████████████████████████████████████████████████████████████| 1/1 [00:00<00:00, 144.05it/s]\n"
     ]
    },
    {
     "name": "stdout",
     "output_type": "stream",
     "text": [
      "Epoch 6/500 Train Total Loss: 0.06242 Train Src Loss: 0.0111 Train Tgt Loss: 0.05133 \n",
      "                 Val Total Loss: 0.308 Val Src Loss: 0.25832 Val Tgt Loss: 0.04968\n"
     ]
    },
    {
     "name": "stderr",
     "output_type": "stream",
     "text": [
      "100%|██████████████████████████████████████████████████████████████████████████████████████████████████████████████████| 7/7 [00:00<00:00, 236.60it/s]\n",
      "100%|██████████████████████████████████████████████████████████████████████████████████████████████████████████████████| 2/2 [00:00<00:00, 120.99it/s]\n",
      "100%|██████████████████████████████████████████████████████████████████████████████████████████████████████████████████| 2/2 [00:00<00:00, 276.82it/s]\n",
      "100%|██████████████████████████████████████████████████████████████████████████████████████████████████████████████████| 1/1 [00:00<00:00, 261.52it/s]\n"
     ]
    },
    {
     "name": "stdout",
     "output_type": "stream",
     "text": [
      "Epoch 7/500 Train Total Loss: 0.06115 Train Src Loss: 0.01196 Train Tgt Loss: 0.04919 \n",
      "                 Val Total Loss: 0.30724 Val Src Loss: 0.25331 Val Tgt Loss: 0.05393\n"
     ]
    },
    {
     "name": "stderr",
     "output_type": "stream",
     "text": [
      "100%|██████████████████████████████████████████████████████████████████████████████████████████████████████████████████| 7/7 [00:00<00:00, 508.12it/s]\n",
      "100%|██████████████████████████████████████████████████████████████████████████████████████████████████████████████████| 2/2 [00:00<00:00, 438.00it/s]\n",
      "100%|██████████████████████████████████████████████████████████████████████████████████████████████████████████████████| 2/2 [00:00<00:00, 584.12it/s]\n",
      "100%|██████████████████████████████████████████████████████████████████████████████████████████████████████████████████| 1/1 [00:00<00:00, 390.71it/s]\n"
     ]
    },
    {
     "name": "stdout",
     "output_type": "stream",
     "text": [
      "Epoch 8/500 Train Total Loss: 0.05804 Train Src Loss: 0.00981 Train Tgt Loss: 0.04823 \n",
      "                 Val Total Loss: 0.31115 Val Src Loss: 0.26473 Val Tgt Loss: 0.04642\n"
     ]
    },
    {
     "name": "stderr",
     "output_type": "stream",
     "text": [
      "100%|██████████████████████████████████████████████████████████████████████████████████████████████████████████████████| 7/7 [00:00<00:00, 565.23it/s]\n",
      "100%|██████████████████████████████████████████████████████████████████████████████████████████████████████████████████| 2/2 [00:00<00:00, 425.86it/s]\n",
      "100%|██████████████████████████████████████████████████████████████████████████████████████████████████████████████████| 2/2 [00:00<00:00, 580.65it/s]\n",
      "100%|██████████████████████████████████████████████████████████████████████████████████████████████████████████████████| 1/1 [00:00<00:00, 401.41it/s]\n"
     ]
    },
    {
     "name": "stdout",
     "output_type": "stream",
     "text": [
      "Epoch 9/500 Train Total Loss: 0.06746 Train Src Loss: 0.0108 Train Tgt Loss: 0.05666 \n",
      "                 Val Total Loss: 0.2967 Val Src Loss: 0.25269 Val Tgt Loss: 0.04401\n"
     ]
    },
    {
     "name": "stderr",
     "output_type": "stream",
     "text": [
      "100%|██████████████████████████████████████████████████████████████████████████████████████████████████████████████████| 7/7 [00:00<00:00, 555.34it/s]\n",
      "100%|██████████████████████████████████████████████████████████████████████████████████████████████████████████████████| 2/2 [00:00<00:00, 434.31it/s]\n",
      "100%|██████████████████████████████████████████████████████████████████████████████████████████████████████████████████| 2/2 [00:00<00:00, 580.65it/s]\n",
      "100%|██████████████████████████████████████████████████████████████████████████████████████████████████████████████████| 1/1 [00:00<00:00, 412.91it/s]\n"
     ]
    },
    {
     "name": "stdout",
     "output_type": "stream",
     "text": [
      "Epoch 10/500 Train Total Loss: 0.05753 Train Src Loss: 0.01024 Train Tgt Loss: 0.0473 \n",
      "                 Val Total Loss: 0.28959 Val Src Loss: 0.24948 Val Tgt Loss: 0.0401\n"
     ]
    },
    {
     "name": "stderr",
     "output_type": "stream",
     "text": [
      "100%|██████████████████████████████████████████████████████████████████████████████████████████████████████████████████| 7/7 [00:00<00:00, 223.75it/s]\n",
      "100%|███████████████████████████████████████████████████████████████████████████████████████████████████████████████████| 2/2 [00:00<00:00, 48.77it/s]\n",
      "100%|██████████████████████████████████████████████████████████████████████████████████████████████████████████████████| 2/2 [00:00<00:00, 317.89it/s]\n",
      "100%|██████████████████████████████████████████████████████████████████████████████████████████████████████████████████| 1/1 [00:00<00:00, 316.79it/s]\n"
     ]
    },
    {
     "name": "stdout",
     "output_type": "stream",
     "text": [
      "Epoch 11/500 Train Total Loss: 0.05808 Train Src Loss: 0.01105 Train Tgt Loss: 0.04703 \n",
      "                 Val Total Loss: 0.30544 Val Src Loss: 0.25693 Val Tgt Loss: 0.04851\n"
     ]
    },
    {
     "name": "stderr",
     "output_type": "stream",
     "text": [
      "100%|██████████████████████████████████████████████████████████████████████████████████████████████████████████████████| 7/7 [00:00<00:00, 190.88it/s]\n",
      "100%|██████████████████████████████████████████████████████████████████████████████████████████████████████████████████| 2/2 [00:00<00:00, 101.51it/s]\n",
      "100%|██████████████████████████████████████████████████████████████████████████████████████████████████████████████████| 2/2 [00:00<00:00, 160.21it/s]\n",
      "100%|██████████████████████████████████████████████████████████████████████████████████████████████████████████████████| 1/1 [00:00<00:00, 217.39it/s]\n"
     ]
    },
    {
     "name": "stdout",
     "output_type": "stream",
     "text": [
      "Epoch 12/500 Train Total Loss: 0.05576 Train Src Loss: 0.00985 Train Tgt Loss: 0.04591 \n",
      "                 Val Total Loss: 0.29008 Val Src Loss: 0.24819 Val Tgt Loss: 0.04188\n"
     ]
    },
    {
     "name": "stderr",
     "output_type": "stream",
     "text": [
      "100%|██████████████████████████████████████████████████████████████████████████████████████████████████████████████████| 7/7 [00:00<00:00, 214.03it/s]\n",
      "100%|██████████████████████████████████████████████████████████████████████████████████████████████████████████████████| 2/2 [00:00<00:00, 186.71it/s]\n",
      "100%|██████████████████████████████████████████████████████████████████████████████████████████████████████████████████| 2/2 [00:00<00:00, 199.82it/s]\n",
      "100%|██████████████████████████████████████████████████████████████████████████████████████████████████████████████████| 1/1 [00:00<00:00, 200.36it/s]\n"
     ]
    },
    {
     "name": "stdout",
     "output_type": "stream",
     "text": [
      "Epoch 13/500 Train Total Loss: 0.05812 Train Src Loss: 0.01194 Train Tgt Loss: 0.04618 \n",
      "                 Val Total Loss: 0.30346 Val Src Loss: 0.26026 Val Tgt Loss: 0.0432\n"
     ]
    },
    {
     "name": "stderr",
     "output_type": "stream",
     "text": [
      "100%|██████████████████████████████████████████████████████████████████████████████████████████████████████████████████| 7/7 [00:00<00:00, 275.04it/s]\n",
      "100%|██████████████████████████████████████████████████████████████████████████████████████████████████████████████████| 2/2 [00:00<00:00, 391.26it/s]\n",
      "100%|██████████████████████████████████████████████████████████████████████████████████████████████████████████████████| 2/2 [00:00<00:00, 548.38it/s]\n",
      "100%|██████████████████████████████████████████████████████████████████████████████████████████████████████████████████| 1/1 [00:00<00:00, 275.80it/s]\n"
     ]
    },
    {
     "name": "stdout",
     "output_type": "stream",
     "text": [
      "Epoch 14/500 Train Total Loss: 0.0592 Train Src Loss: 0.0111 Train Tgt Loss: 0.0481 \n",
      "                 Val Total Loss: 0.30499 Val Src Loss: 0.26198 Val Tgt Loss: 0.04301\n"
     ]
    },
    {
     "name": "stderr",
     "output_type": "stream",
     "text": [
      "100%|██████████████████████████████████████████████████████████████████████████████████████████████████████████████████| 7/7 [00:00<00:00, 523.53it/s]\n",
      "100%|██████████████████████████████████████████████████████████████████████████████████████████████████████████████████| 2/2 [00:00<00:00, 394.89it/s]\n",
      "100%|██████████████████████████████████████████████████████████████████████████████████████████████████████████████████| 2/2 [00:00<00:00, 464.31it/s]\n",
      "100%|██████████████████████████████████████████████████████████████████████████████████████████████████████████████████| 1/1 [00:00<00:00, 256.66it/s]\n"
     ]
    },
    {
     "name": "stdout",
     "output_type": "stream",
     "text": [
      "Epoch 15/500 Train Total Loss: 0.05175 Train Src Loss: 0.0109 Train Tgt Loss: 0.04085 \n",
      "                 Val Total Loss: 0.30404 Val Src Loss: 0.2619 Val Tgt Loss: 0.04214\n"
     ]
    },
    {
     "name": "stderr",
     "output_type": "stream",
     "text": [
      "100%|██████████████████████████████████████████████████████████████████████████████████████████████████████████████████| 7/7 [00:00<00:00, 517.23it/s]\n",
      "100%|██████████████████████████████████████████████████████████████████████████████████████████████████████████████████| 2/2 [00:00<00:00, 399.67it/s]\n",
      "100%|██████████████████████████████████████████████████████████████████████████████████████████████████████████████████| 2/2 [00:00<00:00, 545.21it/s]\n",
      "100%|██████████████████████████████████████████████████████████████████████████████████████████████████████████████████| 1/1 [00:00<00:00, 307.77it/s]\n"
     ]
    },
    {
     "name": "stdout",
     "output_type": "stream",
     "text": [
      "Epoch 16/500 Train Total Loss: 0.06087 Train Src Loss: 0.01066 Train Tgt Loss: 0.05021 \n",
      "                 Val Total Loss: 0.28864 Val Src Loss: 0.24558 Val Tgt Loss: 0.04306\n"
     ]
    },
    {
     "name": "stderr",
     "output_type": "stream",
     "text": [
      "100%|██████████████████████████████████████████████████████████████████████████████████████████████████████████████████| 7/7 [00:00<00:00, 332.72it/s]\n",
      "100%|██████████████████████████████████████████████████████████████████████████████████████████████████████████████████| 2/2 [00:00<00:00, 117.45it/s]\n",
      "100%|███████████████████████████████████████████████████████████████████████████████████████████████████████████████████| 2/2 [00:00<00:00, 78.17it/s]\n",
      "100%|██████████████████████████████████████████████████████████████████████████████████████████████████████████████████| 1/1 [00:00<00:00, 201.95it/s]\n"
     ]
    },
    {
     "name": "stdout",
     "output_type": "stream",
     "text": [
      "Epoch 17/500 Train Total Loss: 0.05591 Train Src Loss: 0.01154 Train Tgt Loss: 0.04437 \n",
      "                 Val Total Loss: 0.27896 Val Src Loss: 0.24436 Val Tgt Loss: 0.03461\n"
     ]
    },
    {
     "name": "stderr",
     "output_type": "stream",
     "text": [
      "100%|██████████████████████████████████████████████████████████████████████████████████████████████████████████████████| 7/7 [00:00<00:00, 202.67it/s]\n",
      "100%|██████████████████████████████████████████████████████████████████████████████████████████████████████████████████| 2/2 [00:00<00:00, 126.53it/s]\n",
      "100%|██████████████████████████████████████████████████████████████████████████████████████████████████████████████████| 2/2 [00:00<00:00, 142.42it/s]\n",
      "100%|██████████████████████████████████████████████████████████████████████████████████████████████████████████████████| 1/1 [00:00<00:00, 126.50it/s]\n"
     ]
    },
    {
     "name": "stdout",
     "output_type": "stream",
     "text": [
      "Epoch 18/500 Train Total Loss: 0.05656 Train Src Loss: 0.01111 Train Tgt Loss: 0.04545 \n",
      "                 Val Total Loss: 0.30114 Val Src Loss: 0.25823 Val Tgt Loss: 0.04291\n"
     ]
    },
    {
     "name": "stderr",
     "output_type": "stream",
     "text": [
      "100%|██████████████████████████████████████████████████████████████████████████████████████████████████████████████████| 7/7 [00:00<00:00, 191.07it/s]\n",
      "100%|██████████████████████████████████████████████████████████████████████████████████████████████████████████████████| 2/2 [00:00<00:00, 211.82it/s]\n",
      "100%|██████████████████████████████████████████████████████████████████████████████████████████████████████████████████| 2/2 [00:00<00:00, 316.01it/s]\n",
      "100%|██████████████████████████████████████████████████████████████████████████████████████████████████████████████████| 1/1 [00:00<00:00, 119.46it/s]\n"
     ]
    },
    {
     "name": "stdout",
     "output_type": "stream",
     "text": [
      "Epoch 19/500 Train Total Loss: 0.05016 Train Src Loss: 0.01035 Train Tgt Loss: 0.03981 \n",
      "                 Val Total Loss: 0.29881 Val Src Loss: 0.25332 Val Tgt Loss: 0.0455\n"
     ]
    },
    {
     "name": "stderr",
     "output_type": "stream",
     "text": [
      "100%|██████████████████████████████████████████████████████████████████████████████████████████████████████████████████| 7/7 [00:00<00:00, 255.86it/s]\n",
      "100%|██████████████████████████████████████████████████████████████████████████████████████████████████████████████████| 2/2 [00:00<00:00, 404.11it/s]\n",
      "100%|██████████████████████████████████████████████████████████████████████████████████████████████████████████████████| 2/2 [00:00<00:00, 543.76it/s]\n",
      "100%|██████████████████████████████████████████████████████████████████████████████████████████████████████████████████| 1/1 [00:00<00:00, 270.06it/s]\n"
     ]
    },
    {
     "name": "stdout",
     "output_type": "stream",
     "text": [
      "Epoch 20/500 Train Total Loss: 0.04833 Train Src Loss: 0.0106 Train Tgt Loss: 0.03774 \n",
      "                 Val Total Loss: 0.30258 Val Src Loss: 0.26361 Val Tgt Loss: 0.03897\n"
     ]
    },
    {
     "name": "stderr",
     "output_type": "stream",
     "text": [
      "100%|██████████████████████████████████████████████████████████████████████████████████████████████████████████████████| 7/7 [00:00<00:00, 563.61it/s]\n",
      "100%|██████████████████████████████████████████████████████████████████████████████████████████████████████████████████| 2/2 [00:00<00:00, 432.87it/s]\n",
      "100%|██████████████████████████████████████████████████████████████████████████████████████████████████████████████████| 2/2 [00:00<00:00, 592.29it/s]\n",
      "100%|██████████████████████████████████████████████████████████████████████████████████████████████████████████████████| 1/1 [00:00<00:00, 431.91it/s]\n"
     ]
    },
    {
     "name": "stdout",
     "output_type": "stream",
     "text": [
      "Epoch 21/500 Train Total Loss: 0.0538 Train Src Loss: 0.01023 Train Tgt Loss: 0.04357 \n",
      "                 Val Total Loss: 0.27019 Val Src Loss: 0.23621 Val Tgt Loss: 0.03398\n"
     ]
    },
    {
     "name": "stderr",
     "output_type": "stream",
     "text": [
      "100%|██████████████████████████████████████████████████████████████████████████████████████████████████████████████████| 7/7 [00:00<00:00, 554.60it/s]\n",
      "100%|██████████████████████████████████████████████████████████████████████████████████████████████████████████████████| 2/2 [00:00<00:00, 434.31it/s]\n",
      "100%|██████████████████████████████████████████████████████████████████████████████████████████████████████████████████| 2/2 [00:00<00:00, 574.68it/s]\n",
      "100%|██████████████████████████████████████████████████████████████████████████████████████████████████████████████████| 1/1 [00:00<00:00, 411.81it/s]\n"
     ]
    },
    {
     "name": "stdout",
     "output_type": "stream",
     "text": [
      "Epoch 22/500 Train Total Loss: 0.05375 Train Src Loss: 0.01125 Train Tgt Loss: 0.04249 \n",
      "                 Val Total Loss: 0.29589 Val Src Loss: 0.25673 Val Tgt Loss: 0.03915\n"
     ]
    },
    {
     "name": "stderr",
     "output_type": "stream",
     "text": [
      "100%|██████████████████████████████████████████████████████████████████████████████████████████████████████████████████| 7/7 [00:00<00:00, 566.74it/s]\n",
      "100%|██████████████████████████████████████████████████████████████████████████████████████████████████████████████████| 2/2 [00:00<00:00, 321.35it/s]\n",
      "100%|██████████████████████████████████████████████████████████████████████████████████████████████████████████████████| 2/2 [00:00<00:00, 190.20it/s]\n",
      "100%|███████████████████████████████████████████████████████████████████████████████████████████████████████████████████| 1/1 [00:00<00:00, 60.98it/s]\n"
     ]
    },
    {
     "name": "stdout",
     "output_type": "stream",
     "text": [
      "Epoch 23/500 Train Total Loss: 0.05057 Train Src Loss: 0.00984 Train Tgt Loss: 0.04072 \n",
      "                 Val Total Loss: 0.29256 Val Src Loss: 0.26181 Val Tgt Loss: 0.03075\n"
     ]
    },
    {
     "name": "stderr",
     "output_type": "stream",
     "text": [
      "100%|██████████████████████████████████████████████████████████████████████████████████████████████████████████████████| 7/7 [00:00<00:00, 183.89it/s]\n",
      "100%|██████████████████████████████████████████████████████████████████████████████████████████████████████████████████| 2/2 [00:00<00:00, 128.90it/s]\n",
      "100%|██████████████████████████████████████████████████████████████████████████████████████████████████████████████████| 2/2 [00:00<00:00, 289.70it/s]\n",
      "100%|██████████████████████████████████████████████████████████████████████████████████████████████████████████████████| 1/1 [00:00<00:00, 154.21it/s]\n"
     ]
    },
    {
     "name": "stdout",
     "output_type": "stream",
     "text": [
      "Epoch 24/500 Train Total Loss: 0.05057 Train Src Loss: 0.00974 Train Tgt Loss: 0.04083 \n",
      "                 Val Total Loss: 0.29267 Val Src Loss: 0.2524 Val Tgt Loss: 0.04028\n"
     ]
    },
    {
     "name": "stderr",
     "output_type": "stream",
     "text": [
      "100%|██████████████████████████████████████████████████████████████████████████████████████████████████████████████████| 7/7 [00:00<00:00, 138.85it/s]\n",
      "100%|██████████████████████████████████████████████████████████████████████████████████████████████████████████████████| 2/2 [00:00<00:00, 155.67it/s]\n",
      "100%|██████████████████████████████████████████████████████████████████████████████████████████████████████████████████| 2/2 [00:00<00:00, 232.19it/s]\n",
      "100%|██████████████████████████████████████████████████████████████████████████████████████████████████████████████████| 1/1 [00:00<00:00, 143.07it/s]\n"
     ]
    },
    {
     "name": "stdout",
     "output_type": "stream",
     "text": [
      "Epoch 25/500 Train Total Loss: 0.05299 Train Src Loss: 0.01035 Train Tgt Loss: 0.04264 \n",
      "                 Val Total Loss: 0.27851 Val Src Loss: 0.24042 Val Tgt Loss: 0.03809\n"
     ]
    },
    {
     "name": "stderr",
     "output_type": "stream",
     "text": [
      "100%|██████████████████████████████████████████████████████████████████████████████████████████████████████████████████| 7/7 [00:00<00:00, 245.18it/s]\n",
      "100%|██████████████████████████████████████████████████████████████████████████████████████████████████████████████████| 2/2 [00:00<00:00, 148.16it/s]\n",
      "100%|██████████████████████████████████████████████████████████████████████████████████████████████████████████████████| 2/2 [00:00<00:00, 247.74it/s]\n",
      "100%|██████████████████████████████████████████████████████████████████████████████████████████████████████████████████| 1/1 [00:00<00:00, 291.43it/s]\n"
     ]
    },
    {
     "name": "stdout",
     "output_type": "stream",
     "text": [
      "Epoch 26/500 Train Total Loss: 0.0492 Train Src Loss: 0.01098 Train Tgt Loss: 0.03822 \n",
      "                 Val Total Loss: 0.28093 Val Src Loss: 0.24431 Val Tgt Loss: 0.03662\n"
     ]
    },
    {
     "name": "stderr",
     "output_type": "stream",
     "text": [
      "100%|██████████████████████████████████████████████████████████████████████████████████████████████████████████████████| 7/7 [00:00<00:00, 555.41it/s]\n",
      "100%|██████████████████████████████████████████████████████████████████████████████████████████████████████████████████| 2/2 [00:00<00:00, 414.42it/s]\n",
      "100%|██████████████████████████████████████████████████████████████████████████████████████████████████████████████████| 2/2 [00:00<00:00, 437.68it/s]\n",
      "100%|██████████████████████████████████████████████████████████████████████████████████████████████████████████████████| 1/1 [00:00<00:00, 294.90it/s]\n"
     ]
    },
    {
     "name": "stdout",
     "output_type": "stream",
     "text": [
      "Epoch 27/500 Train Total Loss: 0.04819 Train Src Loss: 0.01009 Train Tgt Loss: 0.03811 \n",
      "                 Val Total Loss: 0.27468 Val Src Loss: 0.23976 Val Tgt Loss: 0.03492\n"
     ]
    },
    {
     "name": "stderr",
     "output_type": "stream",
     "text": [
      "100%|██████████████████████████████████████████████████████████████████████████████████████████████████████████████████| 7/7 [00:00<00:00, 555.36it/s]\n",
      "100%|██████████████████████████████████████████████████████████████████████████████████████████████████████████████████| 2/2 [00:00<00:00, 434.69it/s]\n",
      "100%|██████████████████████████████████████████████████████████████████████████████████████████████████████████████████| 2/2 [00:00<00:00, 413.84it/s]\n",
      "100%|██████████████████████████████████████████████████████████████████████████████████████████████████████████████████| 1/1 [00:00<00:00, 316.84it/s]\n"
     ]
    },
    {
     "name": "stdout",
     "output_type": "stream",
     "text": [
      "Epoch 28/500 Train Total Loss: 0.04857 Train Src Loss: 0.0099 Train Tgt Loss: 0.03866 \n",
      "                 Val Total Loss: 0.29985 Val Src Loss: 0.25964 Val Tgt Loss: 0.04021\n"
     ]
    },
    {
     "name": "stderr",
     "output_type": "stream",
     "text": [
      "100%|██████████████████████████████████████████████████████████████████████████████████████████████████████████████████| 7/7 [00:00<00:00, 561.44it/s]\n",
      "100%|██████████████████████████████████████████████████████████████████████████████████████████████████████████████████| 2/2 [00:00<00:00, 431.18it/s]\n",
      "100%|██████████████████████████████████████████████████████████████████████████████████████████████████████████████████| 2/2 [00:00<00:00, 596.97it/s]\n",
      "100%|██████████████████████████████████████████████████████████████████████████████████████████████████████████████████| 1/1 [00:00<00:00, 303.58it/s]\n"
     ]
    },
    {
     "name": "stdout",
     "output_type": "stream",
     "text": [
      "Epoch 29/500 Train Total Loss: 0.0507 Train Src Loss: 0.01057 Train Tgt Loss: 0.04013 \n",
      "                 Val Total Loss: 0.29188 Val Src Loss: 0.25941 Val Tgt Loss: 0.03247\n"
     ]
    },
    {
     "name": "stderr",
     "output_type": "stream",
     "text": [
      "100%|██████████████████████████████████████████████████████████████████████████████████████████████████████████████████| 7/7 [00:00<00:00, 288.32it/s]\n",
      "100%|███████████████████████████████████████████████████████████████████████████████████████████████████████████████████| 2/2 [00:00<00:00, 85.43it/s]\n",
      "100%|██████████████████████████████████████████████████████████████████████████████████████████████████████████████████| 2/2 [00:00<00:00, 352.09it/s]\n",
      "100%|██████████████████████████████████████████████████████████████████████████████████████████████████████████████████| 1/1 [00:00<00:00, 324.13it/s]\n"
     ]
    },
    {
     "name": "stdout",
     "output_type": "stream",
     "text": [
      "Epoch 30/500 Train Total Loss: 0.04929 Train Src Loss: 0.01061 Train Tgt Loss: 0.03868 \n",
      "                 Val Total Loss: 0.28043 Val Src Loss: 0.24336 Val Tgt Loss: 0.03707\n"
     ]
    },
    {
     "name": "stderr",
     "output_type": "stream",
     "text": [
      "100%|██████████████████████████████████████████████████████████████████████████████████████████████████████████████████| 7/7 [00:00<00:00, 376.67it/s]\n",
      "100%|██████████████████████████████████████████████████████████████████████████████████████████████████████████████████| 2/2 [00:00<00:00, 190.88it/s]\n",
      "100%|██████████████████████████████████████████████████████████████████████████████████████████████████████████████████| 2/2 [00:00<00:00, 189.79it/s]\n",
      "100%|██████████████████████████████████████████████████████████████████████████████████████████████████████████████████| 1/1 [00:00<00:00, 118.48it/s]\n"
     ]
    },
    {
     "name": "stdout",
     "output_type": "stream",
     "text": [
      "Epoch 31/500 Train Total Loss: 0.04491 Train Src Loss: 0.01079 Train Tgt Loss: 0.03412 \n",
      "                 Val Total Loss: 0.27712 Val Src Loss: 0.23674 Val Tgt Loss: 0.04038\n"
     ]
    },
    {
     "name": "stderr",
     "output_type": "stream",
     "text": [
      "100%|██████████████████████████████████████████████████████████████████████████████████████████████████████████████████| 7/7 [00:00<00:00, 140.10it/s]\n",
      "100%|██████████████████████████████████████████████████████████████████████████████████████████████████████████████████| 2/2 [00:00<00:00, 230.25it/s]\n",
      "100%|██████████████████████████████████████████████████████████████████████████████████████████████████████████████████| 2/2 [00:00<00:00, 142.96it/s]\n",
      "100%|██████████████████████████████████████████████████████████████████████████████████████████████████████████████████| 1/1 [00:00<00:00, 243.33it/s]\n"
     ]
    },
    {
     "name": "stdout",
     "output_type": "stream",
     "text": [
      "Epoch 32/500 Train Total Loss: 0.04643 Train Src Loss: 0.01028 Train Tgt Loss: 0.03615 \n",
      "                 Val Total Loss: 0.29475 Val Src Loss: 0.25743 Val Tgt Loss: 0.03733\n",
      "Test: 41 42\n",
      "Adapt train: 40 41\n",
      "Adapt val: 42\n"
     ]
    },
    {
     "name": "stderr",
     "output_type": "stream",
     "text": [
      "100%|██████████████████████████████████████████████████████████████████████████████████████████████████████████████████| 7/7 [00:00<00:00, 434.21it/s]\n",
      "100%|██████████████████████████████████████████████████████████████████████████████████████████████████████████████████| 2/2 [00:00<00:00, 346.38it/s]\n",
      "100%|██████████████████████████████████████████████████████████████████████████████████████████████████████████████████| 2/2 [00:00<00:00, 370.75it/s]\n",
      "100%|██████████████████████████████████████████████████████████████████████████████████████████████████████████████████| 1/1 [00:00<00:00, 372.73it/s]\n"
     ]
    },
    {
     "name": "stdout",
     "output_type": "stream",
     "text": [
      "Epoch 1/500 Train Total Loss: 0.05279 Train Src Loss: 0.01121 Train Tgt Loss: 0.04158 \n",
      "                 Val Total Loss: 0.30452 Val Src Loss: 0.24958 Val Tgt Loss: 0.05494\n"
     ]
    },
    {
     "name": "stderr",
     "output_type": "stream",
     "text": [
      "100%|██████████████████████████████████████████████████████████████████████████████████████████████████████████████████| 7/7 [00:00<00:00, 518.46it/s]\n",
      "100%|██████████████████████████████████████████████████████████████████████████████████████████████████████████████████| 2/2 [00:00<00:00, 364.91it/s]\n",
      "100%|██████████████████████████████████████████████████████████████████████████████████████████████████████████████████| 2/2 [00:00<00:00, 554.14it/s]\n",
      "100%|██████████████████████████████████████████████████████████████████████████████████████████████████████████████████| 1/1 [00:00<00:00, 262.54it/s]\n"
     ]
    },
    {
     "name": "stdout",
     "output_type": "stream",
     "text": [
      "Epoch 2/500 Train Total Loss: 0.04946 Train Src Loss: 0.00966 Train Tgt Loss: 0.0398 \n",
      "                 Val Total Loss: 0.30844 Val Src Loss: 0.24654 Val Tgt Loss: 0.0619\n"
     ]
    },
    {
     "name": "stderr",
     "output_type": "stream",
     "text": [
      "100%|██████████████████████████████████████████████████████████████████████████████████████████████████████████████████| 7/7 [00:00<00:00, 537.30it/s]\n",
      "100%|██████████████████████████████████████████████████████████████████████████████████████████████████████████████████| 2/2 [00:00<00:00, 381.53it/s]\n",
      "100%|██████████████████████████████████████████████████████████████████████████████████████████████████████████████████| 2/2 [00:00<00:00, 460.05it/s]\n",
      "100%|██████████████████████████████████████████████████████████████████████████████████████████████████████████████████| 1/1 [00:00<00:00, 175.94it/s]\n"
     ]
    },
    {
     "name": "stdout",
     "output_type": "stream",
     "text": [
      "Epoch 3/500 Train Total Loss: 0.04794 Train Src Loss: 0.01021 Train Tgt Loss: 0.03773 \n",
      "                 Val Total Loss: 0.30861 Val Src Loss: 0.2487 Val Tgt Loss: 0.05992\n"
     ]
    },
    {
     "name": "stderr",
     "output_type": "stream",
     "text": [
      "100%|██████████████████████████████████████████████████████████████████████████████████████████████████████████████████| 7/7 [00:00<00:00, 111.76it/s]\n",
      "100%|██████████████████████████████████████████████████████████████████████████████████████████████████████████████████| 2/2 [00:00<00:00, 153.87it/s]\n",
      "100%|██████████████████████████████████████████████████████████████████████████████████████████████████████████████████| 2/2 [00:00<00:00, 243.73it/s]\n",
      "100%|██████████████████████████████████████████████████████████████████████████████████████████████████████████████████| 1/1 [00:00<00:00, 144.84it/s]\n"
     ]
    },
    {
     "name": "stdout",
     "output_type": "stream",
     "text": [
      "Epoch 4/500 Train Total Loss: 0.04799 Train Src Loss: 0.00961 Train Tgt Loss: 0.03838 \n",
      "                 Val Total Loss: 0.29543 Val Src Loss: 0.2441 Val Tgt Loss: 0.05133\n"
     ]
    },
    {
     "name": "stderr",
     "output_type": "stream",
     "text": [
      "100%|██████████████████████████████████████████████████████████████████████████████████████████████████████████████████| 7/7 [00:00<00:00, 134.33it/s]\n",
      "100%|██████████████████████████████████████████████████████████████████████████████████████████████████████████████████| 2/2 [00:00<00:00, 149.23it/s]\n",
      "100%|██████████████████████████████████████████████████████████████████████████████████████████████████████████████████| 2/2 [00:00<00:00, 225.68it/s]\n",
      "100%|██████████████████████████████████████████████████████████████████████████████████████████████████████████████████| 1/1 [00:00<00:00, 149.18it/s]\n"
     ]
    },
    {
     "name": "stdout",
     "output_type": "stream",
     "text": [
      "Epoch 5/500 Train Total Loss: 0.04588 Train Src Loss: 0.0099 Train Tgt Loss: 0.03597 \n",
      "                 Val Total Loss: 0.30622 Val Src Loss: 0.26021 Val Tgt Loss: 0.04601\n"
     ]
    },
    {
     "name": "stderr",
     "output_type": "stream",
     "text": [
      "100%|██████████████████████████████████████████████████████████████████████████████████████████████████████████████████| 7/7 [00:00<00:00, 244.77it/s]\n",
      "100%|██████████████████████████████████████████████████████████████████████████████████████████████████████████████████| 2/2 [00:00<00:00, 148.67it/s]\n",
      "100%|██████████████████████████████████████████████████████████████████████████████████████████████████████████████████| 2/2 [00:00<00:00, 214.82it/s]\n",
      "100%|██████████████████████████████████████████████████████████████████████████████████████████████████████████████████| 1/1 [00:00<00:00, 259.04it/s]\n"
     ]
    },
    {
     "name": "stdout",
     "output_type": "stream",
     "text": [
      "Epoch 6/500 Train Total Loss: 0.04985 Train Src Loss: 0.0097 Train Tgt Loss: 0.04015 \n",
      "                 Val Total Loss: 0.30734 Val Src Loss: 0.25055 Val Tgt Loss: 0.0568\n"
     ]
    },
    {
     "name": "stderr",
     "output_type": "stream",
     "text": [
      "100%|██████████████████████████████████████████████████████████████████████████████████████████████████████████████████| 7/7 [00:00<00:00, 557.40it/s]\n",
      "100%|██████████████████████████████████████████████████████████████████████████████████████████████████████████████████| 2/2 [00:00<00:00, 351.59it/s]\n",
      "100%|██████████████████████████████████████████████████████████████████████████████████████████████████████████████████| 2/2 [00:00<00:00, 401.66it/s]\n",
      "100%|██████████████████████████████████████████████████████████████████████████████████████████████████████████████████| 1/1 [00:00<00:00, 270.60it/s]\n"
     ]
    },
    {
     "name": "stdout",
     "output_type": "stream",
     "text": [
      "Epoch 7/500 Train Total Loss: 0.04848 Train Src Loss: 0.01052 Train Tgt Loss: 0.03796 \n",
      "                 Val Total Loss: 0.28833 Val Src Loss: 0.23073 Val Tgt Loss: 0.0576\n"
     ]
    },
    {
     "name": "stderr",
     "output_type": "stream",
     "text": [
      "100%|██████████████████████████████████████████████████████████████████████████████████████████████████████████████████| 7/7 [00:00<00:00, 543.21it/s]\n",
      "100%|██████████████████████████████████████████████████████████████████████████████████████████████████████████████████| 2/2 [00:00<00:00, 351.92it/s]\n",
      "100%|██████████████████████████████████████████████████████████████████████████████████████████████████████████████████| 2/2 [00:00<00:00, 529.15it/s]\n",
      "100%|██████████████████████████████████████████████████████████████████████████████████████████████████████████████████| 1/1 [00:00<00:00, 244.84it/s]\n"
     ]
    },
    {
     "name": "stdout",
     "output_type": "stream",
     "text": [
      "Epoch 8/500 Train Total Loss: 0.04687 Train Src Loss: 0.00982 Train Tgt Loss: 0.03705 \n",
      "                 Val Total Loss: 0.30621 Val Src Loss: 0.25537 Val Tgt Loss: 0.05084\n"
     ]
    },
    {
     "name": "stderr",
     "output_type": "stream",
     "text": [
      "100%|██████████████████████████████████████████████████████████████████████████████████████████████████████████████████| 7/7 [00:00<00:00, 501.05it/s]\n",
      "100%|██████████████████████████████████████████████████████████████████████████████████████████████████████████████████| 2/2 [00:00<00:00, 349.99it/s]\n",
      "100%|██████████████████████████████████████████████████████████████████████████████████████████████████████████████████| 2/2 [00:00<00:00, 395.60it/s]\n",
      "100%|██████████████████████████████████████████████████████████████████████████████████████████████████████████████████| 1/1 [00:00<00:00, 135.09it/s]\n"
     ]
    },
    {
     "name": "stdout",
     "output_type": "stream",
     "text": [
      "Epoch 9/500 Train Total Loss: 0.04969 Train Src Loss: 0.01037 Train Tgt Loss: 0.03932 \n",
      "                 Val Total Loss: 0.30931 Val Src Loss: 0.24926 Val Tgt Loss: 0.06005\n"
     ]
    },
    {
     "name": "stderr",
     "output_type": "stream",
     "text": [
      "100%|██████████████████████████████████████████████████████████████████████████████████████████████████████████████████| 7/7 [00:00<00:00, 108.32it/s]\n",
      "100%|██████████████████████████████████████████████████████████████████████████████████████████████████████████████████| 2/2 [00:00<00:00, 181.31it/s]\n",
      "100%|██████████████████████████████████████████████████████████████████████████████████████████████████████████████████| 2/2 [00:00<00:00, 173.68it/s]\n",
      "100%|██████████████████████████████████████████████████████████████████████████████████████████████████████████████████| 1/1 [00:00<00:00, 199.87it/s]\n"
     ]
    },
    {
     "name": "stdout",
     "output_type": "stream",
     "text": [
      "Epoch 10/500 Train Total Loss: 0.04782 Train Src Loss: 0.00912 Train Tgt Loss: 0.03871 \n",
      "                 Val Total Loss: 0.30029 Val Src Loss: 0.24682 Val Tgt Loss: 0.05346\n"
     ]
    },
    {
     "name": "stderr",
     "output_type": "stream",
     "text": [
      "100%|██████████████████████████████████████████████████████████████████████████████████████████████████████████████████| 7/7 [00:00<00:00, 164.59it/s]\n",
      "100%|██████████████████████████████████████████████████████████████████████████████████████████████████████████████████| 2/2 [00:00<00:00, 106.10it/s]\n",
      "100%|██████████████████████████████████████████████████████████████████████████████████████████████████████████████████| 2/2 [00:00<00:00, 248.37it/s]\n",
      "100%|██████████████████████████████████████████████████████████████████████████████████████████████████████████████████| 1/1 [00:00<00:00, 116.26it/s]\n"
     ]
    },
    {
     "name": "stdout",
     "output_type": "stream",
     "text": [
      "Epoch 11/500 Train Total Loss: 0.04614 Train Src Loss: 0.01127 Train Tgt Loss: 0.03487 \n",
      "                 Val Total Loss: 0.30928 Val Src Loss: 0.25537 Val Tgt Loss: 0.05391\n"
     ]
    },
    {
     "name": "stderr",
     "output_type": "stream",
     "text": [
      "100%|██████████████████████████████████████████████████████████████████████████████████████████████████████████████████| 7/7 [00:00<00:00, 231.77it/s]\n",
      "100%|██████████████████████████████████████████████████████████████████████████████████████████████████████████████████| 2/2 [00:00<00:00, 117.51it/s]\n",
      "100%|██████████████████████████████████████████████████████████████████████████████████████████████████████████████████| 2/2 [00:00<00:00, 288.26it/s]\n",
      "100%|██████████████████████████████████████████████████████████████████████████████████████████████████████████████████| 1/1 [00:00<00:00, 269.99it/s]\n"
     ]
    },
    {
     "name": "stdout",
     "output_type": "stream",
     "text": [
      "Epoch 12/500 Train Total Loss: 0.04523 Train Src Loss: 0.01144 Train Tgt Loss: 0.0338 \n",
      "                 Val Total Loss: 0.29699 Val Src Loss: 0.24466 Val Tgt Loss: 0.05232\n"
     ]
    },
    {
     "name": "stderr",
     "output_type": "stream",
     "text": [
      "100%|██████████████████████████████████████████████████████████████████████████████████████████████████████████████████| 7/7 [00:00<00:00, 545.69it/s]\n",
      "100%|██████████████████████████████████████████████████████████████████████████████████████████████████████████████████| 2/2 [00:00<00:00, 382.90it/s]\n",
      "100%|██████████████████████████████████████████████████████████████████████████████████████████████████████████████████| 2/2 [00:00<00:00, 566.57it/s]\n",
      "100%|██████████████████████████████████████████████████████████████████████████████████████████████████████████████████| 1/1 [00:00<00:00, 351.81it/s]\n"
     ]
    },
    {
     "name": "stdout",
     "output_type": "stream",
     "text": [
      "Epoch 13/500 Train Total Loss: 0.04486 Train Src Loss: 0.00988 Train Tgt Loss: 0.03498 \n",
      "                 Val Total Loss: 0.30268 Val Src Loss: 0.24267 Val Tgt Loss: 0.06001\n"
     ]
    },
    {
     "name": "stderr",
     "output_type": "stream",
     "text": [
      "100%|██████████████████████████████████████████████████████████████████████████████████████████████████████████████████| 7/7 [00:00<00:00, 502.04it/s]\n",
      "100%|██████████████████████████████████████████████████████████████████████████████████████████████████████████████████| 2/2 [00:00<00:00, 334.90it/s]\n",
      "100%|██████████████████████████████████████████████████████████████████████████████████████████████████████████████████| 2/2 [00:00<00:00, 407.75it/s]\n",
      "100%|██████████████████████████████████████████████████████████████████████████████████████████████████████████████████| 1/1 [00:00<00:00, 247.39it/s]\n"
     ]
    },
    {
     "name": "stdout",
     "output_type": "stream",
     "text": [
      "Epoch 14/500 Train Total Loss: 0.04579 Train Src Loss: 0.00965 Train Tgt Loss: 0.03615 \n",
      "                 Val Total Loss: 0.29225 Val Src Loss: 0.2392 Val Tgt Loss: 0.05305\n"
     ]
    },
    {
     "name": "stderr",
     "output_type": "stream",
     "text": [
      "100%|██████████████████████████████████████████████████████████████████████████████████████████████████████████████████| 7/7 [00:00<00:00, 543.28it/s]\n",
      "100%|██████████████████████████████████████████████████████████████████████████████████████████████████████████████████| 2/2 [00:00<00:00, 234.45it/s]\n",
      "100%|██████████████████████████████████████████████████████████████████████████████████████████████████████████████████| 2/2 [00:00<00:00, 216.64it/s]\n",
      "100%|██████████████████████████████████████████████████████████████████████████████████████████████████████████████████| 1/1 [00:00<00:00, 217.60it/s]\n"
     ]
    },
    {
     "name": "stdout",
     "output_type": "stream",
     "text": [
      "Epoch 15/500 Train Total Loss: 0.04252 Train Src Loss: 0.0099 Train Tgt Loss: 0.03262 \n",
      "                 Val Total Loss: 0.31606 Val Src Loss: 0.25771 Val Tgt Loss: 0.05835\n"
     ]
    },
    {
     "name": "stderr",
     "output_type": "stream",
     "text": [
      "100%|██████████████████████████████████████████████████████████████████████████████████████████████████████████████████| 7/7 [00:00<00:00, 114.54it/s]\n",
      "100%|██████████████████████████████████████████████████████████████████████████████████████████████████████████████████| 2/2 [00:00<00:00, 185.36it/s]\n",
      "100%|██████████████████████████████████████████████████████████████████████████████████████████████████████████████████| 2/2 [00:00<00:00, 197.70it/s]\n",
      "100%|██████████████████████████████████████████████████████████████████████████████████████████████████████████████████| 1/1 [00:00<00:00, 187.99it/s]\n"
     ]
    },
    {
     "name": "stdout",
     "output_type": "stream",
     "text": [
      "Epoch 16/500 Train Total Loss: 0.04294 Train Src Loss: 0.00922 Train Tgt Loss: 0.03372 \n",
      "                 Val Total Loss: 0.30182 Val Src Loss: 0.25041 Val Tgt Loss: 0.05141\n"
     ]
    },
    {
     "name": "stderr",
     "output_type": "stream",
     "text": [
      "100%|██████████████████████████████████████████████████████████████████████████████████████████████████████████████████| 7/7 [00:00<00:00, 152.32it/s]\n",
      "100%|██████████████████████████████████████████████████████████████████████████████████████████████████████████████████| 2/2 [00:00<00:00, 123.69it/s]\n",
      "100%|██████████████████████████████████████████████████████████████████████████████████████████████████████████████████| 2/2 [00:00<00:00, 249.53it/s]\n",
      "100%|██████████████████████████████████████████████████████████████████████████████████████████████████████████████████| 1/1 [00:00<00:00, 132.02it/s]\n"
     ]
    },
    {
     "name": "stdout",
     "output_type": "stream",
     "text": [
      "Epoch 17/500 Train Total Loss: 0.04046 Train Src Loss: 0.00909 Train Tgt Loss: 0.03137 \n",
      "                 Val Total Loss: 0.29304 Val Src Loss: 0.24413 Val Tgt Loss: 0.04892\n"
     ]
    },
    {
     "name": "stderr",
     "output_type": "stream",
     "text": [
      "100%|██████████████████████████████████████████████████████████████████████████████████████████████████████████████████| 7/7 [00:00<00:00, 234.84it/s]\n",
      "100%|██████████████████████████████████████████████████████████████████████████████████████████████████████████████████| 2/2 [00:00<00:00, 150.17it/s]\n",
      "100%|██████████████████████████████████████████████████████████████████████████████████████████████████████████████████| 2/2 [00:00<00:00, 220.61it/s]\n",
      "100%|██████████████████████████████████████████████████████████████████████████████████████████████████████████████████| 1/1 [00:00<00:00, 241.52it/s]\n"
     ]
    },
    {
     "name": "stdout",
     "output_type": "stream",
     "text": [
      "Epoch 18/500 Train Total Loss: 0.0422 Train Src Loss: 0.00957 Train Tgt Loss: 0.03263 \n",
      "                 Val Total Loss: 0.3073 Val Src Loss: 0.25483 Val Tgt Loss: 0.05247\n",
      "Test: 43 44\n",
      "Adapt train: 42 43\n",
      "Adapt val: 44\n"
     ]
    },
    {
     "name": "stderr",
     "output_type": "stream",
     "text": [
      "100%|██████████████████████████████████████████████████████████████████████████████████████████████████████████████████| 7/7 [00:00<00:00, 522.98it/s]\n",
      "100%|██████████████████████████████████████████████████████████████████████████████████████████████████████████████████| 2/2 [00:00<00:00, 352.89it/s]\n",
      "100%|██████████████████████████████████████████████████████████████████████████████████████████████████████████████████| 2/2 [00:00<00:00, 351.52it/s]\n",
      "100%|██████████████████████████████████████████████████████████████████████████████████████████████████████████████████| 1/1 [00:00<00:00, 245.65it/s]\n"
     ]
    },
    {
     "name": "stdout",
     "output_type": "stream",
     "text": [
      "Epoch 1/500 Train Total Loss: 0.06169 Train Src Loss: 0.00994 Train Tgt Loss: 0.05175 \n",
      "                 Val Total Loss: 0.31101 Val Src Loss: 0.25436 Val Tgt Loss: 0.05665\n"
     ]
    },
    {
     "name": "stderr",
     "output_type": "stream",
     "text": [
      "100%|██████████████████████████████████████████████████████████████████████████████████████████████████████████████████| 7/7 [00:00<00:00, 507.86it/s]\n",
      "100%|██████████████████████████████████████████████████████████████████████████████████████████████████████████████████| 2/2 [00:00<00:00, 268.90it/s]\n",
      "100%|██████████████████████████████████████████████████████████████████████████████████████████████████████████████████| 2/2 [00:00<00:00, 235.58it/s]\n",
      "100%|██████████████████████████████████████████████████████████████████████████████████████████████████████████████████| 1/1 [00:00<00:00, 203.19it/s]\n"
     ]
    },
    {
     "name": "stdout",
     "output_type": "stream",
     "text": [
      "Epoch 2/500 Train Total Loss: 0.05757 Train Src Loss: 0.01011 Train Tgt Loss: 0.04746 \n",
      "                 Val Total Loss: 0.29268 Val Src Loss: 0.24208 Val Tgt Loss: 0.0506\n"
     ]
    },
    {
     "name": "stderr",
     "output_type": "stream",
     "text": [
      "100%|██████████████████████████████████████████████████████████████████████████████████████████████████████████████████| 7/7 [00:00<00:00, 119.04it/s]\n",
      "100%|██████████████████████████████████████████████████████████████████████████████████████████████████████████████████| 2/2 [00:00<00:00, 351.84it/s]\n",
      "100%|██████████████████████████████████████████████████████████████████████████████████████████████████████████████████| 2/2 [00:00<00:00, 417.61it/s]\n",
      "100%|██████████████████████████████████████████████████████████████████████████████████████████████████████████████████| 1/1 [00:00<00:00, 276.72it/s]\n"
     ]
    },
    {
     "name": "stdout",
     "output_type": "stream",
     "text": [
      "Epoch 3/500 Train Total Loss: 0.06306 Train Src Loss: 0.01108 Train Tgt Loss: 0.05198 \n",
      "                 Val Total Loss: 0.29379 Val Src Loss: 0.24168 Val Tgt Loss: 0.05211\n"
     ]
    },
    {
     "name": "stderr",
     "output_type": "stream",
     "text": [
      "100%|██████████████████████████████████████████████████████████████████████████████████████████████████████████████████| 7/7 [00:00<00:00, 334.57it/s]\n",
      "100%|██████████████████████████████████████████████████████████████████████████████████████████████████████████████████| 2/2 [00:00<00:00, 162.06it/s]\n",
      "100%|██████████████████████████████████████████████████████████████████████████████████████████████████████████████████| 2/2 [00:00<00:00, 143.93it/s]\n",
      "100%|██████████████████████████████████████████████████████████████████████████████████████████████████████████████████| 1/1 [00:00<00:00, 113.87it/s]\n"
     ]
    },
    {
     "name": "stdout",
     "output_type": "stream",
     "text": [
      "Epoch 4/500 Train Total Loss: 0.05525 Train Src Loss: 0.00966 Train Tgt Loss: 0.04559 \n",
      "                 Val Total Loss: 0.30979 Val Src Loss: 0.24965 Val Tgt Loss: 0.06014\n"
     ]
    },
    {
     "name": "stderr",
     "output_type": "stream",
     "text": [
      "100%|██████████████████████████████████████████████████████████████████████████████████████████████████████████████████| 7/7 [00:00<00:00, 179.41it/s]\n",
      "100%|██████████████████████████████████████████████████████████████████████████████████████████████████████████████████| 2/2 [00:00<00:00, 136.78it/s]\n",
      "100%|██████████████████████████████████████████████████████████████████████████████████████████████████████████████████| 2/2 [00:00<00:00, 215.29it/s]\n",
      "100%|██████████████████████████████████████████████████████████████████████████████████████████████████████████████████| 1/1 [00:00<00:00, 234.19it/s]\n"
     ]
    },
    {
     "name": "stdout",
     "output_type": "stream",
     "text": [
      "Epoch 5/500 Train Total Loss: 0.05792 Train Src Loss: 0.01052 Train Tgt Loss: 0.0474 \n",
      "                 Val Total Loss: 0.29109 Val Src Loss: 0.23862 Val Tgt Loss: 0.05247\n"
     ]
    },
    {
     "name": "stderr",
     "output_type": "stream",
     "text": [
      "100%|██████████████████████████████████████████████████████████████████████████████████████████████████████████████████| 7/7 [00:00<00:00, 212.17it/s]\n",
      "100%|██████████████████████████████████████████████████████████████████████████████████████████████████████████████████| 2/2 [00:00<00:00, 250.96it/s]\n",
      "100%|██████████████████████████████████████████████████████████████████████████████████████████████████████████████████| 2/2 [00:00<00:00, 527.22it/s]\n",
      "100%|██████████████████████████████████████████████████████████████████████████████████████████████████████████████████| 1/1 [00:00<00:00, 293.78it/s]\n"
     ]
    },
    {
     "name": "stdout",
     "output_type": "stream",
     "text": [
      "Epoch 6/500 Train Total Loss: 0.05611 Train Src Loss: 0.01076 Train Tgt Loss: 0.04536 \n",
      "                 Val Total Loss: 0.31417 Val Src Loss: 0.25919 Val Tgt Loss: 0.05498\n"
     ]
    },
    {
     "name": "stderr",
     "output_type": "stream",
     "text": [
      "100%|██████████████████████████████████████████████████████████████████████████████████████████████████████████████████| 7/7 [00:00<00:00, 505.22it/s]\n",
      "100%|██████████████████████████████████████████████████████████████████████████████████████████████████████████████████| 2/2 [00:00<00:00, 371.95it/s]\n",
      "100%|██████████████████████████████████████████████████████████████████████████████████████████████████████████████████| 2/2 [00:00<00:00, 567.14it/s]\n",
      "100%|██████████████████████████████████████████████████████████████████████████████████████████████████████████████████| 1/1 [00:00<00:00, 241.00it/s]\n"
     ]
    },
    {
     "name": "stdout",
     "output_type": "stream",
     "text": [
      "Epoch 7/500 Train Total Loss: 0.05259 Train Src Loss: 0.00968 Train Tgt Loss: 0.04291 \n",
      "                 Val Total Loss: 0.30285 Val Src Loss: 0.25256 Val Tgt Loss: 0.05029\n"
     ]
    },
    {
     "name": "stderr",
     "output_type": "stream",
     "text": [
      "100%|██████████████████████████████████████████████████████████████████████████████████████████████████████████████████| 7/7 [00:00<00:00, 472.80it/s]\n",
      "100%|██████████████████████████████████████████████████████████████████████████████████████████████████████████████████| 2/2 [00:00<00:00, 374.78it/s]\n",
      "100%|██████████████████████████████████████████████████████████████████████████████████████████████████████████████████| 2/2 [00:00<00:00, 358.81it/s]\n",
      "100%|██████████████████████████████████████████████████████████████████████████████████████████████████████████████████| 1/1 [00:00<00:00, 345.72it/s]\n"
     ]
    },
    {
     "name": "stdout",
     "output_type": "stream",
     "text": [
      "Epoch 8/500 Train Total Loss: 0.05858 Train Src Loss: 0.01075 Train Tgt Loss: 0.04783 \n",
      "                 Val Total Loss: 0.28222 Val Src Loss: 0.22929 Val Tgt Loss: 0.05294\n"
     ]
    },
    {
     "name": "stderr",
     "output_type": "stream",
     "text": [
      "100%|██████████████████████████████████████████████████████████████████████████████████████████████████████████████████| 7/7 [00:00<00:00, 307.47it/s]\n",
      "100%|███████████████████████████████████████████████████████████████████████████████████████████████████████████████████| 2/2 [00:00<00:00, 99.40it/s]\n",
      "100%|███████████████████████████████████████████████████████████████████████████████████████████████████████████████████| 2/2 [00:00<00:00, 89.56it/s]\n",
      "100%|██████████████████████████████████████████████████████████████████████████████████████████████████████████████████| 1/1 [00:00<00:00, 142.23it/s]\n"
     ]
    },
    {
     "name": "stdout",
     "output_type": "stream",
     "text": [
      "Epoch 9/500 Train Total Loss: 0.05476 Train Src Loss: 0.00917 Train Tgt Loss: 0.04559 \n",
      "                 Val Total Loss: 0.29939 Val Src Loss: 0.24378 Val Tgt Loss: 0.05561\n"
     ]
    },
    {
     "name": "stderr",
     "output_type": "stream",
     "text": [
      "100%|██████████████████████████████████████████████████████████████████████████████████████████████████████████████████| 7/7 [00:00<00:00, 178.75it/s]\n",
      "100%|██████████████████████████████████████████████████████████████████████████████████████████████████████████████████| 2/2 [00:00<00:00, 112.17it/s]\n",
      "100%|██████████████████████████████████████████████████████████████████████████████████████████████████████████████████| 2/2 [00:00<00:00, 147.17it/s]\n",
      "100%|██████████████████████████████████████████████████████████████████████████████████████████████████████████████████| 1/1 [00:00<00:00, 103.33it/s]\n"
     ]
    },
    {
     "name": "stdout",
     "output_type": "stream",
     "text": [
      "Epoch 10/500 Train Total Loss: 0.05349 Train Src Loss: 0.01013 Train Tgt Loss: 0.04336 \n",
      "                 Val Total Loss: 0.29925 Val Src Loss: 0.24728 Val Tgt Loss: 0.05197\n"
     ]
    },
    {
     "name": "stderr",
     "output_type": "stream",
     "text": [
      "100%|██████████████████████████████████████████████████████████████████████████████████████████████████████████████████| 7/7 [00:00<00:00, 211.11it/s]\n",
      "100%|██████████████████████████████████████████████████████████████████████████████████████████████████████████████████| 2/2 [00:00<00:00, 202.87it/s]\n",
      "100%|██████████████████████████████████████████████████████████████████████████████████████████████████████████████████| 2/2 [00:00<00:00, 187.23it/s]\n",
      "100%|██████████████████████████████████████████████████████████████████████████████████████████████████████████████████| 1/1 [00:00<00:00, 132.01it/s]\n"
     ]
    },
    {
     "name": "stdout",
     "output_type": "stream",
     "text": [
      "Epoch 11/500 Train Total Loss: 0.05111 Train Src Loss: 0.00898 Train Tgt Loss: 0.04213 \n",
      "                 Val Total Loss: 0.28864 Val Src Loss: 0.23849 Val Tgt Loss: 0.05016\n"
     ]
    },
    {
     "name": "stderr",
     "output_type": "stream",
     "text": [
      "100%|██████████████████████████████████████████████████████████████████████████████████████████████████████████████████| 7/7 [00:00<00:00, 297.06it/s]\n",
      "100%|██████████████████████████████████████████████████████████████████████████████████████████████████████████████████| 2/2 [00:00<00:00, 359.27it/s]\n",
      "100%|██████████████████████████████████████████████████████████████████████████████████████████████████████████████████| 2/2 [00:00<00:00, 338.46it/s]\n",
      "100%|██████████████████████████████████████████████████████████████████████████████████████████████████████████████████| 1/1 [00:00<00:00, 370.85it/s]\n"
     ]
    },
    {
     "name": "stdout",
     "output_type": "stream",
     "text": [
      "Epoch 12/500 Train Total Loss: 0.04674 Train Src Loss: 0.00946 Train Tgt Loss: 0.03728 \n",
      "                 Val Total Loss: 0.29142 Val Src Loss: 0.23987 Val Tgt Loss: 0.05155\n"
     ]
    },
    {
     "name": "stderr",
     "output_type": "stream",
     "text": [
      "100%|██████████████████████████████████████████████████████████████████████████████████████████████████████████████████| 7/7 [00:00<00:00, 560.44it/s]\n",
      "100%|██████████████████████████████████████████████████████████████████████████████████████████████████████████████████| 2/2 [00:00<00:00, 368.36it/s]\n",
      "100%|██████████████████████████████████████████████████████████████████████████████████████████████████████████████████| 2/2 [00:00<00:00, 532.81it/s]\n",
      "100%|██████████████████████████████████████████████████████████████████████████████████████████████████████████████████| 1/1 [00:00<00:00, 271.35it/s]\n"
     ]
    },
    {
     "name": "stdout",
     "output_type": "stream",
     "text": [
      "Epoch 13/500 Train Total Loss: 0.04911 Train Src Loss: 0.00863 Train Tgt Loss: 0.04049 \n",
      "                 Val Total Loss: 0.2859 Val Src Loss: 0.23074 Val Tgt Loss: 0.05516\n"
     ]
    },
    {
     "name": "stderr",
     "output_type": "stream",
     "text": [
      "100%|██████████████████████████████████████████████████████████████████████████████████████████████████████████████████| 7/7 [00:00<00:00, 511.45it/s]\n",
      "100%|██████████████████████████████████████████████████████████████████████████████████████████████████████████████████| 2/2 [00:00<00:00, 240.57it/s]\n",
      "100%|██████████████████████████████████████████████████████████████████████████████████████████████████████████████████| 2/2 [00:00<00:00, 533.32it/s]\n",
      "100%|██████████████████████████████████████████████████████████████████████████████████████████████████████████████████| 1/1 [00:00<00:00, 153.85it/s]\n"
     ]
    },
    {
     "name": "stdout",
     "output_type": "stream",
     "text": [
      "Epoch 14/500 Train Total Loss: 0.04944 Train Src Loss: 0.00974 Train Tgt Loss: 0.0397 \n",
      "                 Val Total Loss: 0.27349 Val Src Loss: 0.22401 Val Tgt Loss: 0.04948\n"
     ]
    },
    {
     "name": "stderr",
     "output_type": "stream",
     "text": [
      "100%|██████████████████████████████████████████████████████████████████████████████████████████████████████████████████| 7/7 [00:00<00:00, 107.38it/s]\n",
      "100%|██████████████████████████████████████████████████████████████████████████████████████████████████████████████████| 2/2 [00:00<00:00, 187.93it/s]\n",
      "100%|██████████████████████████████████████████████████████████████████████████████████████████████████████████████████| 2/2 [00:00<00:00, 184.73it/s]\n",
      "100%|██████████████████████████████████████████████████████████████████████████████████████████████████████████████████| 1/1 [00:00<00:00, 110.19it/s]\n"
     ]
    },
    {
     "name": "stdout",
     "output_type": "stream",
     "text": [
      "Epoch 15/500 Train Total Loss: 0.05065 Train Src Loss: 0.01072 Train Tgt Loss: 0.03993 \n",
      "                 Val Total Loss: 0.29513 Val Src Loss: 0.24902 Val Tgt Loss: 0.0461\n"
     ]
    },
    {
     "name": "stderr",
     "output_type": "stream",
     "text": [
      "100%|██████████████████████████████████████████████████████████████████████████████████████████████████████████████████| 7/7 [00:00<00:00, 154.32it/s]\n",
      "100%|██████████████████████████████████████████████████████████████████████████████████████████████████████████████████| 2/2 [00:00<00:00, 156.40it/s]\n",
      "100%|██████████████████████████████████████████████████████████████████████████████████████████████████████████████████| 2/2 [00:00<00:00, 291.34it/s]\n",
      "100%|██████████████████████████████████████████████████████████████████████████████████████████████████████████████████| 1/1 [00:00<00:00, 115.43it/s]\n"
     ]
    },
    {
     "name": "stdout",
     "output_type": "stream",
     "text": [
      "Epoch 16/500 Train Total Loss: 0.05011 Train Src Loss: 0.01008 Train Tgt Loss: 0.04003 \n",
      "                 Val Total Loss: 0.3016 Val Src Loss: 0.24901 Val Tgt Loss: 0.05259\n"
     ]
    },
    {
     "name": "stderr",
     "output_type": "stream",
     "text": [
      "100%|██████████████████████████████████████████████████████████████████████████████████████████████████████████████████| 7/7 [00:00<00:00, 241.74it/s]\n",
      "100%|██████████████████████████████████████████████████████████████████████████████████████████████████████████████████| 2/2 [00:00<00:00, 150.58it/s]\n",
      "100%|██████████████████████████████████████████████████████████████████████████████████████████████████████████████████| 2/2 [00:00<00:00, 245.31it/s]\n",
      "100%|██████████████████████████████████████████████████████████████████████████████████████████████████████████████████| 1/1 [00:00<00:00, 206.60it/s]\n"
     ]
    },
    {
     "name": "stdout",
     "output_type": "stream",
     "text": [
      "Epoch 17/500 Train Total Loss: 0.04748 Train Src Loss: 0.00913 Train Tgt Loss: 0.03835 \n",
      "                 Val Total Loss: 0.28732 Val Src Loss: 0.2404 Val Tgt Loss: 0.04693\n"
     ]
    },
    {
     "name": "stderr",
     "output_type": "stream",
     "text": [
      "100%|██████████████████████████████████████████████████████████████████████████████████████████████████████████████████| 7/7 [00:00<00:00, 546.43it/s]\n",
      "100%|██████████████████████████████████████████████████████████████████████████████████████████████████████████████████| 2/2 [00:00<00:00, 395.84it/s]\n",
      "100%|██████████████████████████████████████████████████████████████████████████████████████████████████████████████████| 2/2 [00:00<00:00, 374.01it/s]\n",
      "100%|██████████████████████████████████████████████████████████████████████████████████████████████████████████████████| 1/1 [00:00<00:00, 277.46it/s]\n"
     ]
    },
    {
     "name": "stdout",
     "output_type": "stream",
     "text": [
      "Epoch 18/500 Train Total Loss: 0.04899 Train Src Loss: 0.0109 Train Tgt Loss: 0.03809 \n",
      "                 Val Total Loss: 0.28941 Val Src Loss: 0.24356 Val Tgt Loss: 0.04584\n"
     ]
    },
    {
     "name": "stderr",
     "output_type": "stream",
     "text": [
      "100%|██████████████████████████████████████████████████████████████████████████████████████████████████████████████████| 7/7 [00:00<00:00, 491.79it/s]\n",
      "100%|██████████████████████████████████████████████████████████████████████████████████████████████████████████████████| 2/2 [00:00<00:00, 269.88it/s]\n",
      "100%|██████████████████████████████████████████████████████████████████████████████████████████████████████████████████| 2/2 [00:00<00:00, 569.68it/s]\n",
      "100%|██████████████████████████████████████████████████████████████████████████████████████████████████████████████████| 1/1 [00:00<00:00, 270.22it/s]\n"
     ]
    },
    {
     "name": "stdout",
     "output_type": "stream",
     "text": [
      "Epoch 19/500 Train Total Loss: 0.04571 Train Src Loss: 0.00912 Train Tgt Loss: 0.03659 \n",
      "                 Val Total Loss: 0.28305 Val Src Loss: 0.23646 Val Tgt Loss: 0.04659\n"
     ]
    },
    {
     "name": "stderr",
     "output_type": "stream",
     "text": [
      "100%|██████████████████████████████████████████████████████████████████████████████████████████████████████████████████| 7/7 [00:00<00:00, 484.37it/s]\n",
      "100%|██████████████████████████████████████████████████████████████████████████████████████████████████████████████████| 2/2 [00:00<00:00, 367.34it/s]\n",
      "100%|██████████████████████████████████████████████████████████████████████████████████████████████████████████████████| 2/2 [00:00<00:00, 436.66it/s]\n",
      "100%|██████████████████████████████████████████████████████████████████████████████████████████████████████████████████| 1/1 [00:00<00:00, 128.18it/s]\n"
     ]
    },
    {
     "name": "stdout",
     "output_type": "stream",
     "text": [
      "Epoch 20/500 Train Total Loss: 0.04777 Train Src Loss: 0.00913 Train Tgt Loss: 0.03864 \n",
      "                 Val Total Loss: 0.28473 Val Src Loss: 0.24007 Val Tgt Loss: 0.04467\n"
     ]
    },
    {
     "name": "stderr",
     "output_type": "stream",
     "text": [
      "100%|██████████████████████████████████████████████████████████████████████████████████████████████████████████████████| 7/7 [00:00<00:00, 109.38it/s]\n",
      "100%|██████████████████████████████████████████████████████████████████████████████████████████████████████████████████| 2/2 [00:00<00:00, 129.43it/s]\n",
      "100%|██████████████████████████████████████████████████████████████████████████████████████████████████████████████████| 2/2 [00:00<00:00, 231.78it/s]\n",
      "100%|██████████████████████████████████████████████████████████████████████████████████████████████████████████████████| 1/1 [00:00<00:00, 187.61it/s]\n"
     ]
    },
    {
     "name": "stdout",
     "output_type": "stream",
     "text": [
      "Epoch 21/500 Train Total Loss: 0.05049 Train Src Loss: 0.0104 Train Tgt Loss: 0.04009 \n",
      "                 Val Total Loss: 0.29382 Val Src Loss: 0.24959 Val Tgt Loss: 0.04423\n"
     ]
    },
    {
     "name": "stderr",
     "output_type": "stream",
     "text": [
      "100%|██████████████████████████████████████████████████████████████████████████████████████████████████████████████████| 7/7 [00:00<00:00, 140.12it/s]\n",
      "100%|██████████████████████████████████████████████████████████████████████████████████████████████████████████████████| 2/2 [00:00<00:00, 121.48it/s]\n",
      "100%|██████████████████████████████████████████████████████████████████████████████████████████████████████████████████| 2/2 [00:00<00:00, 293.48it/s]\n",
      "100%|██████████████████████████████████████████████████████████████████████████████████████████████████████████████████| 1/1 [00:00<00:00, 110.62it/s]\n"
     ]
    },
    {
     "name": "stdout",
     "output_type": "stream",
     "text": [
      "Epoch 22/500 Train Total Loss: 0.04437 Train Src Loss: 0.00949 Train Tgt Loss: 0.03488 \n",
      "                 Val Total Loss: 0.28191 Val Src Loss: 0.23057 Val Tgt Loss: 0.05134\n"
     ]
    },
    {
     "name": "stderr",
     "output_type": "stream",
     "text": [
      "100%|██████████████████████████████████████████████████████████████████████████████████████████████████████████████████| 7/7 [00:00<00:00, 250.70it/s]\n",
      "100%|██████████████████████████████████████████████████████████████████████████████████████████████████████████████████| 2/2 [00:00<00:00, 149.51it/s]\n",
      "100%|██████████████████████████████████████████████████████████████████████████████████████████████████████████████████| 2/2 [00:00<00:00, 271.63it/s]\n",
      "100%|██████████████████████████████████████████████████████████████████████████████████████████████████████████████████| 1/1 [00:00<00:00, 206.38it/s]\n"
     ]
    },
    {
     "name": "stdout",
     "output_type": "stream",
     "text": [
      "Epoch 23/500 Train Total Loss: 0.04654 Train Src Loss: 0.00929 Train Tgt Loss: 0.03725 \n",
      "                 Val Total Loss: 0.28195 Val Src Loss: 0.23 Val Tgt Loss: 0.05195\n"
     ]
    },
    {
     "name": "stderr",
     "output_type": "stream",
     "text": [
      "100%|██████████████████████████████████████████████████████████████████████████████████████████████████████████████████| 7/7 [00:00<00:00, 554.02it/s]\n",
      "100%|██████████████████████████████████████████████████████████████████████████████████████████████████████████████████| 2/2 [00:00<00:00, 406.27it/s]\n",
      "100%|██████████████████████████████████████████████████████████████████████████████████████████████████████████████████| 2/2 [00:00<00:00, 566.15it/s]\n",
      "100%|██████████████████████████████████████████████████████████████████████████████████████████████████████████████████| 1/1 [00:00<00:00, 381.23it/s]\n"
     ]
    },
    {
     "name": "stdout",
     "output_type": "stream",
     "text": [
      "Epoch 24/500 Train Total Loss: 0.04541 Train Src Loss: 0.01068 Train Tgt Loss: 0.03472 \n",
      "                 Val Total Loss: 0.30696 Val Src Loss: 0.25479 Val Tgt Loss: 0.05217\n"
     ]
    },
    {
     "name": "stderr",
     "output_type": "stream",
     "text": [
      "100%|██████████████████████████████████████████████████████████████████████████████████████████████████████████████████| 7/7 [00:00<00:00, 550.11it/s]\n",
      "100%|██████████████████████████████████████████████████████████████████████████████████████████████████████████████████| 2/2 [00:00<00:00, 399.91it/s]\n",
      "100%|██████████████████████████████████████████████████████████████████████████████████████████████████████████████████| 2/2 [00:00<00:00, 406.44it/s]\n",
      "100%|██████████████████████████████████████████████████████████████████████████████████████████████████████████████████| 1/1 [00:00<00:00, 367.53it/s]\n"
     ]
    },
    {
     "name": "stdout",
     "output_type": "stream",
     "text": [
      "Epoch 25/500 Train Total Loss: 0.04503 Train Src Loss: 0.00949 Train Tgt Loss: 0.03553 \n",
      "                 Val Total Loss: 0.28584 Val Src Loss: 0.23836 Val Tgt Loss: 0.04748\n",
      "Test: 45 46\n",
      "Adapt train: 44 45\n",
      "Adapt val: 46\n"
     ]
    },
    {
     "name": "stderr",
     "output_type": "stream",
     "text": [
      "100%|██████████████████████████████████████████████████████████████████████████████████████████████████████████████████| 7/7 [00:00<00:00, 542.76it/s]\n",
      "100%|██████████████████████████████████████████████████████████████████████████████████████████████████████████████████| 2/2 [00:00<00:00, 407.27it/s]\n",
      "100%|██████████████████████████████████████████████████████████████████████████████████████████████████████████████████| 2/2 [00:00<00:00, 242.21it/s]\n",
      "100%|██████████████████████████████████████████████████████████████████████████████████████████████████████████████████| 1/1 [00:00<00:00, 206.89it/s]\n"
     ]
    },
    {
     "name": "stdout",
     "output_type": "stream",
     "text": [
      "Epoch 1/500 Train Total Loss: 0.04894 Train Src Loss: 0.00933 Train Tgt Loss: 0.0396 \n",
      "                 Val Total Loss: 0.28039 Val Src Loss: 0.24605 Val Tgt Loss: 0.03434\n"
     ]
    },
    {
     "name": "stderr",
     "output_type": "stream",
     "text": [
      "100%|██████████████████████████████████████████████████████████████████████████████████████████████████████████████████| 7/7 [00:00<00:00, 118.68it/s]\n",
      "100%|██████████████████████████████████████████████████████████████████████████████████████████████████████████████████| 2/2 [00:00<00:00, 166.79it/s]\n",
      "100%|██████████████████████████████████████████████████████████████████████████████████████████████████████████████████| 2/2 [00:00<00:00, 204.14it/s]\n",
      "100%|██████████████████████████████████████████████████████████████████████████████████████████████████████████████████| 1/1 [00:00<00:00, 145.43it/s]\n"
     ]
    },
    {
     "name": "stdout",
     "output_type": "stream",
     "text": [
      "Epoch 2/500 Train Total Loss: 0.04692 Train Src Loss: 0.0093 Train Tgt Loss: 0.03762 \n",
      "                 Val Total Loss: 0.27722 Val Src Loss: 0.23903 Val Tgt Loss: 0.03819\n"
     ]
    },
    {
     "name": "stderr",
     "output_type": "stream",
     "text": [
      "100%|██████████████████████████████████████████████████████████████████████████████████████████████████████████████████| 7/7 [00:00<00:00, 135.23it/s]\n",
      "100%|██████████████████████████████████████████████████████████████████████████████████████████████████████████████████| 2/2 [00:00<00:00, 161.31it/s]\n",
      "100%|██████████████████████████████████████████████████████████████████████████████████████████████████████████████████| 2/2 [00:00<00:00, 314.68it/s]\n",
      "100%|██████████████████████████████████████████████████████████████████████████████████████████████████████████████████| 1/1 [00:00<00:00, 121.34it/s]\n"
     ]
    },
    {
     "name": "stdout",
     "output_type": "stream",
     "text": [
      "Epoch 3/500 Train Total Loss: 0.04759 Train Src Loss: 0.0091 Train Tgt Loss: 0.03848 \n",
      "                 Val Total Loss: 0.27189 Val Src Loss: 0.23606 Val Tgt Loss: 0.03583\n"
     ]
    },
    {
     "name": "stderr",
     "output_type": "stream",
     "text": [
      "100%|██████████████████████████████████████████████████████████████████████████████████████████████████████████████████| 7/7 [00:00<00:00, 258.89it/s]\n",
      "100%|██████████████████████████████████████████████████████████████████████████████████████████████████████████████████| 2/2 [00:00<00:00, 122.08it/s]\n",
      "100%|██████████████████████████████████████████████████████████████████████████████████████████████████████████████████| 2/2 [00:00<00:00, 254.29it/s]\n",
      "100%|██████████████████████████████████████████████████████████████████████████████████████████████████████████████████| 1/1 [00:00<00:00, 223.57it/s]\n"
     ]
    },
    {
     "name": "stdout",
     "output_type": "stream",
     "text": [
      "Epoch 4/500 Train Total Loss: 0.04939 Train Src Loss: 0.00998 Train Tgt Loss: 0.0394 \n",
      "                 Val Total Loss: 0.27105 Val Src Loss: 0.24045 Val Tgt Loss: 0.0306\n"
     ]
    },
    {
     "name": "stderr",
     "output_type": "stream",
     "text": [
      "100%|██████████████████████████████████████████████████████████████████████████████████████████████████████████████████| 7/7 [00:00<00:00, 514.97it/s]\n",
      "100%|██████████████████████████████████████████████████████████████████████████████████████████████████████████████████| 2/2 [00:00<00:00, 373.18it/s]\n",
      "100%|██████████████████████████████████████████████████████████████████████████████████████████████████████████████████| 2/2 [00:00<00:00, 456.32it/s]\n",
      "100%|██████████████████████████████████████████████████████████████████████████████████████████████████████████████████| 1/1 [00:00<00:00, 245.40it/s]\n"
     ]
    },
    {
     "name": "stdout",
     "output_type": "stream",
     "text": [
      "Epoch 5/500 Train Total Loss: 0.04828 Train Src Loss: 0.00983 Train Tgt Loss: 0.03845 \n",
      "                 Val Total Loss: 0.26507 Val Src Loss: 0.22873 Val Tgt Loss: 0.03634\n"
     ]
    },
    {
     "name": "stderr",
     "output_type": "stream",
     "text": [
      "100%|██████████████████████████████████████████████████████████████████████████████████████████████████████████████████| 7/7 [00:00<00:00, 518.14it/s]\n",
      "100%|██████████████████████████████████████████████████████████████████████████████████████████████████████████████████| 2/2 [00:00<00:00, 396.79it/s]\n",
      "100%|██████████████████████████████████████████████████████████████████████████████████████████████████████████████████| 2/2 [00:00<00:00, 464.54it/s]\n",
      "100%|██████████████████████████████████████████████████████████████████████████████████████████████████████████████████| 1/1 [00:00<00:00, 262.47it/s]\n"
     ]
    },
    {
     "name": "stdout",
     "output_type": "stream",
     "text": [
      "Epoch 6/500 Train Total Loss: 0.04656 Train Src Loss: 0.00951 Train Tgt Loss: 0.03705 \n",
      "                 Val Total Loss: 0.27883 Val Src Loss: 0.237 Val Tgt Loss: 0.04183\n"
     ]
    },
    {
     "name": "stderr",
     "output_type": "stream",
     "text": [
      "100%|██████████████████████████████████████████████████████████████████████████████████████████████████████████████████| 7/7 [00:00<00:00, 508.92it/s]\n",
      "100%|██████████████████████████████████████████████████████████████████████████████████████████████████████████████████| 2/2 [00:00<00:00, 364.94it/s]\n",
      "100%|██████████████████████████████████████████████████████████████████████████████████████████████████████████████████| 2/2 [00:00<00:00, 222.39it/s]\n",
      "100%|██████████████████████████████████████████████████████████████████████████████████████████████████████████████████| 1/1 [00:00<00:00, 113.59it/s]\n"
     ]
    },
    {
     "name": "stdout",
     "output_type": "stream",
     "text": [
      "Epoch 7/500 Train Total Loss: 0.04727 Train Src Loss: 0.00891 Train Tgt Loss: 0.03836 \n",
      "                 Val Total Loss: 0.27208 Val Src Loss: 0.23579 Val Tgt Loss: 0.03629\n"
     ]
    },
    {
     "name": "stderr",
     "output_type": "stream",
     "text": [
      "100%|██████████████████████████████████████████████████████████████████████████████████████████████████████████████████| 7/7 [00:00<00:00, 124.05it/s]\n",
      "100%|██████████████████████████████████████████████████████████████████████████████████████████████████████████████████| 2/2 [00:00<00:00, 366.99it/s]\n",
      "100%|██████████████████████████████████████████████████████████████████████████████████████████████████████████████████| 2/2 [00:00<00:00, 123.60it/s]\n",
      "100%|██████████████████████████████████████████████████████████████████████████████████████████████████████████████████| 1/1 [00:00<00:00, 206.37it/s]\n"
     ]
    },
    {
     "name": "stdout",
     "output_type": "stream",
     "text": [
      "Epoch 8/500 Train Total Loss: 0.04044 Train Src Loss: 0.01065 Train Tgt Loss: 0.02979 \n",
      "                 Val Total Loss: 0.27253 Val Src Loss: 0.23872 Val Tgt Loss: 0.03381\n"
     ]
    },
    {
     "name": "stderr",
     "output_type": "stream",
     "text": [
      "100%|██████████████████████████████████████████████████████████████████████████████████████████████████████████████████| 7/7 [00:00<00:00, 162.66it/s]\n",
      "100%|██████████████████████████████████████████████████████████████████████████████████████████████████████████████████| 2/2 [00:00<00:00, 106.30it/s]\n",
      "100%|██████████████████████████████████████████████████████████████████████████████████████████████████████████████████| 2/2 [00:00<00:00, 282.87it/s]\n",
      "100%|██████████████████████████████████████████████████████████████████████████████████████████████████████████████████| 1/1 [00:00<00:00, 185.05it/s]\n"
     ]
    },
    {
     "name": "stdout",
     "output_type": "stream",
     "text": [
      "Epoch 9/500 Train Total Loss: 0.04753 Train Src Loss: 0.01034 Train Tgt Loss: 0.03719 \n",
      "                 Val Total Loss: 0.26171 Val Src Loss: 0.226 Val Tgt Loss: 0.03571\n"
     ]
    },
    {
     "name": "stderr",
     "output_type": "stream",
     "text": [
      "100%|██████████████████████████████████████████████████████████████████████████████████████████████████████████████████| 7/7 [00:00<00:00, 233.97it/s]\n",
      "100%|██████████████████████████████████████████████████████████████████████████████████████████████████████████████████| 2/2 [00:00<00:00, 175.69it/s]\n",
      "100%|██████████████████████████████████████████████████████████████████████████████████████████████████████████████████| 2/2 [00:00<00:00, 264.03it/s]\n",
      "100%|██████████████████████████████████████████████████████████████████████████████████████████████████████████████████| 1/1 [00:00<00:00, 219.32it/s]\n"
     ]
    },
    {
     "name": "stdout",
     "output_type": "stream",
     "text": [
      "Epoch 10/500 Train Total Loss: 0.04459 Train Src Loss: 0.00872 Train Tgt Loss: 0.03587 \n",
      "                 Val Total Loss: 0.27372 Val Src Loss: 0.2431 Val Tgt Loss: 0.03062\n"
     ]
    },
    {
     "name": "stderr",
     "output_type": "stream",
     "text": [
      "100%|██████████████████████████████████████████████████████████████████████████████████████████████████████████████████| 7/7 [00:00<00:00, 435.06it/s]\n",
      "100%|██████████████████████████████████████████████████████████████████████████████████████████████████████████████████| 2/2 [00:00<00:00, 425.93it/s]\n",
      "100%|██████████████████████████████████████████████████████████████████████████████████████████████████████████████████| 2/2 [00:00<00:00, 407.35it/s]\n",
      "100%|██████████████████████████████████████████████████████████████████████████████████████████████████████████████████| 1/1 [00:00<00:00, 293.80it/s]\n"
     ]
    },
    {
     "name": "stdout",
     "output_type": "stream",
     "text": [
      "Epoch 11/500 Train Total Loss: 0.04473 Train Src Loss: 0.00922 Train Tgt Loss: 0.03551 \n",
      "                 Val Total Loss: 0.27599 Val Src Loss: 0.24206 Val Tgt Loss: 0.03392\n"
     ]
    },
    {
     "name": "stderr",
     "output_type": "stream",
     "text": [
      "100%|██████████████████████████████████████████████████████████████████████████████████████████████████████████████████| 7/7 [00:00<00:00, 566.08it/s]\n",
      "100%|██████████████████████████████████████████████████████████████████████████████████████████████████████████████████| 2/2 [00:00<00:00, 419.18it/s]\n",
      "100%|██████████████████████████████████████████████████████████████████████████████████████████████████████████████████| 2/2 [00:00<00:00, 592.42it/s]\n",
      "100%|██████████████████████████████████████████████████████████████████████████████████████████████████████████████████| 1/1 [00:00<00:00, 296.35it/s]\n"
     ]
    },
    {
     "name": "stdout",
     "output_type": "stream",
     "text": [
      "Epoch 12/500 Train Total Loss: 0.0453 Train Src Loss: 0.00943 Train Tgt Loss: 0.03587 \n",
      "                 Val Total Loss: 0.27134 Val Src Loss: 0.23724 Val Tgt Loss: 0.0341\n"
     ]
    },
    {
     "name": "stderr",
     "output_type": "stream",
     "text": [
      "100%|██████████████████████████████████████████████████████████████████████████████████████████████████████████████████| 7/7 [00:00<00:00, 429.52it/s]\n",
      "100%|██████████████████████████████████████████████████████████████████████████████████████████████████████████████████| 2/2 [00:00<00:00, 420.00it/s]\n",
      "100%|██████████████████████████████████████████████████████████████████████████████████████████████████████████████████| 2/2 [00:00<00:00, 583.31it/s]\n",
      "100%|██████████████████████████████████████████████████████████████████████████████████████████████████████████████████| 1/1 [00:00<00:00, 300.19it/s]\n"
     ]
    },
    {
     "name": "stdout",
     "output_type": "stream",
     "text": [
      "Epoch 13/500 Train Total Loss: 0.0438 Train Src Loss: 0.00937 Train Tgt Loss: 0.03443 \n",
      "                 Val Total Loss: 0.27797 Val Src Loss: 0.24853 Val Tgt Loss: 0.02944\n"
     ]
    },
    {
     "name": "stderr",
     "output_type": "stream",
     "text": [
      "100%|██████████████████████████████████████████████████████████████████████████████████████████████████████████████████| 7/7 [00:00<00:00, 146.60it/s]\n",
      "100%|███████████████████████████████████████████████████████████████████████████████████████████████████████████████████| 2/2 [00:00<00:00, 65.10it/s]\n",
      "100%|██████████████████████████████████████████████████████████████████████████████████████████████████████████████████| 2/2 [00:00<00:00, 214.00it/s]\n",
      "100%|██████████████████████████████████████████████████████████████████████████████████████████████████████████████████| 1/1 [00:00<00:00, 176.24it/s]\n"
     ]
    },
    {
     "name": "stdout",
     "output_type": "stream",
     "text": [
      "Epoch 14/500 Train Total Loss: 0.04693 Train Src Loss: 0.0094 Train Tgt Loss: 0.03753 \n",
      "                 Val Total Loss: 0.25927 Val Src Loss: 0.22557 Val Tgt Loss: 0.03369\n"
     ]
    },
    {
     "name": "stderr",
     "output_type": "stream",
     "text": [
      "100%|██████████████████████████████████████████████████████████████████████████████████████████████████████████████████| 7/7 [00:00<00:00, 151.73it/s]\n",
      "100%|██████████████████████████████████████████████████████████████████████████████████████████████████████████████████| 2/2 [00:00<00:00, 124.28it/s]\n",
      "100%|██████████████████████████████████████████████████████████████████████████████████████████████████████████████████| 2/2 [00:00<00:00, 262.78it/s]\n",
      "100%|██████████████████████████████████████████████████████████████████████████████████████████████████████████████████| 1/1 [00:00<00:00, 132.86it/s]\n"
     ]
    },
    {
     "name": "stdout",
     "output_type": "stream",
     "text": [
      "Epoch 15/500 Train Total Loss: 0.04521 Train Src Loss: 0.00851 Train Tgt Loss: 0.0367 \n",
      "                 Val Total Loss: 0.26828 Val Src Loss: 0.23926 Val Tgt Loss: 0.02902\n"
     ]
    },
    {
     "name": "stderr",
     "output_type": "stream",
     "text": [
      "100%|██████████████████████████████████████████████████████████████████████████████████████████████████████████████████| 7/7 [00:00<00:00, 239.75it/s]\n",
      "100%|██████████████████████████████████████████████████████████████████████████████████████████████████████████████████| 2/2 [00:00<00:00, 122.97it/s]\n",
      "100%|██████████████████████████████████████████████████████████████████████████████████████████████████████████████████| 2/2 [00:00<00:00, 225.01it/s]\n",
      "100%|██████████████████████████████████████████████████████████████████████████████████████████████████████████████████| 1/1 [00:00<00:00, 260.42it/s]\n"
     ]
    },
    {
     "name": "stdout",
     "output_type": "stream",
     "text": [
      "Epoch 16/500 Train Total Loss: 0.04961 Train Src Loss: 0.01023 Train Tgt Loss: 0.03939 \n",
      "                 Val Total Loss: 0.26797 Val Src Loss: 0.23312 Val Tgt Loss: 0.03485\n"
     ]
    },
    {
     "name": "stderr",
     "output_type": "stream",
     "text": [
      "100%|██████████████████████████████████████████████████████████████████████████████████████████████████████████████████| 7/7 [00:00<00:00, 560.07it/s]\n",
      "100%|██████████████████████████████████████████████████████████████████████████████████████████████████████████████████| 2/2 [00:00<00:00, 430.87it/s]\n",
      "100%|██████████████████████████████████████████████████████████████████████████████████████████████████████████████████| 2/2 [00:00<00:00, 401.62it/s]\n",
      "100%|██████████████████████████████████████████████████████████████████████████████████████████████████████████████████| 1/1 [00:00<00:00, 296.63it/s]\n"
     ]
    },
    {
     "name": "stdout",
     "output_type": "stream",
     "text": [
      "Epoch 17/500 Train Total Loss: 0.04615 Train Src Loss: 0.0098 Train Tgt Loss: 0.03635 \n",
      "                 Val Total Loss: 0.27978 Val Src Loss: 0.2357 Val Tgt Loss: 0.04409\n"
     ]
    },
    {
     "name": "stderr",
     "output_type": "stream",
     "text": [
      "100%|██████████████████████████████████████████████████████████████████████████████████████████████████████████████████| 7/7 [00:00<00:00, 557.13it/s]\n",
      "100%|██████████████████████████████████████████████████████████████████████████████████████████████████████████████████| 2/2 [00:00<00:00, 409.08it/s]\n",
      "100%|██████████████████████████████████████████████████████████████████████████████████████████████████████████████████| 2/2 [00:00<00:00, 407.73it/s]\n",
      "100%|██████████████████████████████████████████████████████████████████████████████████████████████████████████████████| 1/1 [00:00<00:00, 271.23it/s]\n"
     ]
    },
    {
     "name": "stdout",
     "output_type": "stream",
     "text": [
      "Epoch 18/500 Train Total Loss: 0.04466 Train Src Loss: 0.01083 Train Tgt Loss: 0.03383 \n",
      "                 Val Total Loss: 0.29183 Val Src Loss: 0.25241 Val Tgt Loss: 0.03942\n"
     ]
    },
    {
     "name": "stderr",
     "output_type": "stream",
     "text": [
      "100%|██████████████████████████████████████████████████████████████████████████████████████████████████████████████████| 7/7 [00:00<00:00, 550.89it/s]\n",
      "100%|██████████████████████████████████████████████████████████████████████████████████████████████████████████████████| 2/2 [00:00<00:00, 413.29it/s]\n",
      "100%|██████████████████████████████████████████████████████████████████████████████████████████████████████████████████| 2/2 [00:00<00:00, 255.17it/s]\n",
      "100%|██████████████████████████████████████████████████████████████████████████████████████████████████████████████████| 1/1 [00:00<00:00, 109.64it/s]\n"
     ]
    },
    {
     "name": "stdout",
     "output_type": "stream",
     "text": [
      "Epoch 19/500 Train Total Loss: 0.0459 Train Src Loss: 0.00976 Train Tgt Loss: 0.03614 \n",
      "                 Val Total Loss: 0.26611 Val Src Loss: 0.23682 Val Tgt Loss: 0.02929\n"
     ]
    },
    {
     "name": "stderr",
     "output_type": "stream",
     "text": [
      "100%|██████████████████████████████████████████████████████████████████████████████████████████████████████████████████| 7/7 [00:00<00:00, 123.77it/s]\n",
      "100%|██████████████████████████████████████████████████████████████████████████████████████████████████████████████████| 2/2 [00:00<00:00, 303.48it/s]\n",
      "100%|██████████████████████████████████████████████████████████████████████████████████████████████████████████████████| 2/2 [00:00<00:00, 193.33it/s]\n",
      "100%|██████████████████████████████████████████████████████████████████████████████████████████████████████████████████| 1/1 [00:00<00:00, 200.52it/s]\n"
     ]
    },
    {
     "name": "stdout",
     "output_type": "stream",
     "text": [
      "Epoch 20/500 Train Total Loss: 0.03997 Train Src Loss: 0.00997 Train Tgt Loss: 0.03 \n",
      "                 Val Total Loss: 0.27822 Val Src Loss: 0.24737 Val Tgt Loss: 0.03085\n"
     ]
    },
    {
     "name": "stderr",
     "output_type": "stream",
     "text": [
      "100%|██████████████████████████████████████████████████████████████████████████████████████████████████████████████████| 7/7 [00:00<00:00, 161.87it/s]\n",
      "100%|██████████████████████████████████████████████████████████████████████████████████████████████████████████████████| 2/2 [00:00<00:00, 103.78it/s]\n",
      "100%|██████████████████████████████████████████████████████████████████████████████████████████████████████████████████| 2/2 [00:00<00:00, 303.50it/s]\n",
      "100%|██████████████████████████████████████████████████████████████████████████████████████████████████████████████████| 1/1 [00:00<00:00, 203.12it/s]\n"
     ]
    },
    {
     "name": "stdout",
     "output_type": "stream",
     "text": [
      "Epoch 21/500 Train Total Loss: 0.039 Train Src Loss: 0.00838 Train Tgt Loss: 0.03061 \n",
      "                 Val Total Loss: 0.26566 Val Src Loss: 0.23202 Val Tgt Loss: 0.03364\n"
     ]
    },
    {
     "name": "stderr",
     "output_type": "stream",
     "text": [
      "100%|██████████████████████████████████████████████████████████████████████████████████████████████████████████████████| 7/7 [00:00<00:00, 204.03it/s]\n",
      "100%|██████████████████████████████████████████████████████████████████████████████████████████████████████████████████| 2/2 [00:00<00:00, 175.24it/s]\n",
      "100%|██████████████████████████████████████████████████████████████████████████████████████████████████████████████████| 2/2 [00:00<00:00, 279.78it/s]\n",
      "100%|██████████████████████████████████████████████████████████████████████████████████████████████████████████████████| 1/1 [00:00<00:00, 189.93it/s]\n"
     ]
    },
    {
     "name": "stdout",
     "output_type": "stream",
     "text": [
      "Epoch 22/500 Train Total Loss: 0.04151 Train Src Loss: 0.00923 Train Tgt Loss: 0.03228 \n",
      "                 Val Total Loss: 0.27583 Val Src Loss: 0.2453 Val Tgt Loss: 0.03053\n"
     ]
    },
    {
     "name": "stderr",
     "output_type": "stream",
     "text": [
      "100%|██████████████████████████████████████████████████████████████████████████████████████████████████████████████████| 7/7 [00:00<00:00, 420.60it/s]\n",
      "100%|██████████████████████████████████████████████████████████████████████████████████████████████████████████████████| 2/2 [00:00<00:00, 378.31it/s]\n",
      "100%|██████████████████████████████████████████████████████████████████████████████████████████████████████████████████| 2/2 [00:00<00:00, 535.16it/s]\n",
      "100%|██████████████████████████████████████████████████████████████████████████████████████████████████████████████████| 1/1 [00:00<00:00, 318.89it/s]\n"
     ]
    },
    {
     "name": "stdout",
     "output_type": "stream",
     "text": [
      "Epoch 23/500 Train Total Loss: 0.04327 Train Src Loss: 0.00945 Train Tgt Loss: 0.03382 \n",
      "                 Val Total Loss: 0.26223 Val Src Loss: 0.23251 Val Tgt Loss: 0.02972\n"
     ]
    },
    {
     "name": "stderr",
     "output_type": "stream",
     "text": [
      "100%|██████████████████████████████████████████████████████████████████████████████████████████████████████████████████| 7/7 [00:00<00:00, 451.51it/s]\n",
      "100%|██████████████████████████████████████████████████████████████████████████████████████████████████████████████████| 2/2 [00:00<00:00, 370.00it/s]\n",
      "100%|██████████████████████████████████████████████████████████████████████████████████████████████████████████████████| 2/2 [00:00<00:00, 446.16it/s]\n",
      "100%|██████████████████████████████████████████████████████████████████████████████████████████████████████████████████| 1/1 [00:00<00:00, 270.36it/s]\n"
     ]
    },
    {
     "name": "stdout",
     "output_type": "stream",
     "text": [
      "Epoch 24/500 Train Total Loss: 0.03963 Train Src Loss: 0.00822 Train Tgt Loss: 0.03141 \n",
      "                 Val Total Loss: 0.27289 Val Src Loss: 0.23844 Val Tgt Loss: 0.03444\n"
     ]
    },
    {
     "name": "stderr",
     "output_type": "stream",
     "text": [
      "100%|██████████████████████████████████████████████████████████████████████████████████████████████████████████████████| 7/7 [00:00<00:00, 513.96it/s]\n",
      "100%|██████████████████████████████████████████████████████████████████████████████████████████████████████████████████| 2/2 [00:00<00:00, 280.20it/s]\n",
      "100%|██████████████████████████████████████████████████████████████████████████████████████████████████████████████████| 2/2 [00:00<00:00, 428.91it/s]\n",
      "100%|██████████████████████████████████████████████████████████████████████████████████████████████████████████████████| 1/1 [00:00<00:00, 154.00it/s]\n"
     ]
    },
    {
     "name": "stdout",
     "output_type": "stream",
     "text": [
      "Epoch 25/500 Train Total Loss: 0.04144 Train Src Loss: 0.00788 Train Tgt Loss: 0.03356 \n",
      "                 Val Total Loss: 0.27819 Val Src Loss: 0.24531 Val Tgt Loss: 0.03288\n",
      "Test: 47 48\n"
     ]
    }
   ],
   "source": [
    "# test_f1_list = []\n",
    "# prev_train_idx = 7\n",
    "# for test_idx in range(9, 49, 2):\n",
    "#     print(\"Test:\", test_idx, test_idx + 1)\n",
    "#     test_data = [get_data(data_dir, \"elliptic\", i) for i in range(test_idx, test_idx+2)]\n",
    "#     test_loader = DataLoader(dataset=test_data, batch_size=1, shuffle=False)\n",
    "#     test_loss, test_f1 = test(encoder, mlp, test_loader, loss_fn, device)\n",
    "#     test_f1_list.append(test_f1)\n",
    "#     if test_idx == 47:\n",
    "#         break\n",
    "#     print(\"Adapt train:\", prev_train_idx, test_idx)\n",
    "#     print(\"Adapt val:\", test_idx + 1)\n",
    "#     encoder, mlp, _, _, _ = continual_adapt([prev_train_idx, test_idx + 1, test_idx + 2], train_loader, val_loader, encoder, mlp, device, lambda_coeff=lambda_coeff, lr=lr)\n",
    "#     prev_train_idx = test_idx + 1"
   ]
  },
  {
   "cell_type": "code",
   "execution_count": 19,
   "id": "30ba4a8a",
   "metadata": {},
   "outputs": [
    {
     "data": {
      "text/plain": [
       "0.4307775450680297"
      ]
     },
     "execution_count": 19,
     "metadata": {},
     "output_type": "execute_result"
    }
   ],
   "source": [
    "# sum(test_f1_list) / len(test_f1_list)"
   ]
  },
  {
   "cell_type": "code",
   "execution_count": null,
   "id": "8bf880b7",
   "metadata": {},
   "outputs": [],
   "source": []
  },
  {
   "cell_type": "code",
   "execution_count": null,
   "id": "15d8947b",
   "metadata": {},
   "outputs": [],
   "source": []
  },
  {
   "cell_type": "code",
   "execution_count": 20,
   "id": "228b61b5",
   "metadata": {},
   "outputs": [],
   "source": [
    "f1_list = []"
   ]
  },
  {
   "cell_type": "markdown",
   "id": "903eab0d",
   "metadata": {},
   "source": [
    "### 9-13 ###"
   ]
  },
  {
   "cell_type": "code",
   "execution_count": 21,
   "id": "4af0b27a",
   "metadata": {},
   "outputs": [],
   "source": [
    "test_data = [get_data(data_dir, \"elliptic\", i) for i in range(9,14)]\n",
    "test_loader = DataLoader(dataset=test_data, batch_size=1, shuffle=False)"
   ]
  },
  {
   "cell_type": "code",
   "execution_count": 22,
   "id": "98177228",
   "metadata": {},
   "outputs": [
    {
     "name": "stdout",
     "output_type": "stream",
     "text": [
      "Test Loss: 0.2805, Test F1: 0.6911\n"
     ]
    }
   ],
   "source": [
    "test_loss, test_f1 = test(encoder, mlp, test_loader, loss_fn, device)\n",
    "f1_list.append(test_f1)\n",
    "print(f\"Test Loss: {round(test_loss,4)}, Test F1: {round(test_f1,4)}\")"
   ]
  },
  {
   "cell_type": "code",
   "execution_count": 23,
   "id": "75a13fef",
   "metadata": {
    "scrolled": true
   },
   "outputs": [
    {
     "name": "stderr",
     "output_type": "stream",
     "text": [
      "100%|██████████████████████████████████████████████████████████████████████████████████████████████████████████████████| 7/7 [00:00<00:00, 236.42it/s]\n",
      "100%|██████████████████████████████████████████████████████████████████████████████████████████████████████████████████| 5/5 [00:00<00:00, 338.44it/s]\n",
      "100%|██████████████████████████████████████████████████████████████████████████████████████████████████████████████████| 2/2 [00:00<00:00, 442.37it/s]\n",
      "100%|██████████████████████████████████████████████████████████████████████████████████████████████████████████████████| 2/2 [00:00<00:00, 338.47it/s]\n"
     ]
    },
    {
     "name": "stdout",
     "output_type": "stream",
     "text": [
      "Epoch 1/500 Train Total Loss: 0.06514 Train Src Loss: 0.00839 Train Tgt Loss: 0.05675 \n",
      "                 Val Total Loss: 0.27988 Val Src Loss: 0.20493 Val Tgt Loss: 0.07495\n"
     ]
    },
    {
     "name": "stderr",
     "output_type": "stream",
     "text": [
      "100%|██████████████████████████████████████████████████████████████████████████████████████████████████████████████████| 7/7 [00:00<00:00, 517.74it/s]\n",
      "100%|██████████████████████████████████████████████████████████████████████████████████████████████████████████████████| 5/5 [00:00<00:00, 384.71it/s]\n",
      "100%|██████████████████████████████████████████████████████████████████████████████████████████████████████████████████| 2/2 [00:00<00:00, 560.96it/s]\n",
      "100%|██████████████████████████████████████████████████████████████████████████████████████████████████████████████████| 2/2 [00:00<00:00, 345.39it/s]\n"
     ]
    },
    {
     "name": "stdout",
     "output_type": "stream",
     "text": [
      "Epoch 2/500 Train Total Loss: 0.06056 Train Src Loss: 0.00836 Train Tgt Loss: 0.0522 \n",
      "                 Val Total Loss: 0.2731 Val Src Loss: 0.1945 Val Tgt Loss: 0.0786\n"
     ]
    },
    {
     "name": "stderr",
     "output_type": "stream",
     "text": [
      "100%|██████████████████████████████████████████████████████████████████████████████████████████████████████████████████| 7/7 [00:00<00:00, 521.12it/s]\n",
      "100%|██████████████████████████████████████████████████████████████████████████████████████████████████████████████████| 5/5 [00:00<00:00, 142.50it/s]\n",
      "100%|██████████████████████████████████████████████████████████████████████████████████████████████████████████████████| 2/2 [00:00<00:00, 180.44it/s]\n",
      "100%|███████████████████████████████████████████████████████████████████████████████████████████████████████████████████| 2/2 [00:00<00:00, 79.42it/s]\n"
     ]
    },
    {
     "name": "stdout",
     "output_type": "stream",
     "text": [
      "Epoch 3/500 Train Total Loss: 0.06152 Train Src Loss: 0.00778 Train Tgt Loss: 0.05374 \n",
      "                 Val Total Loss: 0.27085 Val Src Loss: 0.19645 Val Tgt Loss: 0.0744\n"
     ]
    },
    {
     "name": "stderr",
     "output_type": "stream",
     "text": [
      "100%|██████████████████████████████████████████████████████████████████████████████████████████████████████████████████| 7/7 [00:00<00:00, 269.05it/s]\n",
      "100%|██████████████████████████████████████████████████████████████████████████████████████████████████████████████████| 5/5 [00:00<00:00, 392.62it/s]\n",
      "100%|██████████████████████████████████████████████████████████████████████████████████████████████████████████████████| 2/2 [00:00<00:00, 452.83it/s]\n",
      "100%|██████████████████████████████████████████████████████████████████████████████████████████████████████████████████| 2/2 [00:00<00:00, 408.22it/s]\n"
     ]
    },
    {
     "name": "stdout",
     "output_type": "stream",
     "text": [
      "Epoch 4/500 Train Total Loss: 0.05414 Train Src Loss: 0.00789 Train Tgt Loss: 0.04625 \n",
      "                 Val Total Loss: 0.26917 Val Src Loss: 0.19151 Val Tgt Loss: 0.07766\n"
     ]
    },
    {
     "name": "stderr",
     "output_type": "stream",
     "text": [
      "100%|██████████████████████████████████████████████████████████████████████████████████████████████████████████████████| 7/7 [00:00<00:00, 515.70it/s]\n",
      "100%|██████████████████████████████████████████████████████████████████████████████████████████████████████████████████| 5/5 [00:00<00:00, 391.58it/s]\n",
      "100%|██████████████████████████████████████████████████████████████████████████████████████████████████████████████████| 2/2 [00:00<00:00, 543.06it/s]\n",
      "100%|██████████████████████████████████████████████████████████████████████████████████████████████████████████████████| 2/2 [00:00<00:00, 326.20it/s]\n"
     ]
    },
    {
     "name": "stdout",
     "output_type": "stream",
     "text": [
      "Epoch 5/500 Train Total Loss: 0.05407 Train Src Loss: 0.00799 Train Tgt Loss: 0.04608 \n",
      "                 Val Total Loss: 0.27567 Val Src Loss: 0.2011 Val Tgt Loss: 0.07457\n"
     ]
    },
    {
     "name": "stderr",
     "output_type": "stream",
     "text": [
      "100%|██████████████████████████████████████████████████████████████████████████████████████████████████████████████████| 7/7 [00:00<00:00, 520.84it/s]\n",
      "100%|██████████████████████████████████████████████████████████████████████████████████████████████████████████████████| 5/5 [00:00<00:00, 143.17it/s]\n",
      "100%|██████████████████████████████████████████████████████████████████████████████████████████████████████████████████| 2/2 [00:00<00:00, 212.36it/s]\n",
      "100%|███████████████████████████████████████████████████████████████████████████████████████████████████████████████████| 2/2 [00:00<00:00, 78.29it/s]\n"
     ]
    },
    {
     "name": "stdout",
     "output_type": "stream",
     "text": [
      "Epoch 6/500 Train Total Loss: 0.05906 Train Src Loss: 0.00726 Train Tgt Loss: 0.0518 \n",
      "                 Val Total Loss: 0.29971 Val Src Loss: 0.2155 Val Tgt Loss: 0.08421\n"
     ]
    },
    {
     "name": "stderr",
     "output_type": "stream",
     "text": [
      "100%|██████████████████████████████████████████████████████████████████████████████████████████████████████████████████| 7/7 [00:00<00:00, 270.34it/s]\n",
      "100%|██████████████████████████████████████████████████████████████████████████████████████████████████████████████████| 5/5 [00:00<00:00, 389.24it/s]\n",
      "100%|██████████████████████████████████████████████████████████████████████████████████████████████████████████████████| 2/2 [00:00<00:00, 483.35it/s]\n",
      "100%|██████████████████████████████████████████████████████████████████████████████████████████████████████████████████| 2/2 [00:00<00:00, 337.86it/s]\n"
     ]
    },
    {
     "name": "stdout",
     "output_type": "stream",
     "text": [
      "Epoch 7/500 Train Total Loss: 0.05084 Train Src Loss: 0.00651 Train Tgt Loss: 0.04432 \n",
      "                 Val Total Loss: 0.26979 Val Src Loss: 0.19685 Val Tgt Loss: 0.07293\n"
     ]
    },
    {
     "name": "stderr",
     "output_type": "stream",
     "text": [
      "100%|██████████████████████████████████████████████████████████████████████████████████████████████████████████████████| 7/7 [00:00<00:00, 512.86it/s]\n",
      "100%|██████████████████████████████████████████████████████████████████████████████████████████████████████████████████| 5/5 [00:00<00:00, 393.93it/s]\n",
      "100%|██████████████████████████████████████████████████████████████████████████████████████████████████████████████████| 2/2 [00:00<00:00, 546.31it/s]\n",
      "100%|██████████████████████████████████████████████████████████████████████████████████████████████████████████████████| 2/2 [00:00<00:00, 359.24it/s]\n"
     ]
    },
    {
     "name": "stdout",
     "output_type": "stream",
     "text": [
      "Epoch 8/500 Train Total Loss: 0.04599 Train Src Loss: 0.00646 Train Tgt Loss: 0.03953 \n",
      "                 Val Total Loss: 0.28071 Val Src Loss: 0.20167 Val Tgt Loss: 0.07905\n"
     ]
    },
    {
     "name": "stderr",
     "output_type": "stream",
     "text": [
      "100%|██████████████████████████████████████████████████████████████████████████████████████████████████████████████████| 7/7 [00:00<00:00, 214.46it/s]\n",
      "100%|██████████████████████████████████████████████████████████████████████████████████████████████████████████████████| 5/5 [00:00<00:00, 196.18it/s]\n",
      "100%|███████████████████████████████████████████████████████████████████████████████████████████████████████████████████| 2/2 [00:00<00:00, 89.10it/s]\n",
      "100%|██████████████████████████████████████████████████████████████████████████████████████████████████████████████████| 2/2 [00:00<00:00, 273.52it/s]\n"
     ]
    },
    {
     "name": "stdout",
     "output_type": "stream",
     "text": [
      "Epoch 9/500 Train Total Loss: 0.05111 Train Src Loss: 0.00726 Train Tgt Loss: 0.04384 \n",
      "                 Val Total Loss: 0.27363 Val Src Loss: 0.19818 Val Tgt Loss: 0.07545\n"
     ]
    },
    {
     "name": "stderr",
     "output_type": "stream",
     "text": [
      "100%|██████████████████████████████████████████████████████████████████████████████████████████████████████████████████| 7/7 [00:00<00:00, 319.67it/s]\n",
      "100%|██████████████████████████████████████████████████████████████████████████████████████████████████████████████████| 5/5 [00:00<00:00, 394.72it/s]\n",
      "100%|██████████████████████████████████████████████████████████████████████████████████████████████████████████████████| 2/2 [00:00<00:00, 593.42it/s]\n",
      "100%|██████████████████████████████████████████████████████████████████████████████████████████████████████████████████| 2/2 [00:00<00:00, 451.75it/s]\n"
     ]
    },
    {
     "name": "stdout",
     "output_type": "stream",
     "text": [
      "Epoch 10/500 Train Total Loss: 0.04956 Train Src Loss: 0.00626 Train Tgt Loss: 0.0433 \n",
      "                 Val Total Loss: 0.28802 Val Src Loss: 0.21658 Val Tgt Loss: 0.07145\n"
     ]
    },
    {
     "name": "stderr",
     "output_type": "stream",
     "text": [
      "100%|██████████████████████████████████████████████████████████████████████████████████████████████████████████████████| 7/7 [00:00<00:00, 562.88it/s]\n",
      "100%|██████████████████████████████████████████████████████████████████████████████████████████████████████████████████| 5/5 [00:00<00:00, 435.07it/s]\n",
      "100%|██████████████████████████████████████████████████████████████████████████████████████████████████████████████████| 2/2 [00:00<00:00, 584.82it/s]\n",
      "100%|██████████████████████████████████████████████████████████████████████████████████████████████████████████████████| 2/2 [00:00<00:00, 455.95it/s]\n"
     ]
    },
    {
     "name": "stdout",
     "output_type": "stream",
     "text": [
      "Epoch 11/500 Train Total Loss: 0.04614 Train Src Loss: 0.00718 Train Tgt Loss: 0.03896 \n",
      "                 Val Total Loss: 0.28559 Val Src Loss: 0.21528 Val Tgt Loss: 0.07031\n"
     ]
    },
    {
     "name": "stderr",
     "output_type": "stream",
     "text": [
      "100%|██████████████████████████████████████████████████████████████████████████████████████████████████████████████████| 7/7 [00:00<00:00, 565.02it/s]\n",
      "100%|██████████████████████████████████████████████████████████████████████████████████████████████████████████████████| 5/5 [00:00<00:00, 155.55it/s]\n",
      "100%|██████████████████████████████████████████████████████████████████████████████████████████████████████████████████| 2/2 [00:00<00:00, 217.85it/s]\n",
      "100%|██████████████████████████████████████████████████████████████████████████████████████████████████████████████████| 2/2 [00:00<00:00, 134.05it/s]\n"
     ]
    },
    {
     "name": "stdout",
     "output_type": "stream",
     "text": [
      "Epoch 12/500 Train Total Loss: 0.04787 Train Src Loss: 0.00786 Train Tgt Loss: 0.04001 \n",
      "                 Val Total Loss: 0.29938 Val Src Loss: 0.22981 Val Tgt Loss: 0.06957\n"
     ]
    },
    {
     "name": "stderr",
     "output_type": "stream",
     "text": [
      "100%|██████████████████████████████████████████████████████████████████████████████████████████████████████████████████| 7/7 [00:00<00:00, 196.45it/s]\n",
      "100%|██████████████████████████████████████████████████████████████████████████████████████████████████████████████████| 5/5 [00:00<00:00, 424.08it/s]\n",
      "100%|██████████████████████████████████████████████████████████████████████████████████████████████████████████████████| 2/2 [00:00<00:00, 366.63it/s]\n",
      "100%|██████████████████████████████████████████████████████████████████████████████████████████████████████████████████| 2/2 [00:00<00:00, 353.83it/s]\n"
     ]
    },
    {
     "name": "stdout",
     "output_type": "stream",
     "text": [
      "Epoch 13/500 Train Total Loss: 0.0462 Train Src Loss: 0.00707 Train Tgt Loss: 0.03912 \n",
      "                 Val Total Loss: 0.27699 Val Src Loss: 0.21337 Val Tgt Loss: 0.06362\n"
     ]
    },
    {
     "name": "stderr",
     "output_type": "stream",
     "text": [
      "100%|██████████████████████████████████████████████████████████████████████████████████████████████████████████████████| 7/7 [00:00<00:00, 563.73it/s]\n",
      "100%|██████████████████████████████████████████████████████████████████████████████████████████████████████████████████| 5/5 [00:00<00:00, 418.66it/s]\n",
      "100%|██████████████████████████████████████████████████████████████████████████████████████████████████████████████████| 2/2 [00:00<00:00, 414.78it/s]\n",
      "100%|██████████████████████████████████████████████████████████████████████████████████████████████████████████████████| 2/2 [00:00<00:00, 385.51it/s]\n"
     ]
    },
    {
     "name": "stdout",
     "output_type": "stream",
     "text": [
      "Epoch 14/500 Train Total Loss: 0.04191 Train Src Loss: 0.00697 Train Tgt Loss: 0.03494 \n",
      "                 Val Total Loss: 0.28623 Val Src Loss: 0.22967 Val Tgt Loss: 0.05656\n"
     ]
    },
    {
     "name": "stderr",
     "output_type": "stream",
     "text": [
      "100%|██████████████████████████████████████████████████████████████████████████████████████████████████████████████████| 7/7 [00:00<00:00, 569.50it/s]\n",
      "100%|██████████████████████████████████████████████████████████████████████████████████████████████████████████████████| 5/5 [00:00<00:00, 248.10it/s]\n",
      "100%|██████████████████████████████████████████████████████████████████████████████████████████████████████████████████| 2/2 [00:00<00:00, 294.03it/s]\n",
      "100%|██████████████████████████████████████████████████████████████████████████████████████████████████████████████████| 2/2 [00:00<00:00, 148.96it/s]"
     ]
    },
    {
     "name": "stdout",
     "output_type": "stream",
     "text": [
      "Epoch 15/500 Train Total Loss: 0.04433 Train Src Loss: 0.00668 Train Tgt Loss: 0.03764 \n",
      "                 Val Total Loss: 0.28066 Val Src Loss: 0.22479 Val Tgt Loss: 0.05587\n"
     ]
    },
    {
     "name": "stderr",
     "output_type": "stream",
     "text": [
      "\n"
     ]
    }
   ],
   "source": [
    "encoder_9_14, mlp_9_14, best_val_loss, best_val_src_loss, best_val_tgt_loss = continual_adapt([7,12,14], train_loader, val_loader, encoder, mlp, device, lambda_coeff=lambda_coeff, lr=lr)"
   ]
  },
  {
   "cell_type": "code",
   "execution_count": 24,
   "id": "fcb6d64e",
   "metadata": {},
   "outputs": [
    {
     "name": "stdout",
     "output_type": "stream",
     "text": [
      "Total Val Loss: 0.269, Val Src Loss: 0.192, Val Tgt Loss: 0.078\n"
     ]
    }
   ],
   "source": [
    "print(f'Total Val Loss: {round(best_val_loss, 3)}, Val Src Loss: {round(best_val_src_loss, 3)}, Val Tgt Loss: {round(best_val_tgt_loss, 3)}')"
   ]
  },
  {
   "cell_type": "markdown",
   "id": "9db88096",
   "metadata": {},
   "source": [
    "### 14-18 ###"
   ]
  },
  {
   "cell_type": "code",
   "execution_count": 25,
   "id": "55243d5c",
   "metadata": {},
   "outputs": [],
   "source": [
    "test_data = [get_data(data_dir, \"elliptic\", i) for i in range(14,19)]\n",
    "test_loader = DataLoader(dataset=test_data, batch_size=1, shuffle=False)"
   ]
  },
  {
   "cell_type": "code",
   "execution_count": 26,
   "id": "8bfdc043",
   "metadata": {
    "scrolled": false
   },
   "outputs": [
    {
     "name": "stdout",
     "output_type": "stream",
     "text": [
      "Test Loss: 0.4318, Test F1: 0.7207\n"
     ]
    }
   ],
   "source": [
    "test_loss, test_f1 = test(encoder_9_14, mlp_9_14, test_loader, loss_fn, device)\n",
    "f1_list.append(test_f1)\n",
    "print(f\"Test Loss: {round(test_loss,4)}, Test F1: {round(test_f1,4)}\")"
   ]
  },
  {
   "cell_type": "code",
   "execution_count": 27,
   "id": "f73fb2e1",
   "metadata": {
    "scrolled": true
   },
   "outputs": [
    {
     "name": "stderr",
     "output_type": "stream",
     "text": [
      "100%|██████████████████████████████████████████████████████████████████████████████████████████████████████████████████| 7/7 [00:00<00:00, 542.15it/s]\n",
      "100%|██████████████████████████████████████████████████████████████████████████████████████████████████████████████████| 5/5 [00:00<00:00, 457.87it/s]\n",
      "100%|██████████████████████████████████████████████████████████████████████████████████████████████████████████████████| 2/2 [00:00<00:00, 577.21it/s]\n",
      "100%|██████████████████████████████████████████████████████████████████████████████████████████████████████████████████| 2/2 [00:00<00:00, 466.84it/s]\n"
     ]
    },
    {
     "name": "stdout",
     "output_type": "stream",
     "text": [
      "Epoch 1/500 Train Total Loss: 0.099 Train Src Loss: 0.00827 Train Tgt Loss: 0.09073 \n",
      "                 Val Total Loss: 0.29385 Val Src Loss: 0.21271 Val Tgt Loss: 0.08114\n"
     ]
    },
    {
     "name": "stderr",
     "output_type": "stream",
     "text": [
      "100%|██████████████████████████████████████████████████████████████████████████████████████████████████████████████████| 7/7 [00:00<00:00, 552.34it/s]\n",
      "100%|██████████████████████████████████████████████████████████████████████████████████████████████████████████████████| 5/5 [00:00<00:00, 449.47it/s]\n",
      "100%|██████████████████████████████████████████████████████████████████████████████████████████████████████████████████| 2/2 [00:00<00:00, 579.28it/s]\n",
      "100%|██████████████████████████████████████████████████████████████████████████████████████████████████████████████████| 2/2 [00:00<00:00, 157.74it/s]\n"
     ]
    },
    {
     "name": "stdout",
     "output_type": "stream",
     "text": [
      "Epoch 2/500 Train Total Loss: 0.09651 Train Src Loss: 0.00755 Train Tgt Loss: 0.08896 \n",
      "                 Val Total Loss: 0.28317 Val Src Loss: 0.21116 Val Tgt Loss: 0.07201\n"
     ]
    },
    {
     "name": "stderr",
     "output_type": "stream",
     "text": [
      "100%|██████████████████████████████████████████████████████████████████████████████████████████████████████████████████| 7/7 [00:00<00:00, 251.09it/s]\n",
      "100%|██████████████████████████████████████████████████████████████████████████████████████████████████████████████████| 5/5 [00:00<00:00, 232.19it/s]\n",
      "100%|███████████████████████████████████████████████████████████████████████████████████████████████████████████████████| 2/2 [00:00<00:00, 87.76it/s]\n",
      "100%|██████████████████████████████████████████████████████████████████████████████████████████████████████████████████| 2/2 [00:00<00:00, 267.96it/s]\n"
     ]
    },
    {
     "name": "stdout",
     "output_type": "stream",
     "text": [
      "Epoch 3/500 Train Total Loss: 0.09231 Train Src Loss: 0.00699 Train Tgt Loss: 0.08532 \n",
      "                 Val Total Loss: 0.2838 Val Src Loss: 0.21367 Val Tgt Loss: 0.07012\n"
     ]
    },
    {
     "name": "stderr",
     "output_type": "stream",
     "text": [
      "100%|██████████████████████████████████████████████████████████████████████████████████████████████████████████████████| 7/7 [00:00<00:00, 321.11it/s]\n",
      "100%|██████████████████████████████████████████████████████████████████████████████████████████████████████████████████| 5/5 [00:00<00:00, 447.82it/s]\n",
      "100%|██████████████████████████████████████████████████████████████████████████████████████████████████████████████████| 2/2 [00:00<00:00, 481.11it/s]\n",
      "100%|██████████████████████████████████████████████████████████████████████████████████████████████████████████████████| 2/2 [00:00<00:00, 320.40it/s]\n"
     ]
    },
    {
     "name": "stdout",
     "output_type": "stream",
     "text": [
      "Epoch 4/500 Train Total Loss: 0.08647 Train Src Loss: 0.008 Train Tgt Loss: 0.07847 \n",
      "                 Val Total Loss: 0.2775 Val Src Loss: 0.20666 Val Tgt Loss: 0.07084\n"
     ]
    },
    {
     "name": "stderr",
     "output_type": "stream",
     "text": [
      "100%|██████████████████████████████████████████████████████████████████████████████████████████████████████████████████| 7/7 [00:00<00:00, 552.08it/s]\n",
      "100%|██████████████████████████████████████████████████████████████████████████████████████████████████████████████████| 5/5 [00:00<00:00, 436.97it/s]\n",
      "100%|██████████████████████████████████████████████████████████████████████████████████████████████████████████████████| 2/2 [00:00<00:00, 395.76it/s]\n",
      "100%|██████████████████████████████████████████████████████████████████████████████████████████████████████████████████| 2/2 [00:00<00:00, 375.72it/s]\n"
     ]
    },
    {
     "name": "stdout",
     "output_type": "stream",
     "text": [
      "Epoch 5/500 Train Total Loss: 0.08484 Train Src Loss: 0.00725 Train Tgt Loss: 0.07759 \n",
      "                 Val Total Loss: 0.27794 Val Src Loss: 0.20691 Val Tgt Loss: 0.07103\n"
     ]
    },
    {
     "name": "stderr",
     "output_type": "stream",
     "text": [
      "100%|██████████████████████████████████████████████████████████████████████████████████████████████████████████████████| 7/7 [00:00<00:00, 275.10it/s]\n",
      "100%|██████████████████████████████████████████████████████████████████████████████████████████████████████████████████| 5/5 [00:00<00:00, 173.45it/s]\n",
      "100%|██████████████████████████████████████████████████████████████████████████████████████████████████████████████████| 2/2 [00:00<00:00, 253.65it/s]\n",
      "100%|███████████████████████████████████████████████████████████████████████████████████████████████████████████████████| 2/2 [00:00<00:00, 81.48it/s]\n"
     ]
    },
    {
     "name": "stdout",
     "output_type": "stream",
     "text": [
      "Epoch 6/500 Train Total Loss: 0.08219 Train Src Loss: 0.00727 Train Tgt Loss: 0.07492 \n",
      "                 Val Total Loss: 0.27852 Val Src Loss: 0.20726 Val Tgt Loss: 0.07126\n"
     ]
    },
    {
     "name": "stderr",
     "output_type": "stream",
     "text": [
      "100%|██████████████████████████████████████████████████████████████████████████████████████████████████████████████████| 7/7 [00:00<00:00, 275.41it/s]\n",
      "100%|██████████████████████████████████████████████████████████████████████████████████████████████████████████████████| 5/5 [00:00<00:00, 447.19it/s]\n",
      "100%|██████████████████████████████████████████████████████████████████████████████████████████████████████████████████| 2/2 [00:00<00:00, 422.64it/s]\n",
      "100%|██████████████████████████████████████████████████████████████████████████████████████████████████████████████████| 2/2 [00:00<00:00, 348.39it/s]\n"
     ]
    },
    {
     "name": "stdout",
     "output_type": "stream",
     "text": [
      "Epoch 7/500 Train Total Loss: 0.08211 Train Src Loss: 0.0071 Train Tgt Loss: 0.075 \n",
      "                 Val Total Loss: 0.28218 Val Src Loss: 0.20305 Val Tgt Loss: 0.07913\n"
     ]
    },
    {
     "name": "stderr",
     "output_type": "stream",
     "text": [
      "100%|██████████████████████████████████████████████████████████████████████████████████████████████████████████████████| 7/7 [00:00<00:00, 559.69it/s]\n",
      "100%|██████████████████████████████████████████████████████████████████████████████████████████████████████████████████| 5/5 [00:00<00:00, 456.68it/s]\n",
      "100%|██████████████████████████████████████████████████████████████████████████████████████████████████████████████████| 2/2 [00:00<00:00, 413.05it/s]\n",
      "100%|██████████████████████████████████████████████████████████████████████████████████████████████████████████████████| 2/2 [00:00<00:00, 301.16it/s]\n"
     ]
    },
    {
     "name": "stdout",
     "output_type": "stream",
     "text": [
      "Epoch 8/500 Train Total Loss: 0.07899 Train Src Loss: 0.009 Train Tgt Loss: 0.06999 \n",
      "                 Val Total Loss: 0.26986 Val Src Loss: 0.20591 Val Tgt Loss: 0.06395\n"
     ]
    },
    {
     "name": "stderr",
     "output_type": "stream",
     "text": [
      "100%|██████████████████████████████████████████████████████████████████████████████████████████████████████████████████| 7/7 [00:00<00:00, 539.15it/s]\n",
      "100%|██████████████████████████████████████████████████████████████████████████████████████████████████████████████████| 5/5 [00:00<00:00, 143.95it/s]\n",
      "100%|██████████████████████████████████████████████████████████████████████████████████████████████████████████████████| 2/2 [00:00<00:00, 212.25it/s]\n",
      "100%|███████████████████████████████████████████████████████████████████████████████████████████████████████████████████| 2/2 [00:00<00:00, 82.79it/s]\n"
     ]
    },
    {
     "name": "stdout",
     "output_type": "stream",
     "text": [
      "Epoch 9/500 Train Total Loss: 0.07529 Train Src Loss: 0.00659 Train Tgt Loss: 0.0687 \n",
      "                 Val Total Loss: 0.28046 Val Src Loss: 0.22038 Val Tgt Loss: 0.06008\n"
     ]
    },
    {
     "name": "stderr",
     "output_type": "stream",
     "text": [
      "100%|██████████████████████████████████████████████████████████████████████████████████████████████████████████████████| 7/7 [00:00<00:00, 255.56it/s]\n",
      "100%|██████████████████████████████████████████████████████████████████████████████████████████████████████████████████| 5/5 [00:00<00:00, 281.45it/s]\n",
      "100%|██████████████████████████████████████████████████████████████████████████████████████████████████████████████████| 2/2 [00:00<00:00, 366.80it/s]\n",
      "100%|██████████████████████████████████████████████████████████████████████████████████████████████████████████████████| 2/2 [00:00<00:00, 296.40it/s]\n"
     ]
    },
    {
     "name": "stdout",
     "output_type": "stream",
     "text": [
      "Epoch 10/500 Train Total Loss: 0.07554 Train Src Loss: 0.00628 Train Tgt Loss: 0.06926 \n",
      "                 Val Total Loss: 0.28629 Val Src Loss: 0.21659 Val Tgt Loss: 0.0697\n"
     ]
    },
    {
     "name": "stderr",
     "output_type": "stream",
     "text": [
      "100%|██████████████████████████████████████████████████████████████████████████████████████████████████████████████████| 7/7 [00:00<00:00, 370.24it/s]\n",
      "100%|██████████████████████████████████████████████████████████████████████████████████████████████████████████████████| 5/5 [00:00<00:00, 280.64it/s]\n",
      "100%|██████████████████████████████████████████████████████████████████████████████████████████████████████████████████| 2/2 [00:00<00:00, 428.91it/s]\n",
      "100%|██████████████████████████████████████████████████████████████████████████████████████████████████████████████████| 2/2 [00:00<00:00, 328.19it/s]\n"
     ]
    },
    {
     "name": "stdout",
     "output_type": "stream",
     "text": [
      "Epoch 11/500 Train Total Loss: 0.07238 Train Src Loss: 0.00794 Train Tgt Loss: 0.06444 \n",
      "                 Val Total Loss: 0.30078 Val Src Loss: 0.22976 Val Tgt Loss: 0.07102\n"
     ]
    },
    {
     "name": "stderr",
     "output_type": "stream",
     "text": [
      "100%|██████████████████████████████████████████████████████████████████████████████████████████████████████████████████| 7/7 [00:00<00:00, 516.51it/s]\n",
      "100%|██████████████████████████████████████████████████████████████████████████████████████████████████████████████████| 5/5 [00:00<00:00, 150.40it/s]\n",
      "100%|██████████████████████████████████████████████████████████████████████████████████████████████████████████████████| 2/2 [00:00<00:00, 188.17it/s]\n",
      "100%|███████████████████████████████████████████████████████████████████████████████████████████████████████████████████| 2/2 [00:00<00:00, 79.97it/s]\n"
     ]
    },
    {
     "name": "stdout",
     "output_type": "stream",
     "text": [
      "Epoch 12/500 Train Total Loss: 0.06737 Train Src Loss: 0.00836 Train Tgt Loss: 0.05901 \n",
      "                 Val Total Loss: 0.29868 Val Src Loss: 0.23003 Val Tgt Loss: 0.06865\n"
     ]
    },
    {
     "name": "stderr",
     "output_type": "stream",
     "text": [
      "100%|██████████████████████████████████████████████████████████████████████████████████████████████████████████████████| 7/7 [00:00<00:00, 269.03it/s]\n",
      "100%|██████████████████████████████████████████████████████████████████████████████████████████████████████████████████| 5/5 [00:00<00:00, 445.32it/s]\n",
      "100%|██████████████████████████████████████████████████████████████████████████████████████████████████████████████████| 2/2 [00:00<00:00, 560.51it/s]\n",
      "100%|██████████████████████████████████████████████████████████████████████████████████████████████████████████████████| 2/2 [00:00<00:00, 467.70it/s]\n"
     ]
    },
    {
     "name": "stdout",
     "output_type": "stream",
     "text": [
      "Epoch 13/500 Train Total Loss: 0.07115 Train Src Loss: 0.00605 Train Tgt Loss: 0.0651 \n",
      "                 Val Total Loss: 0.29901 Val Src Loss: 0.23296 Val Tgt Loss: 0.06605\n"
     ]
    },
    {
     "name": "stderr",
     "output_type": "stream",
     "text": [
      "100%|██████████████████████████████████████████████████████████████████████████████████████████████████████████████████| 7/7 [00:00<00:00, 553.57it/s]\n",
      "100%|██████████████████████████████████████████████████████████████████████████████████████████████████████████████████| 5/5 [00:00<00:00, 449.64it/s]\n",
      "100%|██████████████████████████████████████████████████████████████████████████████████████████████████████████████████| 2/2 [00:00<00:00, 563.11it/s]\n",
      "100%|██████████████████████████████████████████████████████████████████████████████████████████████████████████████████| 2/2 [00:00<00:00, 471.06it/s]\n"
     ]
    },
    {
     "name": "stdout",
     "output_type": "stream",
     "text": [
      "Epoch 14/500 Train Total Loss: 0.06528 Train Src Loss: 0.00852 Train Tgt Loss: 0.05676 \n",
      "                 Val Total Loss: 0.29555 Val Src Loss: 0.2337 Val Tgt Loss: 0.06185\n"
     ]
    },
    {
     "name": "stderr",
     "output_type": "stream",
     "text": [
      "100%|██████████████████████████████████████████████████████████████████████████████████████████████████████████████████| 7/7 [00:00<00:00, 560.33it/s]\n",
      "100%|██████████████████████████████████████████████████████████████████████████████████████████████████████████████████| 5/5 [00:00<00:00, 128.34it/s]\n",
      "100%|██████████████████████████████████████████████████████████████████████████████████████████████████████████████████| 2/2 [00:00<00:00, 246.22it/s]\n",
      "100%|███████████████████████████████████████████████████████████████████████████████████████████████████████████████████| 2/2 [00:00<00:00, 79.47it/s]\n"
     ]
    },
    {
     "name": "stdout",
     "output_type": "stream",
     "text": [
      "Epoch 15/500 Train Total Loss: 0.05948 Train Src Loss: 0.00761 Train Tgt Loss: 0.05187 \n",
      "                 Val Total Loss: 0.28513 Val Src Loss: 0.22018 Val Tgt Loss: 0.06494\n"
     ]
    },
    {
     "name": "stderr",
     "output_type": "stream",
     "text": [
      "100%|██████████████████████████████████████████████████████████████████████████████████████████████████████████████████| 7/7 [00:00<00:00, 269.36it/s]\n",
      "100%|██████████████████████████████████████████████████████████████████████████████████████████████████████████████████| 5/5 [00:00<00:00, 441.92it/s]\n",
      "100%|██████████████████████████████████████████████████████████████████████████████████████████████████████████████████| 2/2 [00:00<00:00, 541.55it/s]\n",
      "100%|██████████████████████████████████████████████████████████████████████████████████████████████████████████████████| 2/2 [00:00<00:00, 367.36it/s]\n"
     ]
    },
    {
     "name": "stdout",
     "output_type": "stream",
     "text": [
      "Epoch 16/500 Train Total Loss: 0.06061 Train Src Loss: 0.0089 Train Tgt Loss: 0.0517 \n",
      "                 Val Total Loss: 0.30477 Val Src Loss: 0.24206 Val Tgt Loss: 0.06271\n"
     ]
    },
    {
     "name": "stderr",
     "output_type": "stream",
     "text": [
      "100%|██████████████████████████████████████████████████████████████████████████████████████████████████████████████████| 7/7 [00:00<00:00, 511.69it/s]\n",
      "100%|██████████████████████████████████████████████████████████████████████████████████████████████████████████████████| 5/5 [00:00<00:00, 416.49it/s]\n",
      "100%|██████████████████████████████████████████████████████████████████████████████████████████████████████████████████| 2/2 [00:00<00:00, 460.81it/s]\n",
      "100%|██████████████████████████████████████████████████████████████████████████████████████████████████████████████████| 2/2 [00:00<00:00, 371.59it/s]\n"
     ]
    },
    {
     "name": "stdout",
     "output_type": "stream",
     "text": [
      "Epoch 17/500 Train Total Loss: 0.06473 Train Src Loss: 0.00943 Train Tgt Loss: 0.05529 \n",
      "                 Val Total Loss: 0.2937 Val Src Loss: 0.23558 Val Tgt Loss: 0.05812\n"
     ]
    },
    {
     "name": "stderr",
     "output_type": "stream",
     "text": [
      "100%|██████████████████████████████████████████████████████████████████████████████████████████████████████████████████| 7/7 [00:00<00:00, 557.45it/s]\n",
      "100%|██████████████████████████████████████████████████████████████████████████████████████████████████████████████████| 5/5 [00:00<00:00, 167.67it/s]\n",
      "100%|██████████████████████████████████████████████████████████████████████████████████████████████████████████████████| 2/2 [00:00<00:00, 169.62it/s]\n",
      "100%|███████████████████████████████████████████████████████████████████████████████████████████████████████████████████| 2/2 [00:00<00:00, 79.54it/s]\n"
     ]
    },
    {
     "name": "stdout",
     "output_type": "stream",
     "text": [
      "Epoch 18/500 Train Total Loss: 0.05525 Train Src Loss: 0.00819 Train Tgt Loss: 0.04706 \n",
      "                 Val Total Loss: 0.30134 Val Src Loss: 0.24467 Val Tgt Loss: 0.05667\n"
     ]
    },
    {
     "name": "stderr",
     "output_type": "stream",
     "text": [
      "100%|██████████████████████████████████████████████████████████████████████████████████████████████████████████████████| 7/7 [00:00<00:00, 271.03it/s]\n",
      "100%|██████████████████████████████████████████████████████████████████████████████████████████████████████████████████| 5/5 [00:00<00:00, 449.21it/s]\n",
      "100%|██████████████████████████████████████████████████████████████████████████████████████████████████████████████████| 2/2 [00:00<00:00, 591.75it/s]\n",
      "100%|██████████████████████████████████████████████████████████████████████████████████████████████████████████████████| 2/2 [00:00<00:00, 473.67it/s]"
     ]
    },
    {
     "name": "stdout",
     "output_type": "stream",
     "text": [
      "Epoch 19/500 Train Total Loss: 0.05844 Train Src Loss: 0.0093 Train Tgt Loss: 0.04914 \n",
      "                 Val Total Loss: 0.31303 Val Src Loss: 0.25942 Val Tgt Loss: 0.05361\n"
     ]
    },
    {
     "name": "stderr",
     "output_type": "stream",
     "text": [
      "\n"
     ]
    }
   ],
   "source": [
    "encoder_14_19, mlp_14_19, best_val_loss, best_val_src_loss, best_val_tgt_loss = continual_adapt([12,17,19], train_loader, val_loader, encoder_9_14, mlp_9_14, device, lambda_coeff=lambda_coeff, lr=lr)"
   ]
  },
  {
   "cell_type": "code",
   "execution_count": 28,
   "id": "c58b7fd9",
   "metadata": {
    "scrolled": true
   },
   "outputs": [
    {
     "name": "stdout",
     "output_type": "stream",
     "text": [
      "Total Val Loss: 0.27, Val Src Loss: 0.206, Val Tgt Loss: 0.064\n"
     ]
    }
   ],
   "source": [
    "print(f'Total Val Loss: {round(best_val_loss, 3)}, Val Src Loss: {round(best_val_src_loss, 3)}, Val Tgt Loss: {round(best_val_tgt_loss, 3)}')"
   ]
  },
  {
   "cell_type": "markdown",
   "id": "b0fe1ff7",
   "metadata": {},
   "source": [
    "### 19-23 ###"
   ]
  },
  {
   "cell_type": "code",
   "execution_count": 29,
   "id": "7550e6bc",
   "metadata": {},
   "outputs": [],
   "source": [
    "test_data = [get_data(data_dir, \"elliptic\", i) for i in range(19,24)]\n",
    "test_loader_19_24 = DataLoader(dataset=test_data, batch_size=1, shuffle=False)"
   ]
  },
  {
   "cell_type": "code",
   "execution_count": 30,
   "id": "ea43f843",
   "metadata": {
    "scrolled": true
   },
   "outputs": [
    {
     "name": "stdout",
     "output_type": "stream",
     "text": [
      "Test Loss: 1.0233, Test F1: 0.4536\n"
     ]
    }
   ],
   "source": [
    "test_loss, test_f1 = test(encoder_14_19, mlp_14_19, test_loader_19_24, loss_fn, device)\n",
    "f1_list.append(test_f1)\n",
    "print(f\"Test Loss: {round(test_loss,4)}, Test F1: {round(test_f1,4)}\")"
   ]
  },
  {
   "cell_type": "code",
   "execution_count": 31,
   "id": "25cd78f9",
   "metadata": {
    "scrolled": true
   },
   "outputs": [
    {
     "name": "stderr",
     "output_type": "stream",
     "text": [
      "100%|██████████████████████████████████████████████████████████████████████████████████████████████████████████████████| 7/7 [00:00<00:00, 539.12it/s]\n",
      "100%|██████████████████████████████████████████████████████████████████████████████████████████████████████████████████| 5/5 [00:00<00:00, 148.65it/s]\n",
      "100%|██████████████████████████████████████████████████████████████████████████████████████████████████████████████████| 2/2 [00:00<00:00, 194.54it/s]\n",
      "100%|███████████████████████████████████████████████████████████████████████████████████████████████████████████████████| 2/2 [00:00<00:00, 85.93it/s]\n"
     ]
    },
    {
     "name": "stdout",
     "output_type": "stream",
     "text": [
      "Epoch 1/500 Train Total Loss: 0.09946 Train Src Loss: 0.00789 Train Tgt Loss: 0.09157 \n",
      "                 Val Total Loss: 0.29963 Val Src Loss: 0.21271 Val Tgt Loss: 0.08693\n"
     ]
    },
    {
     "name": "stderr",
     "output_type": "stream",
     "text": [
      "100%|██████████████████████████████████████████████████████████████████████████████████████████████████████████████████| 7/7 [00:00<00:00, 271.87it/s]\n",
      "100%|██████████████████████████████████████████████████████████████████████████████████████████████████████████████████| 5/5 [00:00<00:00, 437.81it/s]\n",
      "100%|██████████████████████████████████████████████████████████████████████████████████████████████████████████████████| 2/2 [00:00<00:00, 572.17it/s]\n",
      "100%|██████████████████████████████████████████████████████████████████████████████████████████████████████████████████| 2/2 [00:00<00:00, 414.81it/s]\n"
     ]
    },
    {
     "name": "stdout",
     "output_type": "stream",
     "text": [
      "Epoch 2/500 Train Total Loss: 0.08505 Train Src Loss: 0.0078 Train Tgt Loss: 0.07725 \n",
      "                 Val Total Loss: 0.3149 Val Src Loss: 0.22309 Val Tgt Loss: 0.09182\n"
     ]
    },
    {
     "name": "stderr",
     "output_type": "stream",
     "text": [
      "100%|██████████████████████████████████████████████████████████████████████████████████████████████████████████████████| 7/7 [00:00<00:00, 561.79it/s]\n",
      "100%|██████████████████████████████████████████████████████████████████████████████████████████████████████████████████| 5/5 [00:00<00:00, 444.21it/s]\n",
      "100%|██████████████████████████████████████████████████████████████████████████████████████████████████████████████████| 2/2 [00:00<00:00, 578.33it/s]\n",
      "100%|██████████████████████████████████████████████████████████████████████████████████████████████████████████████████| 2/2 [00:00<00:00, 441.97it/s]\n"
     ]
    },
    {
     "name": "stdout",
     "output_type": "stream",
     "text": [
      "Epoch 3/500 Train Total Loss: 0.08741 Train Src Loss: 0.0076 Train Tgt Loss: 0.07981 \n",
      "                 Val Total Loss: 0.31064 Val Src Loss: 0.21508 Val Tgt Loss: 0.09557\n"
     ]
    },
    {
     "name": "stderr",
     "output_type": "stream",
     "text": [
      "100%|██████████████████████████████████████████████████████████████████████████████████████████████████████████████████| 7/7 [00:00<00:00, 560.69it/s]\n",
      "100%|██████████████████████████████████████████████████████████████████████████████████████████████████████████████████| 5/5 [00:00<00:00, 248.79it/s]\n",
      "100%|██████████████████████████████████████████████████████████████████████████████████████████████████████████████████| 2/2 [00:00<00:00, 136.63it/s]\n",
      "100%|██████████████████████████████████████████████████████████████████████████████████████████████████████████████████| 2/2 [00:00<00:00, 224.90it/s]\n"
     ]
    },
    {
     "name": "stdout",
     "output_type": "stream",
     "text": [
      "Epoch 4/500 Train Total Loss: 0.08972 Train Src Loss: 0.00674 Train Tgt Loss: 0.08298 \n",
      "                 Val Total Loss: 0.30641 Val Src Loss: 0.22042 Val Tgt Loss: 0.08599\n"
     ]
    },
    {
     "name": "stderr",
     "output_type": "stream",
     "text": [
      "100%|██████████████████████████████████████████████████████████████████████████████████████████████████████████████████| 7/7 [00:00<00:00, 187.03it/s]\n",
      "100%|██████████████████████████████████████████████████████████████████████████████████████████████████████████████████| 5/5 [00:00<00:00, 328.20it/s]\n",
      "100%|██████████████████████████████████████████████████████████████████████████████████████████████████████████████████| 2/2 [00:00<00:00, 591.21it/s]\n",
      "100%|██████████████████████████████████████████████████████████████████████████████████████████████████████████████████| 2/2 [00:00<00:00, 452.29it/s]\n"
     ]
    },
    {
     "name": "stdout",
     "output_type": "stream",
     "text": [
      "Epoch 5/500 Train Total Loss: 0.09387 Train Src Loss: 0.00846 Train Tgt Loss: 0.08542 \n",
      "                 Val Total Loss: 0.30903 Val Src Loss: 0.21946 Val Tgt Loss: 0.08957\n"
     ]
    },
    {
     "name": "stderr",
     "output_type": "stream",
     "text": [
      "100%|██████████████████████████████████████████████████████████████████████████████████████████████████████████████████| 7/7 [00:00<00:00, 555.72it/s]\n",
      "100%|██████████████████████████████████████████████████████████████████████████████████████████████████████████████████| 5/5 [00:00<00:00, 447.44it/s]\n",
      "100%|██████████████████████████████████████████████████████████████████████████████████████████████████████████████████| 2/2 [00:00<00:00, 595.78it/s]\n",
      "100%|██████████████████████████████████████████████████████████████████████████████████████████████████████████████████| 2/2 [00:00<00:00, 433.12it/s]\n"
     ]
    },
    {
     "name": "stdout",
     "output_type": "stream",
     "text": [
      "Epoch 6/500 Train Total Loss: 0.09058 Train Src Loss: 0.00682 Train Tgt Loss: 0.08375 \n",
      "                 Val Total Loss: 0.3098 Val Src Loss: 0.22021 Val Tgt Loss: 0.08959\n"
     ]
    },
    {
     "name": "stderr",
     "output_type": "stream",
     "text": [
      "100%|██████████████████████████████████████████████████████████████████████████████████████████████████████████████████| 7/7 [00:00<00:00, 564.99it/s]\n",
      "100%|██████████████████████████████████████████████████████████████████████████████████████████████████████████████████| 5/5 [00:00<00:00, 444.79it/s]\n",
      "100%|██████████████████████████████████████████████████████████████████████████████████████████████████████████████████| 2/2 [00:00<00:00, 416.31it/s]\n",
      "100%|██████████████████████████████████████████████████████████████████████████████████████████████████████████████████| 2/2 [00:00<00:00, 175.24it/s]\n"
     ]
    },
    {
     "name": "stdout",
     "output_type": "stream",
     "text": [
      "Epoch 7/500 Train Total Loss: 0.08402 Train Src Loss: 0.007 Train Tgt Loss: 0.07702 \n",
      "                 Val Total Loss: 0.2941 Val Src Loss: 0.20857 Val Tgt Loss: 0.08553\n"
     ]
    },
    {
     "name": "stderr",
     "output_type": "stream",
     "text": [
      "100%|██████████████████████████████████████████████████████████████████████████████████████████████████████████████████| 7/7 [00:00<00:00, 237.35it/s]\n",
      "100%|██████████████████████████████████████████████████████████████████████████████████████████████████████████████████| 5/5 [00:00<00:00, 131.93it/s]\n",
      "100%|██████████████████████████████████████████████████████████████████████████████████████████████████████████████████| 2/2 [00:00<00:00, 206.58it/s]\n",
      "100%|██████████████████████████████████████████████████████████████████████████████████████████████████████████████████| 2/2 [00:00<00:00, 426.47it/s]\n"
     ]
    },
    {
     "name": "stdout",
     "output_type": "stream",
     "text": [
      "Epoch 8/500 Train Total Loss: 0.08474 Train Src Loss: 0.00661 Train Tgt Loss: 0.07813 \n",
      "                 Val Total Loss: 0.29565 Val Src Loss: 0.20816 Val Tgt Loss: 0.08749\n"
     ]
    },
    {
     "name": "stderr",
     "output_type": "stream",
     "text": [
      "100%|██████████████████████████████████████████████████████████████████████████████████████████████████████████████████| 7/7 [00:00<00:00, 553.61it/s]\n",
      "100%|██████████████████████████████████████████████████████████████████████████████████████████████████████████████████| 5/5 [00:00<00:00, 431.98it/s]\n",
      "100%|██████████████████████████████████████████████████████████████████████████████████████████████████████████████████| 2/2 [00:00<00:00, 583.35it/s]\n",
      "100%|██████████████████████████████████████████████████████████████████████████████████████████████████████████████████| 2/2 [00:00<00:00, 425.80it/s]\n"
     ]
    },
    {
     "name": "stdout",
     "output_type": "stream",
     "text": [
      "Epoch 9/500 Train Total Loss: 0.08603 Train Src Loss: 0.00741 Train Tgt Loss: 0.07863 \n",
      "                 Val Total Loss: 0.3109 Val Src Loss: 0.21951 Val Tgt Loss: 0.09139\n"
     ]
    },
    {
     "name": "stderr",
     "output_type": "stream",
     "text": [
      "100%|██████████████████████████████████████████████████████████████████████████████████████████████████████████████████| 7/7 [00:00<00:00, 559.04it/s]\n",
      "100%|██████████████████████████████████████████████████████████████████████████████████████████████████████████████████| 5/5 [00:00<00:00, 448.22it/s]\n",
      "100%|██████████████████████████████████████████████████████████████████████████████████████████████████████████████████| 2/2 [00:00<00:00, 578.88it/s]\n",
      "100%|██████████████████████████████████████████████████████████████████████████████████████████████████████████████████| 2/2 [00:00<00:00, 441.92it/s]\n"
     ]
    },
    {
     "name": "stdout",
     "output_type": "stream",
     "text": [
      "Epoch 10/500 Train Total Loss: 0.07982 Train Src Loss: 0.00748 Train Tgt Loss: 0.07234 \n",
      "                 Val Total Loss: 0.28143 Val Src Loss: 0.20295 Val Tgt Loss: 0.07848\n"
     ]
    },
    {
     "name": "stderr",
     "output_type": "stream",
     "text": [
      "100%|██████████████████████████████████████████████████████████████████████████████████████████████████████████████████| 7/7 [00:00<00:00, 197.74it/s]\n",
      "100%|██████████████████████████████████████████████████████████████████████████████████████████████████████████████████| 5/5 [00:00<00:00, 310.75it/s]\n",
      "100%|██████████████████████████████████████████████████████████████████████████████████████████████████████████████████| 2/2 [00:00<00:00, 253.10it/s]\n",
      "100%|███████████████████████████████████████████████████████████████████████████████████████████████████████████████████| 2/2 [00:00<00:00, 89.93it/s]\n"
     ]
    },
    {
     "name": "stdout",
     "output_type": "stream",
     "text": [
      "Epoch 11/500 Train Total Loss: 0.08244 Train Src Loss: 0.00765 Train Tgt Loss: 0.0748 \n",
      "                 Val Total Loss: 0.31155 Val Src Loss: 0.21698 Val Tgt Loss: 0.09457\n"
     ]
    },
    {
     "name": "stderr",
     "output_type": "stream",
     "text": [
      "100%|██████████████████████████████████████████████████████████████████████████████████████████████████████████████████| 7/7 [00:00<00:00, 272.86it/s]\n",
      "100%|██████████████████████████████████████████████████████████████████████████████████████████████████████████████████| 5/5 [00:00<00:00, 404.75it/s]\n",
      "100%|██████████████████████████████████████████████████████████████████████████████████████████████████████████████████| 2/2 [00:00<00:00, 550.33it/s]\n",
      "100%|██████████████████████████████████████████████████████████████████████████████████████████████████████████████████| 2/2 [00:00<00:00, 322.96it/s]\n"
     ]
    },
    {
     "name": "stdout",
     "output_type": "stream",
     "text": [
      "Epoch 12/500 Train Total Loss: 0.08041 Train Src Loss: 0.00652 Train Tgt Loss: 0.07389 \n",
      "                 Val Total Loss: 0.29402 Val Src Loss: 0.21298 Val Tgt Loss: 0.08105\n"
     ]
    },
    {
     "name": "stderr",
     "output_type": "stream",
     "text": [
      "100%|██████████████████████████████████████████████████████████████████████████████████████████████████████████████████| 7/7 [00:00<00:00, 518.36it/s]\n",
      "100%|██████████████████████████████████████████████████████████████████████████████████████████████████████████████████| 5/5 [00:00<00:00, 409.56it/s]\n",
      "100%|██████████████████████████████████████████████████████████████████████████████████████████████████████████████████| 2/2 [00:00<00:00, 462.72it/s]\n",
      "100%|██████████████████████████████████████████████████████████████████████████████████████████████████████████████████| 2/2 [00:00<00:00, 310.17it/s]\n"
     ]
    },
    {
     "name": "stdout",
     "output_type": "stream",
     "text": [
      "Epoch 13/500 Train Total Loss: 0.08278 Train Src Loss: 0.0078 Train Tgt Loss: 0.07498 \n",
      "                 Val Total Loss: 0.29894 Val Src Loss: 0.21501 Val Tgt Loss: 0.08393\n"
     ]
    },
    {
     "name": "stderr",
     "output_type": "stream",
     "text": [
      "100%|██████████████████████████████████████████████████████████████████████████████████████████████████████████████████| 7/7 [00:00<00:00, 357.42it/s]\n",
      "100%|██████████████████████████████████████████████████████████████████████████████████████████████████████████████████| 5/5 [00:00<00:00, 194.50it/s]\n",
      "100%|██████████████████████████████████████████████████████████████████████████████████████████████████████████████████| 2/2 [00:00<00:00, 161.96it/s]\n",
      "100%|███████████████████████████████████████████████████████████████████████████████████████████████████████████████████| 2/2 [00:00<00:00, 79.55it/s]\n"
     ]
    },
    {
     "name": "stdout",
     "output_type": "stream",
     "text": [
      "Epoch 14/500 Train Total Loss: 0.08341 Train Src Loss: 0.00755 Train Tgt Loss: 0.07587 \n",
      "                 Val Total Loss: 0.29988 Val Src Loss: 0.21852 Val Tgt Loss: 0.08136\n"
     ]
    },
    {
     "name": "stderr",
     "output_type": "stream",
     "text": [
      "100%|██████████████████████████████████████████████████████████████████████████████████████████████████████████████████| 7/7 [00:00<00:00, 263.58it/s]\n",
      "100%|██████████████████████████████████████████████████████████████████████████████████████████████████████████████████| 5/5 [00:00<00:00, 405.00it/s]\n",
      "100%|██████████████████████████████████████████████████████████████████████████████████████████████████████████████████| 2/2 [00:00<00:00, 534.20it/s]\n",
      "100%|██████████████████████████████████████████████████████████████████████████████████████████████████████████████████| 2/2 [00:00<00:00, 340.20it/s]\n"
     ]
    },
    {
     "name": "stdout",
     "output_type": "stream",
     "text": [
      "Epoch 15/500 Train Total Loss: 0.08224 Train Src Loss: 0.00797 Train Tgt Loss: 0.07427 \n",
      "                 Val Total Loss: 0.29064 Val Src Loss: 0.21329 Val Tgt Loss: 0.07735\n"
     ]
    },
    {
     "name": "stderr",
     "output_type": "stream",
     "text": [
      "100%|██████████████████████████████████████████████████████████████████████████████████████████████████████████████████| 7/7 [00:00<00:00, 523.96it/s]\n",
      "100%|██████████████████████████████████████████████████████████████████████████████████████████████████████████████████| 5/5 [00:00<00:00, 411.86it/s]\n",
      "100%|██████████████████████████████████████████████████████████████████████████████████████████████████████████████████| 2/2 [00:00<00:00, 544.86it/s]\n",
      "100%|██████████████████████████████████████████████████████████████████████████████████████████████████████████████████| 2/2 [00:00<00:00, 359.36it/s]\n"
     ]
    },
    {
     "name": "stdout",
     "output_type": "stream",
     "text": [
      "Epoch 16/500 Train Total Loss: 0.08076 Train Src Loss: 0.00814 Train Tgt Loss: 0.07262 \n",
      "                 Val Total Loss: 0.30484 Val Src Loss: 0.22907 Val Tgt Loss: 0.07578\n"
     ]
    },
    {
     "name": "stderr",
     "output_type": "stream",
     "text": [
      "100%|██████████████████████████████████████████████████████████████████████████████████████████████████████████████████| 7/7 [00:00<00:00, 525.02it/s]\n",
      "100%|██████████████████████████████████████████████████████████████████████████████████████████████████████████████████| 5/5 [00:00<00:00, 415.18it/s]\n",
      "100%|██████████████████████████████████████████████████████████████████████████████████████████████████████████████████| 2/2 [00:00<00:00, 225.11it/s]\n",
      "100%|██████████████████████████████████████████████████████████████████████████████████████████████████████████████████| 2/2 [00:00<00:00, 101.14it/s]\n"
     ]
    },
    {
     "name": "stdout",
     "output_type": "stream",
     "text": [
      "Epoch 17/500 Train Total Loss: 0.08385 Train Src Loss: 0.00925 Train Tgt Loss: 0.0746 \n",
      "                 Val Total Loss: 0.30646 Val Src Loss: 0.22792 Val Tgt Loss: 0.07854\n"
     ]
    },
    {
     "name": "stderr",
     "output_type": "stream",
     "text": [
      "100%|██████████████████████████████████████████████████████████████████████████████████████████████████████████████████| 7/7 [00:00<00:00, 147.51it/s]\n",
      "100%|██████████████████████████████████████████████████████████████████████████████████████████████████████████████████| 5/5 [00:00<00:00, 205.33it/s]\n",
      "100%|██████████████████████████████████████████████████████████████████████████████████████████████████████████████████| 2/2 [00:00<00:00, 543.37it/s]\n",
      "100%|██████████████████████████████████████████████████████████████████████████████████████████████████████████████████| 2/2 [00:00<00:00, 295.46it/s]\n"
     ]
    },
    {
     "name": "stdout",
     "output_type": "stream",
     "text": [
      "Epoch 18/500 Train Total Loss: 0.08604 Train Src Loss: 0.00801 Train Tgt Loss: 0.07803 \n",
      "                 Val Total Loss: 0.30827 Val Src Loss: 0.23227 Val Tgt Loss: 0.07599\n"
     ]
    },
    {
     "name": "stderr",
     "output_type": "stream",
     "text": [
      "100%|██████████████████████████████████████████████████████████████████████████████████████████████████████████████████| 7/7 [00:00<00:00, 490.03it/s]\n",
      "100%|██████████████████████████████████████████████████████████████████████████████████████████████████████████████████| 5/5 [00:00<00:00, 406.17it/s]\n",
      "100%|██████████████████████████████████████████████████████████████████████████████████████████████████████████████████| 2/2 [00:00<00:00, 430.87it/s]\n",
      "100%|██████████████████████████████████████████████████████████████████████████████████████████████████████████████████| 2/2 [00:00<00:00, 345.52it/s]\n"
     ]
    },
    {
     "name": "stdout",
     "output_type": "stream",
     "text": [
      "Epoch 19/500 Train Total Loss: 0.07715 Train Src Loss: 0.0075 Train Tgt Loss: 0.06965 \n",
      "                 Val Total Loss: 0.30934 Val Src Loss: 0.2352 Val Tgt Loss: 0.07414\n"
     ]
    },
    {
     "name": "stderr",
     "output_type": "stream",
     "text": [
      "100%|██████████████████████████████████████████████████████████████████████████████████████████████████████████████████| 7/7 [00:00<00:00, 520.75it/s]\n",
      "100%|██████████████████████████████████████████████████████████████████████████████████████████████████████████████████| 5/5 [00:00<00:00, 411.22it/s]\n",
      "100%|██████████████████████████████████████████████████████████████████████████████████████████████████████████████████| 2/2 [00:00<00:00, 488.76it/s]\n",
      "100%|██████████████████████████████████████████████████████████████████████████████████████████████████████████████████| 2/2 [00:00<00:00, 313.82it/s]\n"
     ]
    },
    {
     "name": "stdout",
     "output_type": "stream",
     "text": [
      "Epoch 20/500 Train Total Loss: 0.07526 Train Src Loss: 0.00894 Train Tgt Loss: 0.06632 \n",
      "                 Val Total Loss: 0.31415 Val Src Loss: 0.23764 Val Tgt Loss: 0.07651\n"
     ]
    },
    {
     "name": "stderr",
     "output_type": "stream",
     "text": [
      "100%|██████████████████████████████████████████████████████████████████████████████████████████████████████████████████| 7/7 [00:00<00:00, 322.49it/s]\n",
      "100%|███████████████████████████████████████████████████████████████████████████████████████████████████████████████████| 5/5 [00:00<00:00, 80.97it/s]\n",
      "100%|██████████████████████████████████████████████████████████████████████████████████████████████████████████████████| 2/2 [00:00<00:00, 202.43it/s]\n",
      "100%|██████████████████████████████████████████████████████████████████████████████████████████████████████████████████| 2/2 [00:00<00:00, 164.52it/s]"
     ]
    },
    {
     "name": "stdout",
     "output_type": "stream",
     "text": [
      "Epoch 21/500 Train Total Loss: 0.08272 Train Src Loss: 0.00938 Train Tgt Loss: 0.07334 \n",
      "                 Val Total Loss: 0.30514 Val Src Loss: 0.23162 Val Tgt Loss: 0.07352\n"
     ]
    },
    {
     "name": "stderr",
     "output_type": "stream",
     "text": [
      "\n"
     ]
    }
   ],
   "source": [
    "encoder_19_24, mlp_19_24, best_val_loss, best_val_src_loss, best_val_tgt_loss = continual_adapt([17,22,24], train_loader, val_loader, encoder_14_19, mlp_14_19, device, lambda_coeff=lambda_coeff, lr=lr)"
   ]
  },
  {
   "cell_type": "code",
   "execution_count": 32,
   "id": "f45d6602",
   "metadata": {
    "scrolled": true
   },
   "outputs": [
    {
     "name": "stdout",
     "output_type": "stream",
     "text": [
      "Total Val Loss: 0.281, Val Src Loss: 0.203, Val Tgt Loss: 0.078\n"
     ]
    }
   ],
   "source": [
    "print(f'Total Val Loss: {round(best_val_loss, 3)}, Val Src Loss: {round(best_val_src_loss, 3)}, Val Tgt Loss: {round(best_val_tgt_loss, 3)}')"
   ]
  },
  {
   "cell_type": "markdown",
   "id": "9236f388",
   "metadata": {},
   "source": [
    "### 24-28 ###"
   ]
  },
  {
   "cell_type": "code",
   "execution_count": 33,
   "id": "2cd2200c",
   "metadata": {},
   "outputs": [],
   "source": [
    "test_data = [get_data(data_dir, \"elliptic\", i) for i in range(24,29)]\n",
    "test_loader = DataLoader(dataset=test_data, batch_size=1, shuffle=False)"
   ]
  },
  {
   "cell_type": "code",
   "execution_count": 34,
   "id": "82862669",
   "metadata": {},
   "outputs": [
    {
     "name": "stdout",
     "output_type": "stream",
     "text": [
      "Test Loss: 1.7057, Test F1: 0.6111\n"
     ]
    }
   ],
   "source": [
    "test_loss, test_f1 = test(encoder_19_24, mlp_19_24, test_loader, loss_fn, device)\n",
    "f1_list.append(test_f1)\n",
    "print(f\"Test Loss: {round(test_loss,4)}, Test F1: {round(test_f1,4)}\")"
   ]
  },
  {
   "cell_type": "code",
   "execution_count": 35,
   "id": "5aa386dd",
   "metadata": {
    "scrolled": true
   },
   "outputs": [
    {
     "name": "stderr",
     "output_type": "stream",
     "text": [
      "100%|██████████████████████████████████████████████████████████████████████████████████████████████████████████████████| 7/7 [00:00<00:00, 243.30it/s]\n",
      "100%|██████████████████████████████████████████████████████████████████████████████████████████████████████████████████| 5/5 [00:00<00:00, 153.37it/s]\n",
      "100%|██████████████████████████████████████████████████████████████████████████████████████████████████████████████████| 2/2 [00:00<00:00, 498.43it/s]\n",
      "100%|██████████████████████████████████████████████████████████████████████████████████████████████████████████████████| 2/2 [00:00<00:00, 414.74it/s]\n"
     ]
    },
    {
     "name": "stdout",
     "output_type": "stream",
     "text": [
      "Epoch 1/500 Train Total Loss: 0.08879 Train Src Loss: 0.00721 Train Tgt Loss: 0.08158 \n",
      "                 Val Total Loss: 0.26805 Val Src Loss: 0.20286 Val Tgt Loss: 0.06519\n"
     ]
    },
    {
     "name": "stderr",
     "output_type": "stream",
     "text": [
      "100%|██████████████████████████████████████████████████████████████████████████████████████████████████████████████████| 7/7 [00:00<00:00, 548.61it/s]\n",
      "100%|██████████████████████████████████████████████████████████████████████████████████████████████████████████████████| 5/5 [00:00<00:00, 461.37it/s]\n",
      "100%|██████████████████████████████████████████████████████████████████████████████████████████████████████████████████| 2/2 [00:00<00:00, 421.92it/s]\n",
      "100%|██████████████████████████████████████████████████████████████████████████████████████████████████████████████████| 2/2 [00:00<00:00, 382.19it/s]\n"
     ]
    },
    {
     "name": "stdout",
     "output_type": "stream",
     "text": [
      "Epoch 2/500 Train Total Loss: 0.08607 Train Src Loss: 0.00677 Train Tgt Loss: 0.07931 \n",
      "                 Val Total Loss: 0.28507 Val Src Loss: 0.21657 Val Tgt Loss: 0.0685\n"
     ]
    },
    {
     "name": "stderr",
     "output_type": "stream",
     "text": [
      "100%|██████████████████████████████████████████████████████████████████████████████████████████████████████████████████| 7/7 [00:00<00:00, 558.75it/s]\n",
      "100%|██████████████████████████████████████████████████████████████████████████████████████████████████████████████████| 5/5 [00:00<00:00, 463.94it/s]\n",
      "100%|██████████████████████████████████████████████████████████████████████████████████████████████████████████████████| 2/2 [00:00<00:00, 428.27it/s]\n",
      "100%|██████████████████████████████████████████████████████████████████████████████████████████████████████████████████| 2/2 [00:00<00:00, 194.71it/s]\n"
     ]
    },
    {
     "name": "stdout",
     "output_type": "stream",
     "text": [
      "Epoch 3/500 Train Total Loss: 0.08513 Train Src Loss: 0.00803 Train Tgt Loss: 0.07709 \n",
      "                 Val Total Loss: 0.2973 Val Src Loss: 0.22096 Val Tgt Loss: 0.07634\n"
     ]
    },
    {
     "name": "stderr",
     "output_type": "stream",
     "text": [
      "100%|██████████████████████████████████████████████████████████████████████████████████████████████████████████████████| 7/7 [00:00<00:00, 107.43it/s]\n",
      "100%|██████████████████████████████████████████████████████████████████████████████████████████████████████████████████| 5/5 [00:00<00:00, 190.06it/s]\n",
      "100%|██████████████████████████████████████████████████████████████████████████████████████████████████████████████████| 2/2 [00:00<00:00, 156.78it/s]\n",
      "100%|██████████████████████████████████████████████████████████████████████████████████████████████████████████████████| 2/2 [00:00<00:00, 150.38it/s]\n"
     ]
    },
    {
     "name": "stdout",
     "output_type": "stream",
     "text": [
      "Epoch 4/500 Train Total Loss: 0.08971 Train Src Loss: 0.00807 Train Tgt Loss: 0.08164 \n",
      "                 Val Total Loss: 0.30394 Val Src Loss: 0.22901 Val Tgt Loss: 0.07493\n"
     ]
    },
    {
     "name": "stderr",
     "output_type": "stream",
     "text": [
      "100%|██████████████████████████████████████████████████████████████████████████████████████████████████████████████████| 7/7 [00:00<00:00, 163.37it/s]\n",
      "100%|██████████████████████████████████████████████████████████████████████████████████████████████████████████████████| 5/5 [00:00<00:00, 169.57it/s]\n",
      "100%|██████████████████████████████████████████████████████████████████████████████████████████████████████████████████| 2/2 [00:00<00:00, 156.95it/s]\n",
      "100%|██████████████████████████████████████████████████████████████████████████████████████████████████████████████████| 2/2 [00:00<00:00, 149.71it/s]\n"
     ]
    },
    {
     "name": "stdout",
     "output_type": "stream",
     "text": [
      "Epoch 5/500 Train Total Loss: 0.08027 Train Src Loss: 0.00727 Train Tgt Loss: 0.073 \n",
      "                 Val Total Loss: 0.2935 Val Src Loss: 0.21918 Val Tgt Loss: 0.07431\n"
     ]
    },
    {
     "name": "stderr",
     "output_type": "stream",
     "text": [
      "100%|██████████████████████████████████████████████████████████████████████████████████████████████████████████████████| 7/7 [00:00<00:00, 342.68it/s]\n",
      "100%|██████████████████████████████████████████████████████████████████████████████████████████████████████████████████| 5/5 [00:00<00:00, 422.01it/s]\n",
      "100%|██████████████████████████████████████████████████████████████████████████████████████████████████████████████████| 2/2 [00:00<00:00, 529.52it/s]\n",
      "100%|██████████████████████████████████████████████████████████████████████████████████████████████████████████████████| 2/2 [00:00<00:00, 361.81it/s]\n"
     ]
    },
    {
     "name": "stdout",
     "output_type": "stream",
     "text": [
      "Epoch 6/500 Train Total Loss: 0.08423 Train Src Loss: 0.00989 Train Tgt Loss: 0.07435 \n",
      "                 Val Total Loss: 0.27871 Val Src Loss: 0.2116 Val Tgt Loss: 0.06711\n"
     ]
    },
    {
     "name": "stderr",
     "output_type": "stream",
     "text": [
      "100%|██████████████████████████████████████████████████████████████████████████████████████████████████████████████████| 7/7 [00:00<00:00, 518.69it/s]\n",
      "100%|██████████████████████████████████████████████████████████████████████████████████████████████████████████████████| 5/5 [00:00<00:00, 424.77it/s]\n",
      "100%|██████████████████████████████████████████████████████████████████████████████████████████████████████████████████| 2/2 [00:00<00:00, 498.02it/s]\n",
      "100%|██████████████████████████████████████████████████████████████████████████████████████████████████████████████████| 2/2 [00:00<00:00, 323.24it/s]\n"
     ]
    },
    {
     "name": "stdout",
     "output_type": "stream",
     "text": [
      "Epoch 7/500 Train Total Loss: 0.08021 Train Src Loss: 0.0076 Train Tgt Loss: 0.07261 \n",
      "                 Val Total Loss: 0.29288 Val Src Loss: 0.2264 Val Tgt Loss: 0.06648\n"
     ]
    },
    {
     "name": "stderr",
     "output_type": "stream",
     "text": [
      "100%|██████████████████████████████████████████████████████████████████████████████████████████████████████████████████| 7/7 [00:00<00:00, 517.88it/s]\n",
      "100%|██████████████████████████████████████████████████████████████████████████████████████████████████████████████████| 5/5 [00:00<00:00, 268.71it/s]\n",
      "100%|███████████████████████████████████████████████████████████████████████████████████████████████████████████████████| 2/2 [00:00<00:00, 99.81it/s]\n",
      "100%|███████████████████████████████████████████████████████████████████████████████████████████████████████████████████| 2/2 [00:00<00:00, 91.15it/s]\n"
     ]
    },
    {
     "name": "stdout",
     "output_type": "stream",
     "text": [
      "Epoch 8/500 Train Total Loss: 0.07766 Train Src Loss: 0.00784 Train Tgt Loss: 0.06983 \n",
      "                 Val Total Loss: 0.30677 Val Src Loss: 0.23522 Val Tgt Loss: 0.07154\n"
     ]
    },
    {
     "name": "stderr",
     "output_type": "stream",
     "text": [
      "100%|██████████████████████████████████████████████████████████████████████████████████████████████████████████████████| 7/7 [00:00<00:00, 199.42it/s]\n",
      "100%|██████████████████████████████████████████████████████████████████████████████████████████████████████████████████| 5/5 [00:00<00:00, 108.76it/s]\n",
      "100%|██████████████████████████████████████████████████████████████████████████████████████████████████████████████████| 2/2 [00:00<00:00, 254.97it/s]\n",
      "100%|██████████████████████████████████████████████████████████████████████████████████████████████████████████████████| 2/2 [00:00<00:00, 255.99it/s]\n"
     ]
    },
    {
     "name": "stdout",
     "output_type": "stream",
     "text": [
      "Epoch 9/500 Train Total Loss: 0.07987 Train Src Loss: 0.00714 Train Tgt Loss: 0.07273 \n",
      "                 Val Total Loss: 0.29711 Val Src Loss: 0.23102 Val Tgt Loss: 0.06609\n"
     ]
    },
    {
     "name": "stderr",
     "output_type": "stream",
     "text": [
      "100%|██████████████████████████████████████████████████████████████████████████████████████████████████████████████████| 7/7 [00:00<00:00, 207.18it/s]\n",
      "100%|██████████████████████████████████████████████████████████████████████████████████████████████████████████████████| 5/5 [00:00<00:00, 164.84it/s]\n",
      "100%|██████████████████████████████████████████████████████████████████████████████████████████████████████████████████| 2/2 [00:00<00:00, 358.24it/s]\n",
      "100%|██████████████████████████████████████████████████████████████████████████████████████████████████████████████████| 2/2 [00:00<00:00, 365.72it/s]\n"
     ]
    },
    {
     "name": "stdout",
     "output_type": "stream",
     "text": [
      "Epoch 10/500 Train Total Loss: 0.07765 Train Src Loss: 0.00757 Train Tgt Loss: 0.07008 \n",
      "                 Val Total Loss: 0.29523 Val Src Loss: 0.22669 Val Tgt Loss: 0.06854\n"
     ]
    },
    {
     "name": "stderr",
     "output_type": "stream",
     "text": [
      "100%|██████████████████████████████████████████████████████████████████████████████████████████████████████████████████| 7/7 [00:00<00:00, 554.25it/s]\n",
      "100%|██████████████████████████████████████████████████████████████████████████████████████████████████████████████████| 5/5 [00:00<00:00, 454.54it/s]\n",
      "100%|██████████████████████████████████████████████████████████████████████████████████████████████████████████████████| 2/2 [00:00<00:00, 597.22it/s]\n",
      "100%|██████████████████████████████████████████████████████████████████████████████████████████████████████████████████| 2/2 [00:00<00:00, 463.08it/s]\n"
     ]
    },
    {
     "name": "stdout",
     "output_type": "stream",
     "text": [
      "Epoch 11/500 Train Total Loss: 0.08165 Train Src Loss: 0.00792 Train Tgt Loss: 0.07373 \n",
      "                 Val Total Loss: 0.27367 Val Src Loss: 0.20551 Val Tgt Loss: 0.06815\n"
     ]
    },
    {
     "name": "stderr",
     "output_type": "stream",
     "text": [
      "100%|██████████████████████████████████████████████████████████████████████████████████████████████████████████████████| 7/7 [00:00<00:00, 556.37it/s]\n",
      "100%|██████████████████████████████████████████████████████████████████████████████████████████████████████████████████| 5/5 [00:00<00:00, 461.65it/s]\n",
      "100%|██████████████████████████████████████████████████████████████████████████████████████████████████████████████████| 2/2 [00:00<00:00, 601.59it/s]\n",
      "100%|██████████████████████████████████████████████████████████████████████████████████████████████████████████████████| 2/2 [00:00<00:00, 479.08it/s]"
     ]
    },
    {
     "name": "stdout",
     "output_type": "stream",
     "text": [
      "Epoch 12/500 Train Total Loss: 0.07498 Train Src Loss: 0.00795 Train Tgt Loss: 0.06703 \n",
      "                 Val Total Loss: 0.28915 Val Src Loss: 0.22175 Val Tgt Loss: 0.06741\n"
     ]
    },
    {
     "name": "stderr",
     "output_type": "stream",
     "text": [
      "\n"
     ]
    }
   ],
   "source": [
    "encoder_24_29, mlp_24_29, best_val_loss, best_val_src_loss, best_val_tgt_loss = continual_adapt([22,27,29], train_loader, val_loader, encoder_19_24, mlp_19_24, device, lambda_coeff=lambda_coeff, lr=lr)"
   ]
  },
  {
   "cell_type": "code",
   "execution_count": 36,
   "id": "d1da72c1",
   "metadata": {
    "scrolled": true
   },
   "outputs": [
    {
     "name": "stdout",
     "output_type": "stream",
     "text": [
      "Total Val Loss: 0.268, Val Src Loss: 0.203, Val Transfer Loss: 0.203\n"
     ]
    }
   ],
   "source": [
    "print(f'Total Val Loss: {round(best_val_loss, 3)}, Val Src Loss: {round(best_val_src_loss, 3)}, Val Transfer Loss: {round(best_val_src_loss, 3)}')"
   ]
  },
  {
   "cell_type": "markdown",
   "id": "62df94c7",
   "metadata": {},
   "source": [
    "### 29-33 ###"
   ]
  },
  {
   "cell_type": "code",
   "execution_count": 37,
   "id": "4543d181",
   "metadata": {},
   "outputs": [],
   "source": [
    "test_data = [get_data(data_dir, \"elliptic\", i) for i in range(29,34)]\n",
    "test_loader = DataLoader(dataset=test_data, batch_size=1, shuffle=False)"
   ]
  },
  {
   "cell_type": "code",
   "execution_count": 38,
   "id": "530a9b43",
   "metadata": {
    "scrolled": true
   },
   "outputs": [
    {
     "name": "stdout",
     "output_type": "stream",
     "text": [
      "Test Loss: 3.4053, Test F1: 0.3332\n"
     ]
    }
   ],
   "source": [
    "test_loss, test_f1 = test(encoder_24_29, mlp_24_29, test_loader, loss_fn, device)\n",
    "f1_list.append(test_f1)\n",
    "print(f\"Test Loss: {round(test_loss,4)}, Test F1: {round(test_f1,4)}\")"
   ]
  },
  {
   "cell_type": "code",
   "execution_count": 39,
   "id": "99670cd7",
   "metadata": {
    "scrolled": true
   },
   "outputs": [
    {
     "name": "stderr",
     "output_type": "stream",
     "text": [
      "100%|██████████████████████████████████████████████████████████████████████████████████████████████████████████████████| 7/7 [00:00<00:00, 254.77it/s]\n",
      "100%|██████████████████████████████████████████████████████████████████████████████████████████████████████████████████| 5/5 [00:00<00:00, 139.35it/s]\n",
      "100%|██████████████████████████████████████████████████████████████████████████████████████████████████████████████████| 2/2 [00:00<00:00, 135.18it/s]\n",
      "100%|██████████████████████████████████████████████████████████████████████████████████████████████████████████████████| 2/2 [00:00<00:00, 127.02it/s]\n"
     ]
    },
    {
     "name": "stdout",
     "output_type": "stream",
     "text": [
      "Epoch 1/500 Train Total Loss: 0.06796 Train Src Loss: 0.0068 Train Tgt Loss: 0.06117 \n",
      "                 Val Total Loss: 0.28208 Val Src Loss: 0.21999 Val Tgt Loss: 0.06209\n"
     ]
    },
    {
     "name": "stderr",
     "output_type": "stream",
     "text": [
      "100%|██████████████████████████████████████████████████████████████████████████████████████████████████████████████████| 7/7 [00:00<00:00, 213.39it/s]\n",
      "100%|██████████████████████████████████████████████████████████████████████████████████████████████████████████████████| 5/5 [00:00<00:00, 210.09it/s]\n",
      "100%|██████████████████████████████████████████████████████████████████████████████████████████████████████████████████| 2/2 [00:00<00:00, 204.25it/s]\n",
      "100%|██████████████████████████████████████████████████████████████████████████████████████████████████████████████████| 2/2 [00:00<00:00, 229.67it/s]\n"
     ]
    },
    {
     "name": "stdout",
     "output_type": "stream",
     "text": [
      "Epoch 2/500 Train Total Loss: 0.06055 Train Src Loss: 0.00705 Train Tgt Loss: 0.0535 \n",
      "                 Val Total Loss: 0.28883 Val Src Loss: 0.21904 Val Tgt Loss: 0.06979\n"
     ]
    },
    {
     "name": "stderr",
     "output_type": "stream",
     "text": [
      "100%|██████████████████████████████████████████████████████████████████████████████████████████████████████████████████| 7/7 [00:00<00:00, 511.33it/s]\n",
      "100%|██████████████████████████████████████████████████████████████████████████████████████████████████████████████████| 5/5 [00:00<00:00, 452.78it/s]\n",
      "100%|██████████████████████████████████████████████████████████████████████████████████████████████████████████████████| 2/2 [00:00<00:00, 413.23it/s]\n",
      "100%|██████████████████████████████████████████████████████████████████████████████████████████████████████████████████| 2/2 [00:00<00:00, 450.42it/s]\n"
     ]
    },
    {
     "name": "stdout",
     "output_type": "stream",
     "text": [
      "Epoch 3/500 Train Total Loss: 0.06905 Train Src Loss: 0.00716 Train Tgt Loss: 0.06189 \n",
      "                 Val Total Loss: 0.28707 Val Src Loss: 0.21933 Val Tgt Loss: 0.06773\n"
     ]
    },
    {
     "name": "stderr",
     "output_type": "stream",
     "text": [
      "100%|██████████████████████████████████████████████████████████████████████████████████████████████████████████████████| 7/7 [00:00<00:00, 559.40it/s]\n",
      "100%|██████████████████████████████████████████████████████████████████████████████████████████████████████████████████| 5/5 [00:00<00:00, 459.49it/s]\n",
      "100%|██████████████████████████████████████████████████████████████████████████████████████████████████████████████████| 2/2 [00:00<00:00, 414.35it/s]\n",
      "100%|██████████████████████████████████████████████████████████████████████████████████████████████████████████████████| 2/2 [00:00<00:00, 464.38it/s]\n"
     ]
    },
    {
     "name": "stdout",
     "output_type": "stream",
     "text": [
      "Epoch 4/500 Train Total Loss: 0.06379 Train Src Loss: 0.00678 Train Tgt Loss: 0.05701 \n",
      "                 Val Total Loss: 0.29013 Val Src Loss: 0.23443 Val Tgt Loss: 0.05569\n"
     ]
    },
    {
     "name": "stderr",
     "output_type": "stream",
     "text": [
      "100%|██████████████████████████████████████████████████████████████████████████████████████████████████████████████████| 7/7 [00:00<00:00, 559.70it/s]\n",
      "100%|██████████████████████████████████████████████████████████████████████████████████████████████████████████████████| 5/5 [00:00<00:00, 189.55it/s]\n",
      "100%|███████████████████████████████████████████████████████████████████████████████████████████████████████████████████| 2/2 [00:00<00:00, 85.11it/s]\n",
      "100%|██████████████████████████████████████████████████████████████████████████████████████████████████████████████████| 2/2 [00:00<00:00, 188.87it/s]\n"
     ]
    },
    {
     "name": "stdout",
     "output_type": "stream",
     "text": [
      "Epoch 5/500 Train Total Loss: 0.06585 Train Src Loss: 0.00815 Train Tgt Loss: 0.0577 \n",
      "                 Val Total Loss: 0.27189 Val Src Loss: 0.21729 Val Tgt Loss: 0.05461\n"
     ]
    },
    {
     "name": "stderr",
     "output_type": "stream",
     "text": [
      "100%|██████████████████████████████████████████████████████████████████████████████████████████████████████████████████| 7/7 [00:00<00:00, 203.10it/s]\n",
      "100%|██████████████████████████████████████████████████████████████████████████████████████████████████████████████████| 5/5 [00:00<00:00, 114.00it/s]\n",
      "100%|██████████████████████████████████████████████████████████████████████████████████████████████████████████████████| 2/2 [00:00<00:00, 331.63it/s]\n",
      "100%|██████████████████████████████████████████████████████████████████████████████████████████████████████████████████| 2/2 [00:00<00:00, 143.16it/s]\n"
     ]
    },
    {
     "name": "stdout",
     "output_type": "stream",
     "text": [
      "Epoch 6/500 Train Total Loss: 0.06546 Train Src Loss: 0.00839 Train Tgt Loss: 0.05707 \n",
      "                 Val Total Loss: 0.27665 Val Src Loss: 0.22035 Val Tgt Loss: 0.0563\n"
     ]
    },
    {
     "name": "stderr",
     "output_type": "stream",
     "text": [
      "100%|██████████████████████████████████████████████████████████████████████████████████████████████████████████████████| 7/7 [00:00<00:00, 252.17it/s]\n",
      "100%|██████████████████████████████████████████████████████████████████████████████████████████████████████████████████| 5/5 [00:00<00:00, 155.01it/s]\n",
      "100%|██████████████████████████████████████████████████████████████████████████████████████████████████████████████████| 2/2 [00:00<00:00, 373.32it/s]\n",
      "100%|██████████████████████████████████████████████████████████████████████████████████████████████████████████████████| 2/2 [00:00<00:00, 467.44it/s]\n"
     ]
    },
    {
     "name": "stdout",
     "output_type": "stream",
     "text": [
      "Epoch 7/500 Train Total Loss: 0.06797 Train Src Loss: 0.00786 Train Tgt Loss: 0.06011 \n",
      "                 Val Total Loss: 0.28343 Val Src Loss: 0.21726 Val Tgt Loss: 0.06616\n"
     ]
    },
    {
     "name": "stderr",
     "output_type": "stream",
     "text": [
      "100%|██████████████████████████████████████████████████████████████████████████████████████████████████████████████████| 7/7 [00:00<00:00, 562.38it/s]\n",
      "100%|██████████████████████████████████████████████████████████████████████████████████████████████████████████████████| 5/5 [00:00<00:00, 454.52it/s]\n",
      "100%|██████████████████████████████████████████████████████████████████████████████████████████████████████████████████| 2/2 [00:00<00:00, 410.20it/s]\n",
      "100%|██████████████████████████████████████████████████████████████████████████████████████████████████████████████████| 2/2 [00:00<00:00, 306.46it/s]\n"
     ]
    },
    {
     "name": "stdout",
     "output_type": "stream",
     "text": [
      "Epoch 8/500 Train Total Loss: 0.06079 Train Src Loss: 0.00863 Train Tgt Loss: 0.05216 \n",
      "                 Val Total Loss: 0.28453 Val Src Loss: 0.23174 Val Tgt Loss: 0.05279\n"
     ]
    },
    {
     "name": "stderr",
     "output_type": "stream",
     "text": [
      "100%|██████████████████████████████████████████████████████████████████████████████████████████████████████████████████| 7/7 [00:00<00:00, 519.74it/s]\n",
      "100%|██████████████████████████████████████████████████████████████████████████████████████████████████████████████████| 5/5 [00:00<00:00, 417.04it/s]\n",
      "100%|██████████████████████████████████████████████████████████████████████████████████████████████████████████████████| 2/2 [00:00<00:00, 589.71it/s]\n",
      "100%|██████████████████████████████████████████████████████████████████████████████████████████████████████████████████| 2/2 [00:00<00:00, 457.44it/s]\n"
     ]
    },
    {
     "name": "stdout",
     "output_type": "stream",
     "text": [
      "Epoch 9/500 Train Total Loss: 0.05806 Train Src Loss: 0.00736 Train Tgt Loss: 0.0507 \n",
      "                 Val Total Loss: 0.28019 Val Src Loss: 0.22058 Val Tgt Loss: 0.05962\n"
     ]
    },
    {
     "name": "stderr",
     "output_type": "stream",
     "text": [
      "100%|██████████████████████████████████████████████████████████████████████████████████████████████████████████████████| 7/7 [00:00<00:00, 551.67it/s]\n",
      "100%|██████████████████████████████████████████████████████████████████████████████████████████████████████████████████| 5/5 [00:00<00:00, 460.34it/s]\n",
      "100%|██████████████████████████████████████████████████████████████████████████████████████████████████████████████████| 2/2 [00:00<00:00, 485.96it/s]\n",
      "100%|██████████████████████████████████████████████████████████████████████████████████████████████████████████████████| 2/2 [00:00<00:00, 158.40it/s]\n"
     ]
    },
    {
     "name": "stdout",
     "output_type": "stream",
     "text": [
      "Epoch 10/500 Train Total Loss: 0.06002 Train Src Loss: 0.00901 Train Tgt Loss: 0.05102 \n",
      "                 Val Total Loss: 0.28212 Val Src Loss: 0.22057 Val Tgt Loss: 0.06156\n"
     ]
    },
    {
     "name": "stderr",
     "output_type": "stream",
     "text": [
      "100%|██████████████████████████████████████████████████████████████████████████████████████████████████████████████████| 7/7 [00:00<00:00, 106.98it/s]\n",
      "100%|██████████████████████████████████████████████████████████████████████████████████████████████████████████████████| 5/5 [00:00<00:00, 200.51it/s]\n",
      "100%|██████████████████████████████████████████████████████████████████████████████████████████████████████████████████| 2/2 [00:00<00:00, 186.74it/s]\n",
      "100%|██████████████████████████████████████████████████████████████████████████████████████████████████████████████████| 2/2 [00:00<00:00, 129.08it/s]\n"
     ]
    },
    {
     "name": "stdout",
     "output_type": "stream",
     "text": [
      "Epoch 11/500 Train Total Loss: 0.05825 Train Src Loss: 0.00758 Train Tgt Loss: 0.05067 \n",
      "                 Val Total Loss: 0.27246 Val Src Loss: 0.22266 Val Tgt Loss: 0.0498\n"
     ]
    },
    {
     "name": "stderr",
     "output_type": "stream",
     "text": [
      "100%|██████████████████████████████████████████████████████████████████████████████████████████████████████████████████| 7/7 [00:00<00:00, 171.97it/s]\n",
      "100%|██████████████████████████████████████████████████████████████████████████████████████████████████████████████████| 5/5 [00:00<00:00, 162.51it/s]\n",
      "100%|██████████████████████████████████████████████████████████████████████████████████████████████████████████████████| 2/2 [00:00<00:00, 333.24it/s]\n",
      "100%|██████████████████████████████████████████████████████████████████████████████████████████████████████████████████| 2/2 [00:00<00:00, 141.51it/s]\n"
     ]
    },
    {
     "name": "stdout",
     "output_type": "stream",
     "text": [
      "Epoch 12/500 Train Total Loss: 0.05719 Train Src Loss: 0.00776 Train Tgt Loss: 0.04943 \n",
      "                 Val Total Loss: 0.27092 Val Src Loss: 0.21539 Val Tgt Loss: 0.05553\n"
     ]
    },
    {
     "name": "stderr",
     "output_type": "stream",
     "text": [
      "100%|██████████████████████████████████████████████████████████████████████████████████████████████████████████████████| 7/7 [00:00<00:00, 266.56it/s]\n",
      "100%|██████████████████████████████████████████████████████████████████████████████████████████████████████████████████| 5/5 [00:00<00:00, 455.54it/s]\n",
      "100%|██████████████████████████████████████████████████████████████████████████████████████████████████████████████████| 2/2 [00:00<00:00, 599.96it/s]\n",
      "100%|██████████████████████████████████████████████████████████████████████████████████████████████████████████████████| 2/2 [00:00<00:00, 469.90it/s]\n"
     ]
    },
    {
     "name": "stdout",
     "output_type": "stream",
     "text": [
      "Epoch 13/500 Train Total Loss: 0.05424 Train Src Loss: 0.00799 Train Tgt Loss: 0.04624 \n",
      "                 Val Total Loss: 0.28697 Val Src Loss: 0.22738 Val Tgt Loss: 0.05959\n"
     ]
    },
    {
     "name": "stderr",
     "output_type": "stream",
     "text": [
      "100%|██████████████████████████████████████████████████████████████████████████████████████████████████████████████████| 7/7 [00:00<00:00, 474.83it/s]\n",
      "100%|██████████████████████████████████████████████████████████████████████████████████████████████████████████████████| 5/5 [00:00<00:00, 441.42it/s]\n",
      "100%|██████████████████████████████████████████████████████████████████████████████████████████████████████████████████| 2/2 [00:00<00:00, 391.53it/s]\n",
      "100%|██████████████████████████████████████████████████████████████████████████████████████████████████████████████████| 2/2 [00:00<00:00, 328.33it/s]\n"
     ]
    },
    {
     "name": "stdout",
     "output_type": "stream",
     "text": [
      "Epoch 14/500 Train Total Loss: 0.05803 Train Src Loss: 0.00897 Train Tgt Loss: 0.04906 \n",
      "                 Val Total Loss: 0.28486 Val Src Loss: 0.22618 Val Tgt Loss: 0.05868\n"
     ]
    },
    {
     "name": "stderr",
     "output_type": "stream",
     "text": [
      "100%|██████████████████████████████████████████████████████████████████████████████████████████████████████████████████| 7/7 [00:00<00:00, 537.34it/s]\n",
      "100%|██████████████████████████████████████████████████████████████████████████████████████████████████████████████████| 5/5 [00:00<00:00, 303.99it/s]\n",
      "100%|███████████████████████████████████████████████████████████████████████████████████████████████████████████████████| 2/2 [00:00<00:00, 90.77it/s]\n",
      "100%|███████████████████████████████████████████████████████████████████████████████████████████████████████████████████| 2/2 [00:00<00:00, 89.71it/s]\n"
     ]
    },
    {
     "name": "stdout",
     "output_type": "stream",
     "text": [
      "Epoch 15/500 Train Total Loss: 0.05578 Train Src Loss: 0.00794 Train Tgt Loss: 0.04784 \n",
      "                 Val Total Loss: 0.26699 Val Src Loss: 0.22547 Val Tgt Loss: 0.04152\n"
     ]
    },
    {
     "name": "stderr",
     "output_type": "stream",
     "text": [
      "100%|██████████████████████████████████████████████████████████████████████████████████████████████████████████████████| 7/7 [00:00<00:00, 224.81it/s]\n",
      "100%|██████████████████████████████████████████████████████████████████████████████████████████████████████████████████| 5/5 [00:00<00:00, 116.75it/s]\n",
      "100%|██████████████████████████████████████████████████████████████████████████████████████████████████████████████████| 2/2 [00:00<00:00, 165.21it/s]\n",
      "100%|██████████████████████████████████████████████████████████████████████████████████████████████████████████████████| 2/2 [00:00<00:00, 237.70it/s]\n"
     ]
    },
    {
     "name": "stdout",
     "output_type": "stream",
     "text": [
      "Epoch 16/500 Train Total Loss: 0.05618 Train Src Loss: 0.00709 Train Tgt Loss: 0.04909 \n",
      "                 Val Total Loss: 0.28579 Val Src Loss: 0.23517 Val Tgt Loss: 0.05061\n"
     ]
    },
    {
     "name": "stderr",
     "output_type": "stream",
     "text": [
      "100%|██████████████████████████████████████████████████████████████████████████████████████████████████████████████████| 7/7 [00:00<00:00, 204.80it/s]\n",
      "100%|██████████████████████████████████████████████████████████████████████████████████████████████████████████████████| 5/5 [00:00<00:00, 163.56it/s]\n",
      "100%|██████████████████████████████████████████████████████████████████████████████████████████████████████████████████| 2/2 [00:00<00:00, 287.62it/s]\n",
      "100%|██████████████████████████████████████████████████████████████████████████████████████████████████████████████████| 2/2 [00:00<00:00, 432.80it/s]\n"
     ]
    },
    {
     "name": "stdout",
     "output_type": "stream",
     "text": [
      "Epoch 17/500 Train Total Loss: 0.05523 Train Src Loss: 0.00797 Train Tgt Loss: 0.04726 \n",
      "                 Val Total Loss: 0.28598 Val Src Loss: 0.22934 Val Tgt Loss: 0.05664\n"
     ]
    },
    {
     "name": "stderr",
     "output_type": "stream",
     "text": [
      "100%|██████████████████████████████████████████████████████████████████████████████████████████████████████████████████| 7/7 [00:00<00:00, 458.74it/s]\n",
      "100%|██████████████████████████████████████████████████████████████████████████████████████████████████████████████████| 5/5 [00:00<00:00, 446.44it/s]\n",
      "100%|██████████████████████████████████████████████████████████████████████████████████████████████████████████████████| 2/2 [00:00<00:00, 480.92it/s]\n",
      "100%|██████████████████████████████████████████████████████████████████████████████████████████████████████████████████| 2/2 [00:00<00:00, 347.31it/s]\n"
     ]
    },
    {
     "name": "stdout",
     "output_type": "stream",
     "text": [
      "Epoch 18/500 Train Total Loss: 0.05028 Train Src Loss: 0.00774 Train Tgt Loss: 0.04254 \n",
      "                 Val Total Loss: 0.29102 Val Src Loss: 0.24318 Val Tgt Loss: 0.04784\n"
     ]
    },
    {
     "name": "stderr",
     "output_type": "stream",
     "text": [
      "100%|██████████████████████████████████████████████████████████████████████████████████████████████████████████████████| 7/7 [00:00<00:00, 544.07it/s]\n",
      "100%|██████████████████████████████████████████████████████████████████████████████████████████████████████████████████| 5/5 [00:00<00:00, 409.01it/s]\n",
      "100%|██████████████████████████████████████████████████████████████████████████████████████████████████████████████████| 2/2 [00:00<00:00, 336.23it/s]\n",
      "100%|██████████████████████████████████████████████████████████████████████████████████████████████████████████████████| 2/2 [00:00<00:00, 218.65it/s]\n"
     ]
    },
    {
     "name": "stdout",
     "output_type": "stream",
     "text": [
      "Epoch 19/500 Train Total Loss: 0.05598 Train Src Loss: 0.00774 Train Tgt Loss: 0.04824 \n",
      "                 Val Total Loss: 0.291 Val Src Loss: 0.23151 Val Tgt Loss: 0.05949\n"
     ]
    },
    {
     "name": "stderr",
     "output_type": "stream",
     "text": [
      "100%|██████████████████████████████████████████████████████████████████████████████████████████████████████████████████| 7/7 [00:00<00:00, 106.25it/s]\n",
      "100%|██████████████████████████████████████████████████████████████████████████████████████████████████████████████████| 5/5 [00:00<00:00, 186.79it/s]\n",
      "100%|██████████████████████████████████████████████████████████████████████████████████████████████████████████████████| 2/2 [00:00<00:00, 134.73it/s]\n",
      "100%|██████████████████████████████████████████████████████████████████████████████████████████████████████████████████| 2/2 [00:00<00:00, 106.46it/s]\n"
     ]
    },
    {
     "name": "stdout",
     "output_type": "stream",
     "text": [
      "Epoch 20/500 Train Total Loss: 0.05877 Train Src Loss: 0.00757 Train Tgt Loss: 0.0512 \n",
      "                 Val Total Loss: 0.27043 Val Src Loss: 0.22544 Val Tgt Loss: 0.04499\n"
     ]
    },
    {
     "name": "stderr",
     "output_type": "stream",
     "text": [
      "100%|██████████████████████████████████████████████████████████████████████████████████████████████████████████████████| 7/7 [00:00<00:00, 186.20it/s]\n",
      "100%|██████████████████████████████████████████████████████████████████████████████████████████████████████████████████| 5/5 [00:00<00:00, 149.93it/s]\n",
      "100%|██████████████████████████████████████████████████████████████████████████████████████████████████████████████████| 2/2 [00:00<00:00, 161.85it/s]\n",
      "100%|██████████████████████████████████████████████████████████████████████████████████████████████████████████████████| 2/2 [00:00<00:00, 178.42it/s]\n"
     ]
    },
    {
     "name": "stdout",
     "output_type": "stream",
     "text": [
      "Epoch 21/500 Train Total Loss: 0.05009 Train Src Loss: 0.00718 Train Tgt Loss: 0.04291 \n",
      "                 Val Total Loss: 0.28506 Val Src Loss: 0.24075 Val Tgt Loss: 0.04432\n"
     ]
    },
    {
     "name": "stderr",
     "output_type": "stream",
     "text": [
      "100%|██████████████████████████████████████████████████████████████████████████████████████████████████████████████████| 7/7 [00:00<00:00, 345.14it/s]\n",
      "100%|██████████████████████████████████████████████████████████████████████████████████████████████████████████████████| 5/5 [00:00<00:00, 442.45it/s]\n",
      "100%|██████████████████████████████████████████████████████████████████████████████████████████████████████████████████| 2/2 [00:00<00:00, 442.34it/s]\n",
      "100%|██████████████████████████████████████████████████████████████████████████████████████████████████████████████████| 2/2 [00:00<00:00, 451.12it/s]\n"
     ]
    },
    {
     "name": "stdout",
     "output_type": "stream",
     "text": [
      "Epoch 22/500 Train Total Loss: 0.04948 Train Src Loss: 0.0083 Train Tgt Loss: 0.04118 \n",
      "                 Val Total Loss: 0.29382 Val Src Loss: 0.23743 Val Tgt Loss: 0.05639\n"
     ]
    },
    {
     "name": "stderr",
     "output_type": "stream",
     "text": [
      "100%|██████████████████████████████████████████████████████████████████████████████████████████████████████████████████| 7/7 [00:00<00:00, 549.11it/s]\n",
      "100%|██████████████████████████████████████████████████████████████████████████████████████████████████████████████████| 5/5 [00:00<00:00, 448.42it/s]\n",
      "100%|██████████████████████████████████████████████████████████████████████████████████████████████████████████████████| 2/2 [00:00<00:00, 564.43it/s]\n",
      "100%|██████████████████████████████████████████████████████████████████████████████████████████████████████████████████| 2/2 [00:00<00:00, 450.25it/s]\n"
     ]
    },
    {
     "name": "stdout",
     "output_type": "stream",
     "text": [
      "Epoch 23/500 Train Total Loss: 0.05269 Train Src Loss: 0.00895 Train Tgt Loss: 0.04375 \n",
      "                 Val Total Loss: 0.27538 Val Src Loss: 0.22275 Val Tgt Loss: 0.05263\n"
     ]
    },
    {
     "name": "stderr",
     "output_type": "stream",
     "text": [
      "100%|██████████████████████████████████████████████████████████████████████████████████████████████████████████████████| 7/7 [00:00<00:00, 533.00it/s]\n",
      "100%|██████████████████████████████████████████████████████████████████████████████████████████████████████████████████| 5/5 [00:00<00:00, 255.40it/s]\n",
      "100%|██████████████████████████████████████████████████████████████████████████████████████████████████████████████████| 2/2 [00:00<00:00, 102.15it/s]\n",
      "100%|██████████████████████████████████████████████████████████████████████████████████████████████████████████████████| 2/2 [00:00<00:00, 121.07it/s]\n"
     ]
    },
    {
     "name": "stdout",
     "output_type": "stream",
     "text": [
      "Epoch 24/500 Train Total Loss: 0.05266 Train Src Loss: 0.00829 Train Tgt Loss: 0.04438 \n",
      "                 Val Total Loss: 0.30033 Val Src Loss: 0.25401 Val Tgt Loss: 0.04633\n"
     ]
    },
    {
     "name": "stderr",
     "output_type": "stream",
     "text": [
      "100%|██████████████████████████████████████████████████████████████████████████████████████████████████████████████████| 7/7 [00:00<00:00, 176.62it/s]\n",
      "100%|██████████████████████████████████████████████████████████████████████████████████████████████████████████████████| 5/5 [00:00<00:00, 117.40it/s]\n",
      "100%|██████████████████████████████████████████████████████████████████████████████████████████████████████████████████| 2/2 [00:00<00:00, 343.05it/s]\n",
      "100%|██████████████████████████████████████████████████████████████████████████████████████████████████████████████████| 2/2 [00:00<00:00, 146.86it/s]\n"
     ]
    },
    {
     "name": "stdout",
     "output_type": "stream",
     "text": [
      "Epoch 25/500 Train Total Loss: 0.04922 Train Src Loss: 0.00876 Train Tgt Loss: 0.04046 \n",
      "                 Val Total Loss: 0.28148 Val Src Loss: 0.23737 Val Tgt Loss: 0.04411\n"
     ]
    },
    {
     "name": "stderr",
     "output_type": "stream",
     "text": [
      "100%|██████████████████████████████████████████████████████████████████████████████████████████████████████████████████| 7/7 [00:00<00:00, 258.36it/s]\n",
      "100%|██████████████████████████████████████████████████████████████████████████████████████████████████████████████████| 5/5 [00:00<00:00, 160.00it/s]\n",
      "100%|██████████████████████████████████████████████████████████████████████████████████████████████████████████████████| 2/2 [00:00<00:00, 499.23it/s]\n",
      "100%|██████████████████████████████████████████████████████████████████████████████████████████████████████████████████| 2/2 [00:00<00:00, 465.88it/s]"
     ]
    },
    {
     "name": "stdout",
     "output_type": "stream",
     "text": [
      "Epoch 26/500 Train Total Loss: 0.04937 Train Src Loss: 0.00822 Train Tgt Loss: 0.04115 \n",
      "                 Val Total Loss: 0.26793 Val Src Loss: 0.22773 Val Tgt Loss: 0.0402\n"
     ]
    },
    {
     "name": "stderr",
     "output_type": "stream",
     "text": [
      "\n"
     ]
    }
   ],
   "source": [
    "encoder_29_34, mlp_29_34, best_val_loss, best_val_src_loss, best_val_tgt_loss = continual_adapt([27,32,34], train_loader, val_loader, encoder_24_29, mlp_24_29, device, lambda_coeff=lambda_coeff, lr=lr)"
   ]
  },
  {
   "cell_type": "code",
   "execution_count": 40,
   "id": "bb09b565",
   "metadata": {
    "scrolled": true
   },
   "outputs": [
    {
     "name": "stdout",
     "output_type": "stream",
     "text": [
      "Total Val Loss: 0.267, Val Src Loss: 0.225, Val Tgt Loss: 0.042\n"
     ]
    }
   ],
   "source": [
    "print(f'Total Val Loss: {round(best_val_loss, 3)}, Val Src Loss: {round(best_val_src_loss, 3)}, Val Tgt Loss: {round(best_val_tgt_loss, 3)}')"
   ]
  },
  {
   "cell_type": "markdown",
   "id": "ccbd1e7a",
   "metadata": {},
   "source": [
    "### 34-38 ###"
   ]
  },
  {
   "cell_type": "code",
   "execution_count": 41,
   "id": "6c4e83cf",
   "metadata": {},
   "outputs": [],
   "source": [
    "test_data = [get_data(data_dir, \"elliptic\", i) for i in range(34,39)]\n",
    "test_loader = DataLoader(dataset=test_data, batch_size=1, shuffle=False)"
   ]
  },
  {
   "cell_type": "code",
   "execution_count": 42,
   "id": "3f318972",
   "metadata": {
    "scrolled": true
   },
   "outputs": [
    {
     "name": "stdout",
     "output_type": "stream",
     "text": [
      "Test Loss: 4.0257, Test F1: 0.2796\n"
     ]
    }
   ],
   "source": [
    "test_loss, test_f1 = test(encoder_29_34, mlp_29_34, test_loader, loss_fn, device)\n",
    "f1_list.append(test_f1)\n",
    "print(f\"Test Loss: {round(test_loss,4)}, Test F1: {round(test_f1,4)}\")"
   ]
  },
  {
   "cell_type": "code",
   "execution_count": 43,
   "id": "9850eea1",
   "metadata": {
    "scrolled": true
   },
   "outputs": [
    {
     "name": "stderr",
     "output_type": "stream",
     "text": [
      "100%|██████████████████████████████████████████████████████████████████████████████████████████████████████████████████| 7/7 [00:00<00:00, 519.52it/s]\n",
      "100%|██████████████████████████████████████████████████████████████████████████████████████████████████████████████████| 5/5 [00:00<00:00, 436.30it/s]\n",
      "100%|██████████████████████████████████████████████████████████████████████████████████████████████████████████████████| 2/2 [00:00<00:00, 556.94it/s]\n",
      "100%|██████████████████████████████████████████████████████████████████████████████████████████████████████████████████| 2/2 [00:00<00:00, 461.85it/s]\n"
     ]
    },
    {
     "name": "stdout",
     "output_type": "stream",
     "text": [
      "Epoch 1/500 Train Total Loss: 0.04893 Train Src Loss: 0.00764 Train Tgt Loss: 0.04129 \n",
      "                 Val Total Loss: 0.25764 Val Src Loss: 0.2277 Val Tgt Loss: 0.02994\n"
     ]
    },
    {
     "name": "stderr",
     "output_type": "stream",
     "text": [
      "100%|██████████████████████████████████████████████████████████████████████████████████████████████████████████████████| 7/7 [00:00<00:00, 273.44it/s]\n",
      "100%|███████████████████████████████████████████████████████████████████████████████████████████████████████████████████| 5/5 [00:00<00:00, 88.71it/s]\n",
      "100%|██████████████████████████████████████████████████████████████████████████████████████████████████████████████████| 2/2 [00:00<00:00, 204.28it/s]\n",
      "100%|██████████████████████████████████████████████████████████████████████████████████████████████████████████████████| 2/2 [00:00<00:00, 158.03it/s]\n"
     ]
    },
    {
     "name": "stdout",
     "output_type": "stream",
     "text": [
      "Epoch 2/500 Train Total Loss: 0.0411 Train Src Loss: 0.00752 Train Tgt Loss: 0.03358 \n",
      "                 Val Total Loss: 0.25072 Val Src Loss: 0.22727 Val Tgt Loss: 0.02345\n"
     ]
    },
    {
     "name": "stderr",
     "output_type": "stream",
     "text": [
      "100%|██████████████████████████████████████████████████████████████████████████████████████████████████████████████████| 7/7 [00:00<00:00, 136.50it/s]\n",
      "100%|██████████████████████████████████████████████████████████████████████████████████████████████████████████████████| 5/5 [00:00<00:00, 177.70it/s]\n",
      "100%|██████████████████████████████████████████████████████████████████████████████████████████████████████████████████| 2/2 [00:00<00:00, 278.81it/s]\n",
      "100%|██████████████████████████████████████████████████████████████████████████████████████████████████████████████████| 2/2 [00:00<00:00, 197.07it/s]\n"
     ]
    },
    {
     "name": "stdout",
     "output_type": "stream",
     "text": [
      "Epoch 3/500 Train Total Loss: 0.04511 Train Src Loss: 0.00914 Train Tgt Loss: 0.03597 \n",
      "                 Val Total Loss: 0.2669 Val Src Loss: 0.23862 Val Tgt Loss: 0.02828\n"
     ]
    },
    {
     "name": "stderr",
     "output_type": "stream",
     "text": [
      "100%|██████████████████████████████████████████████████████████████████████████████████████████████████████████████████| 7/7 [00:00<00:00, 200.74it/s]\n",
      "100%|██████████████████████████████████████████████████████████████████████████████████████████████████████████████████| 5/5 [00:00<00:00, 342.00it/s]\n",
      "100%|██████████████████████████████████████████████████████████████████████████████████████████████████████████████████| 2/2 [00:00<00:00, 585.63it/s]\n",
      "100%|██████████████████████████████████████████████████████████████████████████████████████████████████████████████████| 2/2 [00:00<00:00, 469.00it/s]\n"
     ]
    },
    {
     "name": "stdout",
     "output_type": "stream",
     "text": [
      "Epoch 4/500 Train Total Loss: 0.0445 Train Src Loss: 0.00836 Train Tgt Loss: 0.03614 \n",
      "                 Val Total Loss: 0.26083 Val Src Loss: 0.23205 Val Tgt Loss: 0.02878\n"
     ]
    },
    {
     "name": "stderr",
     "output_type": "stream",
     "text": [
      "100%|██████████████████████████████████████████████████████████████████████████████████████████████████████████████████| 7/7 [00:00<00:00, 553.02it/s]\n",
      "100%|██████████████████████████████████████████████████████████████████████████████████████████████████████████████████| 5/5 [00:00<00:00, 445.36it/s]\n",
      "100%|██████████████████████████████████████████████████████████████████████████████████████████████████████████████████| 2/2 [00:00<00:00, 588.30it/s]\n",
      "100%|██████████████████████████████████████████████████████████████████████████████████████████████████████████████████| 2/2 [00:00<00:00, 471.08it/s]\n"
     ]
    },
    {
     "name": "stdout",
     "output_type": "stream",
     "text": [
      "Epoch 5/500 Train Total Loss: 0.04466 Train Src Loss: 0.0072 Train Tgt Loss: 0.03746 \n",
      "                 Val Total Loss: 0.26122 Val Src Loss: 0.23829 Val Tgt Loss: 0.02293\n"
     ]
    },
    {
     "name": "stderr",
     "output_type": "stream",
     "text": [
      "100%|██████████████████████████████████████████████████████████████████████████████████████████████████████████████████| 7/7 [00:00<00:00, 557.89it/s]\n",
      "100%|██████████████████████████████████████████████████████████████████████████████████████████████████████████████████| 5/5 [00:00<00:00, 427.07it/s]\n",
      "100%|██████████████████████████████████████████████████████████████████████████████████████████████████████████████████| 2/2 [00:00<00:00, 345.59it/s]\n",
      "100%|██████████████████████████████████████████████████████████████████████████████████████████████████████████████████| 2/2 [00:00<00:00, 152.00it/s]\n"
     ]
    },
    {
     "name": "stdout",
     "output_type": "stream",
     "text": [
      "Epoch 6/500 Train Total Loss: 0.04566 Train Src Loss: 0.00802 Train Tgt Loss: 0.03764 \n",
      "                 Val Total Loss: 0.2552 Val Src Loss: 0.23364 Val Tgt Loss: 0.02156\n"
     ]
    },
    {
     "name": "stderr",
     "output_type": "stream",
     "text": [
      "100%|██████████████████████████████████████████████████████████████████████████████████████████████████████████████████| 7/7 [00:00<00:00, 116.57it/s]\n",
      "100%|██████████████████████████████████████████████████████████████████████████████████████████████████████████████████| 5/5 [00:00<00:00, 217.96it/s]\n",
      "100%|██████████████████████████████████████████████████████████████████████████████████████████████████████████████████| 2/2 [00:00<00:00, 146.47it/s]\n",
      "100%|██████████████████████████████████████████████████████████████████████████████████████████████████████████████████| 2/2 [00:00<00:00, 127.63it/s]\n"
     ]
    },
    {
     "name": "stdout",
     "output_type": "stream",
     "text": [
      "Epoch 7/500 Train Total Loss: 0.04846 Train Src Loss: 0.00912 Train Tgt Loss: 0.03934 \n",
      "                 Val Total Loss: 0.24935 Val Src Loss: 0.22488 Val Tgt Loss: 0.02447\n"
     ]
    },
    {
     "name": "stderr",
     "output_type": "stream",
     "text": [
      "100%|██████████████████████████████████████████████████████████████████████████████████████████████████████████████████| 7/7 [00:00<00:00, 169.89it/s]\n",
      "100%|██████████████████████████████████████████████████████████████████████████████████████████████████████████████████| 5/5 [00:00<00:00, 166.19it/s]\n",
      "100%|██████████████████████████████████████████████████████████████████████████████████████████████████████████████████| 2/2 [00:00<00:00, 236.94it/s]\n",
      "100%|██████████████████████████████████████████████████████████████████████████████████████████████████████████████████| 2/2 [00:00<00:00, 124.64it/s]\n"
     ]
    },
    {
     "name": "stdout",
     "output_type": "stream",
     "text": [
      "Epoch 8/500 Train Total Loss: 0.04134 Train Src Loss: 0.00807 Train Tgt Loss: 0.03327 \n",
      "                 Val Total Loss: 0.2541 Val Src Loss: 0.23114 Val Tgt Loss: 0.02296\n"
     ]
    },
    {
     "name": "stderr",
     "output_type": "stream",
     "text": [
      "100%|██████████████████████████████████████████████████████████████████████████████████████████████████████████████████| 7/7 [00:00<00:00, 294.73it/s]\n",
      "100%|██████████████████████████████████████████████████████████████████████████████████████████████████████████████████| 5/5 [00:00<00:00, 422.96it/s]\n",
      "100%|██████████████████████████████████████████████████████████████████████████████████████████████████████████████████| 2/2 [00:00<00:00, 338.11it/s]\n",
      "100%|██████████████████████████████████████████████████████████████████████████████████████████████████████████████████| 2/2 [00:00<00:00, 448.56it/s]\n"
     ]
    },
    {
     "name": "stdout",
     "output_type": "stream",
     "text": [
      "Epoch 9/500 Train Total Loss: 0.0362 Train Src Loss: 0.00729 Train Tgt Loss: 0.02891 \n",
      "                 Val Total Loss: 0.25802 Val Src Loss: 0.24319 Val Tgt Loss: 0.01484\n"
     ]
    },
    {
     "name": "stderr",
     "output_type": "stream",
     "text": [
      "100%|██████████████████████████████████████████████████████████████████████████████████████████████████████████████████| 7/7 [00:00<00:00, 480.69it/s]\n",
      "100%|██████████████████████████████████████████████████████████████████████████████████████████████████████████████████| 5/5 [00:00<00:00, 398.27it/s]\n",
      "100%|██████████████████████████████████████████████████████████████████████████████████████████████████████████████████| 2/2 [00:00<00:00, 527.68it/s]\n",
      "100%|██████████████████████████████████████████████████████████████████████████████████████████████████████████████████| 2/2 [00:00<00:00, 447.92it/s]\n"
     ]
    },
    {
     "name": "stdout",
     "output_type": "stream",
     "text": [
      "Epoch 10/500 Train Total Loss: 0.03809 Train Src Loss: 0.00715 Train Tgt Loss: 0.03093 \n",
      "                 Val Total Loss: 0.2523 Val Src Loss: 0.23545 Val Tgt Loss: 0.01686\n"
     ]
    },
    {
     "name": "stderr",
     "output_type": "stream",
     "text": [
      "100%|██████████████████████████████████████████████████████████████████████████████████████████████████████████████████| 7/7 [00:00<00:00, 542.64it/s]\n",
      "100%|██████████████████████████████████████████████████████████████████████████████████████████████████████████████████| 5/5 [00:00<00:00, 352.26it/s]\n",
      "100%|██████████████████████████████████████████████████████████████████████████████████████████████████████████████████| 2/2 [00:00<00:00, 100.34it/s]\n",
      "100%|███████████████████████████████████████████████████████████████████████████████████████████████████████████████████| 2/2 [00:00<00:00, 67.53it/s]\n"
     ]
    },
    {
     "name": "stdout",
     "output_type": "stream",
     "text": [
      "Epoch 11/500 Train Total Loss: 0.04156 Train Src Loss: 0.00773 Train Tgt Loss: 0.03382 \n",
      "                 Val Total Loss: 0.25149 Val Src Loss: 0.22865 Val Tgt Loss: 0.02284\n"
     ]
    },
    {
     "name": "stderr",
     "output_type": "stream",
     "text": [
      "100%|██████████████████████████████████████████████████████████████████████████████████████████████████████████████████| 7/7 [00:00<00:00, 164.93it/s]\n",
      "100%|██████████████████████████████████████████████████████████████████████████████████████████████████████████████████| 5/5 [00:00<00:00, 112.38it/s]\n",
      "100%|██████████████████████████████████████████████████████████████████████████████████████████████████████████████████| 2/2 [00:00<00:00, 239.17it/s]\n",
      "100%|██████████████████████████████████████████████████████████████████████████████████████████████████████████████████| 2/2 [00:00<00:00, 122.33it/s]\n"
     ]
    },
    {
     "name": "stdout",
     "output_type": "stream",
     "text": [
      "Epoch 12/500 Train Total Loss: 0.03933 Train Src Loss: 0.00715 Train Tgt Loss: 0.03219 \n",
      "                 Val Total Loss: 0.25647 Val Src Loss: 0.23602 Val Tgt Loss: 0.02045\n"
     ]
    },
    {
     "name": "stderr",
     "output_type": "stream",
     "text": [
      "100%|██████████████████████████████████████████████████████████████████████████████████████████████████████████████████| 7/7 [00:00<00:00, 250.75it/s]\n",
      "100%|██████████████████████████████████████████████████████████████████████████████████████████████████████████████████| 5/5 [00:00<00:00, 178.62it/s]\n",
      "100%|██████████████████████████████████████████████████████████████████████████████████████████████████████████████████| 2/2 [00:00<00:00, 407.95it/s]\n",
      "100%|██████████████████████████████████████████████████████████████████████████████████████████████████████████████████| 2/2 [00:00<00:00, 450.71it/s]\n"
     ]
    },
    {
     "name": "stdout",
     "output_type": "stream",
     "text": [
      "Epoch 13/500 Train Total Loss: 0.03732 Train Src Loss: 0.00817 Train Tgt Loss: 0.02915 \n",
      "                 Val Total Loss: 0.24937 Val Src Loss: 0.22855 Val Tgt Loss: 0.02082\n"
     ]
    },
    {
     "name": "stderr",
     "output_type": "stream",
     "text": [
      "100%|██████████████████████████████████████████████████████████████████████████████████████████████████████████████████| 7/7 [00:00<00:00, 569.25it/s]\n",
      "100%|██████████████████████████████████████████████████████████████████████████████████████████████████████████████████| 5/5 [00:00<00:00, 437.97it/s]\n",
      "100%|██████████████████████████████████████████████████████████████████████████████████████████████████████████████████| 2/2 [00:00<00:00, 410.92it/s]\n",
      "100%|██████████████████████████████████████████████████████████████████████████████████████████████████████████████████| 2/2 [00:00<00:00, 459.05it/s]\n"
     ]
    },
    {
     "name": "stdout",
     "output_type": "stream",
     "text": [
      "Epoch 14/500 Train Total Loss: 0.03655 Train Src Loss: 0.00648 Train Tgt Loss: 0.03007 \n",
      "                 Val Total Loss: 0.26859 Val Src Loss: 0.24322 Val Tgt Loss: 0.02537\n"
     ]
    },
    {
     "name": "stderr",
     "output_type": "stream",
     "text": [
      "100%|██████████████████████████████████████████████████████████████████████████████████████████████████████████████████| 7/7 [00:00<00:00, 565.75it/s]\n",
      "100%|██████████████████████████████████████████████████████████████████████████████████████████████████████████████████| 5/5 [00:00<00:00, 438.65it/s]\n",
      "100%|██████████████████████████████████████████████████████████████████████████████████████████████████████████████████| 2/2 [00:00<00:00, 287.28it/s]\n",
      "100%|██████████████████████████████████████████████████████████████████████████████████████████████████████████████████| 2/2 [00:00<00:00, 154.88it/s]\n"
     ]
    },
    {
     "name": "stdout",
     "output_type": "stream",
     "text": [
      "Epoch 15/500 Train Total Loss: 0.03804 Train Src Loss: 0.00729 Train Tgt Loss: 0.03075 \n",
      "                 Val Total Loss: 0.25554 Val Src Loss: 0.23768 Val Tgt Loss: 0.01787\n"
     ]
    },
    {
     "name": "stderr",
     "output_type": "stream",
     "text": [
      "100%|██████████████████████████████████████████████████████████████████████████████████████████████████████████████████| 7/7 [00:00<00:00, 126.97it/s]\n",
      "100%|██████████████████████████████████████████████████████████████████████████████████████████████████████████████████| 5/5 [00:00<00:00, 244.92it/s]\n",
      "100%|██████████████████████████████████████████████████████████████████████████████████████████████████████████████████| 2/2 [00:00<00:00, 211.50it/s]\n",
      "100%|██████████████████████████████████████████████████████████████████████████████████████████████████████████████████| 2/2 [00:00<00:00, 134.04it/s]\n"
     ]
    },
    {
     "name": "stdout",
     "output_type": "stream",
     "text": [
      "Epoch 16/500 Train Total Loss: 0.03835 Train Src Loss: 0.00886 Train Tgt Loss: 0.02949 \n",
      "                 Val Total Loss: 0.24407 Val Src Loss: 0.22536 Val Tgt Loss: 0.01871\n"
     ]
    },
    {
     "name": "stderr",
     "output_type": "stream",
     "text": [
      "100%|██████████████████████████████████████████████████████████████████████████████████████████████████████████████████| 7/7 [00:00<00:00, 147.99it/s]\n",
      "100%|██████████████████████████████████████████████████████████████████████████████████████████████████████████████████| 5/5 [00:00<00:00, 191.69it/s]\n",
      "100%|██████████████████████████████████████████████████████████████████████████████████████████████████████████████████| 2/2 [00:00<00:00, 259.04it/s]\n",
      "100%|██████████████████████████████████████████████████████████████████████████████████████████████████████████████████| 2/2 [00:00<00:00, 230.44it/s]\n"
     ]
    },
    {
     "name": "stdout",
     "output_type": "stream",
     "text": [
      "Epoch 17/500 Train Total Loss: 0.03873 Train Src Loss: 0.00701 Train Tgt Loss: 0.03172 \n",
      "                 Val Total Loss: 0.25095 Val Src Loss: 0.23643 Val Tgt Loss: 0.01451\n"
     ]
    },
    {
     "name": "stderr",
     "output_type": "stream",
     "text": [
      "100%|██████████████████████████████████████████████████████████████████████████████████████████████████████████████████| 7/7 [00:00<00:00, 204.97it/s]\n",
      "100%|██████████████████████████████████████████████████████████████████████████████████████████████████████████████████| 5/5 [00:00<00:00, 358.92it/s]\n",
      "100%|██████████████████████████████████████████████████████████████████████████████████████████████████████████████████| 2/2 [00:00<00:00, 575.00it/s]\n",
      "100%|██████████████████████████████████████████████████████████████████████████████████████████████████████████████████| 2/2 [00:00<00:00, 489.93it/s]\n"
     ]
    },
    {
     "name": "stdout",
     "output_type": "stream",
     "text": [
      "Epoch 18/500 Train Total Loss: 0.03222 Train Src Loss: 0.00804 Train Tgt Loss: 0.02418 \n",
      "                 Val Total Loss: 0.24798 Val Src Loss: 0.22939 Val Tgt Loss: 0.0186\n"
     ]
    },
    {
     "name": "stderr",
     "output_type": "stream",
     "text": [
      "100%|██████████████████████████████████████████████████████████████████████████████████████████████████████████████████| 7/7 [00:00<00:00, 553.45it/s]\n",
      "100%|██████████████████████████████████████████████████████████████████████████████████████████████████████████████████| 5/5 [00:00<00:00, 439.57it/s]\n",
      "100%|██████████████████████████████████████████████████████████████████████████████████████████████████████████████████| 2/2 [00:00<00:00, 570.23it/s]\n",
      "100%|██████████████████████████████████████████████████████████████████████████████████████████████████████████████████| 2/2 [00:00<00:00, 470.98it/s]\n"
     ]
    },
    {
     "name": "stdout",
     "output_type": "stream",
     "text": [
      "Epoch 19/500 Train Total Loss: 0.03258 Train Src Loss: 0.00686 Train Tgt Loss: 0.02572 \n",
      "                 Val Total Loss: 0.26921 Val Src Loss: 0.25508 Val Tgt Loss: 0.01414\n"
     ]
    },
    {
     "name": "stderr",
     "output_type": "stream",
     "text": [
      "100%|██████████████████████████████████████████████████████████████████████████████████████████████████████████████████| 7/7 [00:00<00:00, 556.81it/s]\n",
      "100%|██████████████████████████████████████████████████████████████████████████████████████████████████████████████████| 5/5 [00:00<00:00, 434.62it/s]\n",
      "100%|██████████████████████████████████████████████████████████████████████████████████████████████████████████████████| 2/2 [00:00<00:00, 228.52it/s]\n",
      "100%|███████████████████████████████████████████████████████████████████████████████████████████████████████████████████| 2/2 [00:00<00:00, 84.26it/s]\n"
     ]
    },
    {
     "name": "stdout",
     "output_type": "stream",
     "text": [
      "Epoch 20/500 Train Total Loss: 0.03393 Train Src Loss: 0.00711 Train Tgt Loss: 0.02682 \n",
      "                 Val Total Loss: 0.25778 Val Src Loss: 0.23673 Val Tgt Loss: 0.02104\n"
     ]
    },
    {
     "name": "stderr",
     "output_type": "stream",
     "text": [
      "100%|██████████████████████████████████████████████████████████████████████████████████████████████████████████████████| 7/7 [00:00<00:00, 162.73it/s]\n",
      "100%|██████████████████████████████████████████████████████████████████████████████████████████████████████████████████| 5/5 [00:00<00:00, 159.52it/s]\n",
      "100%|██████████████████████████████████████████████████████████████████████████████████████████████████████████████████| 2/2 [00:00<00:00, 115.74it/s]\n",
      "100%|██████████████████████████████████████████████████████████████████████████████████████████████████████████████████| 2/2 [00:00<00:00, 108.81it/s]\n"
     ]
    },
    {
     "name": "stdout",
     "output_type": "stream",
     "text": [
      "Epoch 21/500 Train Total Loss: 0.03801 Train Src Loss: 0.00782 Train Tgt Loss: 0.03019 \n",
      "                 Val Total Loss: 0.25859 Val Src Loss: 0.24251 Val Tgt Loss: 0.01608\n"
     ]
    },
    {
     "name": "stderr",
     "output_type": "stream",
     "text": [
      "100%|██████████████████████████████████████████████████████████████████████████████████████████████████████████████████| 7/7 [00:00<00:00, 217.20it/s]\n",
      "100%|██████████████████████████████████████████████████████████████████████████████████████████████████████████████████| 5/5 [00:00<00:00, 192.69it/s]\n",
      "100%|██████████████████████████████████████████████████████████████████████████████████████████████████████████████████| 2/2 [00:00<00:00, 133.15it/s]\n",
      "100%|██████████████████████████████████████████████████████████████████████████████████████████████████████████████████| 2/2 [00:00<00:00, 200.34it/s]\n"
     ]
    },
    {
     "name": "stdout",
     "output_type": "stream",
     "text": [
      "Epoch 22/500 Train Total Loss: 0.03399 Train Src Loss: 0.00758 Train Tgt Loss: 0.02641 \n",
      "                 Val Total Loss: 0.25011 Val Src Loss: 0.2278 Val Tgt Loss: 0.0223\n"
     ]
    },
    {
     "name": "stderr",
     "output_type": "stream",
     "text": [
      "100%|██████████████████████████████████████████████████████████████████████████████████████████████████████████████████| 7/7 [00:00<00:00, 443.01it/s]\n",
      "100%|██████████████████████████████████████████████████████████████████████████████████████████████████████████████████| 5/5 [00:00<00:00, 431.57it/s]\n",
      "100%|██████████████████████████████████████████████████████████████████████████████████████████████████████████████████| 2/2 [00:00<00:00, 405.15it/s]\n",
      "100%|██████████████████████████████████████████████████████████████████████████████████████████████████████████████████| 2/2 [00:00<00:00, 438.80it/s]\n"
     ]
    },
    {
     "name": "stdout",
     "output_type": "stream",
     "text": [
      "Epoch 23/500 Train Total Loss: 0.03226 Train Src Loss: 0.00694 Train Tgt Loss: 0.02533 \n",
      "                 Val Total Loss: 0.2394 Val Src Loss: 0.22446 Val Tgt Loss: 0.01494\n"
     ]
    },
    {
     "name": "stderr",
     "output_type": "stream",
     "text": [
      "100%|██████████████████████████████████████████████████████████████████████████████████████████████████████████████████| 7/7 [00:00<00:00, 548.74it/s]\n",
      "100%|██████████████████████████████████████████████████████████████████████████████████████████████████████████████████| 5/5 [00:00<00:00, 433.65it/s]\n",
      "100%|██████████████████████████████████████████████████████████████████████████████████████████████████████████████████| 2/2 [00:00<00:00, 368.12it/s]\n",
      "100%|██████████████████████████████████████████████████████████████████████████████████████████████████████████████████| 2/2 [00:00<00:00, 445.37it/s]\n"
     ]
    },
    {
     "name": "stdout",
     "output_type": "stream",
     "text": [
      "Epoch 24/500 Train Total Loss: 0.03314 Train Src Loss: 0.00698 Train Tgt Loss: 0.02616 \n",
      "                 Val Total Loss: 0.26075 Val Src Loss: 0.23128 Val Tgt Loss: 0.02947\n"
     ]
    },
    {
     "name": "stderr",
     "output_type": "stream",
     "text": [
      "100%|██████████████████████████████████████████████████████████████████████████████████████████████████████████████████| 7/7 [00:00<00:00, 566.75it/s]\n",
      "100%|██████████████████████████████████████████████████████████████████████████████████████████████████████████████████| 5/5 [00:00<00:00, 310.00it/s]\n",
      "100%|██████████████████████████████████████████████████████████████████████████████████████████████████████████████████| 2/2 [00:00<00:00, 132.19it/s]\n",
      "100%|███████████████████████████████████████████████████████████████████████████████████████████████████████████████████| 2/2 [00:00<00:00, 71.23it/s]\n"
     ]
    },
    {
     "name": "stdout",
     "output_type": "stream",
     "text": [
      "Epoch 25/500 Train Total Loss: 0.03311 Train Src Loss: 0.00736 Train Tgt Loss: 0.02575 \n",
      "                 Val Total Loss: 0.25131 Val Src Loss: 0.2306 Val Tgt Loss: 0.0207\n"
     ]
    },
    {
     "name": "stderr",
     "output_type": "stream",
     "text": [
      "100%|██████████████████████████████████████████████████████████████████████████████████████████████████████████████████| 7/7 [00:00<00:00, 161.77it/s]\n",
      "100%|██████████████████████████████████████████████████████████████████████████████████████████████████████████████████| 5/5 [00:00<00:00, 112.57it/s]\n",
      "100%|██████████████████████████████████████████████████████████████████████████████████████████████████████████████████| 2/2 [00:00<00:00, 215.30it/s]\n",
      "100%|██████████████████████████████████████████████████████████████████████████████████████████████████████████████████| 2/2 [00:00<00:00, 207.07it/s]\n"
     ]
    },
    {
     "name": "stdout",
     "output_type": "stream",
     "text": [
      "Epoch 26/500 Train Total Loss: 0.03507 Train Src Loss: 0.00822 Train Tgt Loss: 0.02685 \n",
      "                 Val Total Loss: 0.24613 Val Src Loss: 0.23156 Val Tgt Loss: 0.01457\n"
     ]
    },
    {
     "name": "stderr",
     "output_type": "stream",
     "text": [
      "100%|██████████████████████████████████████████████████████████████████████████████████████████████████████████████████| 7/7 [00:00<00:00, 234.03it/s]\n",
      "100%|██████████████████████████████████████████████████████████████████████████████████████████████████████████████████| 5/5 [00:00<00:00, 172.35it/s]\n",
      "100%|██████████████████████████████████████████████████████████████████████████████████████████████████████████████████| 2/2 [00:00<00:00, 267.60it/s]\n",
      "100%|██████████████████████████████████████████████████████████████████████████████████████████████████████████████████| 2/2 [00:00<00:00, 371.65it/s]\n"
     ]
    },
    {
     "name": "stdout",
     "output_type": "stream",
     "text": [
      "Epoch 27/500 Train Total Loss: 0.03153 Train Src Loss: 0.00707 Train Tgt Loss: 0.02446 \n",
      "                 Val Total Loss: 0.24342 Val Src Loss: 0.2233 Val Tgt Loss: 0.02012\n"
     ]
    },
    {
     "name": "stderr",
     "output_type": "stream",
     "text": [
      "100%|██████████████████████████████████████████████████████████████████████████████████████████████████████████████████| 7/7 [00:00<00:00, 551.33it/s]\n",
      "100%|██████████████████████████████████████████████████████████████████████████████████████████████████████████████████| 5/5 [00:00<00:00, 431.25it/s]\n",
      "100%|██████████████████████████████████████████████████████████████████████████████████████████████████████████████████| 2/2 [00:00<00:00, 362.67it/s]\n",
      "100%|██████████████████████████████████████████████████████████████████████████████████████████████████████████████████| 2/2 [00:00<00:00, 428.62it/s]\n"
     ]
    },
    {
     "name": "stdout",
     "output_type": "stream",
     "text": [
      "Epoch 28/500 Train Total Loss: 0.03438 Train Src Loss: 0.00714 Train Tgt Loss: 0.02724 \n",
      "                 Val Total Loss: 0.26514 Val Src Loss: 0.24521 Val Tgt Loss: 0.01993\n"
     ]
    },
    {
     "name": "stderr",
     "output_type": "stream",
     "text": [
      "100%|██████████████████████████████████████████████████████████████████████████████████████████████████████████████████| 7/7 [00:00<00:00, 563.90it/s]\n",
      "100%|██████████████████████████████████████████████████████████████████████████████████████████████████████████████████| 5/5 [00:00<00:00, 437.88it/s]\n",
      "100%|██████████████████████████████████████████████████████████████████████████████████████████████████████████████████| 2/2 [00:00<00:00, 337.75it/s]\n",
      "100%|██████████████████████████████████████████████████████████████████████████████████████████████████████████████████| 2/2 [00:00<00:00, 463.51it/s]\n"
     ]
    },
    {
     "name": "stdout",
     "output_type": "stream",
     "text": [
      "Epoch 29/500 Train Total Loss: 0.03429 Train Src Loss: 0.00699 Train Tgt Loss: 0.02729 \n",
      "                 Val Total Loss: 0.26376 Val Src Loss: 0.2466 Val Tgt Loss: 0.01717\n"
     ]
    },
    {
     "name": "stderr",
     "output_type": "stream",
     "text": [
      "100%|██████████████████████████████████████████████████████████████████████████████████████████████████████████████████| 7/7 [00:00<00:00, 505.57it/s]\n",
      "100%|███████████████████████████████████████████████████████████████████████████████████████████████████████████████████| 5/5 [00:00<00:00, 98.55it/s]\n",
      "100%|██████████████████████████████████████████████████████████████████████████████████████████████████████████████████| 2/2 [00:00<00:00, 148.25it/s]\n",
      "100%|██████████████████████████████████████████████████████████████████████████████████████████████████████████████████| 2/2 [00:00<00:00, 161.03it/s]\n"
     ]
    },
    {
     "name": "stdout",
     "output_type": "stream",
     "text": [
      "Epoch 30/500 Train Total Loss: 0.03202 Train Src Loss: 0.00707 Train Tgt Loss: 0.02495 \n",
      "                 Val Total Loss: 0.26398 Val Src Loss: 0.24456 Val Tgt Loss: 0.01942\n"
     ]
    },
    {
     "name": "stderr",
     "output_type": "stream",
     "text": [
      "100%|██████████████████████████████████████████████████████████████████████████████████████████████████████████████████| 7/7 [00:00<00:00, 148.08it/s]\n",
      "100%|██████████████████████████████████████████████████████████████████████████████████████████████████████████████████| 5/5 [00:00<00:00, 169.31it/s]\n",
      "100%|██████████████████████████████████████████████████████████████████████████████████████████████████████████████████| 2/2 [00:00<00:00, 196.87it/s]\n",
      "100%|██████████████████████████████████████████████████████████████████████████████████████████████████████████████████| 2/2 [00:00<00:00, 208.10it/s]\n"
     ]
    },
    {
     "name": "stdout",
     "output_type": "stream",
     "text": [
      "Epoch 31/500 Train Total Loss: 0.03251 Train Src Loss: 0.00859 Train Tgt Loss: 0.02392 \n",
      "                 Val Total Loss: 0.25869 Val Src Loss: 0.24035 Val Tgt Loss: 0.01834\n"
     ]
    },
    {
     "name": "stderr",
     "output_type": "stream",
     "text": [
      "100%|██████████████████████████████████████████████████████████████████████████████████████████████████████████████████| 7/7 [00:00<00:00, 222.80it/s]\n",
      "100%|██████████████████████████████████████████████████████████████████████████████████████████████████████████████████| 5/5 [00:00<00:00, 257.61it/s]\n",
      "100%|██████████████████████████████████████████████████████████████████████████████████████████████████████████████████| 2/2 [00:00<00:00, 389.46it/s]\n",
      "100%|██████████████████████████████████████████████████████████████████████████████████████████████████████████████████| 2/2 [00:00<00:00, 431.73it/s]\n"
     ]
    },
    {
     "name": "stdout",
     "output_type": "stream",
     "text": [
      "Epoch 32/500 Train Total Loss: 0.03299 Train Src Loss: 0.00752 Train Tgt Loss: 0.02547 \n",
      "                 Val Total Loss: 0.24724 Val Src Loss: 0.22751 Val Tgt Loss: 0.01973\n"
     ]
    },
    {
     "name": "stderr",
     "output_type": "stream",
     "text": [
      "100%|██████████████████████████████████████████████████████████████████████████████████████████████████████████████████| 7/7 [00:00<00:00, 549.63it/s]\n",
      "100%|██████████████████████████████████████████████████████████████████████████████████████████████████████████████████| 5/5 [00:00<00:00, 439.84it/s]\n",
      "100%|██████████████████████████████████████████████████████████████████████████████████████████████████████████████████| 2/2 [00:00<00:00, 369.66it/s]\n",
      "100%|██████████████████████████████████████████████████████████████████████████████████████████████████████████████████| 2/2 [00:00<00:00, 467.70it/s]\n"
     ]
    },
    {
     "name": "stdout",
     "output_type": "stream",
     "text": [
      "Epoch 33/500 Train Total Loss: 0.03433 Train Src Loss: 0.00701 Train Tgt Loss: 0.02732 \n",
      "                 Val Total Loss: 0.2612 Val Src Loss: 0.24473 Val Tgt Loss: 0.01646\n"
     ]
    },
    {
     "name": "stderr",
     "output_type": "stream",
     "text": [
      "100%|██████████████████████████████████████████████████████████████████████████████████████████████████████████████████| 7/7 [00:00<00:00, 554.76it/s]\n",
      "100%|██████████████████████████████████████████████████████████████████████████████████████████████████████████████████| 5/5 [00:00<00:00, 427.16it/s]\n",
      "100%|██████████████████████████████████████████████████████████████████████████████████████████████████████████████████| 2/2 [00:00<00:00, 144.41it/s]\n",
      "100%|███████████████████████████████████████████████████████████████████████████████████████████████████████████████████| 2/2 [00:00<00:00, 88.88it/s]"
     ]
    },
    {
     "name": "stdout",
     "output_type": "stream",
     "text": [
      "Epoch 34/500 Train Total Loss: 0.03088 Train Src Loss: 0.00792 Train Tgt Loss: 0.02295 \n",
      "                 Val Total Loss: 0.24908 Val Src Loss: 0.23394 Val Tgt Loss: 0.01514\n"
     ]
    },
    {
     "name": "stderr",
     "output_type": "stream",
     "text": [
      "\n"
     ]
    }
   ],
   "source": [
    "encoder_34_39, mlp_34_39, best_val_loss, best_val_src_loss, best_val_tgt_loss = continual_adapt([32,37,39], train_loader, val_loader, encoder_29_34, mlp_29_34, device, lambda_coeff=lambda_coeff, lr=lr)"
   ]
  },
  {
   "cell_type": "code",
   "execution_count": 44,
   "id": "443516ba",
   "metadata": {
    "scrolled": false
   },
   "outputs": [
    {
     "name": "stdout",
     "output_type": "stream",
     "text": [
      "Total Val Loss: 0.239, Val Src Loss: 0.224, Val Tgt Loss: 0.015\n"
     ]
    }
   ],
   "source": [
    "print(f'Total Val Loss: {round(best_val_loss, 3)}, Val Src Loss: {round(best_val_src_loss, 3)}, Val Tgt Loss: {round(best_val_tgt_loss, 3)}')"
   ]
  },
  {
   "cell_type": "markdown",
   "id": "a2cdc8a9",
   "metadata": {},
   "source": [
    "### 39-43 ###"
   ]
  },
  {
   "cell_type": "code",
   "execution_count": 45,
   "id": "31c5db56",
   "metadata": {},
   "outputs": [],
   "source": [
    "test_data = [get_data(data_dir, \"elliptic\", i) for i in range(39,44)]\n",
    "test_loader = DataLoader(dataset=test_data, batch_size=1, shuffle=False)"
   ]
  },
  {
   "cell_type": "code",
   "execution_count": 46,
   "id": "d838a3d9",
   "metadata": {
    "scrolled": true
   },
   "outputs": [
    {
     "name": "stdout",
     "output_type": "stream",
     "text": [
      "Test Loss: 9.3898, Test F1: 0.1497\n"
     ]
    }
   ],
   "source": [
    "test_loss, test_f1 = test(encoder_34_39, mlp_34_39, test_loader, loss_fn, device)\n",
    "f1_list.append(test_f1)\n",
    "print(f\"Test Loss: {round(test_loss,4)}, Test F1: {round(test_f1,4)}\")"
   ]
  },
  {
   "cell_type": "code",
   "execution_count": 47,
   "id": "d0903e1b",
   "metadata": {
    "scrolled": true
   },
   "outputs": [
    {
     "name": "stderr",
     "output_type": "stream",
     "text": [
      "100%|██████████████████████████████████████████████████████████████████████████████████████████████████████████████████| 7/7 [00:00<00:00, 142.66it/s]\n",
      "100%|██████████████████████████████████████████████████████████████████████████████████████████████████████████████████| 5/5 [00:00<00:00, 183.76it/s]\n",
      "100%|██████████████████████████████████████████████████████████████████████████████████████████████████████████████████| 2/2 [00:00<00:00, 229.63it/s]\n",
      "100%|██████████████████████████████████████████████████████████████████████████████████████████████████████████████████| 2/2 [00:00<00:00, 220.95it/s]\n"
     ]
    },
    {
     "name": "stdout",
     "output_type": "stream",
     "text": [
      "Epoch 1/500 Train Total Loss: 0.03118 Train Src Loss: 0.00757 Train Tgt Loss: 0.02361 \n",
      "                 Val Total Loss: 0.26311 Val Src Loss: 0.2381 Val Tgt Loss: 0.02501\n"
     ]
    },
    {
     "name": "stderr",
     "output_type": "stream",
     "text": [
      "100%|██████████████████████████████████████████████████████████████████████████████████████████████████████████████████| 7/7 [00:00<00:00, 235.47it/s]\n",
      "100%|██████████████████████████████████████████████████████████████████████████████████████████████████████████████████| 5/5 [00:00<00:00, 373.99it/s]\n",
      "100%|██████████████████████████████████████████████████████████████████████████████████████████████████████████████████| 2/2 [00:00<00:00, 527.19it/s]\n",
      "100%|██████████████████████████████████████████████████████████████████████████████████████████████████████████████████| 2/2 [00:00<00:00, 403.28it/s]\n"
     ]
    },
    {
     "name": "stdout",
     "output_type": "stream",
     "text": [
      "Epoch 2/500 Train Total Loss: 0.02608 Train Src Loss: 0.00667 Train Tgt Loss: 0.01941 \n",
      "                 Val Total Loss: 0.25209 Val Src Loss: 0.22937 Val Tgt Loss: 0.02272\n"
     ]
    },
    {
     "name": "stderr",
     "output_type": "stream",
     "text": [
      "100%|██████████████████████████████████████████████████████████████████████████████████████████████████████████████████| 7/7 [00:00<00:00, 418.06it/s]\n",
      "100%|██████████████████████████████████████████████████████████████████████████████████████████████████████████████████| 5/5 [00:00<00:00, 377.95it/s]\n",
      "100%|██████████████████████████████████████████████████████████████████████████████████████████████████████████████████| 2/2 [00:00<00:00, 446.92it/s]\n",
      "100%|██████████████████████████████████████████████████████████████████████████████████████████████████████████████████| 2/2 [00:00<00:00, 313.41it/s]\n"
     ]
    },
    {
     "name": "stdout",
     "output_type": "stream",
     "text": [
      "Epoch 3/500 Train Total Loss: 0.03068 Train Src Loss: 0.00807 Train Tgt Loss: 0.02262 \n",
      "                 Val Total Loss: 0.26568 Val Src Loss: 0.24706 Val Tgt Loss: 0.01862\n"
     ]
    },
    {
     "name": "stderr",
     "output_type": "stream",
     "text": [
      "100%|██████████████████████████████████████████████████████████████████████████████████████████████████████████████████| 7/7 [00:00<00:00, 536.36it/s]\n",
      "100%|██████████████████████████████████████████████████████████████████████████████████████████████████████████████████| 5/5 [00:00<00:00, 147.85it/s]\n",
      "100%|██████████████████████████████████████████████████████████████████████████████████████████████████████████████████| 2/2 [00:00<00:00, 156.66it/s]\n",
      "100%|███████████████████████████████████████████████████████████████████████████████████████████████████████████████████| 2/2 [00:00<00:00, 89.15it/s]\n"
     ]
    },
    {
     "name": "stdout",
     "output_type": "stream",
     "text": [
      "Epoch 4/500 Train Total Loss: 0.02927 Train Src Loss: 0.00654 Train Tgt Loss: 0.02272 \n",
      "                 Val Total Loss: 0.25826 Val Src Loss: 0.23907 Val Tgt Loss: 0.0192\n"
     ]
    },
    {
     "name": "stderr",
     "output_type": "stream",
     "text": [
      "100%|██████████████████████████████████████████████████████████████████████████████████████████████████████████████████| 7/7 [00:00<00:00, 153.65it/s]\n",
      "100%|██████████████████████████████████████████████████████████████████████████████████████████████████████████████████| 5/5 [00:00<00:00, 137.65it/s]\n",
      "100%|██████████████████████████████████████████████████████████████████████████████████████████████████████████████████| 2/2 [00:00<00:00, 171.89it/s]\n",
      "100%|██████████████████████████████████████████████████████████████████████████████████████████████████████████████████| 2/2 [00:00<00:00, 215.51it/s]\n"
     ]
    },
    {
     "name": "stdout",
     "output_type": "stream",
     "text": [
      "Epoch 5/500 Train Total Loss: 0.02807 Train Src Loss: 0.00753 Train Tgt Loss: 0.02054 \n",
      "                 Val Total Loss: 0.26736 Val Src Loss: 0.24534 Val Tgt Loss: 0.02202\n"
     ]
    },
    {
     "name": "stderr",
     "output_type": "stream",
     "text": [
      "100%|██████████████████████████████████████████████████████████████████████████████████████████████████████████████████| 7/7 [00:00<00:00, 211.13it/s]\n",
      "100%|██████████████████████████████████████████████████████████████████████████████████████████████████████████████████| 5/5 [00:00<00:00, 207.77it/s]\n",
      "100%|██████████████████████████████████████████████████████████████████████████████████████████████████████████████████| 2/2 [00:00<00:00, 364.61it/s]\n",
      "100%|██████████████████████████████████████████████████████████████████████████████████████████████████████████████████| 2/2 [00:00<00:00, 265.55it/s]\n"
     ]
    },
    {
     "name": "stdout",
     "output_type": "stream",
     "text": [
      "Epoch 6/500 Train Total Loss: 0.02745 Train Src Loss: 0.00748 Train Tgt Loss: 0.01998 \n",
      "                 Val Total Loss: 0.26922 Val Src Loss: 0.24636 Val Tgt Loss: 0.02286\n"
     ]
    },
    {
     "name": "stderr",
     "output_type": "stream",
     "text": [
      "100%|██████████████████████████████████████████████████████████████████████████████████████████████████████████████████| 7/7 [00:00<00:00, 366.81it/s]\n",
      "100%|██████████████████████████████████████████████████████████████████████████████████████████████████████████████████| 5/5 [00:00<00:00, 271.66it/s]\n",
      "100%|██████████████████████████████████████████████████████████████████████████████████████████████████████████████████| 2/2 [00:00<00:00, 370.29it/s]\n",
      "100%|██████████████████████████████████████████████████████████████████████████████████████████████████████████████████| 2/2 [00:00<00:00, 270.42it/s]\n"
     ]
    },
    {
     "name": "stdout",
     "output_type": "stream",
     "text": [
      "Epoch 7/500 Train Total Loss: 0.0275 Train Src Loss: 0.00801 Train Tgt Loss: 0.01949 \n",
      "                 Val Total Loss: 0.2664 Val Src Loss: 0.24628 Val Tgt Loss: 0.02011\n"
     ]
    },
    {
     "name": "stderr",
     "output_type": "stream",
     "text": [
      "100%|██████████████████████████████████████████████████████████████████████████████████████████████████████████████████| 7/7 [00:00<00:00, 364.71it/s]\n",
      "100%|██████████████████████████████████████████████████████████████████████████████████████████████████████████████████| 5/5 [00:00<00:00, 271.67it/s]\n",
      "100%|██████████████████████████████████████████████████████████████████████████████████████████████████████████████████| 2/2 [00:00<00:00, 301.80it/s]\n",
      "100%|██████████████████████████████████████████████████████████████████████████████████████████████████████████████████| 2/2 [00:00<00:00, 132.06it/s]\n"
     ]
    },
    {
     "name": "stdout",
     "output_type": "stream",
     "text": [
      "Epoch 8/500 Train Total Loss: 0.02708 Train Src Loss: 0.00709 Train Tgt Loss: 0.01999 \n",
      "                 Val Total Loss: 0.23961 Val Src Loss: 0.21894 Val Tgt Loss: 0.02067\n"
     ]
    },
    {
     "name": "stderr",
     "output_type": "stream",
     "text": [
      "100%|██████████████████████████████████████████████████████████████████████████████████████████████████████████████████| 7/7 [00:00<00:00, 121.74it/s]\n",
      "100%|██████████████████████████████████████████████████████████████████████████████████████████████████████████████████| 5/5 [00:00<00:00, 175.37it/s]\n",
      "100%|██████████████████████████████████████████████████████████████████████████████████████████████████████████████████| 2/2 [00:00<00:00, 148.53it/s]\n",
      "100%|██████████████████████████████████████████████████████████████████████████████████████████████████████████████████| 2/2 [00:00<00:00, 106.87it/s]\n"
     ]
    },
    {
     "name": "stdout",
     "output_type": "stream",
     "text": [
      "Epoch 9/500 Train Total Loss: 0.03039 Train Src Loss: 0.00772 Train Tgt Loss: 0.02267 \n",
      "                 Val Total Loss: 0.24812 Val Src Loss: 0.23035 Val Tgt Loss: 0.01776\n"
     ]
    },
    {
     "name": "stderr",
     "output_type": "stream",
     "text": [
      "100%|██████████████████████████████████████████████████████████████████████████████████████████████████████████████████| 7/7 [00:00<00:00, 182.80it/s]\n",
      "100%|██████████████████████████████████████████████████████████████████████████████████████████████████████████████████| 5/5 [00:00<00:00, 153.46it/s]\n",
      "100%|██████████████████████████████████████████████████████████████████████████████████████████████████████████████████| 2/2 [00:00<00:00, 187.14it/s]\n",
      "100%|██████████████████████████████████████████████████████████████████████████████████████████████████████████████████| 2/2 [00:00<00:00, 155.31it/s]\n"
     ]
    },
    {
     "name": "stdout",
     "output_type": "stream",
     "text": [
      "Epoch 10/500 Train Total Loss: 0.02348 Train Src Loss: 0.00656 Train Tgt Loss: 0.01691 \n",
      "                 Val Total Loss: 0.25973 Val Src Loss: 0.24105 Val Tgt Loss: 0.01869\n"
     ]
    },
    {
     "name": "stderr",
     "output_type": "stream",
     "text": [
      "100%|██████████████████████████████████████████████████████████████████████████████████████████████████████████████████| 7/7 [00:00<00:00, 324.61it/s]\n",
      "100%|██████████████████████████████████████████████████████████████████████████████████████████████████████████████████| 5/5 [00:00<00:00, 405.81it/s]\n",
      "100%|██████████████████████████████████████████████████████████████████████████████████████████████████████████████████| 2/2 [00:00<00:00, 553.78it/s]\n",
      "100%|██████████████████████████████████████████████████████████████████████████████████████████████████████████████████| 2/2 [00:00<00:00, 261.80it/s]\n"
     ]
    },
    {
     "name": "stdout",
     "output_type": "stream",
     "text": [
      "Epoch 11/500 Train Total Loss: 0.02781 Train Src Loss: 0.00692 Train Tgt Loss: 0.02089 \n",
      "                 Val Total Loss: 0.27082 Val Src Loss: 0.25064 Val Tgt Loss: 0.02018\n"
     ]
    },
    {
     "name": "stderr",
     "output_type": "stream",
     "text": [
      "100%|██████████████████████████████████████████████████████████████████████████████████████████████████████████████████| 7/7 [00:00<00:00, 521.46it/s]\n",
      "100%|██████████████████████████████████████████████████████████████████████████████████████████████████████████████████| 5/5 [00:00<00:00, 404.75it/s]\n",
      "100%|██████████████████████████████████████████████████████████████████████████████████████████████████████████████████| 2/2 [00:00<00:00, 361.44it/s]\n",
      "100%|██████████████████████████████████████████████████████████████████████████████████████████████████████████████████| 2/2 [00:00<00:00, 248.65it/s]\n"
     ]
    },
    {
     "name": "stdout",
     "output_type": "stream",
     "text": [
      "Epoch 12/500 Train Total Loss: 0.02591 Train Src Loss: 0.00796 Train Tgt Loss: 0.01795 \n",
      "                 Val Total Loss: 0.24999 Val Src Loss: 0.23238 Val Tgt Loss: 0.01761\n"
     ]
    },
    {
     "name": "stderr",
     "output_type": "stream",
     "text": [
      "100%|██████████████████████████████████████████████████████████████████████████████████████████████████████████████████| 7/7 [00:00<00:00, 462.27it/s]\n",
      "100%|███████████████████████████████████████████████████████████████████████████████████████████████████████████████████| 5/5 [00:00<00:00, 78.92it/s]\n",
      "100%|██████████████████████████████████████████████████████████████████████████████████████████████████████████████████| 2/2 [00:00<00:00, 184.53it/s]\n",
      "100%|██████████████████████████████████████████████████████████████████████████████████████████████████████████████████| 2/2 [00:00<00:00, 136.25it/s]\n"
     ]
    },
    {
     "name": "stdout",
     "output_type": "stream",
     "text": [
      "Epoch 13/500 Train Total Loss: 0.0277 Train Src Loss: 0.00814 Train Tgt Loss: 0.01956 \n",
      "                 Val Total Loss: 0.26611 Val Src Loss: 0.24498 Val Tgt Loss: 0.02113\n"
     ]
    },
    {
     "name": "stderr",
     "output_type": "stream",
     "text": [
      "100%|██████████████████████████████████████████████████████████████████████████████████████████████████████████████████| 7/7 [00:00<00:00, 154.66it/s]\n",
      "100%|██████████████████████████████████████████████████████████████████████████████████████████████████████████████████| 5/5 [00:00<00:00, 192.21it/s]\n",
      "100%|██████████████████████████████████████████████████████████████████████████████████████████████████████████████████| 2/2 [00:00<00:00, 225.91it/s]\n",
      "100%|██████████████████████████████████████████████████████████████████████████████████████████████████████████████████| 2/2 [00:00<00:00, 200.16it/s]\n"
     ]
    },
    {
     "name": "stdout",
     "output_type": "stream",
     "text": [
      "Epoch 14/500 Train Total Loss: 0.02393 Train Src Loss: 0.00612 Train Tgt Loss: 0.0178 \n",
      "                 Val Total Loss: 0.27135 Val Src Loss: 0.24908 Val Tgt Loss: 0.02227\n"
     ]
    },
    {
     "name": "stderr",
     "output_type": "stream",
     "text": [
      "100%|██████████████████████████████████████████████████████████████████████████████████████████████████████████████████| 7/7 [00:00<00:00, 192.27it/s]\n",
      "100%|██████████████████████████████████████████████████████████████████████████████████████████████████████████████████| 5/5 [00:00<00:00, 374.05it/s]\n",
      "100%|██████████████████████████████████████████████████████████████████████████████████████████████████████████████████| 2/2 [00:00<00:00, 513.25it/s]\n",
      "100%|██████████████████████████████████████████████████████████████████████████████████████████████████████████████████| 2/2 [00:00<00:00, 372.23it/s]\n"
     ]
    },
    {
     "name": "stdout",
     "output_type": "stream",
     "text": [
      "Epoch 15/500 Train Total Loss: 0.02433 Train Src Loss: 0.00647 Train Tgt Loss: 0.01787 \n",
      "                 Val Total Loss: 0.24212 Val Src Loss: 0.22605 Val Tgt Loss: 0.01607\n"
     ]
    },
    {
     "name": "stderr",
     "output_type": "stream",
     "text": [
      "100%|██████████████████████████████████████████████████████████████████████████████████████████████████████████████████| 7/7 [00:00<00:00, 504.89it/s]\n",
      "100%|██████████████████████████████████████████████████████████████████████████████████████████████████████████████████| 5/5 [00:00<00:00, 394.14it/s]\n",
      "100%|██████████████████████████████████████████████████████████████████████████████████████████████████████████████████| 2/2 [00:00<00:00, 381.23it/s]\n",
      "100%|██████████████████████████████████████████████████████████████████████████████████████████████████████████████████| 2/2 [00:00<00:00, 382.38it/s]\n"
     ]
    },
    {
     "name": "stdout",
     "output_type": "stream",
     "text": [
      "Epoch 16/500 Train Total Loss: 0.02887 Train Src Loss: 0.00841 Train Tgt Loss: 0.02045 \n",
      "                 Val Total Loss: 0.24805 Val Src Loss: 0.22906 Val Tgt Loss: 0.01899\n"
     ]
    },
    {
     "name": "stderr",
     "output_type": "stream",
     "text": [
      "100%|██████████████████████████████████████████████████████████████████████████████████████████████████████████████████| 7/7 [00:00<00:00, 529.12it/s]\n",
      "100%|██████████████████████████████████████████████████████████████████████████████████████████████████████████████████| 5/5 [00:00<00:00, 113.61it/s]\n",
      "100%|██████████████████████████████████████████████████████████████████████████████████████████████████████████████████| 2/2 [00:00<00:00, 181.54it/s]\n",
      "100%|██████████████████████████████████████████████████████████████████████████████████████████████████████████████████| 2/2 [00:00<00:00, 167.18it/s]\n"
     ]
    },
    {
     "name": "stdout",
     "output_type": "stream",
     "text": [
      "Epoch 17/500 Train Total Loss: 0.02761 Train Src Loss: 0.00806 Train Tgt Loss: 0.01956 \n",
      "                 Val Total Loss: 0.25445 Val Src Loss: 0.23707 Val Tgt Loss: 0.01738\n"
     ]
    },
    {
     "name": "stderr",
     "output_type": "stream",
     "text": [
      "100%|██████████████████████████████████████████████████████████████████████████████████████████████████████████████████| 7/7 [00:00<00:00, 162.15it/s]\n",
      "100%|██████████████████████████████████████████████████████████████████████████████████████████████████████████████████| 5/5 [00:00<00:00, 137.11it/s]\n",
      "100%|██████████████████████████████████████████████████████████████████████████████████████████████████████████████████| 2/2 [00:00<00:00, 162.03it/s]\n",
      "100%|██████████████████████████████████████████████████████████████████████████████████████████████████████████████████| 2/2 [00:00<00:00, 189.96it/s]\n"
     ]
    },
    {
     "name": "stdout",
     "output_type": "stream",
     "text": [
      "Epoch 18/500 Train Total Loss: 0.02552 Train Src Loss: 0.00789 Train Tgt Loss: 0.01764 \n",
      "                 Val Total Loss: 0.25111 Val Src Loss: 0.23094 Val Tgt Loss: 0.02017\n"
     ]
    },
    {
     "name": "stderr",
     "output_type": "stream",
     "text": [
      "100%|██████████████████████████████████████████████████████████████████████████████████████████████████████████████████| 7/7 [00:00<00:00, 237.99it/s]\n",
      "100%|██████████████████████████████████████████████████████████████████████████████████████████████████████████████████| 5/5 [00:00<00:00, 194.05it/s]\n",
      "100%|██████████████████████████████████████████████████████████████████████████████████████████████████████████████████| 2/2 [00:00<00:00, 566.57it/s]\n",
      "100%|██████████████████████████████████████████████████████████████████████████████████████████████████████████████████| 2/2 [00:00<00:00, 416.00it/s]"
     ]
    },
    {
     "name": "stdout",
     "output_type": "stream",
     "text": [
      "Epoch 19/500 Train Total Loss: 0.0253 Train Src Loss: 0.0074 Train Tgt Loss: 0.01791 \n",
      "                 Val Total Loss: 0.26907 Val Src Loss: 0.24997 Val Tgt Loss: 0.0191\n"
     ]
    },
    {
     "name": "stderr",
     "output_type": "stream",
     "text": [
      "\n"
     ]
    }
   ],
   "source": [
    "encoder_39_44, mlp_39_44, best_val_loss, best_val_src_loss, best_val_tgt_loss = continual_adapt([37,42,44], train_loader, val_loader, encoder_34_39, mlp_34_39, device, lambda_coeff=lambda_coeff, lr=lr)"
   ]
  },
  {
   "cell_type": "code",
   "execution_count": 48,
   "id": "cc790160",
   "metadata": {
    "scrolled": false
   },
   "outputs": [
    {
     "name": "stdout",
     "output_type": "stream",
     "text": [
      "Total Val Loss: 0.24, Val Src Loss: 0.219, Val Tgt Loss: 0.021\n"
     ]
    }
   ],
   "source": [
    "print(f'Total Val Loss: {round(best_val_loss, 3)}, Val Src Loss: {round(best_val_src_loss, 3)}, Val Tgt Loss: {round(best_val_tgt_loss, 3)}')"
   ]
  },
  {
   "cell_type": "markdown",
   "id": "6d27ea87",
   "metadata": {},
   "source": [
    "### 44-48 ###"
   ]
  },
  {
   "cell_type": "code",
   "execution_count": 49,
   "id": "42abac66",
   "metadata": {},
   "outputs": [],
   "source": [
    "test_data = [get_data(data_dir, \"elliptic\", i) for i in range(44,49)]\n",
    "test_loader = DataLoader(dataset=test_data, batch_size=1, shuffle=False)"
   ]
  },
  {
   "cell_type": "code",
   "execution_count": 50,
   "id": "94b732a4",
   "metadata": {
    "scrolled": true
   },
   "outputs": [
    {
     "name": "stdout",
     "output_type": "stream",
     "text": [
      "Test Loss: 6.2547, Test F1: 0.1576\n"
     ]
    }
   ],
   "source": [
    "test_loss, test_f1 = test(encoder_39_44, mlp_39_44, test_loader, loss_fn, device)\n",
    "f1_list.append(test_f1)\n",
    "print(f\"Test Loss: {round(test_loss,4)}, Test F1: {round(test_f1,4)}\")"
   ]
  },
  {
   "cell_type": "code",
   "execution_count": null,
   "id": "c280f42f",
   "metadata": {},
   "outputs": [],
   "source": []
  },
  {
   "cell_type": "code",
   "execution_count": 51,
   "id": "1114b8f3",
   "metadata": {
    "scrolled": true
   },
   "outputs": [
    {
     "data": {
      "text/plain": [
       "0.4245600752170377"
      ]
     },
     "execution_count": 51,
     "metadata": {},
     "output_type": "execute_result"
    }
   ],
   "source": [
    "sum(f1_list) / len(f1_list)"
   ]
  },
  {
   "cell_type": "code",
   "execution_count": null,
   "id": "0468ab04",
   "metadata": {},
   "outputs": [],
   "source": []
  }
 ],
 "metadata": {
  "kernelspec": {
   "display_name": "Python 3 (ipykernel)",
   "language": "python",
   "name": "python3"
  },
  "language_info": {
   "codemirror_mode": {
    "name": "ipython",
    "version": 3
   },
   "file_extension": ".py",
   "mimetype": "text/x-python",
   "name": "python",
   "nbconvert_exporter": "python",
   "pygments_lexer": "ipython3",
   "version": "3.8.0"
  }
 },
 "nbformat": 4,
 "nbformat_minor": 5
}
