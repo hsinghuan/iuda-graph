{
 "cells": [
  {
   "cell_type": "code",
   "execution_count": 1,
   "id": "de8cb502",
   "metadata": {},
   "outputs": [],
   "source": [
    "import numpy as np\n",
    "from copy import deepcopy\n",
    "import random"
   ]
  },
  {
   "cell_type": "code",
   "execution_count": 2,
   "id": "e860f12d",
   "metadata": {},
   "outputs": [
    {
     "name": "stderr",
     "output_type": "stream",
     "text": [
      "/home/hhchung/dyngraph-uda/.venv/lib/python3.8/site-packages/tqdm/auto.py:22: TqdmWarning: IProgress not found. Please update jupyter and ipywidgets. See https://ipywidgets.readthedocs.io/en/stable/user_install.html\n",
      "  from .autonotebook import tqdm as notebook_tqdm\n"
     ]
    }
   ],
   "source": [
    "import torch\n",
    "import torch.nn as nn\n",
    "import torch.nn.functional as F\n",
    "from torch.utils.tensorboard import SummaryWriter\n",
    "from torch_geometric.nn import SAGEConv\n",
    "from torch_geometric.loader import DataLoader"
   ]
  },
  {
   "cell_type": "code",
   "execution_count": 3,
   "id": "e72e5903",
   "metadata": {},
   "outputs": [],
   "source": [
    "from sklearn.metrics import f1_score"
   ]
  },
  {
   "cell_type": "code",
   "execution_count": 4,
   "id": "e88b8f08",
   "metadata": {},
   "outputs": [],
   "source": [
    "from dataset import load_nc_dataset"
   ]
  },
  {
   "cell_type": "code",
   "execution_count": 5,
   "id": "61fe5e3d",
   "metadata": {},
   "outputs": [],
   "source": [
    "import matplotlib.pyplot as plt"
   ]
  },
  {
   "cell_type": "code",
   "execution_count": 6,
   "id": "ad8ffd29",
   "metadata": {},
   "outputs": [],
   "source": [
    "random_seed = 42\n",
    "torch.manual_seed(random_seed)\n",
    "torch.cuda.manual_seed(random_seed)\n",
    "torch.backends.cudnn.deterministic = True\n",
    "torch.backends.cudnn.benchmark = False\n",
    "np.random.seed(random_seed)\n",
    "random.seed(random_seed)"
   ]
  },
  {
   "cell_type": "markdown",
   "id": "2585e964",
   "metadata": {},
   "source": [
    "## Model Structure ##"
   ]
  },
  {
   "cell_type": "code",
   "execution_count": 7,
   "id": "aa5669cd",
   "metadata": {},
   "outputs": [],
   "source": [
    "class TwoLayerGraphSAGE(nn.Module):\n",
    "    def __init__(self, in_dim, hidden_dim, out_dim, dropout=0.2):\n",
    "        super().__init__()\n",
    "        self.dropout = dropout\n",
    "        self.conv1 = SAGEConv(in_dim, hidden_dim)\n",
    "        self.conv2 = SAGEConv(hidden_dim, out_dim)\n",
    "        \n",
    "    def forward(self, x, edge_index):\n",
    "        x = self.conv1(x, edge_index)\n",
    "        x = F.elu(x)\n",
    "        x = F.dropout(x, p=self.dropout)\n",
    "        \n",
    "        x = self.conv2(x, edge_index)\n",
    "        x = F.elu(x)\n",
    "        return x\n",
    "    \n",
    "class MLPHead(nn.Module):\n",
    "    def __init__(self, in_dim, hidden_dim, out_dim, dropout=0.2):\n",
    "        super().__init__()\n",
    "        self.dropout = dropout\n",
    "        self.linear1 = nn.Linear(in_dim, hidden_dim)\n",
    "        self.linear2 = nn.Linear(hidden_dim, out_dim)\n",
    "    \n",
    "    def forward(self, x):\n",
    "        x = self.linear1(x)\n",
    "        x = F.elu(x)\n",
    "        x = F.dropout(x, p=self.dropout)\n",
    "        x = self.linear2(x)\n",
    "        x = F.softmax(x, dim=1)\n",
    "        return x"
   ]
  },
  {
   "cell_type": "markdown",
   "id": "8f8a4884",
   "metadata": {},
   "source": [
    "## Data Preparation ##"
   ]
  },
  {
   "cell_type": "markdown",
   "id": "c3195bdf",
   "metadata": {},
   "source": [
    "* Train: 0-6\n",
    "* Val: 7, 8\n",
    "* Test: 9-13, 14-18, 19-23, 24-28, 29-33, 34-38, 39-43, 44-48"
   ]
  },
  {
   "cell_type": "code",
   "execution_count": 8,
   "id": "6d3f3d06",
   "metadata": {},
   "outputs": [],
   "source": [
    "def get_data(data_dir, dataset, sub_dataset=None):\n",
    "    if dataset == 'elliptic':\n",
    "        data = load_nc_dataset(data_dir, 'elliptic', sub_dataset)\n",
    "    else:\n",
    "        raise ValueError('Invalid dataname')\n",
    "    # if len(data.y.shape) == 1:\n",
    "    #     data.y = data.y.unsqueeze(1)\n",
    "    return data"
   ]
  },
  {
   "cell_type": "code",
   "execution_count": 9,
   "id": "1e2e981c",
   "metadata": {},
   "outputs": [],
   "source": [
    "data_dir = '/home/hhchung/data/graph-data/elliptic_bitcoin_dataset'"
   ]
  },
  {
   "cell_type": "markdown",
   "id": "75ca0a5c",
   "metadata": {},
   "source": [
    "## Train / Test Loop ##"
   ]
  },
  {
   "cell_type": "code",
   "execution_count": 10,
   "id": "b1a89c6f",
   "metadata": {},
   "outputs": [],
   "source": [
    "def train(encoder, mlp, optimizer, loader, loss_fn):\n",
    "    encoder.train()\n",
    "    mlp.train()\n",
    "    optimizer.zero_grad()\n",
    "    \n",
    "    total_train_loss = 0\n",
    "    for data in loader:\n",
    "        out = mlp(encoder(data.x, data.edge_index))\n",
    "        loss = loss_fn(out[data.mask], data.y[data.mask])\n",
    "        loss.backward()\n",
    "        optimizer.step()\n",
    "        total_train_loss += loss.item()\n",
    "    \n",
    "    total_train_loss /= len(loader)\n",
    "    return total_train_loss\n",
    "    \n",
    "@torch.no_grad()\n",
    "def test(encoder, mlp, loader, loss_fn):\n",
    "    encoder.eval()\n",
    "    mlp.eval()\n",
    "    total_val_loss = 0\n",
    "    total_f1 = 0\n",
    "    for data in loader:\n",
    "        out = mlp(encoder(data.x, data.edge_index))\n",
    "        loss = loss_fn(out[data.mask], data.y[data.mask])\n",
    "        y_pred = torch.argmax(out, dim=1)\n",
    "        f1 = f1_score(y_pred[data.mask].detach().cpu().numpy(), data.y[data.mask].detach().cpu().numpy())\n",
    "        total_val_loss += loss.item()\n",
    "        total_f1 += f1\n",
    "    total_val_loss /= len(loader)\n",
    "    total_f1 /= len(loader)\n",
    "    return total_val_loss, total_f1"
   ]
  },
  {
   "cell_type": "markdown",
   "id": "0598cced",
   "metadata": {},
   "source": [
    "## Initial Source Stage ##"
   ]
  },
  {
   "cell_type": "code",
   "execution_count": 11,
   "id": "d96f484e",
   "metadata": {},
   "outputs": [
    {
     "name": "stderr",
     "output_type": "stream",
     "text": [
      "/home/hhchung/dyngraph-uda/elliptic/dataset.py:75: UserWarning: Creating a tensor from a list of numpy.ndarrays is extremely slow. Please consider converting the list to a single numpy.ndarray with numpy.array() before converting to a tensor. (Triggered internally at  ../torch/csrc/utils/tensor_new.cpp:201.)\n",
      "  edge_index = torch.tensor(A.nonzero(), dtype=torch.long)\n"
     ]
    }
   ],
   "source": [
    "elliptic_0 = get_data(data_dir, 'elliptic', 0)\n",
    "feat_dim = elliptic_0.x.shape[1]\n",
    "hidden_dim = 128\n",
    "emb_dim = 128\n",
    "encoder = TwoLayerGraphSAGE(feat_dim, hidden_dim, emb_dim)\n",
    "mlp = MLPHead(emb_dim, emb_dim // 4, 2)\n",
    "\n",
    "loss_fn = nn.CrossEntropyLoss()\n",
    "optimizer = torch.optim.Adam(list(encoder.parameters()) + list(mlp.parameters()), lr=1e-3)\n",
    "epochs = 500"
   ]
  },
  {
   "cell_type": "code",
   "execution_count": 12,
   "id": "6c2f7706",
   "metadata": {
    "scrolled": true
   },
   "outputs": [],
   "source": [
    "split = [0,7,9]\n",
    "train_data = [get_data(data_dir, 'elliptic', i) for i in range(split[0],split[1])]\n",
    "val_data = [get_data(data_dir, 'elliptic', i) for i in range(split[1],split[2])]\n",
    "train_loader = DataLoader(dataset=train_data, batch_size=1, shuffle=True)\n",
    "val_loader = DataLoader(dataset=val_data, batch_size=1, shuffle=False)"
   ]
  },
  {
   "cell_type": "code",
   "execution_count": 13,
   "id": "f7671fb6",
   "metadata": {},
   "outputs": [
    {
     "name": "stdout",
     "output_type": "stream",
     "text": [
      "Epoch:1/500 Train Loss:0.5299 Val Loss:0.5552 Val F1:0.0\n",
      "Epoch:2/500 Train Loss:0.3753 Val Loss:0.511 Val F1:0.004\n",
      "Epoch:3/500 Train Loss:0.3427 Val Loss:0.5046 Val F1:0.004\n",
      "Epoch:4/500 Train Loss:0.3369 Val Loss:0.5053 Val F1:0.004\n",
      "Epoch:5/500 Train Loss:0.3359 Val Loss:0.5024 Val F1:0.0\n",
      "Epoch:6/500 Train Loss:0.3355 Val Loss:0.5022 Val F1:0.0\n",
      "Epoch:7/500 Train Loss:0.3354 Val Loss:0.5016 Val F1:0.004\n",
      "Epoch:8/500 Train Loss:0.3352 Val Loss:0.5018 Val F1:0.0\n",
      "Epoch:9/500 Train Loss:0.3352 Val Loss:0.5017 Val F1:0.004\n",
      "Epoch:10/500 Train Loss:0.3351 Val Loss:0.5015 Val F1:0.004\n",
      "Epoch:11/500 Train Loss:0.3352 Val Loss:0.5012 Val F1:0.004\n",
      "Epoch:12/500 Train Loss:0.335 Val Loss:0.501 Val F1:0.0187\n",
      "Epoch:13/500 Train Loss:0.335 Val Loss:0.5013 Val F1:0.004\n",
      "Epoch:14/500 Train Loss:0.3349 Val Loss:0.501 Val F1:0.004\n",
      "Epoch:15/500 Train Loss:0.3348 Val Loss:0.501 Val F1:0.004\n",
      "Epoch:16/500 Train Loss:0.3348 Val Loss:0.5012 Val F1:0.004\n",
      "Epoch:17/500 Train Loss:0.3348 Val Loss:0.5012 Val F1:0.004\n",
      "Epoch:18/500 Train Loss:0.3348 Val Loss:0.5011 Val F1:0.004\n",
      "Epoch:19/500 Train Loss:0.3348 Val Loss:0.5011 Val F1:0.004\n",
      "Epoch:20/500 Train Loss:0.3347 Val Loss:0.5009 Val F1:0.004\n",
      "Epoch:21/500 Train Loss:0.3347 Val Loss:0.501 Val F1:0.004\n",
      "Epoch:22/500 Train Loss:0.3347 Val Loss:0.5011 Val F1:0.004\n",
      "Epoch:23/500 Train Loss:0.3345 Val Loss:0.5005 Val F1:0.0187\n",
      "Epoch:24/500 Train Loss:0.3345 Val Loss:0.5 Val F1:0.0187\n",
      "Epoch:25/500 Train Loss:0.3344 Val Loss:0.5001 Val F1:0.0187\n",
      "Epoch:26/500 Train Loss:0.3342 Val Loss:0.4997 Val F1:0.0187\n",
      "Epoch:27/500 Train Loss:0.3341 Val Loss:0.499 Val F1:0.0227\n",
      "Epoch:28/500 Train Loss:0.3337 Val Loss:0.4976 Val F1:0.0587\n",
      "Epoch:29/500 Train Loss:0.3336 Val Loss:0.4977 Val F1:0.0657\n",
      "Epoch:30/500 Train Loss:0.3335 Val Loss:0.4977 Val F1:0.0613\n",
      "Epoch:31/500 Train Loss:0.3333 Val Loss:0.4971 Val F1:0.0601\n",
      "Epoch:32/500 Train Loss:0.3333 Val Loss:0.4969 Val F1:0.0633\n",
      "Epoch:33/500 Train Loss:0.3332 Val Loss:0.4945 Val F1:0.0986\n",
      "Epoch:34/500 Train Loss:0.3328 Val Loss:0.4916 Val F1:0.1262\n",
      "Epoch:35/500 Train Loss:0.3327 Val Loss:0.4904 Val F1:0.145\n",
      "Epoch:36/500 Train Loss:0.3326 Val Loss:0.4902 Val F1:0.141\n",
      "Epoch:37/500 Train Loss:0.3326 Val Loss:0.4892 Val F1:0.1515\n",
      "Epoch:38/500 Train Loss:0.3325 Val Loss:0.4871 Val F1:0.1652\n",
      "Epoch:39/500 Train Loss:0.3324 Val Loss:0.4805 Val F1:0.2245\n",
      "Epoch:40/500 Train Loss:0.3323 Val Loss:0.4757 Val F1:0.2559\n",
      "Epoch:41/500 Train Loss:0.3319 Val Loss:0.4675 Val F1:0.2884\n",
      "Epoch:42/500 Train Loss:0.3318 Val Loss:0.4619 Val F1:0.3452\n",
      "Epoch:43/500 Train Loss:0.3312 Val Loss:0.4504 Val F1:0.4239\n",
      "Epoch:44/500 Train Loss:0.3312 Val Loss:0.4487 Val F1:0.4404\n",
      "Epoch:45/500 Train Loss:0.3308 Val Loss:0.4518 Val F1:0.4108\n",
      "Epoch:46/500 Train Loss:0.3307 Val Loss:0.4474 Val F1:0.4208\n",
      "Epoch:47/500 Train Loss:0.3306 Val Loss:0.4369 Val F1:0.5184\n",
      "Epoch:48/500 Train Loss:0.3304 Val Loss:0.4359 Val F1:0.5087\n",
      "Epoch:49/500 Train Loss:0.3301 Val Loss:0.4384 Val F1:0.4747\n",
      "Epoch:50/500 Train Loss:0.3301 Val Loss:0.4263 Val F1:0.553\n",
      "Epoch:51/500 Train Loss:0.3318 Val Loss:0.4166 Val F1:0.6489\n",
      "Epoch:52/500 Train Loss:0.331 Val Loss:0.4348 Val F1:0.493\n",
      "Epoch:53/500 Train Loss:0.331 Val Loss:0.4653 Val F1:0.2664\n",
      "Epoch:54/500 Train Loss:0.3319 Val Loss:0.4528 Val F1:0.3462\n",
      "Epoch:55/500 Train Loss:0.3313 Val Loss:0.4363 Val F1:0.4677\n",
      "Epoch:56/500 Train Loss:0.3307 Val Loss:0.4291 Val F1:0.5372\n",
      "Epoch:57/500 Train Loss:0.3303 Val Loss:0.4234 Val F1:0.5853\n",
      "Epoch:58/500 Train Loss:0.329 Val Loss:0.4126 Val F1:0.6358\n",
      "Epoch:59/500 Train Loss:0.3286 Val Loss:0.4004 Val F1:0.6784\n",
      "Epoch:60/500 Train Loss:0.3282 Val Loss:0.4122 Val F1:0.6078\n",
      "Epoch:61/500 Train Loss:0.3314 Val Loss:0.4571 Val F1:0.3186\n",
      "Epoch:62/500 Train Loss:0.332 Val Loss:0.4549 Val F1:0.3445\n",
      "Epoch:63/500 Train Loss:0.3308 Val Loss:0.4387 Val F1:0.4673\n",
      "Epoch:64/500 Train Loss:0.33 Val Loss:0.4205 Val F1:0.5543\n",
      "Epoch:65/500 Train Loss:0.3272 Val Loss:0.4004 Val F1:0.6691\n",
      "Epoch:66/500 Train Loss:0.3283 Val Loss:0.3947 Val F1:0.6771\n",
      "Epoch:67/500 Train Loss:0.3281 Val Loss:0.4187 Val F1:0.5331\n",
      "Epoch:68/500 Train Loss:0.3289 Val Loss:0.4112 Val F1:0.5802\n",
      "Epoch:69/500 Train Loss:0.3274 Val Loss:0.3939 Val F1:0.7021\n",
      "Epoch:70/500 Train Loss:0.3308 Val Loss:0.3918 Val F1:0.6926\n",
      "Epoch:71/500 Train Loss:0.3249 Val Loss:0.405 Val F1:0.5935\n",
      "Epoch:72/500 Train Loss:0.3279 Val Loss:0.4023 Val F1:0.6184\n",
      "Epoch:73/500 Train Loss:0.326 Val Loss:0.3855 Val F1:0.7173\n",
      "Epoch:74/500 Train Loss:0.3272 Val Loss:0.3865 Val F1:0.7327\n",
      "Epoch:75/500 Train Loss:0.3249 Val Loss:0.3929 Val F1:0.6595\n",
      "Epoch:76/500 Train Loss:0.3246 Val Loss:0.4063 Val F1:0.5939\n",
      "Epoch:77/500 Train Loss:0.3254 Val Loss:0.3854 Val F1:0.7036\n",
      "Epoch:78/500 Train Loss:0.3252 Val Loss:0.376 Val F1:0.7752\n",
      "Epoch:79/500 Train Loss:0.3239 Val Loss:0.3755 Val F1:0.7467\n",
      "Epoch:80/500 Train Loss:0.3242 Val Loss:0.379 Val F1:0.6941\n",
      "Epoch:81/500 Train Loss:0.3237 Val Loss:0.372 Val F1:0.7299\n",
      "Epoch:82/500 Train Loss:0.3232 Val Loss:0.3688 Val F1:0.7387\n",
      "Epoch:83/500 Train Loss:0.3224 Val Loss:0.3684 Val F1:0.7658\n",
      "Epoch:84/500 Train Loss:0.3219 Val Loss:0.3718 Val F1:0.7475\n",
      "Epoch:85/500 Train Loss:0.3217 Val Loss:0.3824 Val F1:0.701\n",
      "Epoch:86/500 Train Loss:0.3218 Val Loss:0.3803 Val F1:0.716\n",
      "Epoch:87/500 Train Loss:0.3213 Val Loss:0.3765 Val F1:0.726\n",
      "Epoch:88/500 Train Loss:0.3212 Val Loss:0.3761 Val F1:0.7217\n",
      "Epoch:89/500 Train Loss:0.3211 Val Loss:0.3768 Val F1:0.7156\n",
      "Epoch:90/500 Train Loss:0.3212 Val Loss:0.3772 Val F1:0.712\n",
      "Epoch:91/500 Train Loss:0.3212 Val Loss:0.3735 Val F1:0.742\n",
      "Epoch:92/500 Train Loss:0.3209 Val Loss:0.3722 Val F1:0.7478\n",
      "Epoch:93/500 Train Loss:0.3209 Val Loss:0.3729 Val F1:0.7433\n",
      "Epoch:94/500 Train Loss:0.321 Val Loss:0.3763 Val F1:0.7288\n",
      "Epoch:95/500 Train Loss:0.3207 Val Loss:0.3744 Val F1:0.7384\n",
      "Epoch:96/500 Train Loss:0.3207 Val Loss:0.3771 Val F1:0.7188\n",
      "Epoch:97/500 Train Loss:0.3204 Val Loss:0.3742 Val F1:0.7465\n",
      "Epoch:98/500 Train Loss:0.3206 Val Loss:0.3739 Val F1:0.7505\n",
      "Epoch:99/500 Train Loss:0.3209 Val Loss:0.3757 Val F1:0.7366\n",
      "Epoch:100/500 Train Loss:0.3212 Val Loss:0.3729 Val F1:0.7374\n",
      "Epoch:101/500 Train Loss:0.3211 Val Loss:0.3749 Val F1:0.739\n",
      "Epoch:102/500 Train Loss:0.3212 Val Loss:0.3725 Val F1:0.7536\n",
      "Epoch:103/500 Train Loss:0.3212 Val Loss:0.3674 Val F1:0.7756\n",
      "Epoch:104/500 Train Loss:0.3209 Val Loss:0.3701 Val F1:0.7398\n",
      "Epoch:105/500 Train Loss:0.3213 Val Loss:0.3743 Val F1:0.7045\n",
      "Epoch:106/500 Train Loss:0.3213 Val Loss:0.3742 Val F1:0.6953\n",
      "Epoch:107/500 Train Loss:0.3213 Val Loss:0.3731 Val F1:0.7573\n",
      "Epoch:108/500 Train Loss:0.3218 Val Loss:0.3725 Val F1:0.7557\n",
      "Epoch:109/500 Train Loss:0.3206 Val Loss:0.3708 Val F1:0.7458\n",
      "Epoch:110/500 Train Loss:0.3207 Val Loss:0.3733 Val F1:0.7377\n",
      "Epoch:111/500 Train Loss:0.3203 Val Loss:0.3749 Val F1:0.7431\n",
      "Epoch:112/500 Train Loss:0.3202 Val Loss:0.3744 Val F1:0.7383\n",
      "Epoch:113/500 Train Loss:0.3208 Val Loss:0.3757 Val F1:0.72\n",
      "Epoch:114/500 Train Loss:0.3206 Val Loss:0.3742 Val F1:0.7359\n",
      "Epoch:115/500 Train Loss:0.3204 Val Loss:0.375 Val F1:0.7485\n",
      "Epoch:116/500 Train Loss:0.3205 Val Loss:0.3723 Val F1:0.7645\n",
      "Epoch:117/500 Train Loss:0.3199 Val Loss:0.3679 Val F1:0.7806\n",
      "Epoch:118/500 Train Loss:0.32 Val Loss:0.3676 Val F1:0.7719\n",
      "Epoch:119/500 Train Loss:0.3201 Val Loss:0.3721 Val F1:0.754\n",
      "Epoch:120/500 Train Loss:0.3205 Val Loss:0.3741 Val F1:0.743\n",
      "Epoch:121/500 Train Loss:0.3203 Val Loss:0.3746 Val F1:0.7185\n",
      "Epoch:122/500 Train Loss:0.3207 Val Loss:0.3786 Val F1:0.6927\n",
      "Epoch:123/500 Train Loss:0.3203 Val Loss:0.3718 Val F1:0.7385\n",
      "Epoch:124/500 Train Loss:0.3203 Val Loss:0.3723 Val F1:0.7696\n",
      "Epoch:125/500 Train Loss:0.3202 Val Loss:0.3767 Val F1:0.7475\n",
      "Epoch:126/500 Train Loss:0.32 Val Loss:0.3753 Val F1:0.7143\n",
      "Epoch:127/500 Train Loss:0.3201 Val Loss:0.3747 Val F1:0.7309\n",
      "Epoch:128/500 Train Loss:0.32 Val Loss:0.3729 Val F1:0.7457\n",
      "Epoch:129/500 Train Loss:0.32 Val Loss:0.3713 Val F1:0.7613\n",
      "Epoch:130/500 Train Loss:0.32 Val Loss:0.3729 Val F1:0.7312\n",
      "Epoch:131/500 Train Loss:0.3199 Val Loss:0.3708 Val F1:0.7666\n",
      "Epoch:132/500 Train Loss:0.3199 Val Loss:0.3737 Val F1:0.7429\n",
      "Epoch:133/500 Train Loss:0.3201 Val Loss:0.3728 Val F1:0.7619\n",
      "Epoch:134/500 Train Loss:0.3198 Val Loss:0.3703 Val F1:0.7717\n",
      "Epoch:135/500 Train Loss:0.3197 Val Loss:0.37 Val F1:0.7509\n",
      "Epoch:136/500 Train Loss:0.3198 Val Loss:0.3697 Val F1:0.7519\n"
     ]
    },
    {
     "name": "stdout",
     "output_type": "stream",
     "text": [
      "Epoch:137/500 Train Loss:0.3198 Val Loss:0.3701 Val F1:0.7353\n",
      "Epoch:138/500 Train Loss:0.3198 Val Loss:0.3721 Val F1:0.7335\n",
      "Epoch:139/500 Train Loss:0.3198 Val Loss:0.3688 Val F1:0.7649\n",
      "Epoch:140/500 Train Loss:0.3197 Val Loss:0.3674 Val F1:0.7825\n",
      "Epoch:141/500 Train Loss:0.3197 Val Loss:0.3691 Val F1:0.7462\n",
      "Epoch:142/500 Train Loss:0.3198 Val Loss:0.3735 Val F1:0.7499\n",
      "Epoch:143/500 Train Loss:0.3198 Val Loss:0.3679 Val F1:0.7722\n",
      "Epoch:144/500 Train Loss:0.3199 Val Loss:0.3708 Val F1:0.7577\n",
      "Epoch:145/500 Train Loss:0.3198 Val Loss:0.3735 Val F1:0.7402\n",
      "Epoch:146/500 Train Loss:0.3196 Val Loss:0.3729 Val F1:0.7446\n",
      "Epoch:147/500 Train Loss:0.3196 Val Loss:0.3744 Val F1:0.7371\n",
      "Epoch:148/500 Train Loss:0.3197 Val Loss:0.3729 Val F1:0.7347\n",
      "Epoch:149/500 Train Loss:0.3199 Val Loss:0.3725 Val F1:0.7509\n",
      "Epoch:150/500 Train Loss:0.3196 Val Loss:0.3718 Val F1:0.7481\n",
      "Epoch:151/500 Train Loss:0.3198 Val Loss:0.3693 Val F1:0.7765\n",
      "Epoch:152/500 Train Loss:0.3196 Val Loss:0.371 Val F1:0.7572\n",
      "Epoch:153/500 Train Loss:0.3196 Val Loss:0.3728 Val F1:0.7668\n",
      "Epoch:154/500 Train Loss:0.3196 Val Loss:0.3722 Val F1:0.7654\n",
      "Epoch:155/500 Train Loss:0.3196 Val Loss:0.3737 Val F1:0.7309\n",
      "Epoch:156/500 Train Loss:0.3197 Val Loss:0.373 Val F1:0.7374\n",
      "Epoch:157/500 Train Loss:0.3197 Val Loss:0.3698 Val F1:0.7669\n",
      "Epoch:158/500 Train Loss:0.3196 Val Loss:0.3675 Val F1:0.7854\n",
      "Epoch:159/500 Train Loss:0.3197 Val Loss:0.3706 Val F1:0.7511\n",
      "Epoch:160/500 Train Loss:0.3197 Val Loss:0.3705 Val F1:0.7417\n",
      "Epoch:161/500 Train Loss:0.3197 Val Loss:0.3705 Val F1:0.7722\n",
      "Epoch:162/500 Train Loss:0.3199 Val Loss:0.3703 Val F1:0.7761\n",
      "Epoch:163/500 Train Loss:0.3197 Val Loss:0.3716 Val F1:0.7616\n",
      "Epoch:164/500 Train Loss:0.3198 Val Loss:0.3724 Val F1:0.7476\n",
      "Epoch:165/500 Train Loss:0.3206 Val Loss:0.3766 Val F1:0.7489\n",
      "Epoch:166/500 Train Loss:0.3207 Val Loss:0.3695 Val F1:0.7755\n",
      "Epoch:167/500 Train Loss:0.3199 Val Loss:0.3683 Val F1:0.7689\n",
      "Epoch:168/500 Train Loss:0.3198 Val Loss:0.3698 Val F1:0.7613\n",
      "Epoch:169/500 Train Loss:0.32 Val Loss:0.3656 Val F1:0.7853\n",
      "Epoch:170/500 Train Loss:0.3208 Val Loss:0.3669 Val F1:0.7902\n",
      "Epoch:171/500 Train Loss:0.32 Val Loss:0.371 Val F1:0.7386\n",
      "Epoch:172/500 Train Loss:0.3214 Val Loss:0.3826 Val F1:0.7161\n",
      "Epoch:173/500 Train Loss:0.3205 Val Loss:0.3699 Val F1:0.7936\n",
      "Epoch:174/500 Train Loss:0.3228 Val Loss:0.3728 Val F1:0.7922\n",
      "Epoch:175/500 Train Loss:0.3204 Val Loss:0.3766 Val F1:0.7274\n",
      "Epoch:176/500 Train Loss:0.3212 Val Loss:0.3789 Val F1:0.7083\n",
      "Epoch:177/500 Train Loss:0.3203 Val Loss:0.3755 Val F1:0.7315\n",
      "Epoch:178/500 Train Loss:0.3202 Val Loss:0.3765 Val F1:0.7483\n",
      "Epoch:179/500 Train Loss:0.3201 Val Loss:0.37 Val F1:0.7837\n",
      "Epoch:180/500 Train Loss:0.3201 Val Loss:0.3762 Val F1:0.7364\n",
      "Epoch:181/500 Train Loss:0.3208 Val Loss:0.3761 Val F1:0.7326\n",
      "Epoch:182/500 Train Loss:0.3203 Val Loss:0.3756 Val F1:0.7632\n",
      "Epoch:183/500 Train Loss:0.3207 Val Loss:0.3743 Val F1:0.7599\n",
      "Epoch:184/500 Train Loss:0.3211 Val Loss:0.3785 Val F1:0.7222\n",
      "Epoch:185/500 Train Loss:0.3211 Val Loss:0.3748 Val F1:0.7334\n",
      "Epoch:186/500 Train Loss:0.3209 Val Loss:0.3705 Val F1:0.7588\n",
      "Epoch:187/500 Train Loss:0.32 Val Loss:0.3705 Val F1:0.751\n",
      "Epoch:188/500 Train Loss:0.3201 Val Loss:0.3742 Val F1:0.7035\n",
      "Epoch:189/500 Train Loss:0.3197 Val Loss:0.3733 Val F1:0.722\n",
      "Epoch:190/500 Train Loss:0.3197 Val Loss:0.3747 Val F1:0.7305\n",
      "Epoch:191/500 Train Loss:0.32 Val Loss:0.3726 Val F1:0.7436\n",
      "Epoch:192/500 Train Loss:0.3197 Val Loss:0.3693 Val F1:0.771\n",
      "Epoch:193/500 Train Loss:0.3196 Val Loss:0.3724 Val F1:0.7486\n",
      "Epoch:194/500 Train Loss:0.3199 Val Loss:0.3742 Val F1:0.7561\n",
      "Epoch:195/500 Train Loss:0.3195 Val Loss:0.3729 Val F1:0.733\n",
      "Epoch:196/500 Train Loss:0.3195 Val Loss:0.37 Val F1:0.7485\n",
      "Epoch:197/500 Train Loss:0.3196 Val Loss:0.376 Val F1:0.7233\n",
      "Epoch:198/500 Train Loss:0.3197 Val Loss:0.3725 Val F1:0.7448\n",
      "Epoch:199/500 Train Loss:0.3195 Val Loss:0.366 Val F1:0.7794\n",
      "Epoch:200/500 Train Loss:0.3195 Val Loss:0.3666 Val F1:0.7636\n",
      "Epoch:201/500 Train Loss:0.3198 Val Loss:0.3653 Val F1:0.7645\n",
      "Epoch:202/500 Train Loss:0.3196 Val Loss:0.3715 Val F1:0.7465\n",
      "Epoch:203/500 Train Loss:0.3196 Val Loss:0.373 Val F1:0.7435\n",
      "Epoch:204/500 Train Loss:0.3196 Val Loss:0.3685 Val F1:0.7829\n",
      "Epoch:205/500 Train Loss:0.3195 Val Loss:0.3737 Val F1:0.7578\n",
      "Epoch:206/500 Train Loss:0.3196 Val Loss:0.3688 Val F1:0.7507\n",
      "Epoch:207/500 Train Loss:0.3196 Val Loss:0.3695 Val F1:0.7565\n",
      "Epoch:208/500 Train Loss:0.3195 Val Loss:0.3725 Val F1:0.7199\n",
      "Epoch:209/500 Train Loss:0.3198 Val Loss:0.3714 Val F1:0.7308\n",
      "Epoch:210/500 Train Loss:0.3199 Val Loss:0.3695 Val F1:0.7451\n",
      "Epoch:211/500 Train Loss:0.3195 Val Loss:0.3668 Val F1:0.78\n",
      "Epoch:212/500 Train Loss:0.3197 Val Loss:0.3662 Val F1:0.773\n",
      "Epoch:213/500 Train Loss:0.3195 Val Loss:0.368 Val F1:0.7837\n",
      "Epoch:214/500 Train Loss:0.3194 Val Loss:0.3699 Val F1:0.7463\n",
      "Epoch:215/500 Train Loss:0.3195 Val Loss:0.3676 Val F1:0.7758\n",
      "Epoch:216/500 Train Loss:0.3195 Val Loss:0.3706 Val F1:0.7617\n",
      "Epoch:217/500 Train Loss:0.3195 Val Loss:0.365 Val F1:0.7925\n",
      "Epoch:218/500 Train Loss:0.3196 Val Loss:0.3647 Val F1:0.7912\n",
      "Epoch:219/500 Train Loss:0.3197 Val Loss:0.3661 Val F1:0.763\n",
      "Epoch:220/500 Train Loss:0.321 Val Loss:0.3713 Val F1:0.726\n",
      "Epoch:221/500 Train Loss:0.3202 Val Loss:0.3685 Val F1:0.7445\n",
      "Epoch:222/500 Train Loss:0.3202 Val Loss:0.3648 Val F1:0.7904\n",
      "Epoch:223/500 Train Loss:0.3195 Val Loss:0.3624 Val F1:0.7812\n",
      "Epoch:224/500 Train Loss:0.3195 Val Loss:0.3638 Val F1:0.7817\n",
      "Epoch:225/500 Train Loss:0.3196 Val Loss:0.3671 Val F1:0.7698\n",
      "Epoch:226/500 Train Loss:0.3194 Val Loss:0.3661 Val F1:0.7788\n",
      "Epoch:227/500 Train Loss:0.3195 Val Loss:0.366 Val F1:0.7706\n",
      "Epoch:228/500 Train Loss:0.3194 Val Loss:0.3713 Val F1:0.7597\n",
      "Epoch:229/500 Train Loss:0.3193 Val Loss:0.3646 Val F1:0.783\n",
      "Epoch:230/500 Train Loss:0.3194 Val Loss:0.3665 Val F1:0.7751\n",
      "Epoch:231/500 Train Loss:0.3196 Val Loss:0.3692 Val F1:0.78\n",
      "Epoch:232/500 Train Loss:0.3194 Val Loss:0.3665 Val F1:0.7926\n",
      "Epoch:233/500 Train Loss:0.3195 Val Loss:0.3664 Val F1:0.7805\n",
      "Epoch:234/500 Train Loss:0.3194 Val Loss:0.3723 Val F1:0.7365\n",
      "Epoch:235/500 Train Loss:0.3194 Val Loss:0.3685 Val F1:0.7644\n",
      "Epoch:236/500 Train Loss:0.3196 Val Loss:0.3674 Val F1:0.7625\n",
      "Epoch:237/500 Train Loss:0.3193 Val Loss:0.3679 Val F1:0.7604\n",
      "Epoch:238/500 Train Loss:0.3193 Val Loss:0.3707 Val F1:0.7487\n",
      "Epoch:239/500 Train Loss:0.3195 Val Loss:0.3712 Val F1:0.7498\n",
      "Epoch:240/500 Train Loss:0.3193 Val Loss:0.3691 Val F1:0.7499\n",
      "Epoch:241/500 Train Loss:0.3195 Val Loss:0.37 Val F1:0.7438\n",
      "Epoch:242/500 Train Loss:0.3193 Val Loss:0.3689 Val F1:0.7398\n",
      "Epoch:243/500 Train Loss:0.3194 Val Loss:0.3718 Val F1:0.7264\n",
      "Epoch:244/500 Train Loss:0.3194 Val Loss:0.3683 Val F1:0.7672\n",
      "Epoch:245/500 Train Loss:0.3193 Val Loss:0.368 Val F1:0.7524\n",
      "Epoch:246/500 Train Loss:0.3193 Val Loss:0.3668 Val F1:0.7585\n",
      "Epoch:247/500 Train Loss:0.3193 Val Loss:0.3697 Val F1:0.7696\n",
      "Epoch:248/500 Train Loss:0.3195 Val Loss:0.366 Val F1:0.7564\n",
      "Epoch:249/500 Train Loss:0.3195 Val Loss:0.3743 Val F1:0.7192\n",
      "Epoch:250/500 Train Loss:0.32 Val Loss:0.3714 Val F1:0.7396\n",
      "Epoch:251/500 Train Loss:0.3193 Val Loss:0.3696 Val F1:0.7749\n",
      "Epoch:252/500 Train Loss:0.3193 Val Loss:0.3665 Val F1:0.7861\n",
      "Epoch:253/500 Train Loss:0.3193 Val Loss:0.3632 Val F1:0.781\n",
      "Epoch:254/500 Train Loss:0.3194 Val Loss:0.3682 Val F1:0.772\n",
      "Epoch:255/500 Train Loss:0.3196 Val Loss:0.3701 Val F1:0.7295\n",
      "Epoch:256/500 Train Loss:0.3197 Val Loss:0.3694 Val F1:0.7432\n",
      "Epoch:257/500 Train Loss:0.3194 Val Loss:0.367 Val F1:0.7748\n",
      "Epoch:258/500 Train Loss:0.3196 Val Loss:0.366 Val F1:0.806\n",
      "Epoch:259/500 Train Loss:0.3194 Val Loss:0.3661 Val F1:0.7548\n",
      "Epoch:260/500 Train Loss:0.32 Val Loss:0.3742 Val F1:0.7326\n",
      "Epoch:261/500 Train Loss:0.3195 Val Loss:0.3673 Val F1:0.7742\n",
      "Epoch:262/500 Train Loss:0.3193 Val Loss:0.3678 Val F1:0.7898\n",
      "Epoch:263/500 Train Loss:0.3193 Val Loss:0.3663 Val F1:0.7762\n",
      "Epoch:264/500 Train Loss:0.3192 Val Loss:0.3654 Val F1:0.7598\n",
      "Epoch:265/500 Train Loss:0.3193 Val Loss:0.367 Val F1:0.7742\n",
      "Epoch:266/500 Train Loss:0.3194 Val Loss:0.3658 Val F1:0.7532\n",
      "Epoch:267/500 Train Loss:0.3193 Val Loss:0.3711 Val F1:0.7397\n",
      "Epoch:268/500 Train Loss:0.3195 Val Loss:0.3641 Val F1:0.7745\n",
      "Epoch:269/500 Train Loss:0.3195 Val Loss:0.3673 Val F1:0.7769\n"
     ]
    },
    {
     "name": "stdout",
     "output_type": "stream",
     "text": [
      "Epoch:270/500 Train Loss:0.3196 Val Loss:0.3704 Val F1:0.7515\n",
      "Epoch:271/500 Train Loss:0.3195 Val Loss:0.3689 Val F1:0.7724\n",
      "Epoch:272/500 Train Loss:0.3195 Val Loss:0.3658 Val F1:0.789\n",
      "Epoch:273/500 Train Loss:0.3195 Val Loss:0.3698 Val F1:0.7728\n",
      "Epoch:274/500 Train Loss:0.32 Val Loss:0.3648 Val F1:0.7931\n",
      "Epoch:275/500 Train Loss:0.3195 Val Loss:0.3726 Val F1:0.7514\n",
      "Epoch:276/500 Train Loss:0.3198 Val Loss:0.3691 Val F1:0.7685\n",
      "Epoch:277/500 Train Loss:0.3193 Val Loss:0.3713 Val F1:0.7813\n",
      "Epoch:278/500 Train Loss:0.3197 Val Loss:0.3651 Val F1:0.7925\n",
      "Epoch:279/500 Train Loss:0.3194 Val Loss:0.3623 Val F1:0.7829\n",
      "Epoch:280/500 Train Loss:0.3194 Val Loss:0.3649 Val F1:0.772\n",
      "Epoch:281/500 Train Loss:0.3192 Val Loss:0.364 Val F1:0.769\n",
      "Epoch:282/500 Train Loss:0.3192 Val Loss:0.3688 Val F1:0.7573\n",
      "Epoch:283/500 Train Loss:0.3192 Val Loss:0.3678 Val F1:0.7413\n",
      "Epoch:284/500 Train Loss:0.3192 Val Loss:0.364 Val F1:0.7629\n",
      "Epoch:285/500 Train Loss:0.3191 Val Loss:0.3622 Val F1:0.784\n",
      "Epoch:286/500 Train Loss:0.3191 Val Loss:0.3648 Val F1:0.7678\n",
      "Epoch:287/500 Train Loss:0.3191 Val Loss:0.3645 Val F1:0.7848\n",
      "Epoch:288/500 Train Loss:0.3191 Val Loss:0.3625 Val F1:0.7854\n",
      "Epoch:289/500 Train Loss:0.3191 Val Loss:0.3619 Val F1:0.7925\n",
      "Epoch:290/500 Train Loss:0.3191 Val Loss:0.3623 Val F1:0.7766\n",
      "Epoch:291/500 Train Loss:0.3191 Val Loss:0.3634 Val F1:0.7811\n",
      "Epoch:292/500 Train Loss:0.3192 Val Loss:0.3644 Val F1:0.7584\n",
      "Epoch:293/500 Train Loss:0.3191 Val Loss:0.3658 Val F1:0.7646\n",
      "Epoch:294/500 Train Loss:0.3191 Val Loss:0.3624 Val F1:0.7859\n",
      "Epoch:295/500 Train Loss:0.3191 Val Loss:0.3654 Val F1:0.7855\n",
      "Epoch:296/500 Train Loss:0.3191 Val Loss:0.3646 Val F1:0.7707\n",
      "Epoch:297/500 Train Loss:0.3192 Val Loss:0.3599 Val F1:0.7893\n",
      "Epoch:298/500 Train Loss:0.3191 Val Loss:0.3637 Val F1:0.7902\n",
      "Epoch:299/500 Train Loss:0.3192 Val Loss:0.3629 Val F1:0.784\n",
      "Epoch:300/500 Train Loss:0.3192 Val Loss:0.3647 Val F1:0.7828\n",
      "Epoch:301/500 Train Loss:0.3191 Val Loss:0.3621 Val F1:0.7647\n",
      "Epoch:302/500 Train Loss:0.3191 Val Loss:0.3624 Val F1:0.7744\n",
      "Epoch:303/500 Train Loss:0.3191 Val Loss:0.3689 Val F1:0.7345\n",
      "Epoch:304/500 Train Loss:0.3191 Val Loss:0.3652 Val F1:0.7656\n",
      "Epoch:305/500 Train Loss:0.3191 Val Loss:0.3612 Val F1:0.7802\n",
      "Epoch:306/500 Train Loss:0.3191 Val Loss:0.3624 Val F1:0.7742\n",
      "Epoch:307/500 Train Loss:0.3193 Val Loss:0.3649 Val F1:0.7776\n",
      "Epoch:308/500 Train Loss:0.3191 Val Loss:0.3619 Val F1:0.7866\n",
      "Epoch:309/500 Train Loss:0.3191 Val Loss:0.3618 Val F1:0.79\n",
      "Epoch:310/500 Train Loss:0.3192 Val Loss:0.3653 Val F1:0.7747\n",
      "Epoch:311/500 Train Loss:0.3192 Val Loss:0.3674 Val F1:0.7372\n",
      "Epoch:312/500 Train Loss:0.3192 Val Loss:0.3682 Val F1:0.7506\n",
      "Epoch:313/500 Train Loss:0.3191 Val Loss:0.366 Val F1:0.7623\n",
      "Epoch:314/500 Train Loss:0.3193 Val Loss:0.364 Val F1:0.7672\n",
      "Epoch:315/500 Train Loss:0.3192 Val Loss:0.3647 Val F1:0.7486\n",
      "Epoch:316/500 Train Loss:0.3193 Val Loss:0.3647 Val F1:0.7404\n",
      "Epoch:317/500 Train Loss:0.3193 Val Loss:0.3626 Val F1:0.7574\n",
      "Epoch:318/500 Train Loss:0.3191 Val Loss:0.3615 Val F1:0.7786\n",
      "Epoch:319/500 Train Loss:0.3194 Val Loss:0.3592 Val F1:0.8002\n",
      "Epoch:320/500 Train Loss:0.3191 Val Loss:0.3704 Val F1:0.7545\n",
      "Epoch:321/500 Train Loss:0.3201 Val Loss:0.3684 Val F1:0.7825\n",
      "Epoch:322/500 Train Loss:0.3197 Val Loss:0.3677 Val F1:0.7886\n",
      "Epoch:323/500 Train Loss:0.3195 Val Loss:0.3664 Val F1:0.7699\n",
      "Epoch:324/500 Train Loss:0.3195 Val Loss:0.3666 Val F1:0.7808\n",
      "Epoch:325/500 Train Loss:0.3192 Val Loss:0.3632 Val F1:0.8051\n",
      "Epoch:326/500 Train Loss:0.3194 Val Loss:0.3662 Val F1:0.7988\n",
      "Epoch:327/500 Train Loss:0.3196 Val Loss:0.3648 Val F1:0.797\n",
      "Epoch:328/500 Train Loss:0.3193 Val Loss:0.371 Val F1:0.7546\n",
      "Epoch:329/500 Train Loss:0.3198 Val Loss:0.3682 Val F1:0.7731\n",
      "Epoch:330/500 Train Loss:0.3195 Val Loss:0.3664 Val F1:0.7948\n",
      "Epoch:331/500 Train Loss:0.3198 Val Loss:0.3693 Val F1:0.7922\n",
      "Epoch:332/500 Train Loss:0.32 Val Loss:0.3673 Val F1:0.7758\n",
      "Epoch:333/500 Train Loss:0.3195 Val Loss:0.3659 Val F1:0.7624\n",
      "Epoch:334/500 Train Loss:0.3192 Val Loss:0.369 Val F1:0.7525\n",
      "Epoch:335/500 Train Loss:0.3191 Val Loss:0.3685 Val F1:0.756\n",
      "Epoch:336/500 Train Loss:0.3191 Val Loss:0.364 Val F1:0.7891\n",
      "Epoch:337/500 Train Loss:0.3191 Val Loss:0.3682 Val F1:0.7608\n",
      "Epoch:338/500 Train Loss:0.3192 Val Loss:0.3678 Val F1:0.7711\n",
      "Epoch:339/500 Train Loss:0.3193 Val Loss:0.3679 Val F1:0.7744\n",
      "Epoch:340/500 Train Loss:0.3192 Val Loss:0.367 Val F1:0.7899\n",
      "Epoch:341/500 Train Loss:0.3192 Val Loss:0.3665 Val F1:0.7647\n",
      "Epoch:342/500 Train Loss:0.3191 Val Loss:0.3721 Val F1:0.7244\n",
      "Epoch:343/500 Train Loss:0.3193 Val Loss:0.3699 Val F1:0.738\n",
      "Epoch:344/500 Train Loss:0.3192 Val Loss:0.3637 Val F1:0.7849\n",
      "Epoch:345/500 Train Loss:0.3195 Val Loss:0.3609 Val F1:0.7999\n",
      "Epoch:346/500 Train Loss:0.3193 Val Loss:0.3631 Val F1:0.7814\n",
      "Epoch:347/500 Train Loss:0.3192 Val Loss:0.3644 Val F1:0.7749\n",
      "Epoch:348/500 Train Loss:0.3193 Val Loss:0.3629 Val F1:0.7881\n",
      "Epoch:349/500 Train Loss:0.3192 Val Loss:0.3622 Val F1:0.8114\n",
      "Epoch:350/500 Train Loss:0.3192 Val Loss:0.3657 Val F1:0.7733\n",
      "Epoch:351/500 Train Loss:0.3192 Val Loss:0.3654 Val F1:0.7769\n",
      "Epoch:352/500 Train Loss:0.3191 Val Loss:0.3644 Val F1:0.7768\n",
      "Epoch:353/500 Train Loss:0.3193 Val Loss:0.3634 Val F1:0.7756\n",
      "Epoch:354/500 Train Loss:0.3193 Val Loss:0.3609 Val F1:0.7946\n",
      "Epoch:355/500 Train Loss:0.3192 Val Loss:0.3639 Val F1:0.7929\n",
      "Epoch:356/500 Train Loss:0.3193 Val Loss:0.3595 Val F1:0.8048\n",
      "Epoch:357/500 Train Loss:0.3192 Val Loss:0.3612 Val F1:0.7936\n",
      "Epoch:358/500 Train Loss:0.3193 Val Loss:0.3594 Val F1:0.785\n",
      "Epoch:359/500 Train Loss:0.3192 Val Loss:0.3666 Val F1:0.747\n",
      "Epoch:360/500 Train Loss:0.3192 Val Loss:0.3674 Val F1:0.7463\n",
      "Epoch:361/500 Train Loss:0.3191 Val Loss:0.3682 Val F1:0.7356\n",
      "Epoch:362/500 Train Loss:0.3192 Val Loss:0.3657 Val F1:0.7683\n",
      "Epoch:363/500 Train Loss:0.3192 Val Loss:0.3656 Val F1:0.7483\n",
      "Epoch:364/500 Train Loss:0.3191 Val Loss:0.3657 Val F1:0.766\n",
      "Epoch:365/500 Train Loss:0.3191 Val Loss:0.3657 Val F1:0.7555\n",
      "Epoch:366/500 Train Loss:0.3191 Val Loss:0.3647 Val F1:0.7712\n",
      "Epoch:367/500 Train Loss:0.3191 Val Loss:0.3633 Val F1:0.7941\n",
      "Epoch:368/500 Train Loss:0.3193 Val Loss:0.3653 Val F1:0.7878\n",
      "Epoch:369/500 Train Loss:0.3194 Val Loss:0.3653 Val F1:0.7921\n",
      "Epoch:370/500 Train Loss:0.3191 Val Loss:0.3662 Val F1:0.7571\n",
      "Epoch:371/500 Train Loss:0.3194 Val Loss:0.3681 Val F1:0.7681\n",
      "Epoch:372/500 Train Loss:0.3193 Val Loss:0.3652 Val F1:0.7927\n",
      "Epoch:373/500 Train Loss:0.3191 Val Loss:0.3644 Val F1:0.7899\n",
      "Epoch:374/500 Train Loss:0.3192 Val Loss:0.3652 Val F1:0.7886\n",
      "Epoch:375/500 Train Loss:0.3191 Val Loss:0.3629 Val F1:0.7873\n",
      "Epoch:376/500 Train Loss:0.3191 Val Loss:0.363 Val F1:0.7875\n",
      "Epoch:377/500 Train Loss:0.3191 Val Loss:0.3592 Val F1:0.8005\n",
      "Epoch:378/500 Train Loss:0.3191 Val Loss:0.3593 Val F1:0.7974\n",
      "Epoch:379/500 Train Loss:0.3191 Val Loss:0.3595 Val F1:0.808\n",
      "Epoch:380/500 Train Loss:0.3191 Val Loss:0.3593 Val F1:0.7848\n",
      "Epoch:381/500 Train Loss:0.3191 Val Loss:0.3626 Val F1:0.7916\n",
      "Epoch:382/500 Train Loss:0.3191 Val Loss:0.3611 Val F1:0.7835\n",
      "Epoch:383/500 Train Loss:0.3191 Val Loss:0.3606 Val F1:0.7965\n",
      "Epoch:384/500 Train Loss:0.3191 Val Loss:0.3624 Val F1:0.7807\n",
      "Epoch:385/500 Train Loss:0.3191 Val Loss:0.3645 Val F1:0.789\n",
      "Epoch:386/500 Train Loss:0.3191 Val Loss:0.3584 Val F1:0.8205\n",
      "Epoch:387/500 Train Loss:0.3191 Val Loss:0.3564 Val F1:0.8128\n",
      "Epoch:388/500 Train Loss:0.3191 Val Loss:0.357 Val F1:0.8136\n",
      "Epoch:389/500 Train Loss:0.3191 Val Loss:0.3592 Val F1:0.7963\n",
      "Epoch:390/500 Train Loss:0.3191 Val Loss:0.3608 Val F1:0.7914\n",
      "Epoch:391/500 Train Loss:0.3191 Val Loss:0.3579 Val F1:0.8122\n",
      "Epoch:392/500 Train Loss:0.3192 Val Loss:0.3594 Val F1:0.7979\n",
      "Epoch:393/500 Train Loss:0.3191 Val Loss:0.3611 Val F1:0.7861\n",
      "Epoch:394/500 Train Loss:0.3191 Val Loss:0.3602 Val F1:0.8004\n",
      "Epoch:395/500 Train Loss:0.3191 Val Loss:0.3593 Val F1:0.8183\n",
      "Epoch:396/500 Train Loss:0.3191 Val Loss:0.3618 Val F1:0.7886\n",
      "Epoch:397/500 Train Loss:0.3191 Val Loss:0.3584 Val F1:0.8044\n",
      "Epoch:398/500 Train Loss:0.3191 Val Loss:0.3625 Val F1:0.797\n",
      "Epoch:399/500 Train Loss:0.3191 Val Loss:0.3615 Val F1:0.8006\n",
      "Epoch:400/500 Train Loss:0.3191 Val Loss:0.3636 Val F1:0.7823\n",
      "Epoch:401/500 Train Loss:0.3191 Val Loss:0.3609 Val F1:0.7882\n",
      "Epoch:402/500 Train Loss:0.3191 Val Loss:0.3609 Val F1:0.8076\n"
     ]
    },
    {
     "name": "stdout",
     "output_type": "stream",
     "text": [
      "Epoch:403/500 Train Loss:0.3191 Val Loss:0.3609 Val F1:0.7905\n",
      "Epoch:404/500 Train Loss:0.3191 Val Loss:0.3616 Val F1:0.7915\n",
      "Epoch:405/500 Train Loss:0.319 Val Loss:0.3613 Val F1:0.795\n",
      "Epoch:406/500 Train Loss:0.3192 Val Loss:0.3596 Val F1:0.792\n",
      "Epoch:407/500 Train Loss:0.3191 Val Loss:0.363 Val F1:0.7654\n",
      "Epoch:408/500 Train Loss:0.3194 Val Loss:0.3658 Val F1:0.7723\n",
      "Epoch:409/500 Train Loss:0.3192 Val Loss:0.36 Val F1:0.8051\n",
      "Epoch:410/500 Train Loss:0.3191 Val Loss:0.3624 Val F1:0.8083\n",
      "Epoch:411/500 Train Loss:0.3192 Val Loss:0.3596 Val F1:0.8072\n",
      "Epoch:412/500 Train Loss:0.3192 Val Loss:0.3576 Val F1:0.8109\n",
      "Epoch:413/500 Train Loss:0.319 Val Loss:0.3645 Val F1:0.7643\n",
      "Epoch:414/500 Train Loss:0.319 Val Loss:0.3686 Val F1:0.7558\n",
      "Epoch:415/500 Train Loss:0.319 Val Loss:0.3671 Val F1:0.7479\n",
      "Epoch:416/500 Train Loss:0.3191 Val Loss:0.3626 Val F1:0.7877\n",
      "Epoch:417/500 Train Loss:0.319 Val Loss:0.368 Val F1:0.7559\n",
      "Epoch:418/500 Train Loss:0.3192 Val Loss:0.3645 Val F1:0.7664\n",
      "Epoch:419/500 Train Loss:0.3192 Val Loss:0.3632 Val F1:0.7872\n",
      "Epoch:420/500 Train Loss:0.3191 Val Loss:0.366 Val F1:0.7945\n",
      "Epoch:421/500 Train Loss:0.319 Val Loss:0.3639 Val F1:0.7975\n",
      "Epoch:422/500 Train Loss:0.3191 Val Loss:0.3668 Val F1:0.7836\n",
      "Epoch:423/500 Train Loss:0.3191 Val Loss:0.3618 Val F1:0.7906\n",
      "Epoch:424/500 Train Loss:0.319 Val Loss:0.3623 Val F1:0.7953\n",
      "Epoch:425/500 Train Loss:0.319 Val Loss:0.3649 Val F1:0.7746\n",
      "Epoch:426/500 Train Loss:0.319 Val Loss:0.366 Val F1:0.7837\n",
      "Epoch:427/500 Train Loss:0.3191 Val Loss:0.3619 Val F1:0.7978\n",
      "Epoch:428/500 Train Loss:0.3203 Val Loss:0.3618 Val F1:0.7796\n",
      "Epoch:429/500 Train Loss:0.3196 Val Loss:0.3811 Val F1:0.702\n",
      "Epoch:430/500 Train Loss:0.3205 Val Loss:0.3722 Val F1:0.7437\n",
      "Epoch:431/500 Train Loss:0.32 Val Loss:0.3647 Val F1:0.7973\n",
      "Epoch:432/500 Train Loss:0.321 Val Loss:0.3692 Val F1:0.7496\n",
      "Epoch:433/500 Train Loss:0.3205 Val Loss:0.393 Val F1:0.625\n",
      "Epoch:434/500 Train Loss:0.3216 Val Loss:0.3778 Val F1:0.7187\n",
      "Epoch:435/500 Train Loss:0.324 Val Loss:0.3785 Val F1:0.7406\n",
      "Epoch:436/500 Train Loss:0.321 Val Loss:0.3968 Val F1:0.6173\n",
      "Epoch:437/500 Train Loss:0.3248 Val Loss:0.3952 Val F1:0.6541\n",
      "Epoch:438/500 Train Loss:0.3225 Val Loss:0.3823 Val F1:0.7197\n",
      "Epoch:439/500 Train Loss:0.3242 Val Loss:0.3831 Val F1:0.7204\n",
      "Epoch:440/500 Train Loss:0.3222 Val Loss:0.3785 Val F1:0.7053\n",
      "Epoch:441/500 Train Loss:0.3216 Val Loss:0.3877 Val F1:0.6358\n",
      "Epoch:442/500 Train Loss:0.3213 Val Loss:0.3686 Val F1:0.7252\n",
      "Epoch:443/500 Train Loss:0.3198 Val Loss:0.3671 Val F1:0.7957\n",
      "Epoch:444/500 Train Loss:0.3209 Val Loss:0.369 Val F1:0.7573\n",
      "Epoch:445/500 Train Loss:0.3197 Val Loss:0.3712 Val F1:0.7299\n",
      "Epoch:446/500 Train Loss:0.3202 Val Loss:0.3693 Val F1:0.7665\n",
      "Epoch:447/500 Train Loss:0.3199 Val Loss:0.374 Val F1:0.7509\n",
      "Epoch:448/500 Train Loss:0.3199 Val Loss:0.3718 Val F1:0.7601\n",
      "Epoch:449/500 Train Loss:0.3196 Val Loss:0.3778 Val F1:0.7133\n",
      "Epoch:450/500 Train Loss:0.3197 Val Loss:0.3776 Val F1:0.7105\n",
      "Epoch:451/500 Train Loss:0.3197 Val Loss:0.3769 Val F1:0.7165\n",
      "Epoch:452/500 Train Loss:0.3194 Val Loss:0.372 Val F1:0.7498\n",
      "Epoch:453/500 Train Loss:0.3194 Val Loss:0.3739 Val F1:0.7386\n",
      "Epoch:454/500 Train Loss:0.3193 Val Loss:0.3667 Val F1:0.7817\n",
      "Epoch:455/500 Train Loss:0.3192 Val Loss:0.3657 Val F1:0.7699\n",
      "Epoch:456/500 Train Loss:0.3194 Val Loss:0.3674 Val F1:0.7819\n",
      "Epoch:457/500 Train Loss:0.3194 Val Loss:0.3658 Val F1:0.7649\n",
      "Epoch:458/500 Train Loss:0.3194 Val Loss:0.3713 Val F1:0.743\n",
      "Epoch:459/500 Train Loss:0.3195 Val Loss:0.3798 Val F1:0.7189\n",
      "Epoch:460/500 Train Loss:0.3199 Val Loss:0.3828 Val F1:0.6916\n",
      "Epoch:461/500 Train Loss:0.3197 Val Loss:0.3733 Val F1:0.7325\n",
      "Epoch:462/500 Train Loss:0.3201 Val Loss:0.3741 Val F1:0.7652\n",
      "Epoch:463/500 Train Loss:0.3192 Val Loss:0.3713 Val F1:0.7524\n",
      "Epoch:464/500 Train Loss:0.3194 Val Loss:0.3703 Val F1:0.729\n",
      "Epoch:465/500 Train Loss:0.3194 Val Loss:0.3696 Val F1:0.7249\n",
      "Epoch:466/500 Train Loss:0.319 Val Loss:0.3733 Val F1:0.7228\n",
      "Epoch:467/500 Train Loss:0.3191 Val Loss:0.3736 Val F1:0.7188\n",
      "Epoch:468/500 Train Loss:0.3191 Val Loss:0.3706 Val F1:0.7366\n",
      "Epoch:469/500 Train Loss:0.3189 Val Loss:0.3711 Val F1:0.7551\n",
      "Epoch:470/500 Train Loss:0.319 Val Loss:0.3713 Val F1:0.7432\n",
      "Epoch:471/500 Train Loss:0.3189 Val Loss:0.373 Val F1:0.7369\n",
      "Epoch:472/500 Train Loss:0.319 Val Loss:0.3726 Val F1:0.7269\n",
      "Epoch:473/500 Train Loss:0.3189 Val Loss:0.3747 Val F1:0.723\n",
      "Epoch:474/500 Train Loss:0.3189 Val Loss:0.3762 Val F1:0.7045\n",
      "Epoch:475/500 Train Loss:0.3189 Val Loss:0.3703 Val F1:0.7455\n",
      "Epoch:476/500 Train Loss:0.3189 Val Loss:0.3709 Val F1:0.736\n",
      "Epoch:477/500 Train Loss:0.319 Val Loss:0.3689 Val F1:0.7455\n",
      "Epoch:478/500 Train Loss:0.3189 Val Loss:0.3738 Val F1:0.7242\n",
      "Epoch:479/500 Train Loss:0.3189 Val Loss:0.3734 Val F1:0.7433\n",
      "Epoch:480/500 Train Loss:0.3189 Val Loss:0.3752 Val F1:0.7399\n",
      "Epoch:481/500 Train Loss:0.3189 Val Loss:0.372 Val F1:0.7459\n",
      "Epoch:482/500 Train Loss:0.3189 Val Loss:0.3742 Val F1:0.7128\n",
      "Epoch:483/500 Train Loss:0.3189 Val Loss:0.375 Val F1:0.7221\n",
      "Epoch:484/500 Train Loss:0.319 Val Loss:0.3727 Val F1:0.7319\n",
      "Epoch:485/500 Train Loss:0.3189 Val Loss:0.3736 Val F1:0.7123\n",
      "Epoch:486/500 Train Loss:0.3189 Val Loss:0.3745 Val F1:0.7323\n",
      "Epoch:487/500 Train Loss:0.3189 Val Loss:0.3738 Val F1:0.7356\n",
      "Epoch:488/500 Train Loss:0.3189 Val Loss:0.3749 Val F1:0.7305\n",
      "Epoch:489/500 Train Loss:0.3189 Val Loss:0.3758 Val F1:0.7283\n",
      "Epoch:490/500 Train Loss:0.3188 Val Loss:0.3758 Val F1:0.7152\n",
      "Epoch:491/500 Train Loss:0.3189 Val Loss:0.3738 Val F1:0.7257\n",
      "Epoch:492/500 Train Loss:0.3189 Val Loss:0.3726 Val F1:0.7574\n",
      "Epoch:493/500 Train Loss:0.3189 Val Loss:0.3751 Val F1:0.7137\n",
      "Epoch:494/500 Train Loss:0.3189 Val Loss:0.3743 Val F1:0.7298\n",
      "Epoch:495/500 Train Loss:0.3189 Val Loss:0.3726 Val F1:0.7267\n",
      "Epoch:496/500 Train Loss:0.3189 Val Loss:0.3748 Val F1:0.7273\n",
      "Epoch:497/500 Train Loss:0.3188 Val Loss:0.3725 Val F1:0.724\n",
      "Epoch:498/500 Train Loss:0.3188 Val Loss:0.3707 Val F1:0.7441\n",
      "Epoch:499/500 Train Loss:0.3188 Val Loss:0.3701 Val F1:0.7558\n",
      "Epoch:500/500 Train Loss:0.3188 Val Loss:0.3709 Val F1:0.7576\n"
     ]
    }
   ],
   "source": [
    "best_f1 = 0\n",
    "best_encoder = None\n",
    "best_mlp = None\n",
    "for e in range(1, epochs + 1):\n",
    "    train_loss = train(encoder, mlp, optimizer, train_loader, loss_fn)\n",
    "    val_loss, val_f1 = test(encoder, mlp, val_loader, loss_fn)\n",
    "    print(f\"Epoch:{e}/{epochs} Train Loss:{round(train_loss,4)} Val Loss:{round(val_loss,4)} Val F1:{round(val_f1, 4)}\")\n",
    "    if val_f1 > best_f1:\n",
    "        best_f1 = val_f1\n",
    "        best_encoder = deepcopy(encoder)\n",
    "        best_mlp = deepcopy(mlp)"
   ]
  },
  {
   "cell_type": "code",
   "execution_count": 14,
   "id": "8d8b5ba8",
   "metadata": {
    "scrolled": true
   },
   "outputs": [
    {
     "name": "stdout",
     "output_type": "stream",
     "text": [
      "0.8204539239814055\n"
     ]
    }
   ],
   "source": [
    "print(best_f1)"
   ]
  },
  {
   "cell_type": "markdown",
   "id": "c8ea56b5",
   "metadata": {},
   "source": [
    "## Evaluation on Subsequent Time Steps ##"
   ]
  },
  {
   "cell_type": "code",
   "execution_count": 15,
   "id": "8a967c40",
   "metadata": {},
   "outputs": [],
   "source": [
    "f1_list = []\n",
    "f1_list.append(best_f1)"
   ]
  },
  {
   "cell_type": "markdown",
   "id": "903eab0d",
   "metadata": {},
   "source": [
    "### 9-13 ###"
   ]
  },
  {
   "cell_type": "code",
   "execution_count": 16,
   "id": "4af0b27a",
   "metadata": {},
   "outputs": [],
   "source": [
    "test_data = [get_data(data_dir, \"elliptic\", i) for i in range(9,14)]\n",
    "test_loader = DataLoader(dataset=test_data, batch_size=1, shuffle=False)"
   ]
  },
  {
   "cell_type": "code",
   "execution_count": 17,
   "id": "98177228",
   "metadata": {},
   "outputs": [
    {
     "name": "stdout",
     "output_type": "stream",
     "text": [
      "Test Loss: 0.3671, Test F1: 0.6834\n"
     ]
    }
   ],
   "source": [
    "test_loss, test_f1 = test(encoder, mlp, test_loader, loss_fn)\n",
    "f1_list.append(test_f1)\n",
    "print(f\"Test Loss: {round(test_loss,4)}, Test F1: {round(test_f1,4)}\")"
   ]
  },
  {
   "cell_type": "markdown",
   "id": "9db88096",
   "metadata": {},
   "source": [
    "### 14-18 ###"
   ]
  },
  {
   "cell_type": "code",
   "execution_count": 18,
   "id": "55243d5c",
   "metadata": {},
   "outputs": [],
   "source": [
    "test_data = [get_data(data_dir, \"elliptic\", i) for i in range(14,19)]\n",
    "test_loader = DataLoader(dataset=test_data, batch_size=1, shuffle=False)"
   ]
  },
  {
   "cell_type": "code",
   "execution_count": 19,
   "id": "8bfdc043",
   "metadata": {},
   "outputs": [
    {
     "name": "stdout",
     "output_type": "stream",
     "text": [
      "Test Loss: 0.3861, Test F1: 0.7663\n"
     ]
    }
   ],
   "source": [
    "test_loss, test_f1 = test(encoder, mlp, test_loader, loss_fn)\n",
    "f1_list.append(test_f1)\n",
    "print(f\"Test Loss: {round(test_loss,4)}, Test F1: {round(test_f1,4)}\")"
   ]
  },
  {
   "cell_type": "markdown",
   "id": "b0fe1ff7",
   "metadata": {},
   "source": [
    "### 19-23 ###"
   ]
  },
  {
   "cell_type": "code",
   "execution_count": 20,
   "id": "7550e6bc",
   "metadata": {},
   "outputs": [],
   "source": [
    "test_data = [get_data(data_dir, \"elliptic\", i) for i in range(19,24)]\n",
    "test_loader = DataLoader(dataset=test_data, batch_size=1, shuffle=False)"
   ]
  },
  {
   "cell_type": "code",
   "execution_count": 21,
   "id": "ea43f843",
   "metadata": {},
   "outputs": [
    {
     "name": "stdout",
     "output_type": "stream",
     "text": [
      "Test Loss: 0.4522, Test F1: 0.4956\n"
     ]
    }
   ],
   "source": [
    "test_loss, test_f1 = test(encoder, mlp, test_loader, loss_fn)\n",
    "f1_list.append(test_f1)\n",
    "print(f\"Test Loss: {round(test_loss,4)}, Test F1: {round(test_f1,4)}\")"
   ]
  },
  {
   "cell_type": "markdown",
   "id": "9236f388",
   "metadata": {},
   "source": [
    "### 24-28 ###"
   ]
  },
  {
   "cell_type": "code",
   "execution_count": 22,
   "id": "2cd2200c",
   "metadata": {},
   "outputs": [],
   "source": [
    "test_data = [get_data(data_dir, \"elliptic\", i) for i in range(24,29)]\n",
    "test_loader = DataLoader(dataset=test_data, batch_size=1, shuffle=False)"
   ]
  },
  {
   "cell_type": "code",
   "execution_count": 23,
   "id": "82862669",
   "metadata": {},
   "outputs": [
    {
     "name": "stdout",
     "output_type": "stream",
     "text": [
      "Test Loss: 0.4782, Test F1: 0.6363\n"
     ]
    }
   ],
   "source": [
    "test_loss, test_f1 = test(encoder, mlp, test_loader, loss_fn)\n",
    "f1_list.append(test_f1)\n",
    "print(f\"Test Loss: {round(test_loss,4)}, Test F1: {round(test_f1,4)}\")"
   ]
  },
  {
   "cell_type": "markdown",
   "id": "62df94c7",
   "metadata": {},
   "source": [
    "### 29-33 ###"
   ]
  },
  {
   "cell_type": "code",
   "execution_count": 24,
   "id": "4543d181",
   "metadata": {},
   "outputs": [],
   "source": [
    "test_data = [get_data(data_dir, \"elliptic\", i) for i in range(29,34)]\n",
    "test_loader = DataLoader(dataset=test_data, batch_size=1, shuffle=False)"
   ]
  },
  {
   "cell_type": "code",
   "execution_count": 25,
   "id": "530a9b43",
   "metadata": {
    "scrolled": true
   },
   "outputs": [
    {
     "name": "stdout",
     "output_type": "stream",
     "text": [
      "Test Loss: 0.6153, Test F1: 0.3815\n"
     ]
    }
   ],
   "source": [
    "test_loss, test_f1 = test(encoder, mlp, test_loader, loss_fn)\n",
    "f1_list.append(test_f1)\n",
    "print(f\"Test Loss: {round(test_loss,4)}, Test F1: {round(test_f1,4)}\")"
   ]
  },
  {
   "cell_type": "markdown",
   "id": "ccbd1e7a",
   "metadata": {},
   "source": [
    "### 34-38 ###"
   ]
  },
  {
   "cell_type": "code",
   "execution_count": 26,
   "id": "6c4e83cf",
   "metadata": {},
   "outputs": [],
   "source": [
    "test_data = [get_data(data_dir, \"elliptic\", i) for i in range(34,39)]\n",
    "test_loader = DataLoader(dataset=test_data, batch_size=1, shuffle=False)"
   ]
  },
  {
   "cell_type": "code",
   "execution_count": 27,
   "id": "3f318972",
   "metadata": {
    "scrolled": true
   },
   "outputs": [
    {
     "name": "stdout",
     "output_type": "stream",
     "text": [
      "Test Loss: 0.6339, Test F1: 0.3276\n"
     ]
    }
   ],
   "source": [
    "test_loss, test_f1 = test(encoder, mlp, test_loader, loss_fn)\n",
    "f1_list.append(test_f1)\n",
    "print(f\"Test Loss: {round(test_loss,4)}, Test F1: {round(test_f1,4)}\")"
   ]
  },
  {
   "cell_type": "markdown",
   "id": "a2cdc8a9",
   "metadata": {},
   "source": [
    "### 39-43 ###"
   ]
  },
  {
   "cell_type": "code",
   "execution_count": 28,
   "id": "31c5db56",
   "metadata": {},
   "outputs": [],
   "source": [
    "test_data = [get_data(data_dir, \"elliptic\", i) for i in range(39,44)]\n",
    "test_loader = DataLoader(dataset=test_data, batch_size=1, shuffle=False)"
   ]
  },
  {
   "cell_type": "code",
   "execution_count": 29,
   "id": "d838a3d9",
   "metadata": {
    "scrolled": true
   },
   "outputs": [
    {
     "name": "stdout",
     "output_type": "stream",
     "text": [
      "Test Loss: 0.9014, Test F1: 0.1569\n"
     ]
    }
   ],
   "source": [
    "test_loss, test_f1 = test(encoder, mlp, test_loader, loss_fn)\n",
    "f1_list.append(test_f1)\n",
    "print(f\"Test Loss: {round(test_loss,4)}, Test F1: {round(test_f1,4)}\")"
   ]
  },
  {
   "cell_type": "markdown",
   "id": "6d27ea87",
   "metadata": {},
   "source": [
    "### 44-48 ###"
   ]
  },
  {
   "cell_type": "code",
   "execution_count": 30,
   "id": "42abac66",
   "metadata": {},
   "outputs": [],
   "source": [
    "test_data = [get_data(data_dir, \"elliptic\", i) for i in range(44,49)]\n",
    "test_loader = DataLoader(dataset=test_data, batch_size=1, shuffle=False)"
   ]
  },
  {
   "cell_type": "code",
   "execution_count": 31,
   "id": "94b732a4",
   "metadata": {
    "scrolled": true
   },
   "outputs": [
    {
     "name": "stdout",
     "output_type": "stream",
     "text": [
      "Test Loss: 0.6948, Test F1: 0.1666\n"
     ]
    }
   ],
   "source": [
    "test_loss, test_f1 = test(encoder, mlp, test_loader, loss_fn)\n",
    "f1_list.append(test_f1)\n",
    "print(f\"Test Loss: {round(test_loss,4)}, Test F1: {round(test_f1,4)}\")"
   ]
  },
  {
   "cell_type": "markdown",
   "id": "9742b342",
   "metadata": {},
   "source": [
    "* 9-13, 14-18, 19-23, 24-28, 29-33, 34-38, 39-43, 44-48"
   ]
  },
  {
   "cell_type": "code",
   "execution_count": 32,
   "id": "74820680",
   "metadata": {},
   "outputs": [
    {
     "data": {
      "image/png": "[encoded data removed]",
      "text/plain": [
       "<Figure size 640x480 with 1 Axes>"
      ]
     },
     "metadata": {},
     "output_type": "display_data"
    }
   ],
   "source": [
    "plt.plot(list(range(1, len(f1_list)+1)), f1_list)\n",
    "plt.title(\"Performance Degradation Over Time\")\n",
    "plt.ylim(0,1)\n",
    "plt.ylabel(\"F1 Score\")\n",
    "plt.xlabel(\"Evaluation Time Step\")\n",
    "plt.savefig(\"degradeelliptic.png\", dpi=400)\n",
    "plt.show()"
   ]
  },
  {
   "cell_type": "code",
   "execution_count": 34,
   "id": "c280f42f",
   "metadata": {},
   "outputs": [
    {
     "data": {
      "text/plain": [
       "0.49274156669450275"
      ]
     },
     "execution_count": 34,
     "metadata": {},
     "output_type": "execute_result"
    }
   ],
   "source": [
    "sum(f1_list) / len(f1_list)"
   ]
  },
  {
   "cell_type": "code",
   "execution_count": null,
   "id": "c577b10a",
   "metadata": {},
   "outputs": [],
   "source": []
  }
 ],
 "metadata": {
  "kernelspec": {
   "display_name": "Python 3 (ipykernel)",
   "language": "python",
   "name": "python3"
  },
  "language_info": {
   "codemirror_mode": {
    "name": "ipython",
    "version": 3
   },
   "file_extension": ".py",
   "mimetype": "text/x-python",
   "name": "python",
   "nbconvert_exporter": "python",
   "pygments_lexer": "ipython3",
   "version": "3.8.0"
  }
 },
 "nbformat": 4,
 "nbformat_minor": 5
}
