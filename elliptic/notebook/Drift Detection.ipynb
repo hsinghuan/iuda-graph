{
 "cells": [
  {
   "cell_type": "code",
   "execution_count": 2,
   "id": "bb077cf8",
   "metadata": {},
   "outputs": [
    {
     "name": "stderr",
     "output_type": "stream",
     "text": [
      "/home/hhchung/dyngraph-uda/.venv/lib/python3.8/site-packages/tqdm/auto.py:22: TqdmWarning: IProgress not found. Please update jupyter and ipywidgets. See https://ipywidgets.readthedocs.io/en/stable/user_install.html\n",
      "  from .autonotebook import tqdm as notebook_tqdm\n"
     ]
    }
   ],
   "source": [
    "import torch\n",
    "import torch.nn as nn\n",
    "import torch.nn.functional as F\n",
    "from torch_geometric.nn import SAGEConv\n",
    "import torch_geometric.datasets as datasets\n",
    "from torch_geometric.data import Data"
   ]
  },
  {
   "cell_type": "code",
   "execution_count": 3,
   "id": "6cec8b6e",
   "metadata": {},
   "outputs": [],
   "source": [
    "from dataset import load_nc_dataset"
   ]
  },
  {
   "cell_type": "code",
   "execution_count": 4,
   "id": "cc06c947",
   "metadata": {},
   "outputs": [],
   "source": [
    "import numpy as np\n",
    "import matplotlib.pyplot as plt\n",
    "from sklearn.decomposition import PCA"
   ]
  },
  {
   "cell_type": "code",
   "execution_count": 5,
   "id": "96ec8536",
   "metadata": {},
   "outputs": [],
   "source": [
    "from alibi_detect.cd import MMDDrift"
   ]
  },
  {
   "cell_type": "code",
   "execution_count": 6,
   "id": "23d59d98",
   "metadata": {},
   "outputs": [],
   "source": [
    "class GraphSAGEProjector(nn.Module):\n",
    "    def __init__(self, in_dim, hidden_dim, out_dim):\n",
    "        super().__init__()\n",
    "        self.conv1 = SAGEConv(in_dim, hidden_dim)\n",
    "        self.conv2 = SAGEConv(hidden_dim, out_dim)\n",
    "    \n",
    "    def forward(self, data):\n",
    "        x, edge_index = data.x, data.edge_index\n",
    "        x = self.conv1(x, edge_index)\n",
    "        x = self.conv2(x, edge_index)\n",
    "        return x\n",
    "\n",
    "@torch.no_grad()\n",
    "def embed(model, data):\n",
    "    model.eval()\n",
    "    out = model(data)\n",
    "    return out"
   ]
  },
  {
   "cell_type": "code",
   "execution_count": 7,
   "id": "2469bc97",
   "metadata": {},
   "outputs": [],
   "source": [
    "def get_data(data_dir, dataset, sub_dataset=None):\n",
    "    ### Load and preprocess data ###\n",
    "    if dataset == 'elliptic':\n",
    "        data = load_nc_dataset(data_dir, 'elliptic', sub_dataset)\n",
    "    else:\n",
    "        raise ValueError('Invalid dataname')\n",
    "    return data"
   ]
  },
  {
   "cell_type": "code",
   "execution_count": 8,
   "id": "243262d8",
   "metadata": {},
   "outputs": [],
   "source": [
    "data_dir = '/home/hhchung/data/graph-data/elliptic_bitcoin_dataset'"
   ]
  },
  {
   "cell_type": "code",
   "execution_count": 9,
   "id": "c785212f",
   "metadata": {
    "scrolled": true
   },
   "outputs": [
    {
     "name": "stderr",
     "output_type": "stream",
     "text": [
      "/home/hhchung/dyngraph-uda/elliptic/dataset.py:75: UserWarning: Creating a tensor from a list of numpy.ndarrays is extremely slow. Please consider converting the list to a single numpy.ndarray with numpy.array() before converting to a tensor. (Triggered internally at  ../torch/csrc/utils/tensor_new.cpp:201.)\n",
      "  edge_index = torch.tensor(A.nonzero(), dtype=torch.long)\n"
     ]
    }
   ],
   "source": [
    "elliptic_0_9 = [get_data(data_dir, 'elliptic', i) for i in range(9)]\n",
    "elliptic_9_14 = [get_data(data_dir, 'elliptic', i) for i in range(9,14)]\n",
    "elliptic_14_19 = [get_data(data_dir, 'elliptic', i) for i in range(14,19)]\n",
    "elliptic_19_24 = [get_data(data_dir, 'elliptic', i) for i in range(19,24)]\n",
    "elliptic_24_29 = [get_data(data_dir, 'elliptic', i) for i in range(24,29)]\n",
    "elliptic_29_34 = [get_data(data_dir, 'elliptic', i) for i in range(29,34)]\n",
    "elliptic_34_39 = [get_data(data_dir, 'elliptic', i) for i in range(34,39)]\n",
    "elliptic_39_44 = [get_data(data_dir, 'elliptic', i) for i in range(39,44)]\n",
    "elliptic_44_49 = [get_data(data_dir, 'elliptic', i) for i in range(44,49)]"
   ]
  },
  {
   "cell_type": "code",
   "execution_count": 10,
   "id": "d27a9fdb",
   "metadata": {},
   "outputs": [],
   "source": [
    "elliptic_0 = get_data(data_dir, 'elliptic', 0)\n",
    "num_node_features = elliptic_0.x.shape[1]\n",
    "model = GraphSAGEProjector(in_dim = num_node_features,\n",
    "                           hidden_dim = num_node_features // 2,\n",
    "                           out_dim = num_node_features // 4)\n",
    "for p in model.parameters():\n",
    "    if p.dim() > 1:\n",
    "        nn.init.normal_(p)"
   ]
  },
  {
   "cell_type": "code",
   "execution_count": 11,
   "id": "3acf3289",
   "metadata": {},
   "outputs": [],
   "source": [
    "elliptic_0_9_emb = torch.cat([embed(model, data) for data in elliptic_0_9], dim=0)\n",
    "elliptic_9_14_emb = torch.cat([embed(model, data) for data in elliptic_9_14], dim=0)\n",
    "elliptic_14_19_emb = torch.cat([embed(model, data) for data in elliptic_14_19], dim=0)\n",
    "elliptic_19_24_emb = torch.cat([embed(model, data) for data in elliptic_19_24], dim=0)\n",
    "elliptic_24_29_emb = torch.cat([embed(model, data) for data in elliptic_24_29], dim=0)\n",
    "elliptic_29_34_emb = torch.cat([embed(model, data) for data in elliptic_29_34], dim=0)\n",
    "elliptic_34_39_emb = torch.cat([embed(model, data) for data in elliptic_34_39], dim=0)\n",
    "elliptic_39_44_emb = torch.cat([embed(model, data) for data in elliptic_39_44], dim=0)\n",
    "elliptic_44_49_emb = torch.cat([embed(model, data) for data in elliptic_44_49], dim=0)"
   ]
  },
  {
   "cell_type": "code",
   "execution_count": 12,
   "id": "7b3f670b",
   "metadata": {},
   "outputs": [],
   "source": [
    "elliptic_0_9_emb_sample = elliptic_0_9_emb[torch.randint(elliptic_0_9_emb.shape[0], (1000,))].detach().numpy()\n",
    "elliptic_9_14_emb_sample = elliptic_9_14_emb[torch.randint(elliptic_9_14_emb.shape[0], (1000,))].detach().numpy()\n",
    "elliptic_14_19_emb_sample = elliptic_14_19_emb[torch.randint(elliptic_14_19_emb.shape[0], (1000,))].detach().numpy()\n",
    "elliptic_19_24_emb_sample = elliptic_19_24_emb[torch.randint(elliptic_19_24_emb.shape[0], (1000,))].detach().numpy()\n",
    "elliptic_24_29_emb_sample = elliptic_24_29_emb[torch.randint(elliptic_24_29_emb.shape[0], (1000,))].detach().numpy()\n",
    "elliptic_29_34_emb_sample = elliptic_29_34_emb[torch.randint(elliptic_29_34_emb.shape[0], (1000,))].detach().numpy()\n",
    "elliptic_34_39_emb_sample = elliptic_34_39_emb[torch.randint(elliptic_34_39_emb.shape[0], (1000,))].detach().numpy()\n",
    "elliptic_39_44_emb_sample = elliptic_39_44_emb[torch.randint(elliptic_39_44_emb.shape[0], (1000,))].detach().numpy()\n",
    "elliptic_44_49_emb_sample = elliptic_44_49_emb[torch.randint(elliptic_44_49_emb.shape[0], (1000,))].detach().numpy()"
   ]
  },
  {
   "cell_type": "code",
   "execution_count": 25,
   "id": "088c07af",
   "metadata": {},
   "outputs": [],
   "source": [
    "from typing import List\n",
    "def pca_plot(sample_list: List[np.ndarray], label: List[str]):\n",
    "    color_list = ['tab:blue', 'tab:orange', 'tab:green', 'tab:purple', 'tab:pink', 'tab:olive', 'tab:cyan']\n",
    "    assert len(sample_list) <= len(color_list)\n",
    "    sample_num_list = [sample.shape[0] for sample in sample_list]\n",
    "    sample_list = np.concatenate(sample_list, axis=0)\n",
    "    pca = PCA(n_components=2)\n",
    "    print(\"Fitting pca\")\n",
    "    pca.fit(sample_list)\n",
    "    sample_list = pca.transform(sample_list)\n",
    "    \n",
    "    fig, ax = plt.subplots(1)\n",
    "    acc_num = 0\n",
    "    \n",
    "    for i, num in enumerate(sample_num_list):\n",
    "        ax.scatter(sample_list[acc_num:acc_num+num, 0], sample_list[acc_num:acc_num+num, 1], c=color_list[i], label=label[i])\n",
    "        acc_num += num\n",
    "    ax.legend()\n",
    "    fig.savefig(\"nodescatter.png\", dpi=400)\n",
    "    "
   ]
  },
  {
   "cell_type": "code",
   "execution_count": 26,
   "id": "66085ad8",
   "metadata": {},
   "outputs": [
    {
     "name": "stdout",
     "output_type": "stream",
     "text": [
      "Fitting pca\n"
     ]
    },
    {
     "data": {
      "image/png": "[encoded data removed]",
      "text/plain": [
       "<Figure size 640x480 with 1 Axes>"
      ]
     },
     "metadata": {},
     "output_type": "display_data"
    }
   ],
   "source": [
    "sample_list = [elliptic_0_9_emb_sample, elliptic_14_19_emb_sample, elliptic_24_29_emb_sample, elliptic_34_39_emb_sample, elliptic_44_49_emb_sample]\n",
    "pca_plot(sample_list, label=['1-9', '15-19', '25-29', '35-39', '45-49'])"
   ]
  },
  {
   "cell_type": "code",
   "execution_count": null,
   "id": "39bc3e5a",
   "metadata": {},
   "outputs": [],
   "source": []
  },
  {
   "cell_type": "code",
   "execution_count": 15,
   "id": "17bc2b6e",
   "metadata": {},
   "outputs": [],
   "source": [
    "cd = MMDDrift(elliptic_0_9_emb_sample, backend='pytorch', p_val=.05)\n"
   ]
  },
  {
   "cell_type": "code",
   "execution_count": 16,
   "id": "c976cc7e",
   "metadata": {},
   "outputs": [
    {
     "name": "stdout",
     "output_type": "stream",
     "text": [
      "Drift? False MMD^2: 0.0003337264060974121 p-val 0.14000000059604645\n"
     ]
    }
   ],
   "source": [
    "preds = cd.predict(elliptic_0_9_emb[torch.randint(elliptic_0_9_emb.shape[0], (1000,))].detach().numpy(), return_p_val=True, return_distance=True)\n",
    "print('Drift?', bool(preds['data']['is_drift']), 'MMD^2:', preds['data']['distance'], 'p-val', preds['data']['p_val'])"
   ]
  },
  {
   "cell_type": "code",
   "execution_count": 17,
   "id": "b0f55562",
   "metadata": {},
   "outputs": [
    {
     "name": "stdout",
     "output_type": "stream",
     "text": [
      "Drift? True MMD^2: 0.011447548866271973 p-val 0.0\n"
     ]
    }
   ],
   "source": [
    "preds = cd.predict(elliptic_9_14_emb_sample, return_p_val=True, return_distance=True)\n",
    "print('Drift?', bool(preds['data']['is_drift']), 'MMD^2:', preds['data']['distance'], 'p-val', preds['data']['p_val'])"
   ]
  },
  {
   "cell_type": "code",
   "execution_count": 18,
   "id": "3a444421",
   "metadata": {},
   "outputs": [
    {
     "name": "stdout",
     "output_type": "stream",
     "text": [
      "Drift? True MMD^2: 0.01737159490585327 p-val 0.0\n"
     ]
    }
   ],
   "source": [
    "preds = cd.predict(elliptic_14_19_emb_sample, return_p_val=True, return_distance=True)\n",
    "print('Drift?', bool(preds['data']['is_drift']), 'MMD^2:', preds['data']['distance'], 'p-val', preds['data']['p_val'])"
   ]
  },
  {
   "cell_type": "code",
   "execution_count": 19,
   "id": "422b23f5",
   "metadata": {},
   "outputs": [
    {
     "name": "stdout",
     "output_type": "stream",
     "text": [
      "Drift? True MMD^2: 0.025463461875915527 p-val 0.0\n"
     ]
    }
   ],
   "source": [
    "preds = cd.predict(elliptic_19_24_emb_sample, return_p_val=True, return_distance=True)\n",
    "print('Drift?', bool(preds['data']['is_drift']), 'MMD^2:', preds['data']['distance'], 'p-val', preds['data']['p_val'])"
   ]
  },
  {
   "cell_type": "code",
   "execution_count": 20,
   "id": "867bf1ce",
   "metadata": {},
   "outputs": [
    {
     "name": "stdout",
     "output_type": "stream",
     "text": [
      "Drift? True MMD^2: 0.03571760654449463 p-val 0.0\n"
     ]
    }
   ],
   "source": [
    "preds = cd.predict(elliptic_24_29_emb_sample, return_p_val=True, return_distance=True)\n",
    "print('Drift?', bool(preds['data']['is_drift']), 'MMD^2:', preds['data']['distance'], 'p-val', preds['data']['p_val'])"
   ]
  },
  {
   "cell_type": "code",
   "execution_count": 21,
   "id": "293667d6",
   "metadata": {},
   "outputs": [
    {
     "name": "stdout",
     "output_type": "stream",
     "text": [
      "Drift? True MMD^2: 0.06187903881072998 p-val 0.0\n"
     ]
    }
   ],
   "source": [
    "preds = cd.predict(elliptic_29_34_emb_sample, return_p_val=True, return_distance=True)\n",
    "print('Drift?', bool(preds['data']['is_drift']), 'MMD^2:', preds['data']['distance'], 'p-val', preds['data']['p_val'])"
   ]
  },
  {
   "cell_type": "code",
   "execution_count": 22,
   "id": "09fae2db",
   "metadata": {},
   "outputs": [
    {
     "name": "stdout",
     "output_type": "stream",
     "text": [
      "Drift? True MMD^2: 0.07301890850067139 p-val 0.0\n"
     ]
    }
   ],
   "source": [
    "preds = cd.predict(elliptic_34_39_emb_sample, return_p_val=True, return_distance=True)\n",
    "print('Drift?', bool(preds['data']['is_drift']), 'MMD^2:', preds['data']['distance'], 'p-val', preds['data']['p_val'])"
   ]
  },
  {
   "cell_type": "code",
   "execution_count": 23,
   "id": "36805ed7",
   "metadata": {},
   "outputs": [
    {
     "name": "stdout",
     "output_type": "stream",
     "text": [
      "Drift? True MMD^2: 0.08303546905517578 p-val 0.0\n"
     ]
    }
   ],
   "source": [
    "preds = cd.predict(elliptic_39_44_emb_sample, return_p_val=True, return_distance=True)\n",
    "print('Drift?', bool(preds['data']['is_drift']), 'MMD^2:', preds['data']['distance'], 'p-val', preds['data']['p_val'])"
   ]
  },
  {
   "cell_type": "code",
   "execution_count": 24,
   "id": "9273fddc",
   "metadata": {},
   "outputs": [
    {
     "name": "stdout",
     "output_type": "stream",
     "text": [
      "Drift? True MMD^2: 0.09810835123062134 p-val 0.0\n"
     ]
    }
   ],
   "source": [
    "preds = cd.predict(elliptic_44_49_emb_sample, return_p_val=True, return_distance=True)\n",
    "print('Drift?', bool(preds['data']['is_drift']), 'MMD^2:', preds['data']['distance'], 'p-val', preds['data']['p_val'])"
   ]
  },
  {
   "cell_type": "code",
   "execution_count": null,
   "id": "6df32b72",
   "metadata": {},
   "outputs": [],
   "source": []
  },
  {
   "cell_type": "code",
   "execution_count": null,
   "id": "da3e70c8",
   "metadata": {},
   "outputs": [],
   "source": []
  }
 ],
 "metadata": {
  "kernelspec": {
   "display_name": "Python 3 (ipykernel)",
   "language": "python",
   "name": "python3"
  },
  "language_info": {
   "codemirror_mode": {
    "name": "ipython",
    "version": 3
   },
   "file_extension": ".py",
   "mimetype": "text/x-python",
   "name": "python",
   "nbconvert_exporter": "python",
   "pygments_lexer": "ipython3",
   "version": "3.8.0"
  }
 },
 "nbformat": 4,
 "nbformat_minor": 5
}
