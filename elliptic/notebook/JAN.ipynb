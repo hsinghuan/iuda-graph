{
 "cells": [
  {
   "cell_type": "code",
   "execution_count": 1,
   "id": "de8cb502",
   "metadata": {},
   "outputs": [],
   "source": [
    "import numpy as np\n",
    "from copy import deepcopy\n",
    "from tqdm import tqdm\n",
    "import random\n",
    "from typing import Any, Tuple, Optional, Sequence"
   ]
  },
  {
   "cell_type": "code",
   "execution_count": 2,
   "id": "e860f12d",
   "metadata": {},
   "outputs": [
    {
     "name": "stderr",
     "output_type": "stream",
     "text": [
      "/home/hhchung/dyngraph-uda/.venv/lib/python3.8/site-packages/tqdm/auto.py:22: TqdmWarning: IProgress not found. Please update jupyter and ipywidgets. See https://ipywidgets.readthedocs.io/en/stable/user_install.html\n",
      "  from .autonotebook import tqdm as notebook_tqdm\n"
     ]
    }
   ],
   "source": [
    "import torch\n",
    "import torch.nn as nn\n",
    "import torch.nn.functional as F\n",
    "from torch.utils.tensorboard import SummaryWriter\n",
    "from torch_geometric.nn import SAGEConv\n",
    "from torch_geometric.loader import DataLoader\n",
    "from torch.autograd import Function"
   ]
  },
  {
   "cell_type": "code",
   "execution_count": 3,
   "id": "e72e5903",
   "metadata": {},
   "outputs": [],
   "source": [
    "from sklearn.metrics import f1_score"
   ]
  },
  {
   "cell_type": "code",
   "execution_count": 4,
   "id": "e88b8f08",
   "metadata": {},
   "outputs": [],
   "source": [
    "from dataset import load_nc_dataset"
   ]
  },
  {
   "cell_type": "code",
   "execution_count": 5,
   "id": "61fe5e3d",
   "metadata": {},
   "outputs": [],
   "source": [
    "import matplotlib.pyplot as plt"
   ]
  },
  {
   "cell_type": "code",
   "execution_count": 6,
   "id": "1cd60e2f",
   "metadata": {},
   "outputs": [],
   "source": [
    "random_seed = 42\n",
    "torch.manual_seed(random_seed)\n",
    "torch.cuda.manual_seed(random_seed)\n",
    "torch.backends.cudnn.deterministic = True\n",
    "torch.backends.cudnn.benchmark = False\n",
    "np.random.seed(random_seed)\n",
    "random.seed(random_seed)"
   ]
  },
  {
   "cell_type": "markdown",
   "id": "2585e964",
   "metadata": {},
   "source": [
    "## Model Structure ##"
   ]
  },
  {
   "cell_type": "code",
   "execution_count": 7,
   "id": "aa5669cd",
   "metadata": {},
   "outputs": [],
   "source": [
    "class TwoLayerGraphSAGE(nn.Module):\n",
    "    def __init__(self, in_dim, hidden_dim, out_dim, dropout=0.2):\n",
    "        super().__init__()\n",
    "        self.dropout = dropout\n",
    "        self.conv1 = SAGEConv(in_dim, hidden_dim)\n",
    "        self.conv2 = SAGEConv(hidden_dim, out_dim)\n",
    "        \n",
    "    def forward(self, x, edge_index):\n",
    "        x = self.conv1(x, edge_index)\n",
    "        x = F.elu(x)\n",
    "        x = F.dropout(x, p=self.dropout)\n",
    "        \n",
    "        x = self.conv2(x, edge_index)\n",
    "        x = F.elu(x)\n",
    "        return x\n",
    "    \n",
    "class MLPHead(nn.Module):\n",
    "    def __init__(self, in_dim, hidden_dim, out_dim, dropout=0.2):\n",
    "        super().__init__()\n",
    "        self.dropout = dropout\n",
    "        self.linear1 = nn.Linear(in_dim, hidden_dim)\n",
    "        self.linear2 = nn.Linear(hidden_dim, out_dim)\n",
    "    \n",
    "    def forward(self, x):\n",
    "        x1 = self.linear1(x)\n",
    "        x1 = F.elu(x1)\n",
    "        x1 = F.dropout(x1, p=self.dropout)\n",
    "        output = self.linear2(x1)\n",
    "        # x = F.softmax(x, dim=1)\n",
    "        features = x1\n",
    "        return output, features\n"
   ]
  },
  {
   "cell_type": "code",
   "execution_count": 8,
   "id": "2503a60f",
   "metadata": {},
   "outputs": [],
   "source": [
    "class GaussianKernel(nn.Module):\n",
    "    r\"\"\"Gaussian Kernel Matrix\n",
    "    Gaussian Kernel k is defined by\n",
    "    .. math::\n",
    "        k(x_1, x_2) = \\exp \\left( - \\dfrac{\\| x_1 - x_2 \\|^2}{2\\sigma^2} \\right)\n",
    "    where :math:`x_1, x_2 \\in R^d` are 1-d tensors.\n",
    "    Gaussian Kernel Matrix K is defined on input group :math:`X=(x_1, x_2, ..., x_m),`\n",
    "    .. math::\n",
    "        K(X)_{i,j} = k(x_i, x_j)\n",
    "    Also by default, during training this layer keeps running estimates of the\n",
    "    mean of L2 distances, which are then used to set hyperparameter  :math:`\\sigma`.\n",
    "    Mathematically, the estimation is :math:`\\sigma^2 = \\dfrac{\\alpha}{n^2}\\sum_{i,j} \\| x_i - x_j \\|^2`.\n",
    "    If :attr:`track_running_stats` is set to ``False``, this layer then does not\n",
    "    keep running estimates, and use a fixed :math:`\\sigma` instead.\n",
    "    Args:\n",
    "        sigma (float, optional): bandwidth :math:`\\sigma`. Default: None\n",
    "        track_running_stats (bool, optional): If ``True``, this module tracks the running mean of :math:`\\sigma^2`.\n",
    "          Otherwise, it won't track such statistics and always uses fix :math:`\\sigma^2`. Default: ``True``\n",
    "        alpha (float, optional): :math:`\\alpha` which decides the magnitude of :math:`\\sigma^2` when track_running_stats is set to ``True``\n",
    "    Inputs:\n",
    "        - X (tensor): input group :math:`X`\n",
    "    Shape:\n",
    "        - Inputs: :math:`(minibatch, F)` where F means the dimension of input features.\n",
    "        - Outputs: :math:`(minibatch, minibatch)`\n",
    "    \"\"\"\n",
    "\n",
    "    def __init__(self, sigma: Optional[float] = None, track_running_stats: Optional[bool] = True,\n",
    "                 alpha: Optional[float] = 1.):\n",
    "        super(GaussianKernel, self).__init__()\n",
    "        assert track_running_stats or sigma is not None\n",
    "        self.sigma_square = torch.tensor(sigma * sigma) if sigma is not None else None\n",
    "        self.track_running_stats = track_running_stats\n",
    "        self.alpha = alpha\n",
    "\n",
    "    def forward(self, X: torch.Tensor) -> torch.Tensor:\n",
    "        l2_distance_square = ((X.unsqueeze(0) - X.unsqueeze(1)) ** 2).sum(2)\n",
    "\n",
    "        if self.track_running_stats:\n",
    "            self.sigma_square = self.alpha * torch.mean(l2_distance_square.detach())\n",
    "\n",
    "        return torch.exp(-l2_distance_square / (2 * self.sigma_square))\n",
    "    \n",
    "class JointMultipleKernelMaximumMeanDiscrepancy(nn.Module):\n",
    "    r\"\"\"\n",
    "    Args:\n",
    "        kernels (tuple(tuple(torch.nn.Module))): kernel functions, where `kernels[r]` corresponds to kernel :math:`k^{\\mathcal{L}[r]}`.\n",
    "        linear (bool): whether use the linear version of JAN. Default: False\n",
    "        thetas (list(Theta): use adversarial version JAN if not None. Default: None\n",
    "    Inputs:\n",
    "        - z_s (tuple(tensor)): multiple layers' activations from the source domain, :math:`z^s`\n",
    "        - z_t (tuple(tensor)): multiple layers' activations from the target domain, :math:`z^t`\n",
    "    Shape:\n",
    "        - :math:`z^{sl}` and :math:`z^{tl}`: :math:`(minibatch, *)`  where * means any dimension\n",
    "        - Outputs: scalar\n",
    "    .. note::\n",
    "        Activations :math:`z^{sl}` and :math:`z^{tl}` must have the same shape.\n",
    "    .. note::\n",
    "        The kernel values will add up when there are multiple kernels for a certain layer.\n",
    "    Examples::\n",
    "        >>> feature_dim = 1024\n",
    "        >>> batch_size = 10\n",
    "        >>> layer1_kernels = (GaussianKernel(alpha=0.5), GaussianKernel(1.), GaussianKernel(2.))\n",
    "        >>> layer2_kernels = (GaussianKernel(1.), )\n",
    "        >>> loss = JointMultipleKernelMaximumMeanDiscrepancy((layer1_kernels, layer2_kernels))\n",
    "        >>> # layer1 features from source domain and target domain\n",
    "        >>> z1_s, z1_t = torch.randn(batch_size, feature_dim), torch.randn(batch_size, feature_dim)\n",
    "        >>> # layer2 features from source domain and target domain\n",
    "        >>> z2_s, z2_t = torch.randn(batch_size, feature_dim), torch.randn(batch_size, feature_dim)\n",
    "        >>> output = loss((z1_s, z2_s), (z1_t, z2_t))\n",
    "    \"\"\"\n",
    "\n",
    "    def __init__(self, kernels: Sequence[Sequence[nn.Module]], linear: Optional[bool] = True, thetas: Sequence[nn.Module] = None):\n",
    "        super(JointMultipleKernelMaximumMeanDiscrepancy, self).__init__()\n",
    "        self.kernels = kernels\n",
    "        self.index_matrix = None\n",
    "        self.linear = linear\n",
    "        if thetas:\n",
    "            self.thetas = thetas\n",
    "        else:\n",
    "            self.thetas = [nn.Identity() for _ in kernels]\n",
    "\n",
    "    def forward(self, z_s: torch.Tensor, z_t: torch.Tensor) -> torch.Tensor:\n",
    "        batch_size = int(z_s[0].size(0))\n",
    "        self.index_matrix = _update_index_matrix(batch_size, self.index_matrix, self.linear).to(z_s[0].device)\n",
    "\n",
    "        kernel_matrix = torch.ones_like(self.index_matrix)\n",
    "        for layer_z_s, layer_z_t, layer_kernels, theta in zip(z_s, z_t, self.kernels, self.thetas):\n",
    "            layer_features = torch.cat([layer_z_s, layer_z_t], dim=0)\n",
    "            layer_features = theta(layer_features)\n",
    "            kernel_matrix *= sum(\n",
    "                [kernel(layer_features) for kernel in layer_kernels])  # Add up the matrix of each kernel\n",
    "\n",
    "        # Add 2 / (n-1) to make up for the value on the diagonal\n",
    "        # to ensure loss is positive in the non-linear version\n",
    "        loss = (kernel_matrix * self.index_matrix).sum() + 2. / float(batch_size - 1)\n",
    "        return loss\n",
    "\n",
    "def _update_index_matrix(batch_size: int, index_matrix: Optional[torch.Tensor] = None,\n",
    "                         linear: Optional[bool] = True) -> torch.Tensor:\n",
    "    r\"\"\"\n",
    "    Update the `index_matrix` which convert `kernel_matrix` to loss.\n",
    "    If `index_matrix` is a tensor with shape (2 x batch_size, 2 x batch_size), then return `index_matrix`.\n",
    "    Else return a new tensor with shape (2 x batch_size, 2 x batch_size).\n",
    "    \"\"\"\n",
    "    if index_matrix is None or index_matrix.size(0) != batch_size * 2:\n",
    "        index_matrix = torch.zeros(2 * batch_size, 2 * batch_size)\n",
    "        if linear:\n",
    "            for i in range(batch_size):\n",
    "                s1, s2 = i, (i + 1) % batch_size\n",
    "                t1, t2 = s1 + batch_size, s2 + batch_size\n",
    "                index_matrix[s1, s2] = 1. / float(batch_size)\n",
    "                index_matrix[t1, t2] = 1. / float(batch_size)\n",
    "                index_matrix[s1, t2] = -1. / float(batch_size)\n",
    "                index_matrix[s2, t1] = -1. / float(batch_size)\n",
    "        else:\n",
    "            for i in range(batch_size):\n",
    "                for j in range(batch_size):\n",
    "                    if i != j:\n",
    "                        index_matrix[i][j] = 1. / float(batch_size * (batch_size - 1))\n",
    "                        index_matrix[i + batch_size][j + batch_size] = 1. / float(batch_size * (batch_size - 1))\n",
    "            for i in range(batch_size):\n",
    "                for j in range(batch_size):\n",
    "                    index_matrix[i][j + batch_size] = -1. / float(batch_size * batch_size)\n",
    "                    index_matrix[i + batch_size][j] = -1. / float(batch_size * batch_size)\n",
    "    return index_matrix\n",
    "    \n",
    "class Theta(nn.Module):\n",
    "    \"\"\"\n",
    "    maximize loss respect to :math:`\\theta`\n",
    "    minimize loss respect to features\n",
    "    \"\"\"\n",
    "    def __init__(self, dim: int):\n",
    "        super(Theta, self).__init__()\n",
    "        self.grl1 = GradientReverseLayer()\n",
    "        self.grl2 = GradientReverseLayer()\n",
    "        self.layer1 = nn.Linear(dim, dim)\n",
    "        nn.init.eye_(self.layer1.weight)\n",
    "        nn.init.zeros_(self.layer1.bias)\n",
    "\n",
    "    def forward(self, features: torch.Tensor) -> torch.Tensor:\n",
    "        features = self.grl1(features)\n",
    "        return self.grl2(self.layer1(features))\n"
   ]
  },
  {
   "cell_type": "markdown",
   "id": "8f8a4884",
   "metadata": {},
   "source": [
    "## Data Preparation ##"
   ]
  },
  {
   "cell_type": "markdown",
   "id": "c3195bdf",
   "metadata": {},
   "source": [
    "* Train: 0-6\n",
    "* Val: 7, 8\n",
    "* Test and adapt: 9-13, 14-18, 19-23, 24-28, 29-33, 34-38, 39-43, 44-48"
   ]
  },
  {
   "cell_type": "code",
   "execution_count": 9,
   "id": "6d3f3d06",
   "metadata": {},
   "outputs": [],
   "source": [
    "def get_data(data_dir, dataset, sub_dataset=None):\n",
    "    if dataset == 'elliptic':\n",
    "        data = load_nc_dataset(data_dir, 'elliptic', sub_dataset)\n",
    "    else:\n",
    "        raise ValueError('Invalid dataname')\n",
    "    # if len(data.y.shape) == 1:\n",
    "    #     data.y = data.y.unsqueeze(1)\n",
    "    return data"
   ]
  },
  {
   "cell_type": "code",
   "execution_count": 10,
   "id": "1e2e981c",
   "metadata": {},
   "outputs": [],
   "source": [
    "data_dir = '/home/hhchung/data/graph-data/elliptic_bitcoin_dataset'"
   ]
  },
  {
   "cell_type": "markdown",
   "id": "75ca0a5c",
   "metadata": {},
   "source": [
    "## Train / Test / Adapt Loop ##"
   ]
  },
  {
   "cell_type": "code",
   "execution_count": 11,
   "id": "b1a89c6f",
   "metadata": {},
   "outputs": [],
   "source": [
    "def train(encoder, mlp, optimizer, loader, loss_fn, device='cpu'):\n",
    "    encoder.train()\n",
    "    mlp.train()\n",
    "    optimizer.zero_grad()\n",
    "    \n",
    "    total_train_loss = 0\n",
    "    for data in loader:\n",
    "        data = data.to(device)\n",
    "        out, _ = mlp(encoder(data.x, data.edge_index))\n",
    "        loss = loss_fn(out[data.mask], data.y[data.mask])\n",
    "        loss.backward()\n",
    "        optimizer.step()\n",
    "        total_train_loss += loss.item()\n",
    "    \n",
    "    total_train_loss /= len(loader)\n",
    "    return total_train_loss\n",
    "\n",
    "@torch.no_grad()\n",
    "def test(encoder, mlp, loader, loss_fn, device='cpu'):\n",
    "    encoder.eval()\n",
    "    mlp.eval()\n",
    "    total_val_loss = 0\n",
    "    total_f1 = 0\n",
    "    for data in loader:\n",
    "        data = data.to(device)\n",
    "        out, _ = mlp(encoder(data.x, data.edge_index))\n",
    "        loss = loss_fn(out[data.mask], data.y[data.mask])\n",
    "        y_pred = torch.argmax(out, dim=1)\n",
    "        f1 = f1_score(y_pred[data.mask].detach().cpu().numpy(), data.y[data.mask].detach().cpu().numpy())\n",
    "        total_val_loss += loss.item()\n",
    "        total_f1 += f1\n",
    "    total_val_loss /= len(loader)\n",
    "    total_f1 /= len(loader)\n",
    "    return total_val_loss, total_f1\n",
    "\n"
   ]
  },
  {
   "cell_type": "code",
   "execution_count": 12,
   "id": "38fce16d",
   "metadata": {},
   "outputs": [],
   "source": [
    "def minibatch_jmmd(jmmd_loss, src_f, src_y, tgt_f, tgt_y, batch_size=256):\n",
    "    src_loader = torch.utils.data.DataLoader(tuple(zip(list(src_f), list(src_y))), batch_size=batch_size, shuffle=True)\n",
    "    tgt_loader = torch.utils.data.DataLoader(tuple(zip(list(tgt_f), list(tgt_y))), batch_size=batch_size, shuffle=True)\n",
    "    src_iter = iter(src_loader)\n",
    "    tgt_iter = iter(tgt_loader)\n",
    "    len_dataloader = min(len(src_loader), len(tgt_loader))\n",
    "    \n",
    "    total_transfer_loss = 0\n",
    "    for i in range(len_dataloader):\n",
    "        src_f, src_y = src_iter.next()\n",
    "        tgt_f, tgt_y = tgt_iter.next()\n",
    "        if src_f.shape[0] != tgt_f.shape[0]:\n",
    "            break\n",
    "        \n",
    "        # if src_f.shape[0] < tgt_f.shape[0]:\n",
    "        #     src_iter = iter(src_loader)\n",
    "        #     src_f, src_y = src_iter.next()\n",
    "        # else:\n",
    "        #     tgt_iter = iter(tgt_loader)\n",
    "        #     tgt_f, tgt_y = tgt_iter.next()\n",
    "            \n",
    "        total_transfer_loss += jmmd_loss((src_f, F.softmax(src_y, dim=1)), (tgt_f, F.softmax(tgt_y, dim=1)))\n",
    "    \n",
    "    return total_transfer_loss / len_dataloader\n",
    "    \n",
    "\n",
    "def adapt(encoder, classifier, jmmd_loss, device, src_loader, tgt_loader, optimizer, e, epochs, lambda_coeff):\n",
    "    encoder.train()\n",
    "    classifier.train()\n",
    "    jmmd_loss.train()\n",
    "    len_dataloader = min(len(src_loader), len(tgt_loader))\n",
    "    # len_dataloader = max(len(src_loader), len(tgt_loader))\n",
    "    src_iter = iter(src_loader)\n",
    "    tgt_iter = iter(tgt_loader)\n",
    "    \n",
    "    total_loss = 0\n",
    "    total_cls_loss = 0\n",
    "    total_transfer_loss = 0\n",
    "    total_src_data_size = 0\n",
    "    \n",
    "    for i in tqdm(range(len_dataloader)):\n",
    "        # try:\n",
    "        src_data = src_iter.next().to(device)\n",
    "        # except:\n",
    "        #     src_iter = iter(src_loader)\n",
    "        #     src_data = src_iter.next().to(device)\n",
    "            \n",
    "        # try:\n",
    "        tgt_data = tgt_iter.next().to(device)\n",
    "        # except:\n",
    "        #     tgt_iter = iter(tgt_loader)\n",
    "        #     tgt_data = tgt_iter.next().to(device)\n",
    "        \n",
    "        src_y, src_f = classifier(encoder(src_data.x, src_data.edge_index))\n",
    "        tgt_y, tgt_f = classifier(encoder(tgt_data.x, tgt_data.edge_index))\n",
    "        cls_loss = F.nll_loss(F.log_softmax(src_y[src_data.mask], dim=1), src_data.y[src_data.mask])\n",
    "        # transfer_loss = jmmd_loss((src_f, F.softmax(src_y, dim=1)), (tgt_f, F.softmax(tgt_y, dim=1)))\n",
    "        transfer_loss = minibatch_jmmd(jmmd_loss, src_f, src_y, tgt_f, tgt_y)\n",
    "        loss = cls_loss + transfer_loss * lambda_coeff\n",
    "        \n",
    "        optimizer.zero_grad()\n",
    "        loss.backward()\n",
    "        optimizer.step()\n",
    "        \n",
    "        total_loss += loss.item() * src_data.x.size(0)\n",
    "        total_cls_loss += cls_loss.item() * src_data.x.size(0)\n",
    "        total_transfer_loss += transfer_loss.item() * src_data.x.size(0)\n",
    "        total_src_data_size += src_data.x.size(0)\n",
    "    \n",
    "    total_loss /= total_src_data_size\n",
    "    total_cls_loss /= total_src_data_size\n",
    "    total_transfer_loss /= total_src_data_size\n",
    "    return total_loss, total_cls_loss, total_transfer_loss\n",
    "    \n",
    "@torch.no_grad()\n",
    "def adapt_test(encoder, classifier, jmmd_loss, device, src_loader, tgt_loader, e, epochs, lambda_coeff):\n",
    "    encoder.eval()\n",
    "    classifier.eval()\n",
    "    jmmd_loss.eval()\n",
    "    len_dataloader = min(len(src_loader), len(tgt_loader))\n",
    "    src_iter = iter(src_loader)\n",
    "    tgt_iter = iter(tgt_loader)\n",
    "    \n",
    "    total_loss = 0\n",
    "    total_cls_loss = 0\n",
    "    total_transfer_loss = 0\n",
    "    total_src_data_size = 0\n",
    "    \n",
    "    for i in tqdm(range(len_dataloader)):\n",
    "        src_data = src_iter.next().to(device)\n",
    "        \n",
    "        tgt_data = tgt_iter.next().to(device)\n",
    "        \n",
    "        src_y, src_f = classifier(encoder(src_data.x, src_data.edge_index))\n",
    "        tgt_y, tgt_f = classifier(encoder(tgt_data.x, tgt_data.edge_index))\n",
    "        cls_loss = F.nll_loss(F.log_softmax(src_y[src_data.mask], dim=1), src_data.y[src_data.mask])\n",
    "        # transfer_loss = jmmd_loss((src_f, F.softmax(src_y, dim=1)), (tgt_f, F.softmax(tgt_y, dim=1)))\n",
    "        transfer_loss = minibatch_jmmd(jmmd_loss, src_f, src_y, tgt_f, tgt_y)\n",
    "        loss = cls_loss + transfer_loss * lambda_coeff\n",
    "        \n",
    "        \n",
    "        total_loss += loss.item() * src_data.x.size(0)\n",
    "        total_cls_loss += cls_loss.item() * src_data.x.size(0)\n",
    "        total_transfer_loss += transfer_loss.item() * src_data.x.size(0)\n",
    "        total_src_data_size += src_data.x.size(0)\n",
    "    \n",
    "    total_loss /= total_src_data_size\n",
    "    total_cls_loss /= total_src_data_size\n",
    "    total_transfer_loss /= total_src_data_size\n",
    "    return total_loss, total_cls_loss, total_transfer_loss\n",
    "    \n"
   ]
  },
  {
   "cell_type": "markdown",
   "id": "0598cced",
   "metadata": {},
   "source": [
    "## Initial Source Stage ##"
   ]
  },
  {
   "cell_type": "code",
   "execution_count": 13,
   "id": "d96f484e",
   "metadata": {},
   "outputs": [
    {
     "name": "stderr",
     "output_type": "stream",
     "text": [
      "/home/hhchung/dyngraph-uda/elliptic/dataset.py:75: UserWarning: Creating a tensor from a list of numpy.ndarrays is extremely slow. Please consider converting the list to a single numpy.ndarray with numpy.array() before converting to a tensor. (Triggered internally at  ../torch/csrc/utils/tensor_new.cpp:201.)\n",
      "  edge_index = torch.tensor(A.nonzero(), dtype=torch.long)\n"
     ]
    }
   ],
   "source": [
    "elliptic_0 = get_data(data_dir, 'elliptic', 0)\n",
    "feat_dim = elliptic_0.x.shape[1]\n",
    "hidden_dim = 128\n",
    "emb_dim = 128\n",
    "encoder = TwoLayerGraphSAGE(feat_dim, hidden_dim, emb_dim)\n",
    "mlp = MLPHead(emb_dim, emb_dim // 4, 2)\n",
    "\n",
    "loss_fn = nn.CrossEntropyLoss()\n",
    "optimizer = torch.optim.Adam(list(encoder.parameters()) + list(mlp.parameters()), lr=1e-3)\n",
    "epochs = 500\n",
    "device = torch.device('cuda' if torch.cuda.is_available() else 'cpu')\n",
    "encoder = encoder.to(device)\n",
    "mlp = mlp.to(device)"
   ]
  },
  {
   "cell_type": "code",
   "execution_count": 14,
   "id": "6c2f7706",
   "metadata": {
    "scrolled": true
   },
   "outputs": [],
   "source": [
    "split = [0,7,9]\n",
    "train_data = [get_data(data_dir, 'elliptic', i) for i in range(split[0],split[1])]\n",
    "val_data = [get_data(data_dir, 'elliptic', i) for i in range(split[1],split[2])]\n",
    "train_loader = DataLoader(dataset=train_data, batch_size=1, shuffle=True)\n",
    "val_loader = DataLoader(dataset=val_data, batch_size=1, shuffle=False)"
   ]
  },
  {
   "cell_type": "code",
   "execution_count": 15,
   "id": "f7671fb6",
   "metadata": {},
   "outputs": [
    {
     "name": "stdout",
     "output_type": "stream",
     "text": [
      "Epoch:1/500 Train Loss:0.3965 Val Loss:0.4848 Val F1:0.0039\n",
      "Epoch:2/500 Train Loss:0.1371 Val Loss:0.6459 Val F1:0.004\n",
      "Epoch:3/500 Train Loss:0.0979 Val Loss:0.8028 Val F1:0.0079\n",
      "Epoch:4/500 Train Loss:0.1012 Val Loss:0.5666 Val F1:0.1328\n",
      "Epoch:5/500 Train Loss:0.0833 Val Loss:0.3005 Val F1:0.5841\n",
      "Epoch:6/500 Train Loss:0.0839 Val Loss:0.2747 Val F1:0.5738\n",
      "Epoch:7/500 Train Loss:0.0655 Val Loss:0.4344 Val F1:0.1344\n",
      "Epoch:8/500 Train Loss:0.0721 Val Loss:0.5049 Val F1:0.0841\n",
      "Epoch:9/500 Train Loss:0.0682 Val Loss:0.3919 Val F1:0.1701\n",
      "Epoch:10/500 Train Loss:0.0585 Val Loss:0.2602 Val F1:0.5697\n",
      "Epoch:11/500 Train Loss:0.06 Val Loss:0.2372 Val F1:0.6526\n",
      "Epoch:12/500 Train Loss:0.0514 Val Loss:0.2533 Val F1:0.589\n",
      "Epoch:13/500 Train Loss:0.0478 Val Loss:0.2584 Val F1:0.5856\n",
      "Epoch:14/500 Train Loss:0.0441 Val Loss:0.2189 Val F1:0.6512\n",
      "Epoch:15/500 Train Loss:0.0428 Val Loss:0.2107 Val F1:0.6396\n",
      "Epoch:16/500 Train Loss:0.0386 Val Loss:0.2036 Val F1:0.6899\n",
      "Epoch:17/500 Train Loss:0.0388 Val Loss:0.2035 Val F1:0.6948\n",
      "Epoch:18/500 Train Loss:0.0366 Val Loss:0.2046 Val F1:0.6931\n",
      "Epoch:19/500 Train Loss:0.0361 Val Loss:0.1899 Val F1:0.7406\n",
      "Epoch:20/500 Train Loss:0.0343 Val Loss:0.1802 Val F1:0.755\n",
      "Epoch:21/500 Train Loss:0.0332 Val Loss:0.1937 Val F1:0.7297\n",
      "Epoch:22/500 Train Loss:0.0327 Val Loss:0.1972 Val F1:0.6844\n",
      "Epoch:23/500 Train Loss:0.0306 Val Loss:0.1824 Val F1:0.7498\n",
      "Epoch:24/500 Train Loss:0.0289 Val Loss:0.1776 Val F1:0.7691\n",
      "Epoch:25/500 Train Loss:0.0278 Val Loss:0.1888 Val F1:0.7144\n",
      "Epoch:26/500 Train Loss:0.0269 Val Loss:0.1989 Val F1:0.7328\n",
      "Epoch:27/500 Train Loss:0.0252 Val Loss:0.1844 Val F1:0.7505\n",
      "Epoch:28/500 Train Loss:0.0273 Val Loss:0.2125 Val F1:0.6903\n",
      "Epoch:29/500 Train Loss:0.0248 Val Loss:0.1965 Val F1:0.7231\n",
      "Epoch:30/500 Train Loss:0.024 Val Loss:0.1972 Val F1:0.7359\n",
      "Epoch:31/500 Train Loss:0.0243 Val Loss:0.2204 Val F1:0.695\n",
      "Epoch:32/500 Train Loss:0.0237 Val Loss:0.1968 Val F1:0.7621\n",
      "Epoch:33/500 Train Loss:0.025 Val Loss:0.1888 Val F1:0.7576\n",
      "Epoch:34/500 Train Loss:0.0229 Val Loss:0.195 Val F1:0.7233\n",
      "Epoch:35/500 Train Loss:0.0237 Val Loss:0.218 Val F1:0.7139\n",
      "Epoch:36/500 Train Loss:0.0211 Val Loss:0.2226 Val F1:0.7265\n",
      "Epoch:37/500 Train Loss:0.0228 Val Loss:0.2192 Val F1:0.7062\n",
      "Epoch:38/500 Train Loss:0.0276 Val Loss:0.2085 Val F1:0.7356\n",
      "Epoch:39/500 Train Loss:0.028 Val Loss:0.1871 Val F1:0.7707\n",
      "Epoch:40/500 Train Loss:0.0189 Val Loss:0.3405 Val F1:0.5984\n",
      "Epoch:41/500 Train Loss:0.0411 Val Loss:0.2425 Val F1:0.7074\n",
      "Epoch:42/500 Train Loss:0.0574 Val Loss:0.3525 Val F1:0.6002\n",
      "Epoch:43/500 Train Loss:0.0967 Val Loss:0.8221 Val F1:0.2175\n",
      "Epoch:44/500 Train Loss:0.0806 Val Loss:0.4588 Val F1:0.2649\n",
      "Epoch:45/500 Train Loss:0.0721 Val Loss:0.2864 Val F1:0.4609\n",
      "Epoch:46/500 Train Loss:0.0609 Val Loss:0.3894 Val F1:0.389\n",
      "Epoch:47/500 Train Loss:0.0486 Val Loss:0.3812 Val F1:0.5189\n",
      "Epoch:48/500 Train Loss:0.0447 Val Loss:0.2474 Val F1:0.7259\n",
      "Epoch:49/500 Train Loss:0.0591 Val Loss:0.1963 Val F1:0.7391\n",
      "Epoch:50/500 Train Loss:0.0287 Val Loss:0.295 Val F1:0.5588\n",
      "Epoch:51/500 Train Loss:0.0384 Val Loss:0.2638 Val F1:0.5976\n",
      "Epoch:52/500 Train Loss:0.0277 Val Loss:0.185 Val F1:0.6881\n",
      "Epoch:53/500 Train Loss:0.0245 Val Loss:0.1703 Val F1:0.7399\n",
      "Epoch:54/500 Train Loss:0.0237 Val Loss:0.1779 Val F1:0.7289\n",
      "Epoch:55/500 Train Loss:0.0214 Val Loss:0.208 Val F1:0.7039\n",
      "Epoch:56/500 Train Loss:0.0201 Val Loss:0.1955 Val F1:0.7183\n",
      "Epoch:57/500 Train Loss:0.0178 Val Loss:0.1954 Val F1:0.7305\n",
      "Epoch:58/500 Train Loss:0.0187 Val Loss:0.1823 Val F1:0.7379\n",
      "Epoch:59/500 Train Loss:0.0176 Val Loss:0.1853 Val F1:0.753\n",
      "Epoch:60/500 Train Loss:0.0157 Val Loss:0.1856 Val F1:0.7531\n",
      "Epoch:61/500 Train Loss:0.0148 Val Loss:0.1979 Val F1:0.7434\n",
      "Epoch:62/500 Train Loss:0.0147 Val Loss:0.2002 Val F1:0.7085\n",
      "Epoch:63/500 Train Loss:0.0152 Val Loss:0.1989 Val F1:0.7728\n",
      "Epoch:64/500 Train Loss:0.0136 Val Loss:0.1922 Val F1:0.7494\n",
      "Epoch:65/500 Train Loss:0.0126 Val Loss:0.2056 Val F1:0.7122\n",
      "Epoch:66/500 Train Loss:0.0128 Val Loss:0.1989 Val F1:0.7445\n",
      "Epoch:67/500 Train Loss:0.0132 Val Loss:0.2034 Val F1:0.7566\n",
      "Epoch:68/500 Train Loss:0.0123 Val Loss:0.2111 Val F1:0.7473\n",
      "Epoch:69/500 Train Loss:0.0119 Val Loss:0.2279 Val F1:0.7145\n",
      "Epoch:70/500 Train Loss:0.0125 Val Loss:0.2078 Val F1:0.7172\n",
      "Epoch:71/500 Train Loss:0.0102 Val Loss:0.2256 Val F1:0.7196\n",
      "Epoch:72/500 Train Loss:0.0109 Val Loss:0.2212 Val F1:0.7545\n",
      "Epoch:73/500 Train Loss:0.0094 Val Loss:0.2062 Val F1:0.7777\n",
      "Epoch:74/500 Train Loss:0.0103 Val Loss:0.226 Val F1:0.7375\n",
      "Epoch:75/500 Train Loss:0.0102 Val Loss:0.2305 Val F1:0.7093\n",
      "Epoch:76/500 Train Loss:0.0105 Val Loss:0.2206 Val F1:0.7594\n",
      "Epoch:77/500 Train Loss:0.0124 Val Loss:0.2258 Val F1:0.7685\n",
      "Epoch:78/500 Train Loss:0.0103 Val Loss:0.2526 Val F1:0.7306\n",
      "Epoch:79/500 Train Loss:0.0108 Val Loss:0.2257 Val F1:0.7395\n",
      "Epoch:80/500 Train Loss:0.0082 Val Loss:0.2173 Val F1:0.7807\n",
      "Epoch:81/500 Train Loss:0.008 Val Loss:0.2387 Val F1:0.7386\n",
      "Epoch:82/500 Train Loss:0.0101 Val Loss:0.2448 Val F1:0.7239\n",
      "Epoch:83/500 Train Loss:0.0129 Val Loss:0.2773 Val F1:0.6939\n",
      "Epoch:84/500 Train Loss:0.0104 Val Loss:0.2479 Val F1:0.7565\n",
      "Epoch:85/500 Train Loss:0.0095 Val Loss:0.24 Val F1:0.743\n",
      "Epoch:86/500 Train Loss:0.0085 Val Loss:0.2565 Val F1:0.7463\n",
      "Epoch:87/500 Train Loss:0.0083 Val Loss:0.2548 Val F1:0.7345\n",
      "Epoch:88/500 Train Loss:0.0079 Val Loss:0.2174 Val F1:0.7594\n",
      "Epoch:89/500 Train Loss:0.0113 Val Loss:0.245 Val F1:0.7423\n",
      "Epoch:90/500 Train Loss:0.0088 Val Loss:0.2844 Val F1:0.7157\n",
      "Epoch:91/500 Train Loss:0.0095 Val Loss:0.269 Val F1:0.7221\n",
      "Epoch:92/500 Train Loss:0.0088 Val Loss:0.2699 Val F1:0.7512\n",
      "Epoch:93/500 Train Loss:0.0123 Val Loss:0.2553 Val F1:0.7505\n",
      "Epoch:94/500 Train Loss:0.0144 Val Loss:0.2835 Val F1:0.7148\n",
      "Epoch:95/500 Train Loss:0.0092 Val Loss:0.2387 Val F1:0.7877\n",
      "Epoch:96/500 Train Loss:0.0088 Val Loss:0.221 Val F1:0.7964\n",
      "Epoch:97/500 Train Loss:0.0078 Val Loss:0.2824 Val F1:0.687\n",
      "Epoch:98/500 Train Loss:0.0105 Val Loss:0.2307 Val F1:0.7656\n",
      "Epoch:99/500 Train Loss:0.0125 Val Loss:0.2751 Val F1:0.7598\n",
      "Epoch:100/500 Train Loss:0.0079 Val Loss:0.2411 Val F1:0.7347\n",
      "Epoch:101/500 Train Loss:0.0132 Val Loss:0.3183 Val F1:0.6855\n",
      "Epoch:102/500 Train Loss:0.0095 Val Loss:0.2588 Val F1:0.7202\n",
      "Epoch:103/500 Train Loss:0.0109 Val Loss:0.2377 Val F1:0.7687\n",
      "Epoch:104/500 Train Loss:0.0112 Val Loss:0.2499 Val F1:0.7762\n",
      "Epoch:105/500 Train Loss:0.0116 Val Loss:0.3363 Val F1:0.6962\n",
      "Epoch:106/500 Train Loss:0.0105 Val Loss:0.275 Val F1:0.7622\n",
      "Epoch:107/500 Train Loss:0.0076 Val Loss:0.2428 Val F1:0.7491\n",
      "Epoch:108/500 Train Loss:0.0082 Val Loss:0.2434 Val F1:0.7618\n",
      "Epoch:109/500 Train Loss:0.0067 Val Loss:0.2861 Val F1:0.7131\n",
      "Epoch:110/500 Train Loss:0.0087 Val Loss:0.2889 Val F1:0.7082\n",
      "Epoch:111/500 Train Loss:0.0067 Val Loss:0.2667 Val F1:0.7346\n",
      "Epoch:112/500 Train Loss:0.0078 Val Loss:0.264 Val F1:0.7826\n",
      "Epoch:113/500 Train Loss:0.0063 Val Loss:0.2929 Val F1:0.7095\n",
      "Epoch:114/500 Train Loss:0.0073 Val Loss:0.2735 Val F1:0.7471\n",
      "Epoch:115/500 Train Loss:0.0056 Val Loss:0.2492 Val F1:0.7805\n",
      "Epoch:116/500 Train Loss:0.0068 Val Loss:0.2676 Val F1:0.7765\n",
      "Epoch:117/500 Train Loss:0.0052 Val Loss:0.2841 Val F1:0.7261\n",
      "Epoch:118/500 Train Loss:0.0063 Val Loss:0.3064 Val F1:0.6918\n",
      "Epoch:119/500 Train Loss:0.0061 Val Loss:0.2755 Val F1:0.7186\n",
      "Epoch:120/500 Train Loss:0.0048 Val Loss:0.2686 Val F1:0.7587\n",
      "Epoch:121/500 Train Loss:0.0062 Val Loss:0.2818 Val F1:0.7774\n",
      "Epoch:122/500 Train Loss:0.0061 Val Loss:0.3323 Val F1:0.7286\n",
      "Epoch:123/500 Train Loss:0.0081 Val Loss:0.2969 Val F1:0.7571\n",
      "Epoch:124/500 Train Loss:0.0069 Val Loss:0.2841 Val F1:0.7618\n",
      "Epoch:125/500 Train Loss:0.0076 Val Loss:0.28 Val F1:0.7514\n",
      "Epoch:126/500 Train Loss:0.0077 Val Loss:0.3803 Val F1:0.6776\n",
      "Epoch:127/500 Train Loss:0.0082 Val Loss:0.2661 Val F1:0.7616\n",
      "Epoch:128/500 Train Loss:0.0119 Val Loss:0.2678 Val F1:0.7693\n",
      "Epoch:129/500 Train Loss:0.0071 Val Loss:0.3242 Val F1:0.6996\n",
      "Epoch:130/500 Train Loss:0.0155 Val Loss:0.3845 Val F1:0.6715\n",
      "Epoch:131/500 Train Loss:0.0074 Val Loss:0.2392 Val F1:0.7661\n",
      "Epoch:132/500 Train Loss:0.0102 Val Loss:0.2794 Val F1:0.7857\n",
      "Epoch:133/500 Train Loss:0.0068 Val Loss:0.2701 Val F1:0.7576\n",
      "Epoch:134/500 Train Loss:0.0081 Val Loss:0.3487 Val F1:0.6805\n",
      "Epoch:135/500 Train Loss:0.0074 Val Loss:0.3215 Val F1:0.6742\n",
      "Epoch:136/500 Train Loss:0.0052 Val Loss:0.2665 Val F1:0.7346\n",
      "Epoch:137/500 Train Loss:0.0054 Val Loss:0.2616 Val F1:0.7699\n",
      "Epoch:138/500 Train Loss:0.0038 Val Loss:0.239 Val F1:0.7775\n",
      "Epoch:139/500 Train Loss:0.0041 Val Loss:0.249 Val F1:0.7442\n"
     ]
    },
    {
     "name": "stdout",
     "output_type": "stream",
     "text": [
      "Epoch:140/500 Train Loss:0.0038 Val Loss:0.2512 Val F1:0.7715\n",
      "Epoch:141/500 Train Loss:0.003 Val Loss:0.271 Val F1:0.7449\n",
      "Epoch:142/500 Train Loss:0.0035 Val Loss:0.287 Val F1:0.722\n",
      "Epoch:143/500 Train Loss:0.0029 Val Loss:0.2908 Val F1:0.7256\n",
      "Epoch:144/500 Train Loss:0.003 Val Loss:0.3036 Val F1:0.7267\n",
      "Epoch:145/500 Train Loss:0.0038 Val Loss:0.2901 Val F1:0.7193\n",
      "Epoch:146/500 Train Loss:0.0028 Val Loss:0.2764 Val F1:0.7448\n",
      "Epoch:147/500 Train Loss:0.0034 Val Loss:0.2884 Val F1:0.7801\n",
      "Epoch:148/500 Train Loss:0.0033 Val Loss:0.3036 Val F1:0.7505\n",
      "Epoch:149/500 Train Loss:0.0025 Val Loss:0.2988 Val F1:0.7433\n",
      "Epoch:150/500 Train Loss:0.003 Val Loss:0.286 Val F1:0.7362\n",
      "Epoch:151/500 Train Loss:0.0022 Val Loss:0.3057 Val F1:0.7445\n",
      "Epoch:152/500 Train Loss:0.0026 Val Loss:0.2751 Val F1:0.7484\n",
      "Epoch:153/500 Train Loss:0.0021 Val Loss:0.3205 Val F1:0.7296\n",
      "Epoch:154/500 Train Loss:0.003 Val Loss:0.304 Val F1:0.7562\n",
      "Epoch:155/500 Train Loss:0.0036 Val Loss:0.2882 Val F1:0.7811\n",
      "Epoch:156/500 Train Loss:0.0029 Val Loss:0.2799 Val F1:0.7672\n",
      "Epoch:157/500 Train Loss:0.0029 Val Loss:0.3046 Val F1:0.7628\n",
      "Epoch:158/500 Train Loss:0.0024 Val Loss:0.303 Val F1:0.7736\n",
      "Epoch:159/500 Train Loss:0.0029 Val Loss:0.3188 Val F1:0.742\n",
      "Epoch:160/500 Train Loss:0.0024 Val Loss:0.3626 Val F1:0.7325\n",
      "Epoch:161/500 Train Loss:0.0026 Val Loss:0.3533 Val F1:0.7423\n",
      "Epoch:162/500 Train Loss:0.0027 Val Loss:0.2989 Val F1:0.7688\n",
      "Epoch:163/500 Train Loss:0.0036 Val Loss:0.3212 Val F1:0.7683\n",
      "Epoch:164/500 Train Loss:0.0027 Val Loss:0.3607 Val F1:0.7589\n",
      "Epoch:165/500 Train Loss:0.0048 Val Loss:0.3904 Val F1:0.7368\n",
      "Epoch:166/500 Train Loss:0.0035 Val Loss:0.3924 Val F1:0.7278\n",
      "Epoch:167/500 Train Loss:0.0047 Val Loss:0.3359 Val F1:0.7336\n",
      "Epoch:168/500 Train Loss:0.0041 Val Loss:0.4068 Val F1:0.6914\n",
      "Epoch:169/500 Train Loss:0.0032 Val Loss:0.36 Val F1:0.7116\n",
      "Epoch:170/500 Train Loss:0.0026 Val Loss:0.3589 Val F1:0.7212\n",
      "Epoch:171/500 Train Loss:0.0041 Val Loss:0.3354 Val F1:0.7401\n",
      "Epoch:172/500 Train Loss:0.0026 Val Loss:0.3594 Val F1:0.7464\n",
      "Epoch:173/500 Train Loss:0.0027 Val Loss:0.3634 Val F1:0.7284\n",
      "Epoch:174/500 Train Loss:0.0025 Val Loss:0.348 Val F1:0.7448\n",
      "Epoch:175/500 Train Loss:0.0026 Val Loss:0.3542 Val F1:0.7497\n",
      "Epoch:176/500 Train Loss:0.0024 Val Loss:0.3793 Val F1:0.7336\n",
      "Epoch:177/500 Train Loss:0.0023 Val Loss:0.3891 Val F1:0.7226\n",
      "Epoch:178/500 Train Loss:0.0028 Val Loss:0.4051 Val F1:0.702\n",
      "Epoch:179/500 Train Loss:0.0029 Val Loss:0.3863 Val F1:0.7168\n",
      "Epoch:180/500 Train Loss:0.0024 Val Loss:0.4096 Val F1:0.7104\n",
      "Epoch:181/500 Train Loss:0.0017 Val Loss:0.336 Val F1:0.7544\n",
      "Epoch:182/500 Train Loss:0.0017 Val Loss:0.3491 Val F1:0.7483\n",
      "Epoch:183/500 Train Loss:0.0016 Val Loss:0.3439 Val F1:0.7712\n",
      "Epoch:184/500 Train Loss:0.0017 Val Loss:0.3682 Val F1:0.7614\n",
      "Epoch:185/500 Train Loss:0.0016 Val Loss:0.3534 Val F1:0.7372\n",
      "Epoch:186/500 Train Loss:0.0014 Val Loss:0.3957 Val F1:0.7252\n",
      "Epoch:187/500 Train Loss:0.0026 Val Loss:0.3758 Val F1:0.7381\n",
      "Epoch:188/500 Train Loss:0.0021 Val Loss:0.3838 Val F1:0.7427\n",
      "Epoch:189/500 Train Loss:0.0019 Val Loss:0.4428 Val F1:0.7318\n",
      "Epoch:190/500 Train Loss:0.003 Val Loss:0.4094 Val F1:0.7462\n",
      "Epoch:191/500 Train Loss:0.0024 Val Loss:0.3653 Val F1:0.7403\n",
      "Epoch:192/500 Train Loss:0.0026 Val Loss:0.3636 Val F1:0.7652\n",
      "Epoch:193/500 Train Loss:0.0024 Val Loss:0.4212 Val F1:0.7228\n",
      "Epoch:194/500 Train Loss:0.0019 Val Loss:0.4525 Val F1:0.7065\n",
      "Epoch:195/500 Train Loss:0.0016 Val Loss:0.4495 Val F1:0.7047\n",
      "Epoch:196/500 Train Loss:0.0014 Val Loss:0.4156 Val F1:0.7324\n",
      "Epoch:197/500 Train Loss:0.0016 Val Loss:0.3945 Val F1:0.7127\n",
      "Epoch:198/500 Train Loss:0.0013 Val Loss:0.4176 Val F1:0.7447\n",
      "Epoch:199/500 Train Loss:0.0012 Val Loss:0.3843 Val F1:0.7332\n",
      "Epoch:200/500 Train Loss:0.0011 Val Loss:0.4109 Val F1:0.7516\n",
      "Epoch:201/500 Train Loss:0.0018 Val Loss:0.3962 Val F1:0.7608\n",
      "Epoch:202/500 Train Loss:0.0021 Val Loss:0.3983 Val F1:0.7172\n",
      "Epoch:203/500 Train Loss:0.0021 Val Loss:0.4194 Val F1:0.7413\n",
      "Epoch:204/500 Train Loss:0.001 Val Loss:0.3989 Val F1:0.7515\n",
      "Epoch:205/500 Train Loss:0.0023 Val Loss:0.3901 Val F1:0.7521\n",
      "Epoch:206/500 Train Loss:0.0011 Val Loss:0.4259 Val F1:0.7625\n",
      "Epoch:207/500 Train Loss:0.0009 Val Loss:0.4044 Val F1:0.7357\n",
      "Epoch:208/500 Train Loss:0.0017 Val Loss:0.4399 Val F1:0.7407\n",
      "Epoch:209/500 Train Loss:0.0018 Val Loss:0.4214 Val F1:0.7378\n",
      "Epoch:210/500 Train Loss:0.001 Val Loss:0.4373 Val F1:0.7399\n",
      "Epoch:211/500 Train Loss:0.0011 Val Loss:0.4683 Val F1:0.735\n",
      "Epoch:212/500 Train Loss:0.0008 Val Loss:0.4599 Val F1:0.7336\n",
      "Epoch:213/500 Train Loss:0.003 Val Loss:0.461 Val F1:0.7319\n",
      "Epoch:214/500 Train Loss:0.002 Val Loss:0.45 Val F1:0.7037\n",
      "Epoch:215/500 Train Loss:0.0025 Val Loss:0.4268 Val F1:0.7338\n",
      "Epoch:216/500 Train Loss:0.002 Val Loss:0.3876 Val F1:0.7676\n",
      "Epoch:217/500 Train Loss:0.0019 Val Loss:0.3884 Val F1:0.7764\n",
      "Epoch:218/500 Train Loss:0.0026 Val Loss:0.3755 Val F1:0.7834\n",
      "Epoch:219/500 Train Loss:0.002 Val Loss:0.4201 Val F1:0.7368\n",
      "Epoch:220/500 Train Loss:0.0023 Val Loss:0.4408 Val F1:0.7328\n",
      "Epoch:221/500 Train Loss:0.003 Val Loss:0.421 Val F1:0.7783\n",
      "Epoch:222/500 Train Loss:0.0026 Val Loss:0.4272 Val F1:0.7771\n",
      "Epoch:223/500 Train Loss:0.0034 Val Loss:0.4555 Val F1:0.757\n",
      "Epoch:224/500 Train Loss:0.0069 Val Loss:0.4724 Val F1:0.7326\n",
      "Epoch:225/500 Train Loss:0.0069 Val Loss:0.4619 Val F1:0.7485\n",
      "Epoch:226/500 Train Loss:0.0185 Val Loss:0.5513 Val F1:0.6632\n",
      "Epoch:227/500 Train Loss:0.0296 Val Loss:0.366 Val F1:0.7604\n",
      "Epoch:228/500 Train Loss:0.034 Val Loss:0.3678 Val F1:0.7488\n",
      "Epoch:229/500 Train Loss:0.0173 Val Loss:0.4978 Val F1:0.64\n",
      "Epoch:230/500 Train Loss:0.0355 Val Loss:0.3991 Val F1:0.636\n",
      "Epoch:231/500 Train Loss:0.0152 Val Loss:0.231 Val F1:0.7669\n",
      "Epoch:232/500 Train Loss:0.014 Val Loss:0.2157 Val F1:0.7424\n",
      "Epoch:233/500 Train Loss:0.0115 Val Loss:0.2384 Val F1:0.7475\n",
      "Epoch:234/500 Train Loss:0.0108 Val Loss:0.258 Val F1:0.7409\n",
      "Epoch:235/500 Train Loss:0.0065 Val Loss:0.2342 Val F1:0.7599\n",
      "Epoch:236/500 Train Loss:0.0049 Val Loss:0.2549 Val F1:0.7706\n",
      "Epoch:237/500 Train Loss:0.0056 Val Loss:0.2565 Val F1:0.7479\n",
      "Epoch:238/500 Train Loss:0.0041 Val Loss:0.2639 Val F1:0.7578\n",
      "Epoch:239/500 Train Loss:0.0036 Val Loss:0.268 Val F1:0.7698\n",
      "Epoch:240/500 Train Loss:0.0031 Val Loss:0.2819 Val F1:0.7792\n",
      "Epoch:241/500 Train Loss:0.0031 Val Loss:0.2986 Val F1:0.7357\n",
      "Epoch:242/500 Train Loss:0.0028 Val Loss:0.2994 Val F1:0.7573\n",
      "Epoch:243/500 Train Loss:0.0026 Val Loss:0.3339 Val F1:0.7227\n",
      "Epoch:244/500 Train Loss:0.0026 Val Loss:0.3226 Val F1:0.7204\n",
      "Epoch:245/500 Train Loss:0.0015 Val Loss:0.3603 Val F1:0.7358\n",
      "Epoch:246/500 Train Loss:0.002 Val Loss:0.3564 Val F1:0.7355\n",
      "Epoch:247/500 Train Loss:0.0016 Val Loss:0.3358 Val F1:0.7372\n",
      "Epoch:248/500 Train Loss:0.0017 Val Loss:0.3527 Val F1:0.752\n",
      "Epoch:249/500 Train Loss:0.0014 Val Loss:0.3445 Val F1:0.7447\n",
      "Epoch:250/500 Train Loss:0.0017 Val Loss:0.3321 Val F1:0.7646\n",
      "Epoch:251/500 Train Loss:0.0013 Val Loss:0.3595 Val F1:0.7317\n",
      "Epoch:252/500 Train Loss:0.0011 Val Loss:0.3479 Val F1:0.7389\n",
      "Epoch:253/500 Train Loss:0.0014 Val Loss:0.3514 Val F1:0.7208\n",
      "Epoch:254/500 Train Loss:0.0018 Val Loss:0.3443 Val F1:0.7623\n",
      "Epoch:255/500 Train Loss:0.0014 Val Loss:0.3714 Val F1:0.7589\n",
      "Epoch:256/500 Train Loss:0.0012 Val Loss:0.3773 Val F1:0.7596\n",
      "Epoch:257/500 Train Loss:0.002 Val Loss:0.3959 Val F1:0.7414\n",
      "Epoch:258/500 Train Loss:0.001 Val Loss:0.3549 Val F1:0.7373\n",
      "Epoch:259/500 Train Loss:0.0014 Val Loss:0.3653 Val F1:0.741\n",
      "Epoch:260/500 Train Loss:0.0014 Val Loss:0.3638 Val F1:0.7438\n",
      "Epoch:261/500 Train Loss:0.0009 Val Loss:0.3642 Val F1:0.7519\n",
      "Epoch:262/500 Train Loss:0.0012 Val Loss:0.3727 Val F1:0.7587\n",
      "Epoch:263/500 Train Loss:0.0005 Val Loss:0.3745 Val F1:0.7452\n",
      "Epoch:264/500 Train Loss:0.0008 Val Loss:0.4154 Val F1:0.7669\n",
      "Epoch:265/500 Train Loss:0.001 Val Loss:0.3977 Val F1:0.7404\n",
      "Epoch:266/500 Train Loss:0.0014 Val Loss:0.3921 Val F1:0.7404\n",
      "Epoch:267/500 Train Loss:0.001 Val Loss:0.3984 Val F1:0.7392\n",
      "Epoch:268/500 Train Loss:0.0009 Val Loss:0.402 Val F1:0.7228\n",
      "Epoch:269/500 Train Loss:0.0009 Val Loss:0.4278 Val F1:0.7467\n",
      "Epoch:270/500 Train Loss:0.0016 Val Loss:0.4074 Val F1:0.7584\n",
      "Epoch:271/500 Train Loss:0.0009 Val Loss:0.4408 Val F1:0.7458\n",
      "Epoch:272/500 Train Loss:0.0015 Val Loss:0.4307 Val F1:0.7647\n",
      "Epoch:273/500 Train Loss:0.0017 Val Loss:0.4013 Val F1:0.7459\n",
      "Epoch:274/500 Train Loss:0.0009 Val Loss:0.4376 Val F1:0.7182\n",
      "Epoch:275/500 Train Loss:0.0009 Val Loss:0.4272 Val F1:0.7394\n"
     ]
    },
    {
     "name": "stdout",
     "output_type": "stream",
     "text": [
      "Epoch:276/500 Train Loss:0.0008 Val Loss:0.4361 Val F1:0.7119\n",
      "Epoch:277/500 Train Loss:0.0004 Val Loss:0.425 Val F1:0.7204\n",
      "Epoch:278/500 Train Loss:0.0009 Val Loss:0.4469 Val F1:0.7164\n",
      "Epoch:279/500 Train Loss:0.0008 Val Loss:0.463 Val F1:0.7325\n",
      "Epoch:280/500 Train Loss:0.0005 Val Loss:0.4612 Val F1:0.7244\n",
      "Epoch:281/500 Train Loss:0.0006 Val Loss:0.4514 Val F1:0.7238\n",
      "Epoch:282/500 Train Loss:0.0007 Val Loss:0.4205 Val F1:0.7492\n",
      "Epoch:283/500 Train Loss:0.0008 Val Loss:0.458 Val F1:0.7232\n",
      "Epoch:284/500 Train Loss:0.0003 Val Loss:0.4522 Val F1:0.7435\n",
      "Epoch:285/500 Train Loss:0.0005 Val Loss:0.4881 Val F1:0.6883\n",
      "Epoch:286/500 Train Loss:0.0008 Val Loss:0.4762 Val F1:0.7307\n",
      "Epoch:287/500 Train Loss:0.0003 Val Loss:0.4193 Val F1:0.7496\n",
      "Epoch:288/500 Train Loss:0.0011 Val Loss:0.4342 Val F1:0.7467\n",
      "Epoch:289/500 Train Loss:0.0003 Val Loss:0.4411 Val F1:0.7226\n",
      "Epoch:290/500 Train Loss:0.0002 Val Loss:0.446 Val F1:0.7485\n",
      "Epoch:291/500 Train Loss:0.0005 Val Loss:0.4711 Val F1:0.7553\n",
      "Epoch:292/500 Train Loss:0.0008 Val Loss:0.4494 Val F1:0.7366\n",
      "Epoch:293/500 Train Loss:0.0003 Val Loss:0.4682 Val F1:0.7155\n",
      "Epoch:294/500 Train Loss:0.0003 Val Loss:0.4778 Val F1:0.7249\n",
      "Epoch:295/500 Train Loss:0.0012 Val Loss:0.492 Val F1:0.7317\n",
      "Epoch:296/500 Train Loss:0.0003 Val Loss:0.473 Val F1:0.7435\n",
      "Epoch:297/500 Train Loss:0.0012 Val Loss:0.4631 Val F1:0.7468\n",
      "Epoch:298/500 Train Loss:0.0013 Val Loss:0.4226 Val F1:0.7547\n",
      "Epoch:299/500 Train Loss:0.0013 Val Loss:0.4492 Val F1:0.7601\n",
      "Epoch:300/500 Train Loss:0.0005 Val Loss:0.4627 Val F1:0.7249\n",
      "Epoch:301/500 Train Loss:0.0015 Val Loss:0.4568 Val F1:0.7171\n",
      "Epoch:302/500 Train Loss:0.0009 Val Loss:0.4314 Val F1:0.7345\n",
      "Epoch:303/500 Train Loss:0.0008 Val Loss:0.4339 Val F1:0.7215\n",
      "Epoch:304/500 Train Loss:0.0006 Val Loss:0.4547 Val F1:0.7391\n",
      "Epoch:305/500 Train Loss:0.0007 Val Loss:0.4518 Val F1:0.7226\n",
      "Epoch:306/500 Train Loss:0.0005 Val Loss:0.4472 Val F1:0.7478\n",
      "Epoch:307/500 Train Loss:0.0006 Val Loss:0.4514 Val F1:0.7319\n",
      "Epoch:308/500 Train Loss:0.0005 Val Loss:0.471 Val F1:0.748\n",
      "Epoch:309/500 Train Loss:0.0005 Val Loss:0.4474 Val F1:0.7401\n",
      "Epoch:310/500 Train Loss:0.0003 Val Loss:0.4776 Val F1:0.7649\n",
      "Epoch:311/500 Train Loss:0.0003 Val Loss:0.4696 Val F1:0.7659\n",
      "Epoch:312/500 Train Loss:0.0003 Val Loss:0.4349 Val F1:0.7508\n",
      "Epoch:313/500 Train Loss:0.0008 Val Loss:0.4482 Val F1:0.7519\n",
      "Epoch:314/500 Train Loss:0.0002 Val Loss:0.4712 Val F1:0.7277\n",
      "Epoch:315/500 Train Loss:0.0009 Val Loss:0.4821 Val F1:0.7353\n",
      "Epoch:316/500 Train Loss:0.0005 Val Loss:0.4866 Val F1:0.7042\n",
      "Epoch:317/500 Train Loss:0.0005 Val Loss:0.4882 Val F1:0.7265\n",
      "Epoch:318/500 Train Loss:0.0003 Val Loss:0.519 Val F1:0.6985\n",
      "Epoch:319/500 Train Loss:0.0003 Val Loss:0.4853 Val F1:0.7281\n",
      "Epoch:320/500 Train Loss:0.0009 Val Loss:0.4913 Val F1:0.7275\n",
      "Epoch:321/500 Train Loss:0.0004 Val Loss:0.4788 Val F1:0.7278\n",
      "Epoch:322/500 Train Loss:0.0004 Val Loss:0.4766 Val F1:0.7408\n",
      "Epoch:323/500 Train Loss:0.0008 Val Loss:0.4813 Val F1:0.7057\n",
      "Epoch:324/500 Train Loss:0.0018 Val Loss:0.5191 Val F1:0.7253\n",
      "Epoch:325/500 Train Loss:0.0024 Val Loss:0.5101 Val F1:0.7163\n",
      "Epoch:326/500 Train Loss:0.001 Val Loss:0.4887 Val F1:0.7708\n",
      "Epoch:327/500 Train Loss:0.0011 Val Loss:0.5061 Val F1:0.7259\n",
      "Epoch:328/500 Train Loss:0.0009 Val Loss:0.4804 Val F1:0.746\n",
      "Epoch:329/500 Train Loss:0.0015 Val Loss:0.5181 Val F1:0.7419\n",
      "Epoch:330/500 Train Loss:0.0006 Val Loss:0.517 Val F1:0.7464\n",
      "Epoch:331/500 Train Loss:0.0005 Val Loss:0.4809 Val F1:0.7563\n",
      "Epoch:332/500 Train Loss:0.0007 Val Loss:0.5248 Val F1:0.7331\n",
      "Epoch:333/500 Train Loss:0.0011 Val Loss:0.589 Val F1:0.7323\n",
      "Epoch:334/500 Train Loss:0.0018 Val Loss:0.4905 Val F1:0.767\n",
      "Epoch:335/500 Train Loss:0.0009 Val Loss:0.5188 Val F1:0.7384\n",
      "Epoch:336/500 Train Loss:0.0009 Val Loss:0.5221 Val F1:0.7517\n",
      "Epoch:337/500 Train Loss:0.0009 Val Loss:0.4877 Val F1:0.7544\n",
      "Epoch:338/500 Train Loss:0.0001 Val Loss:0.5137 Val F1:0.7508\n",
      "Epoch:339/500 Train Loss:0.0002 Val Loss:0.4762 Val F1:0.7384\n",
      "Epoch:340/500 Train Loss:0.0005 Val Loss:0.4908 Val F1:0.7553\n",
      "Epoch:341/500 Train Loss:0.0005 Val Loss:0.4769 Val F1:0.7573\n",
      "Epoch:342/500 Train Loss:0.0005 Val Loss:0.4616 Val F1:0.7664\n",
      "Epoch:343/500 Train Loss:0.0009 Val Loss:0.4882 Val F1:0.7539\n",
      "Epoch:344/500 Train Loss:0.0008 Val Loss:0.4458 Val F1:0.754\n",
      "Epoch:345/500 Train Loss:0.0003 Val Loss:0.5102 Val F1:0.7284\n",
      "Epoch:346/500 Train Loss:0.0008 Val Loss:0.5037 Val F1:0.7476\n",
      "Epoch:347/500 Train Loss:0.0002 Val Loss:0.5381 Val F1:0.6884\n",
      "Epoch:348/500 Train Loss:0.0005 Val Loss:0.5142 Val F1:0.7535\n",
      "Epoch:349/500 Train Loss:0.0003 Val Loss:0.4756 Val F1:0.7509\n",
      "Epoch:350/500 Train Loss:0.0004 Val Loss:0.4762 Val F1:0.776\n",
      "Epoch:351/500 Train Loss:0.0018 Val Loss:0.4681 Val F1:0.786\n",
      "Epoch:352/500 Train Loss:0.0004 Val Loss:0.5252 Val F1:0.7573\n",
      "Epoch:353/500 Train Loss:0.0004 Val Loss:0.5526 Val F1:0.7355\n",
      "Epoch:354/500 Train Loss:0.0007 Val Loss:0.5403 Val F1:0.7489\n",
      "Epoch:355/500 Train Loss:0.0003 Val Loss:0.4889 Val F1:0.7515\n",
      "Epoch:356/500 Train Loss:0.0003 Val Loss:0.4976 Val F1:0.7589\n",
      "Epoch:357/500 Train Loss:0.0005 Val Loss:0.56 Val F1:0.7208\n",
      "Epoch:358/500 Train Loss:0.0004 Val Loss:0.5083 Val F1:0.7325\n",
      "Epoch:359/500 Train Loss:0.0002 Val Loss:0.4842 Val F1:0.7509\n",
      "Epoch:360/500 Train Loss:0.0008 Val Loss:0.4988 Val F1:0.7543\n",
      "Epoch:361/500 Train Loss:0.0007 Val Loss:0.471 Val F1:0.7686\n",
      "Epoch:362/500 Train Loss:0.0015 Val Loss:0.5148 Val F1:0.7853\n",
      "Epoch:363/500 Train Loss:0.0028 Val Loss:0.4775 Val F1:0.7881\n",
      "Epoch:364/500 Train Loss:0.0016 Val Loss:0.607 Val F1:0.7262\n",
      "Epoch:365/500 Train Loss:0.0041 Val Loss:0.5014 Val F1:0.7145\n",
      "Epoch:366/500 Train Loss:0.0003 Val Loss:0.4253 Val F1:0.76\n",
      "Epoch:367/500 Train Loss:0.0022 Val Loss:0.3975 Val F1:0.7786\n",
      "Epoch:368/500 Train Loss:0.0005 Val Loss:0.4231 Val F1:0.7769\n",
      "Epoch:369/500 Train Loss:0.0007 Val Loss:0.4488 Val F1:0.7408\n",
      "Epoch:370/500 Train Loss:0.0019 Val Loss:0.4259 Val F1:0.771\n",
      "Epoch:371/500 Train Loss:0.0014 Val Loss:0.4684 Val F1:0.7351\n",
      "Epoch:372/500 Train Loss:0.0125 Val Loss:0.4802 Val F1:0.7525\n",
      "Epoch:373/500 Train Loss:0.0125 Val Loss:0.4627 Val F1:0.7503\n",
      "Epoch:374/500 Train Loss:0.004 Val Loss:0.4247 Val F1:0.7504\n",
      "Epoch:375/500 Train Loss:0.0046 Val Loss:0.4268 Val F1:0.7192\n",
      "Epoch:376/500 Train Loss:0.004 Val Loss:0.3908 Val F1:0.7464\n",
      "Epoch:377/500 Train Loss:0.0028 Val Loss:0.3745 Val F1:0.7461\n",
      "Epoch:378/500 Train Loss:0.0043 Val Loss:0.3541 Val F1:0.7429\n",
      "Epoch:379/500 Train Loss:0.0026 Val Loss:0.3169 Val F1:0.7788\n",
      "Epoch:380/500 Train Loss:0.0011 Val Loss:0.3384 Val F1:0.7778\n",
      "Epoch:381/500 Train Loss:0.0016 Val Loss:0.361 Val F1:0.7712\n",
      "Epoch:382/500 Train Loss:0.0021 Val Loss:0.326 Val F1:0.7798\n",
      "Epoch:383/500 Train Loss:0.0007 Val Loss:0.3208 Val F1:0.7617\n",
      "Epoch:384/500 Train Loss:0.0011 Val Loss:0.3383 Val F1:0.7705\n",
      "Epoch:385/500 Train Loss:0.0003 Val Loss:0.3852 Val F1:0.7333\n",
      "Epoch:386/500 Train Loss:0.001 Val Loss:0.3876 Val F1:0.7554\n",
      "Epoch:387/500 Train Loss:0.0002 Val Loss:0.4021 Val F1:0.7649\n",
      "Epoch:388/500 Train Loss:0.0004 Val Loss:0.3871 Val F1:0.76\n",
      "Epoch:389/500 Train Loss:0.001 Val Loss:0.4014 Val F1:0.7634\n",
      "Epoch:390/500 Train Loss:0.0004 Val Loss:0.3986 Val F1:0.731\n",
      "Epoch:391/500 Train Loss:0.0003 Val Loss:0.3884 Val F1:0.7433\n",
      "Epoch:392/500 Train Loss:0.0002 Val Loss:0.3855 Val F1:0.7675\n",
      "Epoch:393/500 Train Loss:0.0002 Val Loss:0.4075 Val F1:0.7571\n",
      "Epoch:394/500 Train Loss:0.0003 Val Loss:0.4158 Val F1:0.752\n",
      "Epoch:395/500 Train Loss:0.0004 Val Loss:0.4094 Val F1:0.776\n",
      "Epoch:396/500 Train Loss:0.0007 Val Loss:0.3999 Val F1:0.7143\n",
      "Epoch:397/500 Train Loss:0.0002 Val Loss:0.3944 Val F1:0.7647\n",
      "Epoch:398/500 Train Loss:0.0003 Val Loss:0.4015 Val F1:0.7552\n",
      "Epoch:399/500 Train Loss:0.0002 Val Loss:0.4073 Val F1:0.7575\n",
      "Epoch:400/500 Train Loss:0.0002 Val Loss:0.4052 Val F1:0.7523\n",
      "Epoch:401/500 Train Loss:0.0001 Val Loss:0.4125 Val F1:0.7663\n",
      "Epoch:402/500 Train Loss:0.0006 Val Loss:0.4402 Val F1:0.7604\n",
      "Epoch:403/500 Train Loss:0.0002 Val Loss:0.4416 Val F1:0.7385\n",
      "Epoch:404/500 Train Loss:0.0003 Val Loss:0.4362 Val F1:0.7389\n",
      "Epoch:405/500 Train Loss:0.0001 Val Loss:0.4661 Val F1:0.7252\n",
      "Epoch:406/500 Train Loss:0.0002 Val Loss:0.4843 Val F1:0.7198\n",
      "Epoch:407/500 Train Loss:0.0001 Val Loss:0.4707 Val F1:0.7255\n",
      "Epoch:408/500 Train Loss:0.0004 Val Loss:0.4659 Val F1:0.7572\n",
      "Epoch:409/500 Train Loss:0.0001 Val Loss:0.4429 Val F1:0.7378\n",
      "Epoch:410/500 Train Loss:0.0003 Val Loss:0.4503 Val F1:0.7483\n"
     ]
    },
    {
     "name": "stdout",
     "output_type": "stream",
     "text": [
      "Epoch:411/500 Train Loss:0.0004 Val Loss:0.47 Val F1:0.7617\n",
      "Epoch:412/500 Train Loss:0.0001 Val Loss:0.4435 Val F1:0.7423\n",
      "Epoch:413/500 Train Loss:0.0001 Val Loss:0.4698 Val F1:0.756\n",
      "Epoch:414/500 Train Loss:0.0003 Val Loss:0.4614 Val F1:0.7347\n",
      "Epoch:415/500 Train Loss:0.0003 Val Loss:0.4746 Val F1:0.7489\n",
      "Epoch:416/500 Train Loss:0.0002 Val Loss:0.4775 Val F1:0.7286\n",
      "Epoch:417/500 Train Loss:0.0002 Val Loss:0.4673 Val F1:0.7644\n",
      "Epoch:418/500 Train Loss:0.0003 Val Loss:0.4611 Val F1:0.7839\n",
      "Epoch:419/500 Train Loss:0.0001 Val Loss:0.4521 Val F1:0.7799\n",
      "Epoch:420/500 Train Loss:0.0001 Val Loss:0.4733 Val F1:0.7563\n",
      "Epoch:421/500 Train Loss:0.0001 Val Loss:0.4512 Val F1:0.7494\n",
      "Epoch:422/500 Train Loss:0.0001 Val Loss:0.484 Val F1:0.765\n",
      "Epoch:423/500 Train Loss:0.0001 Val Loss:0.4386 Val F1:0.7663\n",
      "Epoch:424/500 Train Loss:0.0001 Val Loss:0.4611 Val F1:0.7514\n",
      "Epoch:425/500 Train Loss:0.0001 Val Loss:0.4744 Val F1:0.766\n",
      "Epoch:426/500 Train Loss:0.0003 Val Loss:0.4754 Val F1:0.761\n",
      "Epoch:427/500 Train Loss:0.0001 Val Loss:0.53 Val F1:0.7335\n",
      "Epoch:428/500 Train Loss:0.0001 Val Loss:0.4608 Val F1:0.7661\n",
      "Epoch:429/500 Train Loss:0.0001 Val Loss:0.5006 Val F1:0.7527\n",
      "Epoch:430/500 Train Loss:0.0003 Val Loss:0.4854 Val F1:0.7746\n",
      "Epoch:431/500 Train Loss:0.0002 Val Loss:0.4618 Val F1:0.746\n",
      "Epoch:432/500 Train Loss:0.0004 Val Loss:0.4791 Val F1:0.7556\n",
      "Epoch:433/500 Train Loss:0.0001 Val Loss:0.4878 Val F1:0.7518\n",
      "Epoch:434/500 Train Loss:0.0001 Val Loss:0.4978 Val F1:0.7533\n",
      "Epoch:435/500 Train Loss:0.0004 Val Loss:0.4926 Val F1:0.7585\n",
      "Epoch:436/500 Train Loss:0.0002 Val Loss:0.4794 Val F1:0.7692\n",
      "Epoch:437/500 Train Loss:0.0002 Val Loss:0.504 Val F1:0.7362\n",
      "Epoch:438/500 Train Loss:0.0002 Val Loss:0.4582 Val F1:0.7509\n",
      "Epoch:439/500 Train Loss:0.0001 Val Loss:0.5192 Val F1:0.7622\n",
      "Epoch:440/500 Train Loss:0.0001 Val Loss:0.4985 Val F1:0.7363\n",
      "Epoch:441/500 Train Loss:0.0 Val Loss:0.5131 Val F1:0.764\n",
      "Epoch:442/500 Train Loss:0.0003 Val Loss:0.5521 Val F1:0.7421\n",
      "Epoch:443/500 Train Loss:0.0001 Val Loss:0.5073 Val F1:0.7578\n",
      "Epoch:444/500 Train Loss:0.0002 Val Loss:0.5227 Val F1:0.7456\n",
      "Epoch:445/500 Train Loss:0.0002 Val Loss:0.4963 Val F1:0.749\n",
      "Epoch:446/500 Train Loss:0.0003 Val Loss:0.4541 Val F1:0.7811\n",
      "Epoch:447/500 Train Loss:0.0004 Val Loss:0.4493 Val F1:0.7573\n",
      "Epoch:448/500 Train Loss:0.0003 Val Loss:0.5072 Val F1:0.7517\n",
      "Epoch:449/500 Train Loss:0.0003 Val Loss:0.5334 Val F1:0.7497\n",
      "Epoch:450/500 Train Loss:0.0002 Val Loss:0.578 Val F1:0.7325\n",
      "Epoch:451/500 Train Loss:0.0006 Val Loss:0.5884 Val F1:0.7077\n",
      "Epoch:452/500 Train Loss:0.0011 Val Loss:0.6298 Val F1:0.6959\n",
      "Epoch:453/500 Train Loss:0.0018 Val Loss:0.593 Val F1:0.7436\n",
      "Epoch:454/500 Train Loss:0.0004 Val Loss:0.5569 Val F1:0.7425\n",
      "Epoch:455/500 Train Loss:0.0007 Val Loss:0.6023 Val F1:0.7528\n",
      "Epoch:456/500 Train Loss:0.0005 Val Loss:0.585 Val F1:0.7413\n",
      "Epoch:457/500 Train Loss:0.0003 Val Loss:0.5752 Val F1:0.7498\n",
      "Epoch:458/500 Train Loss:0.0008 Val Loss:0.5222 Val F1:0.75\n",
      "Epoch:459/500 Train Loss:0.0015 Val Loss:0.5162 Val F1:0.7633\n",
      "Epoch:460/500 Train Loss:0.0008 Val Loss:0.5297 Val F1:0.7436\n",
      "Epoch:461/500 Train Loss:0.0008 Val Loss:0.5281 Val F1:0.7447\n",
      "Epoch:462/500 Train Loss:0.001 Val Loss:0.5121 Val F1:0.7589\n",
      "Epoch:463/500 Train Loss:0.0006 Val Loss:0.5171 Val F1:0.7554\n",
      "Epoch:464/500 Train Loss:0.0006 Val Loss:0.4693 Val F1:0.7578\n",
      "Epoch:465/500 Train Loss:0.0005 Val Loss:0.504 Val F1:0.7429\n",
      "Epoch:466/500 Train Loss:0.0006 Val Loss:0.4754 Val F1:0.7371\n",
      "Epoch:467/500 Train Loss:0.0004 Val Loss:0.5033 Val F1:0.7255\n",
      "Epoch:468/500 Train Loss:0.0007 Val Loss:0.5594 Val F1:0.7017\n",
      "Epoch:469/500 Train Loss:0.0003 Val Loss:0.5419 Val F1:0.7005\n",
      "Epoch:470/500 Train Loss:0.0007 Val Loss:0.5085 Val F1:0.7181\n",
      "Epoch:471/500 Train Loss:0.0006 Val Loss:0.5175 Val F1:0.7321\n",
      "Epoch:472/500 Train Loss:0.0003 Val Loss:0.4806 Val F1:0.7598\n",
      "Epoch:473/500 Train Loss:0.0003 Val Loss:0.4705 Val F1:0.7446\n",
      "Epoch:474/500 Train Loss:0.0001 Val Loss:0.5632 Val F1:0.7232\n",
      "Epoch:475/500 Train Loss:0.0002 Val Loss:0.5516 Val F1:0.7448\n",
      "Epoch:476/500 Train Loss:0.0004 Val Loss:0.4988 Val F1:0.7427\n",
      "Epoch:477/500 Train Loss:0.0002 Val Loss:0.4928 Val F1:0.7549\n",
      "Epoch:478/500 Train Loss:0.0001 Val Loss:0.5416 Val F1:0.7475\n",
      "Epoch:479/500 Train Loss:0.0001 Val Loss:0.5418 Val F1:0.7547\n",
      "Epoch:480/500 Train Loss:0.0002 Val Loss:0.5482 Val F1:0.711\n",
      "Epoch:481/500 Train Loss:0.0001 Val Loss:0.5409 Val F1:0.714\n",
      "Epoch:482/500 Train Loss:0.0001 Val Loss:0.5431 Val F1:0.7209\n",
      "Epoch:483/500 Train Loss:0.0001 Val Loss:0.5309 Val F1:0.7428\n",
      "Epoch:484/500 Train Loss:0.0004 Val Loss:0.5358 Val F1:0.7301\n",
      "Epoch:485/500 Train Loss:0.0001 Val Loss:0.5193 Val F1:0.7339\n",
      "Epoch:486/500 Train Loss:0.0008 Val Loss:0.4972 Val F1:0.7404\n",
      "Epoch:487/500 Train Loss:0.0001 Val Loss:0.553 Val F1:0.7276\n",
      "Epoch:488/500 Train Loss:0.0012 Val Loss:0.5451 Val F1:0.717\n",
      "Epoch:489/500 Train Loss:0.0006 Val Loss:0.5517 Val F1:0.7448\n",
      "Epoch:490/500 Train Loss:0.001 Val Loss:0.5468 Val F1:0.7497\n",
      "Epoch:491/500 Train Loss:0.0005 Val Loss:0.5569 Val F1:0.7542\n",
      "Epoch:492/500 Train Loss:0.0001 Val Loss:0.5347 Val F1:0.7497\n",
      "Epoch:493/500 Train Loss:0.0004 Val Loss:0.5361 Val F1:0.7518\n",
      "Epoch:494/500 Train Loss:0.0004 Val Loss:0.5321 Val F1:0.7344\n",
      "Epoch:495/500 Train Loss:0.0001 Val Loss:0.5594 Val F1:0.732\n",
      "Epoch:496/500 Train Loss:0.0002 Val Loss:0.5438 Val F1:0.7499\n",
      "Epoch:497/500 Train Loss:0.0003 Val Loss:0.5016 Val F1:0.7761\n",
      "Epoch:498/500 Train Loss:0.0002 Val Loss:0.4795 Val F1:0.7705\n",
      "Epoch:499/500 Train Loss:0.0005 Val Loss:0.5249 Val F1:0.7656\n",
      "Epoch:500/500 Train Loss:0.0001 Val Loss:0.6 Val F1:0.7401\n"
     ]
    }
   ],
   "source": [
    "best_f1 = 0\n",
    "best_encoder = None\n",
    "best_mlp = None\n",
    "for e in range(1, epochs + 1):\n",
    "    train_loss = train(encoder, mlp, optimizer, train_loader, loss_fn, device)\n",
    "    val_loss, val_f1 = test(encoder, mlp, val_loader, loss_fn, device)\n",
    "    print(f\"Epoch:{e}/{epochs} Train Loss:{round(train_loss,4)} Val Loss:{round(val_loss,4)} Val F1:{round(val_f1, 4)}\")\n",
    "    if val_f1 > best_f1:\n",
    "        best_f1 = val_f1\n",
    "        best_encoder = deepcopy(encoder)\n",
    "        best_mlp = deepcopy(mlp)\n",
    "\n",
    "encoder = deepcopy(best_encoder)\n",
    "mlp = deepcopy(best_mlp)"
   ]
  },
  {
   "cell_type": "code",
   "execution_count": 16,
   "id": "8d8b5ba8",
   "metadata": {
    "scrolled": true
   },
   "outputs": [
    {
     "name": "stdout",
     "output_type": "stream",
     "text": [
      "0.796399217221135\n"
     ]
    }
   ],
   "source": [
    "print(best_f1)"
   ]
  },
  {
   "cell_type": "code",
   "execution_count": null,
   "id": "cc978347",
   "metadata": {},
   "outputs": [],
   "source": []
  },
  {
   "cell_type": "markdown",
   "id": "c8ea56b5",
   "metadata": {},
   "source": [
    "## Prequential Evaluation on Subsequent Time Steps ##"
   ]
  },
  {
   "cell_type": "code",
   "execution_count": 17,
   "id": "77538ff4",
   "metadata": {},
   "outputs": [],
   "source": [
    "def continual_adapt(split, src_train_loader, src_val_loader, encoder, mlp, device, lambda_coeff=1, lr=1e-3):\n",
    "    tgt_train_loader = DataLoader(dataset=[get_data(data_dir, \"elliptic\", i) for i in range(split[0],split[1])], batch_size=1, shuffle=True)\n",
    "    tgt_val_loader = DataLoader(dataset=[get_data(data_dir, \"elliptic\", i) for i in range(split[1],split[2])], batch_size=1, shuffle=False)\n",
    "    thetas = None # none adversarial\n",
    "    jmmd_loss = JointMultipleKernelMaximumMeanDiscrepancy(\n",
    "        kernels=(\n",
    "            [GaussianKernel(alpha=2 ** k) for k in range(-3, 2)],\n",
    "            (GaussianKernel(sigma=0.92, track_running_stats=False),)\n",
    "        ),\n",
    "        linear=False, thetas=thetas\n",
    "    ).to(device)\n",
    "    tgt_encoder, tgt_mlp = deepcopy(encoder), deepcopy(mlp)\n",
    "    tgt_optimizer = torch.optim.Adam(list(tgt_encoder.parameters()) + list(tgt_mlp.parameters()), lr=lr)\n",
    "    \n",
    "    epochs = 1000\n",
    "    best_val_loss = np.inf\n",
    "    best_val_cls_loss, best_val_transfer_loss = None, None\n",
    "    best_tgt_encoder, best_tgt_mlp = None, None\n",
    "    patience = 10\n",
    "    staleness = 0\n",
    "\n",
    "    for e in range(1, epochs + 1):\n",
    "        total_train_loss, total_train_cls_loss, total_train_transfer_loss = adapt(tgt_encoder, tgt_mlp, jmmd_loss, device, src_train_loader, tgt_train_loader, tgt_optimizer, e, epochs, lambda_coeff)\n",
    "        total_val_loss, total_val_cls_loss, total_val_transfer_loss = adapt_test(tgt_encoder, tgt_mlp, jmmd_loss, device, src_val_loader, tgt_val_loader, e, epochs, lambda_coeff)\n",
    "        if total_val_loss < best_val_loss:\n",
    "            best_val_loss = total_val_loss\n",
    "            best_val_cls_loss = total_val_cls_loss\n",
    "            best_val_transfer_loss = total_val_transfer_loss\n",
    "            best_tgt_encoder = deepcopy(tgt_encoder)\n",
    "            best_tgt_mlp = deepcopy(tgt_mlp)\n",
    "            staleness = 0\n",
    "        else:\n",
    "            staleness += 1\n",
    "        print(f'Epoch {e}/{epochs} Train Total Loss: {round(total_train_loss,3)} Train Src Cls Loss: {round(total_train_cls_loss,3)} Train Tgt Transfer Loss: {round(total_train_transfer_loss,3)} \\n Val Total Loss: {round(total_val_loss,3)} Val Src Cls Loss: {round(total_val_cls_loss,3)} Val Tgt Transfer Loss: {round(total_val_transfer_loss,3)}')\n",
    "\n",
    "        if staleness > patience:\n",
    "            break\n",
    "\n",
    "    tgt_encoder = deepcopy(best_tgt_encoder)\n",
    "    tgt_mlp = deepcopy(best_tgt_mlp)\n",
    "    \n",
    "    return tgt_encoder, tgt_mlp, best_val_loss, best_val_cls_loss, best_val_transfer_loss"
   ]
  },
  {
   "cell_type": "code",
   "execution_count": 18,
   "id": "093bc509",
   "metadata": {},
   "outputs": [],
   "source": [
    "lambda_coeff = 0.1\n",
    "lr = 1e-4"
   ]
  },
  {
   "cell_type": "code",
   "execution_count": 19,
   "id": "8a967c40",
   "metadata": {},
   "outputs": [],
   "source": [
    "f1_list = []\n",
    "f1_list.append(best_f1)"
   ]
  },
  {
   "cell_type": "code",
   "execution_count": null,
   "id": "e6720d28",
   "metadata": {},
   "outputs": [],
   "source": []
  },
  {
   "cell_type": "markdown",
   "id": "903eab0d",
   "metadata": {},
   "source": [
    "### 9-13 ###"
   ]
  },
  {
   "cell_type": "code",
   "execution_count": 20,
   "id": "4af0b27a",
   "metadata": {},
   "outputs": [],
   "source": [
    "test_data = [get_data(data_dir, \"elliptic\", i) for i in range(9,14)]\n",
    "test_loader = DataLoader(dataset=test_data, batch_size=1, shuffle=False)"
   ]
  },
  {
   "cell_type": "code",
   "execution_count": 21,
   "id": "98177228",
   "metadata": {},
   "outputs": [
    {
     "name": "stdout",
     "output_type": "stream",
     "text": [
      "Test Loss: 0.2805, Test F1: 0.6911\n"
     ]
    }
   ],
   "source": [
    "test_loss, test_f1 = test(encoder, mlp, test_loader, loss_fn, device)\n",
    "f1_list.append(test_f1)\n",
    "print(f\"Test Loss: {round(test_loss,4)}, Test F1: {round(test_f1,4)}\")"
   ]
  },
  {
   "cell_type": "code",
   "execution_count": 22,
   "id": "75a13fef",
   "metadata": {
    "scrolled": true
   },
   "outputs": [
    {
     "name": "stderr",
     "output_type": "stream",
     "text": [
      "100%|███████████████████████████████████████████████████████████████████████████████████████████████████████████████████| 5/5 [00:01<00:00,  2.69it/s]\n",
      "100%|███████████████████████████████████████████████████████████████████████████████████████████████████████████████████| 2/2 [00:00<00:00, 29.09it/s]\n"
     ]
    },
    {
     "name": "stdout",
     "output_type": "stream",
     "text": [
      "Epoch 1/1000 Train Total Loss: 0.024 Train Src Cls Loss: 0.006 Train Tgt Transfer Loss: 0.176 \n",
      " Val Total Loss: 0.24 Val Src Cls Loss: 0.227 Val Tgt Transfer Loss: 0.133\n"
     ]
    },
    {
     "name": "stderr",
     "output_type": "stream",
     "text": [
      "100%|███████████████████████████████████████████████████████████████████████████████████████████████████████████████████| 5/5 [00:00<00:00,  5.95it/s]\n",
      "100%|███████████████████████████████████████████████████████████████████████████████████████████████████████████████████| 2/2 [00:00<00:00, 29.13it/s]\n"
     ]
    },
    {
     "name": "stdout",
     "output_type": "stream",
     "text": [
      "Epoch 2/1000 Train Total Loss: 0.025 Train Src Cls Loss: 0.009 Train Tgt Transfer Loss: 0.163 \n",
      " Val Total Loss: 0.232 Val Src Cls Loss: 0.217 Val Tgt Transfer Loss: 0.147\n"
     ]
    },
    {
     "name": "stderr",
     "output_type": "stream",
     "text": [
      "100%|███████████████████████████████████████████████████████████████████████████████████████████████████████████████████| 5/5 [00:00<00:00,  5.65it/s]\n",
      "100%|███████████████████████████████████████████████████████████████████████████████████████████████████████████████████| 2/2 [00:00<00:00, 28.94it/s]\n"
     ]
    },
    {
     "name": "stdout",
     "output_type": "stream",
     "text": [
      "Epoch 3/1000 Train Total Loss: 0.023 Train Src Cls Loss: 0.007 Train Tgt Transfer Loss: 0.157 \n",
      " Val Total Loss: 0.245 Val Src Cls Loss: 0.233 Val Tgt Transfer Loss: 0.117\n"
     ]
    },
    {
     "name": "stderr",
     "output_type": "stream",
     "text": [
      "100%|███████████████████████████████████████████████████████████████████████████████████████████████████████████████████| 5/5 [00:00<00:00,  5.59it/s]\n",
      "100%|███████████████████████████████████████████████████████████████████████████████████████████████████████████████████| 2/2 [00:00<00:00, 28.72it/s]\n"
     ]
    },
    {
     "name": "stdout",
     "output_type": "stream",
     "text": [
      "Epoch 4/1000 Train Total Loss: 0.02 Train Src Cls Loss: 0.008 Train Tgt Transfer Loss: 0.12 \n",
      " Val Total Loss: 0.242 Val Src Cls Loss: 0.23 Val Tgt Transfer Loss: 0.115\n"
     ]
    },
    {
     "name": "stderr",
     "output_type": "stream",
     "text": [
      "100%|███████████████████████████████████████████████████████████████████████████████████████████████████████████████████| 5/5 [00:00<00:00,  5.89it/s]\n",
      "100%|███████████████████████████████████████████████████████████████████████████████████████████████████████████████████| 2/2 [00:00<00:00, 29.26it/s]\n"
     ]
    },
    {
     "name": "stdout",
     "output_type": "stream",
     "text": [
      "Epoch 5/1000 Train Total Loss: 0.017 Train Src Cls Loss: 0.006 Train Tgt Transfer Loss: 0.112 \n",
      " Val Total Loss: 0.249 Val Src Cls Loss: 0.238 Val Tgt Transfer Loss: 0.114\n"
     ]
    },
    {
     "name": "stderr",
     "output_type": "stream",
     "text": [
      "100%|███████████████████████████████████████████████████████████████████████████████████████████████████████████████████| 5/5 [00:00<00:00,  5.68it/s]\n",
      "100%|███████████████████████████████████████████████████████████████████████████████████████████████████████████████████| 2/2 [00:00<00:00, 14.65it/s]\n"
     ]
    },
    {
     "name": "stdout",
     "output_type": "stream",
     "text": [
      "Epoch 6/1000 Train Total Loss: 0.018 Train Src Cls Loss: 0.009 Train Tgt Transfer Loss: 0.083 \n",
      " Val Total Loss: 0.246 Val Src Cls Loss: 0.237 Val Tgt Transfer Loss: 0.098\n"
     ]
    },
    {
     "name": "stderr",
     "output_type": "stream",
     "text": [
      "100%|███████████████████████████████████████████████████████████████████████████████████████████████████████████████████| 5/5 [00:00<00:00,  6.08it/s]\n",
      "100%|███████████████████████████████████████████████████████████████████████████████████████████████████████████████████| 2/2 [00:00<00:00, 15.12it/s]\n"
     ]
    },
    {
     "name": "stdout",
     "output_type": "stream",
     "text": [
      "Epoch 7/1000 Train Total Loss: 0.019 Train Src Cls Loss: 0.009 Train Tgt Transfer Loss: 0.104 \n",
      " Val Total Loss: 0.241 Val Src Cls Loss: 0.23 Val Tgt Transfer Loss: 0.106\n"
     ]
    },
    {
     "name": "stderr",
     "output_type": "stream",
     "text": [
      "100%|███████████████████████████████████████████████████████████████████████████████████████████████████████████████████| 5/5 [00:00<00:00,  6.27it/s]\n",
      "100%|███████████████████████████████████████████████████████████████████████████████████████████████████████████████████| 2/2 [00:00<00:00, 14.44it/s]\n"
     ]
    },
    {
     "name": "stdout",
     "output_type": "stream",
     "text": [
      "Epoch 8/1000 Train Total Loss: 0.017 Train Src Cls Loss: 0.007 Train Tgt Transfer Loss: 0.104 \n",
      " Val Total Loss: 0.243 Val Src Cls Loss: 0.234 Val Tgt Transfer Loss: 0.094\n"
     ]
    },
    {
     "name": "stderr",
     "output_type": "stream",
     "text": [
      "100%|███████████████████████████████████████████████████████████████████████████████████████████████████████████████████| 5/5 [00:00<00:00,  6.13it/s]\n",
      "100%|███████████████████████████████████████████████████████████████████████████████████████████████████████████████████| 2/2 [00:00<00:00, 14.71it/s]\n"
     ]
    },
    {
     "name": "stdout",
     "output_type": "stream",
     "text": [
      "Epoch 9/1000 Train Total Loss: 0.016 Train Src Cls Loss: 0.007 Train Tgt Transfer Loss: 0.093 \n",
      " Val Total Loss: 0.218 Val Src Cls Loss: 0.209 Val Tgt Transfer Loss: 0.095\n"
     ]
    },
    {
     "name": "stderr",
     "output_type": "stream",
     "text": [
      "100%|███████████████████████████████████████████████████████████████████████████████████████████████████████████████████| 5/5 [00:00<00:00,  6.57it/s]\n",
      "100%|███████████████████████████████████████████████████████████████████████████████████████████████████████████████████| 2/2 [00:00<00:00, 14.73it/s]\n"
     ]
    },
    {
     "name": "stdout",
     "output_type": "stream",
     "text": [
      "Epoch 10/1000 Train Total Loss: 0.017 Train Src Cls Loss: 0.005 Train Tgt Transfer Loss: 0.113 \n",
      " Val Total Loss: 0.236 Val Src Cls Loss: 0.227 Val Tgt Transfer Loss: 0.094\n"
     ]
    },
    {
     "name": "stderr",
     "output_type": "stream",
     "text": [
      "100%|███████████████████████████████████████████████████████████████████████████████████████████████████████████████████| 5/5 [00:00<00:00,  6.36it/s]\n",
      "100%|███████████████████████████████████████████████████████████████████████████████████████████████████████████████████| 2/2 [00:00<00:00, 13.46it/s]\n"
     ]
    },
    {
     "name": "stdout",
     "output_type": "stream",
     "text": [
      "Epoch 11/1000 Train Total Loss: 0.016 Train Src Cls Loss: 0.008 Train Tgt Transfer Loss: 0.082 \n",
      " Val Total Loss: 0.244 Val Src Cls Loss: 0.235 Val Tgt Transfer Loss: 0.092\n"
     ]
    },
    {
     "name": "stderr",
     "output_type": "stream",
     "text": [
      "100%|███████████████████████████████████████████████████████████████████████████████████████████████████████████████████| 5/5 [00:00<00:00,  6.20it/s]\n",
      "100%|███████████████████████████████████████████████████████████████████████████████████████████████████████████████████| 2/2 [00:00<00:00, 14.77it/s]\n"
     ]
    },
    {
     "name": "stdout",
     "output_type": "stream",
     "text": [
      "Epoch 12/1000 Train Total Loss: 0.015 Train Src Cls Loss: 0.005 Train Tgt Transfer Loss: 0.1 \n",
      " Val Total Loss: 0.235 Val Src Cls Loss: 0.226 Val Tgt Transfer Loss: 0.092\n"
     ]
    },
    {
     "name": "stderr",
     "output_type": "stream",
     "text": [
      "100%|███████████████████████████████████████████████████████████████████████████████████████████████████████████████████| 5/5 [00:00<00:00,  5.57it/s]\n",
      "100%|███████████████████████████████████████████████████████████████████████████████████████████████████████████████████| 2/2 [00:00<00:00, 29.27it/s]\n"
     ]
    },
    {
     "name": "stdout",
     "output_type": "stream",
     "text": [
      "Epoch 13/1000 Train Total Loss: 0.015 Train Src Cls Loss: 0.008 Train Tgt Transfer Loss: 0.07 \n",
      " Val Total Loss: 0.241 Val Src Cls Loss: 0.233 Val Tgt Transfer Loss: 0.082\n"
     ]
    },
    {
     "name": "stderr",
     "output_type": "stream",
     "text": [
      "100%|███████████████████████████████████████████████████████████████████████████████████████████████████████████████████| 5/5 [00:00<00:00,  5.81it/s]\n",
      "100%|███████████████████████████████████████████████████████████████████████████████████████████████████████████████████| 2/2 [00:00<00:00, 28.88it/s]\n"
     ]
    },
    {
     "name": "stdout",
     "output_type": "stream",
     "text": [
      "Epoch 14/1000 Train Total Loss: 0.014 Train Src Cls Loss: 0.006 Train Tgt Transfer Loss: 0.074 \n",
      " Val Total Loss: 0.23 Val Src Cls Loss: 0.223 Val Tgt Transfer Loss: 0.072\n"
     ]
    },
    {
     "name": "stderr",
     "output_type": "stream",
     "text": [
      "100%|███████████████████████████████████████████████████████████████████████████████████████████████████████████████████| 5/5 [00:00<00:00,  5.59it/s]\n",
      "100%|███████████████████████████████████████████████████████████████████████████████████████████████████████████████████| 2/2 [00:00<00:00, 28.87it/s]\n"
     ]
    },
    {
     "name": "stdout",
     "output_type": "stream",
     "text": [
      "Epoch 15/1000 Train Total Loss: 0.013 Train Src Cls Loss: 0.007 Train Tgt Transfer Loss: 0.068 \n",
      " Val Total Loss: 0.225 Val Src Cls Loss: 0.217 Val Tgt Transfer Loss: 0.076\n"
     ]
    },
    {
     "name": "stderr",
     "output_type": "stream",
     "text": [
      "100%|███████████████████████████████████████████████████████████████████████████████████████████████████████████████████| 5/5 [00:00<00:00,  5.77it/s]\n",
      "100%|███████████████████████████████████████████████████████████████████████████████████████████████████████████████████| 2/2 [00:00<00:00, 28.42it/s]\n"
     ]
    },
    {
     "name": "stdout",
     "output_type": "stream",
     "text": [
      "Epoch 16/1000 Train Total Loss: 0.015 Train Src Cls Loss: 0.006 Train Tgt Transfer Loss: 0.093 \n",
      " Val Total Loss: 0.248 Val Src Cls Loss: 0.241 Val Tgt Transfer Loss: 0.072\n"
     ]
    },
    {
     "name": "stderr",
     "output_type": "stream",
     "text": [
      "100%|███████████████████████████████████████████████████████████████████████████████████████████████████████████████████| 5/5 [00:00<00:00,  5.92it/s]\n",
      "100%|███████████████████████████████████████████████████████████████████████████████████████████████████████████████████| 2/2 [00:00<00:00, 28.64it/s]\n"
     ]
    },
    {
     "name": "stdout",
     "output_type": "stream",
     "text": [
      "Epoch 17/1000 Train Total Loss: 0.015 Train Src Cls Loss: 0.008 Train Tgt Transfer Loss: 0.07 \n",
      " Val Total Loss: 0.259 Val Src Cls Loss: 0.252 Val Tgt Transfer Loss: 0.069\n"
     ]
    },
    {
     "name": "stderr",
     "output_type": "stream",
     "text": [
      "100%|███████████████████████████████████████████████████████████████████████████████████████████████████████████████████| 5/5 [00:00<00:00,  5.78it/s]\n",
      "100%|███████████████████████████████████████████████████████████████████████████████████████████████████████████████████| 2/2 [00:00<00:00, 25.26it/s]\n"
     ]
    },
    {
     "name": "stdout",
     "output_type": "stream",
     "text": [
      "Epoch 18/1000 Train Total Loss: 0.016 Train Src Cls Loss: 0.01 Train Tgt Transfer Loss: 0.068 \n",
      " Val Total Loss: 0.248 Val Src Cls Loss: 0.241 Val Tgt Transfer Loss: 0.074\n"
     ]
    },
    {
     "name": "stderr",
     "output_type": "stream",
     "text": [
      "100%|███████████████████████████████████████████████████████████████████████████████████████████████████████████████████| 5/5 [00:00<00:00,  5.66it/s]\n",
      "100%|███████████████████████████████████████████████████████████████████████████████████████████████████████████████████| 2/2 [00:00<00:00, 28.28it/s]\n"
     ]
    },
    {
     "name": "stdout",
     "output_type": "stream",
     "text": [
      "Epoch 19/1000 Train Total Loss: 0.016 Train Src Cls Loss: 0.009 Train Tgt Transfer Loss: 0.067 \n",
      " Val Total Loss: 0.256 Val Src Cls Loss: 0.249 Val Tgt Transfer Loss: 0.07\n"
     ]
    },
    {
     "name": "stderr",
     "output_type": "stream",
     "text": [
      "100%|███████████████████████████████████████████████████████████████████████████████████████████████████████████████████| 5/5 [00:00<00:00,  5.95it/s]\n",
      "100%|███████████████████████████████████████████████████████████████████████████████████████████████████████████████████| 2/2 [00:00<00:00, 27.85it/s]"
     ]
    },
    {
     "name": "stdout",
     "output_type": "stream",
     "text": [
      "Epoch 20/1000 Train Total Loss: 0.015 Train Src Cls Loss: 0.007 Train Tgt Transfer Loss: 0.074 \n",
      " Val Total Loss: 0.249 Val Src Cls Loss: 0.243 Val Tgt Transfer Loss: 0.065\n"
     ]
    },
    {
     "name": "stderr",
     "output_type": "stream",
     "text": [
      "\n"
     ]
    }
   ],
   "source": [
    "encoder_9_14, mlp_9_14, best_val_loss, best_val_cls_loss, best_val_transfer_loss = continual_adapt([7,12,14], train_loader, val_loader, encoder, mlp, device, lambda_coeff=lambda_coeff, lr=lr)"
   ]
  },
  {
   "cell_type": "code",
   "execution_count": 23,
   "id": "fcb6d64e",
   "metadata": {},
   "outputs": [
    {
     "name": "stdout",
     "output_type": "stream",
     "text": [
      "Total Val Loss: 0.218, Val Cls Loss: 0.209, Val Transfer Loss: 0.095\n"
     ]
    }
   ],
   "source": [
    "print(f'Total Val Loss: {round(best_val_loss, 3)}, Val Cls Loss: {round(best_val_cls_loss, 3)}, Val Transfer Loss: {round(best_val_transfer_loss, 3)}')"
   ]
  },
  {
   "cell_type": "markdown",
   "id": "9db88096",
   "metadata": {},
   "source": [
    "### 14-18 ###"
   ]
  },
  {
   "cell_type": "code",
   "execution_count": 24,
   "id": "55243d5c",
   "metadata": {},
   "outputs": [],
   "source": [
    "test_data = [get_data(data_dir, \"elliptic\", i) for i in range(14,19)]\n",
    "test_loader = DataLoader(dataset=test_data, batch_size=1, shuffle=False)"
   ]
  },
  {
   "cell_type": "code",
   "execution_count": 25,
   "id": "8bfdc043",
   "metadata": {
    "scrolled": false
   },
   "outputs": [
    {
     "name": "stdout",
     "output_type": "stream",
     "text": [
      "Test Loss: 0.3726, Test F1: 0.736\n"
     ]
    }
   ],
   "source": [
    "test_loss, test_f1 = test(encoder_9_14, mlp_9_14, test_loader, loss_fn, device)\n",
    "f1_list.append(test_f1)\n",
    "print(f\"Test Loss: {round(test_loss,4)}, Test F1: {round(test_f1,4)}\")"
   ]
  },
  {
   "cell_type": "code",
   "execution_count": 26,
   "id": "f73fb2e1",
   "metadata": {
    "scrolled": true
   },
   "outputs": [
    {
     "name": "stderr",
     "output_type": "stream",
     "text": [
      "100%|███████████████████████████████████████████████████████████████████████████████████████████████████████████████████| 5/5 [00:01<00:00,  2.85it/s]\n",
      "100%|███████████████████████████████████████████████████████████████████████████████████████████████████████████████████| 2/2 [00:00<00:00, 30.91it/s]\n"
     ]
    },
    {
     "name": "stdout",
     "output_type": "stream",
     "text": [
      "Epoch 1/1000 Train Total Loss: 0.037 Train Src Cls Loss: 0.005 Train Tgt Transfer Loss: 0.321 \n",
      " Val Total Loss: 0.228 Val Src Cls Loss: 0.217 Val Tgt Transfer Loss: 0.116\n"
     ]
    },
    {
     "name": "stderr",
     "output_type": "stream",
     "text": [
      "100%|███████████████████████████████████████████████████████████████████████████████████████████████████████████████████| 5/5 [00:00<00:00,  6.15it/s]\n",
      "100%|███████████████████████████████████████████████████████████████████████████████████████████████████████████████████| 2/2 [00:00<00:00, 32.25it/s]\n"
     ]
    },
    {
     "name": "stdout",
     "output_type": "stream",
     "text": [
      "Epoch 2/1000 Train Total Loss: 0.03 Train Src Cls Loss: 0.006 Train Tgt Transfer Loss: 0.236 \n",
      " Val Total Loss: 0.253 Val Src Cls Loss: 0.242 Val Tgt Transfer Loss: 0.106\n"
     ]
    },
    {
     "name": "stderr",
     "output_type": "stream",
     "text": [
      "100%|███████████████████████████████████████████████████████████████████████████████████████████████████████████████████| 5/5 [00:00<00:00,  6.99it/s]\n",
      "100%|███████████████████████████████████████████████████████████████████████████████████████████████████████████████████| 2/2 [00:00<00:00, 15.84it/s]\n"
     ]
    },
    {
     "name": "stdout",
     "output_type": "stream",
     "text": [
      "Epoch 3/1000 Train Total Loss: 0.027 Train Src Cls Loss: 0.007 Train Tgt Transfer Loss: 0.204 \n",
      " Val Total Loss: 0.258 Val Src Cls Loss: 0.249 Val Tgt Transfer Loss: 0.094\n"
     ]
    },
    {
     "name": "stderr",
     "output_type": "stream",
     "text": [
      "100%|███████████████████████████████████████████████████████████████████████████████████████████████████████████████████| 5/5 [00:00<00:00,  6.82it/s]\n",
      "100%|███████████████████████████████████████████████████████████████████████████████████████████████████████████████████| 2/2 [00:00<00:00, 15.52it/s]\n"
     ]
    },
    {
     "name": "stdout",
     "output_type": "stream",
     "text": [
      "Epoch 4/1000 Train Total Loss: 0.028 Train Src Cls Loss: 0.011 Train Tgt Transfer Loss: 0.167 \n",
      " Val Total Loss: 0.269 Val Src Cls Loss: 0.26 Val Tgt Transfer Loss: 0.086\n"
     ]
    },
    {
     "name": "stderr",
     "output_type": "stream",
     "text": [
      "100%|███████████████████████████████████████████████████████████████████████████████████████████████████████████████████| 5/5 [00:00<00:00,  6.83it/s]\n",
      "100%|███████████████████████████████████████████████████████████████████████████████████████████████████████████████████| 2/2 [00:00<00:00, 15.54it/s]\n"
     ]
    },
    {
     "name": "stdout",
     "output_type": "stream",
     "text": [
      "Epoch 5/1000 Train Total Loss: 0.025 Train Src Cls Loss: 0.011 Train Tgt Transfer Loss: 0.134 \n",
      " Val Total Loss: 0.261 Val Src Cls Loss: 0.253 Val Tgt Transfer Loss: 0.079\n"
     ]
    },
    {
     "name": "stderr",
     "output_type": "stream",
     "text": [
      "100%|███████████████████████████████████████████████████████████████████████████████████████████████████████████████████| 5/5 [00:00<00:00,  7.23it/s]\n",
      "100%|███████████████████████████████████████████████████████████████████████████████████████████████████████████████████| 2/2 [00:00<00:00, 32.17it/s]\n"
     ]
    },
    {
     "name": "stdout",
     "output_type": "stream",
     "text": [
      "Epoch 6/1000 Train Total Loss: 0.021 Train Src Cls Loss: 0.007 Train Tgt Transfer Loss: 0.146 \n",
      " Val Total Loss: 0.261 Val Src Cls Loss: 0.254 Val Tgt Transfer Loss: 0.07\n"
     ]
    },
    {
     "name": "stderr",
     "output_type": "stream",
     "text": [
      "100%|███████████████████████████████████████████████████████████████████████████████████████████████████████████████████| 5/5 [00:00<00:00,  6.31it/s]\n",
      "100%|███████████████████████████████████████████████████████████████████████████████████████████████████████████████████| 2/2 [00:00<00:00, 32.36it/s]\n"
     ]
    },
    {
     "name": "stdout",
     "output_type": "stream",
     "text": [
      "Epoch 7/1000 Train Total Loss: 0.019 Train Src Cls Loss: 0.007 Train Tgt Transfer Loss: 0.125 \n",
      " Val Total Loss: 0.241 Val Src Cls Loss: 0.236 Val Tgt Transfer Loss: 0.055\n"
     ]
    },
    {
     "name": "stderr",
     "output_type": "stream",
     "text": [
      "100%|███████████████████████████████████████████████████████████████████████████████████████████████████████████████████| 5/5 [00:00<00:00,  6.40it/s]\n",
      "100%|███████████████████████████████████████████████████████████████████████████████████████████████████████████████████| 2/2 [00:00<00:00, 32.39it/s]\n"
     ]
    },
    {
     "name": "stdout",
     "output_type": "stream",
     "text": [
      "Epoch 8/1000 Train Total Loss: 0.022 Train Src Cls Loss: 0.012 Train Tgt Transfer Loss: 0.104 \n",
      " Val Total Loss: 0.246 Val Src Cls Loss: 0.241 Val Tgt Transfer Loss: 0.054\n"
     ]
    },
    {
     "name": "stderr",
     "output_type": "stream",
     "text": [
      "100%|███████████████████████████████████████████████████████████████████████████████████████████████████████████████████| 5/5 [00:00<00:00,  6.43it/s]\n",
      "100%|███████████████████████████████████████████████████████████████████████████████████████████████████████████████████| 2/2 [00:00<00:00, 32.83it/s]\n"
     ]
    },
    {
     "name": "stdout",
     "output_type": "stream",
     "text": [
      "Epoch 9/1000 Train Total Loss: 0.019 Train Src Cls Loss: 0.008 Train Tgt Transfer Loss: 0.11 \n",
      " Val Total Loss: 0.234 Val Src Cls Loss: 0.229 Val Tgt Transfer Loss: 0.057\n"
     ]
    },
    {
     "name": "stderr",
     "output_type": "stream",
     "text": [
      "100%|███████████████████████████████████████████████████████████████████████████████████████████████████████████████████| 5/5 [00:00<00:00,  6.78it/s]\n",
      "100%|███████████████████████████████████████████████████████████████████████████████████████████████████████████████████| 2/2 [00:00<00:00, 15.81it/s]\n"
     ]
    },
    {
     "name": "stdout",
     "output_type": "stream",
     "text": [
      "Epoch 10/1000 Train Total Loss: 0.019 Train Src Cls Loss: 0.008 Train Tgt Transfer Loss: 0.114 \n",
      " Val Total Loss: 0.273 Val Src Cls Loss: 0.267 Val Tgt Transfer Loss: 0.052\n"
     ]
    },
    {
     "name": "stderr",
     "output_type": "stream",
     "text": [
      "100%|███████████████████████████████████████████████████████████████████████████████████████████████████████████████████| 5/5 [00:00<00:00,  6.81it/s]\n",
      "100%|███████████████████████████████████████████████████████████████████████████████████████████████████████████████████| 2/2 [00:00<00:00, 15.24it/s]\n"
     ]
    },
    {
     "name": "stdout",
     "output_type": "stream",
     "text": [
      "Epoch 11/1000 Train Total Loss: 0.016 Train Src Cls Loss: 0.006 Train Tgt Transfer Loss: 0.102 \n",
      " Val Total Loss: 0.274 Val Src Cls Loss: 0.268 Val Tgt Transfer Loss: 0.058\n"
     ]
    },
    {
     "name": "stderr",
     "output_type": "stream",
     "text": [
      "100%|███████████████████████████████████████████████████████████████████████████████████████████████████████████████████| 5/5 [00:00<00:00,  7.07it/s]\n",
      "100%|███████████████████████████████████████████████████████████████████████████████████████████████████████████████████| 2/2 [00:00<00:00, 15.42it/s]"
     ]
    },
    {
     "name": "stdout",
     "output_type": "stream",
     "text": [
      "Epoch 12/1000 Train Total Loss: 0.02 Train Src Cls Loss: 0.011 Train Tgt Transfer Loss: 0.093 \n",
      " Val Total Loss: 0.283 Val Src Cls Loss: 0.279 Val Tgt Transfer Loss: 0.035\n"
     ]
    },
    {
     "name": "stderr",
     "output_type": "stream",
     "text": [
      "\n"
     ]
    }
   ],
   "source": [
    "encoder_14_19, mlp_14_19, best_val_loss, best_val_cls_loss, best_val_transfer_loss = continual_adapt([12,17,19], train_loader, val_loader, encoder_9_14, mlp_9_14, device, lambda_coeff=lambda_coeff, lr=lr)"
   ]
  },
  {
   "cell_type": "code",
   "execution_count": 27,
   "id": "c58b7fd9",
   "metadata": {
    "scrolled": true
   },
   "outputs": [
    {
     "name": "stdout",
     "output_type": "stream",
     "text": [
      "Total Val Loss: 0.228, Val Cls Loss: 0.217, Val Transfer Loss: 0.116\n"
     ]
    }
   ],
   "source": [
    "print(f'Total Val Loss: {round(best_val_loss, 3)}, Val Cls Loss: {round(best_val_cls_loss, 3)}, Val Transfer Loss: {round(best_val_transfer_loss, 3)}')"
   ]
  },
  {
   "cell_type": "markdown",
   "id": "b0fe1ff7",
   "metadata": {},
   "source": [
    "### 19-23 ###"
   ]
  },
  {
   "cell_type": "code",
   "execution_count": 28,
   "id": "7550e6bc",
   "metadata": {},
   "outputs": [],
   "source": [
    "test_data = [get_data(data_dir, \"elliptic\", i) for i in range(19,24)]\n",
    "test_loader_19_24 = DataLoader(dataset=test_data, batch_size=1, shuffle=False)"
   ]
  },
  {
   "cell_type": "code",
   "execution_count": 29,
   "id": "ea43f843",
   "metadata": {
    "scrolled": true
   },
   "outputs": [
    {
     "name": "stdout",
     "output_type": "stream",
     "text": [
      "Test Loss: 0.9078, Test F1: 0.4623\n"
     ]
    }
   ],
   "source": [
    "test_loss, test_f1 = test(encoder_14_19, mlp_14_19, test_loader_19_24, loss_fn, device)\n",
    "f1_list.append(test_f1)\n",
    "print(f\"Test Loss: {round(test_loss,4)}, Test F1: {round(test_f1,4)}\")"
   ]
  },
  {
   "cell_type": "code",
   "execution_count": 30,
   "id": "25cd78f9",
   "metadata": {
    "scrolled": true
   },
   "outputs": [
    {
     "name": "stderr",
     "output_type": "stream",
     "text": [
      "100%|███████████████████████████████████████████████████████████████████████████████████████████████████████████████████| 5/5 [00:01<00:00,  2.90it/s]\n",
      "100%|███████████████████████████████████████████████████████████████████████████████████████████████████████████████████| 2/2 [00:00<00:00, 13.01it/s]\n"
     ]
    },
    {
     "name": "stdout",
     "output_type": "stream",
     "text": [
      "Epoch 1/1000 Train Total Loss: 0.065 Train Src Cls Loss: 0.005 Train Tgt Transfer Loss: 0.599 \n",
      " Val Total Loss: 0.285 Val Src Cls Loss: 0.246 Val Tgt Transfer Loss: 0.387\n"
     ]
    },
    {
     "name": "stderr",
     "output_type": "stream",
     "text": [
      "100%|███████████████████████████████████████████████████████████████████████████████████████████████████████████████████| 5/5 [00:00<00:00,  6.44it/s]\n",
      "100%|███████████████████████████████████████████████████████████████████████████████████████████████████████████████████| 2/2 [00:00<00:00, 13.20it/s]\n"
     ]
    },
    {
     "name": "stdout",
     "output_type": "stream",
     "text": [
      "Epoch 2/1000 Train Total Loss: 0.058 Train Src Cls Loss: 0.008 Train Tgt Transfer Loss: 0.501 \n",
      " Val Total Loss: 0.268 Val Src Cls Loss: 0.237 Val Tgt Transfer Loss: 0.316\n"
     ]
    },
    {
     "name": "stderr",
     "output_type": "stream",
     "text": [
      "100%|███████████████████████████████████████████████████████████████████████████████████████████████████████████████████| 5/5 [00:00<00:00,  6.68it/s]\n",
      "100%|███████████████████████████████████████████████████████████████████████████████████████████████████████████████████| 2/2 [00:00<00:00, 13.29it/s]\n"
     ]
    },
    {
     "name": "stdout",
     "output_type": "stream",
     "text": [
      "Epoch 3/1000 Train Total Loss: 0.054 Train Src Cls Loss: 0.01 Train Tgt Transfer Loss: 0.443 \n",
      " Val Total Loss: 0.274 Val Src Cls Loss: 0.247 Val Tgt Transfer Loss: 0.268\n"
     ]
    },
    {
     "name": "stderr",
     "output_type": "stream",
     "text": [
      "100%|███████████████████████████████████████████████████████████████████████████████████████████████████████████████████| 5/5 [00:00<00:00,  6.65it/s]\n",
      "100%|███████████████████████████████████████████████████████████████████████████████████████████████████████████████████| 2/2 [00:00<00:00, 12.74it/s]\n"
     ]
    },
    {
     "name": "stdout",
     "output_type": "stream",
     "text": [
      "Epoch 4/1000 Train Total Loss: 0.049 Train Src Cls Loss: 0.008 Train Tgt Transfer Loss: 0.409 \n",
      " Val Total Loss: 0.272 Val Src Cls Loss: 0.248 Val Tgt Transfer Loss: 0.24\n"
     ]
    },
    {
     "name": "stderr",
     "output_type": "stream",
     "text": [
      "100%|███████████████████████████████████████████████████████████████████████████████████████████████████████████████████| 5/5 [00:00<00:00,  6.69it/s]\n",
      "100%|███████████████████████████████████████████████████████████████████████████████████████████████████████████████████| 2/2 [00:00<00:00, 12.87it/s]\n"
     ]
    },
    {
     "name": "stdout",
     "output_type": "stream",
     "text": [
      "Epoch 5/1000 Train Total Loss: 0.043 Train Src Cls Loss: 0.008 Train Tgt Transfer Loss: 0.344 \n",
      " Val Total Loss: 0.267 Val Src Cls Loss: 0.247 Val Tgt Transfer Loss: 0.197\n"
     ]
    },
    {
     "name": "stderr",
     "output_type": "stream",
     "text": [
      "100%|███████████████████████████████████████████████████████████████████████████████████████████████████████████████████| 5/5 [00:00<00:00,  6.80it/s]\n",
      "100%|███████████████████████████████████████████████████████████████████████████████████████████████████████████████████| 2/2 [00:00<00:00, 12.85it/s]\n"
     ]
    },
    {
     "name": "stdout",
     "output_type": "stream",
     "text": [
      "Epoch 6/1000 Train Total Loss: 0.037 Train Src Cls Loss: 0.011 Train Tgt Transfer Loss: 0.266 \n",
      " Val Total Loss: 0.285 Val Src Cls Loss: 0.266 Val Tgt Transfer Loss: 0.185\n"
     ]
    },
    {
     "name": "stderr",
     "output_type": "stream",
     "text": [
      "100%|███████████████████████████████████████████████████████████████████████████████████████████████████████████████████| 5/5 [00:00<00:00,  6.54it/s]\n",
      "100%|███████████████████████████████████████████████████████████████████████████████████████████████████████████████████| 2/2 [00:00<00:00, 13.01it/s]\n"
     ]
    },
    {
     "name": "stdout",
     "output_type": "stream",
     "text": [
      "Epoch 7/1000 Train Total Loss: 0.034 Train Src Cls Loss: 0.007 Train Tgt Transfer Loss: 0.268 \n",
      " Val Total Loss: 0.269 Val Src Cls Loss: 0.253 Val Tgt Transfer Loss: 0.159\n"
     ]
    },
    {
     "name": "stderr",
     "output_type": "stream",
     "text": [
      "100%|███████████████████████████████████████████████████████████████████████████████████████████████████████████████████| 5/5 [00:00<00:00,  6.60it/s]\n",
      "100%|███████████████████████████████████████████████████████████████████████████████████████████████████████████████████| 2/2 [00:00<00:00, 12.71it/s]\n"
     ]
    },
    {
     "name": "stdout",
     "output_type": "stream",
     "text": [
      "Epoch 8/1000 Train Total Loss: 0.033 Train Src Cls Loss: 0.008 Train Tgt Transfer Loss: 0.247 \n",
      " Val Total Loss: 0.263 Val Src Cls Loss: 0.248 Val Tgt Transfer Loss: 0.141\n"
     ]
    },
    {
     "name": "stderr",
     "output_type": "stream",
     "text": [
      "100%|███████████████████████████████████████████████████████████████████████████████████████████████████████████████████| 5/5 [00:00<00:00,  6.51it/s]\n",
      "100%|███████████████████████████████████████████████████████████████████████████████████████████████████████████████████| 2/2 [00:00<00:00, 13.05it/s]\n"
     ]
    },
    {
     "name": "stdout",
     "output_type": "stream",
     "text": [
      "Epoch 9/1000 Train Total Loss: 0.03 Train Src Cls Loss: 0.008 Train Tgt Transfer Loss: 0.222 \n",
      " Val Total Loss: 0.288 Val Src Cls Loss: 0.276 Val Tgt Transfer Loss: 0.127\n"
     ]
    },
    {
     "name": "stderr",
     "output_type": "stream",
     "text": [
      "100%|███████████████████████████████████████████████████████████████████████████████████████████████████████████████████| 5/5 [00:00<00:00,  5.93it/s]\n",
      "100%|███████████████████████████████████████████████████████████████████████████████████████████████████████████████████| 2/2 [00:00<00:00, 23.11it/s]\n"
     ]
    },
    {
     "name": "stdout",
     "output_type": "stream",
     "text": [
      "Epoch 10/1000 Train Total Loss: 0.027 Train Src Cls Loss: 0.007 Train Tgt Transfer Loss: 0.199 \n",
      " Val Total Loss: 0.277 Val Src Cls Loss: 0.266 Val Tgt Transfer Loss: 0.114\n"
     ]
    },
    {
     "name": "stderr",
     "output_type": "stream",
     "text": [
      "100%|███████████████████████████████████████████████████████████████████████████████████████████████████████████████████| 5/5 [00:00<00:00,  6.94it/s]\n",
      "100%|███████████████████████████████████████████████████████████████████████████████████████████████████████████████████| 2/2 [00:00<00:00, 13.26it/s]\n"
     ]
    },
    {
     "name": "stdout",
     "output_type": "stream",
     "text": [
      "Epoch 11/1000 Train Total Loss: 0.033 Train Src Cls Loss: 0.015 Train Tgt Transfer Loss: 0.179 \n",
      " Val Total Loss: 0.293 Val Src Cls Loss: 0.283 Val Tgt Transfer Loss: 0.109\n"
     ]
    },
    {
     "name": "stderr",
     "output_type": "stream",
     "text": [
      "100%|███████████████████████████████████████████████████████████████████████████████████████████████████████████████████| 5/5 [00:00<00:00,  6.92it/s]\n",
      "100%|███████████████████████████████████████████████████████████████████████████████████████████████████████████████████| 2/2 [00:00<00:00, 13.06it/s]\n"
     ]
    },
    {
     "name": "stdout",
     "output_type": "stream",
     "text": [
      "Epoch 12/1000 Train Total Loss: 0.031 Train Src Cls Loss: 0.015 Train Tgt Transfer Loss: 0.16 \n",
      " Val Total Loss: 0.265 Val Src Cls Loss: 0.256 Val Tgt Transfer Loss: 0.089\n"
     ]
    },
    {
     "name": "stderr",
     "output_type": "stream",
     "text": [
      "100%|███████████████████████████████████████████████████████████████████████████████████████████████████████████████████| 5/5 [00:00<00:00,  6.78it/s]\n",
      "100%|███████████████████████████████████████████████████████████████████████████████████████████████████████████████████| 2/2 [00:00<00:00, 13.00it/s]\n"
     ]
    },
    {
     "name": "stdout",
     "output_type": "stream",
     "text": [
      "Epoch 13/1000 Train Total Loss: 0.025 Train Src Cls Loss: 0.008 Train Tgt Transfer Loss: 0.172 \n",
      " Val Total Loss: 0.257 Val Src Cls Loss: 0.248 Val Tgt Transfer Loss: 0.092\n"
     ]
    },
    {
     "name": "stderr",
     "output_type": "stream",
     "text": [
      "100%|███████████████████████████████████████████████████████████████████████████████████████████████████████████████████| 5/5 [00:00<00:00,  6.44it/s]\n",
      "100%|███████████████████████████████████████████████████████████████████████████████████████████████████████████████████| 2/2 [00:00<00:00, 13.12it/s]\n"
     ]
    },
    {
     "name": "stdout",
     "output_type": "stream",
     "text": [
      "Epoch 14/1000 Train Total Loss: 0.029 Train Src Cls Loss: 0.014 Train Tgt Transfer Loss: 0.152 \n",
      " Val Total Loss: 0.271 Val Src Cls Loss: 0.262 Val Tgt Transfer Loss: 0.086\n"
     ]
    },
    {
     "name": "stderr",
     "output_type": "stream",
     "text": [
      "100%|███████████████████████████████████████████████████████████████████████████████████████████████████████████████████| 5/5 [00:00<00:00,  6.90it/s]\n",
      "100%|███████████████████████████████████████████████████████████████████████████████████████████████████████████████████| 2/2 [00:00<00:00, 12.95it/s]\n"
     ]
    },
    {
     "name": "stdout",
     "output_type": "stream",
     "text": [
      "Epoch 15/1000 Train Total Loss: 0.027 Train Src Cls Loss: 0.012 Train Tgt Transfer Loss: 0.149 \n",
      " Val Total Loss: 0.272 Val Src Cls Loss: 0.264 Val Tgt Transfer Loss: 0.075\n"
     ]
    },
    {
     "name": "stderr",
     "output_type": "stream",
     "text": [
      "100%|███████████████████████████████████████████████████████████████████████████████████████████████████████████████████| 5/5 [00:00<00:00,  6.45it/s]\n",
      "100%|███████████████████████████████████████████████████████████████████████████████████████████████████████████████████| 2/2 [00:00<00:00, 13.29it/s]\n"
     ]
    },
    {
     "name": "stdout",
     "output_type": "stream",
     "text": [
      "Epoch 16/1000 Train Total Loss: 0.026 Train Src Cls Loss: 0.013 Train Tgt Transfer Loss: 0.124 \n",
      " Val Total Loss: 0.259 Val Src Cls Loss: 0.252 Val Tgt Transfer Loss: 0.072\n"
     ]
    },
    {
     "name": "stderr",
     "output_type": "stream",
     "text": [
      "100%|███████████████████████████████████████████████████████████████████████████████████████████████████████████████████| 5/5 [00:00<00:00,  5.98it/s]\n",
      "100%|███████████████████████████████████████████████████████████████████████████████████████████████████████████████████| 2/2 [00:00<00:00, 23.29it/s]\n"
     ]
    },
    {
     "name": "stdout",
     "output_type": "stream",
     "text": [
      "Epoch 17/1000 Train Total Loss: 0.024 Train Src Cls Loss: 0.013 Train Tgt Transfer Loss: 0.113 \n",
      " Val Total Loss: 0.269 Val Src Cls Loss: 0.261 Val Tgt Transfer Loss: 0.072\n"
     ]
    },
    {
     "name": "stderr",
     "output_type": "stream",
     "text": [
      "100%|███████████████████████████████████████████████████████████████████████████████████████████████████████████████████| 5/5 [00:00<00:00,  5.99it/s]\n",
      "100%|███████████████████████████████████████████████████████████████████████████████████████████████████████████████████| 2/2 [00:00<00:00, 23.37it/s]\n"
     ]
    },
    {
     "name": "stdout",
     "output_type": "stream",
     "text": [
      "Epoch 18/1000 Train Total Loss: 0.024 Train Src Cls Loss: 0.015 Train Tgt Transfer Loss: 0.095 \n",
      " Val Total Loss: 0.265 Val Src Cls Loss: 0.257 Val Tgt Transfer Loss: 0.074\n"
     ]
    },
    {
     "name": "stderr",
     "output_type": "stream",
     "text": [
      "100%|███████████████████████████████████████████████████████████████████████████████████████████████████████████████████| 5/5 [00:00<00:00,  6.14it/s]\n",
      "100%|███████████████████████████████████████████████████████████████████████████████████████████████████████████████████| 2/2 [00:00<00:00, 23.37it/s]\n"
     ]
    },
    {
     "name": "stdout",
     "output_type": "stream",
     "text": [
      "Epoch 19/1000 Train Total Loss: 0.025 Train Src Cls Loss: 0.015 Train Tgt Transfer Loss: 0.102 \n",
      " Val Total Loss: 0.264 Val Src Cls Loss: 0.257 Val Tgt Transfer Loss: 0.065\n"
     ]
    },
    {
     "name": "stderr",
     "output_type": "stream",
     "text": [
      "100%|███████████████████████████████████████████████████████████████████████████████████████████████████████████████████| 5/5 [00:00<00:00,  6.14it/s]\n",
      "100%|███████████████████████████████████████████████████████████████████████████████████████████████████████████████████| 2/2 [00:00<00:00, 22.96it/s]\n"
     ]
    },
    {
     "name": "stdout",
     "output_type": "stream",
     "text": [
      "Epoch 20/1000 Train Total Loss: 0.02 Train Src Cls Loss: 0.009 Train Tgt Transfer Loss: 0.106 \n",
      " Val Total Loss: 0.266 Val Src Cls Loss: 0.26 Val Tgt Transfer Loss: 0.056\n"
     ]
    },
    {
     "name": "stderr",
     "output_type": "stream",
     "text": [
      "100%|███████████████████████████████████████████████████████████████████████████████████████████████████████████████████| 5/5 [00:00<00:00,  6.13it/s]\n",
      "100%|███████████████████████████████████████████████████████████████████████████████████████████████████████████████████| 2/2 [00:00<00:00, 23.25it/s]\n"
     ]
    },
    {
     "name": "stdout",
     "output_type": "stream",
     "text": [
      "Epoch 21/1000 Train Total Loss: 0.022 Train Src Cls Loss: 0.012 Train Tgt Transfer Loss: 0.098 \n",
      " Val Total Loss: 0.258 Val Src Cls Loss: 0.253 Val Tgt Transfer Loss: 0.054\n"
     ]
    },
    {
     "name": "stderr",
     "output_type": "stream",
     "text": [
      "100%|███████████████████████████████████████████████████████████████████████████████████████████████████████████████████| 5/5 [00:00<00:00,  6.17it/s]\n",
      "100%|███████████████████████████████████████████████████████████████████████████████████████████████████████████████████| 2/2 [00:00<00:00, 23.15it/s]\n"
     ]
    },
    {
     "name": "stdout",
     "output_type": "stream",
     "text": [
      "Epoch 22/1000 Train Total Loss: 0.016 Train Src Cls Loss: 0.007 Train Tgt Transfer Loss: 0.085 \n",
      " Val Total Loss: 0.263 Val Src Cls Loss: 0.258 Val Tgt Transfer Loss: 0.055\n"
     ]
    },
    {
     "name": "stderr",
     "output_type": "stream",
     "text": [
      "100%|███████████████████████████████████████████████████████████████████████████████████████████████████████████████████| 5/5 [00:00<00:00,  6.03it/s]\n",
      "100%|███████████████████████████████████████████████████████████████████████████████████████████████████████████████████| 2/2 [00:00<00:00, 21.80it/s]\n"
     ]
    },
    {
     "name": "stdout",
     "output_type": "stream",
     "text": [
      "Epoch 23/1000 Train Total Loss: 0.022 Train Src Cls Loss: 0.013 Train Tgt Transfer Loss: 0.091 \n",
      " Val Total Loss: 0.255 Val Src Cls Loss: 0.25 Val Tgt Transfer Loss: 0.057\n"
     ]
    },
    {
     "name": "stderr",
     "output_type": "stream",
     "text": [
      "100%|███████████████████████████████████████████████████████████████████████████████████████████████████████████████████| 5/5 [00:00<00:00,  5.80it/s]\n",
      "100%|███████████████████████████████████████████████████████████████████████████████████████████████████████████████████| 2/2 [00:00<00:00, 23.27it/s]\n"
     ]
    },
    {
     "name": "stdout",
     "output_type": "stream",
     "text": [
      "Epoch 24/1000 Train Total Loss: 0.022 Train Src Cls Loss: 0.014 Train Tgt Transfer Loss: 0.078 \n",
      " Val Total Loss: 0.259 Val Src Cls Loss: 0.254 Val Tgt Transfer Loss: 0.052\n"
     ]
    },
    {
     "name": "stderr",
     "output_type": "stream",
     "text": [
      "100%|███████████████████████████████████████████████████████████████████████████████████████████████████████████████████| 5/5 [00:00<00:00,  5.90it/s]\n",
      "100%|███████████████████████████████████████████████████████████████████████████████████████████████████████████████████| 2/2 [00:00<00:00, 23.25it/s]\n"
     ]
    },
    {
     "name": "stdout",
     "output_type": "stream",
     "text": [
      "Epoch 25/1000 Train Total Loss: 0.02 Train Src Cls Loss: 0.012 Train Tgt Transfer Loss: 0.079 \n",
      " Val Total Loss: 0.268 Val Src Cls Loss: 0.264 Val Tgt Transfer Loss: 0.047\n"
     ]
    },
    {
     "name": "stderr",
     "output_type": "stream",
     "text": [
      "100%|███████████████████████████████████████████████████████████████████████████████████████████████████████████████████| 5/5 [00:00<00:00,  6.00it/s]\n",
      "100%|███████████████████████████████████████████████████████████████████████████████████████████████████████████████████| 2/2 [00:00<00:00, 12.25it/s]\n"
     ]
    },
    {
     "name": "stdout",
     "output_type": "stream",
     "text": [
      "Epoch 26/1000 Train Total Loss: 0.019 Train Src Cls Loss: 0.012 Train Tgt Transfer Loss: 0.076 \n",
      " Val Total Loss: 0.259 Val Src Cls Loss: 0.254 Val Tgt Transfer Loss: 0.048\n"
     ]
    },
    {
     "name": "stderr",
     "output_type": "stream",
     "text": [
      "100%|███████████████████████████████████████████████████████████████████████████████████████████████████████████████████| 5/5 [00:00<00:00,  6.64it/s]\n",
      "100%|███████████████████████████████████████████████████████████████████████████████████████████████████████████████████| 2/2 [00:00<00:00, 12.81it/s]\n"
     ]
    },
    {
     "name": "stdout",
     "output_type": "stream",
     "text": [
      "Epoch 27/1000 Train Total Loss: 0.015 Train Src Cls Loss: 0.008 Train Tgt Transfer Loss: 0.072 \n",
      " Val Total Loss: 0.249 Val Src Cls Loss: 0.244 Val Tgt Transfer Loss: 0.043\n"
     ]
    },
    {
     "name": "stderr",
     "output_type": "stream",
     "text": [
      "100%|███████████████████████████████████████████████████████████████████████████████████████████████████████████████████| 5/5 [00:00<00:00,  6.86it/s]\n",
      "100%|███████████████████████████████████████████████████████████████████████████████████████████████████████████████████| 2/2 [00:00<00:00, 12.54it/s]\n"
     ]
    },
    {
     "name": "stdout",
     "output_type": "stream",
     "text": [
      "Epoch 28/1000 Train Total Loss: 0.02 Train Src Cls Loss: 0.012 Train Tgt Transfer Loss: 0.083 \n",
      " Val Total Loss: 0.258 Val Src Cls Loss: 0.254 Val Tgt Transfer Loss: 0.043\n"
     ]
    },
    {
     "name": "stderr",
     "output_type": "stream",
     "text": [
      "100%|███████████████████████████████████████████████████████████████████████████████████████████████████████████████████| 5/5 [00:00<00:00,  6.37it/s]\n",
      "100%|███████████████████████████████████████████████████████████████████████████████████████████████████████████████████| 2/2 [00:00<00:00, 12.94it/s]\n"
     ]
    },
    {
     "name": "stdout",
     "output_type": "stream",
     "text": [
      "Epoch 29/1000 Train Total Loss: 0.016 Train Src Cls Loss: 0.009 Train Tgt Transfer Loss: 0.069 \n",
      " Val Total Loss: 0.263 Val Src Cls Loss: 0.259 Val Tgt Transfer Loss: 0.042\n"
     ]
    },
    {
     "name": "stderr",
     "output_type": "stream",
     "text": [
      "100%|███████████████████████████████████████████████████████████████████████████████████████████████████████████████████| 5/5 [00:00<00:00,  6.42it/s]\n",
      "100%|███████████████████████████████████████████████████████████████████████████████████████████████████████████████████| 2/2 [00:00<00:00, 13.06it/s]\n"
     ]
    },
    {
     "name": "stdout",
     "output_type": "stream",
     "text": [
      "Epoch 30/1000 Train Total Loss: 0.019 Train Src Cls Loss: 0.012 Train Tgt Transfer Loss: 0.067 \n",
      " Val Total Loss: 0.261 Val Src Cls Loss: 0.257 Val Tgt Transfer Loss: 0.042\n"
     ]
    },
    {
     "name": "stderr",
     "output_type": "stream",
     "text": [
      "100%|███████████████████████████████████████████████████████████████████████████████████████████████████████████████████| 5/5 [00:00<00:00,  6.85it/s]\n",
      "100%|███████████████████████████████████████████████████████████████████████████████████████████████████████████████████| 2/2 [00:00<00:00, 12.90it/s]\n"
     ]
    },
    {
     "name": "stdout",
     "output_type": "stream",
     "text": [
      "Epoch 31/1000 Train Total Loss: 0.013 Train Src Cls Loss: 0.006 Train Tgt Transfer Loss: 0.062 \n",
      " Val Total Loss: 0.256 Val Src Cls Loss: 0.252 Val Tgt Transfer Loss: 0.041\n"
     ]
    },
    {
     "name": "stderr",
     "output_type": "stream",
     "text": [
      "100%|███████████████████████████████████████████████████████████████████████████████████████████████████████████████████| 5/5 [00:00<00:00,  6.73it/s]\n",
      "100%|███████████████████████████████████████████████████████████████████████████████████████████████████████████████████| 2/2 [00:00<00:00, 13.27it/s]\n"
     ]
    },
    {
     "name": "stdout",
     "output_type": "stream",
     "text": [
      "Epoch 32/1000 Train Total Loss: 0.016 Train Src Cls Loss: 0.012 Train Tgt Transfer Loss: 0.047 \n",
      " Val Total Loss: 0.27 Val Src Cls Loss: 0.266 Val Tgt Transfer Loss: 0.045\n"
     ]
    },
    {
     "name": "stderr",
     "output_type": "stream",
     "text": [
      "100%|███████████████████████████████████████████████████████████████████████████████████████████████████████████████████| 5/5 [00:00<00:00,  6.68it/s]\n",
      "100%|███████████████████████████████████████████████████████████████████████████████████████████████████████████████████| 2/2 [00:00<00:00, 13.48it/s]\n"
     ]
    },
    {
     "name": "stdout",
     "output_type": "stream",
     "text": [
      "Epoch 33/1000 Train Total Loss: 0.017 Train Src Cls Loss: 0.011 Train Tgt Transfer Loss: 0.059 \n",
      " Val Total Loss: 0.252 Val Src Cls Loss: 0.249 Val Tgt Transfer Loss: 0.036\n"
     ]
    },
    {
     "name": "stderr",
     "output_type": "stream",
     "text": [
      "100%|███████████████████████████████████████████████████████████████████████████████████████████████████████████████████| 5/5 [00:00<00:00,  6.67it/s]\n",
      "100%|███████████████████████████████████████████████████████████████████████████████████████████████████████████████████| 2/2 [00:00<00:00, 12.68it/s]\n"
     ]
    },
    {
     "name": "stdout",
     "output_type": "stream",
     "text": [
      "Epoch 34/1000 Train Total Loss: 0.014 Train Src Cls Loss: 0.008 Train Tgt Transfer Loss: 0.058 \n",
      " Val Total Loss: 0.257 Val Src Cls Loss: 0.253 Val Tgt Transfer Loss: 0.035\n"
     ]
    },
    {
     "name": "stderr",
     "output_type": "stream",
     "text": [
      "100%|███████████████████████████████████████████████████████████████████████████████████████████████████████████████████| 5/5 [00:00<00:00,  6.93it/s]\n",
      "100%|███████████████████████████████████████████████████████████████████████████████████████████████████████████████████| 2/2 [00:00<00:00, 13.00it/s]\n"
     ]
    },
    {
     "name": "stdout",
     "output_type": "stream",
     "text": [
      "Epoch 35/1000 Train Total Loss: 0.017 Train Src Cls Loss: 0.012 Train Tgt Transfer Loss: 0.05 \n",
      " Val Total Loss: 0.279 Val Src Cls Loss: 0.276 Val Tgt Transfer Loss: 0.033\n"
     ]
    },
    {
     "name": "stderr",
     "output_type": "stream",
     "text": [
      "100%|███████████████████████████████████████████████████████████████████████████████████████████████████████████████████| 5/5 [00:00<00:00,  6.80it/s]\n",
      "100%|███████████████████████████████████████████████████████████████████████████████████████████████████████████████████| 2/2 [00:00<00:00, 13.14it/s]\n"
     ]
    },
    {
     "name": "stdout",
     "output_type": "stream",
     "text": [
      "Epoch 36/1000 Train Total Loss: 0.013 Train Src Cls Loss: 0.007 Train Tgt Transfer Loss: 0.059 \n",
      " Val Total Loss: 0.259 Val Src Cls Loss: 0.256 Val Tgt Transfer Loss: 0.034\n"
     ]
    },
    {
     "name": "stderr",
     "output_type": "stream",
     "text": [
      "100%|███████████████████████████████████████████████████████████████████████████████████████████████████████████████████| 5/5 [00:00<00:00,  6.96it/s]\n",
      "100%|███████████████████████████████████████████████████████████████████████████████████████████████████████████████████| 2/2 [00:00<00:00, 13.49it/s]\n"
     ]
    },
    {
     "name": "stdout",
     "output_type": "stream",
     "text": [
      "Epoch 37/1000 Train Total Loss: 0.018 Train Src Cls Loss: 0.013 Train Tgt Transfer Loss: 0.055 \n",
      " Val Total Loss: 0.262 Val Src Cls Loss: 0.258 Val Tgt Transfer Loss: 0.032\n"
     ]
    },
    {
     "name": "stderr",
     "output_type": "stream",
     "text": [
      "100%|███████████████████████████████████████████████████████████████████████████████████████████████████████████████████| 5/5 [00:00<00:00,  6.11it/s]\n",
      "100%|███████████████████████████████████████████████████████████████████████████████████████████████████████████████████| 2/2 [00:00<00:00, 23.39it/s]"
     ]
    },
    {
     "name": "stdout",
     "output_type": "stream",
     "text": [
      "Epoch 38/1000 Train Total Loss: 0.012 Train Src Cls Loss: 0.008 Train Tgt Transfer Loss: 0.041 \n",
      " Val Total Loss: 0.274 Val Src Cls Loss: 0.27 Val Tgt Transfer Loss: 0.034\n"
     ]
    },
    {
     "name": "stderr",
     "output_type": "stream",
     "text": [
      "\n"
     ]
    }
   ],
   "source": [
    "encoder_19_24, mlp_19_24, best_val_loss, best_val_cls_loss, best_val_transfer_loss = continual_adapt([17,22,24], train_loader, val_loader, encoder_14_19, mlp_14_19, device, lambda_coeff=lambda_coeff, lr=lr)"
   ]
  },
  {
   "cell_type": "code",
   "execution_count": 31,
   "id": "f45d6602",
   "metadata": {
    "scrolled": true
   },
   "outputs": [
    {
     "name": "stdout",
     "output_type": "stream",
     "text": [
      "Total Val Loss: 0.249, Val Cls Loss: 0.244, Val Transfer Loss: 0.043\n"
     ]
    }
   ],
   "source": [
    "print(f'Total Val Loss: {round(best_val_loss, 3)}, Val Cls Loss: {round(best_val_cls_loss, 3)}, Val Transfer Loss: {round(best_val_transfer_loss, 3)}')"
   ]
  },
  {
   "cell_type": "markdown",
   "id": "9236f388",
   "metadata": {},
   "source": [
    "### 24-28 ###"
   ]
  },
  {
   "cell_type": "code",
   "execution_count": 32,
   "id": "2cd2200c",
   "metadata": {},
   "outputs": [],
   "source": [
    "test_data = [get_data(data_dir, \"elliptic\", i) for i in range(24,29)]\n",
    "test_loader = DataLoader(dataset=test_data, batch_size=1, shuffle=False)"
   ]
  },
  {
   "cell_type": "code",
   "execution_count": 33,
   "id": "82862669",
   "metadata": {},
   "outputs": [
    {
     "name": "stdout",
     "output_type": "stream",
     "text": [
      "Test Loss: 1.1421, Test F1: 0.5649\n"
     ]
    }
   ],
   "source": [
    "test_loss, test_f1 = test(encoder_19_24, mlp_19_24, test_loader, loss_fn, device)\n",
    "f1_list.append(test_f1)\n",
    "print(f\"Test Loss: {round(test_loss,4)}, Test F1: {round(test_f1,4)}\")"
   ]
  },
  {
   "cell_type": "code",
   "execution_count": 34,
   "id": "5aa386dd",
   "metadata": {
    "scrolled": true
   },
   "outputs": [
    {
     "name": "stderr",
     "output_type": "stream",
     "text": [
      "100%|███████████████████████████████████████████████████████████████████████████████████████████████████████████████████| 5/5 [00:01<00:00,  3.05it/s]\n",
      "100%|███████████████████████████████████████████████████████████████████████████████████████████████████████████████████| 2/2 [00:00<00:00, 14.90it/s]\n"
     ]
    },
    {
     "name": "stdout",
     "output_type": "stream",
     "text": [
      "Epoch 1/1000 Train Total Loss: 0.022 Train Src Cls Loss: 0.007 Train Tgt Transfer Loss: 0.152 \n",
      " Val Total Loss: 0.291 Val Src Cls Loss: 0.272 Val Tgt Transfer Loss: 0.183\n"
     ]
    },
    {
     "name": "stderr",
     "output_type": "stream",
     "text": [
      "100%|███████████████████████████████████████████████████████████████████████████████████████████████████████████████████| 5/5 [00:00<00:00,  6.84it/s]\n",
      "100%|███████████████████████████████████████████████████████████████████████████████████████████████████████████████████| 2/2 [00:00<00:00, 14.82it/s]\n"
     ]
    },
    {
     "name": "stdout",
     "output_type": "stream",
     "text": [
      "Epoch 2/1000 Train Total Loss: 0.025 Train Src Cls Loss: 0.011 Train Tgt Transfer Loss: 0.133 \n",
      " Val Total Loss: 0.281 Val Src Cls Loss: 0.267 Val Tgt Transfer Loss: 0.141\n"
     ]
    },
    {
     "name": "stderr",
     "output_type": "stream",
     "text": [
      "100%|███████████████████████████████████████████████████████████████████████████████████████████████████████████████████| 5/5 [00:00<00:00,  6.85it/s]\n",
      "100%|███████████████████████████████████████████████████████████████████████████████████████████████████████████████████| 2/2 [00:00<00:00, 14.86it/s]\n"
     ]
    },
    {
     "name": "stdout",
     "output_type": "stream",
     "text": [
      "Epoch 3/1000 Train Total Loss: 0.023 Train Src Cls Loss: 0.014 Train Tgt Transfer Loss: 0.086 \n",
      " Val Total Loss: 0.265 Val Src Cls Loss: 0.254 Val Tgt Transfer Loss: 0.108\n"
     ]
    },
    {
     "name": "stderr",
     "output_type": "stream",
     "text": [
      "100%|███████████████████████████████████████████████████████████████████████████████████████████████████████████████████| 5/5 [00:00<00:00,  7.40it/s]\n",
      "100%|███████████████████████████████████████████████████████████████████████████████████████████████████████████████████| 2/2 [00:00<00:00, 30.36it/s]\n"
     ]
    },
    {
     "name": "stdout",
     "output_type": "stream",
     "text": [
      "Epoch 4/1000 Train Total Loss: 0.025 Train Src Cls Loss: 0.015 Train Tgt Transfer Loss: 0.108 \n",
      " Val Total Loss: 0.27 Val Src Cls Loss: 0.259 Val Tgt Transfer Loss: 0.105\n"
     ]
    },
    {
     "name": "stderr",
     "output_type": "stream",
     "text": [
      "100%|███████████████████████████████████████████████████████████████████████████████████████████████████████████████████| 5/5 [00:00<00:00,  6.34it/s]\n",
      "100%|███████████████████████████████████████████████████████████████████████████████████████████████████████████████████| 2/2 [00:00<00:00, 30.48it/s]\n"
     ]
    },
    {
     "name": "stdout",
     "output_type": "stream",
     "text": [
      "Epoch 5/1000 Train Total Loss: 0.024 Train Src Cls Loss: 0.015 Train Tgt Transfer Loss: 0.085 \n",
      " Val Total Loss: 0.268 Val Src Cls Loss: 0.258 Val Tgt Transfer Loss: 0.097\n"
     ]
    },
    {
     "name": "stderr",
     "output_type": "stream",
     "text": [
      "100%|███████████████████████████████████████████████████████████████████████████████████████████████████████████████████| 5/5 [00:00<00:00,  7.15it/s]\n",
      "100%|███████████████████████████████████████████████████████████████████████████████████████████████████████████████████| 2/2 [00:00<00:00, 15.22it/s]\n"
     ]
    },
    {
     "name": "stdout",
     "output_type": "stream",
     "text": [
      "Epoch 6/1000 Train Total Loss: 0.019 Train Src Cls Loss: 0.012 Train Tgt Transfer Loss: 0.071 \n",
      " Val Total Loss: 0.279 Val Src Cls Loss: 0.269 Val Tgt Transfer Loss: 0.104\n"
     ]
    },
    {
     "name": "stderr",
     "output_type": "stream",
     "text": [
      "100%|███████████████████████████████████████████████████████████████████████████████████████████████████████████████████| 5/5 [00:00<00:00,  7.51it/s]\n",
      "100%|███████████████████████████████████████████████████████████████████████████████████████████████████████████████████| 2/2 [00:00<00:00, 14.90it/s]\n"
     ]
    },
    {
     "name": "stdout",
     "output_type": "stream",
     "text": [
      "Epoch 7/1000 Train Total Loss: 0.02 Train Src Cls Loss: 0.012 Train Tgt Transfer Loss: 0.072 \n",
      " Val Total Loss: 0.266 Val Src Cls Loss: 0.256 Val Tgt Transfer Loss: 0.097\n"
     ]
    },
    {
     "name": "stderr",
     "output_type": "stream",
     "text": [
      "100%|███████████████████████████████████████████████████████████████████████████████████████████████████████████████████| 5/5 [00:00<00:00,  7.18it/s]\n",
      "100%|███████████████████████████████████████████████████████████████████████████████████████████████████████████████████| 2/2 [00:00<00:00, 30.58it/s]\n"
     ]
    },
    {
     "name": "stdout",
     "output_type": "stream",
     "text": [
      "Epoch 8/1000 Train Total Loss: 0.02 Train Src Cls Loss: 0.014 Train Tgt Transfer Loss: 0.064 \n",
      " Val Total Loss: 0.282 Val Src Cls Loss: 0.274 Val Tgt Transfer Loss: 0.078\n"
     ]
    },
    {
     "name": "stderr",
     "output_type": "stream",
     "text": [
      "100%|███████████████████████████████████████████████████████████████████████████████████████████████████████████████████| 5/5 [00:00<00:00,  6.34it/s]\n",
      "100%|███████████████████████████████████████████████████████████████████████████████████████████████████████████████████| 2/2 [00:00<00:00, 30.28it/s]\n"
     ]
    },
    {
     "name": "stdout",
     "output_type": "stream",
     "text": [
      "Epoch 9/1000 Train Total Loss: 0.02 Train Src Cls Loss: 0.014 Train Tgt Transfer Loss: 0.054 \n",
      " Val Total Loss: 0.267 Val Src Cls Loss: 0.26 Val Tgt Transfer Loss: 0.077\n"
     ]
    },
    {
     "name": "stderr",
     "output_type": "stream",
     "text": [
      "100%|███████████████████████████████████████████████████████████████████████████████████████████████████████████████████| 5/5 [00:00<00:00,  6.53it/s]\n",
      "100%|███████████████████████████████████████████████████████████████████████████████████████████████████████████████████| 2/2 [00:00<00:00, 30.52it/s]\n"
     ]
    },
    {
     "name": "stdout",
     "output_type": "stream",
     "text": [
      "Epoch 10/1000 Train Total Loss: 0.021 Train Src Cls Loss: 0.015 Train Tgt Transfer Loss: 0.059 \n",
      " Val Total Loss: 0.26 Val Src Cls Loss: 0.252 Val Tgt Transfer Loss: 0.079\n"
     ]
    },
    {
     "name": "stderr",
     "output_type": "stream",
     "text": [
      "100%|███████████████████████████████████████████████████████████████████████████████████████████████████████████████████| 5/5 [00:00<00:00,  6.40it/s]\n",
      "100%|███████████████████████████████████████████████████████████████████████████████████████████████████████████████████| 2/2 [00:00<00:00, 30.22it/s]\n"
     ]
    },
    {
     "name": "stdout",
     "output_type": "stream",
     "text": [
      "Epoch 11/1000 Train Total Loss: 0.019 Train Src Cls Loss: 0.013 Train Tgt Transfer Loss: 0.057 \n",
      " Val Total Loss: 0.29 Val Src Cls Loss: 0.281 Val Tgt Transfer Loss: 0.084\n"
     ]
    },
    {
     "name": "stderr",
     "output_type": "stream",
     "text": [
      "100%|███████████████████████████████████████████████████████████████████████████████████████████████████████████████████| 5/5 [00:00<00:00,  6.87it/s]\n",
      "100%|███████████████████████████████████████████████████████████████████████████████████████████████████████████████████| 2/2 [00:00<00:00, 15.06it/s]\n"
     ]
    },
    {
     "name": "stdout",
     "output_type": "stream",
     "text": [
      "Epoch 12/1000 Train Total Loss: 0.019 Train Src Cls Loss: 0.014 Train Tgt Transfer Loss: 0.046 \n",
      " Val Total Loss: 0.272 Val Src Cls Loss: 0.265 Val Tgt Transfer Loss: 0.073\n"
     ]
    },
    {
     "name": "stderr",
     "output_type": "stream",
     "text": [
      "100%|███████████████████████████████████████████████████████████████████████████████████████████████████████████████████| 5/5 [00:00<00:00,  6.78it/s]\n",
      "100%|███████████████████████████████████████████████████████████████████████████████████████████████████████████████████| 2/2 [00:00<00:00, 15.06it/s]\n"
     ]
    },
    {
     "name": "stdout",
     "output_type": "stream",
     "text": [
      "Epoch 13/1000 Train Total Loss: 0.019 Train Src Cls Loss: 0.013 Train Tgt Transfer Loss: 0.062 \n",
      " Val Total Loss: 0.265 Val Src Cls Loss: 0.259 Val Tgt Transfer Loss: 0.059\n"
     ]
    },
    {
     "name": "stderr",
     "output_type": "stream",
     "text": [
      "100%|███████████████████████████████████████████████████████████████████████████████████████████████████████████████████| 5/5 [00:00<00:00,  7.44it/s]\n",
      "100%|███████████████████████████████████████████████████████████████████████████████████████████████████████████████████| 2/2 [00:00<00:00, 14.53it/s]\n"
     ]
    },
    {
     "name": "stdout",
     "output_type": "stream",
     "text": [
      "Epoch 14/1000 Train Total Loss: 0.017 Train Src Cls Loss: 0.012 Train Tgt Transfer Loss: 0.059 \n",
      " Val Total Loss: 0.249 Val Src Cls Loss: 0.241 Val Tgt Transfer Loss: 0.073\n"
     ]
    },
    {
     "name": "stderr",
     "output_type": "stream",
     "text": [
      "100%|███████████████████████████████████████████████████████████████████████████████████████████████████████████████████| 5/5 [00:00<00:00,  7.15it/s]\n",
      "100%|███████████████████████████████████████████████████████████████████████████████████████████████████████████████████| 2/2 [00:00<00:00, 30.16it/s]\n"
     ]
    },
    {
     "name": "stdout",
     "output_type": "stream",
     "text": [
      "Epoch 15/1000 Train Total Loss: 0.016 Train Src Cls Loss: 0.01 Train Tgt Transfer Loss: 0.057 \n",
      " Val Total Loss: 0.256 Val Src Cls Loss: 0.249 Val Tgt Transfer Loss: 0.071\n"
     ]
    },
    {
     "name": "stderr",
     "output_type": "stream",
     "text": [
      "100%|███████████████████████████████████████████████████████████████████████████████████████████████████████████████████| 5/5 [00:00<00:00,  6.75it/s]\n",
      "100%|███████████████████████████████████████████████████████████████████████████████████████████████████████████████████| 2/2 [00:00<00:00, 30.91it/s]\n"
     ]
    },
    {
     "name": "stdout",
     "output_type": "stream",
     "text": [
      "Epoch 16/1000 Train Total Loss: 0.017 Train Src Cls Loss: 0.011 Train Tgt Transfer Loss: 0.054 \n",
      " Val Total Loss: 0.26 Val Src Cls Loss: 0.253 Val Tgt Transfer Loss: 0.068\n"
     ]
    },
    {
     "name": "stderr",
     "output_type": "stream",
     "text": [
      "100%|███████████████████████████████████████████████████████████████████████████████████████████████████████████████████| 5/5 [00:00<00:00,  7.22it/s]\n",
      "100%|███████████████████████████████████████████████████████████████████████████████████████████████████████████████████| 2/2 [00:00<00:00, 15.11it/s]\n"
     ]
    },
    {
     "name": "stdout",
     "output_type": "stream",
     "text": [
      "Epoch 17/1000 Train Total Loss: 0.016 Train Src Cls Loss: 0.009 Train Tgt Transfer Loss: 0.067 \n",
      " Val Total Loss: 0.261 Val Src Cls Loss: 0.255 Val Tgt Transfer Loss: 0.059\n"
     ]
    },
    {
     "name": "stderr",
     "output_type": "stream",
     "text": [
      "100%|███████████████████████████████████████████████████████████████████████████████████████████████████████████████████| 5/5 [00:00<00:00,  6.93it/s]\n",
      "100%|███████████████████████████████████████████████████████████████████████████████████████████████████████████████████| 2/2 [00:00<00:00, 14.84it/s]\n"
     ]
    },
    {
     "name": "stdout",
     "output_type": "stream",
     "text": [
      "Epoch 18/1000 Train Total Loss: 0.017 Train Src Cls Loss: 0.013 Train Tgt Transfer Loss: 0.038 \n",
      " Val Total Loss: 0.294 Val Src Cls Loss: 0.287 Val Tgt Transfer Loss: 0.067\n"
     ]
    },
    {
     "name": "stderr",
     "output_type": "stream",
     "text": [
      "100%|███████████████████████████████████████████████████████████████████████████████████████████████████████████████████| 5/5 [00:00<00:00,  7.07it/s]\n",
      "100%|███████████████████████████████████████████████████████████████████████████████████████████████████████████████████| 2/2 [00:00<00:00, 28.50it/s]\n"
     ]
    },
    {
     "name": "stdout",
     "output_type": "stream",
     "text": [
      "Epoch 19/1000 Train Total Loss: 0.017 Train Src Cls Loss: 0.013 Train Tgt Transfer Loss: 0.047 \n",
      " Val Total Loss: 0.29 Val Src Cls Loss: 0.283 Val Tgt Transfer Loss: 0.07\n"
     ]
    },
    {
     "name": "stderr",
     "output_type": "stream",
     "text": [
      "100%|███████████████████████████████████████████████████████████████████████████████████████████████████████████████████| 5/5 [00:00<00:00,  6.33it/s]\n",
      "100%|███████████████████████████████████████████████████████████████████████████████████████████████████████████████████| 2/2 [00:00<00:00, 30.55it/s]\n"
     ]
    },
    {
     "name": "stdout",
     "output_type": "stream",
     "text": [
      "Epoch 20/1000 Train Total Loss: 0.017 Train Src Cls Loss: 0.013 Train Tgt Transfer Loss: 0.038 \n",
      " Val Total Loss: 0.275 Val Src Cls Loss: 0.269 Val Tgt Transfer Loss: 0.062\n"
     ]
    },
    {
     "name": "stderr",
     "output_type": "stream",
     "text": [
      "100%|███████████████████████████████████████████████████████████████████████████████████████████████████████████████████| 5/5 [00:00<00:00,  6.46it/s]\n",
      "100%|███████████████████████████████████████████████████████████████████████████████████████████████████████████████████| 2/2 [00:00<00:00, 30.03it/s]\n"
     ]
    },
    {
     "name": "stdout",
     "output_type": "stream",
     "text": [
      "Epoch 21/1000 Train Total Loss: 0.016 Train Src Cls Loss: 0.012 Train Tgt Transfer Loss: 0.043 \n",
      " Val Total Loss: 0.275 Val Src Cls Loss: 0.268 Val Tgt Transfer Loss: 0.064\n"
     ]
    },
    {
     "name": "stderr",
     "output_type": "stream",
     "text": [
      "100%|███████████████████████████████████████████████████████████████████████████████████████████████████████████████████| 5/5 [00:00<00:00,  6.36it/s]\n",
      "100%|███████████████████████████████████████████████████████████████████████████████████████████████████████████████████| 2/2 [00:00<00:00, 30.12it/s]\n"
     ]
    },
    {
     "name": "stdout",
     "output_type": "stream",
     "text": [
      "Epoch 22/1000 Train Total Loss: 0.017 Train Src Cls Loss: 0.013 Train Tgt Transfer Loss: 0.037 \n",
      " Val Total Loss: 0.267 Val Src Cls Loss: 0.261 Val Tgt Transfer Loss: 0.059\n"
     ]
    },
    {
     "name": "stderr",
     "output_type": "stream",
     "text": [
      "100%|███████████████████████████████████████████████████████████████████████████████████████████████████████████████████| 5/5 [00:00<00:00,  7.28it/s]\n",
      "100%|███████████████████████████████████████████████████████████████████████████████████████████████████████████████████| 2/2 [00:00<00:00, 15.16it/s]\n"
     ]
    },
    {
     "name": "stdout",
     "output_type": "stream",
     "text": [
      "Epoch 23/1000 Train Total Loss: 0.017 Train Src Cls Loss: 0.012 Train Tgt Transfer Loss: 0.053 \n",
      " Val Total Loss: 0.28 Val Src Cls Loss: 0.275 Val Tgt Transfer Loss: 0.052\n"
     ]
    },
    {
     "name": "stderr",
     "output_type": "stream",
     "text": [
      "100%|███████████████████████████████████████████████████████████████████████████████████████████████████████████████████| 5/5 [00:00<00:00,  7.05it/s]\n",
      "100%|███████████████████████████████████████████████████████████████████████████████████████████████████████████████████| 2/2 [00:00<00:00, 14.84it/s]\n"
     ]
    },
    {
     "name": "stdout",
     "output_type": "stream",
     "text": [
      "Epoch 24/1000 Train Total Loss: 0.014 Train Src Cls Loss: 0.011 Train Tgt Transfer Loss: 0.034 \n",
      " Val Total Loss: 0.271 Val Src Cls Loss: 0.266 Val Tgt Transfer Loss: 0.052\n"
     ]
    },
    {
     "name": "stderr",
     "output_type": "stream",
     "text": [
      "100%|███████████████████████████████████████████████████████████████████████████████████████████████████████████████████| 5/5 [00:00<00:00,  7.56it/s]\n",
      "100%|███████████████████████████████████████████████████████████████████████████████████████████████████████████████████| 2/2 [00:00<00:00, 29.77it/s]"
     ]
    },
    {
     "name": "stdout",
     "output_type": "stream",
     "text": [
      "Epoch 25/1000 Train Total Loss: 0.014 Train Src Cls Loss: 0.01 Train Tgt Transfer Loss: 0.036 \n",
      " Val Total Loss: 0.271 Val Src Cls Loss: 0.265 Val Tgt Transfer Loss: 0.056\n"
     ]
    },
    {
     "name": "stderr",
     "output_type": "stream",
     "text": [
      "\n"
     ]
    }
   ],
   "source": [
    "encoder_24_29, mlp_24_29, best_val_loss, best_val_cls_loss, best_val_transfer_loss = continual_adapt([22,27,29], train_loader, val_loader, encoder_19_24, mlp_19_24, device, lambda_coeff=lambda_coeff, lr=lr)"
   ]
  },
  {
   "cell_type": "code",
   "execution_count": 35,
   "id": "d1da72c1",
   "metadata": {
    "scrolled": true
   },
   "outputs": [
    {
     "name": "stdout",
     "output_type": "stream",
     "text": [
      "Total Val Loss: 0.249, Val Cls Loss: 0.241, Val Transfer Loss: 0.073\n"
     ]
    }
   ],
   "source": [
    "print(f'Total Val Loss: {round(best_val_loss, 3)}, Val Cls Loss: {round(best_val_cls_loss, 3)}, Val Transfer Loss: {round(best_val_transfer_loss, 3)}')"
   ]
  },
  {
   "cell_type": "markdown",
   "id": "62df94c7",
   "metadata": {},
   "source": [
    "### 29-33 ###"
   ]
  },
  {
   "cell_type": "code",
   "execution_count": 36,
   "id": "4543d181",
   "metadata": {},
   "outputs": [],
   "source": [
    "test_data = [get_data(data_dir, \"elliptic\", i) for i in range(29,34)]\n",
    "test_loader = DataLoader(dataset=test_data, batch_size=1, shuffle=False)"
   ]
  },
  {
   "cell_type": "code",
   "execution_count": 37,
   "id": "530a9b43",
   "metadata": {
    "scrolled": true
   },
   "outputs": [
    {
     "name": "stdout",
     "output_type": "stream",
     "text": [
      "Test Loss: 1.6545, Test F1: 0.3401\n"
     ]
    }
   ],
   "source": [
    "test_loss, test_f1 = test(encoder_24_29, mlp_24_29, test_loader, loss_fn, device)\n",
    "f1_list.append(test_f1)\n",
    "print(f\"Test Loss: {round(test_loss,4)}, Test F1: {round(test_f1,4)}\")"
   ]
  },
  {
   "cell_type": "code",
   "execution_count": 38,
   "id": "99670cd7",
   "metadata": {
    "scrolled": true
   },
   "outputs": [
    {
     "name": "stderr",
     "output_type": "stream",
     "text": [
      "100%|███████████████████████████████████████████████████████████████████████████████████████████████████████████████████| 5/5 [00:01<00:00,  2.77it/s]\n",
      "100%|███████████████████████████████████████████████████████████████████████████████████████████████████████████████████| 2/2 [00:00<00:00, 29.60it/s]\n"
     ]
    },
    {
     "name": "stdout",
     "output_type": "stream",
     "text": [
      "Epoch 1/1000 Train Total Loss: 0.027 Train Src Cls Loss: 0.013 Train Tgt Transfer Loss: 0.134 \n",
      " Val Total Loss: 0.267 Val Src Cls Loss: 0.252 Val Tgt Transfer Loss: 0.153\n"
     ]
    },
    {
     "name": "stderr",
     "output_type": "stream",
     "text": [
      "100%|███████████████████████████████████████████████████████████████████████████████████████████████████████████████████| 5/5 [00:00<00:00,  6.59it/s]\n",
      "100%|███████████████████████████████████████████████████████████████████████████████████████████████████████████████████| 2/2 [00:00<00:00, 30.77it/s]\n"
     ]
    },
    {
     "name": "stdout",
     "output_type": "stream",
     "text": [
      "Epoch 2/1000 Train Total Loss: 0.021 Train Src Cls Loss: 0.011 Train Tgt Transfer Loss: 0.095 \n",
      " Val Total Loss: 0.284 Val Src Cls Loss: 0.272 Val Tgt Transfer Loss: 0.121\n"
     ]
    },
    {
     "name": "stderr",
     "output_type": "stream",
     "text": [
      "100%|███████████████████████████████████████████████████████████████████████████████████████████████████████████████████| 5/5 [00:00<00:00,  6.99it/s]\n",
      "100%|███████████████████████████████████████████████████████████████████████████████████████████████████████████████████| 2/2 [00:00<00:00, 14.93it/s]\n"
     ]
    },
    {
     "name": "stdout",
     "output_type": "stream",
     "text": [
      "Epoch 3/1000 Train Total Loss: 0.021 Train Src Cls Loss: 0.012 Train Tgt Transfer Loss: 0.089 \n",
      " Val Total Loss: 0.28 Val Src Cls Loss: 0.271 Val Tgt Transfer Loss: 0.098\n"
     ]
    },
    {
     "name": "stderr",
     "output_type": "stream",
     "text": [
      "100%|███████████████████████████████████████████████████████████████████████████████████████████████████████████████████| 5/5 [00:00<00:00,  7.00it/s]\n",
      "100%|███████████████████████████████████████████████████████████████████████████████████████████████████████████████████| 2/2 [00:00<00:00, 14.33it/s]\n"
     ]
    },
    {
     "name": "stdout",
     "output_type": "stream",
     "text": [
      "Epoch 4/1000 Train Total Loss: 0.021 Train Src Cls Loss: 0.014 Train Tgt Transfer Loss: 0.077 \n",
      " Val Total Loss: 0.289 Val Src Cls Loss: 0.28 Val Tgt Transfer Loss: 0.089\n"
     ]
    },
    {
     "name": "stderr",
     "output_type": "stream",
     "text": [
      "100%|███████████████████████████████████████████████████████████████████████████████████████████████████████████████████| 5/5 [00:00<00:00,  7.07it/s]\n",
      "100%|███████████████████████████████████████████████████████████████████████████████████████████████████████████████████| 2/2 [00:00<00:00, 30.19it/s]\n"
     ]
    },
    {
     "name": "stdout",
     "output_type": "stream",
     "text": [
      "Epoch 5/1000 Train Total Loss: 0.021 Train Src Cls Loss: 0.014 Train Tgt Transfer Loss: 0.064 \n",
      " Val Total Loss: 0.29 Val Src Cls Loss: 0.28 Val Tgt Transfer Loss: 0.1\n"
     ]
    },
    {
     "name": "stderr",
     "output_type": "stream",
     "text": [
      "100%|███████████████████████████████████████████████████████████████████████████████████████████████████████████████████| 5/5 [00:00<00:00,  6.20it/s]\n",
      "100%|███████████████████████████████████████████████████████████████████████████████████████████████████████████████████| 2/2 [00:00<00:00, 29.09it/s]\n"
     ]
    },
    {
     "name": "stdout",
     "output_type": "stream",
     "text": [
      "Epoch 6/1000 Train Total Loss: 0.017 Train Src Cls Loss: 0.009 Train Tgt Transfer Loss: 0.073 \n",
      " Val Total Loss: 0.292 Val Src Cls Loss: 0.285 Val Tgt Transfer Loss: 0.076\n"
     ]
    },
    {
     "name": "stderr",
     "output_type": "stream",
     "text": [
      "100%|███████████████████████████████████████████████████████████████████████████████████████████████████████████████████| 5/5 [00:00<00:00,  6.20it/s]\n",
      "100%|███████████████████████████████████████████████████████████████████████████████████████████████████████████████████| 2/2 [00:00<00:00, 28.58it/s]\n"
     ]
    },
    {
     "name": "stdout",
     "output_type": "stream",
     "text": [
      "Epoch 7/1000 Train Total Loss: 0.017 Train Src Cls Loss: 0.009 Train Tgt Transfer Loss: 0.074 \n",
      " Val Total Loss: 0.297 Val Src Cls Loss: 0.29 Val Tgt Transfer Loss: 0.07\n"
     ]
    },
    {
     "name": "stderr",
     "output_type": "stream",
     "text": [
      "100%|███████████████████████████████████████████████████████████████████████████████████████████████████████████████████| 5/5 [00:00<00:00,  6.20it/s]\n",
      "100%|███████████████████████████████████████████████████████████████████████████████████████████████████████████████████| 2/2 [00:00<00:00, 29.66it/s]\n"
     ]
    },
    {
     "name": "stdout",
     "output_type": "stream",
     "text": [
      "Epoch 8/1000 Train Total Loss: 0.019 Train Src Cls Loss: 0.013 Train Tgt Transfer Loss: 0.059 \n",
      " Val Total Loss: 0.293 Val Src Cls Loss: 0.287 Val Tgt Transfer Loss: 0.063\n"
     ]
    },
    {
     "name": "stderr",
     "output_type": "stream",
     "text": [
      "100%|███████████████████████████████████████████████████████████████████████████████████████████████████████████████████| 5/5 [00:00<00:00,  6.37it/s]\n",
      "100%|███████████████████████████████████████████████████████████████████████████████████████████████████████████████████| 2/2 [00:00<00:00, 31.34it/s]\n"
     ]
    },
    {
     "name": "stdout",
     "output_type": "stream",
     "text": [
      "Epoch 9/1000 Train Total Loss: 0.016 Train Src Cls Loss: 0.01 Train Tgt Transfer Loss: 0.057 \n",
      " Val Total Loss: 0.317 Val Src Cls Loss: 0.311 Val Tgt Transfer Loss: 0.062\n"
     ]
    },
    {
     "name": "stderr",
     "output_type": "stream",
     "text": [
      "100%|███████████████████████████████████████████████████████████████████████████████████████████████████████████████████| 5/5 [00:00<00:00,  7.12it/s]\n",
      "100%|███████████████████████████████████████████████████████████████████████████████████████████████████████████████████| 2/2 [00:00<00:00, 14.86it/s]\n"
     ]
    },
    {
     "name": "stdout",
     "output_type": "stream",
     "text": [
      "Epoch 10/1000 Train Total Loss: 0.014 Train Src Cls Loss: 0.008 Train Tgt Transfer Loss: 0.056 \n",
      " Val Total Loss: 0.298 Val Src Cls Loss: 0.292 Val Tgt Transfer Loss: 0.062\n"
     ]
    },
    {
     "name": "stderr",
     "output_type": "stream",
     "text": [
      "100%|███████████████████████████████████████████████████████████████████████████████████████████████████████████████████| 5/5 [00:00<00:00,  6.82it/s]\n",
      "100%|███████████████████████████████████████████████████████████████████████████████████████████████████████████████████| 2/2 [00:00<00:00, 15.31it/s]\n"
     ]
    },
    {
     "name": "stdout",
     "output_type": "stream",
     "text": [
      "Epoch 11/1000 Train Total Loss: 0.014 Train Src Cls Loss: 0.008 Train Tgt Transfer Loss: 0.058 \n",
      " Val Total Loss: 0.281 Val Src Cls Loss: 0.276 Val Tgt Transfer Loss: 0.055\n"
     ]
    },
    {
     "name": "stderr",
     "output_type": "stream",
     "text": [
      "100%|███████████████████████████████████████████████████████████████████████████████████████████████████████████████████| 5/5 [00:00<00:00,  7.08it/s]\n",
      "100%|███████████████████████████████████████████████████████████████████████████████████████████████████████████████████| 2/2 [00:00<00:00, 31.36it/s]"
     ]
    },
    {
     "name": "stdout",
     "output_type": "stream",
     "text": [
      "Epoch 12/1000 Train Total Loss: 0.02 Train Src Cls Loss: 0.014 Train Tgt Transfer Loss: 0.064 \n",
      " Val Total Loss: 0.301 Val Src Cls Loss: 0.296 Val Tgt Transfer Loss: 0.047\n"
     ]
    },
    {
     "name": "stderr",
     "output_type": "stream",
     "text": [
      "\n"
     ]
    }
   ],
   "source": [
    "encoder_29_34, mlp_29_34, best_val_loss, best_val_cls_loss, best_val_transfer_loss = continual_adapt([27,32,34], train_loader, val_loader, encoder_24_29, mlp_24_29, device, lambda_coeff=lambda_coeff, lr=lr)"
   ]
  },
  {
   "cell_type": "code",
   "execution_count": 39,
   "id": "bb09b565",
   "metadata": {
    "scrolled": true
   },
   "outputs": [
    {
     "name": "stdout",
     "output_type": "stream",
     "text": [
      "Total Val Loss: 0.267, Val Cls Loss: 0.252, Val Transfer Loss: 0.153\n"
     ]
    }
   ],
   "source": [
    "print(f'Total Val Loss: {round(best_val_loss, 3)}, Val Cls Loss: {round(best_val_cls_loss, 3)}, Val Transfer Loss: {round(best_val_transfer_loss, 3)}')"
   ]
  },
  {
   "cell_type": "markdown",
   "id": "ccbd1e7a",
   "metadata": {},
   "source": [
    "### 34-38 ###"
   ]
  },
  {
   "cell_type": "code",
   "execution_count": 40,
   "id": "6c4e83cf",
   "metadata": {},
   "outputs": [],
   "source": [
    "test_data = [get_data(data_dir, \"elliptic\", i) for i in range(34,39)]\n",
    "test_loader = DataLoader(dataset=test_data, batch_size=1, shuffle=False)"
   ]
  },
  {
   "cell_type": "code",
   "execution_count": 41,
   "id": "3f318972",
   "metadata": {
    "scrolled": true
   },
   "outputs": [
    {
     "name": "stdout",
     "output_type": "stream",
     "text": [
      "Test Loss: 1.7673, Test F1: 0.3215\n"
     ]
    }
   ],
   "source": [
    "test_loss, test_f1 = test(encoder_29_34, mlp_29_34, test_loader, loss_fn, device)\n",
    "f1_list.append(test_f1)\n",
    "print(f\"Test Loss: {round(test_loss,4)}, Test F1: {round(test_f1,4)}\")"
   ]
  },
  {
   "cell_type": "code",
   "execution_count": 42,
   "id": "9850eea1",
   "metadata": {
    "scrolled": true
   },
   "outputs": [
    {
     "name": "stderr",
     "output_type": "stream",
     "text": [
      "100%|███████████████████████████████████████████████████████████████████████████████████████████████████████████████████| 5/5 [00:01<00:00,  2.67it/s]\n",
      "100%|███████████████████████████████████████████████████████████████████████████████████████████████████████████████████| 2/2 [00:00<00:00, 14.89it/s]\n"
     ]
    },
    {
     "name": "stdout",
     "output_type": "stream",
     "text": [
      "Epoch 1/1000 Train Total Loss: 0.038 Train Src Cls Loss: 0.014 Train Tgt Transfer Loss: 0.239 \n",
      " Val Total Loss: 0.284 Val Src Cls Loss: 0.251 Val Tgt Transfer Loss: 0.33\n"
     ]
    },
    {
     "name": "stderr",
     "output_type": "stream",
     "text": [
      "100%|███████████████████████████████████████████████████████████████████████████████████████████████████████████████████| 5/5 [00:00<00:00,  6.55it/s]\n",
      "100%|███████████████████████████████████████████████████████████████████████████████████████████████████████████████████| 2/2 [00:00<00:00, 31.31it/s]\n"
     ]
    },
    {
     "name": "stdout",
     "output_type": "stream",
     "text": [
      "Epoch 2/1000 Train Total Loss: 0.04 Train Src Cls Loss: 0.015 Train Tgt Transfer Loss: 0.243 \n",
      " Val Total Loss: 0.279 Val Src Cls Loss: 0.253 Val Tgt Transfer Loss: 0.262\n"
     ]
    },
    {
     "name": "stderr",
     "output_type": "stream",
     "text": [
      "100%|███████████████████████████████████████████████████████████████████████████████████████████████████████████████████| 5/5 [00:00<00:00,  5.91it/s]\n",
      "100%|███████████████████████████████████████████████████████████████████████████████████████████████████████████████████| 2/2 [00:00<00:00, 30.66it/s]\n"
     ]
    },
    {
     "name": "stdout",
     "output_type": "stream",
     "text": [
      "Epoch 3/1000 Train Total Loss: 0.028 Train Src Cls Loss: 0.012 Train Tgt Transfer Loss: 0.156 \n",
      " Val Total Loss: 0.293 Val Src Cls Loss: 0.272 Val Tgt Transfer Loss: 0.213\n"
     ]
    },
    {
     "name": "stderr",
     "output_type": "stream",
     "text": [
      "100%|███████████████████████████████████████████████████████████████████████████████████████████████████████████████████| 5/5 [00:00<00:00,  5.91it/s]\n",
      "100%|███████████████████████████████████████████████████████████████████████████████████████████████████████████████████| 2/2 [00:00<00:00, 31.25it/s]\n"
     ]
    },
    {
     "name": "stdout",
     "output_type": "stream",
     "text": [
      "Epoch 4/1000 Train Total Loss: 0.028 Train Src Cls Loss: 0.019 Train Tgt Transfer Loss: 0.09 \n",
      " Val Total Loss: 0.296 Val Src Cls Loss: 0.278 Val Tgt Transfer Loss: 0.187\n"
     ]
    },
    {
     "name": "stderr",
     "output_type": "stream",
     "text": [
      "100%|███████████████████████████████████████████████████████████████████████████████████████████████████████████████████| 5/5 [00:00<00:00,  6.10it/s]\n",
      "100%|███████████████████████████████████████████████████████████████████████████████████████████████████████████████████| 2/2 [00:00<00:00, 31.75it/s]\n"
     ]
    },
    {
     "name": "stdout",
     "output_type": "stream",
     "text": [
      "Epoch 5/1000 Train Total Loss: 0.026 Train Src Cls Loss: 0.015 Train Tgt Transfer Loss: 0.106 \n",
      " Val Total Loss: 0.286 Val Src Cls Loss: 0.267 Val Tgt Transfer Loss: 0.193\n"
     ]
    },
    {
     "name": "stderr",
     "output_type": "stream",
     "text": [
      "100%|███████████████████████████████████████████████████████████████████████████████████████████████████████████████████| 5/5 [00:00<00:00,  5.66it/s]\n",
      "100%|███████████████████████████████████████████████████████████████████████████████████████████████████████████████████| 2/2 [00:00<00:00, 31.55it/s]\n"
     ]
    },
    {
     "name": "stdout",
     "output_type": "stream",
     "text": [
      "Epoch 6/1000 Train Total Loss: 0.021 Train Src Cls Loss: 0.013 Train Tgt Transfer Loss: 0.077 \n",
      " Val Total Loss: 0.303 Val Src Cls Loss: 0.284 Val Tgt Transfer Loss: 0.185\n"
     ]
    },
    {
     "name": "stderr",
     "output_type": "stream",
     "text": [
      "100%|███████████████████████████████████████████████████████████████████████████████████████████████████████████████████| 5/5 [00:00<00:00,  5.90it/s]\n",
      "100%|███████████████████████████████████████████████████████████████████████████████████████████████████████████████████| 2/2 [00:00<00:00, 28.16it/s]\n"
     ]
    },
    {
     "name": "stdout",
     "output_type": "stream",
     "text": [
      "Epoch 7/1000 Train Total Loss: 0.022 Train Src Cls Loss: 0.015 Train Tgt Transfer Loss: 0.063 \n",
      " Val Total Loss: 0.287 Val Src Cls Loss: 0.271 Val Tgt Transfer Loss: 0.153\n"
     ]
    },
    {
     "name": "stderr",
     "output_type": "stream",
     "text": [
      "100%|███████████████████████████████████████████████████████████████████████████████████████████████████████████████████| 5/5 [00:00<00:00,  5.87it/s]\n",
      "100%|███████████████████████████████████████████████████████████████████████████████████████████████████████████████████| 2/2 [00:00<00:00, 30.65it/s]\n"
     ]
    },
    {
     "name": "stdout",
     "output_type": "stream",
     "text": [
      "Epoch 8/1000 Train Total Loss: 0.02 Train Src Cls Loss: 0.015 Train Tgt Transfer Loss: 0.052 \n",
      " Val Total Loss: 0.293 Val Src Cls Loss: 0.28 Val Tgt Transfer Loss: 0.132\n"
     ]
    },
    {
     "name": "stderr",
     "output_type": "stream",
     "text": [
      "100%|███████████████████████████████████████████████████████████████████████████████████████████████████████████████████| 5/5 [00:00<00:00,  6.14it/s]\n",
      "100%|███████████████████████████████████████████████████████████████████████████████████████████████████████████████████| 2/2 [00:00<00:00, 32.29it/s]\n"
     ]
    },
    {
     "name": "stdout",
     "output_type": "stream",
     "text": [
      "Epoch 9/1000 Train Total Loss: 0.019 Train Src Cls Loss: 0.011 Train Tgt Transfer Loss: 0.074 \n",
      " Val Total Loss: 0.288 Val Src Cls Loss: 0.271 Val Tgt Transfer Loss: 0.17\n"
     ]
    },
    {
     "name": "stderr",
     "output_type": "stream",
     "text": [
      "100%|███████████████████████████████████████████████████████████████████████████████████████████████████████████████████| 5/5 [00:00<00:00,  6.25it/s]\n",
      "100%|███████████████████████████████████████████████████████████████████████████████████████████████████████████████████| 2/2 [00:00<00:00, 31.75it/s]\n"
     ]
    },
    {
     "name": "stdout",
     "output_type": "stream",
     "text": [
      "Epoch 10/1000 Train Total Loss: 0.021 Train Src Cls Loss: 0.013 Train Tgt Transfer Loss: 0.074 \n",
      " Val Total Loss: 0.309 Val Src Cls Loss: 0.295 Val Tgt Transfer Loss: 0.139\n"
     ]
    },
    {
     "name": "stderr",
     "output_type": "stream",
     "text": [
      "100%|███████████████████████████████████████████████████████████████████████████████████████████████████████████████████| 5/5 [00:00<00:00,  6.10it/s]\n",
      "100%|███████████████████████████████████████████████████████████████████████████████████████████████████████████████████| 2/2 [00:00<00:00, 32.07it/s]\n"
     ]
    },
    {
     "name": "stdout",
     "output_type": "stream",
     "text": [
      "Epoch 11/1000 Train Total Loss: 0.021 Train Src Cls Loss: 0.015 Train Tgt Transfer Loss: 0.06 \n",
      " Val Total Loss: 0.302 Val Src Cls Loss: 0.287 Val Tgt Transfer Loss: 0.15\n"
     ]
    },
    {
     "name": "stderr",
     "output_type": "stream",
     "text": [
      "100%|███████████████████████████████████████████████████████████████████████████████████████████████████████████████████| 5/5 [00:00<00:00,  6.07it/s]\n",
      "100%|███████████████████████████████████████████████████████████████████████████████████████████████████████████████████| 2/2 [00:00<00:00, 31.79it/s]\n"
     ]
    },
    {
     "name": "stdout",
     "output_type": "stream",
     "text": [
      "Epoch 12/1000 Train Total Loss: 0.019 Train Src Cls Loss: 0.014 Train Tgt Transfer Loss: 0.046 \n",
      " Val Total Loss: 0.301 Val Src Cls Loss: 0.288 Val Tgt Transfer Loss: 0.127\n"
     ]
    },
    {
     "name": "stderr",
     "output_type": "stream",
     "text": [
      "100%|███████████████████████████████████████████████████████████████████████████████████████████████████████████████████| 5/5 [00:00<00:00,  5.81it/s]\n",
      "100%|███████████████████████████████████████████████████████████████████████████████████████████████████████████████████| 2/2 [00:00<00:00, 32.26it/s]"
     ]
    },
    {
     "name": "stdout",
     "output_type": "stream",
     "text": [
      "Epoch 13/1000 Train Total Loss: 0.018 Train Src Cls Loss: 0.013 Train Tgt Transfer Loss: 0.052 \n",
      " Val Total Loss: 0.308 Val Src Cls Loss: 0.295 Val Tgt Transfer Loss: 0.125\n"
     ]
    },
    {
     "name": "stderr",
     "output_type": "stream",
     "text": [
      "\n"
     ]
    }
   ],
   "source": [
    "encoder_34_39, mlp_34_39, best_val_loss, best_val_cls_loss, best_val_transfer_loss = continual_adapt([32,37,39], train_loader, val_loader, encoder_29_34, mlp_29_34, device, lambda_coeff=lambda_coeff, lr=lr)"
   ]
  },
  {
   "cell_type": "code",
   "execution_count": 43,
   "id": "443516ba",
   "metadata": {
    "scrolled": false
   },
   "outputs": [
    {
     "name": "stdout",
     "output_type": "stream",
     "text": [
      "Total Val Loss: 0.279, Val Cls Loss: 0.253, Val Transfer Loss: 0.262\n"
     ]
    }
   ],
   "source": [
    "print(f'Total Val Loss: {round(best_val_loss, 3)}, Val Cls Loss: {round(best_val_cls_loss, 3)}, Val Transfer Loss: {round(best_val_transfer_loss, 3)}')"
   ]
  },
  {
   "cell_type": "markdown",
   "id": "a2cdc8a9",
   "metadata": {},
   "source": [
    "### 39-43 ###"
   ]
  },
  {
   "cell_type": "code",
   "execution_count": 44,
   "id": "31c5db56",
   "metadata": {},
   "outputs": [],
   "source": [
    "test_data = [get_data(data_dir, \"elliptic\", i) for i in range(39,44)]\n",
    "test_loader = DataLoader(dataset=test_data, batch_size=1, shuffle=False)"
   ]
  },
  {
   "cell_type": "code",
   "execution_count": 45,
   "id": "d838a3d9",
   "metadata": {
    "scrolled": true
   },
   "outputs": [
    {
     "name": "stdout",
     "output_type": "stream",
     "text": [
      "Test Loss: 3.1642, Test F1: 0.1401\n"
     ]
    }
   ],
   "source": [
    "test_loss, test_f1 = test(encoder_34_39, mlp_34_39, test_loader, loss_fn, device)\n",
    "f1_list.append(test_f1)\n",
    "print(f\"Test Loss: {round(test_loss,4)}, Test F1: {round(test_f1,4)}\")"
   ]
  },
  {
   "cell_type": "code",
   "execution_count": 46,
   "id": "d0903e1b",
   "metadata": {
    "scrolled": true
   },
   "outputs": [
    {
     "name": "stderr",
     "output_type": "stream",
     "text": [
      "100%|███████████████████████████████████████████████████████████████████████████████████████████████████████████████████| 5/5 [00:01<00:00,  2.71it/s]\n",
      "100%|███████████████████████████████████████████████████████████████████████████████████████████████████████████████████| 2/2 [00:00<00:00, 21.48it/s]\n"
     ]
    },
    {
     "name": "stdout",
     "output_type": "stream",
     "text": [
      "Epoch 1/1000 Train Total Loss: 0.051 Train Src Cls Loss: 0.014 Train Tgt Transfer Loss: 0.373 \n",
      " Val Total Loss: 0.269 Val Src Cls Loss: 0.257 Val Tgt Transfer Loss: 0.12\n"
     ]
    },
    {
     "name": "stderr",
     "output_type": "stream",
     "text": [
      "100%|███████████████████████████████████████████████████████████████████████████████████████████████████████████████████| 5/5 [00:00<00:00,  5.80it/s]\n",
      "100%|███████████████████████████████████████████████████████████████████████████████████████████████████████████████████| 2/2 [00:00<00:00, 12.38it/s]\n"
     ]
    },
    {
     "name": "stdout",
     "output_type": "stream",
     "text": [
      "Epoch 2/1000 Train Total Loss: 0.046 Train Src Cls Loss: 0.018 Train Tgt Transfer Loss: 0.272 \n",
      " Val Total Loss: 0.286 Val Src Cls Loss: 0.276 Val Tgt Transfer Loss: 0.098\n"
     ]
    },
    {
     "name": "stderr",
     "output_type": "stream",
     "text": [
      "100%|███████████████████████████████████████████████████████████████████████████████████████████████████████████████████| 5/5 [00:00<00:00,  6.32it/s]\n",
      "100%|███████████████████████████████████████████████████████████████████████████████████████████████████████████████████| 2/2 [00:00<00:00, 12.41it/s]\n"
     ]
    },
    {
     "name": "stdout",
     "output_type": "stream",
     "text": [
      "Epoch 3/1000 Train Total Loss: 0.037 Train Src Cls Loss: 0.016 Train Tgt Transfer Loss: 0.214 \n",
      " Val Total Loss: 0.274 Val Src Cls Loss: 0.266 Val Tgt Transfer Loss: 0.079\n"
     ]
    },
    {
     "name": "stderr",
     "output_type": "stream",
     "text": [
      "100%|███████████████████████████████████████████████████████████████████████████████████████████████████████████████████| 5/5 [00:00<00:00,  6.68it/s]\n",
      "100%|███████████████████████████████████████████████████████████████████████████████████████████████████████████████████| 2/2 [00:00<00:00, 12.22it/s]\n"
     ]
    },
    {
     "name": "stdout",
     "output_type": "stream",
     "text": [
      "Epoch 4/1000 Train Total Loss: 0.036 Train Src Cls Loss: 0.019 Train Tgt Transfer Loss: 0.173 \n",
      " Val Total Loss: 0.276 Val Src Cls Loss: 0.269 Val Tgt Transfer Loss: 0.078\n"
     ]
    },
    {
     "name": "stderr",
     "output_type": "stream",
     "text": [
      "100%|███████████████████████████████████████████████████████████████████████████████████████████████████████████████████| 5/5 [00:00<00:00,  6.65it/s]\n",
      "100%|███████████████████████████████████████████████████████████████████████████████████████████████████████████████████| 2/2 [00:00<00:00, 12.62it/s]\n"
     ]
    },
    {
     "name": "stdout",
     "output_type": "stream",
     "text": [
      "Epoch 5/1000 Train Total Loss: 0.03 Train Src Cls Loss: 0.016 Train Tgt Transfer Loss: 0.143 \n",
      " Val Total Loss: 0.28 Val Src Cls Loss: 0.274 Val Tgt Transfer Loss: 0.061\n"
     ]
    },
    {
     "name": "stderr",
     "output_type": "stream",
     "text": [
      "100%|███████████████████████████████████████████████████████████████████████████████████████████████████████████████████| 5/5 [00:00<00:00,  5.92it/s]\n",
      "100%|███████████████████████████████████████████████████████████████████████████████████████████████████████████████████| 2/2 [00:00<00:00, 22.01it/s]\n"
     ]
    },
    {
     "name": "stdout",
     "output_type": "stream",
     "text": [
      "Epoch 6/1000 Train Total Loss: 0.029 Train Src Cls Loss: 0.016 Train Tgt Transfer Loss: 0.132 \n",
      " Val Total Loss: 0.278 Val Src Cls Loss: 0.271 Val Tgt Transfer Loss: 0.061\n"
     ]
    },
    {
     "name": "stderr",
     "output_type": "stream",
     "text": [
      "100%|███████████████████████████████████████████████████████████████████████████████████████████████████████████████████| 5/5 [00:00<00:00,  6.02it/s]\n",
      "100%|███████████████████████████████████████████████████████████████████████████████████████████████████████████████████| 2/2 [00:00<00:00, 21.94it/s]\n"
     ]
    },
    {
     "name": "stdout",
     "output_type": "stream",
     "text": [
      "Epoch 7/1000 Train Total Loss: 0.026 Train Src Cls Loss: 0.017 Train Tgt Transfer Loss: 0.094 \n",
      " Val Total Loss: 0.288 Val Src Cls Loss: 0.282 Val Tgt Transfer Loss: 0.059\n"
     ]
    },
    {
     "name": "stderr",
     "output_type": "stream",
     "text": [
      "100%|███████████████████████████████████████████████████████████████████████████████████████████████████████████████████| 5/5 [00:00<00:00,  5.87it/s]\n",
      "100%|███████████████████████████████████████████████████████████████████████████████████████████████████████████████████| 2/2 [00:00<00:00, 12.32it/s]\n"
     ]
    },
    {
     "name": "stdout",
     "output_type": "stream",
     "text": [
      "Epoch 8/1000 Train Total Loss: 0.025 Train Src Cls Loss: 0.015 Train Tgt Transfer Loss: 0.1 \n",
      " Val Total Loss: 0.269 Val Src Cls Loss: 0.263 Val Tgt Transfer Loss: 0.056\n"
     ]
    },
    {
     "name": "stderr",
     "output_type": "stream",
     "text": [
      "100%|███████████████████████████████████████████████████████████████████████████████████████████████████████████████████| 5/5 [00:00<00:00,  6.13it/s]\n",
      "100%|███████████████████████████████████████████████████████████████████████████████████████████████████████████████████| 2/2 [00:00<00:00, 12.29it/s]\n"
     ]
    },
    {
     "name": "stdout",
     "output_type": "stream",
     "text": [
      "Epoch 9/1000 Train Total Loss: 0.026 Train Src Cls Loss: 0.017 Train Tgt Transfer Loss: 0.087 \n",
      " Val Total Loss: 0.294 Val Src Cls Loss: 0.288 Val Tgt Transfer Loss: 0.057\n"
     ]
    },
    {
     "name": "stderr",
     "output_type": "stream",
     "text": [
      "100%|███████████████████████████████████████████████████████████████████████████████████████████████████████████████████| 5/5 [00:00<00:00,  6.66it/s]\n",
      "100%|███████████████████████████████████████████████████████████████████████████████████████████████████████████████████| 2/2 [00:00<00:00, 12.24it/s]\n"
     ]
    },
    {
     "name": "stdout",
     "output_type": "stream",
     "text": [
      "Epoch 10/1000 Train Total Loss: 0.025 Train Src Cls Loss: 0.017 Train Tgt Transfer Loss: 0.081 \n",
      " Val Total Loss: 0.303 Val Src Cls Loss: 0.298 Val Tgt Transfer Loss: 0.051\n"
     ]
    },
    {
     "name": "stderr",
     "output_type": "stream",
     "text": [
      "100%|███████████████████████████████████████████████████████████████████████████████████████████████████████████████████| 5/5 [00:00<00:00,  6.21it/s]\n",
      "100%|███████████████████████████████████████████████████████████████████████████████████████████████████████████████████| 2/2 [00:00<00:00, 12.53it/s]\n"
     ]
    },
    {
     "name": "stdout",
     "output_type": "stream",
     "text": [
      "Epoch 11/1000 Train Total Loss: 0.024 Train Src Cls Loss: 0.017 Train Tgt Transfer Loss: 0.071 \n",
      " Val Total Loss: 0.298 Val Src Cls Loss: 0.294 Val Tgt Transfer Loss: 0.046\n"
     ]
    },
    {
     "name": "stderr",
     "output_type": "stream",
     "text": [
      "100%|███████████████████████████████████████████████████████████████████████████████████████████████████████████████████| 5/5 [00:00<00:00,  5.83it/s]\n",
      "100%|███████████████████████████████████████████████████████████████████████████████████████████████████████████████████| 2/2 [00:00<00:00, 21.64it/s]\n"
     ]
    },
    {
     "name": "stdout",
     "output_type": "stream",
     "text": [
      "Epoch 12/1000 Train Total Loss: 0.021 Train Src Cls Loss: 0.014 Train Tgt Transfer Loss: 0.067 \n",
      " Val Total Loss: 0.285 Val Src Cls Loss: 0.28 Val Tgt Transfer Loss: 0.049\n"
     ]
    },
    {
     "name": "stderr",
     "output_type": "stream",
     "text": [
      "100%|███████████████████████████████████████████████████████████████████████████████████████████████████████████████████| 5/5 [00:00<00:00,  5.71it/s]\n",
      "100%|███████████████████████████████████████████████████████████████████████████████████████████████████████████████████| 2/2 [00:00<00:00, 12.30it/s]\n"
     ]
    },
    {
     "name": "stdout",
     "output_type": "stream",
     "text": [
      "Epoch 13/1000 Train Total Loss: 0.024 Train Src Cls Loss: 0.018 Train Tgt Transfer Loss: 0.06 \n",
      " Val Total Loss: 0.278 Val Src Cls Loss: 0.274 Val Tgt Transfer Loss: 0.047\n"
     ]
    },
    {
     "name": "stderr",
     "output_type": "stream",
     "text": [
      "100%|███████████████████████████████████████████████████████████████████████████████████████████████████████████████████| 5/5 [00:00<00:00,  6.31it/s]\n",
      "100%|███████████████████████████████████████████████████████████████████████████████████████████████████████████████████| 2/2 [00:00<00:00, 12.15it/s]\n"
     ]
    },
    {
     "name": "stdout",
     "output_type": "stream",
     "text": [
      "Epoch 14/1000 Train Total Loss: 0.019 Train Src Cls Loss: 0.013 Train Tgt Transfer Loss: 0.063 \n",
      " Val Total Loss: 0.3 Val Src Cls Loss: 0.296 Val Tgt Transfer Loss: 0.043\n"
     ]
    },
    {
     "name": "stderr",
     "output_type": "stream",
     "text": [
      "100%|███████████████████████████████████████████████████████████████████████████████████████████████████████████████████| 5/5 [00:00<00:00,  6.40it/s]\n",
      "100%|███████████████████████████████████████████████████████████████████████████████████████████████████████████████████| 2/2 [00:00<00:00, 12.48it/s]\n"
     ]
    },
    {
     "name": "stdout",
     "output_type": "stream",
     "text": [
      "Epoch 15/1000 Train Total Loss: 0.018 Train Src Cls Loss: 0.011 Train Tgt Transfer Loss: 0.072 \n",
      " Val Total Loss: 0.306 Val Src Cls Loss: 0.301 Val Tgt Transfer Loss: 0.042\n"
     ]
    },
    {
     "name": "stderr",
     "output_type": "stream",
     "text": [
      "100%|███████████████████████████████████████████████████████████████████████████████████████████████████████████████████| 5/5 [00:00<00:00,  5.85it/s]\n",
      "100%|███████████████████████████████████████████████████████████████████████████████████████████████████████████████████| 2/2 [00:00<00:00, 21.52it/s]\n"
     ]
    },
    {
     "name": "stdout",
     "output_type": "stream",
     "text": [
      "Epoch 16/1000 Train Total Loss: 0.024 Train Src Cls Loss: 0.017 Train Tgt Transfer Loss: 0.073 \n",
      " Val Total Loss: 0.312 Val Src Cls Loss: 0.308 Val Tgt Transfer Loss: 0.044\n"
     ]
    },
    {
     "name": "stderr",
     "output_type": "stream",
     "text": [
      "100%|███████████████████████████████████████████████████████████████████████████████████████████████████████████████████| 5/5 [00:00<00:00,  5.63it/s]\n",
      "100%|███████████████████████████████████████████████████████████████████████████████████████████████████████████████████| 2/2 [00:00<00:00, 21.17it/s]\n"
     ]
    },
    {
     "name": "stdout",
     "output_type": "stream",
     "text": [
      "Epoch 17/1000 Train Total Loss: 0.018 Train Src Cls Loss: 0.013 Train Tgt Transfer Loss: 0.057 \n",
      " Val Total Loss: 0.294 Val Src Cls Loss: 0.29 Val Tgt Transfer Loss: 0.043\n"
     ]
    },
    {
     "name": "stderr",
     "output_type": "stream",
     "text": [
      "100%|███████████████████████████████████████████████████████████████████████████████████████████████████████████████████| 5/5 [00:00<00:00,  5.73it/s]\n",
      "100%|███████████████████████████████████████████████████████████████████████████████████████████████████████████████████| 2/2 [00:00<00:00, 12.33it/s]\n"
     ]
    },
    {
     "name": "stdout",
     "output_type": "stream",
     "text": [
      "Epoch 18/1000 Train Total Loss: 0.022 Train Src Cls Loss: 0.016 Train Tgt Transfer Loss: 0.061 \n",
      " Val Total Loss: 0.309 Val Src Cls Loss: 0.304 Val Tgt Transfer Loss: 0.047\n"
     ]
    },
    {
     "name": "stderr",
     "output_type": "stream",
     "text": [
      "100%|███████████████████████████████████████████████████████████████████████████████████████████████████████████████████| 5/5 [00:00<00:00,  6.23it/s]\n",
      "100%|███████████████████████████████████████████████████████████████████████████████████████████████████████████████████| 2/2 [00:00<00:00, 12.08it/s]"
     ]
    },
    {
     "name": "stdout",
     "output_type": "stream",
     "text": [
      "Epoch 19/1000 Train Total Loss: 0.021 Train Src Cls Loss: 0.017 Train Tgt Transfer Loss: 0.041 \n",
      " Val Total Loss: 0.308 Val Src Cls Loss: 0.303 Val Tgt Transfer Loss: 0.042\n"
     ]
    },
    {
     "name": "stderr",
     "output_type": "stream",
     "text": [
      "\n"
     ]
    }
   ],
   "source": [
    "encoder_39_44, mlp_39_44, best_val_loss, best_val_cls_loss, best_val_transfer_loss = continual_adapt([37,42,44], train_loader, val_loader, encoder_34_39, mlp_34_39, device, lambda_coeff=lambda_coeff, lr=lr)"
   ]
  },
  {
   "cell_type": "code",
   "execution_count": 47,
   "id": "cc790160",
   "metadata": {
    "scrolled": false
   },
   "outputs": [
    {
     "name": "stdout",
     "output_type": "stream",
     "text": [
      "Total Val Loss: 0.269, Val Cls Loss: 0.263, Val Transfer Loss: 0.056\n"
     ]
    }
   ],
   "source": [
    "print(f'Total Val Loss: {round(best_val_loss, 3)}, Val Cls Loss: {round(best_val_cls_loss, 3)}, Val Transfer Loss: {round(best_val_transfer_loss, 3)}')"
   ]
  },
  {
   "cell_type": "markdown",
   "id": "6d27ea87",
   "metadata": {},
   "source": [
    "### 44-48 ###"
   ]
  },
  {
   "cell_type": "code",
   "execution_count": 48,
   "id": "42abac66",
   "metadata": {},
   "outputs": [],
   "source": [
    "test_data = [get_data(data_dir, \"elliptic\", i) for i in range(44,49)]\n",
    "test_loader = DataLoader(dataset=test_data, batch_size=1, shuffle=False)"
   ]
  },
  {
   "cell_type": "code",
   "execution_count": 49,
   "id": "94b732a4",
   "metadata": {
    "scrolled": true
   },
   "outputs": [
    {
     "name": "stdout",
     "output_type": "stream",
     "text": [
      "Test Loss: 1.2132, Test F1: 0.1149\n"
     ]
    }
   ],
   "source": [
    "test_loss, test_f1 = test(encoder_39_44, mlp_39_44, test_loader, loss_fn, device)\n",
    "f1_list.append(test_f1)\n",
    "print(f\"Test Loss: {round(test_loss,4)}, Test F1: {round(test_f1,4)}\")"
   ]
  },
  {
   "cell_type": "code",
   "execution_count": null,
   "id": "c280f42f",
   "metadata": {},
   "outputs": [],
   "source": []
  },
  {
   "cell_type": "code",
   "execution_count": 50,
   "id": "1114b8f3",
   "metadata": {
    "scrolled": true
   },
   "outputs": [
    {
     "data": {
      "text/plain": [
       "0.4630249896219412"
      ]
     },
     "execution_count": 50,
     "metadata": {},
     "output_type": "execute_result"
    }
   ],
   "source": [
    "sum(f1_list) / len(f1_list)"
   ]
  },
  {
   "cell_type": "code",
   "execution_count": null,
   "id": "0468ab04",
   "metadata": {},
   "outputs": [],
   "source": []
  }
 ],
 "metadata": {
  "kernelspec": {
   "display_name": "Python 3 (ipykernel)",
   "language": "python",
   "name": "python3"
  },
  "language_info": {
   "codemirror_mode": {
    "name": "ipython",
    "version": 3
   },
   "file_extension": ".py",
   "mimetype": "text/x-python",
   "name": "python",
   "nbconvert_exporter": "python",
   "pygments_lexer": "ipython3",
   "version": "3.8.0"
  }
 },
 "nbformat": 4,
 "nbformat_minor": 5
}
